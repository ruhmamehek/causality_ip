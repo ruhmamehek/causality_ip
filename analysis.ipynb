{
 "cells": [
  {
   "cell_type": "code",
   "execution_count": 1,
   "id": "98addf26",
   "metadata": {},
   "outputs": [],
   "source": [
    "# !pip install pyAgrum\n",
    "# !pip install pydotplus\n",
    "\n",
    "import glob\n",
    "import pickle\n",
    "import pandas as pd\n",
    "import numpy as np\n",
    "# import bnlearn as bn\n",
    "import pickle\n",
    "%matplotlib inline\n",
    "from pylab import *\n",
    "import matplotlib.pyplot as plt\n",
    "import os\n",
    "import pyAgrum as gum\n",
    "import pyAgrum.lib.notebook as gnb\n",
    "import pyAgrum.lib.explain as explain\n",
    "from tqdm import tqdm\n",
    "import random\n",
    "from random import randint\n",
    "import itertools\n",
    "from sklearn.ensemble import RandomForestClassifier\n",
    "from sklearn. model_selection import train_test_split\n",
    "from sklearn.metrics import accuracy_score\n",
    "from sklearn.metrics import classification_report\n",
    "import networkx as nx\n",
    "import math\n",
    "import pyAgrum.causal as cls"
   ]
  },
  {
   "cell_type": "code",
   "execution_count": 2,
   "id": "7689de6a",
   "metadata": {},
   "outputs": [],
   "source": [
    "# files =  ['asia_ccdr','asia_lingam', 'asia_notears', 'asia_nobears']\n",
    "thresh = 0.5\n",
    "\n"
   ]
  },
  {
   "cell_type": "code",
   "execution_count": 3,
   "id": "e7489528",
   "metadata": {},
   "outputs": [],
   "source": [
    "##helper funcs\n",
    "# def save_bool(dataset_name, replace, vals,noisy=False):\n",
    "#     if noisy==False:\n",
    "#         df = pd.read_csv(f\"Datasets/{dataset_name}.csv\")\n",
    "#         df = df.replace(to_replace = replace ,value = vals)\n",
    "#         df.to_csv(f\"Datasets/{dataset_name}_bool.csv\")\n",
    "#     else:\n",
    "#         df = pd.read_csv(f\"Noisy_Datasets/{dataset_name}.csv\")\n",
    "#         df = df.replace(to_replace = replace ,value = vals)\n",
    "#         df.to_csv(f\"Noisy_Datasets/{dataset_name}_bool.csv\")\n",
    "    \n",
    "def random_exclude(df, exclude):\n",
    "#     print(exclude)\n",
    "    exclude = set(exclude)\n",
    "    randInt = randint(0, len(df.columns)-1)\n",
    "    while randInt in exclude:\n",
    "        randInt = randint(0, len(df.columns)-1) \n",
    "    if randInt in exclude:\n",
    "        print(randInt)\n",
    "    return randInt "
   ]
  },
  {
   "cell_type": "code",
   "execution_count": 4,
   "id": "23b50caf",
   "metadata": {},
   "outputs": [],
   "source": [
    "def get_adjmats(dataset_name):\n",
    "    fpaths = (glob.glob(f\"adj_mats/{dataset_name}*.csv\")) \n",
    "    fnames = [i.split('/')[-1].split('.')[0] for i in fpaths]\n",
    "    return fnames"
   ]
  },
  {
   "cell_type": "code",
   "execution_count": 18,
   "id": "90eca9b8",
   "metadata": {},
   "outputs": [],
   "source": [
    "\n",
    "def get_nodnames(dataset_name):\n",
    "    df = pd.read_csv(f\"../Datasets/{dataset_name}.csv\")\n",
    "    nod_names = list(df.columns)\n",
    "    return nod_names"
   ]
  },
  {
   "cell_type": "code",
   "execution_count": 6,
   "id": "605218ee",
   "metadata": {},
   "outputs": [],
   "source": [
    "def add_noise(dataset_name,num_disc,p_entry=0.1,p_node=0.3):\n",
    "    df = pd.read_csv(f\"Datasets/{dataset_name}.csv\")\n",
    "    for i in range(df.shape[0]):\n",
    "#         1/p_entry if p_entry!=0 else  \n",
    "        r1 = random.random()\n",
    "        #First Decide if u want that row or not\n",
    "        if r1<=p_entry:\n",
    "            #Now for this entry make a node array\n",
    "            rand_nodes_array=np.random.rand(df.shape[1])\n",
    "            rand_nodes_array_boolean = rand_nodes_array<p_node\n",
    "            if num_disc==2:\n",
    "                for j in range(len(rand_nodes_array_boolean)):\n",
    "                    if rand_nodes_array_boolean[j]==True:\n",
    "                        1 if df.iloc[i][j]==0 else 0\n",
    "            if num_disc==3:\n",
    "                for j in range(len(rand_nodes_array_boolean)):\n",
    "                    if rand_nodes_array_boolean[j]==True:\n",
    "                        nod_dic={0:[1,2],1:[0,2],2:[0,1]}\n",
    "                        rand_value=random.random()\n",
    "                        if rand_value<0.5:\n",
    "                            df.iloc[i][j]= nod_dic[df.iloc[i][j]][0]\n",
    "                        else:\n",
    "                            df.iloc[i][j]= nod_dic[df.iloc[i][j]][1]\n",
    "    \n",
    "    df.to_csv(f\"Noisy_Datasets/{dataset_name}.csv\")\n",
    "    return df\n",
    "                    \n"
   ]
  },
  {
   "cell_type": "code",
   "execution_count": 7,
   "id": "7ea42ee5",
   "metadata": {},
   "outputs": [],
   "source": [
    "def build_bns(fnames, nod_names, num_disc, drop_nodes=[], dropped=False,noisy=False):  \n",
    "\n",
    "    learned_bns = {}\n",
    "    Graphs = {}\n",
    "    \n",
    "    for fname in fnames :\n",
    "        try:\n",
    "            bn = gum.BayesNet(fname)\n",
    "            if dropped:\n",
    "                df = pd.read_csv(f\"adj_mats/dropped_{fname}.csv\")\n",
    "            else:\n",
    "                df = pd.read_csv(f\"adj_mats/{fname}.csv\")\n",
    "            df = df.reset_index()\n",
    "            df = df[list(df.columns[1:])]\n",
    "            df = df.set_index(df.columns[0])\n",
    "            dict_ = df.to_dict()\n",
    "                \n",
    "            adj_mat = {}\n",
    "            for n1 in dict_:\n",
    "                adj_mat[n1] = {}\n",
    "                for n2 in dict_[n1]:\n",
    "                    if dict_[n1][n2] >=thresh:\n",
    "                        adj_mat[n1][n2] =1\n",
    "                    elif dict_[n1][n2] <=-thresh:\n",
    "                        adj_mat[n1][n2] =-1\n",
    "                    else:\n",
    "                        adj_mat[n1][n2] = 0\n",
    "                                  \n",
    "            nod_names = list(adj_mat.keys()) \n",
    "            dataset_name = fname.split('_')[0]\n",
    "            data = pd.read_csv(f\"Datasets/{dataset_name}.csv\")\n",
    "\n",
    "            variables = [ bn.add(name, len(pd.unique(data[name]))) for name in nod_names]\n",
    "\n",
    "            G = nx.DiGraph()\n",
    "            for i in nod_names:\n",
    "                G.add_node(i)\n",
    "                \n",
    "            for i in adj_mat:\n",
    "                for j in adj_mat[i]:\n",
    "                    if adj_mat[i][j]==1:\n",
    "                        bn.addArc(i, j)\n",
    "                        G.add_edge(i, j)\n",
    "                    elif adj_mat[i][j]==-1:\n",
    "                        bn.addArc(j, i)\n",
    "                        G.add_edge(j, i)\n",
    "                        \n",
    "            if dropped:\n",
    "                plt.savefig(f\"networkx/dropped_{fname}.png\", dpi=300, bbox_inches='tight')\n",
    "                nx.write_gexf(G,f\"networkx/dropped_{fname}.gexf\")\n",
    "            else:\n",
    "                nx.draw(G, with_labels=True)\n",
    "                plt.show()\n",
    "                plt.savefig(f\"networkx/{fname}.png\", dpi=300, bbox_inches='tight')\n",
    "                nx.write_gexf(G,f\"networkx/{fname}.gexf\")\n",
    "            \n",
    "            if dropped:\n",
    "                df = pd.read_csv(f\"Datasets/{dataset_name}.csv\")\n",
    "                for i in drop_nodes:\n",
    "                    df.drop(nod_names[i], axis = 1)\n",
    "                df.to_csv(f\"temp/{dataset_name}_dropped.csv\")\n",
    "                learner=gum.BNLearner(f\"temp/{dataset_name}_dropped.csv\",  bn) #using bn as template for variables and labels\n",
    "                learner.useAprioriSmoothing(1000) \n",
    "                bn2=learner.learnParameters(bn.dag())\n",
    "                learned_bns[fname] = bn2\n",
    "            if noisy:\n",
    "                learner=gum.BNLearner(f\"Noisy_Datasets/{dataset_name}.csv\",  bn) #using bn as template for variables and labels\n",
    "                learner.useAprioriSmoothing(1000) \n",
    "                bn2=learner.learnParameters(bn.dag())\n",
    "                learned_bns[fname] = bn2\n",
    "            else:\n",
    "                learner=gum.BNLearner(f\"Datasets/{dataset_name}.csv\",  bn) #using bn as template for variables and labels\n",
    "                learner.useAprioriSmoothing(1000) \n",
    "                bn2=learner.learnParameters(bn.dag())\n",
    "                learned_bns[fname] = bn2\n",
    "            Graphs[fname] = G\n",
    "        except:\n",
    "            continue\n",
    "    return learned_bns, Graphs"
   ]
  },
  {
   "cell_type": "code",
   "execution_count": 20,
   "id": "af93f81f",
   "metadata": {},
   "outputs": [],
   "source": [
    "def generate_queries(dataset_name, drop_nodes = [],noisy=False):\n",
    "    df = pd.read_csv(f\"../Datasets/{dataset_name}_bool.csv\") if noisy==False else pd.read_csv(f\"../Noisy_Datasets/{dataset_name}.csv\")\n",
    "    num_queries = 500\n",
    "\n",
    "    queries = set([])\n",
    "    for i in tqdm(range(num_queries)):\n",
    "\n",
    "        q0_ind = random_exclude(df, drop_nodes) \n",
    "        q0 = df.columns[q0_ind]\n",
    "        do_ind = random_exclude(df, drop_nodes+[q0_ind]) \n",
    "        do = df.columns[do_ind]\n",
    "        evidence_ind = random_exclude(df, drop_nodes+[q0_ind, do_ind]) \n",
    "        evidence = df.columns[evidence_ind]\n",
    "        do_val = df.sample()[do].values[0]\n",
    "        evidence_val = df.sample()[evidence].values[0]\n",
    "        query = ((q0, do, do_val, evidence, evidence_val))\n",
    "        queries.add(query)\n",
    "    return queries"
   ]
  },
  {
   "cell_type": "code",
   "execution_count": 22,
   "id": "cdf403ab",
   "metadata": {},
   "outputs": [],
   "source": [
    "def true_probs(dataset_name, queries):\n",
    "    bn=gum.loadBN(f\"../Datasets/{dataset_name}.bif\")\n",
    "    model = cls.CausalModel(bn)\n",
    "\n",
    "    \n",
    "    y_true = []\n",
    "    for q in queries:\n",
    "        opt = cls.doCalculusWithObservation(cm=model, on=set([q[0]]), doing = set([q[1]]), knowing=set([q[3]]) )\n",
    "        opt = opt.eval().toarray()\n",
    "        if len(opt.shape)==3:\n",
    "            y_true.append(opt[0][0][0])\n",
    "        elif len(opt.shape)==2:\n",
    "            y_true.append(opt[0][0])\n",
    "        else:\n",
    "            y_true.append(opt[0])\n",
    "    return y_true\n",
    "\n",
    "\n"
   ]
  },
  {
   "cell_type": "code",
   "execution_count": 10,
   "id": "31805d64",
   "metadata": {},
   "outputs": [],
   "source": [
    "def helper(var, val, df_num, df_bool):\n",
    "    d=dict(zip(df_bool[var].unique(),df_num[var].unique()))\n",
    "    return d[val]\n",
    "\n",
    "def get_prob_models(files, queries, drop_nodes=[]):\n",
    "    df_num = pd.read_csv(f\"Datasets/{dataset_name}.csv\") \n",
    "    df_bool = pd.read_csv(f\"Datasets/{dataset_name}_bool.csv\") \n",
    "    y_models = {}\n",
    "    for k in tqdm(files):\n",
    "\n",
    "        y_models[k] = []\n",
    "        bn = learned_bns[k]\n",
    "        model = cls.CausalModel(bn)\n",
    "        for q in (queries):\n",
    "            if nod_names.index(q[0]) not in drop_nodes and nod_names.index(q[1]) not in drop_nodes and nod_names.index(q[3]) not in drop_nodes:\n",
    "                val_do = helper(q[1], q[2], df_num, df_bool)\n",
    "                val_ev = helper(q[3], q[4], df_num, df_bool)\n",
    "\n",
    "                opt = cls.doCalculusWithObservation(cm=model, on=set([q[0]]), doing = set([q[1]]), knowing=set([q[3]]) )\n",
    "#                 opt = cls.causalImpact(cm=model, on=q[0], doing = q[1], knowing=set([q[3]]), values={q[1]: val_do, q[3]: val_ev } )\n",
    "                opt = opt.eval().toarray()\n",
    "                if len(opt.shape)==3:\n",
    "                    ans = (opt[0][0][0])\n",
    "                elif len(opt.shape)==2:\n",
    "                    ans = (opt[0][0])\n",
    "                else:\n",
    "                    ans = (opt[0])\n",
    "                y_models[k].append(ans)\n",
    "                \n",
    "    return y_models"
   ]
  },
  {
   "cell_type": "code",
   "execution_count": 11,
   "id": "55a73d28",
   "metadata": {},
   "outputs": [],
   "source": [
    "def fix_adjmats(learned_bns, files, dropped=False):\n",
    "    learned_bns.keys()\n",
    "    adjs = {}\n",
    "    for file in files:\n",
    "        df = pd.read_csv(f\"adj_mats/{file}.csv\")\n",
    "        df = df.reset_index()\n",
    "        df = df[list(df.columns[2:])]\n",
    "        adj = df.to_numpy()\n",
    "        adj[adj >= thresh] = 1\n",
    "        indices = np.where(adj <= -thresh)\n",
    "        adj[adj < 0] = 0\n",
    "        indices = indices[::-1]\n",
    "        adj[indices]=1\n",
    "        adjs[file.split('/')[-1]] = (adj.reshape(-1,1))\n",
    "\n",
    "    return adjs"
   ]
  },
  {
   "cell_type": "code",
   "execution_count": 12,
   "id": "7953a309",
   "metadata": {},
   "outputs": [],
   "source": [
    "def eval_binary(nod_names, files, queries, adjs, y_true):\n",
    "    p_models = {}\n",
    "  \n",
    "    X = []\n",
    "    y = []\n",
    "    n=nod_names\n",
    "    queries = list(queries)\n",
    "    for i in range(len(queries)):\n",
    "\n",
    "        for model in files:\n",
    "            adj = adjs[model] \n",
    "            merged = list(itertools.chain.from_iterable(adj.tolist()))\n",
    "            q = [n.index(queries[i][0]), n.index(queries[i][1])]\n",
    "\n",
    "            X.append(merged+(q))\n",
    "            diff= abs(y_models[model][i]-y_true[i])\n",
    "            value = 1 if diff < 0.20 else 0\n",
    "            y.append(value)\n",
    "    clf = RandomForestClassifier(random_state=0)\n",
    "    X_train, X_test, y_train, y_test = train_test_split(X, y, test_size=0.2, random_state=42, stratify=y)\n",
    "\n",
    "    clf.fit(X_train, y_train)\n",
    "    y_pred = (clf.predict(X_test))\n",
    "    y_prob= clf.predict_proba(X_test)\n",
    "    y_prob=y_prob[:, 1]\n",
    "\n",
    "    print(accuracy_score(y_test, y_pred))\n",
    "\n"
   ]
  },
  {
   "cell_type": "code",
   "execution_count": 13,
   "id": "0ae70b4c",
   "metadata": {},
   "outputs": [],
   "source": [
    "def prepare_data(fnames):\n",
    "    for fname in fnames:\n",
    "        bn=gum.loadBN(f\"Datasets/{fname}.bif\") \n",
    "        d = gum.BNDatabaseGenerator(bn)\n",
    "        gum.generateCSV(bn, f\"Datasets/{fname}_bool.csv\", 50000, with_labels=True)\n",
    "        df = pd.read_csv(f\"Datasets/{fname}_bool.csv\")\n",
    "        for c in df.columns:\n",
    "            df[c] = df[c].astype('category')\n",
    "            df[c] = df[c].cat.codes\n",
    "#         df = df[df.columns[1:]]\n",
    "        df.to_csv(f\"Datasets/{fname}.csv\", index=False)\n",
    "        print(fname)"
   ]
  },
  {
   "cell_type": "code",
   "execution_count": 14,
   "id": "44d6c3ad",
   "metadata": {},
   "outputs": [],
   "source": [
    "# prepare_data(['andes', 'diabetes', 'alarm'])\n",
    "# prepare_data(['asia', 'sachs'])"
   ]
  },
  {
   "cell_type": "markdown",
   "id": "ea13bebd",
   "metadata": {},
   "source": [
    "## Binary Classification"
   ]
  },
  {
   "cell_type": "code",
   "execution_count": 21,
   "id": "2b1c907c",
   "metadata": {},
   "outputs": [
    {
     "name": "stderr",
     "output_type": "stream",
     "text": [
      "100%|████████████████████████████████████████| 500/500 [00:03<00:00, 162.67it/s]\n"
     ]
    },
    {
     "ename": "IOError",
     "evalue": "[pyAgrum] I/O Error: No such file Datasets/asia.bif",
     "output_type": "error",
     "traceback": [
      "\u001b[0;31m---------------------------------------------------------------------------\u001b[0m",
      "\u001b[0;31mIOError\u001b[0m                                   Traceback (most recent call last)",
      "Input \u001b[0;32mIn [21]\u001b[0m, in \u001b[0;36m<module>\u001b[0;34m\u001b[0m\n\u001b[1;32m      6\u001b[0m files \u001b[38;5;241m=\u001b[39m \u001b[38;5;28mlist\u001b[39m(learned_bns\u001b[38;5;241m.\u001b[39mkeys())\n\u001b[1;32m      7\u001b[0m queries \u001b[38;5;241m=\u001b[39m generate_queries(dataset_name)\n\u001b[0;32m----> 8\u001b[0m y_true \u001b[38;5;241m=\u001b[39m \u001b[43mtrue_probs\u001b[49m\u001b[43m(\u001b[49m\u001b[43mdataset_name\u001b[49m\u001b[43m,\u001b[49m\u001b[43m \u001b[49m\u001b[43mqueries\u001b[49m\u001b[43m)\u001b[49m\n\u001b[1;32m      9\u001b[0m y_models \u001b[38;5;241m=\u001b[39m get_prob_models(files, queries)\n\u001b[1;32m     10\u001b[0m adjs \u001b[38;5;241m=\u001b[39m fix_adjmats(learned_bns, files)\n",
      "Input \u001b[0;32mIn [9]\u001b[0m, in \u001b[0;36mtrue_probs\u001b[0;34m(dataset_name, queries)\u001b[0m\n\u001b[1;32m      1\u001b[0m \u001b[38;5;28;01mdef\u001b[39;00m \u001b[38;5;21mtrue_probs\u001b[39m(dataset_name, queries):\n\u001b[0;32m----> 2\u001b[0m     bn\u001b[38;5;241m=\u001b[39m\u001b[43mgum\u001b[49m\u001b[38;5;241;43m.\u001b[39;49m\u001b[43mloadBN\u001b[49m\u001b[43m(\u001b[49m\u001b[38;5;124;43mf\u001b[39;49m\u001b[38;5;124;43m\"\u001b[39;49m\u001b[38;5;124;43mDatasets/\u001b[39;49m\u001b[38;5;132;43;01m{\u001b[39;49;00m\u001b[43mdataset_name\u001b[49m\u001b[38;5;132;43;01m}\u001b[39;49;00m\u001b[38;5;124;43m.bif\u001b[39;49m\u001b[38;5;124;43m\"\u001b[39;49m\u001b[43m)\u001b[49m\n\u001b[1;32m      3\u001b[0m     model \u001b[38;5;241m=\u001b[39m \u001b[38;5;28mcls\u001b[39m\u001b[38;5;241m.\u001b[39mCausalModel(bn)\n\u001b[1;32m      6\u001b[0m     y_true \u001b[38;5;241m=\u001b[39m []\n",
      "File \u001b[0;32m~/.conda/envs/causality/lib/python3.9/site-packages/pyAgrum/__init__.py:187\u001b[0m, in \u001b[0;36mloadBN\u001b[0;34m(filename, listeners, verbose, **opts)\u001b[0m\n\u001b[1;32m    185\u001b[0m extension \u001b[38;5;241m=\u001b[39m filename\u001b[38;5;241m.\u001b[39msplit(\u001b[38;5;124m'\u001b[39m\u001b[38;5;124m.\u001b[39m\u001b[38;5;124m'\u001b[39m)[\u001b[38;5;241m-\u001b[39m\u001b[38;5;241m1\u001b[39m]\u001b[38;5;241m.\u001b[39mupper()\n\u001b[1;32m    186\u001b[0m \u001b[38;5;28;01mif\u001b[39;00m extension \u001b[38;5;241m==\u001b[39m \u001b[38;5;124m\"\u001b[39m\u001b[38;5;124mBIF\u001b[39m\u001b[38;5;124m\"\u001b[39m:\n\u001b[0;32m--> 187\u001b[0m   warns \u001b[38;5;241m=\u001b[39m \u001b[43mbn\u001b[49m\u001b[38;5;241;43m.\u001b[39;49m\u001b[43mloadBIF\u001b[49m\u001b[43m(\u001b[49m\u001b[43mfilename\u001b[49m\u001b[43m,\u001b[49m\u001b[43m \u001b[49m\u001b[43mlisteners\u001b[49m\u001b[43m)\u001b[49m\n\u001b[1;32m    188\u001b[0m \u001b[38;5;28;01melif\u001b[39;00m extension \u001b[38;5;241m==\u001b[39m \u001b[38;5;124m\"\u001b[39m\u001b[38;5;124mBIFXML\u001b[39m\u001b[38;5;124m\"\u001b[39m:\n\u001b[1;32m    189\u001b[0m   warns \u001b[38;5;241m=\u001b[39m bn\u001b[38;5;241m.\u001b[39mloadBIFXML(filename, listeners)\n",
      "File \u001b[0;32m~/.conda/envs/causality/lib/python3.9/site-packages/pyAgrum/pyAgrum.py:9504\u001b[0m, in \u001b[0;36mBayesNet.loadBIF\u001b[0;34m(self, *args)\u001b[0m\n\u001b[1;32m   9484\u001b[0m \u001b[38;5;28;01mdef\u001b[39;00m \u001b[38;5;21mloadBIF\u001b[39m(\u001b[38;5;28mself\u001b[39m, \u001b[38;5;241m*\u001b[39margs) \u001b[38;5;241m-\u001b[39m\u001b[38;5;241m>\u001b[39m \u001b[38;5;28mstr\u001b[39m:\n\u001b[1;32m   9485\u001b[0m     \u001b[38;5;124mr\u001b[39m\u001b[38;5;124;03m\"\"\"\u001b[39;00m\n\u001b[1;32m   9486\u001b[0m \n\u001b[1;32m   9487\u001b[0m \u001b[38;5;124;03m    Load a BIF file.\u001b[39;00m\n\u001b[0;32m   (...)\u001b[0m\n\u001b[1;32m   9502\u001b[0m \n\u001b[1;32m   9503\u001b[0m \u001b[38;5;124;03m    \"\"\"\u001b[39;00m\n\u001b[0;32m-> 9504\u001b[0m     \u001b[38;5;28;01mreturn\u001b[39;00m \u001b[43m_pyAgrum\u001b[49m\u001b[38;5;241;43m.\u001b[39;49m\u001b[43mBayesNet_loadBIF\u001b[49m\u001b[43m(\u001b[49m\u001b[38;5;28;43mself\u001b[39;49m\u001b[43m,\u001b[49m\u001b[43m \u001b[49m\u001b[38;5;241;43m*\u001b[39;49m\u001b[43margs\u001b[49m\u001b[43m)\u001b[49m\n",
      "\u001b[0;31mIOError\u001b[0m: [pyAgrum] I/O Error: No such file Datasets/asia.bif"
     ]
    }
   ],
   "source": [
    "\n",
    "dataset_name = 'asia'\n",
    "num_disc = 2\n",
    "fnames = get_adjmats(dataset_name)\n",
    "nod_names = get_nodnames(dataset_name)\n",
    "learned_bns, Graphs = build_bns(fnames, nod_names, num_disc)\n",
    "files = list(learned_bns.keys())\n",
    "queries = generate_queries(dataset_name)\n",
    "y_true = true_probs(dataset_name, queries)\n",
    "y_models = get_prob_models(files, queries)\n",
    "adjs = fix_adjmats(learned_bns, files)\n"
   ]
  },
  {
   "cell_type": "code",
   "execution_count": 19,
   "id": "8bc24cfc",
   "metadata": {},
   "outputs": [
    {
     "data": {
      "text/plain": [
       "({'asia_nobears': (pyAgrum.BayesNet<double>@0x5555c6467b30) BN{nodes: 8, arcs: 8, domainSize: 256, dim: 48},\n",
       "  'asia_ccdr': (pyAgrum.BayesNet<double>@0x5555c648ea60) BN{nodes: 8, arcs: 5, domainSize: 256, dim: 28},\n",
       "  'asia_lingam': (pyAgrum.BayesNet<double>@0x5555c651bd40) BN{nodes: 8, arcs: 5, domainSize: 256, dim: 34},\n",
       "  'asia_notears': (pyAgrum.BayesNet<double>@0x5555c6503440) BN{nodes: 8, arcs: 4, domainSize: 256, dim: 24}},\n",
       " {'asia_nobears': <networkx.classes.digraph.DiGraph at 0x7f4ff891fee0>,\n",
       "  'asia_ccdr': <networkx.classes.digraph.DiGraph at 0x7f4ff891f6a0>,\n",
       "  'asia_lingam': <networkx.classes.digraph.DiGraph at 0x7f4ff891f8b0>,\n",
       "  'asia_notears': <networkx.classes.digraph.DiGraph at 0x7f4f750a93d0>})"
      ]
     },
     "execution_count": 19,
     "metadata": {},
     "output_type": "execute_result"
    }
   ],
   "source": [
    "learned_bns, Graphs "
   ]
  },
  {
   "cell_type": "code",
   "execution_count": 20,
   "id": "ebf4061c",
   "metadata": {},
   "outputs": [
    {
     "name": "stdout",
     "output_type": "stream",
     "text": [
      "0.8191489361702128\n"
     ]
    }
   ],
   "source": [
    "eval_binary(nod_names, files, queries, adjs, y_true)"
   ]
  },
  {
   "cell_type": "code",
   "execution_count": 21,
   "id": "f26aca3b",
   "metadata": {},
   "outputs": [
    {
     "data": {
      "text/plain": [
       "['smoke', 'tub', 'bronc', 'asia', 'lung', 'xray', 'dysp', 'either']"
      ]
     },
     "execution_count": 21,
     "metadata": {},
     "output_type": "execute_result"
    }
   ],
   "source": [
    "nod_names"
   ]
  },
  {
   "cell_type": "markdown",
   "id": "86b6bab2",
   "metadata": {},
   "source": [
    "# BN Classification "
   ]
  },
  {
   "cell_type": "code",
   "execution_count": 15,
   "id": "c9e7eaad",
   "metadata": {},
   "outputs": [
    {
     "name": "stdout",
     "output_type": "stream",
     "text": [
      "Survived:Labelized(<False,True>)\n",
      "Age:Labelized(<baby,toddler,kid,teen,adult,old>)\n",
      "Gender:Labelized(<Female,Male>)\n",
      "Siblings:Labelized(<False,True>)\n",
      "Parents:Labelized(<False,True>)\n"
     ]
    },
    {
     "ename": "InvocationException",
     "evalue": "GraphViz's executables not found",
     "output_type": "error",
     "traceback": [
      "\u001b[0;31m---------------------------------------------------------------------------\u001b[0m",
      "\u001b[0;31mInvocationException\u001b[0m                       Traceback (most recent call last)",
      "File \u001b[0;32m~/.conda/envs/causality/lib/python3.9/site-packages/IPython/core/formatters.py:343\u001b[0m, in \u001b[0;36mBaseFormatter.__call__\u001b[0;34m(self, obj)\u001b[0m\n\u001b[1;32m    341\u001b[0m     method \u001b[38;5;241m=\u001b[39m get_real_method(obj, \u001b[38;5;28mself\u001b[39m\u001b[38;5;241m.\u001b[39mprint_method)\n\u001b[1;32m    342\u001b[0m     \u001b[38;5;28;01mif\u001b[39;00m method \u001b[38;5;129;01mis\u001b[39;00m \u001b[38;5;129;01mnot\u001b[39;00m \u001b[38;5;28;01mNone\u001b[39;00m:\n\u001b[0;32m--> 343\u001b[0m         \u001b[38;5;28;01mreturn\u001b[39;00m \u001b[43mmethod\u001b[49m\u001b[43m(\u001b[49m\u001b[43m)\u001b[49m\n\u001b[1;32m    344\u001b[0m     \u001b[38;5;28;01mreturn\u001b[39;00m \u001b[38;5;28;01mNone\u001b[39;00m\n\u001b[1;32m    345\u001b[0m \u001b[38;5;28;01melse\u001b[39;00m:\n",
      "File \u001b[0;32m~/.conda/envs/causality/lib/python3.9/site-packages/pyAgrum/lib/notebook.py:1216\u001b[0m, in \u001b[0;36m<lambda>\u001b[0;34m(self)\u001b[0m\n\u001b[1;32m   1213\u001b[0m gum\u001b[38;5;241m.\u001b[39mconfig\u001b[38;5;241m.\u001b[39mrun_hooks()\n\u001b[1;32m   1215\u001b[0m \u001b[38;5;66;03m# adding _repr_html_ to some pyAgrum classes !\u001b[39;00m\n\u001b[0;32m-> 1216\u001b[0m gum\u001b[38;5;241m.\u001b[39mBayesNet\u001b[38;5;241m.\u001b[39m_repr_html_ \u001b[38;5;241m=\u001b[39m \u001b[38;5;28;01mlambda\u001b[39;00m \u001b[38;5;28mself\u001b[39m: \u001b[43mgetBN\u001b[49m\u001b[43m(\u001b[49m\u001b[38;5;28;43mself\u001b[39;49m\u001b[43m)\u001b[49m\n\u001b[1;32m   1217\u001b[0m gum\u001b[38;5;241m.\u001b[39mBayesNetFragment\u001b[38;5;241m.\u001b[39m_repr_html_ \u001b[38;5;241m=\u001b[39m \u001b[38;5;28;01mlambda\u001b[39;00m \u001b[38;5;28mself\u001b[39m: getBN(\u001b[38;5;28mself\u001b[39m)\n\u001b[1;32m   1218\u001b[0m gum\u001b[38;5;241m.\u001b[39mMarkovNet\u001b[38;5;241m.\u001b[39m_repr_html_ \u001b[38;5;241m=\u001b[39m \u001b[38;5;28;01mlambda\u001b[39;00m \u001b[38;5;28mself\u001b[39m: getMN(\u001b[38;5;28mself\u001b[39m)\n",
      "File \u001b[0;32m~/.conda/envs/causality/lib/python3.9/site-packages/pyAgrum/lib/notebook.py:688\u001b[0m, in \u001b[0;36mgetBN\u001b[0;34m(bn, size, nodeColor, arcWidth, arcColor, cmap, cmapArc)\u001b[0m\n\u001b[1;32m    685\u001b[0m \u001b[38;5;28;01mif\u001b[39;00m cmapArc \u001b[38;5;129;01mis\u001b[39;00m \u001b[38;5;28;01mNone\u001b[39;00m:\n\u001b[1;32m    686\u001b[0m   cmapArc \u001b[38;5;241m=\u001b[39m cmap\n\u001b[0;32m--> 688\u001b[0m \u001b[38;5;28;01mreturn\u001b[39;00m \u001b[43mgetGraph\u001b[49m\u001b[43m(\u001b[49m\u001b[43mBN2dot\u001b[49m\u001b[43m(\u001b[49m\u001b[43mbn\u001b[49m\u001b[43m,\u001b[49m\u001b[43m \u001b[49m\u001b[43msize\u001b[49m\u001b[43m,\u001b[49m\u001b[43m \u001b[49m\u001b[43mnodeColor\u001b[49m\u001b[43m,\u001b[49m\u001b[43m \u001b[49m\u001b[43marcWidth\u001b[49m\u001b[43m,\u001b[49m\u001b[43m \u001b[49m\u001b[43marcColor\u001b[49m\u001b[43m,\u001b[49m\u001b[43m \u001b[49m\u001b[43mcmap\u001b[49m\u001b[43m,\u001b[49m\u001b[43m \u001b[49m\u001b[43mcmapArc\u001b[49m\u001b[43m)\u001b[49m\u001b[43m,\u001b[49m\u001b[43m \u001b[49m\u001b[43msize\u001b[49m\u001b[43m)\u001b[49m\n",
      "File \u001b[0;32m~/.conda/envs/causality/lib/python3.9/site-packages/pyAgrum/lib/notebook.py:248\u001b[0m, in \u001b[0;36mgetGraph\u001b[0;34m(gr, size)\u001b[0m\n\u001b[1;32m    246\u001b[0m \u001b[38;5;28;01mif\u001b[39;00m size \u001b[38;5;129;01mis\u001b[39;00m \u001b[38;5;28;01mNone\u001b[39;00m:\n\u001b[1;32m    247\u001b[0m   size \u001b[38;5;241m=\u001b[39m gum\u001b[38;5;241m.\u001b[39mconfig[\u001b[38;5;124m\"\u001b[39m\u001b[38;5;124mnotebook\u001b[39m\u001b[38;5;124m\"\u001b[39m, \u001b[38;5;124m\"\u001b[39m\u001b[38;5;124mdefault_graph_size\u001b[39m\u001b[38;5;124m\"\u001b[39m]\n\u001b[0;32m--> 248\u001b[0m \u001b[38;5;28;01mreturn\u001b[39;00m \u001b[43m_reprGraph\u001b[49m\u001b[43m(\u001b[49m\u001b[43mgr\u001b[49m\u001b[43m,\u001b[49m\u001b[43m \u001b[49m\u001b[43msize\u001b[49m\u001b[43m,\u001b[49m\u001b[43m \u001b[49m\u001b[43masString\u001b[49m\u001b[38;5;241;43m=\u001b[39;49m\u001b[38;5;28;43;01mTrue\u001b[39;49;00m\u001b[43m)\u001b[49m\n",
      "File \u001b[0;32m~/.conda/envs/causality/lib/python3.9/site-packages/pyAgrum/lib/notebook.py:210\u001b[0m, in \u001b[0;36m_reprGraph\u001b[0;34m(gr, size, asString, format)\u001b[0m\n\u001b[1;32m    207\u001b[0m   \u001b[38;5;28mformat\u001b[39m \u001b[38;5;241m=\u001b[39m gum\u001b[38;5;241m.\u001b[39mconfig[\u001b[38;5;124m\"\u001b[39m\u001b[38;5;124mnotebook\u001b[39m\u001b[38;5;124m\"\u001b[39m, \u001b[38;5;124m\"\u001b[39m\u001b[38;5;124mgraph_format\u001b[39m\u001b[38;5;124m\"\u001b[39m]\n\u001b[1;32m    209\u001b[0m \u001b[38;5;28;01mif\u001b[39;00m \u001b[38;5;28mformat\u001b[39m \u001b[38;5;241m==\u001b[39m \u001b[38;5;124m\"\u001b[39m\u001b[38;5;124msvg\u001b[39m\u001b[38;5;124m\"\u001b[39m:\n\u001b[0;32m--> 210\u001b[0m   gsvg \u001b[38;5;241m=\u001b[39m IPython\u001b[38;5;241m.\u001b[39mdisplay\u001b[38;5;241m.\u001b[39mSVG(prepareLinksForSVG(\u001b[43mgr\u001b[49m\u001b[38;5;241;43m.\u001b[39;49m\u001b[43mcreate_svg\u001b[49m\u001b[43m(\u001b[49m\u001b[43m)\u001b[49m\u001b[38;5;241m.\u001b[39mdecode(\u001b[38;5;124m'\u001b[39m\u001b[38;5;124mutf-8\u001b[39m\u001b[38;5;124m'\u001b[39m)))\n\u001b[1;32m    211\u001b[0m   \u001b[38;5;28;01mif\u001b[39;00m asString:\n\u001b[1;32m    212\u001b[0m     \u001b[38;5;28;01mreturn\u001b[39;00m gsvg\u001b[38;5;241m.\u001b[39mdata\n",
      "File \u001b[0;32m~/.conda/envs/causality/lib/python3.9/site-packages/pydotplus/graphviz.py:1797\u001b[0m, in \u001b[0;36mDot.__init__.<locals>.<lambda>\u001b[0;34m(f, prog)\u001b[0m\n\u001b[1;32m   1792\u001b[0m \u001b[38;5;66;03m# Automatically creates all the methods enabling the creation\u001b[39;00m\n\u001b[1;32m   1793\u001b[0m \u001b[38;5;66;03m# of output in any of the supported formats.\u001b[39;00m\n\u001b[1;32m   1794\u001b[0m \u001b[38;5;28;01mfor\u001b[39;00m frmt \u001b[38;5;129;01min\u001b[39;00m \u001b[38;5;28mself\u001b[39m\u001b[38;5;241m.\u001b[39mformats:\n\u001b[1;32m   1795\u001b[0m     \u001b[38;5;28mself\u001b[39m\u001b[38;5;241m.\u001b[39m\u001b[38;5;21m__setattr__\u001b[39m(\n\u001b[1;32m   1796\u001b[0m         \u001b[38;5;124m'\u001b[39m\u001b[38;5;124mcreate_\u001b[39m\u001b[38;5;124m'\u001b[39m \u001b[38;5;241m+\u001b[39m frmt,\n\u001b[0;32m-> 1797\u001b[0m         \u001b[38;5;28;01mlambda\u001b[39;00m f\u001b[38;5;241m=\u001b[39mfrmt, prog\u001b[38;5;241m=\u001b[39m\u001b[38;5;28mself\u001b[39m\u001b[38;5;241m.\u001b[39mprog: \u001b[38;5;28;43mself\u001b[39;49m\u001b[38;5;241;43m.\u001b[39;49m\u001b[43mcreate\u001b[49m\u001b[43m(\u001b[49m\u001b[38;5;28;43mformat\u001b[39;49m\u001b[38;5;241;43m=\u001b[39;49m\u001b[43mf\u001b[49m\u001b[43m,\u001b[49m\u001b[43m \u001b[49m\u001b[43mprog\u001b[49m\u001b[38;5;241;43m=\u001b[39;49m\u001b[43mprog\u001b[49m\u001b[43m)\u001b[49m\n\u001b[1;32m   1798\u001b[0m     )\n\u001b[1;32m   1799\u001b[0m     f \u001b[38;5;241m=\u001b[39m \u001b[38;5;28mself\u001b[39m\u001b[38;5;241m.\u001b[39m\u001b[38;5;18m__dict__\u001b[39m[\u001b[38;5;124m'\u001b[39m\u001b[38;5;124mcreate_\u001b[39m\u001b[38;5;124m'\u001b[39m \u001b[38;5;241m+\u001b[39m frmt]\n\u001b[1;32m   1800\u001b[0m     f\u001b[38;5;241m.\u001b[39m\u001b[38;5;18m__doc__\u001b[39m \u001b[38;5;241m=\u001b[39m (\n\u001b[1;32m   1801\u001b[0m         \u001b[38;5;124;03m'''Refer to the docstring accompanying the'''\u001b[39;00m\n\u001b[1;32m   1802\u001b[0m         \u001b[38;5;124;03m''''create' method for more information.'''\u001b[39;00m\n\u001b[1;32m   1803\u001b[0m     )\n",
      "File \u001b[0;32m~/.conda/envs/causality/lib/python3.9/site-packages/pydotplus/graphviz.py:1959\u001b[0m, in \u001b[0;36mDot.create\u001b[0;34m(self, prog, format)\u001b[0m\n\u001b[1;32m   1957\u001b[0m     \u001b[38;5;28mself\u001b[39m\u001b[38;5;241m.\u001b[39mprogs \u001b[38;5;241m=\u001b[39m find_graphviz()\n\u001b[1;32m   1958\u001b[0m     \u001b[38;5;28;01mif\u001b[39;00m \u001b[38;5;28mself\u001b[39m\u001b[38;5;241m.\u001b[39mprogs \u001b[38;5;129;01mis\u001b[39;00m \u001b[38;5;28;01mNone\u001b[39;00m:\n\u001b[0;32m-> 1959\u001b[0m         \u001b[38;5;28;01mraise\u001b[39;00m InvocationException(\n\u001b[1;32m   1960\u001b[0m             \u001b[38;5;124m'\u001b[39m\u001b[38;5;124mGraphViz\u001b[39m\u001b[38;5;130;01m\\'\u001b[39;00m\u001b[38;5;124ms executables not found\u001b[39m\u001b[38;5;124m'\u001b[39m)\n\u001b[1;32m   1962\u001b[0m \u001b[38;5;28;01mif\u001b[39;00m prog \u001b[38;5;129;01mnot\u001b[39;00m \u001b[38;5;129;01min\u001b[39;00m \u001b[38;5;28mself\u001b[39m\u001b[38;5;241m.\u001b[39mprogs:\n\u001b[1;32m   1963\u001b[0m     \u001b[38;5;28;01mraise\u001b[39;00m InvocationException(\n\u001b[1;32m   1964\u001b[0m         \u001b[38;5;124m'\u001b[39m\u001b[38;5;124mGraphViz\u001b[39m\u001b[38;5;130;01m\\'\u001b[39;00m\u001b[38;5;124ms executable \u001b[39m\u001b[38;5;124m\"\u001b[39m\u001b[38;5;132;01m%s\u001b[39;00m\u001b[38;5;124m\"\u001b[39m\u001b[38;5;124m not found\u001b[39m\u001b[38;5;124m'\u001b[39m \u001b[38;5;241m%\u001b[39m prog)\n",
      "\u001b[0;31mInvocationException\u001b[0m: GraphViz's executables not found"
     ]
    },
    {
     "data": {
      "text/plain": [
       "(pyAgrum.BayesNet<double>@0x55b786a44780) BN{nodes: 5, arcs: 4, domainSize: 96, dim: 26}"
      ]
     },
     "execution_count": 15,
     "metadata": {},
     "output_type": "execute_result"
    }
   ],
   "source": [
    "\"\"\"bn = gum.BayesNet(\"Surviving Titanic\")\n",
    "bn =gum.fastBN(\"Age{baby|toddler|kid|teen|adult|old}<-Survived{False|True}->Gender{Female|Male};Siblings{False|True}<-Survived->Parents{False|True}\")\n",
    "print(bn.variable(\"Survived\"))\n",
    "print(bn.variable(\"Age\"))\n",
    "print(bn.variable(\"Gender\"))\n",
    "print(bn.variable(\"Siblings\"))\n",
    "print(bn.variable(\"Parents\"))\n",
    "\n",
    "bn\n",
    "\n",
    "learner = gum.BNLearner(\"res/titanic/post_train.csv\", bn)\n",
    "bn = learner.learnParameters(bn.dag())\n",
    "gnb.showInference(bn, size=\"10\")\n",
    "\n",
    "showROC_PR(bn, \"res/titanic/post_train.csv\", 'Survived', \"True\", True, True)\n",
    "\n",
    "ie = gum.LazyPropagation(bn)\n",
    "init_belief(ie)\n",
    "ie.addTarget('Survived')\n",
    "result = testdf.apply(lambda x: is_well_predicted(ie, bn, 0.35917266477065596, x), axis=1)\n",
    "result.value_counts(True)\n",
    "\n",
    "\n",
    "\"\"\"\"\n"
   ]
  },
  {
   "cell_type": "markdown",
   "id": "4721d43d",
   "metadata": {},
   "source": [
    "\n",
    "## Multiclass Classification"
   ]
  },
  {
   "cell_type": "code",
   "execution_count": 16,
   "id": "f024a34f",
   "metadata": {},
   "outputs": [],
   "source": [
    "def multiclass(nod_names, files, queries, adjs, y_true, Graphs, dropped_nodes=[]):\n",
    "    p_models = {}\n",
    "\n",
    "    X = []\n",
    "    y = []\n",
    "    q_edge_length = []\n",
    "    q_deg_centrality = {'target': [], 'evs':[]}\n",
    "    q_betw_centrality = {'target': [], 'evs':[]}\n",
    "    \n",
    "\n",
    "    # n = list(df.columns)\n",
    "    model_to_int = {}\n",
    "    # model to int mapping\n",
    "    for ind in range(len(files)):\n",
    "        model_to_int[files[ind]] = ind\n",
    "    n=nod_names\n",
    "    queries = list(queries)\n",
    "    diff_array=[[] for i in range(len(files))]\n",
    "    for i in range(len(queries)):\n",
    "        q = queries[i]\n",
    "        if q[0] not in dropped_nodes and q[1] not in dropped_nodes:\n",
    "            m, min_diff = \"\", 1000000 \n",
    "            count=0\n",
    "            if y_models[list(y_models.keys())[0]][i] != None:\n",
    "                for model in files:\n",
    "#                     print()\n",
    "                    if y_models[model][i] != None:\n",
    "                        diff = abs(y_models[model][i]-y_true[i])\n",
    "                        diff_array[count].append(diff)\n",
    "                    count+=1\n",
    "                    if diff < min_diff:\n",
    "                        min_diff = diff\n",
    "                        m = model\n",
    "                G = Graphs[model]        \n",
    "\n",
    "        #         dpath = {x[0]:x[1] for x in path}\n",
    "        #         print(m, dpath)\n",
    "                deg_centrality = nx.degree_centrality(G)\n",
    "                betw_centrality= nx.betweenness_centrality(G)\n",
    "\n",
    "        #         q_edge_length.append(dpath[q[0]][q[1]])\n",
    "        #         print(G.nodes)\n",
    "        #         print(q)\n",
    "                if q[0] in G.nodes and q[1] in G.nodes and (nx.has_path(G, q[0], q[1])):\n",
    "                    path = nx.shortest_path_length(G, q[0], q[1])\n",
    "                    q_edge_length.append(path)\n",
    " \n",
    "                else:\n",
    "                    q_edge_length.append(math.inf)\n",
    "\n",
    "\n",
    "                q_deg_centrality['target'].append(deg_centrality[q[0]])\n",
    "                q_betw_centrality['target'].append(betw_centrality[q[0]])\n",
    "                q_deg_centrality['evs'].append(deg_centrality[q[1]])\n",
    "                q_betw_centrality['evs'].append(betw_centrality[q[1]])\n",
    "                q = [n.index(queries[i][0]), n.index(queries[i][1])]\n",
    "                X.append(q)\n",
    "                y.append(model_to_int[m])\n",
    "    print(model_to_int)\n",
    "\n",
    "    clf = RandomForestClassifier(random_state=0)\n",
    "    X_train, X_test, y_train, y_test = train_test_split(X, y, test_size=0.1, random_state=42)\n",
    "    clf.fit(X_train, y_train)\n",
    "    y_pred = (clf.predict(X_test))\n",
    "    y_prob= clf.predict_proba(X_test)\n",
    "    y_prob=y_prob[:, 1]\n",
    "    acc = accuracy_score(y_test, y_pred)\n",
    "    print(acc)\n",
    "    df = pd.DataFrame({'Query': X , 'Label': y, 'Edge Lengths': q_edge_length, \n",
    "                       'degree_centrality_target': q_deg_centrality['target'], 'degree_centrality_evs':  q_deg_centrality['evs'],\n",
    "                      'betweeness_centrality_target': q_betw_centrality['target'], 'betweeness_centrality_evs':  q_betw_centrality['evs']})\n",
    "    for i in range(len(files)):\n",
    "        col_name='Model_'+str(i)\n",
    "        df[col_name]=diff_array[i]\n",
    "\n",
    "    return df, clf, acc\n",
    "        \n",
    "        "
   ]
  },
  {
   "cell_type": "code",
   "execution_count": 26,
   "id": "dff474dd",
   "metadata": {},
   "outputs": [
    {
     "data": {
      "image/svg+xml": [
       "<?xml version=\"1.0\" encoding=\"utf-8\" standalone=\"no\"?>\n",
       "<!DOCTYPE svg PUBLIC \"-//W3C//DTD SVG 1.1//EN\"\n",
       "  \"http://www.w3.org/Graphics/SVG/1.1/DTD/svg11.dtd\">\n",
       "<svg xmlns:xlink=\"http://www.w3.org/1999/xlink\" width=\"446.4pt\" height=\"302.4pt\" viewBox=\"0 0 446.4 302.4\" xmlns=\"http://www.w3.org/2000/svg\" version=\"1.1\">\n",
       " <metadata>\n",
       "  <rdf:RDF xmlns:dc=\"http://purl.org/dc/elements/1.1/\" xmlns:cc=\"http://creativecommons.org/ns#\" xmlns:rdf=\"http://www.w3.org/1999/02/22-rdf-syntax-ns#\">\n",
       "   <cc:Work>\n",
       "    <dc:type rdf:resource=\"http://purl.org/dc/dcmitype/StillImage\"/>\n",
       "    <dc:date>2022-02-01T16:22:51.035380</dc:date>\n",
       "    <dc:format>image/svg+xml</dc:format>\n",
       "    <dc:creator>\n",
       "     <cc:Agent>\n",
       "      <dc:title>Matplotlib v3.5.1, https://matplotlib.org/</dc:title>\n",
       "     </cc:Agent>\n",
       "    </dc:creator>\n",
       "   </cc:Work>\n",
       "  </rdf:RDF>\n",
       " </metadata>\n",
       " <defs>\n",
       "  <style type=\"text/css\">*{stroke-linejoin: round; stroke-linecap: butt}</style>\n",
       " </defs>\n",
       " <g id=\"figure_1\">\n",
       "  <g id=\"patch_1\">\n",
       "   <path d=\"M 0 302.4 \n",
       "L 446.4 302.4 \n",
       "L 446.4 0 \n",
       "L 0 0 \n",
       "z\n",
       "\" style=\"fill: #ffffff\"/>\n",
       "  </g>\n",
       "  <g id=\"axes_1\">\n",
       "   <g id=\"patch_2\">\n",
       "    <path d=\"M 64.187158 127.150897 \n",
       "Q 102.602047 142.087885 139.974904 156.619695 \n",
       "\" clip-path=\"url(#p09a20f4008)\" style=\"fill: none; stroke: #000000; stroke-linecap: round\"/>\n",
       "    <path d=\"M 136.971618 153.306046 \n",
       "L 139.974904 156.619695 \n",
       "L 135.522013 157.034135 \n",
       "L 136.971618 153.306046 \n",
       "z\n",
       "\" clip-path=\"url(#p09a20f4008)\" style=\"stroke: #000000; stroke-linecap: round\"/>\n",
       "   </g>\n",
       "   <g id=\"patch_3\">\n",
       "    <path d=\"M 157.057848 156.775805 \n",
       "Q 216.992696 131.303479 275.898583 106.268463 \n",
       "\" clip-path=\"url(#p09a20f4008)\" style=\"fill: none; stroke: #000000; stroke-linecap: round\"/>\n",
       "    <path d=\"M 271.434978 105.992364 \n",
       "L 275.898583 106.268463 \n",
       "L 272.999542 109.673688 \n",
       "L 271.434978 105.992364 \n",
       "z\n",
       "\" clip-path=\"url(#p09a20f4008)\" style=\"stroke: #000000; stroke-linecap: round\"/>\n",
       "   </g>\n",
       "   <g id=\"patch_4\">\n",
       "    <path d=\"M 52.719612 199.078226 \n",
       "Q 96.887866 181.242318 140.019422 163.825046 \n",
       "\" clip-path=\"url(#p09a20f4008)\" style=\"fill: none; stroke: #000000; stroke-linecap: round\"/>\n",
       "    <path d=\"M 135.561537 163.468305 \n",
       "L 140.019422 163.825046 \n",
       "L 137.059298 167.177309 \n",
       "L 135.561537 163.468305 \n",
       "z\n",
       "\" clip-path=\"url(#p09a20f4008)\" style=\"stroke: #000000; stroke-linecap: round\"/>\n",
       "   </g>\n",
       "   <g id=\"patch_5\">\n",
       "    <path d=\"M 115.605586 264.242751 \n",
       "Q 157.459782 224.47292 198.503483 185.473219 \n",
       "\" clip-path=\"url(#p09a20f4008)\" style=\"fill: none; stroke: #000000; stroke-linecap: round\"/>\n",
       "    <path d=\"M 194.226124 186.778667 \n",
       "L 198.503483 185.473219 \n",
       "L 196.981425 189.678376 \n",
       "L 194.226124 186.778667 \n",
       "z\n",
       "\" clip-path=\"url(#p09a20f4008)\" style=\"stroke: #000000; stroke-linecap: round\"/>\n",
       "   </g>\n",
       "   <g id=\"patch_6\">\n",
       "    <path d=\"M 292.316588 97.982191 \n",
       "Q 343.303755 67.318594 393.332807 37.231206 \n",
       "\" clip-path=\"url(#p09a20f4008)\" style=\"fill: none; stroke: #000000; stroke-linecap: round\"/>\n",
       "    <path d=\"M 388.874199 37.578785 \n",
       "L 393.332807 37.231206 \n",
       "L 390.935705 41.00664 \n",
       "L 388.874199 37.578785 \n",
       "z\n",
       "\" clip-path=\"url(#p09a20f4008)\" style=\"stroke: #000000; stroke-linecap: round\"/>\n",
       "   </g>\n",
       "   <g id=\"patch_7\">\n",
       "    <path d=\"M 345.901706 142.11153 \n",
       "Q 319.0283 124.637003 293.092194 107.771958 \n",
       "\" clip-path=\"url(#p09a20f4008)\" style=\"fill: none; stroke: #000000; stroke-linecap: round\"/>\n",
       "    <path d=\"M 295.355304 111.629202 \n",
       "L 293.092194 107.771958 \n",
       "L 297.535855 108.275816 \n",
       "L 295.355304 111.629202 \n",
       "z\n",
       "\" clip-path=\"url(#p09a20f4008)\" style=\"stroke: #000000; stroke-linecap: round\"/>\n",
       "   </g>\n",
       "   <g id=\"patch_8\">\n",
       "    <path d=\"M 197.369007 176.031679 \n",
       "Q 177.340726 169.448983 158.374582 163.215379 \n",
       "\" clip-path=\"url(#p09a20f4008)\" style=\"fill: none; stroke: #000000; stroke-linecap: round\"/>\n",
       "    <path d=\"M 161.550123 166.364338 \n",
       "L 158.374582 163.215379 \n",
       "L 162.799074 162.564323 \n",
       "L 161.550123 166.364338 \n",
       "z\n",
       "\" clip-path=\"url(#p09a20f4008)\" style=\"stroke: #000000; stroke-linecap: round\"/>\n",
       "   </g>\n",
       "   <g id=\"patch_9\">\n",
       "    <path d=\"M 211.836208 172.73069 \n",
       "Q 245.246705 140.589101 277.851481 109.222632 \n",
       "\" clip-path=\"url(#p09a20f4008)\" style=\"fill: none; stroke: #000000; stroke-linecap: round\"/>\n",
       "    <path d=\"M 273.582265 110.55447 \n",
       "L 277.851481 109.222632 \n",
       "L 276.355422 113.437108 \n",
       "L 273.582265 110.55447 \n",
       "z\n",
       "\" clip-path=\"url(#p09a20f4008)\" style=\"stroke: #000000; stroke-linecap: round\"/>\n",
       "   </g>\n",
       "   <g id=\"PathCollection_1\">\n",
       "    <defs>\n",
       "     <path id=\"m51d45ee42b\" d=\"M 0 8.660254 \n",
       "C 2.296726 8.660254 4.499694 7.747755 6.123724 6.123724 \n",
       "C 7.747755 4.499694 8.660254 2.296726 8.660254 0 \n",
       "C 8.660254 -2.296726 7.747755 -4.499694 6.123724 -6.123724 \n",
       "C 4.499694 -7.747755 2.296726 -8.660254 0 -8.660254 \n",
       "C -2.296726 -8.660254 -4.499694 -7.747755 -6.123724 -6.123724 \n",
       "C -7.747755 -4.499694 -8.660254 -2.296726 -8.660254 0 \n",
       "C -8.660254 2.296726 -7.747755 4.499694 -6.123724 6.123724 \n",
       "C -4.499694 7.747755 -2.296726 8.660254 0 8.660254 \n",
       "z\n",
       "\" style=\"stroke: #1f78b4\"/>\n",
       "    </defs>\n",
       "    <g clip-path=\"url(#p09a20f4008)\">\n",
       "     <use xlink:href=\"#m51d45ee42b\" x=\"56.11503\" y=\"124.012185\" style=\"fill: #1f78b4; stroke: #1f78b4\"/>\n",
       "     <use xlink:href=\"#m51d45ee42b\" x=\"149.087781\" y=\"160.163085\" style=\"fill: #1f78b4; stroke: #1f78b4\"/>\n",
       "     <use xlink:href=\"#m51d45ee42b\" x=\"44.687603\" y=\"202.32169\" style=\"fill: #1f78b4; stroke: #1f78b4\"/>\n",
       "     <use xlink:href=\"#m51d45ee42b\" x=\"401.712397\" y=\"32.191736\" style=\"fill: #1f78b4; stroke: #1f78b4\"/>\n",
       "     <use xlink:href=\"#m51d45ee42b\" x=\"109.327416\" y=\"270.208264\" style=\"fill: #1f78b4; stroke: #1f78b4\"/>\n",
       "     <use xlink:href=\"#m51d45ee42b\" x=\"284.89805\" y=\"102.443687\" style=\"fill: #1f78b4; stroke: #1f78b4\"/>\n",
       "     <use xlink:href=\"#m51d45ee42b\" x=\"353.164145\" y=\"146.833957\" style=\"fill: #1f78b4; stroke: #1f78b4\"/>\n",
       "     <use xlink:href=\"#m51d45ee42b\" x=\"205.594646\" y=\"178.735201\" style=\"fill: #1f78b4; stroke: #1f78b4\"/>\n",
       "    </g>\n",
       "   </g>\n",
       "   <g id=\"text_1\">\n",
       "    <g clip-path=\"url(#p09a20f4008)\">\n",
       "     <!-- asia -->\n",
       "     <g transform=\"translate(43.96878 127.323435)scale(0.12 -0.12)\">\n",
       "      <defs>\n",
       "       <path id=\"DejaVuSans-61\" d=\"M 2194 1759 \n",
       "Q 1497 1759 1228 1600 \n",
       "Q 959 1441 959 1056 \n",
       "Q 959 750 1161 570 \n",
       "Q 1363 391 1709 391 \n",
       "Q 2188 391 2477 730 \n",
       "Q 2766 1069 2766 1631 \n",
       "L 2766 1759 \n",
       "L 2194 1759 \n",
       "z\n",
       "M 3341 1997 \n",
       "L 3341 0 \n",
       "L 2766 0 \n",
       "L 2766 531 \n",
       "Q 2569 213 2275 61 \n",
       "Q 1981 -91 1556 -91 \n",
       "Q 1019 -91 701 211 \n",
       "Q 384 513 384 1019 \n",
       "Q 384 1609 779 1909 \n",
       "Q 1175 2209 1959 2209 \n",
       "L 2766 2209 \n",
       "L 2766 2266 \n",
       "Q 2766 2663 2505 2880 \n",
       "Q 2244 3097 1772 3097 \n",
       "Q 1472 3097 1187 3025 \n",
       "Q 903 2953 641 2809 \n",
       "L 641 3341 \n",
       "Q 956 3463 1253 3523 \n",
       "Q 1550 3584 1831 3584 \n",
       "Q 2591 3584 2966 3190 \n",
       "Q 3341 2797 3341 1997 \n",
       "z\n",
       "\" transform=\"scale(0.015625)\"/>\n",
       "       <path id=\"DejaVuSans-73\" d=\"M 2834 3397 \n",
       "L 2834 2853 \n",
       "Q 2591 2978 2328 3040 \n",
       "Q 2066 3103 1784 3103 \n",
       "Q 1356 3103 1142 2972 \n",
       "Q 928 2841 928 2578 \n",
       "Q 928 2378 1081 2264 \n",
       "Q 1234 2150 1697 2047 \n",
       "L 1894 2003 \n",
       "Q 2506 1872 2764 1633 \n",
       "Q 3022 1394 3022 966 \n",
       "Q 3022 478 2636 193 \n",
       "Q 2250 -91 1575 -91 \n",
       "Q 1294 -91 989 -36 \n",
       "Q 684 19 347 128 \n",
       "L 347 722 \n",
       "Q 666 556 975 473 \n",
       "Q 1284 391 1588 391 \n",
       "Q 1994 391 2212 530 \n",
       "Q 2431 669 2431 922 \n",
       "Q 2431 1156 2273 1281 \n",
       "Q 2116 1406 1581 1522 \n",
       "L 1381 1569 \n",
       "Q 847 1681 609 1914 \n",
       "Q 372 2147 372 2553 \n",
       "Q 372 3047 722 3315 \n",
       "Q 1072 3584 1716 3584 \n",
       "Q 2034 3584 2315 3537 \n",
       "Q 2597 3491 2834 3397 \n",
       "z\n",
       "\" transform=\"scale(0.015625)\"/>\n",
       "       <path id=\"DejaVuSans-69\" d=\"M 603 3500 \n",
       "L 1178 3500 \n",
       "L 1178 0 \n",
       "L 603 0 \n",
       "L 603 3500 \n",
       "z\n",
       "M 603 4863 \n",
       "L 1178 4863 \n",
       "L 1178 4134 \n",
       "L 603 4134 \n",
       "L 603 4863 \n",
       "z\n",
       "\" transform=\"scale(0.015625)\"/>\n",
       "      </defs>\n",
       "      <use xlink:href=\"#DejaVuSans-61\"/>\n",
       "      <use xlink:href=\"#DejaVuSans-73\" x=\"61.279297\"/>\n",
       "      <use xlink:href=\"#DejaVuSans-69\" x=\"113.378906\"/>\n",
       "      <use xlink:href=\"#DejaVuSans-61\" x=\"141.162109\"/>\n",
       "     </g>\n",
       "    </g>\n",
       "   </g>\n",
       "   <g id=\"text_2\">\n",
       "    <g clip-path=\"url(#p09a20f4008)\">\n",
       "     <!-- tub -->\n",
       "     <g transform=\"translate(139.124031 163.474335)scale(0.12 -0.12)\">\n",
       "      <defs>\n",
       "       <path id=\"DejaVuSans-74\" d=\"M 1172 4494 \n",
       "L 1172 3500 \n",
       "L 2356 3500 \n",
       "L 2356 3053 \n",
       "L 1172 3053 \n",
       "L 1172 1153 \n",
       "Q 1172 725 1289 603 \n",
       "Q 1406 481 1766 481 \n",
       "L 2356 481 \n",
       "L 2356 0 \n",
       "L 1766 0 \n",
       "Q 1100 0 847 248 \n",
       "Q 594 497 594 1153 \n",
       "L 594 3053 \n",
       "L 172 3053 \n",
       "L 172 3500 \n",
       "L 594 3500 \n",
       "L 594 4494 \n",
       "L 1172 4494 \n",
       "z\n",
       "\" transform=\"scale(0.015625)\"/>\n",
       "       <path id=\"DejaVuSans-75\" d=\"M 544 1381 \n",
       "L 544 3500 \n",
       "L 1119 3500 \n",
       "L 1119 1403 \n",
       "Q 1119 906 1312 657 \n",
       "Q 1506 409 1894 409 \n",
       "Q 2359 409 2629 706 \n",
       "Q 2900 1003 2900 1516 \n",
       "L 2900 3500 \n",
       "L 3475 3500 \n",
       "L 3475 0 \n",
       "L 2900 0 \n",
       "L 2900 538 \n",
       "Q 2691 219 2414 64 \n",
       "Q 2138 -91 1772 -91 \n",
       "Q 1169 -91 856 284 \n",
       "Q 544 659 544 1381 \n",
       "z\n",
       "M 1991 3584 \n",
       "L 1991 3584 \n",
       "z\n",
       "\" transform=\"scale(0.015625)\"/>\n",
       "       <path id=\"DejaVuSans-62\" d=\"M 3116 1747 \n",
       "Q 3116 2381 2855 2742 \n",
       "Q 2594 3103 2138 3103 \n",
       "Q 1681 3103 1420 2742 \n",
       "Q 1159 2381 1159 1747 \n",
       "Q 1159 1113 1420 752 \n",
       "Q 1681 391 2138 391 \n",
       "Q 2594 391 2855 752 \n",
       "Q 3116 1113 3116 1747 \n",
       "z\n",
       "M 1159 2969 \n",
       "Q 1341 3281 1617 3432 \n",
       "Q 1894 3584 2278 3584 \n",
       "Q 2916 3584 3314 3078 \n",
       "Q 3713 2572 3713 1747 \n",
       "Q 3713 922 3314 415 \n",
       "Q 2916 -91 2278 -91 \n",
       "Q 1894 -91 1617 61 \n",
       "Q 1341 213 1159 525 \n",
       "L 1159 0 \n",
       "L 581 0 \n",
       "L 581 4863 \n",
       "L 1159 4863 \n",
       "L 1159 2969 \n",
       "z\n",
       "\" transform=\"scale(0.015625)\"/>\n",
       "      </defs>\n",
       "      <use xlink:href=\"#DejaVuSans-74\"/>\n",
       "      <use xlink:href=\"#DejaVuSans-75\" x=\"39.208984\"/>\n",
       "      <use xlink:href=\"#DejaVuSans-62\" x=\"102.587891\"/>\n",
       "     </g>\n",
       "    </g>\n",
       "   </g>\n",
       "   <g id=\"text_3\">\n",
       "    <g clip-path=\"url(#p09a20f4008)\">\n",
       "     <!-- smoke -->\n",
       "     <g transform=\"translate(25.097603 205.63294)scale(0.12 -0.12)\">\n",
       "      <defs>\n",
       "       <path id=\"DejaVuSans-6d\" d=\"M 3328 2828 \n",
       "Q 3544 3216 3844 3400 \n",
       "Q 4144 3584 4550 3584 \n",
       "Q 5097 3584 5394 3201 \n",
       "Q 5691 2819 5691 2113 \n",
       "L 5691 0 \n",
       "L 5113 0 \n",
       "L 5113 2094 \n",
       "Q 5113 2597 4934 2840 \n",
       "Q 4756 3084 4391 3084 \n",
       "Q 3944 3084 3684 2787 \n",
       "Q 3425 2491 3425 1978 \n",
       "L 3425 0 \n",
       "L 2847 0 \n",
       "L 2847 2094 \n",
       "Q 2847 2600 2669 2842 \n",
       "Q 2491 3084 2119 3084 \n",
       "Q 1678 3084 1418 2786 \n",
       "Q 1159 2488 1159 1978 \n",
       "L 1159 0 \n",
       "L 581 0 \n",
       "L 581 3500 \n",
       "L 1159 3500 \n",
       "L 1159 2956 \n",
       "Q 1356 3278 1631 3431 \n",
       "Q 1906 3584 2284 3584 \n",
       "Q 2666 3584 2933 3390 \n",
       "Q 3200 3197 3328 2828 \n",
       "z\n",
       "\" transform=\"scale(0.015625)\"/>\n",
       "       <path id=\"DejaVuSans-6f\" d=\"M 1959 3097 \n",
       "Q 1497 3097 1228 2736 \n",
       "Q 959 2375 959 1747 \n",
       "Q 959 1119 1226 758 \n",
       "Q 1494 397 1959 397 \n",
       "Q 2419 397 2687 759 \n",
       "Q 2956 1122 2956 1747 \n",
       "Q 2956 2369 2687 2733 \n",
       "Q 2419 3097 1959 3097 \n",
       "z\n",
       "M 1959 3584 \n",
       "Q 2709 3584 3137 3096 \n",
       "Q 3566 2609 3566 1747 \n",
       "Q 3566 888 3137 398 \n",
       "Q 2709 -91 1959 -91 \n",
       "Q 1206 -91 779 398 \n",
       "Q 353 888 353 1747 \n",
       "Q 353 2609 779 3096 \n",
       "Q 1206 3584 1959 3584 \n",
       "z\n",
       "\" transform=\"scale(0.015625)\"/>\n",
       "       <path id=\"DejaVuSans-6b\" d=\"M 581 4863 \n",
       "L 1159 4863 \n",
       "L 1159 1991 \n",
       "L 2875 3500 \n",
       "L 3609 3500 \n",
       "L 1753 1863 \n",
       "L 3688 0 \n",
       "L 2938 0 \n",
       "L 1159 1709 \n",
       "L 1159 0 \n",
       "L 581 0 \n",
       "L 581 4863 \n",
       "z\n",
       "\" transform=\"scale(0.015625)\"/>\n",
       "       <path id=\"DejaVuSans-65\" d=\"M 3597 1894 \n",
       "L 3597 1613 \n",
       "L 953 1613 \n",
       "Q 991 1019 1311 708 \n",
       "Q 1631 397 2203 397 \n",
       "Q 2534 397 2845 478 \n",
       "Q 3156 559 3463 722 \n",
       "L 3463 178 \n",
       "Q 3153 47 2828 -22 \n",
       "Q 2503 -91 2169 -91 \n",
       "Q 1331 -91 842 396 \n",
       "Q 353 884 353 1716 \n",
       "Q 353 2575 817 3079 \n",
       "Q 1281 3584 2069 3584 \n",
       "Q 2775 3584 3186 3129 \n",
       "Q 3597 2675 3597 1894 \n",
       "z\n",
       "M 3022 2063 \n",
       "Q 3016 2534 2758 2815 \n",
       "Q 2500 3097 2075 3097 \n",
       "Q 1594 3097 1305 2825 \n",
       "Q 1016 2553 972 2059 \n",
       "L 3022 2063 \n",
       "z\n",
       "\" transform=\"scale(0.015625)\"/>\n",
       "      </defs>\n",
       "      <use xlink:href=\"#DejaVuSans-73\"/>\n",
       "      <use xlink:href=\"#DejaVuSans-6d\" x=\"52.099609\"/>\n",
       "      <use xlink:href=\"#DejaVuSans-6f\" x=\"149.511719\"/>\n",
       "      <use xlink:href=\"#DejaVuSans-6b\" x=\"210.693359\"/>\n",
       "      <use xlink:href=\"#DejaVuSans-65\" x=\"264.978516\"/>\n",
       "     </g>\n",
       "    </g>\n",
       "   </g>\n",
       "   <g id=\"text_4\">\n",
       "    <g clip-path=\"url(#p09a20f4008)\">\n",
       "     <!-- lung -->\n",
       "     <g transform=\"translate(388.631459 35.502986)scale(0.12 -0.12)\">\n",
       "      <defs>\n",
       "       <path id=\"DejaVuSans-6c\" d=\"M 603 4863 \n",
       "L 1178 4863 \n",
       "L 1178 0 \n",
       "L 603 0 \n",
       "L 603 4863 \n",
       "z\n",
       "\" transform=\"scale(0.015625)\"/>\n",
       "       <path id=\"DejaVuSans-6e\" d=\"M 3513 2113 \n",
       "L 3513 0 \n",
       "L 2938 0 \n",
       "L 2938 2094 \n",
       "Q 2938 2591 2744 2837 \n",
       "Q 2550 3084 2163 3084 \n",
       "Q 1697 3084 1428 2787 \n",
       "Q 1159 2491 1159 1978 \n",
       "L 1159 0 \n",
       "L 581 0 \n",
       "L 581 3500 \n",
       "L 1159 3500 \n",
       "L 1159 2956 \n",
       "Q 1366 3272 1645 3428 \n",
       "Q 1925 3584 2291 3584 \n",
       "Q 2894 3584 3203 3211 \n",
       "Q 3513 2838 3513 2113 \n",
       "z\n",
       "\" transform=\"scale(0.015625)\"/>\n",
       "       <path id=\"DejaVuSans-67\" d=\"M 2906 1791 \n",
       "Q 2906 2416 2648 2759 \n",
       "Q 2391 3103 1925 3103 \n",
       "Q 1463 3103 1205 2759 \n",
       "Q 947 2416 947 1791 \n",
       "Q 947 1169 1205 825 \n",
       "Q 1463 481 1925 481 \n",
       "Q 2391 481 2648 825 \n",
       "Q 2906 1169 2906 1791 \n",
       "z\n",
       "M 3481 434 \n",
       "Q 3481 -459 3084 -895 \n",
       "Q 2688 -1331 1869 -1331 \n",
       "Q 1566 -1331 1297 -1286 \n",
       "Q 1028 -1241 775 -1147 \n",
       "L 775 -588 \n",
       "Q 1028 -725 1275 -790 \n",
       "Q 1522 -856 1778 -856 \n",
       "Q 2344 -856 2625 -561 \n",
       "Q 2906 -266 2906 331 \n",
       "L 2906 616 \n",
       "Q 2728 306 2450 153 \n",
       "Q 2172 0 1784 0 \n",
       "Q 1141 0 747 490 \n",
       "Q 353 981 353 1791 \n",
       "Q 353 2603 747 3093 \n",
       "Q 1141 3584 1784 3584 \n",
       "Q 2172 3584 2450 3431 \n",
       "Q 2728 3278 2906 2969 \n",
       "L 2906 3500 \n",
       "L 3481 3500 \n",
       "L 3481 434 \n",
       "z\n",
       "\" transform=\"scale(0.015625)\"/>\n",
       "      </defs>\n",
       "      <use xlink:href=\"#DejaVuSans-6c\"/>\n",
       "      <use xlink:href=\"#DejaVuSans-75\" x=\"27.783203\"/>\n",
       "      <use xlink:href=\"#DejaVuSans-6e\" x=\"91.162109\"/>\n",
       "      <use xlink:href=\"#DejaVuSans-67\" x=\"154.541016\"/>\n",
       "     </g>\n",
       "    </g>\n",
       "   </g>\n",
       "   <g id=\"text_5\">\n",
       "    <g clip-path=\"url(#p09a20f4008)\">\n",
       "     <!-- bronc -->\n",
       "     <g transform=\"translate(92.413979 273.519514)scale(0.12 -0.12)\">\n",
       "      <defs>\n",
       "       <path id=\"DejaVuSans-72\" d=\"M 2631 2963 \n",
       "Q 2534 3019 2420 3045 \n",
       "Q 2306 3072 2169 3072 \n",
       "Q 1681 3072 1420 2755 \n",
       "Q 1159 2438 1159 1844 \n",
       "L 1159 0 \n",
       "L 581 0 \n",
       "L 581 3500 \n",
       "L 1159 3500 \n",
       "L 1159 2956 \n",
       "Q 1341 3275 1631 3429 \n",
       "Q 1922 3584 2338 3584 \n",
       "Q 2397 3584 2469 3576 \n",
       "Q 2541 3569 2628 3553 \n",
       "L 2631 2963 \n",
       "z\n",
       "\" transform=\"scale(0.015625)\"/>\n",
       "       <path id=\"DejaVuSans-63\" d=\"M 3122 3366 \n",
       "L 3122 2828 \n",
       "Q 2878 2963 2633 3030 \n",
       "Q 2388 3097 2138 3097 \n",
       "Q 1578 3097 1268 2742 \n",
       "Q 959 2388 959 1747 \n",
       "Q 959 1106 1268 751 \n",
       "Q 1578 397 2138 397 \n",
       "Q 2388 397 2633 464 \n",
       "Q 2878 531 3122 666 \n",
       "L 3122 134 \n",
       "Q 2881 22 2623 -34 \n",
       "Q 2366 -91 2075 -91 \n",
       "Q 1284 -91 818 406 \n",
       "Q 353 903 353 1747 \n",
       "Q 353 2603 823 3093 \n",
       "Q 1294 3584 2113 3584 \n",
       "Q 2378 3584 2631 3529 \n",
       "Q 2884 3475 3122 3366 \n",
       "z\n",
       "\" transform=\"scale(0.015625)\"/>\n",
       "      </defs>\n",
       "      <use xlink:href=\"#DejaVuSans-62\"/>\n",
       "      <use xlink:href=\"#DejaVuSans-72\" x=\"63.476562\"/>\n",
       "      <use xlink:href=\"#DejaVuSans-6f\" x=\"102.339844\"/>\n",
       "      <use xlink:href=\"#DejaVuSans-6e\" x=\"163.521484\"/>\n",
       "      <use xlink:href=\"#DejaVuSans-63\" x=\"226.900391\"/>\n",
       "     </g>\n",
       "    </g>\n",
       "   </g>\n",
       "   <g id=\"text_6\">\n",
       "    <g clip-path=\"url(#p09a20f4008)\">\n",
       "     <!-- either -->\n",
       "     <g transform=\"translate(267.226175 105.754937)scale(0.12 -0.12)\">\n",
       "      <defs>\n",
       "       <path id=\"DejaVuSans-68\" d=\"M 3513 2113 \n",
       "L 3513 0 \n",
       "L 2938 0 \n",
       "L 2938 2094 \n",
       "Q 2938 2591 2744 2837 \n",
       "Q 2550 3084 2163 3084 \n",
       "Q 1697 3084 1428 2787 \n",
       "Q 1159 2491 1159 1978 \n",
       "L 1159 0 \n",
       "L 581 0 \n",
       "L 581 4863 \n",
       "L 1159 4863 \n",
       "L 1159 2956 \n",
       "Q 1366 3272 1645 3428 \n",
       "Q 1925 3584 2291 3584 \n",
       "Q 2894 3584 3203 3211 \n",
       "Q 3513 2838 3513 2113 \n",
       "z\n",
       "\" transform=\"scale(0.015625)\"/>\n",
       "      </defs>\n",
       "      <use xlink:href=\"#DejaVuSans-65\"/>\n",
       "      <use xlink:href=\"#DejaVuSans-69\" x=\"61.523438\"/>\n",
       "      <use xlink:href=\"#DejaVuSans-74\" x=\"89.306641\"/>\n",
       "      <use xlink:href=\"#DejaVuSans-68\" x=\"128.515625\"/>\n",
       "      <use xlink:href=\"#DejaVuSans-65\" x=\"191.894531\"/>\n",
       "      <use xlink:href=\"#DejaVuSans-72\" x=\"253.417969\"/>\n",
       "     </g>\n",
       "    </g>\n",
       "   </g>\n",
       "   <g id=\"text_7\">\n",
       "    <g clip-path=\"url(#p09a20f4008)\">\n",
       "     <!-- xray -->\n",
       "     <g transform=\"translate(339.918208 150.145207)scale(0.12 -0.12)\">\n",
       "      <defs>\n",
       "       <path id=\"DejaVuSans-78\" d=\"M 3513 3500 \n",
       "L 2247 1797 \n",
       "L 3578 0 \n",
       "L 2900 0 \n",
       "L 1881 1375 \n",
       "L 863 0 \n",
       "L 184 0 \n",
       "L 1544 1831 \n",
       "L 300 3500 \n",
       "L 978 3500 \n",
       "L 1906 2253 \n",
       "L 2834 3500 \n",
       "L 3513 3500 \n",
       "z\n",
       "\" transform=\"scale(0.015625)\"/>\n",
       "       <path id=\"DejaVuSans-79\" d=\"M 2059 -325 \n",
       "Q 1816 -950 1584 -1140 \n",
       "Q 1353 -1331 966 -1331 \n",
       "L 506 -1331 \n",
       "L 506 -850 \n",
       "L 844 -850 \n",
       "Q 1081 -850 1212 -737 \n",
       "Q 1344 -625 1503 -206 \n",
       "L 1606 56 \n",
       "L 191 3500 \n",
       "L 800 3500 \n",
       "L 1894 763 \n",
       "L 2988 3500 \n",
       "L 3597 3500 \n",
       "L 2059 -325 \n",
       "z\n",
       "\" transform=\"scale(0.015625)\"/>\n",
       "      </defs>\n",
       "      <use xlink:href=\"#DejaVuSans-78\"/>\n",
       "      <use xlink:href=\"#DejaVuSans-72\" x=\"59.179688\"/>\n",
       "      <use xlink:href=\"#DejaVuSans-61\" x=\"100.292969\"/>\n",
       "      <use xlink:href=\"#DejaVuSans-79\" x=\"161.572266\"/>\n",
       "     </g>\n",
       "    </g>\n",
       "   </g>\n",
       "   <g id=\"text_8\">\n",
       "    <g clip-path=\"url(#p09a20f4008)\">\n",
       "     <!-- dysp -->\n",
       "     <g transform=\"translate(191.299646 182.046451)scale(0.12 -0.12)\">\n",
       "      <defs>\n",
       "       <path id=\"DejaVuSans-64\" d=\"M 2906 2969 \n",
       "L 2906 4863 \n",
       "L 3481 4863 \n",
       "L 3481 0 \n",
       "L 2906 0 \n",
       "L 2906 525 \n",
       "Q 2725 213 2448 61 \n",
       "Q 2172 -91 1784 -91 \n",
       "Q 1150 -91 751 415 \n",
       "Q 353 922 353 1747 \n",
       "Q 353 2572 751 3078 \n",
       "Q 1150 3584 1784 3584 \n",
       "Q 2172 3584 2448 3432 \n",
       "Q 2725 3281 2906 2969 \n",
       "z\n",
       "M 947 1747 \n",
       "Q 947 1113 1208 752 \n",
       "Q 1469 391 1925 391 \n",
       "Q 2381 391 2643 752 \n",
       "Q 2906 1113 2906 1747 \n",
       "Q 2906 2381 2643 2742 \n",
       "Q 2381 3103 1925 3103 \n",
       "Q 1469 3103 1208 2742 \n",
       "Q 947 2381 947 1747 \n",
       "z\n",
       "\" transform=\"scale(0.015625)\"/>\n",
       "       <path id=\"DejaVuSans-70\" d=\"M 1159 525 \n",
       "L 1159 -1331 \n",
       "L 581 -1331 \n",
       "L 581 3500 \n",
       "L 1159 3500 \n",
       "L 1159 2969 \n",
       "Q 1341 3281 1617 3432 \n",
       "Q 1894 3584 2278 3584 \n",
       "Q 2916 3584 3314 3078 \n",
       "Q 3713 2572 3713 1747 \n",
       "Q 3713 922 3314 415 \n",
       "Q 2916 -91 2278 -91 \n",
       "Q 1894 -91 1617 61 \n",
       "Q 1341 213 1159 525 \n",
       "z\n",
       "M 3116 1747 \n",
       "Q 3116 2381 2855 2742 \n",
       "Q 2594 3103 2138 3103 \n",
       "Q 1681 3103 1420 2742 \n",
       "Q 1159 2381 1159 1747 \n",
       "Q 1159 1113 1420 752 \n",
       "Q 1681 391 2138 391 \n",
       "Q 2594 391 2855 752 \n",
       "Q 3116 1113 3116 1747 \n",
       "z\n",
       "\" transform=\"scale(0.015625)\"/>\n",
       "      </defs>\n",
       "      <use xlink:href=\"#DejaVuSans-64\"/>\n",
       "      <use xlink:href=\"#DejaVuSans-79\" x=\"63.476562\"/>\n",
       "      <use xlink:href=\"#DejaVuSans-73\" x=\"122.65625\"/>\n",
       "      <use xlink:href=\"#DejaVuSans-70\" x=\"174.755859\"/>\n",
       "     </g>\n",
       "    </g>\n",
       "   </g>\n",
       "  </g>\n",
       " </g>\n",
       " <defs>\n",
       "  <clipPath id=\"p09a20f4008\">\n",
       "   <rect x=\"7.2\" y=\"7.2\" width=\"432\" height=\"288\"/>\n",
       "  </clipPath>\n",
       " </defs>\n",
       "</svg>\n"
      ],
      "text/plain": [
       "<Figure size 432x288 with 1 Axes>"
      ]
     },
     "metadata": {},
     "output_type": "display_data"
    },
    {
     "data": {
      "image/svg+xml": [
       "<?xml version=\"1.0\" encoding=\"utf-8\" standalone=\"no\"?>\n",
       "<!DOCTYPE svg PUBLIC \"-//W3C//DTD SVG 1.1//EN\"\n",
       "  \"http://www.w3.org/Graphics/SVG/1.1/DTD/svg11.dtd\">\n",
       "<svg xmlns:xlink=\"http://www.w3.org/1999/xlink\" width=\"446.4pt\" height=\"302.4pt\" viewBox=\"0 0 446.4 302.4\" xmlns=\"http://www.w3.org/2000/svg\" version=\"1.1\">\n",
       " <metadata>\n",
       "  <rdf:RDF xmlns:dc=\"http://purl.org/dc/elements/1.1/\" xmlns:cc=\"http://creativecommons.org/ns#\" xmlns:rdf=\"http://www.w3.org/1999/02/22-rdf-syntax-ns#\">\n",
       "   <cc:Work>\n",
       "    <dc:type rdf:resource=\"http://purl.org/dc/dcmitype/StillImage\"/>\n",
       "    <dc:date>2022-02-01T16:22:53.396248</dc:date>\n",
       "    <dc:format>image/svg+xml</dc:format>\n",
       "    <dc:creator>\n",
       "     <cc:Agent>\n",
       "      <dc:title>Matplotlib v3.5.1, https://matplotlib.org/</dc:title>\n",
       "     </cc:Agent>\n",
       "    </dc:creator>\n",
       "   </cc:Work>\n",
       "  </rdf:RDF>\n",
       " </metadata>\n",
       " <defs>\n",
       "  <style type=\"text/css\">*{stroke-linejoin: round; stroke-linecap: butt}</style>\n",
       " </defs>\n",
       " <g id=\"figure_1\">\n",
       "  <g id=\"patch_1\">\n",
       "   <path d=\"M 0 302.4 \n",
       "L 446.4 302.4 \n",
       "L 446.4 0 \n",
       "L 0 0 \n",
       "z\n",
       "\" style=\"fill: #ffffff\"/>\n",
       "  </g>\n",
       "  <g id=\"axes_1\">\n",
       "   <g id=\"patch_2\">\n",
       "    <path d=\"M 373.717474 201.586444 \n",
       "Q 381.518529 217.406745 388.825123 232.224297 \n",
       "\" clip-path=\"url(#pa635158a98)\" style=\"fill: none; stroke: #000000; stroke-linecap: round\"/>\n",
       "    <path d=\"M 388.849862 227.752229 \n",
       "L 388.825123 232.224297 \n",
       "L 385.262312 229.521264 \n",
       "L 388.849862 227.752229 \n",
       "z\n",
       "\" clip-path=\"url(#pa635158a98)\" style=\"stroke: #000000; stroke-linecap: round\"/>\n",
       "   </g>\n",
       "   <g id=\"patch_3\">\n",
       "    <path d=\"M 400.42092 192.765952 \n",
       "Q 397.430631 212.598289 394.607032 231.325089 \n",
       "\" clip-path=\"url(#pa635158a98)\" style=\"fill: none; stroke: #000000; stroke-linecap: round\"/>\n",
       "    <path d=\"M 397.181051 227.667983 \n",
       "L 394.607032 231.325089 \n",
       "L 393.225759 227.07161 \n",
       "L 397.181051 227.667983 \n",
       "z\n",
       "\" clip-path=\"url(#pa635158a98)\" style=\"stroke: #000000; stroke-linecap: round\"/>\n",
       "   </g>\n",
       "   <g id=\"patch_4\">\n",
       "    <path d=\"M 392.932696 249.650001 \n",
       "Q 392.709911 258.555763 392.515086 266.34384 \n",
       "\" clip-path=\"url(#pa635158a98)\" style=\"fill: none; stroke: #000000; stroke-linecap: round\"/>\n",
       "    <path d=\"M 394.614493 262.395107 \n",
       "L 392.515086 266.34384 \n",
       "L 390.615743 262.295075 \n",
       "L 394.614493 262.395107 \n",
       "z\n",
       "\" clip-path=\"url(#pa635158a98)\" style=\"stroke: #000000; stroke-linecap: round\"/>\n",
       "   </g>\n",
       "   <g id=\"patch_5\">\n",
       "    <path d=\"M 154.293288 157.857409 \n",
       "Q 135.450093 161.364844 117.706052 164.667684 \n",
       "\" clip-path=\"url(#pa635158a98)\" style=\"fill: none; stroke: #000000; stroke-linecap: round\"/>\n",
       "    <path d=\"M 122.004497 165.901932 \n",
       "L 117.706052 164.667684 \n",
       "L 121.272518 161.969477 \n",
       "L 122.004497 165.901932 \n",
       "z\n",
       "\" clip-path=\"url(#pa635158a98)\" style=\"stroke: #000000; stroke-linecap: round\"/>\n",
       "   </g>\n",
       "   <g id=\"patch_6\">\n",
       "    <path d=\"M 99.467705 167.186752 \n",
       "Q 76.392456 169.139219 54.431261 170.997423 \n",
       "\" clip-path=\"url(#pa635158a98)\" style=\"fill: none; stroke: #000000; stroke-linecap: round\"/>\n",
       "    <path d=\"M 58.585642 172.653055 \n",
       "L 54.431261 170.997423 \n",
       "L 58.248395 168.667297 \n",
       "L 58.585642 172.653055 \n",
       "z\n",
       "\" clip-path=\"url(#pa635158a98)\" style=\"stroke: #000000; stroke-linecap: round\"/>\n",
       "   </g>\n",
       "   <g id=\"PathCollection_1\">\n",
       "    <defs>\n",
       "     <path id=\"m9e259f5711\" d=\"M 0 8.660254 \n",
       "C 2.296726 8.660254 4.499694 7.747755 6.123724 6.123724 \n",
       "C 7.747755 4.499694 8.660254 2.296726 8.660254 0 \n",
       "C 8.660254 -2.296726 7.747755 -4.499694 6.123724 -6.123724 \n",
       "C 4.499694 -7.747755 2.296726 -8.660254 0 -8.660254 \n",
       "C -2.296726 -8.660254 -4.499694 -7.747755 -6.123724 -6.123724 \n",
       "C -7.747755 -4.499694 -8.660254 -2.296726 -8.660254 0 \n",
       "C -8.660254 2.296726 -7.747755 4.499694 -6.123724 6.123724 \n",
       "C -4.499694 7.747755 -2.296726 8.660254 0 8.660254 \n",
       "z\n",
       "\" style=\"stroke: #1f78b4\"/>\n",
       "    </defs>\n",
       "    <g clip-path=\"url(#pa635158a98)\">\n",
       "     <use xlink:href=\"#m9e259f5711\" x=\"369.888477\" y=\"193.821353\" style=\"fill: #1f78b4; stroke: #1f78b4\"/>\n",
       "     <use xlink:href=\"#m9e259f5711\" x=\"401.712397\" y=\"184.200564\" style=\"fill: #1f78b4; stroke: #1f78b4\"/>\n",
       "     <use xlink:href=\"#m9e259f5711\" x=\"392.270605\" y=\"276.116897\" style=\"fill: #1f78b4; stroke: #1f78b4\"/>\n",
       "     <use xlink:href=\"#m9e259f5711\" x=\"44.687603\" y=\"171.821864\" style=\"fill: #1f78b4; stroke: #1f78b4\"/>\n",
       "     <use xlink:href=\"#m9e259f5711\" x=\"393.149245\" y=\"240.993487\" style=\"fill: #1f78b4; stroke: #1f78b4\"/>\n",
       "     <use xlink:href=\"#m9e259f5711\" x=\"114.999517\" y=\"20.290909\" style=\"fill: #1f78b4; stroke: #1f78b4\"/>\n",
       "     <use xlink:href=\"#m9e259f5711\" x=\"162.805181\" y=\"156.273022\" style=\"fill: #1f78b4; stroke: #1f78b4\"/>\n",
       "     <use xlink:href=\"#m9e259f5711\" x=\"108.093975\" y=\"166.456857\" style=\"fill: #1f78b4; stroke: #1f78b4\"/>\n",
       "    </g>\n",
       "   </g>\n",
       "   <g id=\"text_1\">\n",
       "    <g clip-path=\"url(#pa635158a98)\">\n",
       "     <!-- lung -->\n",
       "     <g transform=\"translate(356.80754 197.132603)scale(0.12 -0.12)\">\n",
       "      <defs>\n",
       "       <path id=\"DejaVuSans-6c\" d=\"M 603 4863 \n",
       "L 1178 4863 \n",
       "L 1178 0 \n",
       "L 603 0 \n",
       "L 603 4863 \n",
       "z\n",
       "\" transform=\"scale(0.015625)\"/>\n",
       "       <path id=\"DejaVuSans-75\" d=\"M 544 1381 \n",
       "L 544 3500 \n",
       "L 1119 3500 \n",
       "L 1119 1403 \n",
       "Q 1119 906 1312 657 \n",
       "Q 1506 409 1894 409 \n",
       "Q 2359 409 2629 706 \n",
       "Q 2900 1003 2900 1516 \n",
       "L 2900 3500 \n",
       "L 3475 3500 \n",
       "L 3475 0 \n",
       "L 2900 0 \n",
       "L 2900 538 \n",
       "Q 2691 219 2414 64 \n",
       "Q 2138 -91 1772 -91 \n",
       "Q 1169 -91 856 284 \n",
       "Q 544 659 544 1381 \n",
       "z\n",
       "M 1991 3584 \n",
       "L 1991 3584 \n",
       "z\n",
       "\" transform=\"scale(0.015625)\"/>\n",
       "       <path id=\"DejaVuSans-6e\" d=\"M 3513 2113 \n",
       "L 3513 0 \n",
       "L 2938 0 \n",
       "L 2938 2094 \n",
       "Q 2938 2591 2744 2837 \n",
       "Q 2550 3084 2163 3084 \n",
       "Q 1697 3084 1428 2787 \n",
       "Q 1159 2491 1159 1978 \n",
       "L 1159 0 \n",
       "L 581 0 \n",
       "L 581 3500 \n",
       "L 1159 3500 \n",
       "L 1159 2956 \n",
       "Q 1366 3272 1645 3428 \n",
       "Q 1925 3584 2291 3584 \n",
       "Q 2894 3584 3203 3211 \n",
       "Q 3513 2838 3513 2113 \n",
       "z\n",
       "\" transform=\"scale(0.015625)\"/>\n",
       "       <path id=\"DejaVuSans-67\" d=\"M 2906 1791 \n",
       "Q 2906 2416 2648 2759 \n",
       "Q 2391 3103 1925 3103 \n",
       "Q 1463 3103 1205 2759 \n",
       "Q 947 2416 947 1791 \n",
       "Q 947 1169 1205 825 \n",
       "Q 1463 481 1925 481 \n",
       "Q 2391 481 2648 825 \n",
       "Q 2906 1169 2906 1791 \n",
       "z\n",
       "M 3481 434 \n",
       "Q 3481 -459 3084 -895 \n",
       "Q 2688 -1331 1869 -1331 \n",
       "Q 1566 -1331 1297 -1286 \n",
       "Q 1028 -1241 775 -1147 \n",
       "L 775 -588 \n",
       "Q 1028 -725 1275 -790 \n",
       "Q 1522 -856 1778 -856 \n",
       "Q 2344 -856 2625 -561 \n",
       "Q 2906 -266 2906 331 \n",
       "L 2906 616 \n",
       "Q 2728 306 2450 153 \n",
       "Q 2172 0 1784 0 \n",
       "Q 1141 0 747 490 \n",
       "Q 353 981 353 1791 \n",
       "Q 353 2603 747 3093 \n",
       "Q 1141 3584 1784 3584 \n",
       "Q 2172 3584 2450 3431 \n",
       "Q 2728 3278 2906 2969 \n",
       "L 2906 3500 \n",
       "L 3481 3500 \n",
       "L 3481 434 \n",
       "z\n",
       "\" transform=\"scale(0.015625)\"/>\n",
       "      </defs>\n",
       "      <use xlink:href=\"#DejaVuSans-6c\"/>\n",
       "      <use xlink:href=\"#DejaVuSans-75\" x=\"27.783203\"/>\n",
       "      <use xlink:href=\"#DejaVuSans-6e\" x=\"91.162109\"/>\n",
       "      <use xlink:href=\"#DejaVuSans-67\" x=\"154.541016\"/>\n",
       "     </g>\n",
       "    </g>\n",
       "   </g>\n",
       "   <g id=\"text_2\">\n",
       "    <g clip-path=\"url(#pa635158a98)\">\n",
       "     <!-- tub -->\n",
       "     <g transform=\"translate(391.748647 187.511814)scale(0.12 -0.12)\">\n",
       "      <defs>\n",
       "       <path id=\"DejaVuSans-74\" d=\"M 1172 4494 \n",
       "L 1172 3500 \n",
       "L 2356 3500 \n",
       "L 2356 3053 \n",
       "L 1172 3053 \n",
       "L 1172 1153 \n",
       "Q 1172 725 1289 603 \n",
       "Q 1406 481 1766 481 \n",
       "L 2356 481 \n",
       "L 2356 0 \n",
       "L 1766 0 \n",
       "Q 1100 0 847 248 \n",
       "Q 594 497 594 1153 \n",
       "L 594 3053 \n",
       "L 172 3053 \n",
       "L 172 3500 \n",
       "L 594 3500 \n",
       "L 594 4494 \n",
       "L 1172 4494 \n",
       "z\n",
       "\" transform=\"scale(0.015625)\"/>\n",
       "       <path id=\"DejaVuSans-62\" d=\"M 3116 1747 \n",
       "Q 3116 2381 2855 2742 \n",
       "Q 2594 3103 2138 3103 \n",
       "Q 1681 3103 1420 2742 \n",
       "Q 1159 2381 1159 1747 \n",
       "Q 1159 1113 1420 752 \n",
       "Q 1681 391 2138 391 \n",
       "Q 2594 391 2855 752 \n",
       "Q 3116 1113 3116 1747 \n",
       "z\n",
       "M 1159 2969 \n",
       "Q 1341 3281 1617 3432 \n",
       "Q 1894 3584 2278 3584 \n",
       "Q 2916 3584 3314 3078 \n",
       "Q 3713 2572 3713 1747 \n",
       "Q 3713 922 3314 415 \n",
       "Q 2916 -91 2278 -91 \n",
       "Q 1894 -91 1617 61 \n",
       "Q 1341 213 1159 525 \n",
       "L 1159 0 \n",
       "L 581 0 \n",
       "L 581 4863 \n",
       "L 1159 4863 \n",
       "L 1159 2969 \n",
       "z\n",
       "\" transform=\"scale(0.015625)\"/>\n",
       "      </defs>\n",
       "      <use xlink:href=\"#DejaVuSans-74\"/>\n",
       "      <use xlink:href=\"#DejaVuSans-75\" x=\"39.208984\"/>\n",
       "      <use xlink:href=\"#DejaVuSans-62\" x=\"102.587891\"/>\n",
       "     </g>\n",
       "    </g>\n",
       "   </g>\n",
       "   <g id=\"text_3\">\n",
       "    <g clip-path=\"url(#pa635158a98)\">\n",
       "     <!-- xray -->\n",
       "     <g transform=\"translate(379.024668 279.428147)scale(0.12 -0.12)\">\n",
       "      <defs>\n",
       "       <path id=\"DejaVuSans-78\" d=\"M 3513 3500 \n",
       "L 2247 1797 \n",
       "L 3578 0 \n",
       "L 2900 0 \n",
       "L 1881 1375 \n",
       "L 863 0 \n",
       "L 184 0 \n",
       "L 1544 1831 \n",
       "L 300 3500 \n",
       "L 978 3500 \n",
       "L 1906 2253 \n",
       "L 2834 3500 \n",
       "L 3513 3500 \n",
       "z\n",
       "\" transform=\"scale(0.015625)\"/>\n",
       "       <path id=\"DejaVuSans-72\" d=\"M 2631 2963 \n",
       "Q 2534 3019 2420 3045 \n",
       "Q 2306 3072 2169 3072 \n",
       "Q 1681 3072 1420 2755 \n",
       "Q 1159 2438 1159 1844 \n",
       "L 1159 0 \n",
       "L 581 0 \n",
       "L 581 3500 \n",
       "L 1159 3500 \n",
       "L 1159 2956 \n",
       "Q 1341 3275 1631 3429 \n",
       "Q 1922 3584 2338 3584 \n",
       "Q 2397 3584 2469 3576 \n",
       "Q 2541 3569 2628 3553 \n",
       "L 2631 2963 \n",
       "z\n",
       "\" transform=\"scale(0.015625)\"/>\n",
       "       <path id=\"DejaVuSans-61\" d=\"M 2194 1759 \n",
       "Q 1497 1759 1228 1600 \n",
       "Q 959 1441 959 1056 \n",
       "Q 959 750 1161 570 \n",
       "Q 1363 391 1709 391 \n",
       "Q 2188 391 2477 730 \n",
       "Q 2766 1069 2766 1631 \n",
       "L 2766 1759 \n",
       "L 2194 1759 \n",
       "z\n",
       "M 3341 1997 \n",
       "L 3341 0 \n",
       "L 2766 0 \n",
       "L 2766 531 \n",
       "Q 2569 213 2275 61 \n",
       "Q 1981 -91 1556 -91 \n",
       "Q 1019 -91 701 211 \n",
       "Q 384 513 384 1019 \n",
       "Q 384 1609 779 1909 \n",
       "Q 1175 2209 1959 2209 \n",
       "L 2766 2209 \n",
       "L 2766 2266 \n",
       "Q 2766 2663 2505 2880 \n",
       "Q 2244 3097 1772 3097 \n",
       "Q 1472 3097 1187 3025 \n",
       "Q 903 2953 641 2809 \n",
       "L 641 3341 \n",
       "Q 956 3463 1253 3523 \n",
       "Q 1550 3584 1831 3584 \n",
       "Q 2591 3584 2966 3190 \n",
       "Q 3341 2797 3341 1997 \n",
       "z\n",
       "\" transform=\"scale(0.015625)\"/>\n",
       "       <path id=\"DejaVuSans-79\" d=\"M 2059 -325 \n",
       "Q 1816 -950 1584 -1140 \n",
       "Q 1353 -1331 966 -1331 \n",
       "L 506 -1331 \n",
       "L 506 -850 \n",
       "L 844 -850 \n",
       "Q 1081 -850 1212 -737 \n",
       "Q 1344 -625 1503 -206 \n",
       "L 1606 56 \n",
       "L 191 3500 \n",
       "L 800 3500 \n",
       "L 1894 763 \n",
       "L 2988 3500 \n",
       "L 3597 3500 \n",
       "L 2059 -325 \n",
       "z\n",
       "\" transform=\"scale(0.015625)\"/>\n",
       "      </defs>\n",
       "      <use xlink:href=\"#DejaVuSans-78\"/>\n",
       "      <use xlink:href=\"#DejaVuSans-72\" x=\"59.179688\"/>\n",
       "      <use xlink:href=\"#DejaVuSans-61\" x=\"100.292969\"/>\n",
       "      <use xlink:href=\"#DejaVuSans-79\" x=\"161.572266\"/>\n",
       "     </g>\n",
       "    </g>\n",
       "   </g>\n",
       "   <g id=\"text_4\">\n",
       "    <g clip-path=\"url(#pa635158a98)\">\n",
       "     <!-- smoke -->\n",
       "     <g transform=\"translate(25.097603 175.133114)scale(0.12 -0.12)\">\n",
       "      <defs>\n",
       "       <path id=\"DejaVuSans-73\" d=\"M 2834 3397 \n",
       "L 2834 2853 \n",
       "Q 2591 2978 2328 3040 \n",
       "Q 2066 3103 1784 3103 \n",
       "Q 1356 3103 1142 2972 \n",
       "Q 928 2841 928 2578 \n",
       "Q 928 2378 1081 2264 \n",
       "Q 1234 2150 1697 2047 \n",
       "L 1894 2003 \n",
       "Q 2506 1872 2764 1633 \n",
       "Q 3022 1394 3022 966 \n",
       "Q 3022 478 2636 193 \n",
       "Q 2250 -91 1575 -91 \n",
       "Q 1294 -91 989 -36 \n",
       "Q 684 19 347 128 \n",
       "L 347 722 \n",
       "Q 666 556 975 473 \n",
       "Q 1284 391 1588 391 \n",
       "Q 1994 391 2212 530 \n",
       "Q 2431 669 2431 922 \n",
       "Q 2431 1156 2273 1281 \n",
       "Q 2116 1406 1581 1522 \n",
       "L 1381 1569 \n",
       "Q 847 1681 609 1914 \n",
       "Q 372 2147 372 2553 \n",
       "Q 372 3047 722 3315 \n",
       "Q 1072 3584 1716 3584 \n",
       "Q 2034 3584 2315 3537 \n",
       "Q 2597 3491 2834 3397 \n",
       "z\n",
       "\" transform=\"scale(0.015625)\"/>\n",
       "       <path id=\"DejaVuSans-6d\" d=\"M 3328 2828 \n",
       "Q 3544 3216 3844 3400 \n",
       "Q 4144 3584 4550 3584 \n",
       "Q 5097 3584 5394 3201 \n",
       "Q 5691 2819 5691 2113 \n",
       "L 5691 0 \n",
       "L 5113 0 \n",
       "L 5113 2094 \n",
       "Q 5113 2597 4934 2840 \n",
       "Q 4756 3084 4391 3084 \n",
       "Q 3944 3084 3684 2787 \n",
       "Q 3425 2491 3425 1978 \n",
       "L 3425 0 \n",
       "L 2847 0 \n",
       "L 2847 2094 \n",
       "Q 2847 2600 2669 2842 \n",
       "Q 2491 3084 2119 3084 \n",
       "Q 1678 3084 1418 2786 \n",
       "Q 1159 2488 1159 1978 \n",
       "L 1159 0 \n",
       "L 581 0 \n",
       "L 581 3500 \n",
       "L 1159 3500 \n",
       "L 1159 2956 \n",
       "Q 1356 3278 1631 3431 \n",
       "Q 1906 3584 2284 3584 \n",
       "Q 2666 3584 2933 3390 \n",
       "Q 3200 3197 3328 2828 \n",
       "z\n",
       "\" transform=\"scale(0.015625)\"/>\n",
       "       <path id=\"DejaVuSans-6f\" d=\"M 1959 3097 \n",
       "Q 1497 3097 1228 2736 \n",
       "Q 959 2375 959 1747 \n",
       "Q 959 1119 1226 758 \n",
       "Q 1494 397 1959 397 \n",
       "Q 2419 397 2687 759 \n",
       "Q 2956 1122 2956 1747 \n",
       "Q 2956 2369 2687 2733 \n",
       "Q 2419 3097 1959 3097 \n",
       "z\n",
       "M 1959 3584 \n",
       "Q 2709 3584 3137 3096 \n",
       "Q 3566 2609 3566 1747 \n",
       "Q 3566 888 3137 398 \n",
       "Q 2709 -91 1959 -91 \n",
       "Q 1206 -91 779 398 \n",
       "Q 353 888 353 1747 \n",
       "Q 353 2609 779 3096 \n",
       "Q 1206 3584 1959 3584 \n",
       "z\n",
       "\" transform=\"scale(0.015625)\"/>\n",
       "       <path id=\"DejaVuSans-6b\" d=\"M 581 4863 \n",
       "L 1159 4863 \n",
       "L 1159 1991 \n",
       "L 2875 3500 \n",
       "L 3609 3500 \n",
       "L 1753 1863 \n",
       "L 3688 0 \n",
       "L 2938 0 \n",
       "L 1159 1709 \n",
       "L 1159 0 \n",
       "L 581 0 \n",
       "L 581 4863 \n",
       "z\n",
       "\" transform=\"scale(0.015625)\"/>\n",
       "       <path id=\"DejaVuSans-65\" d=\"M 3597 1894 \n",
       "L 3597 1613 \n",
       "L 953 1613 \n",
       "Q 991 1019 1311 708 \n",
       "Q 1631 397 2203 397 \n",
       "Q 2534 397 2845 478 \n",
       "Q 3156 559 3463 722 \n",
       "L 3463 178 \n",
       "Q 3153 47 2828 -22 \n",
       "Q 2503 -91 2169 -91 \n",
       "Q 1331 -91 842 396 \n",
       "Q 353 884 353 1716 \n",
       "Q 353 2575 817 3079 \n",
       "Q 1281 3584 2069 3584 \n",
       "Q 2775 3584 3186 3129 \n",
       "Q 3597 2675 3597 1894 \n",
       "z\n",
       "M 3022 2063 \n",
       "Q 3016 2534 2758 2815 \n",
       "Q 2500 3097 2075 3097 \n",
       "Q 1594 3097 1305 2825 \n",
       "Q 1016 2553 972 2059 \n",
       "L 3022 2063 \n",
       "z\n",
       "\" transform=\"scale(0.015625)\"/>\n",
       "      </defs>\n",
       "      <use xlink:href=\"#DejaVuSans-73\"/>\n",
       "      <use xlink:href=\"#DejaVuSans-6d\" x=\"52.099609\"/>\n",
       "      <use xlink:href=\"#DejaVuSans-6f\" x=\"149.511719\"/>\n",
       "      <use xlink:href=\"#DejaVuSans-6b\" x=\"210.693359\"/>\n",
       "      <use xlink:href=\"#DejaVuSans-65\" x=\"264.978516\"/>\n",
       "     </g>\n",
       "    </g>\n",
       "   </g>\n",
       "   <g id=\"text_5\">\n",
       "    <g clip-path=\"url(#pa635158a98)\">\n",
       "     <!-- either -->\n",
       "     <g transform=\"translate(375.47737 244.304737)scale(0.12 -0.12)\">\n",
       "      <defs>\n",
       "       <path id=\"DejaVuSans-69\" d=\"M 603 3500 \n",
       "L 1178 3500 \n",
       "L 1178 0 \n",
       "L 603 0 \n",
       "L 603 3500 \n",
       "z\n",
       "M 603 4863 \n",
       "L 1178 4863 \n",
       "L 1178 4134 \n",
       "L 603 4134 \n",
       "L 603 4863 \n",
       "z\n",
       "\" transform=\"scale(0.015625)\"/>\n",
       "       <path id=\"DejaVuSans-68\" d=\"M 3513 2113 \n",
       "L 3513 0 \n",
       "L 2938 0 \n",
       "L 2938 2094 \n",
       "Q 2938 2591 2744 2837 \n",
       "Q 2550 3084 2163 3084 \n",
       "Q 1697 3084 1428 2787 \n",
       "Q 1159 2491 1159 1978 \n",
       "L 1159 0 \n",
       "L 581 0 \n",
       "L 581 4863 \n",
       "L 1159 4863 \n",
       "L 1159 2956 \n",
       "Q 1366 3272 1645 3428 \n",
       "Q 1925 3584 2291 3584 \n",
       "Q 2894 3584 3203 3211 \n",
       "Q 3513 2838 3513 2113 \n",
       "z\n",
       "\" transform=\"scale(0.015625)\"/>\n",
       "      </defs>\n",
       "      <use xlink:href=\"#DejaVuSans-65\"/>\n",
       "      <use xlink:href=\"#DejaVuSans-69\" x=\"61.523438\"/>\n",
       "      <use xlink:href=\"#DejaVuSans-74\" x=\"89.306641\"/>\n",
       "      <use xlink:href=\"#DejaVuSans-68\" x=\"128.515625\"/>\n",
       "      <use xlink:href=\"#DejaVuSans-65\" x=\"191.894531\"/>\n",
       "      <use xlink:href=\"#DejaVuSans-72\" x=\"253.417969\"/>\n",
       "     </g>\n",
       "    </g>\n",
       "   </g>\n",
       "   <g id=\"text_6\">\n",
       "    <g clip-path=\"url(#pa635158a98)\">\n",
       "     <!-- asia -->\n",
       "     <g transform=\"translate(102.853267 23.602159)scale(0.12 -0.12)\">\n",
       "      <use xlink:href=\"#DejaVuSans-61\"/>\n",
       "      <use xlink:href=\"#DejaVuSans-73\" x=\"61.279297\"/>\n",
       "      <use xlink:href=\"#DejaVuSans-69\" x=\"113.378906\"/>\n",
       "      <use xlink:href=\"#DejaVuSans-61\" x=\"141.162109\"/>\n",
       "     </g>\n",
       "    </g>\n",
       "   </g>\n",
       "   <g id=\"text_7\">\n",
       "    <g clip-path=\"url(#pa635158a98)\">\n",
       "     <!-- dysp -->\n",
       "     <g transform=\"translate(148.510181 159.584272)scale(0.12 -0.12)\">\n",
       "      <defs>\n",
       "       <path id=\"DejaVuSans-64\" d=\"M 2906 2969 \n",
       "L 2906 4863 \n",
       "L 3481 4863 \n",
       "L 3481 0 \n",
       "L 2906 0 \n",
       "L 2906 525 \n",
       "Q 2725 213 2448 61 \n",
       "Q 2172 -91 1784 -91 \n",
       "Q 1150 -91 751 415 \n",
       "Q 353 922 353 1747 \n",
       "Q 353 2572 751 3078 \n",
       "Q 1150 3584 1784 3584 \n",
       "Q 2172 3584 2448 3432 \n",
       "Q 2725 3281 2906 2969 \n",
       "z\n",
       "M 947 1747 \n",
       "Q 947 1113 1208 752 \n",
       "Q 1469 391 1925 391 \n",
       "Q 2381 391 2643 752 \n",
       "Q 2906 1113 2906 1747 \n",
       "Q 2906 2381 2643 2742 \n",
       "Q 2381 3103 1925 3103 \n",
       "Q 1469 3103 1208 2742 \n",
       "Q 947 2381 947 1747 \n",
       "z\n",
       "\" transform=\"scale(0.015625)\"/>\n",
       "       <path id=\"DejaVuSans-70\" d=\"M 1159 525 \n",
       "L 1159 -1331 \n",
       "L 581 -1331 \n",
       "L 581 3500 \n",
       "L 1159 3500 \n",
       "L 1159 2969 \n",
       "Q 1341 3281 1617 3432 \n",
       "Q 1894 3584 2278 3584 \n",
       "Q 2916 3584 3314 3078 \n",
       "Q 3713 2572 3713 1747 \n",
       "Q 3713 922 3314 415 \n",
       "Q 2916 -91 2278 -91 \n",
       "Q 1894 -91 1617 61 \n",
       "Q 1341 213 1159 525 \n",
       "z\n",
       "M 3116 1747 \n",
       "Q 3116 2381 2855 2742 \n",
       "Q 2594 3103 2138 3103 \n",
       "Q 1681 3103 1420 2742 \n",
       "Q 1159 2381 1159 1747 \n",
       "Q 1159 1113 1420 752 \n",
       "Q 1681 391 2138 391 \n",
       "Q 2594 391 2855 752 \n",
       "Q 3116 1113 3116 1747 \n",
       "z\n",
       "\" transform=\"scale(0.015625)\"/>\n",
       "      </defs>\n",
       "      <use xlink:href=\"#DejaVuSans-64\"/>\n",
       "      <use xlink:href=\"#DejaVuSans-79\" x=\"63.476562\"/>\n",
       "      <use xlink:href=\"#DejaVuSans-73\" x=\"122.65625\"/>\n",
       "      <use xlink:href=\"#DejaVuSans-70\" x=\"174.755859\"/>\n",
       "     </g>\n",
       "    </g>\n",
       "   </g>\n",
       "   <g id=\"text_8\">\n",
       "    <g clip-path=\"url(#pa635158a98)\">\n",
       "     <!-- bronc -->\n",
       "     <g transform=\"translate(91.180537 169.768107)scale(0.12 -0.12)\">\n",
       "      <defs>\n",
       "       <path id=\"DejaVuSans-63\" d=\"M 3122 3366 \n",
       "L 3122 2828 \n",
       "Q 2878 2963 2633 3030 \n",
       "Q 2388 3097 2138 3097 \n",
       "Q 1578 3097 1268 2742 \n",
       "Q 959 2388 959 1747 \n",
       "Q 959 1106 1268 751 \n",
       "Q 1578 397 2138 397 \n",
       "Q 2388 397 2633 464 \n",
       "Q 2878 531 3122 666 \n",
       "L 3122 134 \n",
       "Q 2881 22 2623 -34 \n",
       "Q 2366 -91 2075 -91 \n",
       "Q 1284 -91 818 406 \n",
       "Q 353 903 353 1747 \n",
       "Q 353 2603 823 3093 \n",
       "Q 1294 3584 2113 3584 \n",
       "Q 2378 3584 2631 3529 \n",
       "Q 2884 3475 3122 3366 \n",
       "z\n",
       "\" transform=\"scale(0.015625)\"/>\n",
       "      </defs>\n",
       "      <use xlink:href=\"#DejaVuSans-62\"/>\n",
       "      <use xlink:href=\"#DejaVuSans-72\" x=\"63.476562\"/>\n",
       "      <use xlink:href=\"#DejaVuSans-6f\" x=\"102.339844\"/>\n",
       "      <use xlink:href=\"#DejaVuSans-6e\" x=\"163.521484\"/>\n",
       "      <use xlink:href=\"#DejaVuSans-63\" x=\"226.900391\"/>\n",
       "     </g>\n",
       "    </g>\n",
       "   </g>\n",
       "  </g>\n",
       " </g>\n",
       " <defs>\n",
       "  <clipPath id=\"pa635158a98\">\n",
       "   <rect x=\"7.2\" y=\"7.2\" width=\"432\" height=\"288\"/>\n",
       "  </clipPath>\n",
       " </defs>\n",
       "</svg>\n"
      ],
      "text/plain": [
       "<Figure size 432x288 with 1 Axes>"
      ]
     },
     "metadata": {},
     "output_type": "display_data"
    },
    {
     "data": {
      "image/svg+xml": [
       "<?xml version=\"1.0\" encoding=\"utf-8\" standalone=\"no\"?>\n",
       "<!DOCTYPE svg PUBLIC \"-//W3C//DTD SVG 1.1//EN\"\n",
       "  \"http://www.w3.org/Graphics/SVG/1.1/DTD/svg11.dtd\">\n",
       "<svg xmlns:xlink=\"http://www.w3.org/1999/xlink\" width=\"446.4pt\" height=\"302.4pt\" viewBox=\"0 0 446.4 302.4\" xmlns=\"http://www.w3.org/2000/svg\" version=\"1.1\">\n",
       " <metadata>\n",
       "  <rdf:RDF xmlns:dc=\"http://purl.org/dc/elements/1.1/\" xmlns:cc=\"http://creativecommons.org/ns#\" xmlns:rdf=\"http://www.w3.org/1999/02/22-rdf-syntax-ns#\">\n",
       "   <cc:Work>\n",
       "    <dc:type rdf:resource=\"http://purl.org/dc/dcmitype/StillImage\"/>\n",
       "    <dc:date>2022-02-01T16:22:55.571770</dc:date>\n",
       "    <dc:format>image/svg+xml</dc:format>\n",
       "    <dc:creator>\n",
       "     <cc:Agent>\n",
       "      <dc:title>Matplotlib v3.5.1, https://matplotlib.org/</dc:title>\n",
       "     </cc:Agent>\n",
       "    </dc:creator>\n",
       "   </cc:Work>\n",
       "  </rdf:RDF>\n",
       " </metadata>\n",
       " <defs>\n",
       "  <style type=\"text/css\">*{stroke-linejoin: round; stroke-linecap: butt}</style>\n",
       " </defs>\n",
       " <g id=\"figure_1\">\n",
       "  <g id=\"patch_1\">\n",
       "   <path d=\"M 0 302.4 \n",
       "L 446.4 302.4 \n",
       "L 446.4 0 \n",
       "L 0 0 \n",
       "z\n",
       "\" style=\"fill: #ffffff\"/>\n",
       "  </g>\n",
       "  <g id=\"axes_1\">\n",
       "   <g id=\"patch_2\">\n",
       "    <path d=\"M 101.067367 228.75037 \n",
       "Q 70.936495 225.710414 41.91801 222.782689 \n",
       "\" clip-path=\"url(#p0f6dc732d1)\" style=\"fill: none; stroke: #000000; stroke-linecap: round\"/>\n",
       "    <path d=\"M 45.697042 225.174115 \n",
       "L 41.91801 222.782689 \n",
       "L 46.09857 221.19432 \n",
       "L 45.697042 225.174115 \n",
       "z\n",
       "\" clip-path=\"url(#p0f6dc732d1)\" style=\"stroke: #000000; stroke-linecap: round\"/>\n",
       "   </g>\n",
       "   <g id=\"patch_3\">\n",
       "    <path d=\"M 102.689116 234.733452 \n",
       "Q 97.458226 238.560236 93.129681 241.726889 \n",
       "\" clip-path=\"url(#p0f6dc732d1)\" style=\"fill: none; stroke: #000000; stroke-linecap: round\"/>\n",
       "    <path d=\"M 97.538887 240.979292 \n",
       "L 93.129681 241.726889 \n",
       "L 95.177127 237.750966 \n",
       "L 97.538887 240.979292 \n",
       "z\n",
       "\" clip-path=\"url(#p0f6dc732d1)\" style=\"stroke: #000000; stroke-linecap: round\"/>\n",
       "   </g>\n",
       "   <g id=\"patch_4\">\n",
       "    <path d=\"M 77.444845 243.724844 \n",
       "Q 58.714243 234.650519 40.989816 226.063651 \n",
       "\" clip-path=\"url(#p0f6dc732d1)\" style=\"fill: none; stroke: #000000; stroke-linecap: round\"/>\n",
       "    <path d=\"M 43.717625 229.607527 \n",
       "L 40.989816 226.063651 \n",
       "L 45.461602 226.007729 \n",
       "L 43.717625 229.607527 \n",
       "z\n",
       "\" clip-path=\"url(#p0f6dc732d1)\" style=\"stroke: #000000; stroke-linecap: round\"/>\n",
       "   </g>\n",
       "   <g id=\"patch_5\">\n",
       "    <path d=\"M 54.375877 262.600376 \n",
       "Q 45.352168 246.004632 36.86253 230.391113 \n",
       "\" clip-path=\"url(#p0f6dc732d1)\" style=\"fill: none; stroke: #000000; stroke-linecap: round\"/>\n",
       "    <path d=\"M 37.016224 234.860607 \n",
       "L 36.86253 230.391113 \n",
       "L 40.530342 232.949854 \n",
       "L 37.016224 234.860607 \n",
       "z\n",
       "\" clip-path=\"url(#p0f6dc732d1)\" style=\"stroke: #000000; stroke-linecap: round\"/>\n",
       "   </g>\n",
       "   <g id=\"patch_6\">\n",
       "    <path d=\"M 131.664112 55.601366 \n",
       "Q 113.537825 45.934749 96.398056 36.794234 \n",
       "\" clip-path=\"url(#p0f6dc732d1)\" style=\"fill: none; stroke: #000000; stroke-linecap: round\"/>\n",
       "    <path d=\"M 98.986406 40.441211 \n",
       "L 96.398056 36.794234 \n",
       "L 100.868648 36.91174 \n",
       "L 98.986406 40.441211 \n",
       "z\n",
       "\" clip-path=\"url(#p0f6dc732d1)\" style=\"stroke: #000000; stroke-linecap: round\"/>\n",
       "   </g>\n",
       "   <g id=\"PathCollection_1\">\n",
       "    <defs>\n",
       "     <path id=\"mdf79352e75\" d=\"M 0 8.660254 \n",
       "C 2.296726 8.660254 4.499694 7.747755 6.123724 6.123724 \n",
       "C 7.747755 4.499694 8.660254 2.296726 8.660254 0 \n",
       "C 8.660254 -2.296726 7.747755 -4.499694 6.123724 -6.123724 \n",
       "C 4.499694 -7.747755 2.296726 -8.660254 0 -8.660254 \n",
       "C -2.296726 -8.660254 -4.499694 -7.747755 -6.123724 -6.123724 \n",
       "C -7.747755 -4.499694 -8.660254 -2.296726 -8.660254 0 \n",
       "C -8.660254 2.296726 -7.747755 4.499694 -6.123724 6.123724 \n",
       "C -4.499694 7.747755 -2.296726 8.660254 0 8.660254 \n",
       "z\n",
       "\" style=\"stroke: #1f78b4\"/>\n",
       "    </defs>\n",
       "    <g clip-path=\"url(#p0f6dc732d1)\">\n",
       "     <use xlink:href=\"#mdf79352e75\" x=\"109.679744\" y=\"229.619287\" style=\"fill: #1f78b4; stroke: #1f78b4\"/>\n",
       "     <use xlink:href=\"#mdf79352e75\" x=\"85.237905\" y=\"247.50031\" style=\"fill: #1f78b4; stroke: #1f78b4\"/>\n",
       "     <use xlink:href=\"#mdf79352e75\" x=\"58.512563\" y=\"270.208264\" style=\"fill: #1f78b4; stroke: #1f78b4\"/>\n",
       "     <use xlink:href=\"#mdf79352e75\" x=\"419.563636\" y=\"37.265941\" style=\"fill: #1f78b4; stroke: #1f78b4\"/>\n",
       "     <use xlink:href=\"#mdf79352e75\" x=\"32.191999\" y=\"221.801415\" style=\"fill: #1f78b4; stroke: #1f78b4\"/>\n",
       "     <use xlink:href=\"#mdf79352e75\" x=\"75.354809\" y=\"114.984848\" style=\"fill: #1f78b4; stroke: #1f78b4\"/>\n",
       "     <use xlink:href=\"#mdf79352e75\" x=\"139.304696\" y=\"59.676034\" style=\"fill: #1f78b4; stroke: #1f78b4\"/>\n",
       "     <use xlink:href=\"#mdf79352e75\" x=\"87.767714\" y=\"32.191736\" style=\"fill: #1f78b4; stroke: #1f78b4\"/>\n",
       "    </g>\n",
       "   </g>\n",
       "   <g id=\"text_1\">\n",
       "    <g clip-path=\"url(#p0f6dc732d1)\">\n",
       "     <!-- lung -->\n",
       "     <g transform=\"translate(96.598807 232.930537)scale(0.12 -0.12)\">\n",
       "      <defs>\n",
       "       <path id=\"DejaVuSans-6c\" d=\"M 603 4863 \n",
       "L 1178 4863 \n",
       "L 1178 0 \n",
       "L 603 0 \n",
       "L 603 4863 \n",
       "z\n",
       "\" transform=\"scale(0.015625)\"/>\n",
       "       <path id=\"DejaVuSans-75\" d=\"M 544 1381 \n",
       "L 544 3500 \n",
       "L 1119 3500 \n",
       "L 1119 1403 \n",
       "Q 1119 906 1312 657 \n",
       "Q 1506 409 1894 409 \n",
       "Q 2359 409 2629 706 \n",
       "Q 2900 1003 2900 1516 \n",
       "L 2900 3500 \n",
       "L 3475 3500 \n",
       "L 3475 0 \n",
       "L 2900 0 \n",
       "L 2900 538 \n",
       "Q 2691 219 2414 64 \n",
       "Q 2138 -91 1772 -91 \n",
       "Q 1169 -91 856 284 \n",
       "Q 544 659 544 1381 \n",
       "z\n",
       "M 1991 3584 \n",
       "L 1991 3584 \n",
       "z\n",
       "\" transform=\"scale(0.015625)\"/>\n",
       "       <path id=\"DejaVuSans-6e\" d=\"M 3513 2113 \n",
       "L 3513 0 \n",
       "L 2938 0 \n",
       "L 2938 2094 \n",
       "Q 2938 2591 2744 2837 \n",
       "Q 2550 3084 2163 3084 \n",
       "Q 1697 3084 1428 2787 \n",
       "Q 1159 2491 1159 1978 \n",
       "L 1159 0 \n",
       "L 581 0 \n",
       "L 581 3500 \n",
       "L 1159 3500 \n",
       "L 1159 2956 \n",
       "Q 1366 3272 1645 3428 \n",
       "Q 1925 3584 2291 3584 \n",
       "Q 2894 3584 3203 3211 \n",
       "Q 3513 2838 3513 2113 \n",
       "z\n",
       "\" transform=\"scale(0.015625)\"/>\n",
       "       <path id=\"DejaVuSans-67\" d=\"M 2906 1791 \n",
       "Q 2906 2416 2648 2759 \n",
       "Q 2391 3103 1925 3103 \n",
       "Q 1463 3103 1205 2759 \n",
       "Q 947 2416 947 1791 \n",
       "Q 947 1169 1205 825 \n",
       "Q 1463 481 1925 481 \n",
       "Q 2391 481 2648 825 \n",
       "Q 2906 1169 2906 1791 \n",
       "z\n",
       "M 3481 434 \n",
       "Q 3481 -459 3084 -895 \n",
       "Q 2688 -1331 1869 -1331 \n",
       "Q 1566 -1331 1297 -1286 \n",
       "Q 1028 -1241 775 -1147 \n",
       "L 775 -588 \n",
       "Q 1028 -725 1275 -790 \n",
       "Q 1522 -856 1778 -856 \n",
       "Q 2344 -856 2625 -561 \n",
       "Q 2906 -266 2906 331 \n",
       "L 2906 616 \n",
       "Q 2728 306 2450 153 \n",
       "Q 2172 0 1784 0 \n",
       "Q 1141 0 747 490 \n",
       "Q 353 981 353 1791 \n",
       "Q 353 2603 747 3093 \n",
       "Q 1141 3584 1784 3584 \n",
       "Q 2172 3584 2450 3431 \n",
       "Q 2728 3278 2906 2969 \n",
       "L 2906 3500 \n",
       "L 3481 3500 \n",
       "L 3481 434 \n",
       "z\n",
       "\" transform=\"scale(0.015625)\"/>\n",
       "      </defs>\n",
       "      <use xlink:href=\"#DejaVuSans-6c\"/>\n",
       "      <use xlink:href=\"#DejaVuSans-75\" x=\"27.783203\"/>\n",
       "      <use xlink:href=\"#DejaVuSans-6e\" x=\"91.162109\"/>\n",
       "      <use xlink:href=\"#DejaVuSans-67\" x=\"154.541016\"/>\n",
       "     </g>\n",
       "    </g>\n",
       "   </g>\n",
       "   <g id=\"text_2\">\n",
       "    <g clip-path=\"url(#p0f6dc732d1)\">\n",
       "     <!-- tub -->\n",
       "     <g transform=\"translate(75.274155 250.81156)scale(0.12 -0.12)\">\n",
       "      <defs>\n",
       "       <path id=\"DejaVuSans-74\" d=\"M 1172 4494 \n",
       "L 1172 3500 \n",
       "L 2356 3500 \n",
       "L 2356 3053 \n",
       "L 1172 3053 \n",
       "L 1172 1153 \n",
       "Q 1172 725 1289 603 \n",
       "Q 1406 481 1766 481 \n",
       "L 2356 481 \n",
       "L 2356 0 \n",
       "L 1766 0 \n",
       "Q 1100 0 847 248 \n",
       "Q 594 497 594 1153 \n",
       "L 594 3053 \n",
       "L 172 3053 \n",
       "L 172 3500 \n",
       "L 594 3500 \n",
       "L 594 4494 \n",
       "L 1172 4494 \n",
       "z\n",
       "\" transform=\"scale(0.015625)\"/>\n",
       "       <path id=\"DejaVuSans-62\" d=\"M 3116 1747 \n",
       "Q 3116 2381 2855 2742 \n",
       "Q 2594 3103 2138 3103 \n",
       "Q 1681 3103 1420 2742 \n",
       "Q 1159 2381 1159 1747 \n",
       "Q 1159 1113 1420 752 \n",
       "Q 1681 391 2138 391 \n",
       "Q 2594 391 2855 752 \n",
       "Q 3116 1113 3116 1747 \n",
       "z\n",
       "M 1159 2969 \n",
       "Q 1341 3281 1617 3432 \n",
       "Q 1894 3584 2278 3584 \n",
       "Q 2916 3584 3314 3078 \n",
       "Q 3713 2572 3713 1747 \n",
       "Q 3713 922 3314 415 \n",
       "Q 2916 -91 2278 -91 \n",
       "Q 1894 -91 1617 61 \n",
       "Q 1341 213 1159 525 \n",
       "L 1159 0 \n",
       "L 581 0 \n",
       "L 581 4863 \n",
       "L 1159 4863 \n",
       "L 1159 2969 \n",
       "z\n",
       "\" transform=\"scale(0.015625)\"/>\n",
       "      </defs>\n",
       "      <use xlink:href=\"#DejaVuSans-74\"/>\n",
       "      <use xlink:href=\"#DejaVuSans-75\" x=\"39.208984\"/>\n",
       "      <use xlink:href=\"#DejaVuSans-62\" x=\"102.587891\"/>\n",
       "     </g>\n",
       "    </g>\n",
       "   </g>\n",
       "   <g id=\"text_3\">\n",
       "    <g clip-path=\"url(#p0f6dc732d1)\">\n",
       "     <!-- xray -->\n",
       "     <g transform=\"translate(45.266625 273.519514)scale(0.12 -0.12)\">\n",
       "      <defs>\n",
       "       <path id=\"DejaVuSans-78\" d=\"M 3513 3500 \n",
       "L 2247 1797 \n",
       "L 3578 0 \n",
       "L 2900 0 \n",
       "L 1881 1375 \n",
       "L 863 0 \n",
       "L 184 0 \n",
       "L 1544 1831 \n",
       "L 300 3500 \n",
       "L 978 3500 \n",
       "L 1906 2253 \n",
       "L 2834 3500 \n",
       "L 3513 3500 \n",
       "z\n",
       "\" transform=\"scale(0.015625)\"/>\n",
       "       <path id=\"DejaVuSans-72\" d=\"M 2631 2963 \n",
       "Q 2534 3019 2420 3045 \n",
       "Q 2306 3072 2169 3072 \n",
       "Q 1681 3072 1420 2755 \n",
       "Q 1159 2438 1159 1844 \n",
       "L 1159 0 \n",
       "L 581 0 \n",
       "L 581 3500 \n",
       "L 1159 3500 \n",
       "L 1159 2956 \n",
       "Q 1341 3275 1631 3429 \n",
       "Q 1922 3584 2338 3584 \n",
       "Q 2397 3584 2469 3576 \n",
       "Q 2541 3569 2628 3553 \n",
       "L 2631 2963 \n",
       "z\n",
       "\" transform=\"scale(0.015625)\"/>\n",
       "       <path id=\"DejaVuSans-61\" d=\"M 2194 1759 \n",
       "Q 1497 1759 1228 1600 \n",
       "Q 959 1441 959 1056 \n",
       "Q 959 750 1161 570 \n",
       "Q 1363 391 1709 391 \n",
       "Q 2188 391 2477 730 \n",
       "Q 2766 1069 2766 1631 \n",
       "L 2766 1759 \n",
       "L 2194 1759 \n",
       "z\n",
       "M 3341 1997 \n",
       "L 3341 0 \n",
       "L 2766 0 \n",
       "L 2766 531 \n",
       "Q 2569 213 2275 61 \n",
       "Q 1981 -91 1556 -91 \n",
       "Q 1019 -91 701 211 \n",
       "Q 384 513 384 1019 \n",
       "Q 384 1609 779 1909 \n",
       "Q 1175 2209 1959 2209 \n",
       "L 2766 2209 \n",
       "L 2766 2266 \n",
       "Q 2766 2663 2505 2880 \n",
       "Q 2244 3097 1772 3097 \n",
       "Q 1472 3097 1187 3025 \n",
       "Q 903 2953 641 2809 \n",
       "L 641 3341 \n",
       "Q 956 3463 1253 3523 \n",
       "Q 1550 3584 1831 3584 \n",
       "Q 2591 3584 2966 3190 \n",
       "Q 3341 2797 3341 1997 \n",
       "z\n",
       "\" transform=\"scale(0.015625)\"/>\n",
       "       <path id=\"DejaVuSans-79\" d=\"M 2059 -325 \n",
       "Q 1816 -950 1584 -1140 \n",
       "Q 1353 -1331 966 -1331 \n",
       "L 506 -1331 \n",
       "L 506 -850 \n",
       "L 844 -850 \n",
       "Q 1081 -850 1212 -737 \n",
       "Q 1344 -625 1503 -206 \n",
       "L 1606 56 \n",
       "L 191 3500 \n",
       "L 800 3500 \n",
       "L 1894 763 \n",
       "L 2988 3500 \n",
       "L 3597 3500 \n",
       "L 2059 -325 \n",
       "z\n",
       "\" transform=\"scale(0.015625)\"/>\n",
       "      </defs>\n",
       "      <use xlink:href=\"#DejaVuSans-78\"/>\n",
       "      <use xlink:href=\"#DejaVuSans-72\" x=\"59.179688\"/>\n",
       "      <use xlink:href=\"#DejaVuSans-61\" x=\"100.292969\"/>\n",
       "      <use xlink:href=\"#DejaVuSans-79\" x=\"161.572266\"/>\n",
       "     </g>\n",
       "    </g>\n",
       "   </g>\n",
       "   <g id=\"text_4\">\n",
       "    <g clip-path=\"url(#p0f6dc732d1)\">\n",
       "     <!-- smoke -->\n",
       "     <g transform=\"translate(399.973636 40.577191)scale(0.12 -0.12)\">\n",
       "      <defs>\n",
       "       <path id=\"DejaVuSans-73\" d=\"M 2834 3397 \n",
       "L 2834 2853 \n",
       "Q 2591 2978 2328 3040 \n",
       "Q 2066 3103 1784 3103 \n",
       "Q 1356 3103 1142 2972 \n",
       "Q 928 2841 928 2578 \n",
       "Q 928 2378 1081 2264 \n",
       "Q 1234 2150 1697 2047 \n",
       "L 1894 2003 \n",
       "Q 2506 1872 2764 1633 \n",
       "Q 3022 1394 3022 966 \n",
       "Q 3022 478 2636 193 \n",
       "Q 2250 -91 1575 -91 \n",
       "Q 1294 -91 989 -36 \n",
       "Q 684 19 347 128 \n",
       "L 347 722 \n",
       "Q 666 556 975 473 \n",
       "Q 1284 391 1588 391 \n",
       "Q 1994 391 2212 530 \n",
       "Q 2431 669 2431 922 \n",
       "Q 2431 1156 2273 1281 \n",
       "Q 2116 1406 1581 1522 \n",
       "L 1381 1569 \n",
       "Q 847 1681 609 1914 \n",
       "Q 372 2147 372 2553 \n",
       "Q 372 3047 722 3315 \n",
       "Q 1072 3584 1716 3584 \n",
       "Q 2034 3584 2315 3537 \n",
       "Q 2597 3491 2834 3397 \n",
       "z\n",
       "\" transform=\"scale(0.015625)\"/>\n",
       "       <path id=\"DejaVuSans-6d\" d=\"M 3328 2828 \n",
       "Q 3544 3216 3844 3400 \n",
       "Q 4144 3584 4550 3584 \n",
       "Q 5097 3584 5394 3201 \n",
       "Q 5691 2819 5691 2113 \n",
       "L 5691 0 \n",
       "L 5113 0 \n",
       "L 5113 2094 \n",
       "Q 5113 2597 4934 2840 \n",
       "Q 4756 3084 4391 3084 \n",
       "Q 3944 3084 3684 2787 \n",
       "Q 3425 2491 3425 1978 \n",
       "L 3425 0 \n",
       "L 2847 0 \n",
       "L 2847 2094 \n",
       "Q 2847 2600 2669 2842 \n",
       "Q 2491 3084 2119 3084 \n",
       "Q 1678 3084 1418 2786 \n",
       "Q 1159 2488 1159 1978 \n",
       "L 1159 0 \n",
       "L 581 0 \n",
       "L 581 3500 \n",
       "L 1159 3500 \n",
       "L 1159 2956 \n",
       "Q 1356 3278 1631 3431 \n",
       "Q 1906 3584 2284 3584 \n",
       "Q 2666 3584 2933 3390 \n",
       "Q 3200 3197 3328 2828 \n",
       "z\n",
       "\" transform=\"scale(0.015625)\"/>\n",
       "       <path id=\"DejaVuSans-6f\" d=\"M 1959 3097 \n",
       "Q 1497 3097 1228 2736 \n",
       "Q 959 2375 959 1747 \n",
       "Q 959 1119 1226 758 \n",
       "Q 1494 397 1959 397 \n",
       "Q 2419 397 2687 759 \n",
       "Q 2956 1122 2956 1747 \n",
       "Q 2956 2369 2687 2733 \n",
       "Q 2419 3097 1959 3097 \n",
       "z\n",
       "M 1959 3584 \n",
       "Q 2709 3584 3137 3096 \n",
       "Q 3566 2609 3566 1747 \n",
       "Q 3566 888 3137 398 \n",
       "Q 2709 -91 1959 -91 \n",
       "Q 1206 -91 779 398 \n",
       "Q 353 888 353 1747 \n",
       "Q 353 2609 779 3096 \n",
       "Q 1206 3584 1959 3584 \n",
       "z\n",
       "\" transform=\"scale(0.015625)\"/>\n",
       "       <path id=\"DejaVuSans-6b\" d=\"M 581 4863 \n",
       "L 1159 4863 \n",
       "L 1159 1991 \n",
       "L 2875 3500 \n",
       "L 3609 3500 \n",
       "L 1753 1863 \n",
       "L 3688 0 \n",
       "L 2938 0 \n",
       "L 1159 1709 \n",
       "L 1159 0 \n",
       "L 581 0 \n",
       "L 581 4863 \n",
       "z\n",
       "\" transform=\"scale(0.015625)\"/>\n",
       "       <path id=\"DejaVuSans-65\" d=\"M 3597 1894 \n",
       "L 3597 1613 \n",
       "L 953 1613 \n",
       "Q 991 1019 1311 708 \n",
       "Q 1631 397 2203 397 \n",
       "Q 2534 397 2845 478 \n",
       "Q 3156 559 3463 722 \n",
       "L 3463 178 \n",
       "Q 3153 47 2828 -22 \n",
       "Q 2503 -91 2169 -91 \n",
       "Q 1331 -91 842 396 \n",
       "Q 353 884 353 1716 \n",
       "Q 353 2575 817 3079 \n",
       "Q 1281 3584 2069 3584 \n",
       "Q 2775 3584 3186 3129 \n",
       "Q 3597 2675 3597 1894 \n",
       "z\n",
       "M 3022 2063 \n",
       "Q 3016 2534 2758 2815 \n",
       "Q 2500 3097 2075 3097 \n",
       "Q 1594 3097 1305 2825 \n",
       "Q 1016 2553 972 2059 \n",
       "L 3022 2063 \n",
       "z\n",
       "\" transform=\"scale(0.015625)\"/>\n",
       "      </defs>\n",
       "      <use xlink:href=\"#DejaVuSans-73\"/>\n",
       "      <use xlink:href=\"#DejaVuSans-6d\" x=\"52.099609\"/>\n",
       "      <use xlink:href=\"#DejaVuSans-6f\" x=\"149.511719\"/>\n",
       "      <use xlink:href=\"#DejaVuSans-6b\" x=\"210.693359\"/>\n",
       "      <use xlink:href=\"#DejaVuSans-65\" x=\"264.978516\"/>\n",
       "     </g>\n",
       "    </g>\n",
       "   </g>\n",
       "   <g id=\"text_5\">\n",
       "    <g clip-path=\"url(#p0f6dc732d1)\">\n",
       "     <!-- either -->\n",
       "     <g transform=\"translate(14.520124 225.112665)scale(0.12 -0.12)\">\n",
       "      <defs>\n",
       "       <path id=\"DejaVuSans-69\" d=\"M 603 3500 \n",
       "L 1178 3500 \n",
       "L 1178 0 \n",
       "L 603 0 \n",
       "L 603 3500 \n",
       "z\n",
       "M 603 4863 \n",
       "L 1178 4863 \n",
       "L 1178 4134 \n",
       "L 603 4134 \n",
       "L 603 4863 \n",
       "z\n",
       "\" transform=\"scale(0.015625)\"/>\n",
       "       <path id=\"DejaVuSans-68\" d=\"M 3513 2113 \n",
       "L 3513 0 \n",
       "L 2938 0 \n",
       "L 2938 2094 \n",
       "Q 2938 2591 2744 2837 \n",
       "Q 2550 3084 2163 3084 \n",
       "Q 1697 3084 1428 2787 \n",
       "Q 1159 2491 1159 1978 \n",
       "L 1159 0 \n",
       "L 581 0 \n",
       "L 581 4863 \n",
       "L 1159 4863 \n",
       "L 1159 2956 \n",
       "Q 1366 3272 1645 3428 \n",
       "Q 1925 3584 2291 3584 \n",
       "Q 2894 3584 3203 3211 \n",
       "Q 3513 2838 3513 2113 \n",
       "z\n",
       "\" transform=\"scale(0.015625)\"/>\n",
       "      </defs>\n",
       "      <use xlink:href=\"#DejaVuSans-65\"/>\n",
       "      <use xlink:href=\"#DejaVuSans-69\" x=\"61.523438\"/>\n",
       "      <use xlink:href=\"#DejaVuSans-74\" x=\"89.306641\"/>\n",
       "      <use xlink:href=\"#DejaVuSans-68\" x=\"128.515625\"/>\n",
       "      <use xlink:href=\"#DejaVuSans-65\" x=\"191.894531\"/>\n",
       "      <use xlink:href=\"#DejaVuSans-72\" x=\"253.417969\"/>\n",
       "     </g>\n",
       "    </g>\n",
       "   </g>\n",
       "   <g id=\"text_6\">\n",
       "    <g clip-path=\"url(#p0f6dc732d1)\">\n",
       "     <!-- asia -->\n",
       "     <g transform=\"translate(63.208559 118.296098)scale(0.12 -0.12)\">\n",
       "      <use xlink:href=\"#DejaVuSans-61\"/>\n",
       "      <use xlink:href=\"#DejaVuSans-73\" x=\"61.279297\"/>\n",
       "      <use xlink:href=\"#DejaVuSans-69\" x=\"113.378906\"/>\n",
       "      <use xlink:href=\"#DejaVuSans-61\" x=\"141.162109\"/>\n",
       "     </g>\n",
       "    </g>\n",
       "   </g>\n",
       "   <g id=\"text_7\">\n",
       "    <g clip-path=\"url(#p0f6dc732d1)\">\n",
       "     <!-- dysp -->\n",
       "     <g transform=\"translate(125.009696 62.987284)scale(0.12 -0.12)\">\n",
       "      <defs>\n",
       "       <path id=\"DejaVuSans-64\" d=\"M 2906 2969 \n",
       "L 2906 4863 \n",
       "L 3481 4863 \n",
       "L 3481 0 \n",
       "L 2906 0 \n",
       "L 2906 525 \n",
       "Q 2725 213 2448 61 \n",
       "Q 2172 -91 1784 -91 \n",
       "Q 1150 -91 751 415 \n",
       "Q 353 922 353 1747 \n",
       "Q 353 2572 751 3078 \n",
       "Q 1150 3584 1784 3584 \n",
       "Q 2172 3584 2448 3432 \n",
       "Q 2725 3281 2906 2969 \n",
       "z\n",
       "M 947 1747 \n",
       "Q 947 1113 1208 752 \n",
       "Q 1469 391 1925 391 \n",
       "Q 2381 391 2643 752 \n",
       "Q 2906 1113 2906 1747 \n",
       "Q 2906 2381 2643 2742 \n",
       "Q 2381 3103 1925 3103 \n",
       "Q 1469 3103 1208 2742 \n",
       "Q 947 2381 947 1747 \n",
       "z\n",
       "\" transform=\"scale(0.015625)\"/>\n",
       "       <path id=\"DejaVuSans-70\" d=\"M 1159 525 \n",
       "L 1159 -1331 \n",
       "L 581 -1331 \n",
       "L 581 3500 \n",
       "L 1159 3500 \n",
       "L 1159 2969 \n",
       "Q 1341 3281 1617 3432 \n",
       "Q 1894 3584 2278 3584 \n",
       "Q 2916 3584 3314 3078 \n",
       "Q 3713 2572 3713 1747 \n",
       "Q 3713 922 3314 415 \n",
       "Q 2916 -91 2278 -91 \n",
       "Q 1894 -91 1617 61 \n",
       "Q 1341 213 1159 525 \n",
       "z\n",
       "M 3116 1747 \n",
       "Q 3116 2381 2855 2742 \n",
       "Q 2594 3103 2138 3103 \n",
       "Q 1681 3103 1420 2742 \n",
       "Q 1159 2381 1159 1747 \n",
       "Q 1159 1113 1420 752 \n",
       "Q 1681 391 2138 391 \n",
       "Q 2594 391 2855 752 \n",
       "Q 3116 1113 3116 1747 \n",
       "z\n",
       "\" transform=\"scale(0.015625)\"/>\n",
       "      </defs>\n",
       "      <use xlink:href=\"#DejaVuSans-64\"/>\n",
       "      <use xlink:href=\"#DejaVuSans-79\" x=\"63.476562\"/>\n",
       "      <use xlink:href=\"#DejaVuSans-73\" x=\"122.65625\"/>\n",
       "      <use xlink:href=\"#DejaVuSans-70\" x=\"174.755859\"/>\n",
       "     </g>\n",
       "    </g>\n",
       "   </g>\n",
       "   <g id=\"text_8\">\n",
       "    <g clip-path=\"url(#p0f6dc732d1)\">\n",
       "     <!-- bronc -->\n",
       "     <g transform=\"translate(70.854276 35.502986)scale(0.12 -0.12)\">\n",
       "      <defs>\n",
       "       <path id=\"DejaVuSans-63\" d=\"M 3122 3366 \n",
       "L 3122 2828 \n",
       "Q 2878 2963 2633 3030 \n",
       "Q 2388 3097 2138 3097 \n",
       "Q 1578 3097 1268 2742 \n",
       "Q 959 2388 959 1747 \n",
       "Q 959 1106 1268 751 \n",
       "Q 1578 397 2138 397 \n",
       "Q 2388 397 2633 464 \n",
       "Q 2878 531 3122 666 \n",
       "L 3122 134 \n",
       "Q 2881 22 2623 -34 \n",
       "Q 2366 -91 2075 -91 \n",
       "Q 1284 -91 818 406 \n",
       "Q 353 903 353 1747 \n",
       "Q 353 2603 823 3093 \n",
       "Q 1294 3584 2113 3584 \n",
       "Q 2378 3584 2631 3529 \n",
       "Q 2884 3475 3122 3366 \n",
       "z\n",
       "\" transform=\"scale(0.015625)\"/>\n",
       "      </defs>\n",
       "      <use xlink:href=\"#DejaVuSans-62\"/>\n",
       "      <use xlink:href=\"#DejaVuSans-72\" x=\"63.476562\"/>\n",
       "      <use xlink:href=\"#DejaVuSans-6f\" x=\"102.339844\"/>\n",
       "      <use xlink:href=\"#DejaVuSans-6e\" x=\"163.521484\"/>\n",
       "      <use xlink:href=\"#DejaVuSans-63\" x=\"226.900391\"/>\n",
       "     </g>\n",
       "    </g>\n",
       "   </g>\n",
       "  </g>\n",
       " </g>\n",
       " <defs>\n",
       "  <clipPath id=\"p0f6dc732d1\">\n",
       "   <rect x=\"7.2\" y=\"7.2\" width=\"432\" height=\"288\"/>\n",
       "  </clipPath>\n",
       " </defs>\n",
       "</svg>\n"
      ],
      "text/plain": [
       "<Figure size 432x288 with 1 Axes>"
      ]
     },
     "metadata": {},
     "output_type": "display_data"
    },
    {
     "data": {
      "image/svg+xml": [
       "<?xml version=\"1.0\" encoding=\"utf-8\" standalone=\"no\"?>\n",
       "<!DOCTYPE svg PUBLIC \"-//W3C//DTD SVG 1.1//EN\"\n",
       "  \"http://www.w3.org/Graphics/SVG/1.1/DTD/svg11.dtd\">\n",
       "<svg xmlns:xlink=\"http://www.w3.org/1999/xlink\" width=\"446.4pt\" height=\"302.4pt\" viewBox=\"0 0 446.4 302.4\" xmlns=\"http://www.w3.org/2000/svg\" version=\"1.1\">\n",
       " <metadata>\n",
       "  <rdf:RDF xmlns:dc=\"http://purl.org/dc/elements/1.1/\" xmlns:cc=\"http://creativecommons.org/ns#\" xmlns:rdf=\"http://www.w3.org/1999/02/22-rdf-syntax-ns#\">\n",
       "   <cc:Work>\n",
       "    <dc:type rdf:resource=\"http://purl.org/dc/dcmitype/StillImage\"/>\n",
       "    <dc:date>2022-02-01T16:22:57.890240</dc:date>\n",
       "    <dc:format>image/svg+xml</dc:format>\n",
       "    <dc:creator>\n",
       "     <cc:Agent>\n",
       "      <dc:title>Matplotlib v3.5.1, https://matplotlib.org/</dc:title>\n",
       "     </cc:Agent>\n",
       "    </dc:creator>\n",
       "   </cc:Work>\n",
       "  </rdf:RDF>\n",
       " </metadata>\n",
       " <defs>\n",
       "  <style type=\"text/css\">*{stroke-linejoin: round; stroke-linecap: butt}</style>\n",
       " </defs>\n",
       " <g id=\"figure_1\">\n",
       "  <g id=\"patch_1\">\n",
       "   <path d=\"M 0 302.4 \n",
       "L 446.4 302.4 \n",
       "L 446.4 0 \n",
       "L 0 0 \n",
       "z\n",
       "\" style=\"fill: #ffffff\"/>\n",
       "  </g>\n",
       "  <g id=\"axes_1\">\n",
       "   <g id=\"patch_2\">\n",
       "    <path d=\"M 240.600314 137.852604 \n",
       "Q 240.208485 142.700345 239.90673 146.433686 \n",
       "\" clip-path=\"url(#pae3e39989a)\" style=\"fill: none; stroke: #000000; stroke-linecap: round\"/>\n",
       "    <path d=\"M 242.222486 142.607817 \n",
       "L 239.90673 146.433686 \n",
       "L 238.235489 142.28556 \n",
       "L 242.222486 142.607817 \n",
       "z\n",
       "\" clip-path=\"url(#pae3e39989a)\" style=\"stroke: #000000; stroke-linecap: round\"/>\n",
       "   </g>\n",
       "   <g id=\"patch_3\">\n",
       "    <path d=\"M 244.884123 149.711196 \n",
       "Q 291.103935 97.859533 336.579801 46.842463 \n",
       "\" clip-path=\"url(#pae3e39989a)\" style=\"fill: none; stroke: #000000; stroke-linecap: round\"/>\n",
       "    <path d=\"M 332.425218 48.497588 \n",
       "L 336.579801 46.842463 \n",
       "L 335.411151 51.159205 \n",
       "L 332.425218 48.497588 \n",
       "z\n",
       "\" clip-path=\"url(#pae3e39989a)\" style=\"stroke: #000000; stroke-linecap: round\"/>\n",
       "   </g>\n",
       "   <g id=\"patch_4\">\n",
       "    <path d=\"M 233.285606 162.576968 \n",
       "Q 186.979622 213.366225 141.426901 263.329288 \n",
       "\" clip-path=\"url(#pae3e39989a)\" style=\"fill: none; stroke: #000000; stroke-linecap: round\"/>\n",
       "    <path d=\"M 145.599796 261.720889 \n",
       "L 141.426901 263.329288 \n",
       "L 142.643918 259.025933 \n",
       "L 145.599796 261.720889 \n",
       "z\n",
       "\" clip-path=\"url(#pae3e39989a)\" style=\"stroke: #000000; stroke-linecap: round\"/>\n",
       "   </g>\n",
       "   <g id=\"patch_5\">\n",
       "    <path d=\"M 339.322026 232.305298 \n",
       "Q 368.868312 248.559079 397.435004 264.273973 \n",
       "\" clip-path=\"url(#pae3e39989a)\" style=\"fill: none; stroke: #000000; stroke-linecap: round\"/>\n",
       "    <path d=\"M 394.894296 260.593647 \n",
       "L 397.435004 264.273973 \n",
       "L 392.966318 264.098344 \n",
       "L 394.894296 260.593647 \n",
       "z\n",
       "\" clip-path=\"url(#pae3e39989a)\" style=\"stroke: #000000; stroke-linecap: round\"/>\n",
       "   </g>\n",
       "   <g id=\"PathCollection_1\">\n",
       "    <defs>\n",
       "     <path id=\"m30bf11f193\" d=\"M 0 8.660254 \n",
       "C 2.296726 8.660254 4.499694 7.747755 6.123724 6.123724 \n",
       "C 7.747755 4.499694 8.660254 2.296726 8.660254 0 \n",
       "C 8.660254 -2.296726 7.747755 -4.499694 6.123724 -6.123724 \n",
       "C 4.499694 -7.747755 2.296726 -8.660254 0 -8.660254 \n",
       "C -2.296726 -8.660254 -4.499694 -7.747755 -6.123724 -6.123724 \n",
       "C -7.747755 -4.499694 -8.660254 -2.296726 -8.660254 0 \n",
       "C -8.660254 2.296726 -7.747755 4.499694 -6.123724 6.123724 \n",
       "C -4.499694 7.747755 -2.296726 8.660254 0 8.660254 \n",
       "z\n",
       "\" style=\"stroke: #1f78b4\"/>\n",
       "    </defs>\n",
       "    <g clip-path=\"url(#pae3e39989a)\">\n",
       "     <use xlink:href=\"#m30bf11f193\" x=\"343.086799\" y=\"39.542592\" style=\"fill: #1f78b4; stroke: #1f78b4\"/>\n",
       "     <use xlink:href=\"#m30bf11f193\" x=\"134.836004\" y=\"270.558305\" style=\"fill: #1f78b4; stroke: #1f78b4\"/>\n",
       "     <use xlink:href=\"#m30bf11f193\" x=\"241.297982\" y=\"129.220999\" style=\"fill: #1f78b4; stroke: #1f78b4\"/>\n",
       "     <use xlink:href=\"#m30bf11f193\" x=\"144.372582\" y=\"20.290909\" style=\"fill: #1f78b4; stroke: #1f78b4\"/>\n",
       "     <use xlink:href=\"#m30bf11f193\" x=\"239.119067\" y=\"156.17872\" style=\"fill: #1f78b4; stroke: #1f78b4\"/>\n",
       "     <use xlink:href=\"#m30bf11f193\" x=\"26.836364\" y=\"200.045517\" style=\"fill: #1f78b4; stroke: #1f78b4\"/>\n",
       "     <use xlink:href=\"#m30bf11f193\" x=\"406.005178\" y=\"268.988533\" style=\"fill: #1f78b4; stroke: #1f78b4\"/>\n",
       "     <use xlink:href=\"#m30bf11f193\" x=\"331.735999\" y=\"228.132129\" style=\"fill: #1f78b4; stroke: #1f78b4\"/>\n",
       "    </g>\n",
       "   </g>\n",
       "   <g id=\"text_1\">\n",
       "    <g clip-path=\"url(#pae3e39989a)\">\n",
       "     <!-- lung -->\n",
       "     <g transform=\"translate(330.005862 42.853842)scale(0.12 -0.12)\">\n",
       "      <defs>\n",
       "       <path id=\"DejaVuSans-6c\" d=\"M 603 4863 \n",
       "L 1178 4863 \n",
       "L 1178 0 \n",
       "L 603 0 \n",
       "L 603 4863 \n",
       "z\n",
       "\" transform=\"scale(0.015625)\"/>\n",
       "       <path id=\"DejaVuSans-75\" d=\"M 544 1381 \n",
       "L 544 3500 \n",
       "L 1119 3500 \n",
       "L 1119 1403 \n",
       "Q 1119 906 1312 657 \n",
       "Q 1506 409 1894 409 \n",
       "Q 2359 409 2629 706 \n",
       "Q 2900 1003 2900 1516 \n",
       "L 2900 3500 \n",
       "L 3475 3500 \n",
       "L 3475 0 \n",
       "L 2900 0 \n",
       "L 2900 538 \n",
       "Q 2691 219 2414 64 \n",
       "Q 2138 -91 1772 -91 \n",
       "Q 1169 -91 856 284 \n",
       "Q 544 659 544 1381 \n",
       "z\n",
       "M 1991 3584 \n",
       "L 1991 3584 \n",
       "z\n",
       "\" transform=\"scale(0.015625)\"/>\n",
       "       <path id=\"DejaVuSans-6e\" d=\"M 3513 2113 \n",
       "L 3513 0 \n",
       "L 2938 0 \n",
       "L 2938 2094 \n",
       "Q 2938 2591 2744 2837 \n",
       "Q 2550 3084 2163 3084 \n",
       "Q 1697 3084 1428 2787 \n",
       "Q 1159 2491 1159 1978 \n",
       "L 1159 0 \n",
       "L 581 0 \n",
       "L 581 3500 \n",
       "L 1159 3500 \n",
       "L 1159 2956 \n",
       "Q 1366 3272 1645 3428 \n",
       "Q 1925 3584 2291 3584 \n",
       "Q 2894 3584 3203 3211 \n",
       "Q 3513 2838 3513 2113 \n",
       "z\n",
       "\" transform=\"scale(0.015625)\"/>\n",
       "       <path id=\"DejaVuSans-67\" d=\"M 2906 1791 \n",
       "Q 2906 2416 2648 2759 \n",
       "Q 2391 3103 1925 3103 \n",
       "Q 1463 3103 1205 2759 \n",
       "Q 947 2416 947 1791 \n",
       "Q 947 1169 1205 825 \n",
       "Q 1463 481 1925 481 \n",
       "Q 2391 481 2648 825 \n",
       "Q 2906 1169 2906 1791 \n",
       "z\n",
       "M 3481 434 \n",
       "Q 3481 -459 3084 -895 \n",
       "Q 2688 -1331 1869 -1331 \n",
       "Q 1566 -1331 1297 -1286 \n",
       "Q 1028 -1241 775 -1147 \n",
       "L 775 -588 \n",
       "Q 1028 -725 1275 -790 \n",
       "Q 1522 -856 1778 -856 \n",
       "Q 2344 -856 2625 -561 \n",
       "Q 2906 -266 2906 331 \n",
       "L 2906 616 \n",
       "Q 2728 306 2450 153 \n",
       "Q 2172 0 1784 0 \n",
       "Q 1141 0 747 490 \n",
       "Q 353 981 353 1791 \n",
       "Q 353 2603 747 3093 \n",
       "Q 1141 3584 1784 3584 \n",
       "Q 2172 3584 2450 3431 \n",
       "Q 2728 3278 2906 2969 \n",
       "L 2906 3500 \n",
       "L 3481 3500 \n",
       "L 3481 434 \n",
       "z\n",
       "\" transform=\"scale(0.015625)\"/>\n",
       "      </defs>\n",
       "      <use xlink:href=\"#DejaVuSans-6c\"/>\n",
       "      <use xlink:href=\"#DejaVuSans-75\" x=\"27.783203\"/>\n",
       "      <use xlink:href=\"#DejaVuSans-6e\" x=\"91.162109\"/>\n",
       "      <use xlink:href=\"#DejaVuSans-67\" x=\"154.541016\"/>\n",
       "     </g>\n",
       "    </g>\n",
       "   </g>\n",
       "   <g id=\"text_2\">\n",
       "    <g clip-path=\"url(#pae3e39989a)\">\n",
       "     <!-- tub -->\n",
       "     <g transform=\"translate(124.872254 273.869555)scale(0.12 -0.12)\">\n",
       "      <defs>\n",
       "       <path id=\"DejaVuSans-74\" d=\"M 1172 4494 \n",
       "L 1172 3500 \n",
       "L 2356 3500 \n",
       "L 2356 3053 \n",
       "L 1172 3053 \n",
       "L 1172 1153 \n",
       "Q 1172 725 1289 603 \n",
       "Q 1406 481 1766 481 \n",
       "L 2356 481 \n",
       "L 2356 0 \n",
       "L 1766 0 \n",
       "Q 1100 0 847 248 \n",
       "Q 594 497 594 1153 \n",
       "L 594 3053 \n",
       "L 172 3053 \n",
       "L 172 3500 \n",
       "L 594 3500 \n",
       "L 594 4494 \n",
       "L 1172 4494 \n",
       "z\n",
       "\" transform=\"scale(0.015625)\"/>\n",
       "       <path id=\"DejaVuSans-62\" d=\"M 3116 1747 \n",
       "Q 3116 2381 2855 2742 \n",
       "Q 2594 3103 2138 3103 \n",
       "Q 1681 3103 1420 2742 \n",
       "Q 1159 2381 1159 1747 \n",
       "Q 1159 1113 1420 752 \n",
       "Q 1681 391 2138 391 \n",
       "Q 2594 391 2855 752 \n",
       "Q 3116 1113 3116 1747 \n",
       "z\n",
       "M 1159 2969 \n",
       "Q 1341 3281 1617 3432 \n",
       "Q 1894 3584 2278 3584 \n",
       "Q 2916 3584 3314 3078 \n",
       "Q 3713 2572 3713 1747 \n",
       "Q 3713 922 3314 415 \n",
       "Q 2916 -91 2278 -91 \n",
       "Q 1894 -91 1617 61 \n",
       "Q 1341 213 1159 525 \n",
       "L 1159 0 \n",
       "L 581 0 \n",
       "L 581 4863 \n",
       "L 1159 4863 \n",
       "L 1159 2969 \n",
       "z\n",
       "\" transform=\"scale(0.015625)\"/>\n",
       "      </defs>\n",
       "      <use xlink:href=\"#DejaVuSans-74\"/>\n",
       "      <use xlink:href=\"#DejaVuSans-75\" x=\"39.208984\"/>\n",
       "      <use xlink:href=\"#DejaVuSans-62\" x=\"102.587891\"/>\n",
       "     </g>\n",
       "    </g>\n",
       "   </g>\n",
       "   <g id=\"text_3\">\n",
       "    <g clip-path=\"url(#pae3e39989a)\">\n",
       "     <!-- xray -->\n",
       "     <g transform=\"translate(228.052044 132.532249)scale(0.12 -0.12)\">\n",
       "      <defs>\n",
       "       <path id=\"DejaVuSans-78\" d=\"M 3513 3500 \n",
       "L 2247 1797 \n",
       "L 3578 0 \n",
       "L 2900 0 \n",
       "L 1881 1375 \n",
       "L 863 0 \n",
       "L 184 0 \n",
       "L 1544 1831 \n",
       "L 300 3500 \n",
       "L 978 3500 \n",
       "L 1906 2253 \n",
       "L 2834 3500 \n",
       "L 3513 3500 \n",
       "z\n",
       "\" transform=\"scale(0.015625)\"/>\n",
       "       <path id=\"DejaVuSans-72\" d=\"M 2631 2963 \n",
       "Q 2534 3019 2420 3045 \n",
       "Q 2306 3072 2169 3072 \n",
       "Q 1681 3072 1420 2755 \n",
       "Q 1159 2438 1159 1844 \n",
       "L 1159 0 \n",
       "L 581 0 \n",
       "L 581 3500 \n",
       "L 1159 3500 \n",
       "L 1159 2956 \n",
       "Q 1341 3275 1631 3429 \n",
       "Q 1922 3584 2338 3584 \n",
       "Q 2397 3584 2469 3576 \n",
       "Q 2541 3569 2628 3553 \n",
       "L 2631 2963 \n",
       "z\n",
       "\" transform=\"scale(0.015625)\"/>\n",
       "       <path id=\"DejaVuSans-61\" d=\"M 2194 1759 \n",
       "Q 1497 1759 1228 1600 \n",
       "Q 959 1441 959 1056 \n",
       "Q 959 750 1161 570 \n",
       "Q 1363 391 1709 391 \n",
       "Q 2188 391 2477 730 \n",
       "Q 2766 1069 2766 1631 \n",
       "L 2766 1759 \n",
       "L 2194 1759 \n",
       "z\n",
       "M 3341 1997 \n",
       "L 3341 0 \n",
       "L 2766 0 \n",
       "L 2766 531 \n",
       "Q 2569 213 2275 61 \n",
       "Q 1981 -91 1556 -91 \n",
       "Q 1019 -91 701 211 \n",
       "Q 384 513 384 1019 \n",
       "Q 384 1609 779 1909 \n",
       "Q 1175 2209 1959 2209 \n",
       "L 2766 2209 \n",
       "L 2766 2266 \n",
       "Q 2766 2663 2505 2880 \n",
       "Q 2244 3097 1772 3097 \n",
       "Q 1472 3097 1187 3025 \n",
       "Q 903 2953 641 2809 \n",
       "L 641 3341 \n",
       "Q 956 3463 1253 3523 \n",
       "Q 1550 3584 1831 3584 \n",
       "Q 2591 3584 2966 3190 \n",
       "Q 3341 2797 3341 1997 \n",
       "z\n",
       "\" transform=\"scale(0.015625)\"/>\n",
       "       <path id=\"DejaVuSans-79\" d=\"M 2059 -325 \n",
       "Q 1816 -950 1584 -1140 \n",
       "Q 1353 -1331 966 -1331 \n",
       "L 506 -1331 \n",
       "L 506 -850 \n",
       "L 844 -850 \n",
       "Q 1081 -850 1212 -737 \n",
       "Q 1344 -625 1503 -206 \n",
       "L 1606 56 \n",
       "L 191 3500 \n",
       "L 800 3500 \n",
       "L 1894 763 \n",
       "L 2988 3500 \n",
       "L 3597 3500 \n",
       "L 2059 -325 \n",
       "z\n",
       "\" transform=\"scale(0.015625)\"/>\n",
       "      </defs>\n",
       "      <use xlink:href=\"#DejaVuSans-78\"/>\n",
       "      <use xlink:href=\"#DejaVuSans-72\" x=\"59.179688\"/>\n",
       "      <use xlink:href=\"#DejaVuSans-61\" x=\"100.292969\"/>\n",
       "      <use xlink:href=\"#DejaVuSans-79\" x=\"161.572266\"/>\n",
       "     </g>\n",
       "    </g>\n",
       "   </g>\n",
       "   <g id=\"text_4\">\n",
       "    <g clip-path=\"url(#pae3e39989a)\">\n",
       "     <!-- smoke -->\n",
       "     <g transform=\"translate(124.782582 23.602159)scale(0.12 -0.12)\">\n",
       "      <defs>\n",
       "       <path id=\"DejaVuSans-73\" d=\"M 2834 3397 \n",
       "L 2834 2853 \n",
       "Q 2591 2978 2328 3040 \n",
       "Q 2066 3103 1784 3103 \n",
       "Q 1356 3103 1142 2972 \n",
       "Q 928 2841 928 2578 \n",
       "Q 928 2378 1081 2264 \n",
       "Q 1234 2150 1697 2047 \n",
       "L 1894 2003 \n",
       "Q 2506 1872 2764 1633 \n",
       "Q 3022 1394 3022 966 \n",
       "Q 3022 478 2636 193 \n",
       "Q 2250 -91 1575 -91 \n",
       "Q 1294 -91 989 -36 \n",
       "Q 684 19 347 128 \n",
       "L 347 722 \n",
       "Q 666 556 975 473 \n",
       "Q 1284 391 1588 391 \n",
       "Q 1994 391 2212 530 \n",
       "Q 2431 669 2431 922 \n",
       "Q 2431 1156 2273 1281 \n",
       "Q 2116 1406 1581 1522 \n",
       "L 1381 1569 \n",
       "Q 847 1681 609 1914 \n",
       "Q 372 2147 372 2553 \n",
       "Q 372 3047 722 3315 \n",
       "Q 1072 3584 1716 3584 \n",
       "Q 2034 3584 2315 3537 \n",
       "Q 2597 3491 2834 3397 \n",
       "z\n",
       "\" transform=\"scale(0.015625)\"/>\n",
       "       <path id=\"DejaVuSans-6d\" d=\"M 3328 2828 \n",
       "Q 3544 3216 3844 3400 \n",
       "Q 4144 3584 4550 3584 \n",
       "Q 5097 3584 5394 3201 \n",
       "Q 5691 2819 5691 2113 \n",
       "L 5691 0 \n",
       "L 5113 0 \n",
       "L 5113 2094 \n",
       "Q 5113 2597 4934 2840 \n",
       "Q 4756 3084 4391 3084 \n",
       "Q 3944 3084 3684 2787 \n",
       "Q 3425 2491 3425 1978 \n",
       "L 3425 0 \n",
       "L 2847 0 \n",
       "L 2847 2094 \n",
       "Q 2847 2600 2669 2842 \n",
       "Q 2491 3084 2119 3084 \n",
       "Q 1678 3084 1418 2786 \n",
       "Q 1159 2488 1159 1978 \n",
       "L 1159 0 \n",
       "L 581 0 \n",
       "L 581 3500 \n",
       "L 1159 3500 \n",
       "L 1159 2956 \n",
       "Q 1356 3278 1631 3431 \n",
       "Q 1906 3584 2284 3584 \n",
       "Q 2666 3584 2933 3390 \n",
       "Q 3200 3197 3328 2828 \n",
       "z\n",
       "\" transform=\"scale(0.015625)\"/>\n",
       "       <path id=\"DejaVuSans-6f\" d=\"M 1959 3097 \n",
       "Q 1497 3097 1228 2736 \n",
       "Q 959 2375 959 1747 \n",
       "Q 959 1119 1226 758 \n",
       "Q 1494 397 1959 397 \n",
       "Q 2419 397 2687 759 \n",
       "Q 2956 1122 2956 1747 \n",
       "Q 2956 2369 2687 2733 \n",
       "Q 2419 3097 1959 3097 \n",
       "z\n",
       "M 1959 3584 \n",
       "Q 2709 3584 3137 3096 \n",
       "Q 3566 2609 3566 1747 \n",
       "Q 3566 888 3137 398 \n",
       "Q 2709 -91 1959 -91 \n",
       "Q 1206 -91 779 398 \n",
       "Q 353 888 353 1747 \n",
       "Q 353 2609 779 3096 \n",
       "Q 1206 3584 1959 3584 \n",
       "z\n",
       "\" transform=\"scale(0.015625)\"/>\n",
       "       <path id=\"DejaVuSans-6b\" d=\"M 581 4863 \n",
       "L 1159 4863 \n",
       "L 1159 1991 \n",
       "L 2875 3500 \n",
       "L 3609 3500 \n",
       "L 1753 1863 \n",
       "L 3688 0 \n",
       "L 2938 0 \n",
       "L 1159 1709 \n",
       "L 1159 0 \n",
       "L 581 0 \n",
       "L 581 4863 \n",
       "z\n",
       "\" transform=\"scale(0.015625)\"/>\n",
       "       <path id=\"DejaVuSans-65\" d=\"M 3597 1894 \n",
       "L 3597 1613 \n",
       "L 953 1613 \n",
       "Q 991 1019 1311 708 \n",
       "Q 1631 397 2203 397 \n",
       "Q 2534 397 2845 478 \n",
       "Q 3156 559 3463 722 \n",
       "L 3463 178 \n",
       "Q 3153 47 2828 -22 \n",
       "Q 2503 -91 2169 -91 \n",
       "Q 1331 -91 842 396 \n",
       "Q 353 884 353 1716 \n",
       "Q 353 2575 817 3079 \n",
       "Q 1281 3584 2069 3584 \n",
       "Q 2775 3584 3186 3129 \n",
       "Q 3597 2675 3597 1894 \n",
       "z\n",
       "M 3022 2063 \n",
       "Q 3016 2534 2758 2815 \n",
       "Q 2500 3097 2075 3097 \n",
       "Q 1594 3097 1305 2825 \n",
       "Q 1016 2553 972 2059 \n",
       "L 3022 2063 \n",
       "z\n",
       "\" transform=\"scale(0.015625)\"/>\n",
       "      </defs>\n",
       "      <use xlink:href=\"#DejaVuSans-73\"/>\n",
       "      <use xlink:href=\"#DejaVuSans-6d\" x=\"52.099609\"/>\n",
       "      <use xlink:href=\"#DejaVuSans-6f\" x=\"149.511719\"/>\n",
       "      <use xlink:href=\"#DejaVuSans-6b\" x=\"210.693359\"/>\n",
       "      <use xlink:href=\"#DejaVuSans-65\" x=\"264.978516\"/>\n",
       "     </g>\n",
       "    </g>\n",
       "   </g>\n",
       "   <g id=\"text_5\">\n",
       "    <g clip-path=\"url(#pae3e39989a)\">\n",
       "     <!-- either -->\n",
       "     <g transform=\"translate(221.447192 159.48997)scale(0.12 -0.12)\">\n",
       "      <defs>\n",
       "       <path id=\"DejaVuSans-69\" d=\"M 603 3500 \n",
       "L 1178 3500 \n",
       "L 1178 0 \n",
       "L 603 0 \n",
       "L 603 3500 \n",
       "z\n",
       "M 603 4863 \n",
       "L 1178 4863 \n",
       "L 1178 4134 \n",
       "L 603 4134 \n",
       "L 603 4863 \n",
       "z\n",
       "\" transform=\"scale(0.015625)\"/>\n",
       "       <path id=\"DejaVuSans-68\" d=\"M 3513 2113 \n",
       "L 3513 0 \n",
       "L 2938 0 \n",
       "L 2938 2094 \n",
       "Q 2938 2591 2744 2837 \n",
       "Q 2550 3084 2163 3084 \n",
       "Q 1697 3084 1428 2787 \n",
       "Q 1159 2491 1159 1978 \n",
       "L 1159 0 \n",
       "L 581 0 \n",
       "L 581 4863 \n",
       "L 1159 4863 \n",
       "L 1159 2956 \n",
       "Q 1366 3272 1645 3428 \n",
       "Q 1925 3584 2291 3584 \n",
       "Q 2894 3584 3203 3211 \n",
       "Q 3513 2838 3513 2113 \n",
       "z\n",
       "\" transform=\"scale(0.015625)\"/>\n",
       "      </defs>\n",
       "      <use xlink:href=\"#DejaVuSans-65\"/>\n",
       "      <use xlink:href=\"#DejaVuSans-69\" x=\"61.523438\"/>\n",
       "      <use xlink:href=\"#DejaVuSans-74\" x=\"89.306641\"/>\n",
       "      <use xlink:href=\"#DejaVuSans-68\" x=\"128.515625\"/>\n",
       "      <use xlink:href=\"#DejaVuSans-65\" x=\"191.894531\"/>\n",
       "      <use xlink:href=\"#DejaVuSans-72\" x=\"253.417969\"/>\n",
       "     </g>\n",
       "    </g>\n",
       "   </g>\n",
       "   <g id=\"text_6\">\n",
       "    <g clip-path=\"url(#pae3e39989a)\">\n",
       "     <!-- asia -->\n",
       "     <g transform=\"translate(14.690114 203.356767)scale(0.12 -0.12)\">\n",
       "      <use xlink:href=\"#DejaVuSans-61\"/>\n",
       "      <use xlink:href=\"#DejaVuSans-73\" x=\"61.279297\"/>\n",
       "      <use xlink:href=\"#DejaVuSans-69\" x=\"113.378906\"/>\n",
       "      <use xlink:href=\"#DejaVuSans-61\" x=\"141.162109\"/>\n",
       "     </g>\n",
       "    </g>\n",
       "   </g>\n",
       "   <g id=\"text_7\">\n",
       "    <g clip-path=\"url(#pae3e39989a)\">\n",
       "     <!-- dysp -->\n",
       "     <g transform=\"translate(391.710178 272.299783)scale(0.12 -0.12)\">\n",
       "      <defs>\n",
       "       <path id=\"DejaVuSans-64\" d=\"M 2906 2969 \n",
       "L 2906 4863 \n",
       "L 3481 4863 \n",
       "L 3481 0 \n",
       "L 2906 0 \n",
       "L 2906 525 \n",
       "Q 2725 213 2448 61 \n",
       "Q 2172 -91 1784 -91 \n",
       "Q 1150 -91 751 415 \n",
       "Q 353 922 353 1747 \n",
       "Q 353 2572 751 3078 \n",
       "Q 1150 3584 1784 3584 \n",
       "Q 2172 3584 2448 3432 \n",
       "Q 2725 3281 2906 2969 \n",
       "z\n",
       "M 947 1747 \n",
       "Q 947 1113 1208 752 \n",
       "Q 1469 391 1925 391 \n",
       "Q 2381 391 2643 752 \n",
       "Q 2906 1113 2906 1747 \n",
       "Q 2906 2381 2643 2742 \n",
       "Q 2381 3103 1925 3103 \n",
       "Q 1469 3103 1208 2742 \n",
       "Q 947 2381 947 1747 \n",
       "z\n",
       "\" transform=\"scale(0.015625)\"/>\n",
       "       <path id=\"DejaVuSans-70\" d=\"M 1159 525 \n",
       "L 1159 -1331 \n",
       "L 581 -1331 \n",
       "L 581 3500 \n",
       "L 1159 3500 \n",
       "L 1159 2969 \n",
       "Q 1341 3281 1617 3432 \n",
       "Q 1894 3584 2278 3584 \n",
       "Q 2916 3584 3314 3078 \n",
       "Q 3713 2572 3713 1747 \n",
       "Q 3713 922 3314 415 \n",
       "Q 2916 -91 2278 -91 \n",
       "Q 1894 -91 1617 61 \n",
       "Q 1341 213 1159 525 \n",
       "z\n",
       "M 3116 1747 \n",
       "Q 3116 2381 2855 2742 \n",
       "Q 2594 3103 2138 3103 \n",
       "Q 1681 3103 1420 2742 \n",
       "Q 1159 2381 1159 1747 \n",
       "Q 1159 1113 1420 752 \n",
       "Q 1681 391 2138 391 \n",
       "Q 2594 391 2855 752 \n",
       "Q 3116 1113 3116 1747 \n",
       "z\n",
       "\" transform=\"scale(0.015625)\"/>\n",
       "      </defs>\n",
       "      <use xlink:href=\"#DejaVuSans-64\"/>\n",
       "      <use xlink:href=\"#DejaVuSans-79\" x=\"63.476562\"/>\n",
       "      <use xlink:href=\"#DejaVuSans-73\" x=\"122.65625\"/>\n",
       "      <use xlink:href=\"#DejaVuSans-70\" x=\"174.755859\"/>\n",
       "     </g>\n",
       "    </g>\n",
       "   </g>\n",
       "   <g id=\"text_8\">\n",
       "    <g clip-path=\"url(#pae3e39989a)\">\n",
       "     <!-- bronc -->\n",
       "     <g transform=\"translate(314.822562 231.443379)scale(0.12 -0.12)\">\n",
       "      <defs>\n",
       "       <path id=\"DejaVuSans-63\" d=\"M 3122 3366 \n",
       "L 3122 2828 \n",
       "Q 2878 2963 2633 3030 \n",
       "Q 2388 3097 2138 3097 \n",
       "Q 1578 3097 1268 2742 \n",
       "Q 959 2388 959 1747 \n",
       "Q 959 1106 1268 751 \n",
       "Q 1578 397 2138 397 \n",
       "Q 2388 397 2633 464 \n",
       "Q 2878 531 3122 666 \n",
       "L 3122 134 \n",
       "Q 2881 22 2623 -34 \n",
       "Q 2366 -91 2075 -91 \n",
       "Q 1284 -91 818 406 \n",
       "Q 353 903 353 1747 \n",
       "Q 353 2603 823 3093 \n",
       "Q 1294 3584 2113 3584 \n",
       "Q 2378 3584 2631 3529 \n",
       "Q 2884 3475 3122 3366 \n",
       "z\n",
       "\" transform=\"scale(0.015625)\"/>\n",
       "      </defs>\n",
       "      <use xlink:href=\"#DejaVuSans-62\"/>\n",
       "      <use xlink:href=\"#DejaVuSans-72\" x=\"63.476562\"/>\n",
       "      <use xlink:href=\"#DejaVuSans-6f\" x=\"102.339844\"/>\n",
       "      <use xlink:href=\"#DejaVuSans-6e\" x=\"163.521484\"/>\n",
       "      <use xlink:href=\"#DejaVuSans-63\" x=\"226.900391\"/>\n",
       "     </g>\n",
       "    </g>\n",
       "   </g>\n",
       "  </g>\n",
       " </g>\n",
       " <defs>\n",
       "  <clipPath id=\"pae3e39989a\">\n",
       "   <rect x=\"7.2\" y=\"7.2\" width=\"432\" height=\"288\"/>\n",
       "  </clipPath>\n",
       " </defs>\n",
       "</svg>\n"
      ],
      "text/plain": [
       "<Figure size 432x288 with 1 Axes>"
      ]
     },
     "metadata": {},
     "output_type": "display_data"
    },
    {
     "name": "stderr",
     "output_type": "stream",
     "text": [
      "100%|████████████████████████████████████████| 500/500 [00:02<00:00, 177.90it/s]\n"
     ]
    },
    {
     "name": "stdout",
     "output_type": "stream",
     "text": [
      "yture\n"
     ]
    },
    {
     "name": "stderr",
     "output_type": "stream",
     "text": [
      "100%|█████████████████████████████████████████████| 4/4 [00:21<00:00,  5.27s/it]\n"
     ]
    },
    {
     "name": "stdout",
     "output_type": "stream",
     "text": [
      "ymodels\n",
      "Adjs\n",
      "{'asia_nobears': 0, 'asia_ccdr': 1, 'asia_lingam': 2, 'asia_notears': 3}\n",
      "0.7352941176470589\n"
     ]
    },
    {
     "data": {
      "text/plain": [
       "<Figure size 432x288 with 0 Axes>"
      ]
     },
     "metadata": {},
     "output_type": "display_data"
    }
   ],
   "source": [
    "dataset_name = 'asia'\n",
    "fnames = get_adjmats(dataset_name)\n",
    "nod_names = get_nodnames(dataset_name)\n",
    "learned_bns, Graphs = build_bns(fnames, nod_names, 4)\n",
    "files = list(learned_bns.keys())\n",
    "queries = generate_queries(dataset_name)\n",
    "y_true = true_probs(dataset_name, queries)\n",
    "y_models = get_prob_models(files, queries)\n",
    "adjs = fix_adjmats(learned_bns, files)\n",
    "df, clf, acc = multiclass(nod_names, files, queries, adjs, y_true, Graphs)"
   ]
  },
  {
   "cell_type": "code",
   "execution_count": null,
   "id": "f98e0cb5",
   "metadata": {},
   "outputs": [],
   "source": []
  },
  {
   "cell_type": "markdown",
   "id": "72e92090",
   "metadata": {},
   "source": [
    "## Analysis"
   ]
  },
  {
   "cell_type": "code",
   "execution_count": 116,
   "id": "3f9d5f7e",
   "metadata": {},
   "outputs": [],
   "source": [
    "import pyAgrum.causal"
   ]
  },
  {
   "cell_type": "code",
   "execution_count": 26,
   "id": "8bcae7fd",
   "metadata": {},
   "outputs": [
    {
     "name": "stdout",
     "output_type": "stream",
     "text": [
      "Requirement already satisfied: plotly in /home/vishesh/.conda/envs/causality/lib/python3.9/site-packages (5.5.0)\r\n",
      "Requirement already satisfied: tenacity>=6.2.0 in /home/vishesh/.conda/envs/causality/lib/python3.9/site-packages (from plotly) (8.0.1)\r\n",
      "Requirement already satisfied: six in /home/vishesh/.conda/envs/causality/lib/python3.9/site-packages (from plotly) (1.16.0)\r\n"
     ]
    }
   ],
   "source": [
    "# !pip install plotly\n",
    "\n",
    "# import plotly.express as px"
   ]
  },
  {
   "cell_type": "code",
   "execution_count": 117,
   "id": "ec5f5cce",
   "metadata": {},
   "outputs": [],
   "source": [
    "model_to_int={'asia_nobears': 0, 'asia_ccdr': 1, 'asia_lingam': 2, 'asia_notears': 3}\n",
    "# model_to_int={'sachs_ccdr': 0, 'sachs_lingam': 1, 'sachs_dagGNN': 2, 'sachs_notears': 3}\n",
    "\n",
    "# model_to_int = {y:x for x,y in model_to_int.iteritems()}\n",
    "\n",
    "my_dict = { model_to_int[k]:k for k in model_to_int}\n",
    "\n",
    "df[\"Model_name\"]=df[\"Label\"]\n",
    "df[\"Model_name\"].replace(my_dict, inplace=True)\n",
    "df[\"Edge Lengths\"].replace({math.inf: 0}, inplace=True)"
   ]
  },
  {
   "cell_type": "code",
   "execution_count": 118,
   "id": "a5f0d378",
   "metadata": {},
   "outputs": [
    {
     "data": {
      "text/plain": [
       "Index(['Query', 'Label', 'Edge Lengths', 'degree_centrality_target',\n",
       "       'degree_centrality_evs', 'betweeness_centrality_target',\n",
       "       'betweeness_centrality_evs', 'Model_0', 'Model_1', 'Model_2', 'Model_3',\n",
       "       'Model_name'],\n",
       "      dtype='object')"
      ]
     },
     "execution_count": 118,
     "metadata": {},
     "output_type": "execute_result"
    }
   ],
   "source": [
    "df.columns"
   ]
  },
  {
   "cell_type": "code",
   "execution_count": 123,
   "id": "9aa507de",
   "metadata": {},
   "outputs": [
    {
     "data": {
      "application/vnd.plotly.v1+json": {
       "config": {
        "plotlyServerURL": "https://plot.ly"
       },
       "data": [
        {
         "alignmentgroup": "True",
         "bingroup": "x",
         "histnorm": "percent",
         "hovertemplate": "Model_3=%{x}<br>percent=%{y}<extra></extra>",
         "legendgroup": "",
         "marker": {
          "color": "#636efa",
          "pattern": {
           "shape": ""
          }
         },
         "name": "",
         "nbinsx": 30,
         "offsetgroup": "",
         "orientation": "v",
         "showlegend": false,
         "type": "histogram",
         "x": [
          0.10638461255339438,
          0.09448075203663209,
          0.10638464338427012,
          0.8190479455940808,
          0.0021730743205325975,
          0.9242307701477445,
          0.8611800840236883,
          0.9053898867063472,
          0.0021730743205325975,
          0.962307692817545,
          0.004159166464240305,
          0.10638463445810165,
          0.9294724410079954,
          0.1855807748142041,
          0.04164340491585916,
          0.962307692817545,
          0.9227635795265324,
          0.962307692817545,
          0.16449358082763976,
          0.8161800853699432,
          0.06756469482666971,
          0.8298372593921477,
          0.023089514947876255,
          0.03507172549378301,
          0.02765923482898558,
          0.08998228719773282,
          0.16449358082763976,
          0.23065915595302455,
          0.9690724418237636,
          0.9083228332925979,
          0.9544822584522649,
          0.260659147778184,
          0.8001492573917551,
          0.08998227168189843,
          0.962307693020387,
          0.06143208459911775,
          0.016814273751193376,
          0.09448075203663209,
          0.4069178047587757,
          0.06756469482666971,
          0.9244724389166824,
          0.05551925461108864,
          0.10638463445810176,
          0.09049074977438853,
          0.05696105144896868,
          0.16449358082763976,
          0.8633228346388528,
          0.8166549428328116,
          0.16449358082763976,
          0.8461800864209811,
          0.25126689239939504,
          0.9083228349028815,
          0.05551925461108864,
          0.09049074066605378,
          0.08998228719773282,
          0.10638461255339438,
          0.0021730743205325975,
          0.8605636151451094,
          0.10920333078745059,
          0.06756467899418606,
          0.8161800853699432,
          0.4069178047587757,
          0.0021730743205325975,
          0.9227635795265324,
          0.962307693020387,
          0.23065915642799895,
          0.8746604844645278,
          0.8001492573917551,
          0.0021730743205325975,
          0.7285228823345369,
          0.3412896013987853,
          0.962307692817545,
          0.40087079660937075,
          0.05551925461108864,
          0.0650613167988795,
          0.04164340491585916,
          0.8461800864209811,
          0.7152703820030295,
          0.44157513185780517,
          0.03138893264573939,
          0.9399631942867276,
          0.09049072949018289,
          0.016814273751193376,
          0.05696105144896868,
          0.962307692817545,
          0.2606591735754471,
          0.06143209352528611,
          0.16449358082763976,
          0.767846488520503,
          0.9242307701477445,
          0.8190479455940808,
          0.0021730743205325975,
          0.23065914759906103,
          0.028246499436644812,
          0.02765923482898558,
          0.962307692817545,
          0.962307692817545,
          0.09448075203663209,
          0.962307692817545,
          0.09049073213156666,
          0.9617114146020139,
          0.16449358082763976,
          0.9565351877542396,
          0.9244724389166824,
          0.8298372593921477,
          0.962307693020387,
          0.09049074066605378,
          0.962307692817545,
          0.8072592587463503,
          0.08998229358660581,
          0.9591521532035344,
          0.962307692817545,
          0.962307692817545,
          0.06756467899418606,
          0.5918356782845975,
          0.9399631942867276,
          0.8161800853699432,
          0.962307692817545,
          0.8161800853699432,
          0.023089514947876255,
          0.05551925461108864,
          0.04164340491585916,
          0.0021730743205325975,
          0.09448075203663209,
          0.4069178047587757,
          0.9619827420692981,
          0.962307692817545,
          0.8594712242297433,
          0.0021730743205325975,
          0.7563343014527185,
          0.0005877940989426067,
          0.10638463445810176,
          0.0021730822367745373,
          0.09448075203663209,
          0.05551925461108864,
          0.134834348147294,
          0.8772153491376635,
          0.0021730743205325975,
          0.9591521532035344,
          0.05696104376793054,
          0.10638463445810176,
          0.04164340491585916,
          0.8461800864209811,
          0.02765923482898558,
          0.8161800853699432,
          0.3412896013987853,
          0.032102927099769696,
          0.09448075203663209,
          0.9449898877803578,
          0.09049074977438853,
          0.00855803839441982,
          0.8298372593921477,
          0.26065916610661244,
          0.8933228356898907,
          0.9061444596445791,
          0.05551925461108864,
          0.10638464338427012,
          0.962307692817545,
          0.8371640108483189,
          0.10638462609430432,
          0.9449898877803578,
          0.9449898875221154,
          0.9242307701477445,
          0.7219105807218622,
          0.962307692817545,
          0.9053898867063472,
          0.056961045581636616,
          0.2552045899418769,
          0.10638462806922877,
          0.962307692817545,
          0.9053898867063472,
          0.10638463445810176,
          0.05551925461108864,
          0.6727529923159558,
          0.032102927099769696,
          0.962307692817545,
          0.05551925461108864,
          0.05551925461108864,
          0.962307692817545,
          0.8809166847151457,
          0.31733139917313646,
          0.9565351877542396,
          0.40087079660937075,
          0.028246499436644812,
          0.962307692817545,
          0.03507172549378301,
          0.09049072949018289,
          0.9449898875221154,
          0.9629275647891677,
          0.028246499436644812,
          0.028246499436644812,
          0.1855807748142041,
          0.962307693020387,
          0.9053898867063472,
          0.8161800853699432,
          0.962307692817545,
          0.9621142805085342,
          0.23065915080281063,
          0.09049074977438853,
          0.1855807748142041,
          0.06756469482666971,
          0.23065915642799895,
          0.028246499436644812,
          0.9449898875221154,
          0.9094724413139752,
          0.08998228719773282,
          0.8322153504839185,
          0.8166549428328116,
          0.9053898867063472,
          0.16449358082763976,
          0.16449358082763976,
          0.13107362248495247,
          0.8843736913085017,
          0.10638464338427012,
          0.09049074066605378,
          0.05952200609844871,
          0.10638462609430432,
          0.9242307701477445,
          0.13182379642704356,
          0.009239737234710943,
          0.032102927099769696,
          0.8794724402629374,
          0.09448075203663209,
          0.4069178047587757,
          0.016814273751193487,
          0.00855803839441982,
          0.9690724418237636,
          0.016922011199603015,
          0.7495204222496477,
          0.12374677840043014,
          0.9449898875221154,
          0.03176681276082893,
          0.9053898867063472,
          0.23065915642799895,
          0.05551925461108864,
          0.09448075203663209,
          0.09448075203663209,
          0.9590487320038352,
          0.9565351877542396,
          0.04164340491585916,
          0.9242307701477445,
          0.9053898867063472,
          0.05551925461108864,
          0.006532821617103224,
          0.0021730743205325975,
          0.8611800840236883,
          0.09448075294348518,
          0.004159166464240305,
          0.8548024614509883,
          0.7219105807218622,
          0.6887653830276659,
          0.05551925461108864,
          0.09448075203663209,
          0.255204584705898,
          0.3412896013987853,
          0.09448075203663209,
          0.8190479455940808,
          0.0021730743205325975,
          0.9629275645309254,
          0.08998227168189843,
          0.4069178047587757,
          0.3079835793189387,
          0.962307692817545,
          0.9690724418237636,
          0.8772153491376635,
          0.09049073213156666,
          0.962307692817545,
          0.260659147778184,
          0.9437839370907851,
          0.13182379642704356,
          0.056961045581636616,
          0.05337852219500877,
          0.02765923482898558,
          0.027659225720650826,
          0.016814273751193487,
          0.7219105807218622,
          0.962307692817545,
          0.9126365942425821,
          0.9621142805085342,
          0.05696105144896868,
          0.2606591735754471,
          0.6356119651417822,
          0.8161800853699432,
          0.9244724389166824,
          0.286282086265902,
          0.9244724389166824,
          0.0067121285747311354,
          0.16449358082763976,
          0.8809166847151457,
          0.10920333078745059,
          0.26065916610661244,
          0.06143209352528611,
          0.8322153504839185,
          0.09448075203663209,
          0.962307692817545,
          0.9244724389166824,
          0.8611800840236883,
          0.962307692817545,
          0.49047488545220114,
          0.9690724420820059,
          0.09448075203663209,
          0.962307692817545,
          0.9242307701477445,
          0.47461142895364783,
          0.0021730743205325975,
          0.0021730743205325975,
          0.7563343014527185,
          0.06143209352528611,
          0.962307692817545,
          0.9053898867063472,
          0.0005877940989426067,
          0.27045425401249523,
          0.23065915080281063,
          0.10638464338427012,
          0.23065915595302433,
          0.7930092585623838,
          0.8563746539255371,
          0.9617114146020139,
          0.962307692817545,
          0.08998228719773282,
          0.8001492573917551,
          0.9053898867063472,
          0.8675504831099327,
          0.962307692817545,
          0.02765923482898558,
          0.8190479455940808,
          0.17259604154230157,
          0.06143207364676406,
          0.23065915642799895,
          0.10638463445810176,
          0.9690724418237636,
          0.7645092594829579,
          0.260659147778184,
          0.9591521532035344,
          0.6356119651417822,
          0.9244724389166824,
          0.05696104376793054,
          0.7219105807218622,
          0.962307692817545,
          0.12176036244152977,
          0.7645092594829579,
          0.06143209352528611,
          0.09448075203663209,
          0.06756470134592785,
          0.05551925461108864,
          0.4069178047587757,
          0.23065915080281063,
          0.8933228356898907,
          0.01332552561815048,
          0.0021730743205325975,
          0.962307692817545
         ],
         "xaxis": "x",
         "yaxis": "y"
        }
       ],
       "layout": {
        "bargap": 0.01,
        "barmode": "relative",
        "legend": {
         "tracegroupgap": 0
        },
        "margin": {
         "t": 60
        },
        "template": {
         "data": {
          "bar": [
           {
            "error_x": {
             "color": "#2a3f5f"
            },
            "error_y": {
             "color": "#2a3f5f"
            },
            "marker": {
             "line": {
              "color": "#E5ECF6",
              "width": 0.5
             },
             "pattern": {
              "fillmode": "overlay",
              "size": 10,
              "solidity": 0.2
             }
            },
            "type": "bar"
           }
          ],
          "barpolar": [
           {
            "marker": {
             "line": {
              "color": "#E5ECF6",
              "width": 0.5
             },
             "pattern": {
              "fillmode": "overlay",
              "size": 10,
              "solidity": 0.2
             }
            },
            "type": "barpolar"
           }
          ],
          "carpet": [
           {
            "aaxis": {
             "endlinecolor": "#2a3f5f",
             "gridcolor": "white",
             "linecolor": "white",
             "minorgridcolor": "white",
             "startlinecolor": "#2a3f5f"
            },
            "baxis": {
             "endlinecolor": "#2a3f5f",
             "gridcolor": "white",
             "linecolor": "white",
             "minorgridcolor": "white",
             "startlinecolor": "#2a3f5f"
            },
            "type": "carpet"
           }
          ],
          "choropleth": [
           {
            "colorbar": {
             "outlinewidth": 0,
             "ticks": ""
            },
            "type": "choropleth"
           }
          ],
          "contour": [
           {
            "colorbar": {
             "outlinewidth": 0,
             "ticks": ""
            },
            "colorscale": [
             [
              0,
              "#0d0887"
             ],
             [
              0.1111111111111111,
              "#46039f"
             ],
             [
              0.2222222222222222,
              "#7201a8"
             ],
             [
              0.3333333333333333,
              "#9c179e"
             ],
             [
              0.4444444444444444,
              "#bd3786"
             ],
             [
              0.5555555555555556,
              "#d8576b"
             ],
             [
              0.6666666666666666,
              "#ed7953"
             ],
             [
              0.7777777777777778,
              "#fb9f3a"
             ],
             [
              0.8888888888888888,
              "#fdca26"
             ],
             [
              1,
              "#f0f921"
             ]
            ],
            "type": "contour"
           }
          ],
          "contourcarpet": [
           {
            "colorbar": {
             "outlinewidth": 0,
             "ticks": ""
            },
            "type": "contourcarpet"
           }
          ],
          "heatmap": [
           {
            "colorbar": {
             "outlinewidth": 0,
             "ticks": ""
            },
            "colorscale": [
             [
              0,
              "#0d0887"
             ],
             [
              0.1111111111111111,
              "#46039f"
             ],
             [
              0.2222222222222222,
              "#7201a8"
             ],
             [
              0.3333333333333333,
              "#9c179e"
             ],
             [
              0.4444444444444444,
              "#bd3786"
             ],
             [
              0.5555555555555556,
              "#d8576b"
             ],
             [
              0.6666666666666666,
              "#ed7953"
             ],
             [
              0.7777777777777778,
              "#fb9f3a"
             ],
             [
              0.8888888888888888,
              "#fdca26"
             ],
             [
              1,
              "#f0f921"
             ]
            ],
            "type": "heatmap"
           }
          ],
          "heatmapgl": [
           {
            "colorbar": {
             "outlinewidth": 0,
             "ticks": ""
            },
            "colorscale": [
             [
              0,
              "#0d0887"
             ],
             [
              0.1111111111111111,
              "#46039f"
             ],
             [
              0.2222222222222222,
              "#7201a8"
             ],
             [
              0.3333333333333333,
              "#9c179e"
             ],
             [
              0.4444444444444444,
              "#bd3786"
             ],
             [
              0.5555555555555556,
              "#d8576b"
             ],
             [
              0.6666666666666666,
              "#ed7953"
             ],
             [
              0.7777777777777778,
              "#fb9f3a"
             ],
             [
              0.8888888888888888,
              "#fdca26"
             ],
             [
              1,
              "#f0f921"
             ]
            ],
            "type": "heatmapgl"
           }
          ],
          "histogram": [
           {
            "marker": {
             "pattern": {
              "fillmode": "overlay",
              "size": 10,
              "solidity": 0.2
             }
            },
            "type": "histogram"
           }
          ],
          "histogram2d": [
           {
            "colorbar": {
             "outlinewidth": 0,
             "ticks": ""
            },
            "colorscale": [
             [
              0,
              "#0d0887"
             ],
             [
              0.1111111111111111,
              "#46039f"
             ],
             [
              0.2222222222222222,
              "#7201a8"
             ],
             [
              0.3333333333333333,
              "#9c179e"
             ],
             [
              0.4444444444444444,
              "#bd3786"
             ],
             [
              0.5555555555555556,
              "#d8576b"
             ],
             [
              0.6666666666666666,
              "#ed7953"
             ],
             [
              0.7777777777777778,
              "#fb9f3a"
             ],
             [
              0.8888888888888888,
              "#fdca26"
             ],
             [
              1,
              "#f0f921"
             ]
            ],
            "type": "histogram2d"
           }
          ],
          "histogram2dcontour": [
           {
            "colorbar": {
             "outlinewidth": 0,
             "ticks": ""
            },
            "colorscale": [
             [
              0,
              "#0d0887"
             ],
             [
              0.1111111111111111,
              "#46039f"
             ],
             [
              0.2222222222222222,
              "#7201a8"
             ],
             [
              0.3333333333333333,
              "#9c179e"
             ],
             [
              0.4444444444444444,
              "#bd3786"
             ],
             [
              0.5555555555555556,
              "#d8576b"
             ],
             [
              0.6666666666666666,
              "#ed7953"
             ],
             [
              0.7777777777777778,
              "#fb9f3a"
             ],
             [
              0.8888888888888888,
              "#fdca26"
             ],
             [
              1,
              "#f0f921"
             ]
            ],
            "type": "histogram2dcontour"
           }
          ],
          "mesh3d": [
           {
            "colorbar": {
             "outlinewidth": 0,
             "ticks": ""
            },
            "type": "mesh3d"
           }
          ],
          "parcoords": [
           {
            "line": {
             "colorbar": {
              "outlinewidth": 0,
              "ticks": ""
             }
            },
            "type": "parcoords"
           }
          ],
          "pie": [
           {
            "automargin": true,
            "type": "pie"
           }
          ],
          "scatter": [
           {
            "marker": {
             "colorbar": {
              "outlinewidth": 0,
              "ticks": ""
             }
            },
            "type": "scatter"
           }
          ],
          "scatter3d": [
           {
            "line": {
             "colorbar": {
              "outlinewidth": 0,
              "ticks": ""
             }
            },
            "marker": {
             "colorbar": {
              "outlinewidth": 0,
              "ticks": ""
             }
            },
            "type": "scatter3d"
           }
          ],
          "scattercarpet": [
           {
            "marker": {
             "colorbar": {
              "outlinewidth": 0,
              "ticks": ""
             }
            },
            "type": "scattercarpet"
           }
          ],
          "scattergeo": [
           {
            "marker": {
             "colorbar": {
              "outlinewidth": 0,
              "ticks": ""
             }
            },
            "type": "scattergeo"
           }
          ],
          "scattergl": [
           {
            "marker": {
             "colorbar": {
              "outlinewidth": 0,
              "ticks": ""
             }
            },
            "type": "scattergl"
           }
          ],
          "scattermapbox": [
           {
            "marker": {
             "colorbar": {
              "outlinewidth": 0,
              "ticks": ""
             }
            },
            "type": "scattermapbox"
           }
          ],
          "scatterpolar": [
           {
            "marker": {
             "colorbar": {
              "outlinewidth": 0,
              "ticks": ""
             }
            },
            "type": "scatterpolar"
           }
          ],
          "scatterpolargl": [
           {
            "marker": {
             "colorbar": {
              "outlinewidth": 0,
              "ticks": ""
             }
            },
            "type": "scatterpolargl"
           }
          ],
          "scatterternary": [
           {
            "marker": {
             "colorbar": {
              "outlinewidth": 0,
              "ticks": ""
             }
            },
            "type": "scatterternary"
           }
          ],
          "surface": [
           {
            "colorbar": {
             "outlinewidth": 0,
             "ticks": ""
            },
            "colorscale": [
             [
              0,
              "#0d0887"
             ],
             [
              0.1111111111111111,
              "#46039f"
             ],
             [
              0.2222222222222222,
              "#7201a8"
             ],
             [
              0.3333333333333333,
              "#9c179e"
             ],
             [
              0.4444444444444444,
              "#bd3786"
             ],
             [
              0.5555555555555556,
              "#d8576b"
             ],
             [
              0.6666666666666666,
              "#ed7953"
             ],
             [
              0.7777777777777778,
              "#fb9f3a"
             ],
             [
              0.8888888888888888,
              "#fdca26"
             ],
             [
              1,
              "#f0f921"
             ]
            ],
            "type": "surface"
           }
          ],
          "table": [
           {
            "cells": {
             "fill": {
              "color": "#EBF0F8"
             },
             "line": {
              "color": "white"
             }
            },
            "header": {
             "fill": {
              "color": "#C8D4E3"
             },
             "line": {
              "color": "white"
             }
            },
            "type": "table"
           }
          ]
         },
         "layout": {
          "annotationdefaults": {
           "arrowcolor": "#2a3f5f",
           "arrowhead": 0,
           "arrowwidth": 1
          },
          "autotypenumbers": "strict",
          "coloraxis": {
           "colorbar": {
            "outlinewidth": 0,
            "ticks": ""
           }
          },
          "colorscale": {
           "diverging": [
            [
             0,
             "#8e0152"
            ],
            [
             0.1,
             "#c51b7d"
            ],
            [
             0.2,
             "#de77ae"
            ],
            [
             0.3,
             "#f1b6da"
            ],
            [
             0.4,
             "#fde0ef"
            ],
            [
             0.5,
             "#f7f7f7"
            ],
            [
             0.6,
             "#e6f5d0"
            ],
            [
             0.7,
             "#b8e186"
            ],
            [
             0.8,
             "#7fbc41"
            ],
            [
             0.9,
             "#4d9221"
            ],
            [
             1,
             "#276419"
            ]
           ],
           "sequential": [
            [
             0,
             "#0d0887"
            ],
            [
             0.1111111111111111,
             "#46039f"
            ],
            [
             0.2222222222222222,
             "#7201a8"
            ],
            [
             0.3333333333333333,
             "#9c179e"
            ],
            [
             0.4444444444444444,
             "#bd3786"
            ],
            [
             0.5555555555555556,
             "#d8576b"
            ],
            [
             0.6666666666666666,
             "#ed7953"
            ],
            [
             0.7777777777777778,
             "#fb9f3a"
            ],
            [
             0.8888888888888888,
             "#fdca26"
            ],
            [
             1,
             "#f0f921"
            ]
           ],
           "sequentialminus": [
            [
             0,
             "#0d0887"
            ],
            [
             0.1111111111111111,
             "#46039f"
            ],
            [
             0.2222222222222222,
             "#7201a8"
            ],
            [
             0.3333333333333333,
             "#9c179e"
            ],
            [
             0.4444444444444444,
             "#bd3786"
            ],
            [
             0.5555555555555556,
             "#d8576b"
            ],
            [
             0.6666666666666666,
             "#ed7953"
            ],
            [
             0.7777777777777778,
             "#fb9f3a"
            ],
            [
             0.8888888888888888,
             "#fdca26"
            ],
            [
             1,
             "#f0f921"
            ]
           ]
          },
          "colorway": [
           "#636efa",
           "#EF553B",
           "#00cc96",
           "#ab63fa",
           "#FFA15A",
           "#19d3f3",
           "#FF6692",
           "#B6E880",
           "#FF97FF",
           "#FECB52"
          ],
          "font": {
           "color": "#2a3f5f"
          },
          "geo": {
           "bgcolor": "white",
           "lakecolor": "white",
           "landcolor": "#E5ECF6",
           "showlakes": true,
           "showland": true,
           "subunitcolor": "white"
          },
          "hoverlabel": {
           "align": "left"
          },
          "hovermode": "closest",
          "mapbox": {
           "style": "light"
          },
          "paper_bgcolor": "white",
          "plot_bgcolor": "#E5ECF6",
          "polar": {
           "angularaxis": {
            "gridcolor": "white",
            "linecolor": "white",
            "ticks": ""
           },
           "bgcolor": "#E5ECF6",
           "radialaxis": {
            "gridcolor": "white",
            "linecolor": "white",
            "ticks": ""
           }
          },
          "scene": {
           "xaxis": {
            "backgroundcolor": "#E5ECF6",
            "gridcolor": "white",
            "gridwidth": 2,
            "linecolor": "white",
            "showbackground": true,
            "ticks": "",
            "zerolinecolor": "white"
           },
           "yaxis": {
            "backgroundcolor": "#E5ECF6",
            "gridcolor": "white",
            "gridwidth": 2,
            "linecolor": "white",
            "showbackground": true,
            "ticks": "",
            "zerolinecolor": "white"
           },
           "zaxis": {
            "backgroundcolor": "#E5ECF6",
            "gridcolor": "white",
            "gridwidth": 2,
            "linecolor": "white",
            "showbackground": true,
            "ticks": "",
            "zerolinecolor": "white"
           }
          },
          "shapedefaults": {
           "line": {
            "color": "#2a3f5f"
           }
          },
          "ternary": {
           "aaxis": {
            "gridcolor": "white",
            "linecolor": "white",
            "ticks": ""
           },
           "baxis": {
            "gridcolor": "white",
            "linecolor": "white",
            "ticks": ""
           },
           "bgcolor": "#E5ECF6",
           "caxis": {
            "gridcolor": "white",
            "linecolor": "white",
            "ticks": ""
           }
          },
          "title": {
           "x": 0.05
          },
          "xaxis": {
           "automargin": true,
           "gridcolor": "white",
           "linecolor": "white",
           "ticks": "",
           "title": {
            "standoff": 15
           },
           "zerolinecolor": "white",
           "zerolinewidth": 2
          },
          "yaxis": {
           "automargin": true,
           "gridcolor": "white",
           "linecolor": "white",
           "ticks": "",
           "title": {
            "standoff": 15
           },
           "zerolinecolor": "white",
           "zerolinewidth": 2
          }
         }
        },
        "title": {
         "text": "Absolute difference histogram for asia_notears"
        },
        "xaxis": {
         "anchor": "y",
         "domain": [
          0,
          1
         ],
         "nticks": 30,
         "title": {
          "text": "Model_3"
         }
        },
        "yaxis": {
         "anchor": "x",
         "domain": [
          0,
          1
         ],
         "title": {
          "text": "percent"
         }
        }
       }
      },
      "text/html": [
       "<div>                            <div id=\"48c4c100-9c70-4509-828e-7c66ad487664\" class=\"plotly-graph-div\" style=\"height:525px; width:100%;\"></div>            <script type=\"text/javascript\">                require([\"plotly\"], function(Plotly) {                    window.PLOTLYENV=window.PLOTLYENV || {};                                    if (document.getElementById(\"48c4c100-9c70-4509-828e-7c66ad487664\")) {                    Plotly.newPlot(                        \"48c4c100-9c70-4509-828e-7c66ad487664\",                        [{\"alignmentgroup\":\"True\",\"bingroup\":\"x\",\"histnorm\":\"percent\",\"hovertemplate\":\"Model_3=%{x}<br>percent=%{y}<extra></extra>\",\"legendgroup\":\"\",\"marker\":{\"color\":\"#636efa\",\"pattern\":{\"shape\":\"\"}},\"name\":\"\",\"nbinsx\":30,\"offsetgroup\":\"\",\"orientation\":\"v\",\"showlegend\":false,\"x\":[0.10638461255339438,0.09448075203663209,0.10638464338427012,0.8190479455940808,0.0021730743205325975,0.9242307701477445,0.8611800840236883,0.9053898867063472,0.0021730743205325975,0.962307692817545,0.004159166464240305,0.10638463445810165,0.9294724410079954,0.1855807748142041,0.04164340491585916,0.962307692817545,0.9227635795265324,0.962307692817545,0.16449358082763976,0.8161800853699432,0.06756469482666971,0.8298372593921477,0.023089514947876255,0.03507172549378301,0.02765923482898558,0.08998228719773282,0.16449358082763976,0.23065915595302455,0.9690724418237636,0.9083228332925979,0.9544822584522649,0.260659147778184,0.8001492573917551,0.08998227168189843,0.962307693020387,0.06143208459911775,0.016814273751193376,0.09448075203663209,0.4069178047587757,0.06756469482666971,0.9244724389166824,0.05551925461108864,0.10638463445810176,0.09049074977438853,0.05696105144896868,0.16449358082763976,0.8633228346388528,0.8166549428328116,0.16449358082763976,0.8461800864209811,0.25126689239939504,0.9083228349028815,0.05551925461108864,0.09049074066605378,0.08998228719773282,0.10638461255339438,0.0021730743205325975,0.8605636151451094,0.10920333078745059,0.06756467899418606,0.8161800853699432,0.4069178047587757,0.0021730743205325975,0.9227635795265324,0.962307693020387,0.23065915642799895,0.8746604844645278,0.8001492573917551,0.0021730743205325975,0.7285228823345369,0.3412896013987853,0.962307692817545,0.40087079660937075,0.05551925461108864,0.0650613167988795,0.04164340491585916,0.8461800864209811,0.7152703820030295,0.44157513185780517,0.03138893264573939,0.9399631942867276,0.09049072949018289,0.016814273751193376,0.05696105144896868,0.962307692817545,0.2606591735754471,0.06143209352528611,0.16449358082763976,0.767846488520503,0.9242307701477445,0.8190479455940808,0.0021730743205325975,0.23065914759906103,0.028246499436644812,0.02765923482898558,0.962307692817545,0.962307692817545,0.09448075203663209,0.962307692817545,0.09049073213156666,0.9617114146020139,0.16449358082763976,0.9565351877542396,0.9244724389166824,0.8298372593921477,0.962307693020387,0.09049074066605378,0.962307692817545,0.8072592587463503,0.08998229358660581,0.9591521532035344,0.962307692817545,0.962307692817545,0.06756467899418606,0.5918356782845975,0.9399631942867276,0.8161800853699432,0.962307692817545,0.8161800853699432,0.023089514947876255,0.05551925461108864,0.04164340491585916,0.0021730743205325975,0.09448075203663209,0.4069178047587757,0.9619827420692981,0.962307692817545,0.8594712242297433,0.0021730743205325975,0.7563343014527185,0.0005877940989426067,0.10638463445810176,0.0021730822367745373,0.09448075203663209,0.05551925461108864,0.134834348147294,0.8772153491376635,0.0021730743205325975,0.9591521532035344,0.05696104376793054,0.10638463445810176,0.04164340491585916,0.8461800864209811,0.02765923482898558,0.8161800853699432,0.3412896013987853,0.032102927099769696,0.09448075203663209,0.9449898877803578,0.09049074977438853,0.00855803839441982,0.8298372593921477,0.26065916610661244,0.8933228356898907,0.9061444596445791,0.05551925461108864,0.10638464338427012,0.962307692817545,0.8371640108483189,0.10638462609430432,0.9449898877803578,0.9449898875221154,0.9242307701477445,0.7219105807218622,0.962307692817545,0.9053898867063472,0.056961045581636616,0.2552045899418769,0.10638462806922877,0.962307692817545,0.9053898867063472,0.10638463445810176,0.05551925461108864,0.6727529923159558,0.032102927099769696,0.962307692817545,0.05551925461108864,0.05551925461108864,0.962307692817545,0.8809166847151457,0.31733139917313646,0.9565351877542396,0.40087079660937075,0.028246499436644812,0.962307692817545,0.03507172549378301,0.09049072949018289,0.9449898875221154,0.9629275647891677,0.028246499436644812,0.028246499436644812,0.1855807748142041,0.962307693020387,0.9053898867063472,0.8161800853699432,0.962307692817545,0.9621142805085342,0.23065915080281063,0.09049074977438853,0.1855807748142041,0.06756469482666971,0.23065915642799895,0.028246499436644812,0.9449898875221154,0.9094724413139752,0.08998228719773282,0.8322153504839185,0.8166549428328116,0.9053898867063472,0.16449358082763976,0.16449358082763976,0.13107362248495247,0.8843736913085017,0.10638464338427012,0.09049074066605378,0.05952200609844871,0.10638462609430432,0.9242307701477445,0.13182379642704356,0.009239737234710943,0.032102927099769696,0.8794724402629374,0.09448075203663209,0.4069178047587757,0.016814273751193487,0.00855803839441982,0.9690724418237636,0.016922011199603015,0.7495204222496477,0.12374677840043014,0.9449898875221154,0.03176681276082893,0.9053898867063472,0.23065915642799895,0.05551925461108864,0.09448075203663209,0.09448075203663209,0.9590487320038352,0.9565351877542396,0.04164340491585916,0.9242307701477445,0.9053898867063472,0.05551925461108864,0.006532821617103224,0.0021730743205325975,0.8611800840236883,0.09448075294348518,0.004159166464240305,0.8548024614509883,0.7219105807218622,0.6887653830276659,0.05551925461108864,0.09448075203663209,0.255204584705898,0.3412896013987853,0.09448075203663209,0.8190479455940808,0.0021730743205325975,0.9629275645309254,0.08998227168189843,0.4069178047587757,0.3079835793189387,0.962307692817545,0.9690724418237636,0.8772153491376635,0.09049073213156666,0.962307692817545,0.260659147778184,0.9437839370907851,0.13182379642704356,0.056961045581636616,0.05337852219500877,0.02765923482898558,0.027659225720650826,0.016814273751193487,0.7219105807218622,0.962307692817545,0.9126365942425821,0.9621142805085342,0.05696105144896868,0.2606591735754471,0.6356119651417822,0.8161800853699432,0.9244724389166824,0.286282086265902,0.9244724389166824,0.0067121285747311354,0.16449358082763976,0.8809166847151457,0.10920333078745059,0.26065916610661244,0.06143209352528611,0.8322153504839185,0.09448075203663209,0.962307692817545,0.9244724389166824,0.8611800840236883,0.962307692817545,0.49047488545220114,0.9690724420820059,0.09448075203663209,0.962307692817545,0.9242307701477445,0.47461142895364783,0.0021730743205325975,0.0021730743205325975,0.7563343014527185,0.06143209352528611,0.962307692817545,0.9053898867063472,0.0005877940989426067,0.27045425401249523,0.23065915080281063,0.10638464338427012,0.23065915595302433,0.7930092585623838,0.8563746539255371,0.9617114146020139,0.962307692817545,0.08998228719773282,0.8001492573917551,0.9053898867063472,0.8675504831099327,0.962307692817545,0.02765923482898558,0.8190479455940808,0.17259604154230157,0.06143207364676406,0.23065915642799895,0.10638463445810176,0.9690724418237636,0.7645092594829579,0.260659147778184,0.9591521532035344,0.6356119651417822,0.9244724389166824,0.05696104376793054,0.7219105807218622,0.962307692817545,0.12176036244152977,0.7645092594829579,0.06143209352528611,0.09448075203663209,0.06756470134592785,0.05551925461108864,0.4069178047587757,0.23065915080281063,0.8933228356898907,0.01332552561815048,0.0021730743205325975,0.962307692817545],\"xaxis\":\"x\",\"yaxis\":\"y\",\"type\":\"histogram\"}],                        {\"template\":{\"data\":{\"bar\":[{\"error_x\":{\"color\":\"#2a3f5f\"},\"error_y\":{\"color\":\"#2a3f5f\"},\"marker\":{\"line\":{\"color\":\"#E5ECF6\",\"width\":0.5},\"pattern\":{\"fillmode\":\"overlay\",\"size\":10,\"solidity\":0.2}},\"type\":\"bar\"}],\"barpolar\":[{\"marker\":{\"line\":{\"color\":\"#E5ECF6\",\"width\":0.5},\"pattern\":{\"fillmode\":\"overlay\",\"size\":10,\"solidity\":0.2}},\"type\":\"barpolar\"}],\"carpet\":[{\"aaxis\":{\"endlinecolor\":\"#2a3f5f\",\"gridcolor\":\"white\",\"linecolor\":\"white\",\"minorgridcolor\":\"white\",\"startlinecolor\":\"#2a3f5f\"},\"baxis\":{\"endlinecolor\":\"#2a3f5f\",\"gridcolor\":\"white\",\"linecolor\":\"white\",\"minorgridcolor\":\"white\",\"startlinecolor\":\"#2a3f5f\"},\"type\":\"carpet\"}],\"choropleth\":[{\"colorbar\":{\"outlinewidth\":0,\"ticks\":\"\"},\"type\":\"choropleth\"}],\"contour\":[{\"colorbar\":{\"outlinewidth\":0,\"ticks\":\"\"},\"colorscale\":[[0.0,\"#0d0887\"],[0.1111111111111111,\"#46039f\"],[0.2222222222222222,\"#7201a8\"],[0.3333333333333333,\"#9c179e\"],[0.4444444444444444,\"#bd3786\"],[0.5555555555555556,\"#d8576b\"],[0.6666666666666666,\"#ed7953\"],[0.7777777777777778,\"#fb9f3a\"],[0.8888888888888888,\"#fdca26\"],[1.0,\"#f0f921\"]],\"type\":\"contour\"}],\"contourcarpet\":[{\"colorbar\":{\"outlinewidth\":0,\"ticks\":\"\"},\"type\":\"contourcarpet\"}],\"heatmap\":[{\"colorbar\":{\"outlinewidth\":0,\"ticks\":\"\"},\"colorscale\":[[0.0,\"#0d0887\"],[0.1111111111111111,\"#46039f\"],[0.2222222222222222,\"#7201a8\"],[0.3333333333333333,\"#9c179e\"],[0.4444444444444444,\"#bd3786\"],[0.5555555555555556,\"#d8576b\"],[0.6666666666666666,\"#ed7953\"],[0.7777777777777778,\"#fb9f3a\"],[0.8888888888888888,\"#fdca26\"],[1.0,\"#f0f921\"]],\"type\":\"heatmap\"}],\"heatmapgl\":[{\"colorbar\":{\"outlinewidth\":0,\"ticks\":\"\"},\"colorscale\":[[0.0,\"#0d0887\"],[0.1111111111111111,\"#46039f\"],[0.2222222222222222,\"#7201a8\"],[0.3333333333333333,\"#9c179e\"],[0.4444444444444444,\"#bd3786\"],[0.5555555555555556,\"#d8576b\"],[0.6666666666666666,\"#ed7953\"],[0.7777777777777778,\"#fb9f3a\"],[0.8888888888888888,\"#fdca26\"],[1.0,\"#f0f921\"]],\"type\":\"heatmapgl\"}],\"histogram\":[{\"marker\":{\"pattern\":{\"fillmode\":\"overlay\",\"size\":10,\"solidity\":0.2}},\"type\":\"histogram\"}],\"histogram2d\":[{\"colorbar\":{\"outlinewidth\":0,\"ticks\":\"\"},\"colorscale\":[[0.0,\"#0d0887\"],[0.1111111111111111,\"#46039f\"],[0.2222222222222222,\"#7201a8\"],[0.3333333333333333,\"#9c179e\"],[0.4444444444444444,\"#bd3786\"],[0.5555555555555556,\"#d8576b\"],[0.6666666666666666,\"#ed7953\"],[0.7777777777777778,\"#fb9f3a\"],[0.8888888888888888,\"#fdca26\"],[1.0,\"#f0f921\"]],\"type\":\"histogram2d\"}],\"histogram2dcontour\":[{\"colorbar\":{\"outlinewidth\":0,\"ticks\":\"\"},\"colorscale\":[[0.0,\"#0d0887\"],[0.1111111111111111,\"#46039f\"],[0.2222222222222222,\"#7201a8\"],[0.3333333333333333,\"#9c179e\"],[0.4444444444444444,\"#bd3786\"],[0.5555555555555556,\"#d8576b\"],[0.6666666666666666,\"#ed7953\"],[0.7777777777777778,\"#fb9f3a\"],[0.8888888888888888,\"#fdca26\"],[1.0,\"#f0f921\"]],\"type\":\"histogram2dcontour\"}],\"mesh3d\":[{\"colorbar\":{\"outlinewidth\":0,\"ticks\":\"\"},\"type\":\"mesh3d\"}],\"parcoords\":[{\"line\":{\"colorbar\":{\"outlinewidth\":0,\"ticks\":\"\"}},\"type\":\"parcoords\"}],\"pie\":[{\"automargin\":true,\"type\":\"pie\"}],\"scatter\":[{\"marker\":{\"colorbar\":{\"outlinewidth\":0,\"ticks\":\"\"}},\"type\":\"scatter\"}],\"scatter3d\":[{\"line\":{\"colorbar\":{\"outlinewidth\":0,\"ticks\":\"\"}},\"marker\":{\"colorbar\":{\"outlinewidth\":0,\"ticks\":\"\"}},\"type\":\"scatter3d\"}],\"scattercarpet\":[{\"marker\":{\"colorbar\":{\"outlinewidth\":0,\"ticks\":\"\"}},\"type\":\"scattercarpet\"}],\"scattergeo\":[{\"marker\":{\"colorbar\":{\"outlinewidth\":0,\"ticks\":\"\"}},\"type\":\"scattergeo\"}],\"scattergl\":[{\"marker\":{\"colorbar\":{\"outlinewidth\":0,\"ticks\":\"\"}},\"type\":\"scattergl\"}],\"scattermapbox\":[{\"marker\":{\"colorbar\":{\"outlinewidth\":0,\"ticks\":\"\"}},\"type\":\"scattermapbox\"}],\"scatterpolar\":[{\"marker\":{\"colorbar\":{\"outlinewidth\":0,\"ticks\":\"\"}},\"type\":\"scatterpolar\"}],\"scatterpolargl\":[{\"marker\":{\"colorbar\":{\"outlinewidth\":0,\"ticks\":\"\"}},\"type\":\"scatterpolargl\"}],\"scatterternary\":[{\"marker\":{\"colorbar\":{\"outlinewidth\":0,\"ticks\":\"\"}},\"type\":\"scatterternary\"}],\"surface\":[{\"colorbar\":{\"outlinewidth\":0,\"ticks\":\"\"},\"colorscale\":[[0.0,\"#0d0887\"],[0.1111111111111111,\"#46039f\"],[0.2222222222222222,\"#7201a8\"],[0.3333333333333333,\"#9c179e\"],[0.4444444444444444,\"#bd3786\"],[0.5555555555555556,\"#d8576b\"],[0.6666666666666666,\"#ed7953\"],[0.7777777777777778,\"#fb9f3a\"],[0.8888888888888888,\"#fdca26\"],[1.0,\"#f0f921\"]],\"type\":\"surface\"}],\"table\":[{\"cells\":{\"fill\":{\"color\":\"#EBF0F8\"},\"line\":{\"color\":\"white\"}},\"header\":{\"fill\":{\"color\":\"#C8D4E3\"},\"line\":{\"color\":\"white\"}},\"type\":\"table\"}]},\"layout\":{\"annotationdefaults\":{\"arrowcolor\":\"#2a3f5f\",\"arrowhead\":0,\"arrowwidth\":1},\"autotypenumbers\":\"strict\",\"coloraxis\":{\"colorbar\":{\"outlinewidth\":0,\"ticks\":\"\"}},\"colorscale\":{\"diverging\":[[0,\"#8e0152\"],[0.1,\"#c51b7d\"],[0.2,\"#de77ae\"],[0.3,\"#f1b6da\"],[0.4,\"#fde0ef\"],[0.5,\"#f7f7f7\"],[0.6,\"#e6f5d0\"],[0.7,\"#b8e186\"],[0.8,\"#7fbc41\"],[0.9,\"#4d9221\"],[1,\"#276419\"]],\"sequential\":[[0.0,\"#0d0887\"],[0.1111111111111111,\"#46039f\"],[0.2222222222222222,\"#7201a8\"],[0.3333333333333333,\"#9c179e\"],[0.4444444444444444,\"#bd3786\"],[0.5555555555555556,\"#d8576b\"],[0.6666666666666666,\"#ed7953\"],[0.7777777777777778,\"#fb9f3a\"],[0.8888888888888888,\"#fdca26\"],[1.0,\"#f0f921\"]],\"sequentialminus\":[[0.0,\"#0d0887\"],[0.1111111111111111,\"#46039f\"],[0.2222222222222222,\"#7201a8\"],[0.3333333333333333,\"#9c179e\"],[0.4444444444444444,\"#bd3786\"],[0.5555555555555556,\"#d8576b\"],[0.6666666666666666,\"#ed7953\"],[0.7777777777777778,\"#fb9f3a\"],[0.8888888888888888,\"#fdca26\"],[1.0,\"#f0f921\"]]},\"colorway\":[\"#636efa\",\"#EF553B\",\"#00cc96\",\"#ab63fa\",\"#FFA15A\",\"#19d3f3\",\"#FF6692\",\"#B6E880\",\"#FF97FF\",\"#FECB52\"],\"font\":{\"color\":\"#2a3f5f\"},\"geo\":{\"bgcolor\":\"white\",\"lakecolor\":\"white\",\"landcolor\":\"#E5ECF6\",\"showlakes\":true,\"showland\":true,\"subunitcolor\":\"white\"},\"hoverlabel\":{\"align\":\"left\"},\"hovermode\":\"closest\",\"mapbox\":{\"style\":\"light\"},\"paper_bgcolor\":\"white\",\"plot_bgcolor\":\"#E5ECF6\",\"polar\":{\"angularaxis\":{\"gridcolor\":\"white\",\"linecolor\":\"white\",\"ticks\":\"\"},\"bgcolor\":\"#E5ECF6\",\"radialaxis\":{\"gridcolor\":\"white\",\"linecolor\":\"white\",\"ticks\":\"\"}},\"scene\":{\"xaxis\":{\"backgroundcolor\":\"#E5ECF6\",\"gridcolor\":\"white\",\"gridwidth\":2,\"linecolor\":\"white\",\"showbackground\":true,\"ticks\":\"\",\"zerolinecolor\":\"white\"},\"yaxis\":{\"backgroundcolor\":\"#E5ECF6\",\"gridcolor\":\"white\",\"gridwidth\":2,\"linecolor\":\"white\",\"showbackground\":true,\"ticks\":\"\",\"zerolinecolor\":\"white\"},\"zaxis\":{\"backgroundcolor\":\"#E5ECF6\",\"gridcolor\":\"white\",\"gridwidth\":2,\"linecolor\":\"white\",\"showbackground\":true,\"ticks\":\"\",\"zerolinecolor\":\"white\"}},\"shapedefaults\":{\"line\":{\"color\":\"#2a3f5f\"}},\"ternary\":{\"aaxis\":{\"gridcolor\":\"white\",\"linecolor\":\"white\",\"ticks\":\"\"},\"baxis\":{\"gridcolor\":\"white\",\"linecolor\":\"white\",\"ticks\":\"\"},\"bgcolor\":\"#E5ECF6\",\"caxis\":{\"gridcolor\":\"white\",\"linecolor\":\"white\",\"ticks\":\"\"}},\"title\":{\"x\":0.05},\"xaxis\":{\"automargin\":true,\"gridcolor\":\"white\",\"linecolor\":\"white\",\"ticks\":\"\",\"title\":{\"standoff\":15},\"zerolinecolor\":\"white\",\"zerolinewidth\":2},\"yaxis\":{\"automargin\":true,\"gridcolor\":\"white\",\"linecolor\":\"white\",\"ticks\":\"\",\"title\":{\"standoff\":15},\"zerolinecolor\":\"white\",\"zerolinewidth\":2}}},\"xaxis\":{\"anchor\":\"y\",\"domain\":[0.0,1.0],\"title\":{\"text\":\"Model_3\"},\"nticks\":30},\"yaxis\":{\"anchor\":\"x\",\"domain\":[0.0,1.0],\"title\":{\"text\":\"percent\"}},\"legend\":{\"tracegroupgap\":0},\"margin\":{\"t\":60},\"barmode\":\"relative\",\"title\":{\"text\":\"Absolute difference histogram for asia_notears\"},\"bargap\":0.01},                        {\"responsive\": true}                    ).then(function(){\n",
       "                            \n",
       "var gd = document.getElementById('48c4c100-9c70-4509-828e-7c66ad487664');\n",
       "var x = new MutationObserver(function (mutations, observer) {{\n",
       "        var display = window.getComputedStyle(gd).display;\n",
       "        if (!display || display === 'none') {{\n",
       "            console.log([gd, 'removed!']);\n",
       "            Plotly.purge(gd);\n",
       "            observer.disconnect();\n",
       "        }}\n",
       "}});\n",
       "\n",
       "// Listen for the removal of the full notebook cells\n",
       "var notebookContainer = gd.closest('#notebook-container');\n",
       "if (notebookContainer) {{\n",
       "    x.observe(notebookContainer, {childList: true});\n",
       "}}\n",
       "\n",
       "// Listen for the clearing of the current output cell\n",
       "var outputEl = gd.closest('.output');\n",
       "if (outputEl) {{\n",
       "    x.observe(outputEl, {childList: true});\n",
       "}}\n",
       "\n",
       "                        })                };                });            </script>        </div>"
      ]
     },
     "metadata": {},
     "output_type": "display_data"
    }
   ],
   "source": [
    "fig = px.histogram(df, x=\"Model_3\", histnorm=\"percent\", nbins=30)\n",
    "# fig.update_layout(yaxis_range=[0, 1])\n",
    "fig.update_layout(\n",
    "    \n",
    "    title_text=f'Absolute difference histogram for asia_notears', # title of plot\n",
    "    bargap=0.01\n",
    "\n",
    ")\n",
    "fig.update_xaxes(nticks=30)\n",
    "fig.show()"
   ]
  },
  {
   "cell_type": "code",
   "execution_count": 135,
   "id": "2a9ba2bb",
   "metadata": {},
   "outputs": [
    {
     "data": {
      "application/vnd.plotly.v1+json": {
       "config": {
        "plotlyServerURL": "https://plot.ly"
       },
       "data": [
        {
         "hovertemplate": "Edge Lengths=%{x}<br>Model_3=%{y}<extra></extra>",
         "legendgroup": "",
         "marker": {
          "color": "#636efa",
          "symbol": "circle"
         },
         "mode": "markers",
         "name": "",
         "orientation": "v",
         "showlegend": false,
         "type": "scatter",
         "x": [
          0,
          0,
          0,
          0,
          0,
          0,
          0,
          0,
          0,
          0,
          0,
          0,
          0,
          0,
          0,
          0,
          0,
          0,
          0,
          0,
          0,
          0,
          0,
          0,
          0,
          0,
          0,
          0,
          0,
          0,
          0,
          0,
          0,
          0,
          0,
          0,
          0,
          0,
          0,
          0,
          0,
          0,
          0,
          0,
          0,
          0,
          0,
          0,
          0,
          0,
          0,
          0,
          0,
          0,
          0,
          0,
          0,
          0,
          0,
          0,
          0,
          0,
          0,
          0,
          0,
          0,
          0,
          0,
          0,
          0,
          0,
          0,
          0,
          0,
          0,
          0,
          0,
          0,
          0,
          0,
          0,
          0,
          0,
          0,
          0,
          0,
          0,
          0,
          0,
          0,
          0,
          0,
          0,
          0,
          0,
          0,
          0,
          0,
          0,
          0,
          0,
          0,
          0,
          0,
          0,
          0,
          0,
          0,
          0,
          0,
          0,
          0,
          0,
          0,
          0,
          0,
          0,
          0,
          0,
          0,
          0,
          0,
          0,
          0,
          0,
          0,
          0,
          0,
          0,
          0,
          0,
          0,
          0,
          0,
          0,
          0,
          0,
          0,
          0,
          0,
          0,
          0,
          0,
          0,
          0,
          0,
          0,
          0,
          0,
          0,
          0,
          0,
          0,
          0,
          0,
          0,
          0,
          0,
          0,
          0,
          0,
          0,
          0,
          0,
          0,
          0,
          0,
          0,
          0,
          0,
          0,
          0,
          0,
          0,
          0,
          0,
          0,
          0,
          0,
          0,
          0,
          0,
          0,
          0,
          0,
          0,
          0,
          0,
          0,
          0,
          0,
          0,
          0,
          0,
          0,
          0,
          0,
          0,
          0,
          0,
          0,
          0,
          0,
          0,
          0,
          0,
          0,
          0,
          0,
          0,
          0,
          0,
          0,
          0,
          0,
          0,
          0,
          0,
          0,
          0,
          0,
          0,
          0,
          0,
          0,
          0,
          0,
          0,
          0,
          0,
          0,
          0,
          0,
          0,
          0,
          0,
          0,
          0,
          0,
          0,
          0,
          0,
          0,
          0,
          0,
          0,
          0,
          0,
          0,
          0,
          0,
          0,
          0,
          0,
          0,
          0,
          0,
          0,
          0,
          0,
          0,
          0,
          0,
          0,
          0,
          0,
          0,
          0,
          0,
          0,
          0,
          0,
          0,
          0,
          0,
          0,
          0,
          0,
          0,
          0,
          0,
          0,
          0,
          0,
          0,
          0,
          0,
          0,
          0,
          0,
          0,
          0,
          0,
          0,
          0,
          0,
          0,
          0,
          0,
          0,
          0,
          0,
          0,
          0,
          0,
          0,
          0,
          0,
          0,
          0,
          0,
          0,
          1,
          1,
          1,
          1,
          1,
          1,
          1,
          1,
          1,
          1,
          1,
          1,
          1,
          1,
          1,
          1,
          1,
          1,
          1,
          1,
          1,
          1,
          1,
          1,
          1,
          2,
          2,
          2,
          2,
          2,
          2,
          2,
          2,
          2,
          2,
          2,
          2,
          2,
          2
         ],
         "xaxis": "x",
         "y": [
          0.962307692817545,
          0.09448075203663209,
          0.05551925461108864,
          0.23065915642799895,
          0.9053898867063472,
          0.03176681276082893,
          0.9449898875221154,
          0.12374677840043014,
          0.7495204222496477,
          0.016922011199603015,
          0.9690724418237636,
          0.00855803839441982,
          0.016814273751193487,
          0.4069178047587757,
          0.09448075203663209,
          0.8794724402629374,
          0.032102927099769696,
          0.009239737234710943,
          0.09448075203663209,
          0.13182379642704356,
          0.9590487320038352,
          0.9242307701477445,
          0.9629275645309254,
          0.0021730743205325975,
          0.8190479455940808,
          0.09448075203663209,
          0.3412896013987853,
          0.255204584705898,
          0.05551925461108864,
          0.6887653830276659,
          0.7219105807218622,
          0.8548024614509883,
          0.004159166464240305,
          0.09448075294348518,
          0.8611800840236883,
          0.0021730743205325975,
          0.006532821617103224,
          0.05551925461108864,
          0.9053898867063472,
          0.9565351877542396,
          0.08998227168189843,
          0.9242307701477445,
          0.8843736913085017,
          0.9629275647891677,
          0.9449898875221154,
          0.03507172549378301,
          0.962307692817545,
          0.028246499436644812,
          0.40087079660937075,
          0.9565351877542396,
          0.31733139917313646,
          0.8809166847151457,
          0.962307692817545,
          0.05551925461108864,
          0.05551925461108864,
          0.0021730743205325975,
          0.032102927099769696,
          0.6727529923159558,
          0.05551925461108864,
          0.9053898867063472,
          0.028246499436644812,
          0.05952200609844871,
          0.028246499436644812,
          0.962307693020387,
          0.13107362248495247,
          0.16449358082763976,
          0.16449358082763976,
          0.9053898867063472,
          0.8166549428328116,
          0.8322153504839185,
          0.08998228719773282,
          0.9094724413139752,
          0.9449898875221154,
          0.23065915642799895,
          0.06756469482666971,
          0.1855807748142041,
          0.23065915080281063,
          0.9621142805085342,
          0.962307692817545,
          0.8161800853699432,
          0.9053898867063472,
          0.1855807748142041,
          0.962307692817545,
          0.4069178047587757,
          0.962307692817545,
          0.8190479455940808,
          0.02765923482898558,
          0.962307692817545,
          0.8675504831099327,
          0.9053898867063472,
          0.8001492573917551,
          0.08998228719773282,
          0.962307692817545,
          0.9617114146020139,
          0.8563746539255371,
          0.7930092585623838,
          0.23065915595302433,
          0.23065915080281063,
          0.27045425401249523,
          0.0005877940989426067,
          0.9053898867063472,
          0.962307692817545,
          0.17259604154230157,
          0.06143209352528611,
          0.06143207364676406,
          0.9690724418237636,
          0.01332552561815048,
          0.8933228356898907,
          0.23065915080281063,
          0.4069178047587757,
          0.05551925461108864,
          0.09448075203663209,
          0.06143209352528611,
          0.7645092594829579,
          0.12176036244152977,
          0.962307692817545,
          0.7219105807218622,
          0.05696104376793054,
          0.9244724389166824,
          0.6356119651417822,
          0.9591521532035344,
          0.260659147778184,
          0.7645092594829579,
          0.23065915642799895,
          0.3079835793189387,
          0.7563343014527185,
          0.0021730743205325975,
          0.6356119651417822,
          0.2606591735754471,
          0.05696105144896868,
          0.9621142805085342,
          0.9126365942425821,
          0.962307692817545,
          0.7219105807218622,
          0.016814273751193487,
          0.02765923482898558,
          0.05337852219500877,
          0.056961045581636616,
          0.13182379642704356,
          0.9437839370907851,
          0.260659147778184,
          0.962307692817545,
          0.8772153491376635,
          0.9690724418237636,
          0.8161800853699432,
          0.0021730743205325975,
          0.9244724389166824,
          0.9244724389166824,
          0.47461142895364783,
          0.9242307701477445,
          0.962307692817545,
          0.09448075203663209,
          0.9690724420820059,
          0.49047488545220114,
          0.962307692817545,
          0.8611800840236883,
          0.9244724389166824,
          0.962307692817545,
          0.8322153504839185,
          0.06143209352528611,
          0.26065916610661244,
          0.10920333078745059,
          0.8809166847151457,
          0.16449358082763976,
          0.0067121285747311354,
          0.286282086265902,
          0.2552045899418769,
          0.962307692817545,
          0.962307692817545,
          0.40087079660937075,
          0.962307692817545,
          0.3412896013987853,
          0.7285228823345369,
          0.0021730743205325975,
          0.8001492573917551,
          0.8746604844645278,
          0.05551925461108864,
          0.23065915642799895,
          0.9227635795265324,
          0.0021730743205325975,
          0.4069178047587757,
          0.8161800853699432,
          0.06756467899418606,
          0.10920333078745059,
          0.8605636151451094,
          0.962307693020387,
          0.0021730743205325975,
          0.0650613167988795,
          0.8461800864209811,
          0.23065914759906103,
          0.0021730743205325975,
          0.9294724410079954,
          0.8190479455940808,
          0.9242307701477445,
          0.767846488520503,
          0.16449358082763976,
          0.8611800840236883,
          0.06143209352528611,
          0.056961045581636616,
          0.05696105144896868,
          0.016814273751193376,
          0.9399631942867276,
          0.03138893264573939,
          0.44157513185780517,
          0.7152703820030295,
          0.2606591735754471,
          0.028246499436644812,
          0.9053898867063472,
          0.05551925461108864,
          0.9083228332925979,
          0.9690724418237636,
          0.23065915595302455,
          0.16449358082763976,
          0.08998228719773282,
          0.02765923482898558,
          0.03507172549378301,
          0.9544822584522649,
          0.8298372593921477,
          0.8161800853699432,
          0.16449358082763976,
          0.962307692817545,
          0.9227635795265324,
          0.962307692817545,
          0.04164340491585916,
          0.1855807748142041,
          0.06756469482666971,
          0.08998228719773282,
          0.260659147778184,
          0.08998227168189843,
          0.9083228349028815,
          0.25126689239939504,
          0.8461800864209811,
          0.16449358082763976,
          0.8166549428328116,
          0.8633228346388528,
          0.16449358082763976,
          0.8001492573917551,
          0.05696105144896868,
          0.9244724389166824,
          0.06756469482666971,
          0.4069178047587757,
          0.016814273751193376,
          0.0021730743205325975,
          0.962307693020387,
          0.962307692817545,
          0.05551925461108864,
          0.02765923482898558,
          0.004159166464240305,
          0.962307692817545,
          0.9449898877803578,
          0.8190479455940808,
          0.962307692817545,
          0.8594712242297433,
          0.0021730743205325975,
          0.7563343014527185,
          0.0005877940989426067,
          0.09448075203663209,
          0.0021730822367745373,
          0.962307692817545,
          0.8371640108483189,
          0.09448075203663209,
          0.05551925461108864,
          0.134834348147294,
          0.9619827420692981,
          0.8772153491376635,
          0.9591521532035344,
          0.962307692817545,
          0.05696104376793054,
          0.05551925461108864,
          0.9061444596445791,
          0.8933228356898907,
          0.04164340491585916,
          0.8461800864209811,
          0.02765923482898558,
          0.26065916610661244,
          0.8161800853699432,
          0.3412896013987853,
          0.032102927099769696,
          0.8298372593921477,
          0.0021730743205325975,
          0.9449898877803578,
          0.0021730743205325975,
          0.09448075203663209,
          0.09448075203663209,
          0.962307692817545,
          0.9053898867063472,
          0.9617114146020139,
          0.16449358082763976,
          0.9565351877542396,
          0.962307692817545,
          0.9244724389166824,
          0.8298372593921477,
          0.962307693020387,
          0.962307692817545,
          0.8072592587463503,
          0.7219105807218622,
          0.9242307701477445,
          0.4069178047587757,
          0.9591521532035344,
          0.9242307701477445,
          0.0021730743205325975,
          0.04164340491585916,
          0.05551925461108864,
          0.8161800853699432,
          0.9449898875221154,
          0.8161800853699432,
          0.962307692817545,
          0.5918356782845975,
          0.06756467899418606,
          0.962307692817545,
          0.962307692817545,
          0.9399631942867276,
          0.023089514947876255,
          0.10638463445810176,
          0.10638463445810176,
          0.00855803839441982,
          0.09049074066605378,
          0.09049074977438853,
          0.09049073213156666,
          0.06756470134592785,
          0.09049074066605378,
          0.09049072949018289,
          0.09049073213156666,
          0.027659225720650826,
          0.023089514947876255,
          0.09049074066605378,
          0.09049072949018289,
          0.10638463445810176,
          0.028246499436644812,
          0.09049074977438853,
          0.09049074977438853,
          0.10638463445810176,
          0.10638463445810176,
          0.09448075203663209,
          0.09448075203663209,
          0.09448075203663209,
          0.09448075203663209,
          0.10638464338427012,
          0.10638462806922877,
          0.10638464338427012,
          0.06143208459911775,
          0.10638461255339438,
          0.04164340491585916,
          0.04164340491585916,
          0.08998229358660581,
          0.10638462609430432,
          0.10638464338427012,
          0.10638464338427012,
          0.10638462609430432,
          0.10638463445810165,
          0.10638461255339438
         ],
         "yaxis": "y"
        }
       ],
       "layout": {
        "legend": {
         "tracegroupgap": 0
        },
        "margin": {
         "t": 60
        },
        "template": {
         "data": {
          "bar": [
           {
            "error_x": {
             "color": "#2a3f5f"
            },
            "error_y": {
             "color": "#2a3f5f"
            },
            "marker": {
             "line": {
              "color": "#E5ECF6",
              "width": 0.5
             },
             "pattern": {
              "fillmode": "overlay",
              "size": 10,
              "solidity": 0.2
             }
            },
            "type": "bar"
           }
          ],
          "barpolar": [
           {
            "marker": {
             "line": {
              "color": "#E5ECF6",
              "width": 0.5
             },
             "pattern": {
              "fillmode": "overlay",
              "size": 10,
              "solidity": 0.2
             }
            },
            "type": "barpolar"
           }
          ],
          "carpet": [
           {
            "aaxis": {
             "endlinecolor": "#2a3f5f",
             "gridcolor": "white",
             "linecolor": "white",
             "minorgridcolor": "white",
             "startlinecolor": "#2a3f5f"
            },
            "baxis": {
             "endlinecolor": "#2a3f5f",
             "gridcolor": "white",
             "linecolor": "white",
             "minorgridcolor": "white",
             "startlinecolor": "#2a3f5f"
            },
            "type": "carpet"
           }
          ],
          "choropleth": [
           {
            "colorbar": {
             "outlinewidth": 0,
             "ticks": ""
            },
            "type": "choropleth"
           }
          ],
          "contour": [
           {
            "colorbar": {
             "outlinewidth": 0,
             "ticks": ""
            },
            "colorscale": [
             [
              0,
              "#0d0887"
             ],
             [
              0.1111111111111111,
              "#46039f"
             ],
             [
              0.2222222222222222,
              "#7201a8"
             ],
             [
              0.3333333333333333,
              "#9c179e"
             ],
             [
              0.4444444444444444,
              "#bd3786"
             ],
             [
              0.5555555555555556,
              "#d8576b"
             ],
             [
              0.6666666666666666,
              "#ed7953"
             ],
             [
              0.7777777777777778,
              "#fb9f3a"
             ],
             [
              0.8888888888888888,
              "#fdca26"
             ],
             [
              1,
              "#f0f921"
             ]
            ],
            "type": "contour"
           }
          ],
          "contourcarpet": [
           {
            "colorbar": {
             "outlinewidth": 0,
             "ticks": ""
            },
            "type": "contourcarpet"
           }
          ],
          "heatmap": [
           {
            "colorbar": {
             "outlinewidth": 0,
             "ticks": ""
            },
            "colorscale": [
             [
              0,
              "#0d0887"
             ],
             [
              0.1111111111111111,
              "#46039f"
             ],
             [
              0.2222222222222222,
              "#7201a8"
             ],
             [
              0.3333333333333333,
              "#9c179e"
             ],
             [
              0.4444444444444444,
              "#bd3786"
             ],
             [
              0.5555555555555556,
              "#d8576b"
             ],
             [
              0.6666666666666666,
              "#ed7953"
             ],
             [
              0.7777777777777778,
              "#fb9f3a"
             ],
             [
              0.8888888888888888,
              "#fdca26"
             ],
             [
              1,
              "#f0f921"
             ]
            ],
            "type": "heatmap"
           }
          ],
          "heatmapgl": [
           {
            "colorbar": {
             "outlinewidth": 0,
             "ticks": ""
            },
            "colorscale": [
             [
              0,
              "#0d0887"
             ],
             [
              0.1111111111111111,
              "#46039f"
             ],
             [
              0.2222222222222222,
              "#7201a8"
             ],
             [
              0.3333333333333333,
              "#9c179e"
             ],
             [
              0.4444444444444444,
              "#bd3786"
             ],
             [
              0.5555555555555556,
              "#d8576b"
             ],
             [
              0.6666666666666666,
              "#ed7953"
             ],
             [
              0.7777777777777778,
              "#fb9f3a"
             ],
             [
              0.8888888888888888,
              "#fdca26"
             ],
             [
              1,
              "#f0f921"
             ]
            ],
            "type": "heatmapgl"
           }
          ],
          "histogram": [
           {
            "marker": {
             "pattern": {
              "fillmode": "overlay",
              "size": 10,
              "solidity": 0.2
             }
            },
            "type": "histogram"
           }
          ],
          "histogram2d": [
           {
            "colorbar": {
             "outlinewidth": 0,
             "ticks": ""
            },
            "colorscale": [
             [
              0,
              "#0d0887"
             ],
             [
              0.1111111111111111,
              "#46039f"
             ],
             [
              0.2222222222222222,
              "#7201a8"
             ],
             [
              0.3333333333333333,
              "#9c179e"
             ],
             [
              0.4444444444444444,
              "#bd3786"
             ],
             [
              0.5555555555555556,
              "#d8576b"
             ],
             [
              0.6666666666666666,
              "#ed7953"
             ],
             [
              0.7777777777777778,
              "#fb9f3a"
             ],
             [
              0.8888888888888888,
              "#fdca26"
             ],
             [
              1,
              "#f0f921"
             ]
            ],
            "type": "histogram2d"
           }
          ],
          "histogram2dcontour": [
           {
            "colorbar": {
             "outlinewidth": 0,
             "ticks": ""
            },
            "colorscale": [
             [
              0,
              "#0d0887"
             ],
             [
              0.1111111111111111,
              "#46039f"
             ],
             [
              0.2222222222222222,
              "#7201a8"
             ],
             [
              0.3333333333333333,
              "#9c179e"
             ],
             [
              0.4444444444444444,
              "#bd3786"
             ],
             [
              0.5555555555555556,
              "#d8576b"
             ],
             [
              0.6666666666666666,
              "#ed7953"
             ],
             [
              0.7777777777777778,
              "#fb9f3a"
             ],
             [
              0.8888888888888888,
              "#fdca26"
             ],
             [
              1,
              "#f0f921"
             ]
            ],
            "type": "histogram2dcontour"
           }
          ],
          "mesh3d": [
           {
            "colorbar": {
             "outlinewidth": 0,
             "ticks": ""
            },
            "type": "mesh3d"
           }
          ],
          "parcoords": [
           {
            "line": {
             "colorbar": {
              "outlinewidth": 0,
              "ticks": ""
             }
            },
            "type": "parcoords"
           }
          ],
          "pie": [
           {
            "automargin": true,
            "type": "pie"
           }
          ],
          "scatter": [
           {
            "marker": {
             "colorbar": {
              "outlinewidth": 0,
              "ticks": ""
             }
            },
            "type": "scatter"
           }
          ],
          "scatter3d": [
           {
            "line": {
             "colorbar": {
              "outlinewidth": 0,
              "ticks": ""
             }
            },
            "marker": {
             "colorbar": {
              "outlinewidth": 0,
              "ticks": ""
             }
            },
            "type": "scatter3d"
           }
          ],
          "scattercarpet": [
           {
            "marker": {
             "colorbar": {
              "outlinewidth": 0,
              "ticks": ""
             }
            },
            "type": "scattercarpet"
           }
          ],
          "scattergeo": [
           {
            "marker": {
             "colorbar": {
              "outlinewidth": 0,
              "ticks": ""
             }
            },
            "type": "scattergeo"
           }
          ],
          "scattergl": [
           {
            "marker": {
             "colorbar": {
              "outlinewidth": 0,
              "ticks": ""
             }
            },
            "type": "scattergl"
           }
          ],
          "scattermapbox": [
           {
            "marker": {
             "colorbar": {
              "outlinewidth": 0,
              "ticks": ""
             }
            },
            "type": "scattermapbox"
           }
          ],
          "scatterpolar": [
           {
            "marker": {
             "colorbar": {
              "outlinewidth": 0,
              "ticks": ""
             }
            },
            "type": "scatterpolar"
           }
          ],
          "scatterpolargl": [
           {
            "marker": {
             "colorbar": {
              "outlinewidth": 0,
              "ticks": ""
             }
            },
            "type": "scatterpolargl"
           }
          ],
          "scatterternary": [
           {
            "marker": {
             "colorbar": {
              "outlinewidth": 0,
              "ticks": ""
             }
            },
            "type": "scatterternary"
           }
          ],
          "surface": [
           {
            "colorbar": {
             "outlinewidth": 0,
             "ticks": ""
            },
            "colorscale": [
             [
              0,
              "#0d0887"
             ],
             [
              0.1111111111111111,
              "#46039f"
             ],
             [
              0.2222222222222222,
              "#7201a8"
             ],
             [
              0.3333333333333333,
              "#9c179e"
             ],
             [
              0.4444444444444444,
              "#bd3786"
             ],
             [
              0.5555555555555556,
              "#d8576b"
             ],
             [
              0.6666666666666666,
              "#ed7953"
             ],
             [
              0.7777777777777778,
              "#fb9f3a"
             ],
             [
              0.8888888888888888,
              "#fdca26"
             ],
             [
              1,
              "#f0f921"
             ]
            ],
            "type": "surface"
           }
          ],
          "table": [
           {
            "cells": {
             "fill": {
              "color": "#EBF0F8"
             },
             "line": {
              "color": "white"
             }
            },
            "header": {
             "fill": {
              "color": "#C8D4E3"
             },
             "line": {
              "color": "white"
             }
            },
            "type": "table"
           }
          ]
         },
         "layout": {
          "annotationdefaults": {
           "arrowcolor": "#2a3f5f",
           "arrowhead": 0,
           "arrowwidth": 1
          },
          "autotypenumbers": "strict",
          "coloraxis": {
           "colorbar": {
            "outlinewidth": 0,
            "ticks": ""
           }
          },
          "colorscale": {
           "diverging": [
            [
             0,
             "#8e0152"
            ],
            [
             0.1,
             "#c51b7d"
            ],
            [
             0.2,
             "#de77ae"
            ],
            [
             0.3,
             "#f1b6da"
            ],
            [
             0.4,
             "#fde0ef"
            ],
            [
             0.5,
             "#f7f7f7"
            ],
            [
             0.6,
             "#e6f5d0"
            ],
            [
             0.7,
             "#b8e186"
            ],
            [
             0.8,
             "#7fbc41"
            ],
            [
             0.9,
             "#4d9221"
            ],
            [
             1,
             "#276419"
            ]
           ],
           "sequential": [
            [
             0,
             "#0d0887"
            ],
            [
             0.1111111111111111,
             "#46039f"
            ],
            [
             0.2222222222222222,
             "#7201a8"
            ],
            [
             0.3333333333333333,
             "#9c179e"
            ],
            [
             0.4444444444444444,
             "#bd3786"
            ],
            [
             0.5555555555555556,
             "#d8576b"
            ],
            [
             0.6666666666666666,
             "#ed7953"
            ],
            [
             0.7777777777777778,
             "#fb9f3a"
            ],
            [
             0.8888888888888888,
             "#fdca26"
            ],
            [
             1,
             "#f0f921"
            ]
           ],
           "sequentialminus": [
            [
             0,
             "#0d0887"
            ],
            [
             0.1111111111111111,
             "#46039f"
            ],
            [
             0.2222222222222222,
             "#7201a8"
            ],
            [
             0.3333333333333333,
             "#9c179e"
            ],
            [
             0.4444444444444444,
             "#bd3786"
            ],
            [
             0.5555555555555556,
             "#d8576b"
            ],
            [
             0.6666666666666666,
             "#ed7953"
            ],
            [
             0.7777777777777778,
             "#fb9f3a"
            ],
            [
             0.8888888888888888,
             "#fdca26"
            ],
            [
             1,
             "#f0f921"
            ]
           ]
          },
          "colorway": [
           "#636efa",
           "#EF553B",
           "#00cc96",
           "#ab63fa",
           "#FFA15A",
           "#19d3f3",
           "#FF6692",
           "#B6E880",
           "#FF97FF",
           "#FECB52"
          ],
          "font": {
           "color": "#2a3f5f"
          },
          "geo": {
           "bgcolor": "white",
           "lakecolor": "white",
           "landcolor": "#E5ECF6",
           "showlakes": true,
           "showland": true,
           "subunitcolor": "white"
          },
          "hoverlabel": {
           "align": "left"
          },
          "hovermode": "closest",
          "mapbox": {
           "style": "light"
          },
          "paper_bgcolor": "white",
          "plot_bgcolor": "#E5ECF6",
          "polar": {
           "angularaxis": {
            "gridcolor": "white",
            "linecolor": "white",
            "ticks": ""
           },
           "bgcolor": "#E5ECF6",
           "radialaxis": {
            "gridcolor": "white",
            "linecolor": "white",
            "ticks": ""
           }
          },
          "scene": {
           "xaxis": {
            "backgroundcolor": "#E5ECF6",
            "gridcolor": "white",
            "gridwidth": 2,
            "linecolor": "white",
            "showbackground": true,
            "ticks": "",
            "zerolinecolor": "white"
           },
           "yaxis": {
            "backgroundcolor": "#E5ECF6",
            "gridcolor": "white",
            "gridwidth": 2,
            "linecolor": "white",
            "showbackground": true,
            "ticks": "",
            "zerolinecolor": "white"
           },
           "zaxis": {
            "backgroundcolor": "#E5ECF6",
            "gridcolor": "white",
            "gridwidth": 2,
            "linecolor": "white",
            "showbackground": true,
            "ticks": "",
            "zerolinecolor": "white"
           }
          },
          "shapedefaults": {
           "line": {
            "color": "#2a3f5f"
           }
          },
          "ternary": {
           "aaxis": {
            "gridcolor": "white",
            "linecolor": "white",
            "ticks": ""
           },
           "baxis": {
            "gridcolor": "white",
            "linecolor": "white",
            "ticks": ""
           },
           "bgcolor": "#E5ECF6",
           "caxis": {
            "gridcolor": "white",
            "linecolor": "white",
            "ticks": ""
           }
          },
          "title": {
           "x": 0.05
          },
          "xaxis": {
           "automargin": true,
           "gridcolor": "white",
           "linecolor": "white",
           "ticks": "",
           "title": {
            "standoff": 15
           },
           "zerolinecolor": "white",
           "zerolinewidth": 2
          },
          "yaxis": {
           "automargin": true,
           "gridcolor": "white",
           "linecolor": "white",
           "ticks": "",
           "title": {
            "standoff": 15
           },
           "zerolinecolor": "white",
           "zerolinewidth": 2
          }
         }
        },
        "title": {
         "text": "Edge Lengths vs Absolute difference for asia_notears"
        },
        "xaxis": {
         "anchor": "y",
         "domain": [
          0,
          1
         ],
         "title": {
          "text": "Edge Lengths"
         }
        },
        "yaxis": {
         "anchor": "x",
         "domain": [
          0,
          1
         ],
         "range": [
          0,
          1
         ],
         "title": {
          "text": "Absolute Difference"
         }
        }
       }
      },
      "text/html": [
       "<div>                            <div id=\"26317c3a-ea12-4481-bdee-15464d8920f5\" class=\"plotly-graph-div\" style=\"height:525px; width:100%;\"></div>            <script type=\"text/javascript\">                require([\"plotly\"], function(Plotly) {                    window.PLOTLYENV=window.PLOTLYENV || {};                                    if (document.getElementById(\"26317c3a-ea12-4481-bdee-15464d8920f5\")) {                    Plotly.newPlot(                        \"26317c3a-ea12-4481-bdee-15464d8920f5\",                        [{\"hovertemplate\":\"Edge Lengths=%{x}<br>Model_3=%{y}<extra></extra>\",\"legendgroup\":\"\",\"marker\":{\"color\":\"#636efa\",\"symbol\":\"circle\"},\"mode\":\"markers\",\"name\":\"\",\"orientation\":\"v\",\"showlegend\":false,\"x\":[0.0,0.0,0.0,0.0,0.0,0.0,0.0,0.0,0.0,0.0,0.0,0.0,0.0,0.0,0.0,0.0,0.0,0.0,0.0,0.0,0.0,0.0,0.0,0.0,0.0,0.0,0.0,0.0,0.0,0.0,0.0,0.0,0.0,0.0,0.0,0.0,0.0,0.0,0.0,0.0,0.0,0.0,0.0,0.0,0.0,0.0,0.0,0.0,0.0,0.0,0.0,0.0,0.0,0.0,0.0,0.0,0.0,0.0,0.0,0.0,0.0,0.0,0.0,0.0,0.0,0.0,0.0,0.0,0.0,0.0,0.0,0.0,0.0,0.0,0.0,0.0,0.0,0.0,0.0,0.0,0.0,0.0,0.0,0.0,0.0,0.0,0.0,0.0,0.0,0.0,0.0,0.0,0.0,0.0,0.0,0.0,0.0,0.0,0.0,0.0,0.0,0.0,0.0,0.0,0.0,0.0,0.0,0.0,0.0,0.0,0.0,0.0,0.0,0.0,0.0,0.0,0.0,0.0,0.0,0.0,0.0,0.0,0.0,0.0,0.0,0.0,0.0,0.0,0.0,0.0,0.0,0.0,0.0,0.0,0.0,0.0,0.0,0.0,0.0,0.0,0.0,0.0,0.0,0.0,0.0,0.0,0.0,0.0,0.0,0.0,0.0,0.0,0.0,0.0,0.0,0.0,0.0,0.0,0.0,0.0,0.0,0.0,0.0,0.0,0.0,0.0,0.0,0.0,0.0,0.0,0.0,0.0,0.0,0.0,0.0,0.0,0.0,0.0,0.0,0.0,0.0,0.0,0.0,0.0,0.0,0.0,0.0,0.0,0.0,0.0,0.0,0.0,0.0,0.0,0.0,0.0,0.0,0.0,0.0,0.0,0.0,0.0,0.0,0.0,0.0,0.0,0.0,0.0,0.0,0.0,0.0,0.0,0.0,0.0,0.0,0.0,0.0,0.0,0.0,0.0,0.0,0.0,0.0,0.0,0.0,0.0,0.0,0.0,0.0,0.0,0.0,0.0,0.0,0.0,0.0,0.0,0.0,0.0,0.0,0.0,0.0,0.0,0.0,0.0,0.0,0.0,0.0,0.0,0.0,0.0,0.0,0.0,0.0,0.0,0.0,0.0,0.0,0.0,0.0,0.0,0.0,0.0,0.0,0.0,0.0,0.0,0.0,0.0,0.0,0.0,0.0,0.0,0.0,0.0,0.0,0.0,0.0,0.0,0.0,0.0,0.0,0.0,0.0,0.0,0.0,0.0,0.0,0.0,0.0,0.0,0.0,0.0,0.0,0.0,0.0,0.0,0.0,0.0,0.0,0.0,0.0,0.0,0.0,0.0,0.0,0.0,0.0,0.0,0.0,0.0,0.0,0.0,1.0,1.0,1.0,1.0,1.0,1.0,1.0,1.0,1.0,1.0,1.0,1.0,1.0,1.0,1.0,1.0,1.0,1.0,1.0,1.0,1.0,1.0,1.0,1.0,1.0,2.0,2.0,2.0,2.0,2.0,2.0,2.0,2.0,2.0,2.0,2.0,2.0,2.0,2.0],\"xaxis\":\"x\",\"y\":[0.962307692817545,0.09448075203663209,0.05551925461108864,0.23065915642799895,0.9053898867063472,0.03176681276082893,0.9449898875221154,0.12374677840043014,0.7495204222496477,0.016922011199603015,0.9690724418237636,0.00855803839441982,0.016814273751193487,0.4069178047587757,0.09448075203663209,0.8794724402629374,0.032102927099769696,0.009239737234710943,0.09448075203663209,0.13182379642704356,0.9590487320038352,0.9242307701477445,0.9629275645309254,0.0021730743205325975,0.8190479455940808,0.09448075203663209,0.3412896013987853,0.255204584705898,0.05551925461108864,0.6887653830276659,0.7219105807218622,0.8548024614509883,0.004159166464240305,0.09448075294348518,0.8611800840236883,0.0021730743205325975,0.006532821617103224,0.05551925461108864,0.9053898867063472,0.9565351877542396,0.08998227168189843,0.9242307701477445,0.8843736913085017,0.9629275647891677,0.9449898875221154,0.03507172549378301,0.962307692817545,0.028246499436644812,0.40087079660937075,0.9565351877542396,0.31733139917313646,0.8809166847151457,0.962307692817545,0.05551925461108864,0.05551925461108864,0.0021730743205325975,0.032102927099769696,0.6727529923159558,0.05551925461108864,0.9053898867063472,0.028246499436644812,0.05952200609844871,0.028246499436644812,0.962307693020387,0.13107362248495247,0.16449358082763976,0.16449358082763976,0.9053898867063472,0.8166549428328116,0.8322153504839185,0.08998228719773282,0.9094724413139752,0.9449898875221154,0.23065915642799895,0.06756469482666971,0.1855807748142041,0.23065915080281063,0.9621142805085342,0.962307692817545,0.8161800853699432,0.9053898867063472,0.1855807748142041,0.962307692817545,0.4069178047587757,0.962307692817545,0.8190479455940808,0.02765923482898558,0.962307692817545,0.8675504831099327,0.9053898867063472,0.8001492573917551,0.08998228719773282,0.962307692817545,0.9617114146020139,0.8563746539255371,0.7930092585623838,0.23065915595302433,0.23065915080281063,0.27045425401249523,0.0005877940989426067,0.9053898867063472,0.962307692817545,0.17259604154230157,0.06143209352528611,0.06143207364676406,0.9690724418237636,0.01332552561815048,0.8933228356898907,0.23065915080281063,0.4069178047587757,0.05551925461108864,0.09448075203663209,0.06143209352528611,0.7645092594829579,0.12176036244152977,0.962307692817545,0.7219105807218622,0.05696104376793054,0.9244724389166824,0.6356119651417822,0.9591521532035344,0.260659147778184,0.7645092594829579,0.23065915642799895,0.3079835793189387,0.7563343014527185,0.0021730743205325975,0.6356119651417822,0.2606591735754471,0.05696105144896868,0.9621142805085342,0.9126365942425821,0.962307692817545,0.7219105807218622,0.016814273751193487,0.02765923482898558,0.05337852219500877,0.056961045581636616,0.13182379642704356,0.9437839370907851,0.260659147778184,0.962307692817545,0.8772153491376635,0.9690724418237636,0.8161800853699432,0.0021730743205325975,0.9244724389166824,0.9244724389166824,0.47461142895364783,0.9242307701477445,0.962307692817545,0.09448075203663209,0.9690724420820059,0.49047488545220114,0.962307692817545,0.8611800840236883,0.9244724389166824,0.962307692817545,0.8322153504839185,0.06143209352528611,0.26065916610661244,0.10920333078745059,0.8809166847151457,0.16449358082763976,0.0067121285747311354,0.286282086265902,0.2552045899418769,0.962307692817545,0.962307692817545,0.40087079660937075,0.962307692817545,0.3412896013987853,0.7285228823345369,0.0021730743205325975,0.8001492573917551,0.8746604844645278,0.05551925461108864,0.23065915642799895,0.9227635795265324,0.0021730743205325975,0.4069178047587757,0.8161800853699432,0.06756467899418606,0.10920333078745059,0.8605636151451094,0.962307693020387,0.0021730743205325975,0.0650613167988795,0.8461800864209811,0.23065914759906103,0.0021730743205325975,0.9294724410079954,0.8190479455940808,0.9242307701477445,0.767846488520503,0.16449358082763976,0.8611800840236883,0.06143209352528611,0.056961045581636616,0.05696105144896868,0.016814273751193376,0.9399631942867276,0.03138893264573939,0.44157513185780517,0.7152703820030295,0.2606591735754471,0.028246499436644812,0.9053898867063472,0.05551925461108864,0.9083228332925979,0.9690724418237636,0.23065915595302455,0.16449358082763976,0.08998228719773282,0.02765923482898558,0.03507172549378301,0.9544822584522649,0.8298372593921477,0.8161800853699432,0.16449358082763976,0.962307692817545,0.9227635795265324,0.962307692817545,0.04164340491585916,0.1855807748142041,0.06756469482666971,0.08998228719773282,0.260659147778184,0.08998227168189843,0.9083228349028815,0.25126689239939504,0.8461800864209811,0.16449358082763976,0.8166549428328116,0.8633228346388528,0.16449358082763976,0.8001492573917551,0.05696105144896868,0.9244724389166824,0.06756469482666971,0.4069178047587757,0.016814273751193376,0.0021730743205325975,0.962307693020387,0.962307692817545,0.05551925461108864,0.02765923482898558,0.004159166464240305,0.962307692817545,0.9449898877803578,0.8190479455940808,0.962307692817545,0.8594712242297433,0.0021730743205325975,0.7563343014527185,0.0005877940989426067,0.09448075203663209,0.0021730822367745373,0.962307692817545,0.8371640108483189,0.09448075203663209,0.05551925461108864,0.134834348147294,0.9619827420692981,0.8772153491376635,0.9591521532035344,0.962307692817545,0.05696104376793054,0.05551925461108864,0.9061444596445791,0.8933228356898907,0.04164340491585916,0.8461800864209811,0.02765923482898558,0.26065916610661244,0.8161800853699432,0.3412896013987853,0.032102927099769696,0.8298372593921477,0.0021730743205325975,0.9449898877803578,0.0021730743205325975,0.09448075203663209,0.09448075203663209,0.962307692817545,0.9053898867063472,0.9617114146020139,0.16449358082763976,0.9565351877542396,0.962307692817545,0.9244724389166824,0.8298372593921477,0.962307693020387,0.962307692817545,0.8072592587463503,0.7219105807218622,0.9242307701477445,0.4069178047587757,0.9591521532035344,0.9242307701477445,0.0021730743205325975,0.04164340491585916,0.05551925461108864,0.8161800853699432,0.9449898875221154,0.8161800853699432,0.962307692817545,0.5918356782845975,0.06756467899418606,0.962307692817545,0.962307692817545,0.9399631942867276,0.023089514947876255,0.10638463445810176,0.10638463445810176,0.00855803839441982,0.09049074066605378,0.09049074977438853,0.09049073213156666,0.06756470134592785,0.09049074066605378,0.09049072949018289,0.09049073213156666,0.027659225720650826,0.023089514947876255,0.09049074066605378,0.09049072949018289,0.10638463445810176,0.028246499436644812,0.09049074977438853,0.09049074977438853,0.10638463445810176,0.10638463445810176,0.09448075203663209,0.09448075203663209,0.09448075203663209,0.09448075203663209,0.10638464338427012,0.10638462806922877,0.10638464338427012,0.06143208459911775,0.10638461255339438,0.04164340491585916,0.04164340491585916,0.08998229358660581,0.10638462609430432,0.10638464338427012,0.10638464338427012,0.10638462609430432,0.10638463445810165,0.10638461255339438],\"yaxis\":\"y\",\"type\":\"scatter\"}],                        {\"template\":{\"data\":{\"bar\":[{\"error_x\":{\"color\":\"#2a3f5f\"},\"error_y\":{\"color\":\"#2a3f5f\"},\"marker\":{\"line\":{\"color\":\"#E5ECF6\",\"width\":0.5},\"pattern\":{\"fillmode\":\"overlay\",\"size\":10,\"solidity\":0.2}},\"type\":\"bar\"}],\"barpolar\":[{\"marker\":{\"line\":{\"color\":\"#E5ECF6\",\"width\":0.5},\"pattern\":{\"fillmode\":\"overlay\",\"size\":10,\"solidity\":0.2}},\"type\":\"barpolar\"}],\"carpet\":[{\"aaxis\":{\"endlinecolor\":\"#2a3f5f\",\"gridcolor\":\"white\",\"linecolor\":\"white\",\"minorgridcolor\":\"white\",\"startlinecolor\":\"#2a3f5f\"},\"baxis\":{\"endlinecolor\":\"#2a3f5f\",\"gridcolor\":\"white\",\"linecolor\":\"white\",\"minorgridcolor\":\"white\",\"startlinecolor\":\"#2a3f5f\"},\"type\":\"carpet\"}],\"choropleth\":[{\"colorbar\":{\"outlinewidth\":0,\"ticks\":\"\"},\"type\":\"choropleth\"}],\"contour\":[{\"colorbar\":{\"outlinewidth\":0,\"ticks\":\"\"},\"colorscale\":[[0.0,\"#0d0887\"],[0.1111111111111111,\"#46039f\"],[0.2222222222222222,\"#7201a8\"],[0.3333333333333333,\"#9c179e\"],[0.4444444444444444,\"#bd3786\"],[0.5555555555555556,\"#d8576b\"],[0.6666666666666666,\"#ed7953\"],[0.7777777777777778,\"#fb9f3a\"],[0.8888888888888888,\"#fdca26\"],[1.0,\"#f0f921\"]],\"type\":\"contour\"}],\"contourcarpet\":[{\"colorbar\":{\"outlinewidth\":0,\"ticks\":\"\"},\"type\":\"contourcarpet\"}],\"heatmap\":[{\"colorbar\":{\"outlinewidth\":0,\"ticks\":\"\"},\"colorscale\":[[0.0,\"#0d0887\"],[0.1111111111111111,\"#46039f\"],[0.2222222222222222,\"#7201a8\"],[0.3333333333333333,\"#9c179e\"],[0.4444444444444444,\"#bd3786\"],[0.5555555555555556,\"#d8576b\"],[0.6666666666666666,\"#ed7953\"],[0.7777777777777778,\"#fb9f3a\"],[0.8888888888888888,\"#fdca26\"],[1.0,\"#f0f921\"]],\"type\":\"heatmap\"}],\"heatmapgl\":[{\"colorbar\":{\"outlinewidth\":0,\"ticks\":\"\"},\"colorscale\":[[0.0,\"#0d0887\"],[0.1111111111111111,\"#46039f\"],[0.2222222222222222,\"#7201a8\"],[0.3333333333333333,\"#9c179e\"],[0.4444444444444444,\"#bd3786\"],[0.5555555555555556,\"#d8576b\"],[0.6666666666666666,\"#ed7953\"],[0.7777777777777778,\"#fb9f3a\"],[0.8888888888888888,\"#fdca26\"],[1.0,\"#f0f921\"]],\"type\":\"heatmapgl\"}],\"histogram\":[{\"marker\":{\"pattern\":{\"fillmode\":\"overlay\",\"size\":10,\"solidity\":0.2}},\"type\":\"histogram\"}],\"histogram2d\":[{\"colorbar\":{\"outlinewidth\":0,\"ticks\":\"\"},\"colorscale\":[[0.0,\"#0d0887\"],[0.1111111111111111,\"#46039f\"],[0.2222222222222222,\"#7201a8\"],[0.3333333333333333,\"#9c179e\"],[0.4444444444444444,\"#bd3786\"],[0.5555555555555556,\"#d8576b\"],[0.6666666666666666,\"#ed7953\"],[0.7777777777777778,\"#fb9f3a\"],[0.8888888888888888,\"#fdca26\"],[1.0,\"#f0f921\"]],\"type\":\"histogram2d\"}],\"histogram2dcontour\":[{\"colorbar\":{\"outlinewidth\":0,\"ticks\":\"\"},\"colorscale\":[[0.0,\"#0d0887\"],[0.1111111111111111,\"#46039f\"],[0.2222222222222222,\"#7201a8\"],[0.3333333333333333,\"#9c179e\"],[0.4444444444444444,\"#bd3786\"],[0.5555555555555556,\"#d8576b\"],[0.6666666666666666,\"#ed7953\"],[0.7777777777777778,\"#fb9f3a\"],[0.8888888888888888,\"#fdca26\"],[1.0,\"#f0f921\"]],\"type\":\"histogram2dcontour\"}],\"mesh3d\":[{\"colorbar\":{\"outlinewidth\":0,\"ticks\":\"\"},\"type\":\"mesh3d\"}],\"parcoords\":[{\"line\":{\"colorbar\":{\"outlinewidth\":0,\"ticks\":\"\"}},\"type\":\"parcoords\"}],\"pie\":[{\"automargin\":true,\"type\":\"pie\"}],\"scatter\":[{\"marker\":{\"colorbar\":{\"outlinewidth\":0,\"ticks\":\"\"}},\"type\":\"scatter\"}],\"scatter3d\":[{\"line\":{\"colorbar\":{\"outlinewidth\":0,\"ticks\":\"\"}},\"marker\":{\"colorbar\":{\"outlinewidth\":0,\"ticks\":\"\"}},\"type\":\"scatter3d\"}],\"scattercarpet\":[{\"marker\":{\"colorbar\":{\"outlinewidth\":0,\"ticks\":\"\"}},\"type\":\"scattercarpet\"}],\"scattergeo\":[{\"marker\":{\"colorbar\":{\"outlinewidth\":0,\"ticks\":\"\"}},\"type\":\"scattergeo\"}],\"scattergl\":[{\"marker\":{\"colorbar\":{\"outlinewidth\":0,\"ticks\":\"\"}},\"type\":\"scattergl\"}],\"scattermapbox\":[{\"marker\":{\"colorbar\":{\"outlinewidth\":0,\"ticks\":\"\"}},\"type\":\"scattermapbox\"}],\"scatterpolar\":[{\"marker\":{\"colorbar\":{\"outlinewidth\":0,\"ticks\":\"\"}},\"type\":\"scatterpolar\"}],\"scatterpolargl\":[{\"marker\":{\"colorbar\":{\"outlinewidth\":0,\"ticks\":\"\"}},\"type\":\"scatterpolargl\"}],\"scatterternary\":[{\"marker\":{\"colorbar\":{\"outlinewidth\":0,\"ticks\":\"\"}},\"type\":\"scatterternary\"}],\"surface\":[{\"colorbar\":{\"outlinewidth\":0,\"ticks\":\"\"},\"colorscale\":[[0.0,\"#0d0887\"],[0.1111111111111111,\"#46039f\"],[0.2222222222222222,\"#7201a8\"],[0.3333333333333333,\"#9c179e\"],[0.4444444444444444,\"#bd3786\"],[0.5555555555555556,\"#d8576b\"],[0.6666666666666666,\"#ed7953\"],[0.7777777777777778,\"#fb9f3a\"],[0.8888888888888888,\"#fdca26\"],[1.0,\"#f0f921\"]],\"type\":\"surface\"}],\"table\":[{\"cells\":{\"fill\":{\"color\":\"#EBF0F8\"},\"line\":{\"color\":\"white\"}},\"header\":{\"fill\":{\"color\":\"#C8D4E3\"},\"line\":{\"color\":\"white\"}},\"type\":\"table\"}]},\"layout\":{\"annotationdefaults\":{\"arrowcolor\":\"#2a3f5f\",\"arrowhead\":0,\"arrowwidth\":1},\"autotypenumbers\":\"strict\",\"coloraxis\":{\"colorbar\":{\"outlinewidth\":0,\"ticks\":\"\"}},\"colorscale\":{\"diverging\":[[0,\"#8e0152\"],[0.1,\"#c51b7d\"],[0.2,\"#de77ae\"],[0.3,\"#f1b6da\"],[0.4,\"#fde0ef\"],[0.5,\"#f7f7f7\"],[0.6,\"#e6f5d0\"],[0.7,\"#b8e186\"],[0.8,\"#7fbc41\"],[0.9,\"#4d9221\"],[1,\"#276419\"]],\"sequential\":[[0.0,\"#0d0887\"],[0.1111111111111111,\"#46039f\"],[0.2222222222222222,\"#7201a8\"],[0.3333333333333333,\"#9c179e\"],[0.4444444444444444,\"#bd3786\"],[0.5555555555555556,\"#d8576b\"],[0.6666666666666666,\"#ed7953\"],[0.7777777777777778,\"#fb9f3a\"],[0.8888888888888888,\"#fdca26\"],[1.0,\"#f0f921\"]],\"sequentialminus\":[[0.0,\"#0d0887\"],[0.1111111111111111,\"#46039f\"],[0.2222222222222222,\"#7201a8\"],[0.3333333333333333,\"#9c179e\"],[0.4444444444444444,\"#bd3786\"],[0.5555555555555556,\"#d8576b\"],[0.6666666666666666,\"#ed7953\"],[0.7777777777777778,\"#fb9f3a\"],[0.8888888888888888,\"#fdca26\"],[1.0,\"#f0f921\"]]},\"colorway\":[\"#636efa\",\"#EF553B\",\"#00cc96\",\"#ab63fa\",\"#FFA15A\",\"#19d3f3\",\"#FF6692\",\"#B6E880\",\"#FF97FF\",\"#FECB52\"],\"font\":{\"color\":\"#2a3f5f\"},\"geo\":{\"bgcolor\":\"white\",\"lakecolor\":\"white\",\"landcolor\":\"#E5ECF6\",\"showlakes\":true,\"showland\":true,\"subunitcolor\":\"white\"},\"hoverlabel\":{\"align\":\"left\"},\"hovermode\":\"closest\",\"mapbox\":{\"style\":\"light\"},\"paper_bgcolor\":\"white\",\"plot_bgcolor\":\"#E5ECF6\",\"polar\":{\"angularaxis\":{\"gridcolor\":\"white\",\"linecolor\":\"white\",\"ticks\":\"\"},\"bgcolor\":\"#E5ECF6\",\"radialaxis\":{\"gridcolor\":\"white\",\"linecolor\":\"white\",\"ticks\":\"\"}},\"scene\":{\"xaxis\":{\"backgroundcolor\":\"#E5ECF6\",\"gridcolor\":\"white\",\"gridwidth\":2,\"linecolor\":\"white\",\"showbackground\":true,\"ticks\":\"\",\"zerolinecolor\":\"white\"},\"yaxis\":{\"backgroundcolor\":\"#E5ECF6\",\"gridcolor\":\"white\",\"gridwidth\":2,\"linecolor\":\"white\",\"showbackground\":true,\"ticks\":\"\",\"zerolinecolor\":\"white\"},\"zaxis\":{\"backgroundcolor\":\"#E5ECF6\",\"gridcolor\":\"white\",\"gridwidth\":2,\"linecolor\":\"white\",\"showbackground\":true,\"ticks\":\"\",\"zerolinecolor\":\"white\"}},\"shapedefaults\":{\"line\":{\"color\":\"#2a3f5f\"}},\"ternary\":{\"aaxis\":{\"gridcolor\":\"white\",\"linecolor\":\"white\",\"ticks\":\"\"},\"baxis\":{\"gridcolor\":\"white\",\"linecolor\":\"white\",\"ticks\":\"\"},\"bgcolor\":\"#E5ECF6\",\"caxis\":{\"gridcolor\":\"white\",\"linecolor\":\"white\",\"ticks\":\"\"}},\"title\":{\"x\":0.05},\"xaxis\":{\"automargin\":true,\"gridcolor\":\"white\",\"linecolor\":\"white\",\"ticks\":\"\",\"title\":{\"standoff\":15},\"zerolinecolor\":\"white\",\"zerolinewidth\":2},\"yaxis\":{\"automargin\":true,\"gridcolor\":\"white\",\"linecolor\":\"white\",\"ticks\":\"\",\"title\":{\"standoff\":15},\"zerolinecolor\":\"white\",\"zerolinewidth\":2}}},\"xaxis\":{\"anchor\":\"y\",\"domain\":[0.0,1.0],\"title\":{\"text\":\"Edge Lengths\"}},\"yaxis\":{\"anchor\":\"x\",\"domain\":[0.0,1.0],\"title\":{\"text\":\"Absolute Difference\"},\"range\":[0,1]},\"legend\":{\"tracegroupgap\":0},\"margin\":{\"t\":60},\"title\":{\"text\":\"Edge Lengths vs Absolute difference for asia_notears\"}},                        {\"responsive\": true}                    ).then(function(){\n",
       "                            \n",
       "var gd = document.getElementById('26317c3a-ea12-4481-bdee-15464d8920f5');\n",
       "var x = new MutationObserver(function (mutations, observer) {{\n",
       "        var display = window.getComputedStyle(gd).display;\n",
       "        if (!display || display === 'none') {{\n",
       "            console.log([gd, 'removed!']);\n",
       "            Plotly.purge(gd);\n",
       "            observer.disconnect();\n",
       "        }}\n",
       "}});\n",
       "\n",
       "// Listen for the removal of the full notebook cells\n",
       "var notebookContainer = gd.closest('#notebook-container');\n",
       "if (notebookContainer) {{\n",
       "    x.observe(notebookContainer, {childList: true});\n",
       "}}\n",
       "\n",
       "// Listen for the clearing of the current output cell\n",
       "var outputEl = gd.closest('.output');\n",
       "if (outputEl) {{\n",
       "    x.observe(outputEl, {childList: true});\n",
       "}}\n",
       "\n",
       "                        })                };                });            </script>        </div>"
      ]
     },
     "metadata": {},
     "output_type": "display_data"
    }
   ],
   "source": [
    "# model_to_int={'asia_nobears': 0, 'asia_ccdr': 1, 'asia_lingam': 2, 'asia_notears': 3}\n",
    "\n",
    "fig = px.scatter(df.sort_values(by=['Edge Lengths']), y=\"Model_3\", x= \"Edge Lengths\")\n",
    "fig.update_layout(yaxis_range=[0, 1])\n",
    "fig.update_layout(\n",
    "    \n",
    "    title_text=f'Edge Lengths vs Absolute difference for asia_notears', # title of plot\n",
    "    xaxis_title_text='Edge Lengths', # xaxis label\n",
    "    yaxis_title_text='Absolute Difference', # yaxis label\n",
    ")\n",
    "fig.show()"
   ]
  },
  {
   "cell_type": "code",
   "execution_count": 82,
   "id": "87477c17",
   "metadata": {},
   "outputs": [
    {
     "data": {
      "text/html": [
       "<div>\n",
       "<style scoped>\n",
       "    .dataframe tbody tr th:only-of-type {\n",
       "        vertical-align: middle;\n",
       "    }\n",
       "\n",
       "    .dataframe tbody tr th {\n",
       "        vertical-align: top;\n",
       "    }\n",
       "\n",
       "    .dataframe thead th {\n",
       "        text-align: right;\n",
       "    }\n",
       "</style>\n",
       "<table border=\"1\" class=\"dataframe\">\n",
       "  <thead>\n",
       "    <tr style=\"text-align: right;\">\n",
       "      <th></th>\n",
       "      <th>Query</th>\n",
       "      <th>Label</th>\n",
       "      <th>Edge Lengths</th>\n",
       "      <th>degree_centrality_target</th>\n",
       "      <th>degree_centrality_evs</th>\n",
       "      <th>betweeness_centrality_target</th>\n",
       "      <th>betweeness_centrality_evs</th>\n",
       "      <th>Model_0</th>\n",
       "      <th>Model_1</th>\n",
       "      <th>Model_2</th>\n",
       "      <th>Model_3</th>\n",
       "      <th>Model_name</th>\n",
       "    </tr>\n",
       "  </thead>\n",
       "  <tbody>\n",
       "    <tr>\n",
       "      <th>0</th>\n",
       "      <td>[8, 7]</td>\n",
       "      <td>1</td>\n",
       "      <td>0.0</td>\n",
       "      <td>0.0</td>\n",
       "      <td>0.0</td>\n",
       "      <td>0.000000</td>\n",
       "      <td>0.000000</td>\n",
       "      <td>0.157352</td>\n",
       "      <td>0.154727</td>\n",
       "      <td>0.154727</td>\n",
       "      <td>0.154727</td>\n",
       "      <td>sachs_lingam</td>\n",
       "    </tr>\n",
       "    <tr>\n",
       "      <th>1</th>\n",
       "      <td>[5, 1]</td>\n",
       "      <td>0</td>\n",
       "      <td>0.0</td>\n",
       "      <td>0.2</td>\n",
       "      <td>0.1</td>\n",
       "      <td>0.022222</td>\n",
       "      <td>0.000000</td>\n",
       "      <td>0.054261</td>\n",
       "      <td>0.061346</td>\n",
       "      <td>0.058878</td>\n",
       "      <td>0.063296</td>\n",
       "      <td>sachs_ccdr</td>\n",
       "    </tr>\n",
       "    <tr>\n",
       "      <th>2</th>\n",
       "      <td>[3, 2]</td>\n",
       "      <td>3</td>\n",
       "      <td>0.0</td>\n",
       "      <td>0.1</td>\n",
       "      <td>0.1</td>\n",
       "      <td>0.000000</td>\n",
       "      <td>0.000000</td>\n",
       "      <td>0.191832</td>\n",
       "      <td>0.191832</td>\n",
       "      <td>0.191832</td>\n",
       "      <td>0.181823</td>\n",
       "      <td>sachs_notears</td>\n",
       "    </tr>\n",
       "    <tr>\n",
       "      <th>3</th>\n",
       "      <td>[2, 3]</td>\n",
       "      <td>2</td>\n",
       "      <td>3.0</td>\n",
       "      <td>0.1</td>\n",
       "      <td>0.1</td>\n",
       "      <td>0.000000</td>\n",
       "      <td>0.000000</td>\n",
       "      <td>0.825471</td>\n",
       "      <td>0.795228</td>\n",
       "      <td>0.786885</td>\n",
       "      <td>0.795228</td>\n",
       "      <td>sachs_dagGNN</td>\n",
       "    </tr>\n",
       "    <tr>\n",
       "      <th>4</th>\n",
       "      <td>[7, 1]</td>\n",
       "      <td>0</td>\n",
       "      <td>0.0</td>\n",
       "      <td>0.0</td>\n",
       "      <td>0.1</td>\n",
       "      <td>0.000000</td>\n",
       "      <td>0.000000</td>\n",
       "      <td>0.127533</td>\n",
       "      <td>0.188299</td>\n",
       "      <td>0.186316</td>\n",
       "      <td>0.188299</td>\n",
       "      <td>sachs_ccdr</td>\n",
       "    </tr>\n",
       "    <tr>\n",
       "      <th>...</th>\n",
       "      <td>...</td>\n",
       "      <td>...</td>\n",
       "      <td>...</td>\n",
       "      <td>...</td>\n",
       "      <td>...</td>\n",
       "      <td>...</td>\n",
       "      <td>...</td>\n",
       "      <td>...</td>\n",
       "      <td>...</td>\n",
       "      <td>...</td>\n",
       "      <td>...</td>\n",
       "      <td>...</td>\n",
       "    </tr>\n",
       "    <tr>\n",
       "      <th>466</th>\n",
       "      <td>[0, 5]</td>\n",
       "      <td>0</td>\n",
       "      <td>1.0</td>\n",
       "      <td>0.3</td>\n",
       "      <td>0.2</td>\n",
       "      <td>0.033333</td>\n",
       "      <td>0.022222</td>\n",
       "      <td>0.656940</td>\n",
       "      <td>0.714096</td>\n",
       "      <td>0.714096</td>\n",
       "      <td>0.697409</td>\n",
       "      <td>sachs_ccdr</td>\n",
       "    </tr>\n",
       "    <tr>\n",
       "      <th>467</th>\n",
       "      <td>[8, 2]</td>\n",
       "      <td>1</td>\n",
       "      <td>0.0</td>\n",
       "      <td>0.0</td>\n",
       "      <td>0.1</td>\n",
       "      <td>0.000000</td>\n",
       "      <td>0.000000</td>\n",
       "      <td>0.196267</td>\n",
       "      <td>0.188467</td>\n",
       "      <td>0.188467</td>\n",
       "      <td>0.188467</td>\n",
       "      <td>sachs_lingam</td>\n",
       "    </tr>\n",
       "    <tr>\n",
       "      <th>468</th>\n",
       "      <td>[2, 8]</td>\n",
       "      <td>2</td>\n",
       "      <td>0.0</td>\n",
       "      <td>0.1</td>\n",
       "      <td>0.0</td>\n",
       "      <td>0.000000</td>\n",
       "      <td>0.000000</td>\n",
       "      <td>0.659699</td>\n",
       "      <td>0.830026</td>\n",
       "      <td>0.611767</td>\n",
       "      <td>0.645131</td>\n",
       "      <td>sachs_dagGNN</td>\n",
       "    </tr>\n",
       "    <tr>\n",
       "      <th>469</th>\n",
       "      <td>[3, 1]</td>\n",
       "      <td>3</td>\n",
       "      <td>0.0</td>\n",
       "      <td>0.1</td>\n",
       "      <td>0.1</td>\n",
       "      <td>0.000000</td>\n",
       "      <td>0.000000</td>\n",
       "      <td>0.191832</td>\n",
       "      <td>0.191832</td>\n",
       "      <td>0.191832</td>\n",
       "      <td>0.183108</td>\n",
       "      <td>sachs_notears</td>\n",
       "    </tr>\n",
       "    <tr>\n",
       "      <th>470</th>\n",
       "      <td>[0, 3]</td>\n",
       "      <td>3</td>\n",
       "      <td>2.0</td>\n",
       "      <td>0.3</td>\n",
       "      <td>0.1</td>\n",
       "      <td>0.033333</td>\n",
       "      <td>0.000000</td>\n",
       "      <td>0.638741</td>\n",
       "      <td>0.785815</td>\n",
       "      <td>0.626311</td>\n",
       "      <td>0.593358</td>\n",
       "      <td>sachs_notears</td>\n",
       "    </tr>\n",
       "  </tbody>\n",
       "</table>\n",
       "<p>471 rows × 12 columns</p>\n",
       "</div>"
      ],
      "text/plain": [
       "      Query  Label  Edge Lengths  degree_centrality_target  \\\n",
       "0    [8, 7]      1           0.0                       0.0   \n",
       "1    [5, 1]      0           0.0                       0.2   \n",
       "2    [3, 2]      3           0.0                       0.1   \n",
       "3    [2, 3]      2           3.0                       0.1   \n",
       "4    [7, 1]      0           0.0                       0.0   \n",
       "..      ...    ...           ...                       ...   \n",
       "466  [0, 5]      0           1.0                       0.3   \n",
       "467  [8, 2]      1           0.0                       0.0   \n",
       "468  [2, 8]      2           0.0                       0.1   \n",
       "469  [3, 1]      3           0.0                       0.1   \n",
       "470  [0, 3]      3           2.0                       0.3   \n",
       "\n",
       "     degree_centrality_evs  betweeness_centrality_target  \\\n",
       "0                      0.0                      0.000000   \n",
       "1                      0.1                      0.022222   \n",
       "2                      0.1                      0.000000   \n",
       "3                      0.1                      0.000000   \n",
       "4                      0.1                      0.000000   \n",
       "..                     ...                           ...   \n",
       "466                    0.2                      0.033333   \n",
       "467                    0.1                      0.000000   \n",
       "468                    0.0                      0.000000   \n",
       "469                    0.1                      0.000000   \n",
       "470                    0.1                      0.033333   \n",
       "\n",
       "     betweeness_centrality_evs   Model_0   Model_1   Model_2   Model_3  \\\n",
       "0                     0.000000  0.157352  0.154727  0.154727  0.154727   \n",
       "1                     0.000000  0.054261  0.061346  0.058878  0.063296   \n",
       "2                     0.000000  0.191832  0.191832  0.191832  0.181823   \n",
       "3                     0.000000  0.825471  0.795228  0.786885  0.795228   \n",
       "4                     0.000000  0.127533  0.188299  0.186316  0.188299   \n",
       "..                         ...       ...       ...       ...       ...   \n",
       "466                   0.022222  0.656940  0.714096  0.714096  0.697409   \n",
       "467                   0.000000  0.196267  0.188467  0.188467  0.188467   \n",
       "468                   0.000000  0.659699  0.830026  0.611767  0.645131   \n",
       "469                   0.000000  0.191832  0.191832  0.191832  0.183108   \n",
       "470                   0.000000  0.638741  0.785815  0.626311  0.593358   \n",
       "\n",
       "        Model_name  \n",
       "0     sachs_lingam  \n",
       "1       sachs_ccdr  \n",
       "2    sachs_notears  \n",
       "3     sachs_dagGNN  \n",
       "4       sachs_ccdr  \n",
       "..             ...  \n",
       "466     sachs_ccdr  \n",
       "467   sachs_lingam  \n",
       "468   sachs_dagGNN  \n",
       "469  sachs_notears  \n",
       "470  sachs_notears  \n",
       "\n",
       "[471 rows x 12 columns]"
      ]
     },
     "execution_count": 82,
     "metadata": {},
     "output_type": "execute_result"
    }
   ],
   "source": [
    "df"
   ]
  },
  {
   "cell_type": "code",
   "execution_count": 136,
   "id": "ff3a3b74",
   "metadata": {},
   "outputs": [
    {
     "data": {
      "application/vnd.plotly.v1+json": {
       "config": {
        "plotlyServerURL": "https://plot.ly"
       },
       "data": [
        {
         "alignmentgroup": "True",
         "bingroup": "x",
         "hovertemplate": "Model_name=%{x}<br>count=%{y}<extra></extra>",
         "legendgroup": "",
         "marker": {
          "color": "#636efa",
          "pattern": {
           "shape": ""
          }
         },
         "name": "",
         "offsetgroup": "",
         "orientation": "v",
         "showlegend": false,
         "type": "histogram",
         "x": [
          "asia_ccdr",
          "asia_ccdr",
          "asia_ccdr",
          "asia_nobears",
          "asia_lingam",
          "asia_ccdr",
          "asia_nobears",
          "asia_nobears",
          "asia_nobears",
          "asia_ccdr",
          "asia_ccdr",
          "asia_ccdr",
          "asia_nobears",
          "asia_ccdr",
          "asia_notears",
          "asia_nobears",
          "asia_ccdr",
          "asia_nobears",
          "asia_ccdr",
          "asia_nobears",
          "asia_notears",
          "asia_nobears",
          "asia_ccdr",
          "asia_nobears",
          "asia_notears",
          "asia_notears",
          "asia_ccdr",
          "asia_nobears",
          "asia_nobears",
          "asia_nobears",
          "asia_nobears",
          "asia_ccdr",
          "asia_nobears",
          "asia_notears",
          "asia_nobears",
          "asia_notears",
          "asia_nobears",
          "asia_nobears",
          "asia_ccdr",
          "asia_notears",
          "asia_ccdr",
          "asia_nobears",
          "asia_ccdr",
          "asia_ccdr",
          "asia_nobears",
          "asia_ccdr",
          "asia_nobears",
          "asia_nobears",
          "asia_ccdr",
          "asia_nobears",
          "asia_nobears",
          "asia_lingam",
          "asia_nobears",
          "asia_ccdr",
          "asia_notears",
          "asia_ccdr",
          "asia_lingam",
          "asia_ccdr",
          "asia_nobears",
          "asia_notears",
          "asia_nobears",
          "asia_ccdr",
          "asia_lingam",
          "asia_ccdr",
          "asia_ccdr",
          "asia_ccdr",
          "asia_ccdr",
          "asia_nobears",
          "asia_nobears",
          "asia_ccdr",
          "asia_ccdr",
          "asia_nobears",
          "asia_nobears",
          "asia_nobears",
          "asia_lingam",
          "asia_notears",
          "asia_notears",
          "asia_ccdr",
          "asia_lingam",
          "asia_nobears",
          "asia_nobears",
          "asia_ccdr",
          "asia_nobears",
          "asia_ccdr",
          "asia_nobears",
          "asia_ccdr",
          "asia_notears",
          "asia_ccdr",
          "asia_nobears",
          "asia_ccdr",
          "asia_nobears",
          "asia_nobears",
          "asia_ccdr",
          "asia_nobears",
          "asia_notears",
          "asia_nobears",
          "asia_nobears",
          "asia_ccdr",
          "asia_nobears",
          "asia_ccdr",
          "asia_nobears",
          "asia_ccdr",
          "asia_ccdr",
          "asia_ccdr",
          "asia_nobears",
          "asia_nobears",
          "asia_ccdr",
          "asia_nobears",
          "asia_nobears",
          "asia_ccdr",
          "asia_nobears",
          "asia_ccdr",
          "asia_nobears",
          "asia_notears",
          "asia_nobears",
          "asia_nobears",
          "asia_nobears",
          "asia_nobears",
          "asia_nobears",
          "asia_ccdr",
          "asia_nobears",
          "asia_notears",
          "asia_nobears",
          "asia_ccdr",
          "asia_ccdr",
          "asia_nobears",
          "asia_nobears",
          "asia_notears",
          "asia_nobears",
          "asia_ccdr",
          "asia_nobears",
          "asia_ccdr",
          "asia_nobears",
          "asia_ccdr",
          "asia_nobears",
          "asia_ccdr",
          "asia_nobears",
          "asia_nobears",
          "asia_nobears",
          "asia_ccdr",
          "asia_ccdr",
          "asia_notears",
          "asia_nobears",
          "asia_notears",
          "asia_nobears",
          "asia_ccdr",
          "asia_nobears",
          "asia_nobears",
          "asia_nobears",
          "asia_ccdr",
          "asia_nobears",
          "asia_nobears",
          "asia_ccdr",
          "asia_nobears",
          "asia_nobears",
          "asia_nobears",
          "asia_ccdr",
          "asia_nobears",
          "asia_nobears",
          "asia_ccdr",
          "asia_nobears",
          "asia_nobears",
          "asia_ccdr",
          "asia_ccdr",
          "asia_nobears",
          "asia_nobears",
          "asia_nobears",
          "asia_ccdr",
          "asia_ccdr",
          "asia_ccdr",
          "asia_nobears",
          "asia_ccdr",
          "asia_nobears",
          "asia_ccdr",
          "asia_nobears",
          "asia_nobears",
          "asia_nobears",
          "asia_nobears",
          "asia_nobears",
          "asia_nobears",
          "asia_nobears",
          "asia_ccdr",
          "asia_nobears",
          "asia_nobears",
          "asia_nobears",
          "asia_nobears",
          "asia_ccdr",
          "asia_nobears",
          "asia_nobears",
          "asia_nobears",
          "asia_nobears",
          "asia_ccdr",
          "asia_nobears",
          "asia_nobears",
          "asia_nobears",
          "asia_ccdr",
          "asia_nobears",
          "asia_nobears",
          "asia_ccdr",
          "asia_ccdr",
          "asia_notears",
          "asia_nobears",
          "asia_nobears",
          "asia_nobears",
          "asia_ccdr",
          "asia_notears",
          "asia_nobears",
          "asia_nobears",
          "asia_nobears",
          "asia_ccdr",
          "asia_ccdr",
          "asia_lingam",
          "asia_nobears",
          "asia_ccdr",
          "asia_ccdr",
          "asia_nobears",
          "asia_ccdr",
          "asia_ccdr",
          "asia_ccdr",
          "asia_ccdr",
          "asia_nobears",
          "asia_ccdr",
          "asia_ccdr",
          "asia_ccdr",
          "asia_nobears",
          "asia_nobears",
          "asia_nobears",
          "asia_notears",
          "asia_ccdr",
          "asia_ccdr",
          "asia_nobears",
          "asia_ccdr",
          "asia_nobears",
          "asia_nobears",
          "asia_nobears",
          "asia_ccdr",
          "asia_ccdr",
          "asia_ccdr",
          "asia_ccdr",
          "asia_notears",
          "asia_ccdr",
          "asia_nobears",
          "asia_nobears",
          "asia_nobears",
          "asia_nobears",
          "asia_nobears",
          "asia_ccdr",
          "asia_lingam",
          "asia_nobears",
          "asia_ccdr",
          "asia_ccdr",
          "asia_nobears",
          "asia_nobears",
          "asia_nobears",
          "asia_ccdr",
          "asia_ccdr",
          "asia_nobears",
          "asia_nobears",
          "asia_nobears",
          "asia_notears",
          "asia_ccdr",
          "asia_ccdr",
          "asia_nobears",
          "asia_nobears",
          "asia_nobears",
          "asia_ccdr",
          "asia_nobears",
          "asia_nobears",
          "asia_nobears",
          "asia_ccdr",
          "asia_nobears",
          "asia_ccdr",
          "asia_notears",
          "asia_ccdr",
          "asia_nobears",
          "asia_ccdr",
          "asia_ccdr",
          "asia_ccdr",
          "asia_nobears",
          "asia_ccdr",
          "asia_ccdr",
          "asia_nobears",
          "asia_nobears",
          "asia_ccdr",
          "asia_nobears",
          "asia_ccdr",
          "asia_notears",
          "asia_ccdr",
          "asia_nobears",
          "asia_nobears",
          "asia_nobears",
          "asia_notears",
          "asia_nobears",
          "asia_nobears",
          "asia_nobears",
          "asia_ccdr",
          "asia_nobears",
          "asia_nobears",
          "asia_nobears",
          "asia_nobears",
          "asia_ccdr",
          "asia_ccdr",
          "asia_ccdr",
          "asia_nobears",
          "asia_nobears",
          "asia_nobears",
          "asia_ccdr",
          "asia_notears",
          "asia_nobears",
          "asia_nobears",
          "asia_nobears",
          "asia_nobears",
          "asia_nobears",
          "asia_ccdr",
          "asia_ccdr",
          "asia_nobears",
          "asia_ccdr",
          "asia_nobears",
          "asia_nobears",
          "asia_notears",
          "asia_nobears",
          "asia_nobears",
          "asia_ccdr",
          "asia_nobears",
          "asia_notears",
          "asia_nobears",
          "asia_ccdr",
          "asia_notears",
          "asia_nobears",
          "asia_ccdr",
          "asia_nobears",
          "asia_nobears",
          "asia_ccdr",
          "asia_nobears",
          "asia_nobears",
          "asia_ccdr",
          "asia_ccdr",
          "asia_ccdr",
          "asia_nobears",
          "asia_ccdr",
          "asia_nobears",
          "asia_notears",
          "asia_ccdr",
          "asia_ccdr",
          "asia_nobears",
          "asia_ccdr",
          "asia_ccdr",
          "asia_nobears",
          "asia_nobears",
          "asia_nobears",
          "asia_nobears"
         ],
         "xaxis": "x",
         "yaxis": "y"
        }
       ],
       "layout": {
        "bargap": 0.5,
        "barmode": "relative",
        "legend": {
         "tracegroupgap": 0
        },
        "margin": {
         "t": 60
        },
        "template": {
         "data": {
          "bar": [
           {
            "error_x": {
             "color": "#2a3f5f"
            },
            "error_y": {
             "color": "#2a3f5f"
            },
            "marker": {
             "line": {
              "color": "#E5ECF6",
              "width": 0.5
             },
             "pattern": {
              "fillmode": "overlay",
              "size": 10,
              "solidity": 0.2
             }
            },
            "type": "bar"
           }
          ],
          "barpolar": [
           {
            "marker": {
             "line": {
              "color": "#E5ECF6",
              "width": 0.5
             },
             "pattern": {
              "fillmode": "overlay",
              "size": 10,
              "solidity": 0.2
             }
            },
            "type": "barpolar"
           }
          ],
          "carpet": [
           {
            "aaxis": {
             "endlinecolor": "#2a3f5f",
             "gridcolor": "white",
             "linecolor": "white",
             "minorgridcolor": "white",
             "startlinecolor": "#2a3f5f"
            },
            "baxis": {
             "endlinecolor": "#2a3f5f",
             "gridcolor": "white",
             "linecolor": "white",
             "minorgridcolor": "white",
             "startlinecolor": "#2a3f5f"
            },
            "type": "carpet"
           }
          ],
          "choropleth": [
           {
            "colorbar": {
             "outlinewidth": 0,
             "ticks": ""
            },
            "type": "choropleth"
           }
          ],
          "contour": [
           {
            "colorbar": {
             "outlinewidth": 0,
             "ticks": ""
            },
            "colorscale": [
             [
              0,
              "#0d0887"
             ],
             [
              0.1111111111111111,
              "#46039f"
             ],
             [
              0.2222222222222222,
              "#7201a8"
             ],
             [
              0.3333333333333333,
              "#9c179e"
             ],
             [
              0.4444444444444444,
              "#bd3786"
             ],
             [
              0.5555555555555556,
              "#d8576b"
             ],
             [
              0.6666666666666666,
              "#ed7953"
             ],
             [
              0.7777777777777778,
              "#fb9f3a"
             ],
             [
              0.8888888888888888,
              "#fdca26"
             ],
             [
              1,
              "#f0f921"
             ]
            ],
            "type": "contour"
           }
          ],
          "contourcarpet": [
           {
            "colorbar": {
             "outlinewidth": 0,
             "ticks": ""
            },
            "type": "contourcarpet"
           }
          ],
          "heatmap": [
           {
            "colorbar": {
             "outlinewidth": 0,
             "ticks": ""
            },
            "colorscale": [
             [
              0,
              "#0d0887"
             ],
             [
              0.1111111111111111,
              "#46039f"
             ],
             [
              0.2222222222222222,
              "#7201a8"
             ],
             [
              0.3333333333333333,
              "#9c179e"
             ],
             [
              0.4444444444444444,
              "#bd3786"
             ],
             [
              0.5555555555555556,
              "#d8576b"
             ],
             [
              0.6666666666666666,
              "#ed7953"
             ],
             [
              0.7777777777777778,
              "#fb9f3a"
             ],
             [
              0.8888888888888888,
              "#fdca26"
             ],
             [
              1,
              "#f0f921"
             ]
            ],
            "type": "heatmap"
           }
          ],
          "heatmapgl": [
           {
            "colorbar": {
             "outlinewidth": 0,
             "ticks": ""
            },
            "colorscale": [
             [
              0,
              "#0d0887"
             ],
             [
              0.1111111111111111,
              "#46039f"
             ],
             [
              0.2222222222222222,
              "#7201a8"
             ],
             [
              0.3333333333333333,
              "#9c179e"
             ],
             [
              0.4444444444444444,
              "#bd3786"
             ],
             [
              0.5555555555555556,
              "#d8576b"
             ],
             [
              0.6666666666666666,
              "#ed7953"
             ],
             [
              0.7777777777777778,
              "#fb9f3a"
             ],
             [
              0.8888888888888888,
              "#fdca26"
             ],
             [
              1,
              "#f0f921"
             ]
            ],
            "type": "heatmapgl"
           }
          ],
          "histogram": [
           {
            "marker": {
             "pattern": {
              "fillmode": "overlay",
              "size": 10,
              "solidity": 0.2
             }
            },
            "type": "histogram"
           }
          ],
          "histogram2d": [
           {
            "colorbar": {
             "outlinewidth": 0,
             "ticks": ""
            },
            "colorscale": [
             [
              0,
              "#0d0887"
             ],
             [
              0.1111111111111111,
              "#46039f"
             ],
             [
              0.2222222222222222,
              "#7201a8"
             ],
             [
              0.3333333333333333,
              "#9c179e"
             ],
             [
              0.4444444444444444,
              "#bd3786"
             ],
             [
              0.5555555555555556,
              "#d8576b"
             ],
             [
              0.6666666666666666,
              "#ed7953"
             ],
             [
              0.7777777777777778,
              "#fb9f3a"
             ],
             [
              0.8888888888888888,
              "#fdca26"
             ],
             [
              1,
              "#f0f921"
             ]
            ],
            "type": "histogram2d"
           }
          ],
          "histogram2dcontour": [
           {
            "colorbar": {
             "outlinewidth": 0,
             "ticks": ""
            },
            "colorscale": [
             [
              0,
              "#0d0887"
             ],
             [
              0.1111111111111111,
              "#46039f"
             ],
             [
              0.2222222222222222,
              "#7201a8"
             ],
             [
              0.3333333333333333,
              "#9c179e"
             ],
             [
              0.4444444444444444,
              "#bd3786"
             ],
             [
              0.5555555555555556,
              "#d8576b"
             ],
             [
              0.6666666666666666,
              "#ed7953"
             ],
             [
              0.7777777777777778,
              "#fb9f3a"
             ],
             [
              0.8888888888888888,
              "#fdca26"
             ],
             [
              1,
              "#f0f921"
             ]
            ],
            "type": "histogram2dcontour"
           }
          ],
          "mesh3d": [
           {
            "colorbar": {
             "outlinewidth": 0,
             "ticks": ""
            },
            "type": "mesh3d"
           }
          ],
          "parcoords": [
           {
            "line": {
             "colorbar": {
              "outlinewidth": 0,
              "ticks": ""
             }
            },
            "type": "parcoords"
           }
          ],
          "pie": [
           {
            "automargin": true,
            "type": "pie"
           }
          ],
          "scatter": [
           {
            "marker": {
             "colorbar": {
              "outlinewidth": 0,
              "ticks": ""
             }
            },
            "type": "scatter"
           }
          ],
          "scatter3d": [
           {
            "line": {
             "colorbar": {
              "outlinewidth": 0,
              "ticks": ""
             }
            },
            "marker": {
             "colorbar": {
              "outlinewidth": 0,
              "ticks": ""
             }
            },
            "type": "scatter3d"
           }
          ],
          "scattercarpet": [
           {
            "marker": {
             "colorbar": {
              "outlinewidth": 0,
              "ticks": ""
             }
            },
            "type": "scattercarpet"
           }
          ],
          "scattergeo": [
           {
            "marker": {
             "colorbar": {
              "outlinewidth": 0,
              "ticks": ""
             }
            },
            "type": "scattergeo"
           }
          ],
          "scattergl": [
           {
            "marker": {
             "colorbar": {
              "outlinewidth": 0,
              "ticks": ""
             }
            },
            "type": "scattergl"
           }
          ],
          "scattermapbox": [
           {
            "marker": {
             "colorbar": {
              "outlinewidth": 0,
              "ticks": ""
             }
            },
            "type": "scattermapbox"
           }
          ],
          "scatterpolar": [
           {
            "marker": {
             "colorbar": {
              "outlinewidth": 0,
              "ticks": ""
             }
            },
            "type": "scatterpolar"
           }
          ],
          "scatterpolargl": [
           {
            "marker": {
             "colorbar": {
              "outlinewidth": 0,
              "ticks": ""
             }
            },
            "type": "scatterpolargl"
           }
          ],
          "scatterternary": [
           {
            "marker": {
             "colorbar": {
              "outlinewidth": 0,
              "ticks": ""
             }
            },
            "type": "scatterternary"
           }
          ],
          "surface": [
           {
            "colorbar": {
             "outlinewidth": 0,
             "ticks": ""
            },
            "colorscale": [
             [
              0,
              "#0d0887"
             ],
             [
              0.1111111111111111,
              "#46039f"
             ],
             [
              0.2222222222222222,
              "#7201a8"
             ],
             [
              0.3333333333333333,
              "#9c179e"
             ],
             [
              0.4444444444444444,
              "#bd3786"
             ],
             [
              0.5555555555555556,
              "#d8576b"
             ],
             [
              0.6666666666666666,
              "#ed7953"
             ],
             [
              0.7777777777777778,
              "#fb9f3a"
             ],
             [
              0.8888888888888888,
              "#fdca26"
             ],
             [
              1,
              "#f0f921"
             ]
            ],
            "type": "surface"
           }
          ],
          "table": [
           {
            "cells": {
             "fill": {
              "color": "#EBF0F8"
             },
             "line": {
              "color": "white"
             }
            },
            "header": {
             "fill": {
              "color": "#C8D4E3"
             },
             "line": {
              "color": "white"
             }
            },
            "type": "table"
           }
          ]
         },
         "layout": {
          "annotationdefaults": {
           "arrowcolor": "#2a3f5f",
           "arrowhead": 0,
           "arrowwidth": 1
          },
          "autotypenumbers": "strict",
          "coloraxis": {
           "colorbar": {
            "outlinewidth": 0,
            "ticks": ""
           }
          },
          "colorscale": {
           "diverging": [
            [
             0,
             "#8e0152"
            ],
            [
             0.1,
             "#c51b7d"
            ],
            [
             0.2,
             "#de77ae"
            ],
            [
             0.3,
             "#f1b6da"
            ],
            [
             0.4,
             "#fde0ef"
            ],
            [
             0.5,
             "#f7f7f7"
            ],
            [
             0.6,
             "#e6f5d0"
            ],
            [
             0.7,
             "#b8e186"
            ],
            [
             0.8,
             "#7fbc41"
            ],
            [
             0.9,
             "#4d9221"
            ],
            [
             1,
             "#276419"
            ]
           ],
           "sequential": [
            [
             0,
             "#0d0887"
            ],
            [
             0.1111111111111111,
             "#46039f"
            ],
            [
             0.2222222222222222,
             "#7201a8"
            ],
            [
             0.3333333333333333,
             "#9c179e"
            ],
            [
             0.4444444444444444,
             "#bd3786"
            ],
            [
             0.5555555555555556,
             "#d8576b"
            ],
            [
             0.6666666666666666,
             "#ed7953"
            ],
            [
             0.7777777777777778,
             "#fb9f3a"
            ],
            [
             0.8888888888888888,
             "#fdca26"
            ],
            [
             1,
             "#f0f921"
            ]
           ],
           "sequentialminus": [
            [
             0,
             "#0d0887"
            ],
            [
             0.1111111111111111,
             "#46039f"
            ],
            [
             0.2222222222222222,
             "#7201a8"
            ],
            [
             0.3333333333333333,
             "#9c179e"
            ],
            [
             0.4444444444444444,
             "#bd3786"
            ],
            [
             0.5555555555555556,
             "#d8576b"
            ],
            [
             0.6666666666666666,
             "#ed7953"
            ],
            [
             0.7777777777777778,
             "#fb9f3a"
            ],
            [
             0.8888888888888888,
             "#fdca26"
            ],
            [
             1,
             "#f0f921"
            ]
           ]
          },
          "colorway": [
           "#636efa",
           "#EF553B",
           "#00cc96",
           "#ab63fa",
           "#FFA15A",
           "#19d3f3",
           "#FF6692",
           "#B6E880",
           "#FF97FF",
           "#FECB52"
          ],
          "font": {
           "color": "#2a3f5f"
          },
          "geo": {
           "bgcolor": "white",
           "lakecolor": "white",
           "landcolor": "#E5ECF6",
           "showlakes": true,
           "showland": true,
           "subunitcolor": "white"
          },
          "hoverlabel": {
           "align": "left"
          },
          "hovermode": "closest",
          "mapbox": {
           "style": "light"
          },
          "paper_bgcolor": "white",
          "plot_bgcolor": "#E5ECF6",
          "polar": {
           "angularaxis": {
            "gridcolor": "white",
            "linecolor": "white",
            "ticks": ""
           },
           "bgcolor": "#E5ECF6",
           "radialaxis": {
            "gridcolor": "white",
            "linecolor": "white",
            "ticks": ""
           }
          },
          "scene": {
           "xaxis": {
            "backgroundcolor": "#E5ECF6",
            "gridcolor": "white",
            "gridwidth": 2,
            "linecolor": "white",
            "showbackground": true,
            "ticks": "",
            "zerolinecolor": "white"
           },
           "yaxis": {
            "backgroundcolor": "#E5ECF6",
            "gridcolor": "white",
            "gridwidth": 2,
            "linecolor": "white",
            "showbackground": true,
            "ticks": "",
            "zerolinecolor": "white"
           },
           "zaxis": {
            "backgroundcolor": "#E5ECF6",
            "gridcolor": "white",
            "gridwidth": 2,
            "linecolor": "white",
            "showbackground": true,
            "ticks": "",
            "zerolinecolor": "white"
           }
          },
          "shapedefaults": {
           "line": {
            "color": "#2a3f5f"
           }
          },
          "ternary": {
           "aaxis": {
            "gridcolor": "white",
            "linecolor": "white",
            "ticks": ""
           },
           "baxis": {
            "gridcolor": "white",
            "linecolor": "white",
            "ticks": ""
           },
           "bgcolor": "#E5ECF6",
           "caxis": {
            "gridcolor": "white",
            "linecolor": "white",
            "ticks": ""
           }
          },
          "title": {
           "x": 0.05
          },
          "xaxis": {
           "automargin": true,
           "gridcolor": "white",
           "linecolor": "white",
           "ticks": "",
           "title": {
            "standoff": 15
           },
           "zerolinecolor": "white",
           "zerolinewidth": 2
          },
          "yaxis": {
           "automargin": true,
           "gridcolor": "white",
           "linecolor": "white",
           "ticks": "",
           "title": {
            "standoff": 15
           },
           "zerolinecolor": "white",
           "zerolinewidth": 2
          }
         }
        },
        "title": {
         "text": "Frequency Count for Model Preference: asia"
        },
        "xaxis": {
         "anchor": "y",
         "domain": [
          0,
          1
         ],
         "title": {
          "text": "Model"
         }
        },
        "yaxis": {
         "anchor": "x",
         "domain": [
          0,
          1
         ],
         "title": {
          "text": "Frequency"
         }
        }
       }
      },
      "text/html": [
       "<div>                            <div id=\"7155e15c-1e1e-4d2e-9bd7-42936656a355\" class=\"plotly-graph-div\" style=\"height:525px; width:100%;\"></div>            <script type=\"text/javascript\">                require([\"plotly\"], function(Plotly) {                    window.PLOTLYENV=window.PLOTLYENV || {};                                    if (document.getElementById(\"7155e15c-1e1e-4d2e-9bd7-42936656a355\")) {                    Plotly.newPlot(                        \"7155e15c-1e1e-4d2e-9bd7-42936656a355\",                        [{\"alignmentgroup\":\"True\",\"bingroup\":\"x\",\"hovertemplate\":\"Model_name=%{x}<br>count=%{y}<extra></extra>\",\"legendgroup\":\"\",\"marker\":{\"color\":\"#636efa\",\"pattern\":{\"shape\":\"\"}},\"name\":\"\",\"offsetgroup\":\"\",\"orientation\":\"v\",\"showlegend\":false,\"x\":[\"asia_ccdr\",\"asia_ccdr\",\"asia_ccdr\",\"asia_nobears\",\"asia_lingam\",\"asia_ccdr\",\"asia_nobears\",\"asia_nobears\",\"asia_nobears\",\"asia_ccdr\",\"asia_ccdr\",\"asia_ccdr\",\"asia_nobears\",\"asia_ccdr\",\"asia_notears\",\"asia_nobears\",\"asia_ccdr\",\"asia_nobears\",\"asia_ccdr\",\"asia_nobears\",\"asia_notears\",\"asia_nobears\",\"asia_ccdr\",\"asia_nobears\",\"asia_notears\",\"asia_notears\",\"asia_ccdr\",\"asia_nobears\",\"asia_nobears\",\"asia_nobears\",\"asia_nobears\",\"asia_ccdr\",\"asia_nobears\",\"asia_notears\",\"asia_nobears\",\"asia_notears\",\"asia_nobears\",\"asia_nobears\",\"asia_ccdr\",\"asia_notears\",\"asia_ccdr\",\"asia_nobears\",\"asia_ccdr\",\"asia_ccdr\",\"asia_nobears\",\"asia_ccdr\",\"asia_nobears\",\"asia_nobears\",\"asia_ccdr\",\"asia_nobears\",\"asia_nobears\",\"asia_lingam\",\"asia_nobears\",\"asia_ccdr\",\"asia_notears\",\"asia_ccdr\",\"asia_lingam\",\"asia_ccdr\",\"asia_nobears\",\"asia_notears\",\"asia_nobears\",\"asia_ccdr\",\"asia_lingam\",\"asia_ccdr\",\"asia_ccdr\",\"asia_ccdr\",\"asia_ccdr\",\"asia_nobears\",\"asia_nobears\",\"asia_ccdr\",\"asia_ccdr\",\"asia_nobears\",\"asia_nobears\",\"asia_nobears\",\"asia_lingam\",\"asia_notears\",\"asia_notears\",\"asia_ccdr\",\"asia_lingam\",\"asia_nobears\",\"asia_nobears\",\"asia_ccdr\",\"asia_nobears\",\"asia_ccdr\",\"asia_nobears\",\"asia_ccdr\",\"asia_notears\",\"asia_ccdr\",\"asia_nobears\",\"asia_ccdr\",\"asia_nobears\",\"asia_nobears\",\"asia_ccdr\",\"asia_nobears\",\"asia_notears\",\"asia_nobears\",\"asia_nobears\",\"asia_ccdr\",\"asia_nobears\",\"asia_ccdr\",\"asia_nobears\",\"asia_ccdr\",\"asia_ccdr\",\"asia_ccdr\",\"asia_nobears\",\"asia_nobears\",\"asia_ccdr\",\"asia_nobears\",\"asia_nobears\",\"asia_ccdr\",\"asia_nobears\",\"asia_ccdr\",\"asia_nobears\",\"asia_notears\",\"asia_nobears\",\"asia_nobears\",\"asia_nobears\",\"asia_nobears\",\"asia_nobears\",\"asia_ccdr\",\"asia_nobears\",\"asia_notears\",\"asia_nobears\",\"asia_ccdr\",\"asia_ccdr\",\"asia_nobears\",\"asia_nobears\",\"asia_notears\",\"asia_nobears\",\"asia_ccdr\",\"asia_nobears\",\"asia_ccdr\",\"asia_nobears\",\"asia_ccdr\",\"asia_nobears\",\"asia_ccdr\",\"asia_nobears\",\"asia_nobears\",\"asia_nobears\",\"asia_ccdr\",\"asia_ccdr\",\"asia_notears\",\"asia_nobears\",\"asia_notears\",\"asia_nobears\",\"asia_ccdr\",\"asia_nobears\",\"asia_nobears\",\"asia_nobears\",\"asia_ccdr\",\"asia_nobears\",\"asia_nobears\",\"asia_ccdr\",\"asia_nobears\",\"asia_nobears\",\"asia_nobears\",\"asia_ccdr\",\"asia_nobears\",\"asia_nobears\",\"asia_ccdr\",\"asia_nobears\",\"asia_nobears\",\"asia_ccdr\",\"asia_ccdr\",\"asia_nobears\",\"asia_nobears\",\"asia_nobears\",\"asia_ccdr\",\"asia_ccdr\",\"asia_ccdr\",\"asia_nobears\",\"asia_ccdr\",\"asia_nobears\",\"asia_ccdr\",\"asia_nobears\",\"asia_nobears\",\"asia_nobears\",\"asia_nobears\",\"asia_nobears\",\"asia_nobears\",\"asia_nobears\",\"asia_ccdr\",\"asia_nobears\",\"asia_nobears\",\"asia_nobears\",\"asia_nobears\",\"asia_ccdr\",\"asia_nobears\",\"asia_nobears\",\"asia_nobears\",\"asia_nobears\",\"asia_ccdr\",\"asia_nobears\",\"asia_nobears\",\"asia_nobears\",\"asia_ccdr\",\"asia_nobears\",\"asia_nobears\",\"asia_ccdr\",\"asia_ccdr\",\"asia_notears\",\"asia_nobears\",\"asia_nobears\",\"asia_nobears\",\"asia_ccdr\",\"asia_notears\",\"asia_nobears\",\"asia_nobears\",\"asia_nobears\",\"asia_ccdr\",\"asia_ccdr\",\"asia_lingam\",\"asia_nobears\",\"asia_ccdr\",\"asia_ccdr\",\"asia_nobears\",\"asia_ccdr\",\"asia_ccdr\",\"asia_ccdr\",\"asia_ccdr\",\"asia_nobears\",\"asia_ccdr\",\"asia_ccdr\",\"asia_ccdr\",\"asia_nobears\",\"asia_nobears\",\"asia_nobears\",\"asia_notears\",\"asia_ccdr\",\"asia_ccdr\",\"asia_nobears\",\"asia_ccdr\",\"asia_nobears\",\"asia_nobears\",\"asia_nobears\",\"asia_ccdr\",\"asia_ccdr\",\"asia_ccdr\",\"asia_ccdr\",\"asia_notears\",\"asia_ccdr\",\"asia_nobears\",\"asia_nobears\",\"asia_nobears\",\"asia_nobears\",\"asia_nobears\",\"asia_ccdr\",\"asia_lingam\",\"asia_nobears\",\"asia_ccdr\",\"asia_ccdr\",\"asia_nobears\",\"asia_nobears\",\"asia_nobears\",\"asia_ccdr\",\"asia_ccdr\",\"asia_nobears\",\"asia_nobears\",\"asia_nobears\",\"asia_notears\",\"asia_ccdr\",\"asia_ccdr\",\"asia_nobears\",\"asia_nobears\",\"asia_nobears\",\"asia_ccdr\",\"asia_nobears\",\"asia_nobears\",\"asia_nobears\",\"asia_ccdr\",\"asia_nobears\",\"asia_ccdr\",\"asia_notears\",\"asia_ccdr\",\"asia_nobears\",\"asia_ccdr\",\"asia_ccdr\",\"asia_ccdr\",\"asia_nobears\",\"asia_ccdr\",\"asia_ccdr\",\"asia_nobears\",\"asia_nobears\",\"asia_ccdr\",\"asia_nobears\",\"asia_ccdr\",\"asia_notears\",\"asia_ccdr\",\"asia_nobears\",\"asia_nobears\",\"asia_nobears\",\"asia_notears\",\"asia_nobears\",\"asia_nobears\",\"asia_nobears\",\"asia_ccdr\",\"asia_nobears\",\"asia_nobears\",\"asia_nobears\",\"asia_nobears\",\"asia_ccdr\",\"asia_ccdr\",\"asia_ccdr\",\"asia_nobears\",\"asia_nobears\",\"asia_nobears\",\"asia_ccdr\",\"asia_notears\",\"asia_nobears\",\"asia_nobears\",\"asia_nobears\",\"asia_nobears\",\"asia_nobears\",\"asia_ccdr\",\"asia_ccdr\",\"asia_nobears\",\"asia_ccdr\",\"asia_nobears\",\"asia_nobears\",\"asia_notears\",\"asia_nobears\",\"asia_nobears\",\"asia_ccdr\",\"asia_nobears\",\"asia_notears\",\"asia_nobears\",\"asia_ccdr\",\"asia_notears\",\"asia_nobears\",\"asia_ccdr\",\"asia_nobears\",\"asia_nobears\",\"asia_ccdr\",\"asia_nobears\",\"asia_nobears\",\"asia_ccdr\",\"asia_ccdr\",\"asia_ccdr\",\"asia_nobears\",\"asia_ccdr\",\"asia_nobears\",\"asia_notears\",\"asia_ccdr\",\"asia_ccdr\",\"asia_nobears\",\"asia_ccdr\",\"asia_ccdr\",\"asia_nobears\",\"asia_nobears\",\"asia_nobears\",\"asia_nobears\"],\"xaxis\":\"x\",\"yaxis\":\"y\",\"type\":\"histogram\"}],                        {\"template\":{\"data\":{\"bar\":[{\"error_x\":{\"color\":\"#2a3f5f\"},\"error_y\":{\"color\":\"#2a3f5f\"},\"marker\":{\"line\":{\"color\":\"#E5ECF6\",\"width\":0.5},\"pattern\":{\"fillmode\":\"overlay\",\"size\":10,\"solidity\":0.2}},\"type\":\"bar\"}],\"barpolar\":[{\"marker\":{\"line\":{\"color\":\"#E5ECF6\",\"width\":0.5},\"pattern\":{\"fillmode\":\"overlay\",\"size\":10,\"solidity\":0.2}},\"type\":\"barpolar\"}],\"carpet\":[{\"aaxis\":{\"endlinecolor\":\"#2a3f5f\",\"gridcolor\":\"white\",\"linecolor\":\"white\",\"minorgridcolor\":\"white\",\"startlinecolor\":\"#2a3f5f\"},\"baxis\":{\"endlinecolor\":\"#2a3f5f\",\"gridcolor\":\"white\",\"linecolor\":\"white\",\"minorgridcolor\":\"white\",\"startlinecolor\":\"#2a3f5f\"},\"type\":\"carpet\"}],\"choropleth\":[{\"colorbar\":{\"outlinewidth\":0,\"ticks\":\"\"},\"type\":\"choropleth\"}],\"contour\":[{\"colorbar\":{\"outlinewidth\":0,\"ticks\":\"\"},\"colorscale\":[[0.0,\"#0d0887\"],[0.1111111111111111,\"#46039f\"],[0.2222222222222222,\"#7201a8\"],[0.3333333333333333,\"#9c179e\"],[0.4444444444444444,\"#bd3786\"],[0.5555555555555556,\"#d8576b\"],[0.6666666666666666,\"#ed7953\"],[0.7777777777777778,\"#fb9f3a\"],[0.8888888888888888,\"#fdca26\"],[1.0,\"#f0f921\"]],\"type\":\"contour\"}],\"contourcarpet\":[{\"colorbar\":{\"outlinewidth\":0,\"ticks\":\"\"},\"type\":\"contourcarpet\"}],\"heatmap\":[{\"colorbar\":{\"outlinewidth\":0,\"ticks\":\"\"},\"colorscale\":[[0.0,\"#0d0887\"],[0.1111111111111111,\"#46039f\"],[0.2222222222222222,\"#7201a8\"],[0.3333333333333333,\"#9c179e\"],[0.4444444444444444,\"#bd3786\"],[0.5555555555555556,\"#d8576b\"],[0.6666666666666666,\"#ed7953\"],[0.7777777777777778,\"#fb9f3a\"],[0.8888888888888888,\"#fdca26\"],[1.0,\"#f0f921\"]],\"type\":\"heatmap\"}],\"heatmapgl\":[{\"colorbar\":{\"outlinewidth\":0,\"ticks\":\"\"},\"colorscale\":[[0.0,\"#0d0887\"],[0.1111111111111111,\"#46039f\"],[0.2222222222222222,\"#7201a8\"],[0.3333333333333333,\"#9c179e\"],[0.4444444444444444,\"#bd3786\"],[0.5555555555555556,\"#d8576b\"],[0.6666666666666666,\"#ed7953\"],[0.7777777777777778,\"#fb9f3a\"],[0.8888888888888888,\"#fdca26\"],[1.0,\"#f0f921\"]],\"type\":\"heatmapgl\"}],\"histogram\":[{\"marker\":{\"pattern\":{\"fillmode\":\"overlay\",\"size\":10,\"solidity\":0.2}},\"type\":\"histogram\"}],\"histogram2d\":[{\"colorbar\":{\"outlinewidth\":0,\"ticks\":\"\"},\"colorscale\":[[0.0,\"#0d0887\"],[0.1111111111111111,\"#46039f\"],[0.2222222222222222,\"#7201a8\"],[0.3333333333333333,\"#9c179e\"],[0.4444444444444444,\"#bd3786\"],[0.5555555555555556,\"#d8576b\"],[0.6666666666666666,\"#ed7953\"],[0.7777777777777778,\"#fb9f3a\"],[0.8888888888888888,\"#fdca26\"],[1.0,\"#f0f921\"]],\"type\":\"histogram2d\"}],\"histogram2dcontour\":[{\"colorbar\":{\"outlinewidth\":0,\"ticks\":\"\"},\"colorscale\":[[0.0,\"#0d0887\"],[0.1111111111111111,\"#46039f\"],[0.2222222222222222,\"#7201a8\"],[0.3333333333333333,\"#9c179e\"],[0.4444444444444444,\"#bd3786\"],[0.5555555555555556,\"#d8576b\"],[0.6666666666666666,\"#ed7953\"],[0.7777777777777778,\"#fb9f3a\"],[0.8888888888888888,\"#fdca26\"],[1.0,\"#f0f921\"]],\"type\":\"histogram2dcontour\"}],\"mesh3d\":[{\"colorbar\":{\"outlinewidth\":0,\"ticks\":\"\"},\"type\":\"mesh3d\"}],\"parcoords\":[{\"line\":{\"colorbar\":{\"outlinewidth\":0,\"ticks\":\"\"}},\"type\":\"parcoords\"}],\"pie\":[{\"automargin\":true,\"type\":\"pie\"}],\"scatter\":[{\"marker\":{\"colorbar\":{\"outlinewidth\":0,\"ticks\":\"\"}},\"type\":\"scatter\"}],\"scatter3d\":[{\"line\":{\"colorbar\":{\"outlinewidth\":0,\"ticks\":\"\"}},\"marker\":{\"colorbar\":{\"outlinewidth\":0,\"ticks\":\"\"}},\"type\":\"scatter3d\"}],\"scattercarpet\":[{\"marker\":{\"colorbar\":{\"outlinewidth\":0,\"ticks\":\"\"}},\"type\":\"scattercarpet\"}],\"scattergeo\":[{\"marker\":{\"colorbar\":{\"outlinewidth\":0,\"ticks\":\"\"}},\"type\":\"scattergeo\"}],\"scattergl\":[{\"marker\":{\"colorbar\":{\"outlinewidth\":0,\"ticks\":\"\"}},\"type\":\"scattergl\"}],\"scattermapbox\":[{\"marker\":{\"colorbar\":{\"outlinewidth\":0,\"ticks\":\"\"}},\"type\":\"scattermapbox\"}],\"scatterpolar\":[{\"marker\":{\"colorbar\":{\"outlinewidth\":0,\"ticks\":\"\"}},\"type\":\"scatterpolar\"}],\"scatterpolargl\":[{\"marker\":{\"colorbar\":{\"outlinewidth\":0,\"ticks\":\"\"}},\"type\":\"scatterpolargl\"}],\"scatterternary\":[{\"marker\":{\"colorbar\":{\"outlinewidth\":0,\"ticks\":\"\"}},\"type\":\"scatterternary\"}],\"surface\":[{\"colorbar\":{\"outlinewidth\":0,\"ticks\":\"\"},\"colorscale\":[[0.0,\"#0d0887\"],[0.1111111111111111,\"#46039f\"],[0.2222222222222222,\"#7201a8\"],[0.3333333333333333,\"#9c179e\"],[0.4444444444444444,\"#bd3786\"],[0.5555555555555556,\"#d8576b\"],[0.6666666666666666,\"#ed7953\"],[0.7777777777777778,\"#fb9f3a\"],[0.8888888888888888,\"#fdca26\"],[1.0,\"#f0f921\"]],\"type\":\"surface\"}],\"table\":[{\"cells\":{\"fill\":{\"color\":\"#EBF0F8\"},\"line\":{\"color\":\"white\"}},\"header\":{\"fill\":{\"color\":\"#C8D4E3\"},\"line\":{\"color\":\"white\"}},\"type\":\"table\"}]},\"layout\":{\"annotationdefaults\":{\"arrowcolor\":\"#2a3f5f\",\"arrowhead\":0,\"arrowwidth\":1},\"autotypenumbers\":\"strict\",\"coloraxis\":{\"colorbar\":{\"outlinewidth\":0,\"ticks\":\"\"}},\"colorscale\":{\"diverging\":[[0,\"#8e0152\"],[0.1,\"#c51b7d\"],[0.2,\"#de77ae\"],[0.3,\"#f1b6da\"],[0.4,\"#fde0ef\"],[0.5,\"#f7f7f7\"],[0.6,\"#e6f5d0\"],[0.7,\"#b8e186\"],[0.8,\"#7fbc41\"],[0.9,\"#4d9221\"],[1,\"#276419\"]],\"sequential\":[[0.0,\"#0d0887\"],[0.1111111111111111,\"#46039f\"],[0.2222222222222222,\"#7201a8\"],[0.3333333333333333,\"#9c179e\"],[0.4444444444444444,\"#bd3786\"],[0.5555555555555556,\"#d8576b\"],[0.6666666666666666,\"#ed7953\"],[0.7777777777777778,\"#fb9f3a\"],[0.8888888888888888,\"#fdca26\"],[1.0,\"#f0f921\"]],\"sequentialminus\":[[0.0,\"#0d0887\"],[0.1111111111111111,\"#46039f\"],[0.2222222222222222,\"#7201a8\"],[0.3333333333333333,\"#9c179e\"],[0.4444444444444444,\"#bd3786\"],[0.5555555555555556,\"#d8576b\"],[0.6666666666666666,\"#ed7953\"],[0.7777777777777778,\"#fb9f3a\"],[0.8888888888888888,\"#fdca26\"],[1.0,\"#f0f921\"]]},\"colorway\":[\"#636efa\",\"#EF553B\",\"#00cc96\",\"#ab63fa\",\"#FFA15A\",\"#19d3f3\",\"#FF6692\",\"#B6E880\",\"#FF97FF\",\"#FECB52\"],\"font\":{\"color\":\"#2a3f5f\"},\"geo\":{\"bgcolor\":\"white\",\"lakecolor\":\"white\",\"landcolor\":\"#E5ECF6\",\"showlakes\":true,\"showland\":true,\"subunitcolor\":\"white\"},\"hoverlabel\":{\"align\":\"left\"},\"hovermode\":\"closest\",\"mapbox\":{\"style\":\"light\"},\"paper_bgcolor\":\"white\",\"plot_bgcolor\":\"#E5ECF6\",\"polar\":{\"angularaxis\":{\"gridcolor\":\"white\",\"linecolor\":\"white\",\"ticks\":\"\"},\"bgcolor\":\"#E5ECF6\",\"radialaxis\":{\"gridcolor\":\"white\",\"linecolor\":\"white\",\"ticks\":\"\"}},\"scene\":{\"xaxis\":{\"backgroundcolor\":\"#E5ECF6\",\"gridcolor\":\"white\",\"gridwidth\":2,\"linecolor\":\"white\",\"showbackground\":true,\"ticks\":\"\",\"zerolinecolor\":\"white\"},\"yaxis\":{\"backgroundcolor\":\"#E5ECF6\",\"gridcolor\":\"white\",\"gridwidth\":2,\"linecolor\":\"white\",\"showbackground\":true,\"ticks\":\"\",\"zerolinecolor\":\"white\"},\"zaxis\":{\"backgroundcolor\":\"#E5ECF6\",\"gridcolor\":\"white\",\"gridwidth\":2,\"linecolor\":\"white\",\"showbackground\":true,\"ticks\":\"\",\"zerolinecolor\":\"white\"}},\"shapedefaults\":{\"line\":{\"color\":\"#2a3f5f\"}},\"ternary\":{\"aaxis\":{\"gridcolor\":\"white\",\"linecolor\":\"white\",\"ticks\":\"\"},\"baxis\":{\"gridcolor\":\"white\",\"linecolor\":\"white\",\"ticks\":\"\"},\"bgcolor\":\"#E5ECF6\",\"caxis\":{\"gridcolor\":\"white\",\"linecolor\":\"white\",\"ticks\":\"\"}},\"title\":{\"x\":0.05},\"xaxis\":{\"automargin\":true,\"gridcolor\":\"white\",\"linecolor\":\"white\",\"ticks\":\"\",\"title\":{\"standoff\":15},\"zerolinecolor\":\"white\",\"zerolinewidth\":2},\"yaxis\":{\"automargin\":true,\"gridcolor\":\"white\",\"linecolor\":\"white\",\"ticks\":\"\",\"title\":{\"standoff\":15},\"zerolinecolor\":\"white\",\"zerolinewidth\":2}}},\"xaxis\":{\"anchor\":\"y\",\"domain\":[0.0,1.0],\"title\":{\"text\":\"Model\"}},\"yaxis\":{\"anchor\":\"x\",\"domain\":[0.0,1.0],\"title\":{\"text\":\"Frequency\"}},\"legend\":{\"tracegroupgap\":0},\"margin\":{\"t\":60},\"barmode\":\"relative\",\"title\":{\"text\":\"Frequency Count for Model Preference: asia\"},\"bargap\":0.5},                        {\"responsive\": true}                    ).then(function(){\n",
       "                            \n",
       "var gd = document.getElementById('7155e15c-1e1e-4d2e-9bd7-42936656a355');\n",
       "var x = new MutationObserver(function (mutations, observer) {{\n",
       "        var display = window.getComputedStyle(gd).display;\n",
       "        if (!display || display === 'none') {{\n",
       "            console.log([gd, 'removed!']);\n",
       "            Plotly.purge(gd);\n",
       "            observer.disconnect();\n",
       "        }}\n",
       "}});\n",
       "\n",
       "// Listen for the removal of the full notebook cells\n",
       "var notebookContainer = gd.closest('#notebook-container');\n",
       "if (notebookContainer) {{\n",
       "    x.observe(notebookContainer, {childList: true});\n",
       "}}\n",
       "\n",
       "// Listen for the clearing of the current output cell\n",
       "var outputEl = gd.closest('.output');\n",
       "if (outputEl) {{\n",
       "    x.observe(outputEl, {childList: true});\n",
       "}}\n",
       "\n",
       "                        })                };                });            </script>        </div>"
      ]
     },
     "metadata": {},
     "output_type": "display_data"
    }
   ],
   "source": [
    "# Frequency of Models\n",
    "fig = px.histogram(df, x=\"Model_name\")\n",
    "fig.update_layout(\n",
    "    title_text=f'Frequency Count for Model Preference: {dataset_name}', # title of plot\n",
    "    xaxis_title_text='Model', # xaxis label\n",
    "    yaxis_title_text='Frequency', # yaxis label\n",
    "    bargap=0.5\n",
    ")\n",
    "fig.show()"
   ]
  },
  {
   "cell_type": "code",
   "execution_count": 137,
   "id": "39a1bc23",
   "metadata": {},
   "outputs": [],
   "source": [
    "# Splitting Target and Evidence from Query\n",
    "query_array = df[\"Query\"].to_list()\n",
    "query_target_array=[i[0] for i in query_array]\n",
    "query_evidence_array=[i[1] for i in query_array]\n",
    "new_df=df\n",
    "new_df[\"Target\"]=query_target_array\n",
    "new_df[\"Evidence\"]=query_evidence_array"
   ]
  },
  {
   "cell_type": "code",
   "execution_count": 138,
   "id": "e60b26eb",
   "metadata": {},
   "outputs": [
    {
     "data": {
      "application/vnd.plotly.v1+json": {
       "config": {
        "plotlyServerURL": "https://plot.ly"
       },
       "data": [
        {
         "alignmentgroup": "True",
         "bingroup": "x",
         "hovertemplate": "Model_name=asia_ccdr<br>Target=%{x}<br>count=%{y}<extra></extra>",
         "legendgroup": "asia_ccdr",
         "marker": {
          "color": "#636efa",
          "pattern": {
           "shape": ""
          }
         },
         "name": "asia_ccdr",
         "offsetgroup": "asia_ccdr",
         "orientation": "v",
         "showlegend": true,
         "type": "histogram",
         "x": [
          5,
          3,
          5,
          2,
          2,
          6,
          5,
          0,
          7,
          0,
          4,
          0,
          6,
          0,
          7,
          5,
          4,
          0,
          0,
          4,
          5,
          7,
          0,
          7,
          2,
          6,
          4,
          5,
          0,
          5,
          4,
          6,
          6,
          0,
          2,
          6,
          3,
          4,
          0,
          2,
          7,
          4,
          5,
          2,
          4,
          3,
          0,
          5,
          5,
          3,
          0,
          6,
          5,
          0,
          4,
          6,
          5,
          5,
          2,
          5,
          6,
          5,
          2,
          5,
          5,
          2,
          4,
          0,
          2,
          4,
          0,
          7,
          0,
          0,
          5,
          4,
          5,
          2,
          0,
          3,
          7,
          3,
          0,
          5,
          0,
          3,
          3,
          3,
          2,
          2,
          2,
          3,
          5,
          5,
          0,
          3,
          0,
          3,
          4,
          0,
          3,
          4,
          5,
          2,
          7,
          6,
          6,
          7,
          7,
          0,
          7,
          3,
          2,
          2,
          5,
          5,
          6,
          4,
          4,
          6,
          5,
          6,
          7,
          6,
          5,
          6,
          3,
          4,
          0,
          6
         ],
         "xaxis": "x",
         "yaxis": "y"
        },
        {
         "alignmentgroup": "True",
         "bingroup": "x",
         "hovertemplate": "Model_name=asia_nobears<br>Target=%{x}<br>count=%{y}<extra></extra>",
         "legendgroup": "asia_nobears",
         "marker": {
          "color": "#EF553B",
          "pattern": {
           "shape": ""
          }
         },
         "name": "asia_nobears",
         "offsetgroup": "asia_nobears",
         "orientation": "v",
         "showlegend": true,
         "type": "histogram",
         "x": [
          1,
          7,
          1,
          0,
          1,
          2,
          2,
          7,
          4,
          6,
          6,
          1,
          7,
          1,
          4,
          2,
          0,
          3,
          3,
          6,
          7,
          7,
          7,
          6,
          3,
          6,
          7,
          4,
          0,
          2,
          4,
          3,
          6,
          1,
          0,
          2,
          7,
          1,
          0,
          3,
          2,
          2,
          2,
          1,
          4,
          2,
          2,
          4,
          2,
          2,
          7,
          1,
          7,
          2,
          7,
          3,
          0,
          2,
          2,
          0,
          0,
          0,
          3,
          7,
          0,
          2,
          7,
          7,
          6,
          3,
          1,
          3,
          4,
          7,
          1,
          3,
          2,
          4,
          1,
          1,
          2,
          1,
          6,
          1,
          3,
          6,
          2,
          3,
          3,
          2,
          1,
          7,
          4,
          3,
          2,
          6,
          1,
          1,
          3,
          3,
          2,
          1,
          7,
          2,
          6,
          6,
          3,
          1,
          7,
          7,
          1,
          1,
          3,
          6,
          0,
          3,
          1,
          1,
          1,
          6,
          3,
          1,
          3,
          6,
          0,
          7,
          7,
          3,
          3,
          6,
          1,
          0,
          1,
          2,
          1,
          7,
          2,
          6,
          1,
          6,
          0,
          2,
          1,
          7,
          4,
          1,
          6,
          6,
          7,
          3,
          2,
          7,
          2,
          1,
          1,
          7,
          0,
          0,
          2,
          1,
          0,
          4,
          6,
          4,
          1,
          2,
          4,
          1,
          2,
          1,
          6,
          1,
          4,
          2,
          1,
          2,
          4,
          3,
          7,
          3,
          0,
          2
         ],
         "xaxis": "x",
         "yaxis": "y"
        },
        {
         "alignmentgroup": "True",
         "bingroup": "x",
         "hovertemplate": "Model_name=asia_lingam<br>Target=%{x}<br>count=%{y}<extra></extra>",
         "legendgroup": "asia_lingam",
         "marker": {
          "color": "#00cc96",
          "pattern": {
           "shape": ""
          }
         },
         "name": "asia_lingam",
         "offsetgroup": "asia_lingam",
         "orientation": "v",
         "showlegend": true,
         "type": "histogram",
         "x": [
          0,
          7,
          0,
          0,
          7,
          7,
          7,
          6
         ],
         "xaxis": "x",
         "yaxis": "y"
        },
        {
         "alignmentgroup": "True",
         "bingroup": "x",
         "hovertemplate": "Model_name=asia_notears<br>Target=%{x}<br>count=%{y}<extra></extra>",
         "legendgroup": "asia_notears",
         "marker": {
          "color": "#ab63fa",
          "pattern": {
           "shape": ""
          }
         },
         "name": "asia_notears",
         "offsetgroup": "asia_notears",
         "orientation": "v",
         "showlegend": true,
         "type": "histogram",
         "x": [
          5,
          4,
          4,
          5,
          5,
          5,
          4,
          5,
          4,
          5,
          7,
          5,
          4,
          4,
          5,
          7,
          5,
          4,
          4,
          5,
          4,
          5,
          5,
          4,
          4,
          5,
          5,
          5,
          4,
          5,
          5
         ],
         "xaxis": "x",
         "yaxis": "y"
        }
       ],
       "layout": {
        "barmode": "group",
        "legend": {
         "title": {
          "text": "Model_name"
         },
         "tracegroupgap": 0
        },
        "margin": {
         "t": 60
        },
        "template": {
         "data": {
          "bar": [
           {
            "error_x": {
             "color": "#2a3f5f"
            },
            "error_y": {
             "color": "#2a3f5f"
            },
            "marker": {
             "line": {
              "color": "#E5ECF6",
              "width": 0.5
             },
             "pattern": {
              "fillmode": "overlay",
              "size": 10,
              "solidity": 0.2
             }
            },
            "type": "bar"
           }
          ],
          "barpolar": [
           {
            "marker": {
             "line": {
              "color": "#E5ECF6",
              "width": 0.5
             },
             "pattern": {
              "fillmode": "overlay",
              "size": 10,
              "solidity": 0.2
             }
            },
            "type": "barpolar"
           }
          ],
          "carpet": [
           {
            "aaxis": {
             "endlinecolor": "#2a3f5f",
             "gridcolor": "white",
             "linecolor": "white",
             "minorgridcolor": "white",
             "startlinecolor": "#2a3f5f"
            },
            "baxis": {
             "endlinecolor": "#2a3f5f",
             "gridcolor": "white",
             "linecolor": "white",
             "minorgridcolor": "white",
             "startlinecolor": "#2a3f5f"
            },
            "type": "carpet"
           }
          ],
          "choropleth": [
           {
            "colorbar": {
             "outlinewidth": 0,
             "ticks": ""
            },
            "type": "choropleth"
           }
          ],
          "contour": [
           {
            "colorbar": {
             "outlinewidth": 0,
             "ticks": ""
            },
            "colorscale": [
             [
              0,
              "#0d0887"
             ],
             [
              0.1111111111111111,
              "#46039f"
             ],
             [
              0.2222222222222222,
              "#7201a8"
             ],
             [
              0.3333333333333333,
              "#9c179e"
             ],
             [
              0.4444444444444444,
              "#bd3786"
             ],
             [
              0.5555555555555556,
              "#d8576b"
             ],
             [
              0.6666666666666666,
              "#ed7953"
             ],
             [
              0.7777777777777778,
              "#fb9f3a"
             ],
             [
              0.8888888888888888,
              "#fdca26"
             ],
             [
              1,
              "#f0f921"
             ]
            ],
            "type": "contour"
           }
          ],
          "contourcarpet": [
           {
            "colorbar": {
             "outlinewidth": 0,
             "ticks": ""
            },
            "type": "contourcarpet"
           }
          ],
          "heatmap": [
           {
            "colorbar": {
             "outlinewidth": 0,
             "ticks": ""
            },
            "colorscale": [
             [
              0,
              "#0d0887"
             ],
             [
              0.1111111111111111,
              "#46039f"
             ],
             [
              0.2222222222222222,
              "#7201a8"
             ],
             [
              0.3333333333333333,
              "#9c179e"
             ],
             [
              0.4444444444444444,
              "#bd3786"
             ],
             [
              0.5555555555555556,
              "#d8576b"
             ],
             [
              0.6666666666666666,
              "#ed7953"
             ],
             [
              0.7777777777777778,
              "#fb9f3a"
             ],
             [
              0.8888888888888888,
              "#fdca26"
             ],
             [
              1,
              "#f0f921"
             ]
            ],
            "type": "heatmap"
           }
          ],
          "heatmapgl": [
           {
            "colorbar": {
             "outlinewidth": 0,
             "ticks": ""
            },
            "colorscale": [
             [
              0,
              "#0d0887"
             ],
             [
              0.1111111111111111,
              "#46039f"
             ],
             [
              0.2222222222222222,
              "#7201a8"
             ],
             [
              0.3333333333333333,
              "#9c179e"
             ],
             [
              0.4444444444444444,
              "#bd3786"
             ],
             [
              0.5555555555555556,
              "#d8576b"
             ],
             [
              0.6666666666666666,
              "#ed7953"
             ],
             [
              0.7777777777777778,
              "#fb9f3a"
             ],
             [
              0.8888888888888888,
              "#fdca26"
             ],
             [
              1,
              "#f0f921"
             ]
            ],
            "type": "heatmapgl"
           }
          ],
          "histogram": [
           {
            "marker": {
             "pattern": {
              "fillmode": "overlay",
              "size": 10,
              "solidity": 0.2
             }
            },
            "type": "histogram"
           }
          ],
          "histogram2d": [
           {
            "colorbar": {
             "outlinewidth": 0,
             "ticks": ""
            },
            "colorscale": [
             [
              0,
              "#0d0887"
             ],
             [
              0.1111111111111111,
              "#46039f"
             ],
             [
              0.2222222222222222,
              "#7201a8"
             ],
             [
              0.3333333333333333,
              "#9c179e"
             ],
             [
              0.4444444444444444,
              "#bd3786"
             ],
             [
              0.5555555555555556,
              "#d8576b"
             ],
             [
              0.6666666666666666,
              "#ed7953"
             ],
             [
              0.7777777777777778,
              "#fb9f3a"
             ],
             [
              0.8888888888888888,
              "#fdca26"
             ],
             [
              1,
              "#f0f921"
             ]
            ],
            "type": "histogram2d"
           }
          ],
          "histogram2dcontour": [
           {
            "colorbar": {
             "outlinewidth": 0,
             "ticks": ""
            },
            "colorscale": [
             [
              0,
              "#0d0887"
             ],
             [
              0.1111111111111111,
              "#46039f"
             ],
             [
              0.2222222222222222,
              "#7201a8"
             ],
             [
              0.3333333333333333,
              "#9c179e"
             ],
             [
              0.4444444444444444,
              "#bd3786"
             ],
             [
              0.5555555555555556,
              "#d8576b"
             ],
             [
              0.6666666666666666,
              "#ed7953"
             ],
             [
              0.7777777777777778,
              "#fb9f3a"
             ],
             [
              0.8888888888888888,
              "#fdca26"
             ],
             [
              1,
              "#f0f921"
             ]
            ],
            "type": "histogram2dcontour"
           }
          ],
          "mesh3d": [
           {
            "colorbar": {
             "outlinewidth": 0,
             "ticks": ""
            },
            "type": "mesh3d"
           }
          ],
          "parcoords": [
           {
            "line": {
             "colorbar": {
              "outlinewidth": 0,
              "ticks": ""
             }
            },
            "type": "parcoords"
           }
          ],
          "pie": [
           {
            "automargin": true,
            "type": "pie"
           }
          ],
          "scatter": [
           {
            "marker": {
             "colorbar": {
              "outlinewidth": 0,
              "ticks": ""
             }
            },
            "type": "scatter"
           }
          ],
          "scatter3d": [
           {
            "line": {
             "colorbar": {
              "outlinewidth": 0,
              "ticks": ""
             }
            },
            "marker": {
             "colorbar": {
              "outlinewidth": 0,
              "ticks": ""
             }
            },
            "type": "scatter3d"
           }
          ],
          "scattercarpet": [
           {
            "marker": {
             "colorbar": {
              "outlinewidth": 0,
              "ticks": ""
             }
            },
            "type": "scattercarpet"
           }
          ],
          "scattergeo": [
           {
            "marker": {
             "colorbar": {
              "outlinewidth": 0,
              "ticks": ""
             }
            },
            "type": "scattergeo"
           }
          ],
          "scattergl": [
           {
            "marker": {
             "colorbar": {
              "outlinewidth": 0,
              "ticks": ""
             }
            },
            "type": "scattergl"
           }
          ],
          "scattermapbox": [
           {
            "marker": {
             "colorbar": {
              "outlinewidth": 0,
              "ticks": ""
             }
            },
            "type": "scattermapbox"
           }
          ],
          "scatterpolar": [
           {
            "marker": {
             "colorbar": {
              "outlinewidth": 0,
              "ticks": ""
             }
            },
            "type": "scatterpolar"
           }
          ],
          "scatterpolargl": [
           {
            "marker": {
             "colorbar": {
              "outlinewidth": 0,
              "ticks": ""
             }
            },
            "type": "scatterpolargl"
           }
          ],
          "scatterternary": [
           {
            "marker": {
             "colorbar": {
              "outlinewidth": 0,
              "ticks": ""
             }
            },
            "type": "scatterternary"
           }
          ],
          "surface": [
           {
            "colorbar": {
             "outlinewidth": 0,
             "ticks": ""
            },
            "colorscale": [
             [
              0,
              "#0d0887"
             ],
             [
              0.1111111111111111,
              "#46039f"
             ],
             [
              0.2222222222222222,
              "#7201a8"
             ],
             [
              0.3333333333333333,
              "#9c179e"
             ],
             [
              0.4444444444444444,
              "#bd3786"
             ],
             [
              0.5555555555555556,
              "#d8576b"
             ],
             [
              0.6666666666666666,
              "#ed7953"
             ],
             [
              0.7777777777777778,
              "#fb9f3a"
             ],
             [
              0.8888888888888888,
              "#fdca26"
             ],
             [
              1,
              "#f0f921"
             ]
            ],
            "type": "surface"
           }
          ],
          "table": [
           {
            "cells": {
             "fill": {
              "color": "#EBF0F8"
             },
             "line": {
              "color": "white"
             }
            },
            "header": {
             "fill": {
              "color": "#C8D4E3"
             },
             "line": {
              "color": "white"
             }
            },
            "type": "table"
           }
          ]
         },
         "layout": {
          "annotationdefaults": {
           "arrowcolor": "#2a3f5f",
           "arrowhead": 0,
           "arrowwidth": 1
          },
          "autotypenumbers": "strict",
          "coloraxis": {
           "colorbar": {
            "outlinewidth": 0,
            "ticks": ""
           }
          },
          "colorscale": {
           "diverging": [
            [
             0,
             "#8e0152"
            ],
            [
             0.1,
             "#c51b7d"
            ],
            [
             0.2,
             "#de77ae"
            ],
            [
             0.3,
             "#f1b6da"
            ],
            [
             0.4,
             "#fde0ef"
            ],
            [
             0.5,
             "#f7f7f7"
            ],
            [
             0.6,
             "#e6f5d0"
            ],
            [
             0.7,
             "#b8e186"
            ],
            [
             0.8,
             "#7fbc41"
            ],
            [
             0.9,
             "#4d9221"
            ],
            [
             1,
             "#276419"
            ]
           ],
           "sequential": [
            [
             0,
             "#0d0887"
            ],
            [
             0.1111111111111111,
             "#46039f"
            ],
            [
             0.2222222222222222,
             "#7201a8"
            ],
            [
             0.3333333333333333,
             "#9c179e"
            ],
            [
             0.4444444444444444,
             "#bd3786"
            ],
            [
             0.5555555555555556,
             "#d8576b"
            ],
            [
             0.6666666666666666,
             "#ed7953"
            ],
            [
             0.7777777777777778,
             "#fb9f3a"
            ],
            [
             0.8888888888888888,
             "#fdca26"
            ],
            [
             1,
             "#f0f921"
            ]
           ],
           "sequentialminus": [
            [
             0,
             "#0d0887"
            ],
            [
             0.1111111111111111,
             "#46039f"
            ],
            [
             0.2222222222222222,
             "#7201a8"
            ],
            [
             0.3333333333333333,
             "#9c179e"
            ],
            [
             0.4444444444444444,
             "#bd3786"
            ],
            [
             0.5555555555555556,
             "#d8576b"
            ],
            [
             0.6666666666666666,
             "#ed7953"
            ],
            [
             0.7777777777777778,
             "#fb9f3a"
            ],
            [
             0.8888888888888888,
             "#fdca26"
            ],
            [
             1,
             "#f0f921"
            ]
           ]
          },
          "colorway": [
           "#636efa",
           "#EF553B",
           "#00cc96",
           "#ab63fa",
           "#FFA15A",
           "#19d3f3",
           "#FF6692",
           "#B6E880",
           "#FF97FF",
           "#FECB52"
          ],
          "font": {
           "color": "#2a3f5f"
          },
          "geo": {
           "bgcolor": "white",
           "lakecolor": "white",
           "landcolor": "#E5ECF6",
           "showlakes": true,
           "showland": true,
           "subunitcolor": "white"
          },
          "hoverlabel": {
           "align": "left"
          },
          "hovermode": "closest",
          "mapbox": {
           "style": "light"
          },
          "paper_bgcolor": "white",
          "plot_bgcolor": "#E5ECF6",
          "polar": {
           "angularaxis": {
            "gridcolor": "white",
            "linecolor": "white",
            "ticks": ""
           },
           "bgcolor": "#E5ECF6",
           "radialaxis": {
            "gridcolor": "white",
            "linecolor": "white",
            "ticks": ""
           }
          },
          "scene": {
           "xaxis": {
            "backgroundcolor": "#E5ECF6",
            "gridcolor": "white",
            "gridwidth": 2,
            "linecolor": "white",
            "showbackground": true,
            "ticks": "",
            "zerolinecolor": "white"
           },
           "yaxis": {
            "backgroundcolor": "#E5ECF6",
            "gridcolor": "white",
            "gridwidth": 2,
            "linecolor": "white",
            "showbackground": true,
            "ticks": "",
            "zerolinecolor": "white"
           },
           "zaxis": {
            "backgroundcolor": "#E5ECF6",
            "gridcolor": "white",
            "gridwidth": 2,
            "linecolor": "white",
            "showbackground": true,
            "ticks": "",
            "zerolinecolor": "white"
           }
          },
          "shapedefaults": {
           "line": {
            "color": "#2a3f5f"
           }
          },
          "ternary": {
           "aaxis": {
            "gridcolor": "white",
            "linecolor": "white",
            "ticks": ""
           },
           "baxis": {
            "gridcolor": "white",
            "linecolor": "white",
            "ticks": ""
           },
           "bgcolor": "#E5ECF6",
           "caxis": {
            "gridcolor": "white",
            "linecolor": "white",
            "ticks": ""
           }
          },
          "title": {
           "x": 0.05
          },
          "xaxis": {
           "automargin": true,
           "gridcolor": "white",
           "linecolor": "white",
           "ticks": "",
           "title": {
            "standoff": 15
           },
           "zerolinecolor": "white",
           "zerolinewidth": 2
          },
          "yaxis": {
           "automargin": true,
           "gridcolor": "white",
           "linecolor": "white",
           "ticks": "",
           "title": {
            "standoff": 15
           },
           "zerolinecolor": "white",
           "zerolinewidth": 2
          }
         }
        },
        "title": {
         "text": "Histogram for Target Variable Model Preference: asia"
        },
        "xaxis": {
         "anchor": "y",
         "domain": [
          0,
          1
         ],
         "nticks": 20,
         "title": {
          "text": "Nodes"
         }
        },
        "yaxis": {
         "anchor": "x",
         "domain": [
          0,
          1
         ],
         "title": {
          "text": "Count"
         }
        }
       }
      },
      "text/html": [
       "<div>                            <div id=\"603f711d-2782-484b-b298-52fcf83b0868\" class=\"plotly-graph-div\" style=\"height:525px; width:100%;\"></div>            <script type=\"text/javascript\">                require([\"plotly\"], function(Plotly) {                    window.PLOTLYENV=window.PLOTLYENV || {};                                    if (document.getElementById(\"603f711d-2782-484b-b298-52fcf83b0868\")) {                    Plotly.newPlot(                        \"603f711d-2782-484b-b298-52fcf83b0868\",                        [{\"alignmentgroup\":\"True\",\"bingroup\":\"x\",\"hovertemplate\":\"Model_name=asia_ccdr<br>Target=%{x}<br>count=%{y}<extra></extra>\",\"legendgroup\":\"asia_ccdr\",\"marker\":{\"color\":\"#636efa\",\"pattern\":{\"shape\":\"\"}},\"name\":\"asia_ccdr\",\"offsetgroup\":\"asia_ccdr\",\"orientation\":\"v\",\"showlegend\":true,\"x\":[5,3,5,2,2,6,5,0,7,0,4,0,6,0,7,5,4,0,0,4,5,7,0,7,2,6,4,5,0,5,4,6,6,0,2,6,3,4,0,2,7,4,5,2,4,3,0,5,5,3,0,6,5,0,4,6,5,5,2,5,6,5,2,5,5,2,4,0,2,4,0,7,0,0,5,4,5,2,0,3,7,3,0,5,0,3,3,3,2,2,2,3,5,5,0,3,0,3,4,0,3,4,5,2,7,6,6,7,7,0,7,3,2,2,5,5,6,4,4,6,5,6,7,6,5,6,3,4,0,6],\"xaxis\":\"x\",\"yaxis\":\"y\",\"type\":\"histogram\"},{\"alignmentgroup\":\"True\",\"bingroup\":\"x\",\"hovertemplate\":\"Model_name=asia_nobears<br>Target=%{x}<br>count=%{y}<extra></extra>\",\"legendgroup\":\"asia_nobears\",\"marker\":{\"color\":\"#EF553B\",\"pattern\":{\"shape\":\"\"}},\"name\":\"asia_nobears\",\"offsetgroup\":\"asia_nobears\",\"orientation\":\"v\",\"showlegend\":true,\"x\":[1,7,1,0,1,2,2,7,4,6,6,1,7,1,4,2,0,3,3,6,7,7,7,6,3,6,7,4,0,2,4,3,6,1,0,2,7,1,0,3,2,2,2,1,4,2,2,4,2,2,7,1,7,2,7,3,0,2,2,0,0,0,3,7,0,2,7,7,6,3,1,3,4,7,1,3,2,4,1,1,2,1,6,1,3,6,2,3,3,2,1,7,4,3,2,6,1,1,3,3,2,1,7,2,6,6,3,1,7,7,1,1,3,6,0,3,1,1,1,6,3,1,3,6,0,7,7,3,3,6,1,0,1,2,1,7,2,6,1,6,0,2,1,7,4,1,6,6,7,3,2,7,2,1,1,7,0,0,2,1,0,4,6,4,1,2,4,1,2,1,6,1,4,2,1,2,4,3,7,3,0,2],\"xaxis\":\"x\",\"yaxis\":\"y\",\"type\":\"histogram\"},{\"alignmentgroup\":\"True\",\"bingroup\":\"x\",\"hovertemplate\":\"Model_name=asia_lingam<br>Target=%{x}<br>count=%{y}<extra></extra>\",\"legendgroup\":\"asia_lingam\",\"marker\":{\"color\":\"#00cc96\",\"pattern\":{\"shape\":\"\"}},\"name\":\"asia_lingam\",\"offsetgroup\":\"asia_lingam\",\"orientation\":\"v\",\"showlegend\":true,\"x\":[0,7,0,0,7,7,7,6],\"xaxis\":\"x\",\"yaxis\":\"y\",\"type\":\"histogram\"},{\"alignmentgroup\":\"True\",\"bingroup\":\"x\",\"hovertemplate\":\"Model_name=asia_notears<br>Target=%{x}<br>count=%{y}<extra></extra>\",\"legendgroup\":\"asia_notears\",\"marker\":{\"color\":\"#ab63fa\",\"pattern\":{\"shape\":\"\"}},\"name\":\"asia_notears\",\"offsetgroup\":\"asia_notears\",\"orientation\":\"v\",\"showlegend\":true,\"x\":[5,4,4,5,5,5,4,5,4,5,7,5,4,4,5,7,5,4,4,5,4,5,5,4,4,5,5,5,4,5,5],\"xaxis\":\"x\",\"yaxis\":\"y\",\"type\":\"histogram\"}],                        {\"template\":{\"data\":{\"bar\":[{\"error_x\":{\"color\":\"#2a3f5f\"},\"error_y\":{\"color\":\"#2a3f5f\"},\"marker\":{\"line\":{\"color\":\"#E5ECF6\",\"width\":0.5},\"pattern\":{\"fillmode\":\"overlay\",\"size\":10,\"solidity\":0.2}},\"type\":\"bar\"}],\"barpolar\":[{\"marker\":{\"line\":{\"color\":\"#E5ECF6\",\"width\":0.5},\"pattern\":{\"fillmode\":\"overlay\",\"size\":10,\"solidity\":0.2}},\"type\":\"barpolar\"}],\"carpet\":[{\"aaxis\":{\"endlinecolor\":\"#2a3f5f\",\"gridcolor\":\"white\",\"linecolor\":\"white\",\"minorgridcolor\":\"white\",\"startlinecolor\":\"#2a3f5f\"},\"baxis\":{\"endlinecolor\":\"#2a3f5f\",\"gridcolor\":\"white\",\"linecolor\":\"white\",\"minorgridcolor\":\"white\",\"startlinecolor\":\"#2a3f5f\"},\"type\":\"carpet\"}],\"choropleth\":[{\"colorbar\":{\"outlinewidth\":0,\"ticks\":\"\"},\"type\":\"choropleth\"}],\"contour\":[{\"colorbar\":{\"outlinewidth\":0,\"ticks\":\"\"},\"colorscale\":[[0.0,\"#0d0887\"],[0.1111111111111111,\"#46039f\"],[0.2222222222222222,\"#7201a8\"],[0.3333333333333333,\"#9c179e\"],[0.4444444444444444,\"#bd3786\"],[0.5555555555555556,\"#d8576b\"],[0.6666666666666666,\"#ed7953\"],[0.7777777777777778,\"#fb9f3a\"],[0.8888888888888888,\"#fdca26\"],[1.0,\"#f0f921\"]],\"type\":\"contour\"}],\"contourcarpet\":[{\"colorbar\":{\"outlinewidth\":0,\"ticks\":\"\"},\"type\":\"contourcarpet\"}],\"heatmap\":[{\"colorbar\":{\"outlinewidth\":0,\"ticks\":\"\"},\"colorscale\":[[0.0,\"#0d0887\"],[0.1111111111111111,\"#46039f\"],[0.2222222222222222,\"#7201a8\"],[0.3333333333333333,\"#9c179e\"],[0.4444444444444444,\"#bd3786\"],[0.5555555555555556,\"#d8576b\"],[0.6666666666666666,\"#ed7953\"],[0.7777777777777778,\"#fb9f3a\"],[0.8888888888888888,\"#fdca26\"],[1.0,\"#f0f921\"]],\"type\":\"heatmap\"}],\"heatmapgl\":[{\"colorbar\":{\"outlinewidth\":0,\"ticks\":\"\"},\"colorscale\":[[0.0,\"#0d0887\"],[0.1111111111111111,\"#46039f\"],[0.2222222222222222,\"#7201a8\"],[0.3333333333333333,\"#9c179e\"],[0.4444444444444444,\"#bd3786\"],[0.5555555555555556,\"#d8576b\"],[0.6666666666666666,\"#ed7953\"],[0.7777777777777778,\"#fb9f3a\"],[0.8888888888888888,\"#fdca26\"],[1.0,\"#f0f921\"]],\"type\":\"heatmapgl\"}],\"histogram\":[{\"marker\":{\"pattern\":{\"fillmode\":\"overlay\",\"size\":10,\"solidity\":0.2}},\"type\":\"histogram\"}],\"histogram2d\":[{\"colorbar\":{\"outlinewidth\":0,\"ticks\":\"\"},\"colorscale\":[[0.0,\"#0d0887\"],[0.1111111111111111,\"#46039f\"],[0.2222222222222222,\"#7201a8\"],[0.3333333333333333,\"#9c179e\"],[0.4444444444444444,\"#bd3786\"],[0.5555555555555556,\"#d8576b\"],[0.6666666666666666,\"#ed7953\"],[0.7777777777777778,\"#fb9f3a\"],[0.8888888888888888,\"#fdca26\"],[1.0,\"#f0f921\"]],\"type\":\"histogram2d\"}],\"histogram2dcontour\":[{\"colorbar\":{\"outlinewidth\":0,\"ticks\":\"\"},\"colorscale\":[[0.0,\"#0d0887\"],[0.1111111111111111,\"#46039f\"],[0.2222222222222222,\"#7201a8\"],[0.3333333333333333,\"#9c179e\"],[0.4444444444444444,\"#bd3786\"],[0.5555555555555556,\"#d8576b\"],[0.6666666666666666,\"#ed7953\"],[0.7777777777777778,\"#fb9f3a\"],[0.8888888888888888,\"#fdca26\"],[1.0,\"#f0f921\"]],\"type\":\"histogram2dcontour\"}],\"mesh3d\":[{\"colorbar\":{\"outlinewidth\":0,\"ticks\":\"\"},\"type\":\"mesh3d\"}],\"parcoords\":[{\"line\":{\"colorbar\":{\"outlinewidth\":0,\"ticks\":\"\"}},\"type\":\"parcoords\"}],\"pie\":[{\"automargin\":true,\"type\":\"pie\"}],\"scatter\":[{\"marker\":{\"colorbar\":{\"outlinewidth\":0,\"ticks\":\"\"}},\"type\":\"scatter\"}],\"scatter3d\":[{\"line\":{\"colorbar\":{\"outlinewidth\":0,\"ticks\":\"\"}},\"marker\":{\"colorbar\":{\"outlinewidth\":0,\"ticks\":\"\"}},\"type\":\"scatter3d\"}],\"scattercarpet\":[{\"marker\":{\"colorbar\":{\"outlinewidth\":0,\"ticks\":\"\"}},\"type\":\"scattercarpet\"}],\"scattergeo\":[{\"marker\":{\"colorbar\":{\"outlinewidth\":0,\"ticks\":\"\"}},\"type\":\"scattergeo\"}],\"scattergl\":[{\"marker\":{\"colorbar\":{\"outlinewidth\":0,\"ticks\":\"\"}},\"type\":\"scattergl\"}],\"scattermapbox\":[{\"marker\":{\"colorbar\":{\"outlinewidth\":0,\"ticks\":\"\"}},\"type\":\"scattermapbox\"}],\"scatterpolar\":[{\"marker\":{\"colorbar\":{\"outlinewidth\":0,\"ticks\":\"\"}},\"type\":\"scatterpolar\"}],\"scatterpolargl\":[{\"marker\":{\"colorbar\":{\"outlinewidth\":0,\"ticks\":\"\"}},\"type\":\"scatterpolargl\"}],\"scatterternary\":[{\"marker\":{\"colorbar\":{\"outlinewidth\":0,\"ticks\":\"\"}},\"type\":\"scatterternary\"}],\"surface\":[{\"colorbar\":{\"outlinewidth\":0,\"ticks\":\"\"},\"colorscale\":[[0.0,\"#0d0887\"],[0.1111111111111111,\"#46039f\"],[0.2222222222222222,\"#7201a8\"],[0.3333333333333333,\"#9c179e\"],[0.4444444444444444,\"#bd3786\"],[0.5555555555555556,\"#d8576b\"],[0.6666666666666666,\"#ed7953\"],[0.7777777777777778,\"#fb9f3a\"],[0.8888888888888888,\"#fdca26\"],[1.0,\"#f0f921\"]],\"type\":\"surface\"}],\"table\":[{\"cells\":{\"fill\":{\"color\":\"#EBF0F8\"},\"line\":{\"color\":\"white\"}},\"header\":{\"fill\":{\"color\":\"#C8D4E3\"},\"line\":{\"color\":\"white\"}},\"type\":\"table\"}]},\"layout\":{\"annotationdefaults\":{\"arrowcolor\":\"#2a3f5f\",\"arrowhead\":0,\"arrowwidth\":1},\"autotypenumbers\":\"strict\",\"coloraxis\":{\"colorbar\":{\"outlinewidth\":0,\"ticks\":\"\"}},\"colorscale\":{\"diverging\":[[0,\"#8e0152\"],[0.1,\"#c51b7d\"],[0.2,\"#de77ae\"],[0.3,\"#f1b6da\"],[0.4,\"#fde0ef\"],[0.5,\"#f7f7f7\"],[0.6,\"#e6f5d0\"],[0.7,\"#b8e186\"],[0.8,\"#7fbc41\"],[0.9,\"#4d9221\"],[1,\"#276419\"]],\"sequential\":[[0.0,\"#0d0887\"],[0.1111111111111111,\"#46039f\"],[0.2222222222222222,\"#7201a8\"],[0.3333333333333333,\"#9c179e\"],[0.4444444444444444,\"#bd3786\"],[0.5555555555555556,\"#d8576b\"],[0.6666666666666666,\"#ed7953\"],[0.7777777777777778,\"#fb9f3a\"],[0.8888888888888888,\"#fdca26\"],[1.0,\"#f0f921\"]],\"sequentialminus\":[[0.0,\"#0d0887\"],[0.1111111111111111,\"#46039f\"],[0.2222222222222222,\"#7201a8\"],[0.3333333333333333,\"#9c179e\"],[0.4444444444444444,\"#bd3786\"],[0.5555555555555556,\"#d8576b\"],[0.6666666666666666,\"#ed7953\"],[0.7777777777777778,\"#fb9f3a\"],[0.8888888888888888,\"#fdca26\"],[1.0,\"#f0f921\"]]},\"colorway\":[\"#636efa\",\"#EF553B\",\"#00cc96\",\"#ab63fa\",\"#FFA15A\",\"#19d3f3\",\"#FF6692\",\"#B6E880\",\"#FF97FF\",\"#FECB52\"],\"font\":{\"color\":\"#2a3f5f\"},\"geo\":{\"bgcolor\":\"white\",\"lakecolor\":\"white\",\"landcolor\":\"#E5ECF6\",\"showlakes\":true,\"showland\":true,\"subunitcolor\":\"white\"},\"hoverlabel\":{\"align\":\"left\"},\"hovermode\":\"closest\",\"mapbox\":{\"style\":\"light\"},\"paper_bgcolor\":\"white\",\"plot_bgcolor\":\"#E5ECF6\",\"polar\":{\"angularaxis\":{\"gridcolor\":\"white\",\"linecolor\":\"white\",\"ticks\":\"\"},\"bgcolor\":\"#E5ECF6\",\"radialaxis\":{\"gridcolor\":\"white\",\"linecolor\":\"white\",\"ticks\":\"\"}},\"scene\":{\"xaxis\":{\"backgroundcolor\":\"#E5ECF6\",\"gridcolor\":\"white\",\"gridwidth\":2,\"linecolor\":\"white\",\"showbackground\":true,\"ticks\":\"\",\"zerolinecolor\":\"white\"},\"yaxis\":{\"backgroundcolor\":\"#E5ECF6\",\"gridcolor\":\"white\",\"gridwidth\":2,\"linecolor\":\"white\",\"showbackground\":true,\"ticks\":\"\",\"zerolinecolor\":\"white\"},\"zaxis\":{\"backgroundcolor\":\"#E5ECF6\",\"gridcolor\":\"white\",\"gridwidth\":2,\"linecolor\":\"white\",\"showbackground\":true,\"ticks\":\"\",\"zerolinecolor\":\"white\"}},\"shapedefaults\":{\"line\":{\"color\":\"#2a3f5f\"}},\"ternary\":{\"aaxis\":{\"gridcolor\":\"white\",\"linecolor\":\"white\",\"ticks\":\"\"},\"baxis\":{\"gridcolor\":\"white\",\"linecolor\":\"white\",\"ticks\":\"\"},\"bgcolor\":\"#E5ECF6\",\"caxis\":{\"gridcolor\":\"white\",\"linecolor\":\"white\",\"ticks\":\"\"}},\"title\":{\"x\":0.05},\"xaxis\":{\"automargin\":true,\"gridcolor\":\"white\",\"linecolor\":\"white\",\"ticks\":\"\",\"title\":{\"standoff\":15},\"zerolinecolor\":\"white\",\"zerolinewidth\":2},\"yaxis\":{\"automargin\":true,\"gridcolor\":\"white\",\"linecolor\":\"white\",\"ticks\":\"\",\"title\":{\"standoff\":15},\"zerolinecolor\":\"white\",\"zerolinewidth\":2}}},\"xaxis\":{\"anchor\":\"y\",\"domain\":[0.0,1.0],\"title\":{\"text\":\"Nodes\"},\"nticks\":20},\"yaxis\":{\"anchor\":\"x\",\"domain\":[0.0,1.0],\"title\":{\"text\":\"Count\"}},\"legend\":{\"title\":{\"text\":\"Model_name\"},\"tracegroupgap\":0},\"margin\":{\"t\":60},\"barmode\":\"group\",\"title\":{\"text\":\"Histogram for Target Variable Model Preference: asia\"}},                        {\"responsive\": true}                    ).then(function(){\n",
       "                            \n",
       "var gd = document.getElementById('603f711d-2782-484b-b298-52fcf83b0868');\n",
       "var x = new MutationObserver(function (mutations, observer) {{\n",
       "        var display = window.getComputedStyle(gd).display;\n",
       "        if (!display || display === 'none') {{\n",
       "            console.log([gd, 'removed!']);\n",
       "            Plotly.purge(gd);\n",
       "            observer.disconnect();\n",
       "        }}\n",
       "}});\n",
       "\n",
       "// Listen for the removal of the full notebook cells\n",
       "var notebookContainer = gd.closest('#notebook-container');\n",
       "if (notebookContainer) {{\n",
       "    x.observe(notebookContainer, {childList: true});\n",
       "}}\n",
       "\n",
       "// Listen for the clearing of the current output cell\n",
       "var outputEl = gd.closest('.output');\n",
       "if (outputEl) {{\n",
       "    x.observe(outputEl, {childList: true});\n",
       "}}\n",
       "\n",
       "                        })                };                });            </script>        </div>"
      ]
     },
     "metadata": {},
     "output_type": "display_data"
    }
   ],
   "source": [
    "#Target Var vs Frequency\n",
    "fig = px.histogram(df, x=\"Target\", color='Model_name', barmode='group')\n",
    "fig.update_layout(\n",
    "    title_text=f'Histogram for Target Variable Model Preference: {dataset_name}', # title of plot\n",
    "    xaxis_title_text='Nodes', # xaxis label\n",
    "    yaxis_title_text='Count', # yaxis label\n",
    ")\n",
    "fig.update_xaxes(nticks=20)\n",
    "\n",
    "fig.show()"
   ]
  },
  {
   "cell_type": "code",
   "execution_count": 86,
   "id": "e214e837",
   "metadata": {},
   "outputs": [
    {
     "data": {
      "application/vnd.plotly.v1+json": {
       "config": {
        "plotlyServerURL": "https://plot.ly"
       },
       "data": [
        {
         "alignmentgroup": "True",
         "bingroup": "x",
         "hovertemplate": "Model_name=sachs_lingam<br>Evidence=%{x}<br>count=%{y}<extra></extra>",
         "legendgroup": "sachs_lingam",
         "marker": {
          "color": "#636efa",
          "pattern": {
           "shape": ""
          }
         },
         "name": "sachs_lingam",
         "offsetgroup": "sachs_lingam",
         "orientation": "v",
         "showlegend": true,
         "type": "histogram",
         "x": [
          7,
          10,
          0,
          8,
          3,
          0,
          1,
          5,
          0,
          6,
          2,
          5,
          5,
          7,
          8,
          5,
          8,
          4,
          1,
          6,
          10,
          6,
          8,
          3,
          6,
          4,
          7,
          0,
          8,
          8,
          5,
          7,
          4,
          5,
          4,
          5,
          8,
          3,
          8,
          7,
          5,
          1,
          8,
          4,
          2,
          1,
          8,
          7,
          8,
          0,
          9,
          1,
          4,
          7,
          4,
          6,
          4,
          1,
          3,
          2,
          5,
          3,
          4,
          0,
          4,
          6,
          10,
          1,
          8,
          5,
          10,
          9,
          0,
          5,
          2
         ],
         "xaxis": "x",
         "yaxis": "y"
        },
        {
         "alignmentgroup": "True",
         "bingroup": "x",
         "hovertemplate": "Model_name=sachs_ccdr<br>Evidence=%{x}<br>count=%{y}<extra></extra>",
         "legendgroup": "sachs_ccdr",
         "marker": {
          "color": "#EF553B",
          "pattern": {
           "shape": ""
          }
         },
         "name": "sachs_ccdr",
         "offsetgroup": "sachs_ccdr",
         "orientation": "v",
         "showlegend": true,
         "type": "histogram",
         "x": [
          1,
          1,
          9,
          7,
          3,
          9,
          8,
          4,
          9,
          7,
          5,
          4,
          3,
          6,
          2,
          9,
          6,
          9,
          5,
          8,
          9,
          1,
          6,
          9,
          3,
          6,
          6,
          7,
          3,
          7,
          2,
          4,
          9,
          6,
          2,
          0,
          6,
          7,
          2,
          9,
          1,
          1,
          8,
          2,
          4,
          2,
          10,
          7,
          1,
          3,
          0,
          7,
          7,
          4,
          6,
          6,
          2,
          8,
          5,
          6,
          10,
          7,
          6,
          6,
          8,
          6,
          5,
          0,
          1,
          10,
          8,
          10,
          8,
          3,
          10,
          6,
          2,
          7,
          8,
          5,
          7,
          3,
          3,
          8,
          9,
          1,
          9,
          9,
          5,
          2,
          4,
          8,
          10,
          0,
          10,
          0,
          4,
          4,
          9,
          0,
          9,
          1,
          6,
          5,
          10,
          8,
          4,
          8,
          9,
          0,
          7,
          4,
          1,
          8,
          7,
          8,
          10,
          1,
          4,
          2,
          5,
          6,
          5,
          9,
          10,
          6,
          0,
          3,
          8,
          5,
          2,
          8,
          10,
          10,
          8,
          6,
          0,
          2,
          10,
          8,
          9,
          8,
          9,
          7,
          5,
          6,
          3,
          4,
          7,
          3,
          8,
          0,
          5,
          9,
          6,
          3,
          2,
          6,
          0,
          5,
          0,
          4,
          2,
          1,
          0,
          4,
          0,
          8,
          2,
          5,
          6,
          2,
          2,
          6,
          5,
          10,
          4,
          3,
          10,
          8,
          2,
          4,
          6,
          3,
          7,
          10,
          6,
          7,
          7,
          7,
          0,
          10,
          5,
          7,
          4,
          2,
          1,
          2,
          4,
          2,
          2,
          7,
          7,
          4,
          5,
          3,
          9,
          10,
          9,
          10,
          8,
          2,
          1,
          5,
          3,
          10,
          5,
          2,
          10,
          5,
          10,
          9,
          10,
          6,
          10,
          6,
          1,
          4,
          0,
          6,
          4,
          9,
          7,
          8,
          1,
          2,
          3,
          3,
          9,
          6,
          5,
          9,
          7,
          0,
          6,
          4,
          0,
          2,
          5
         ],
         "xaxis": "x",
         "yaxis": "y"
        },
        {
         "alignmentgroup": "True",
         "bingroup": "x",
         "hovertemplate": "Model_name=sachs_notears<br>Evidence=%{x}<br>count=%{y}<extra></extra>",
         "legendgroup": "sachs_notears",
         "marker": {
          "color": "#00cc96",
          "pattern": {
           "shape": ""
          }
         },
         "name": "sachs_notears",
         "offsetgroup": "sachs_notears",
         "orientation": "v",
         "showlegend": true,
         "type": "histogram",
         "x": [
          2,
          8,
          4,
          4,
          8,
          3,
          4,
          6,
          4,
          6,
          5,
          6,
          7,
          4,
          9,
          8,
          0,
          10,
          4,
          0,
          9,
          7,
          2,
          5,
          10,
          6,
          10,
          3,
          1,
          4,
          10,
          5,
          10,
          0,
          6,
          0,
          7,
          6,
          9,
          1,
          7,
          7,
          3,
          4,
          1,
          5,
          0,
          7,
          0,
          5,
          5,
          6,
          10,
          4,
          0,
          1,
          8,
          1,
          2,
          3,
          8,
          0,
          2,
          7,
          1,
          10,
          0,
          9,
          6,
          1,
          5,
          2,
          4,
          2,
          2,
          0,
          4,
          10,
          7,
          1,
          1,
          8,
          5,
          6,
          1,
          3
         ],
         "xaxis": "x",
         "yaxis": "y"
        },
        {
         "alignmentgroup": "True",
         "bingroup": "x",
         "hovertemplate": "Model_name=sachs_dagGNN<br>Evidence=%{x}<br>count=%{y}<extra></extra>",
         "legendgroup": "sachs_dagGNN",
         "marker": {
          "color": "#ab63fa",
          "pattern": {
           "shape": ""
          }
         },
         "name": "sachs_dagGNN",
         "offsetgroup": "sachs_dagGNN",
         "orientation": "v",
         "showlegend": true,
         "type": "histogram",
         "x": [
          3,
          4,
          3,
          0,
          0,
          0,
          10,
          9,
          2,
          2,
          2,
          2,
          8,
          0,
          3,
          3,
          6,
          3,
          3,
          3,
          8,
          10,
          10,
          0,
          0,
          1,
          0,
          5,
          3,
          5,
          5,
          1,
          2,
          5,
          9,
          5,
          0,
          10,
          0,
          6,
          5,
          10,
          8,
          3,
          9,
          8,
          9,
          3,
          0,
          3,
          9,
          9,
          0,
          8,
          0,
          9,
          6,
          6,
          4,
          6,
          8
         ],
         "xaxis": "x",
         "yaxis": "y"
        }
       ],
       "layout": {
        "barmode": "group",
        "legend": {
         "title": {
          "text": "Model_name"
         },
         "tracegroupgap": 0
        },
        "margin": {
         "t": 60
        },
        "template": {
         "data": {
          "bar": [
           {
            "error_x": {
             "color": "#2a3f5f"
            },
            "error_y": {
             "color": "#2a3f5f"
            },
            "marker": {
             "line": {
              "color": "#E5ECF6",
              "width": 0.5
             },
             "pattern": {
              "fillmode": "overlay",
              "size": 10,
              "solidity": 0.2
             }
            },
            "type": "bar"
           }
          ],
          "barpolar": [
           {
            "marker": {
             "line": {
              "color": "#E5ECF6",
              "width": 0.5
             },
             "pattern": {
              "fillmode": "overlay",
              "size": 10,
              "solidity": 0.2
             }
            },
            "type": "barpolar"
           }
          ],
          "carpet": [
           {
            "aaxis": {
             "endlinecolor": "#2a3f5f",
             "gridcolor": "white",
             "linecolor": "white",
             "minorgridcolor": "white",
             "startlinecolor": "#2a3f5f"
            },
            "baxis": {
             "endlinecolor": "#2a3f5f",
             "gridcolor": "white",
             "linecolor": "white",
             "minorgridcolor": "white",
             "startlinecolor": "#2a3f5f"
            },
            "type": "carpet"
           }
          ],
          "choropleth": [
           {
            "colorbar": {
             "outlinewidth": 0,
             "ticks": ""
            },
            "type": "choropleth"
           }
          ],
          "contour": [
           {
            "colorbar": {
             "outlinewidth": 0,
             "ticks": ""
            },
            "colorscale": [
             [
              0,
              "#0d0887"
             ],
             [
              0.1111111111111111,
              "#46039f"
             ],
             [
              0.2222222222222222,
              "#7201a8"
             ],
             [
              0.3333333333333333,
              "#9c179e"
             ],
             [
              0.4444444444444444,
              "#bd3786"
             ],
             [
              0.5555555555555556,
              "#d8576b"
             ],
             [
              0.6666666666666666,
              "#ed7953"
             ],
             [
              0.7777777777777778,
              "#fb9f3a"
             ],
             [
              0.8888888888888888,
              "#fdca26"
             ],
             [
              1,
              "#f0f921"
             ]
            ],
            "type": "contour"
           }
          ],
          "contourcarpet": [
           {
            "colorbar": {
             "outlinewidth": 0,
             "ticks": ""
            },
            "type": "contourcarpet"
           }
          ],
          "heatmap": [
           {
            "colorbar": {
             "outlinewidth": 0,
             "ticks": ""
            },
            "colorscale": [
             [
              0,
              "#0d0887"
             ],
             [
              0.1111111111111111,
              "#46039f"
             ],
             [
              0.2222222222222222,
              "#7201a8"
             ],
             [
              0.3333333333333333,
              "#9c179e"
             ],
             [
              0.4444444444444444,
              "#bd3786"
             ],
             [
              0.5555555555555556,
              "#d8576b"
             ],
             [
              0.6666666666666666,
              "#ed7953"
             ],
             [
              0.7777777777777778,
              "#fb9f3a"
             ],
             [
              0.8888888888888888,
              "#fdca26"
             ],
             [
              1,
              "#f0f921"
             ]
            ],
            "type": "heatmap"
           }
          ],
          "heatmapgl": [
           {
            "colorbar": {
             "outlinewidth": 0,
             "ticks": ""
            },
            "colorscale": [
             [
              0,
              "#0d0887"
             ],
             [
              0.1111111111111111,
              "#46039f"
             ],
             [
              0.2222222222222222,
              "#7201a8"
             ],
             [
              0.3333333333333333,
              "#9c179e"
             ],
             [
              0.4444444444444444,
              "#bd3786"
             ],
             [
              0.5555555555555556,
              "#d8576b"
             ],
             [
              0.6666666666666666,
              "#ed7953"
             ],
             [
              0.7777777777777778,
              "#fb9f3a"
             ],
             [
              0.8888888888888888,
              "#fdca26"
             ],
             [
              1,
              "#f0f921"
             ]
            ],
            "type": "heatmapgl"
           }
          ],
          "histogram": [
           {
            "marker": {
             "pattern": {
              "fillmode": "overlay",
              "size": 10,
              "solidity": 0.2
             }
            },
            "type": "histogram"
           }
          ],
          "histogram2d": [
           {
            "colorbar": {
             "outlinewidth": 0,
             "ticks": ""
            },
            "colorscale": [
             [
              0,
              "#0d0887"
             ],
             [
              0.1111111111111111,
              "#46039f"
             ],
             [
              0.2222222222222222,
              "#7201a8"
             ],
             [
              0.3333333333333333,
              "#9c179e"
             ],
             [
              0.4444444444444444,
              "#bd3786"
             ],
             [
              0.5555555555555556,
              "#d8576b"
             ],
             [
              0.6666666666666666,
              "#ed7953"
             ],
             [
              0.7777777777777778,
              "#fb9f3a"
             ],
             [
              0.8888888888888888,
              "#fdca26"
             ],
             [
              1,
              "#f0f921"
             ]
            ],
            "type": "histogram2d"
           }
          ],
          "histogram2dcontour": [
           {
            "colorbar": {
             "outlinewidth": 0,
             "ticks": ""
            },
            "colorscale": [
             [
              0,
              "#0d0887"
             ],
             [
              0.1111111111111111,
              "#46039f"
             ],
             [
              0.2222222222222222,
              "#7201a8"
             ],
             [
              0.3333333333333333,
              "#9c179e"
             ],
             [
              0.4444444444444444,
              "#bd3786"
             ],
             [
              0.5555555555555556,
              "#d8576b"
             ],
             [
              0.6666666666666666,
              "#ed7953"
             ],
             [
              0.7777777777777778,
              "#fb9f3a"
             ],
             [
              0.8888888888888888,
              "#fdca26"
             ],
             [
              1,
              "#f0f921"
             ]
            ],
            "type": "histogram2dcontour"
           }
          ],
          "mesh3d": [
           {
            "colorbar": {
             "outlinewidth": 0,
             "ticks": ""
            },
            "type": "mesh3d"
           }
          ],
          "parcoords": [
           {
            "line": {
             "colorbar": {
              "outlinewidth": 0,
              "ticks": ""
             }
            },
            "type": "parcoords"
           }
          ],
          "pie": [
           {
            "automargin": true,
            "type": "pie"
           }
          ],
          "scatter": [
           {
            "marker": {
             "colorbar": {
              "outlinewidth": 0,
              "ticks": ""
             }
            },
            "type": "scatter"
           }
          ],
          "scatter3d": [
           {
            "line": {
             "colorbar": {
              "outlinewidth": 0,
              "ticks": ""
             }
            },
            "marker": {
             "colorbar": {
              "outlinewidth": 0,
              "ticks": ""
             }
            },
            "type": "scatter3d"
           }
          ],
          "scattercarpet": [
           {
            "marker": {
             "colorbar": {
              "outlinewidth": 0,
              "ticks": ""
             }
            },
            "type": "scattercarpet"
           }
          ],
          "scattergeo": [
           {
            "marker": {
             "colorbar": {
              "outlinewidth": 0,
              "ticks": ""
             }
            },
            "type": "scattergeo"
           }
          ],
          "scattergl": [
           {
            "marker": {
             "colorbar": {
              "outlinewidth": 0,
              "ticks": ""
             }
            },
            "type": "scattergl"
           }
          ],
          "scattermapbox": [
           {
            "marker": {
             "colorbar": {
              "outlinewidth": 0,
              "ticks": ""
             }
            },
            "type": "scattermapbox"
           }
          ],
          "scatterpolar": [
           {
            "marker": {
             "colorbar": {
              "outlinewidth": 0,
              "ticks": ""
             }
            },
            "type": "scatterpolar"
           }
          ],
          "scatterpolargl": [
           {
            "marker": {
             "colorbar": {
              "outlinewidth": 0,
              "ticks": ""
             }
            },
            "type": "scatterpolargl"
           }
          ],
          "scatterternary": [
           {
            "marker": {
             "colorbar": {
              "outlinewidth": 0,
              "ticks": ""
             }
            },
            "type": "scatterternary"
           }
          ],
          "surface": [
           {
            "colorbar": {
             "outlinewidth": 0,
             "ticks": ""
            },
            "colorscale": [
             [
              0,
              "#0d0887"
             ],
             [
              0.1111111111111111,
              "#46039f"
             ],
             [
              0.2222222222222222,
              "#7201a8"
             ],
             [
              0.3333333333333333,
              "#9c179e"
             ],
             [
              0.4444444444444444,
              "#bd3786"
             ],
             [
              0.5555555555555556,
              "#d8576b"
             ],
             [
              0.6666666666666666,
              "#ed7953"
             ],
             [
              0.7777777777777778,
              "#fb9f3a"
             ],
             [
              0.8888888888888888,
              "#fdca26"
             ],
             [
              1,
              "#f0f921"
             ]
            ],
            "type": "surface"
           }
          ],
          "table": [
           {
            "cells": {
             "fill": {
              "color": "#EBF0F8"
             },
             "line": {
              "color": "white"
             }
            },
            "header": {
             "fill": {
              "color": "#C8D4E3"
             },
             "line": {
              "color": "white"
             }
            },
            "type": "table"
           }
          ]
         },
         "layout": {
          "annotationdefaults": {
           "arrowcolor": "#2a3f5f",
           "arrowhead": 0,
           "arrowwidth": 1
          },
          "autotypenumbers": "strict",
          "coloraxis": {
           "colorbar": {
            "outlinewidth": 0,
            "ticks": ""
           }
          },
          "colorscale": {
           "diverging": [
            [
             0,
             "#8e0152"
            ],
            [
             0.1,
             "#c51b7d"
            ],
            [
             0.2,
             "#de77ae"
            ],
            [
             0.3,
             "#f1b6da"
            ],
            [
             0.4,
             "#fde0ef"
            ],
            [
             0.5,
             "#f7f7f7"
            ],
            [
             0.6,
             "#e6f5d0"
            ],
            [
             0.7,
             "#b8e186"
            ],
            [
             0.8,
             "#7fbc41"
            ],
            [
             0.9,
             "#4d9221"
            ],
            [
             1,
             "#276419"
            ]
           ],
           "sequential": [
            [
             0,
             "#0d0887"
            ],
            [
             0.1111111111111111,
             "#46039f"
            ],
            [
             0.2222222222222222,
             "#7201a8"
            ],
            [
             0.3333333333333333,
             "#9c179e"
            ],
            [
             0.4444444444444444,
             "#bd3786"
            ],
            [
             0.5555555555555556,
             "#d8576b"
            ],
            [
             0.6666666666666666,
             "#ed7953"
            ],
            [
             0.7777777777777778,
             "#fb9f3a"
            ],
            [
             0.8888888888888888,
             "#fdca26"
            ],
            [
             1,
             "#f0f921"
            ]
           ],
           "sequentialminus": [
            [
             0,
             "#0d0887"
            ],
            [
             0.1111111111111111,
             "#46039f"
            ],
            [
             0.2222222222222222,
             "#7201a8"
            ],
            [
             0.3333333333333333,
             "#9c179e"
            ],
            [
             0.4444444444444444,
             "#bd3786"
            ],
            [
             0.5555555555555556,
             "#d8576b"
            ],
            [
             0.6666666666666666,
             "#ed7953"
            ],
            [
             0.7777777777777778,
             "#fb9f3a"
            ],
            [
             0.8888888888888888,
             "#fdca26"
            ],
            [
             1,
             "#f0f921"
            ]
           ]
          },
          "colorway": [
           "#636efa",
           "#EF553B",
           "#00cc96",
           "#ab63fa",
           "#FFA15A",
           "#19d3f3",
           "#FF6692",
           "#B6E880",
           "#FF97FF",
           "#FECB52"
          ],
          "font": {
           "color": "#2a3f5f"
          },
          "geo": {
           "bgcolor": "white",
           "lakecolor": "white",
           "landcolor": "#E5ECF6",
           "showlakes": true,
           "showland": true,
           "subunitcolor": "white"
          },
          "hoverlabel": {
           "align": "left"
          },
          "hovermode": "closest",
          "mapbox": {
           "style": "light"
          },
          "paper_bgcolor": "white",
          "plot_bgcolor": "#E5ECF6",
          "polar": {
           "angularaxis": {
            "gridcolor": "white",
            "linecolor": "white",
            "ticks": ""
           },
           "bgcolor": "#E5ECF6",
           "radialaxis": {
            "gridcolor": "white",
            "linecolor": "white",
            "ticks": ""
           }
          },
          "scene": {
           "xaxis": {
            "backgroundcolor": "#E5ECF6",
            "gridcolor": "white",
            "gridwidth": 2,
            "linecolor": "white",
            "showbackground": true,
            "ticks": "",
            "zerolinecolor": "white"
           },
           "yaxis": {
            "backgroundcolor": "#E5ECF6",
            "gridcolor": "white",
            "gridwidth": 2,
            "linecolor": "white",
            "showbackground": true,
            "ticks": "",
            "zerolinecolor": "white"
           },
           "zaxis": {
            "backgroundcolor": "#E5ECF6",
            "gridcolor": "white",
            "gridwidth": 2,
            "linecolor": "white",
            "showbackground": true,
            "ticks": "",
            "zerolinecolor": "white"
           }
          },
          "shapedefaults": {
           "line": {
            "color": "#2a3f5f"
           }
          },
          "ternary": {
           "aaxis": {
            "gridcolor": "white",
            "linecolor": "white",
            "ticks": ""
           },
           "baxis": {
            "gridcolor": "white",
            "linecolor": "white",
            "ticks": ""
           },
           "bgcolor": "#E5ECF6",
           "caxis": {
            "gridcolor": "white",
            "linecolor": "white",
            "ticks": ""
           }
          },
          "title": {
           "x": 0.05
          },
          "xaxis": {
           "automargin": true,
           "gridcolor": "white",
           "linecolor": "white",
           "ticks": "",
           "title": {
            "standoff": 15
           },
           "zerolinecolor": "white",
           "zerolinewidth": 2
          },
          "yaxis": {
           "automargin": true,
           "gridcolor": "white",
           "linecolor": "white",
           "ticks": "",
           "title": {
            "standoff": 15
           },
           "zerolinecolor": "white",
           "zerolinewidth": 2
          }
         }
        },
        "title": {
         "text": "Histogram for Evidence Variable Model Preference: sachs"
        },
        "xaxis": {
         "anchor": "y",
         "domain": [
          0,
          1
         ],
         "title": {
          "text": "Nodes"
         }
        },
        "yaxis": {
         "anchor": "x",
         "domain": [
          0,
          1
         ],
         "title": {
          "text": "Count"
         }
        }
       }
      },
      "text/html": [
       "<div>                            <div id=\"311b5caa-e3ff-4ff9-a2b0-19e70c1ea0d8\" class=\"plotly-graph-div\" style=\"height:525px; width:100%;\"></div>            <script type=\"text/javascript\">                require([\"plotly\"], function(Plotly) {                    window.PLOTLYENV=window.PLOTLYENV || {};                                    if (document.getElementById(\"311b5caa-e3ff-4ff9-a2b0-19e70c1ea0d8\")) {                    Plotly.newPlot(                        \"311b5caa-e3ff-4ff9-a2b0-19e70c1ea0d8\",                        [{\"alignmentgroup\":\"True\",\"bingroup\":\"x\",\"hovertemplate\":\"Model_name=sachs_lingam<br>Evidence=%{x}<br>count=%{y}<extra></extra>\",\"legendgroup\":\"sachs_lingam\",\"marker\":{\"color\":\"#636efa\",\"pattern\":{\"shape\":\"\"}},\"name\":\"sachs_lingam\",\"offsetgroup\":\"sachs_lingam\",\"orientation\":\"v\",\"showlegend\":true,\"x\":[7,10,0,8,3,0,1,5,0,6,2,5,5,7,8,5,8,4,1,6,10,6,8,3,6,4,7,0,8,8,5,7,4,5,4,5,8,3,8,7,5,1,8,4,2,1,8,7,8,0,9,1,4,7,4,6,4,1,3,2,5,3,4,0,4,6,10,1,8,5,10,9,0,5,2],\"xaxis\":\"x\",\"yaxis\":\"y\",\"type\":\"histogram\"},{\"alignmentgroup\":\"True\",\"bingroup\":\"x\",\"hovertemplate\":\"Model_name=sachs_ccdr<br>Evidence=%{x}<br>count=%{y}<extra></extra>\",\"legendgroup\":\"sachs_ccdr\",\"marker\":{\"color\":\"#EF553B\",\"pattern\":{\"shape\":\"\"}},\"name\":\"sachs_ccdr\",\"offsetgroup\":\"sachs_ccdr\",\"orientation\":\"v\",\"showlegend\":true,\"x\":[1,1,9,7,3,9,8,4,9,7,5,4,3,6,2,9,6,9,5,8,9,1,6,9,3,6,6,7,3,7,2,4,9,6,2,0,6,7,2,9,1,1,8,2,4,2,10,7,1,3,0,7,7,4,6,6,2,8,5,6,10,7,6,6,8,6,5,0,1,10,8,10,8,3,10,6,2,7,8,5,7,3,3,8,9,1,9,9,5,2,4,8,10,0,10,0,4,4,9,0,9,1,6,5,10,8,4,8,9,0,7,4,1,8,7,8,10,1,4,2,5,6,5,9,10,6,0,3,8,5,2,8,10,10,8,6,0,2,10,8,9,8,9,7,5,6,3,4,7,3,8,0,5,9,6,3,2,6,0,5,0,4,2,1,0,4,0,8,2,5,6,2,2,6,5,10,4,3,10,8,2,4,6,3,7,10,6,7,7,7,0,10,5,7,4,2,1,2,4,2,2,7,7,4,5,3,9,10,9,10,8,2,1,5,3,10,5,2,10,5,10,9,10,6,10,6,1,4,0,6,4,9,7,8,1,2,3,3,9,6,5,9,7,0,6,4,0,2,5],\"xaxis\":\"x\",\"yaxis\":\"y\",\"type\":\"histogram\"},{\"alignmentgroup\":\"True\",\"bingroup\":\"x\",\"hovertemplate\":\"Model_name=sachs_notears<br>Evidence=%{x}<br>count=%{y}<extra></extra>\",\"legendgroup\":\"sachs_notears\",\"marker\":{\"color\":\"#00cc96\",\"pattern\":{\"shape\":\"\"}},\"name\":\"sachs_notears\",\"offsetgroup\":\"sachs_notears\",\"orientation\":\"v\",\"showlegend\":true,\"x\":[2,8,4,4,8,3,4,6,4,6,5,6,7,4,9,8,0,10,4,0,9,7,2,5,10,6,10,3,1,4,10,5,10,0,6,0,7,6,9,1,7,7,3,4,1,5,0,7,0,5,5,6,10,4,0,1,8,1,2,3,8,0,2,7,1,10,0,9,6,1,5,2,4,2,2,0,4,10,7,1,1,8,5,6,1,3],\"xaxis\":\"x\",\"yaxis\":\"y\",\"type\":\"histogram\"},{\"alignmentgroup\":\"True\",\"bingroup\":\"x\",\"hovertemplate\":\"Model_name=sachs_dagGNN<br>Evidence=%{x}<br>count=%{y}<extra></extra>\",\"legendgroup\":\"sachs_dagGNN\",\"marker\":{\"color\":\"#ab63fa\",\"pattern\":{\"shape\":\"\"}},\"name\":\"sachs_dagGNN\",\"offsetgroup\":\"sachs_dagGNN\",\"orientation\":\"v\",\"showlegend\":true,\"x\":[3,4,3,0,0,0,10,9,2,2,2,2,8,0,3,3,6,3,3,3,8,10,10,0,0,1,0,5,3,5,5,1,2,5,9,5,0,10,0,6,5,10,8,3,9,8,9,3,0,3,9,9,0,8,0,9,6,6,4,6,8],\"xaxis\":\"x\",\"yaxis\":\"y\",\"type\":\"histogram\"}],                        {\"template\":{\"data\":{\"bar\":[{\"error_x\":{\"color\":\"#2a3f5f\"},\"error_y\":{\"color\":\"#2a3f5f\"},\"marker\":{\"line\":{\"color\":\"#E5ECF6\",\"width\":0.5},\"pattern\":{\"fillmode\":\"overlay\",\"size\":10,\"solidity\":0.2}},\"type\":\"bar\"}],\"barpolar\":[{\"marker\":{\"line\":{\"color\":\"#E5ECF6\",\"width\":0.5},\"pattern\":{\"fillmode\":\"overlay\",\"size\":10,\"solidity\":0.2}},\"type\":\"barpolar\"}],\"carpet\":[{\"aaxis\":{\"endlinecolor\":\"#2a3f5f\",\"gridcolor\":\"white\",\"linecolor\":\"white\",\"minorgridcolor\":\"white\",\"startlinecolor\":\"#2a3f5f\"},\"baxis\":{\"endlinecolor\":\"#2a3f5f\",\"gridcolor\":\"white\",\"linecolor\":\"white\",\"minorgridcolor\":\"white\",\"startlinecolor\":\"#2a3f5f\"},\"type\":\"carpet\"}],\"choropleth\":[{\"colorbar\":{\"outlinewidth\":0,\"ticks\":\"\"},\"type\":\"choropleth\"}],\"contour\":[{\"colorbar\":{\"outlinewidth\":0,\"ticks\":\"\"},\"colorscale\":[[0.0,\"#0d0887\"],[0.1111111111111111,\"#46039f\"],[0.2222222222222222,\"#7201a8\"],[0.3333333333333333,\"#9c179e\"],[0.4444444444444444,\"#bd3786\"],[0.5555555555555556,\"#d8576b\"],[0.6666666666666666,\"#ed7953\"],[0.7777777777777778,\"#fb9f3a\"],[0.8888888888888888,\"#fdca26\"],[1.0,\"#f0f921\"]],\"type\":\"contour\"}],\"contourcarpet\":[{\"colorbar\":{\"outlinewidth\":0,\"ticks\":\"\"},\"type\":\"contourcarpet\"}],\"heatmap\":[{\"colorbar\":{\"outlinewidth\":0,\"ticks\":\"\"},\"colorscale\":[[0.0,\"#0d0887\"],[0.1111111111111111,\"#46039f\"],[0.2222222222222222,\"#7201a8\"],[0.3333333333333333,\"#9c179e\"],[0.4444444444444444,\"#bd3786\"],[0.5555555555555556,\"#d8576b\"],[0.6666666666666666,\"#ed7953\"],[0.7777777777777778,\"#fb9f3a\"],[0.8888888888888888,\"#fdca26\"],[1.0,\"#f0f921\"]],\"type\":\"heatmap\"}],\"heatmapgl\":[{\"colorbar\":{\"outlinewidth\":0,\"ticks\":\"\"},\"colorscale\":[[0.0,\"#0d0887\"],[0.1111111111111111,\"#46039f\"],[0.2222222222222222,\"#7201a8\"],[0.3333333333333333,\"#9c179e\"],[0.4444444444444444,\"#bd3786\"],[0.5555555555555556,\"#d8576b\"],[0.6666666666666666,\"#ed7953\"],[0.7777777777777778,\"#fb9f3a\"],[0.8888888888888888,\"#fdca26\"],[1.0,\"#f0f921\"]],\"type\":\"heatmapgl\"}],\"histogram\":[{\"marker\":{\"pattern\":{\"fillmode\":\"overlay\",\"size\":10,\"solidity\":0.2}},\"type\":\"histogram\"}],\"histogram2d\":[{\"colorbar\":{\"outlinewidth\":0,\"ticks\":\"\"},\"colorscale\":[[0.0,\"#0d0887\"],[0.1111111111111111,\"#46039f\"],[0.2222222222222222,\"#7201a8\"],[0.3333333333333333,\"#9c179e\"],[0.4444444444444444,\"#bd3786\"],[0.5555555555555556,\"#d8576b\"],[0.6666666666666666,\"#ed7953\"],[0.7777777777777778,\"#fb9f3a\"],[0.8888888888888888,\"#fdca26\"],[1.0,\"#f0f921\"]],\"type\":\"histogram2d\"}],\"histogram2dcontour\":[{\"colorbar\":{\"outlinewidth\":0,\"ticks\":\"\"},\"colorscale\":[[0.0,\"#0d0887\"],[0.1111111111111111,\"#46039f\"],[0.2222222222222222,\"#7201a8\"],[0.3333333333333333,\"#9c179e\"],[0.4444444444444444,\"#bd3786\"],[0.5555555555555556,\"#d8576b\"],[0.6666666666666666,\"#ed7953\"],[0.7777777777777778,\"#fb9f3a\"],[0.8888888888888888,\"#fdca26\"],[1.0,\"#f0f921\"]],\"type\":\"histogram2dcontour\"}],\"mesh3d\":[{\"colorbar\":{\"outlinewidth\":0,\"ticks\":\"\"},\"type\":\"mesh3d\"}],\"parcoords\":[{\"line\":{\"colorbar\":{\"outlinewidth\":0,\"ticks\":\"\"}},\"type\":\"parcoords\"}],\"pie\":[{\"automargin\":true,\"type\":\"pie\"}],\"scatter\":[{\"marker\":{\"colorbar\":{\"outlinewidth\":0,\"ticks\":\"\"}},\"type\":\"scatter\"}],\"scatter3d\":[{\"line\":{\"colorbar\":{\"outlinewidth\":0,\"ticks\":\"\"}},\"marker\":{\"colorbar\":{\"outlinewidth\":0,\"ticks\":\"\"}},\"type\":\"scatter3d\"}],\"scattercarpet\":[{\"marker\":{\"colorbar\":{\"outlinewidth\":0,\"ticks\":\"\"}},\"type\":\"scattercarpet\"}],\"scattergeo\":[{\"marker\":{\"colorbar\":{\"outlinewidth\":0,\"ticks\":\"\"}},\"type\":\"scattergeo\"}],\"scattergl\":[{\"marker\":{\"colorbar\":{\"outlinewidth\":0,\"ticks\":\"\"}},\"type\":\"scattergl\"}],\"scattermapbox\":[{\"marker\":{\"colorbar\":{\"outlinewidth\":0,\"ticks\":\"\"}},\"type\":\"scattermapbox\"}],\"scatterpolar\":[{\"marker\":{\"colorbar\":{\"outlinewidth\":0,\"ticks\":\"\"}},\"type\":\"scatterpolar\"}],\"scatterpolargl\":[{\"marker\":{\"colorbar\":{\"outlinewidth\":0,\"ticks\":\"\"}},\"type\":\"scatterpolargl\"}],\"scatterternary\":[{\"marker\":{\"colorbar\":{\"outlinewidth\":0,\"ticks\":\"\"}},\"type\":\"scatterternary\"}],\"surface\":[{\"colorbar\":{\"outlinewidth\":0,\"ticks\":\"\"},\"colorscale\":[[0.0,\"#0d0887\"],[0.1111111111111111,\"#46039f\"],[0.2222222222222222,\"#7201a8\"],[0.3333333333333333,\"#9c179e\"],[0.4444444444444444,\"#bd3786\"],[0.5555555555555556,\"#d8576b\"],[0.6666666666666666,\"#ed7953\"],[0.7777777777777778,\"#fb9f3a\"],[0.8888888888888888,\"#fdca26\"],[1.0,\"#f0f921\"]],\"type\":\"surface\"}],\"table\":[{\"cells\":{\"fill\":{\"color\":\"#EBF0F8\"},\"line\":{\"color\":\"white\"}},\"header\":{\"fill\":{\"color\":\"#C8D4E3\"},\"line\":{\"color\":\"white\"}},\"type\":\"table\"}]},\"layout\":{\"annotationdefaults\":{\"arrowcolor\":\"#2a3f5f\",\"arrowhead\":0,\"arrowwidth\":1},\"autotypenumbers\":\"strict\",\"coloraxis\":{\"colorbar\":{\"outlinewidth\":0,\"ticks\":\"\"}},\"colorscale\":{\"diverging\":[[0,\"#8e0152\"],[0.1,\"#c51b7d\"],[0.2,\"#de77ae\"],[0.3,\"#f1b6da\"],[0.4,\"#fde0ef\"],[0.5,\"#f7f7f7\"],[0.6,\"#e6f5d0\"],[0.7,\"#b8e186\"],[0.8,\"#7fbc41\"],[0.9,\"#4d9221\"],[1,\"#276419\"]],\"sequential\":[[0.0,\"#0d0887\"],[0.1111111111111111,\"#46039f\"],[0.2222222222222222,\"#7201a8\"],[0.3333333333333333,\"#9c179e\"],[0.4444444444444444,\"#bd3786\"],[0.5555555555555556,\"#d8576b\"],[0.6666666666666666,\"#ed7953\"],[0.7777777777777778,\"#fb9f3a\"],[0.8888888888888888,\"#fdca26\"],[1.0,\"#f0f921\"]],\"sequentialminus\":[[0.0,\"#0d0887\"],[0.1111111111111111,\"#46039f\"],[0.2222222222222222,\"#7201a8\"],[0.3333333333333333,\"#9c179e\"],[0.4444444444444444,\"#bd3786\"],[0.5555555555555556,\"#d8576b\"],[0.6666666666666666,\"#ed7953\"],[0.7777777777777778,\"#fb9f3a\"],[0.8888888888888888,\"#fdca26\"],[1.0,\"#f0f921\"]]},\"colorway\":[\"#636efa\",\"#EF553B\",\"#00cc96\",\"#ab63fa\",\"#FFA15A\",\"#19d3f3\",\"#FF6692\",\"#B6E880\",\"#FF97FF\",\"#FECB52\"],\"font\":{\"color\":\"#2a3f5f\"},\"geo\":{\"bgcolor\":\"white\",\"lakecolor\":\"white\",\"landcolor\":\"#E5ECF6\",\"showlakes\":true,\"showland\":true,\"subunitcolor\":\"white\"},\"hoverlabel\":{\"align\":\"left\"},\"hovermode\":\"closest\",\"mapbox\":{\"style\":\"light\"},\"paper_bgcolor\":\"white\",\"plot_bgcolor\":\"#E5ECF6\",\"polar\":{\"angularaxis\":{\"gridcolor\":\"white\",\"linecolor\":\"white\",\"ticks\":\"\"},\"bgcolor\":\"#E5ECF6\",\"radialaxis\":{\"gridcolor\":\"white\",\"linecolor\":\"white\",\"ticks\":\"\"}},\"scene\":{\"xaxis\":{\"backgroundcolor\":\"#E5ECF6\",\"gridcolor\":\"white\",\"gridwidth\":2,\"linecolor\":\"white\",\"showbackground\":true,\"ticks\":\"\",\"zerolinecolor\":\"white\"},\"yaxis\":{\"backgroundcolor\":\"#E5ECF6\",\"gridcolor\":\"white\",\"gridwidth\":2,\"linecolor\":\"white\",\"showbackground\":true,\"ticks\":\"\",\"zerolinecolor\":\"white\"},\"zaxis\":{\"backgroundcolor\":\"#E5ECF6\",\"gridcolor\":\"white\",\"gridwidth\":2,\"linecolor\":\"white\",\"showbackground\":true,\"ticks\":\"\",\"zerolinecolor\":\"white\"}},\"shapedefaults\":{\"line\":{\"color\":\"#2a3f5f\"}},\"ternary\":{\"aaxis\":{\"gridcolor\":\"white\",\"linecolor\":\"white\",\"ticks\":\"\"},\"baxis\":{\"gridcolor\":\"white\",\"linecolor\":\"white\",\"ticks\":\"\"},\"bgcolor\":\"#E5ECF6\",\"caxis\":{\"gridcolor\":\"white\",\"linecolor\":\"white\",\"ticks\":\"\"}},\"title\":{\"x\":0.05},\"xaxis\":{\"automargin\":true,\"gridcolor\":\"white\",\"linecolor\":\"white\",\"ticks\":\"\",\"title\":{\"standoff\":15},\"zerolinecolor\":\"white\",\"zerolinewidth\":2},\"yaxis\":{\"automargin\":true,\"gridcolor\":\"white\",\"linecolor\":\"white\",\"ticks\":\"\",\"title\":{\"standoff\":15},\"zerolinecolor\":\"white\",\"zerolinewidth\":2}}},\"xaxis\":{\"anchor\":\"y\",\"domain\":[0.0,1.0],\"title\":{\"text\":\"Nodes\"}},\"yaxis\":{\"anchor\":\"x\",\"domain\":[0.0,1.0],\"title\":{\"text\":\"Count\"}},\"legend\":{\"title\":{\"text\":\"Model_name\"},\"tracegroupgap\":0},\"margin\":{\"t\":60},\"barmode\":\"group\",\"title\":{\"text\":\"Histogram for Evidence Variable Model Preference: sachs\"}},                        {\"responsive\": true}                    ).then(function(){\n",
       "                            \n",
       "var gd = document.getElementById('311b5caa-e3ff-4ff9-a2b0-19e70c1ea0d8');\n",
       "var x = new MutationObserver(function (mutations, observer) {{\n",
       "        var display = window.getComputedStyle(gd).display;\n",
       "        if (!display || display === 'none') {{\n",
       "            console.log([gd, 'removed!']);\n",
       "            Plotly.purge(gd);\n",
       "            observer.disconnect();\n",
       "        }}\n",
       "}});\n",
       "\n",
       "// Listen for the removal of the full notebook cells\n",
       "var notebookContainer = gd.closest('#notebook-container');\n",
       "if (notebookContainer) {{\n",
       "    x.observe(notebookContainer, {childList: true});\n",
       "}}\n",
       "\n",
       "// Listen for the clearing of the current output cell\n",
       "var outputEl = gd.closest('.output');\n",
       "if (outputEl) {{\n",
       "    x.observe(outputEl, {childList: true});\n",
       "}}\n",
       "\n",
       "                        })                };                });            </script>        </div>"
      ]
     },
     "metadata": {},
     "output_type": "display_data"
    }
   ],
   "source": [
    "#Evidence Var vs frequency\n",
    "\n",
    "fig = px.histogram(new_df, x=\"Evidence\", color='Model_name', barmode='group')\n",
    "fig.update_layout(\n",
    "    title_text=f'Histogram for Evidence Variable Model Preference: {dataset_name}', # title of plot\n",
    "    xaxis_title_text='Nodes', # xaxis label\n",
    "    yaxis_title_text='Count', # yaxis label\n",
    ")\n",
    "fig.show()\n"
   ]
  },
  {
   "cell_type": "code",
   "execution_count": null,
   "id": "f4feb188",
   "metadata": {},
   "outputs": [],
   "source": []
  },
  {
   "cell_type": "code",
   "execution_count": 141,
   "id": "5bb266af",
   "metadata": {},
   "outputs": [
    {
     "data": {
      "application/vnd.plotly.v1+json": {
       "config": {
        "plotlyServerURL": "https://plot.ly"
       },
       "data": [
        {
         "alignmentgroup": "True",
         "bingroup": "x",
         "hovertemplate": "Model_name=asia_ccdr<br>Edge Lengths=%{x}<br>count=%{y}<extra></extra>",
         "legendgroup": "asia_ccdr",
         "marker": {
          "color": "#636efa",
          "pattern": {
           "shape": ""
          }
         },
         "name": "asia_ccdr",
         "offsetgroup": "asia_ccdr",
         "orientation": "v",
         "showlegend": true,
         "type": "histogram",
         "x": [
          2,
          0,
          2,
          0,
          0,
          0,
          2,
          0,
          0,
          0,
          1,
          0,
          0,
          0,
          0,
          1,
          1,
          0,
          0,
          1,
          2,
          0,
          0,
          0,
          0,
          0,
          0,
          0,
          0,
          0,
          1,
          0,
          0,
          0,
          0,
          0,
          0,
          1,
          0,
          0,
          0,
          1,
          2,
          0,
          1,
          0,
          0,
          0,
          1,
          0,
          0,
          0,
          1,
          0,
          1,
          0,
          2,
          2,
          0,
          0,
          0,
          2,
          0,
          1,
          0,
          0,
          1,
          0,
          0,
          1,
          0,
          0,
          0,
          0,
          2,
          1,
          2,
          0,
          0,
          0,
          0,
          0,
          0,
          0,
          0,
          0,
          0,
          0,
          0,
          0,
          0,
          0,
          0,
          0,
          0,
          0,
          0,
          0,
          1,
          0,
          0,
          1,
          0,
          0,
          0,
          0,
          0,
          0,
          0,
          0,
          0,
          0,
          0,
          0,
          0,
          2,
          0,
          0,
          0,
          0,
          1,
          0,
          0,
          0,
          0,
          0,
          0,
          1,
          0,
          0
         ],
         "xaxis": "x",
         "yaxis": "y"
        },
        {
         "alignmentgroup": "True",
         "bingroup": "x",
         "hovertemplate": "Model_name=asia_nobears<br>Edge Lengths=%{x}<br>count=%{y}<extra></extra>",
         "legendgroup": "asia_nobears",
         "marker": {
          "color": "#EF553B",
          "pattern": {
           "shape": ""
          }
         },
         "name": "asia_nobears",
         "offsetgroup": "asia_nobears",
         "orientation": "v",
         "showlegend": true,
         "type": "histogram",
         "x": [
          0,
          0,
          0,
          0,
          0,
          0,
          0,
          0,
          0,
          0,
          0,
          0,
          0,
          0,
          0,
          0,
          0,
          1,
          0,
          0,
          0,
          0,
          0,
          0,
          0,
          0,
          0,
          0,
          0,
          0,
          0,
          0,
          0,
          0,
          0,
          0,
          0,
          0,
          0,
          0,
          0,
          0,
          0,
          0,
          0,
          0,
          0,
          0,
          0,
          0,
          0,
          0,
          0,
          0,
          0,
          0,
          0,
          0,
          0,
          0,
          0,
          0,
          0,
          0,
          0,
          0,
          0,
          0,
          0,
          1,
          0,
          1,
          0,
          0,
          0,
          0,
          0,
          0,
          0,
          0,
          0,
          0,
          0,
          0,
          0,
          0,
          0,
          0,
          0,
          0,
          0,
          0,
          0,
          0,
          0,
          0,
          0,
          0,
          0,
          0,
          0,
          0,
          0,
          0,
          0,
          0,
          1,
          0,
          0,
          0,
          0,
          0,
          0,
          0,
          0,
          0,
          0,
          0,
          0,
          0,
          0,
          0,
          0,
          0,
          0,
          0,
          0,
          0,
          1,
          0,
          0,
          0,
          0,
          0,
          0,
          0,
          0,
          0,
          0,
          0,
          0,
          0,
          0,
          0,
          0,
          0,
          0,
          0,
          0,
          1,
          0,
          0,
          0,
          0,
          0,
          0,
          0,
          0,
          0,
          0,
          0,
          0,
          0,
          0,
          0,
          0,
          0,
          0,
          0,
          0,
          0,
          0,
          0,
          0,
          0,
          0,
          0,
          0,
          0,
          0,
          0,
          0
         ],
         "xaxis": "x",
         "yaxis": "y"
        },
        {
         "alignmentgroup": "True",
         "bingroup": "x",
         "hovertemplate": "Model_name=asia_lingam<br>Edge Lengths=%{x}<br>count=%{y}<extra></extra>",
         "legendgroup": "asia_lingam",
         "marker": {
          "color": "#00cc96",
          "pattern": {
           "shape": ""
          }
         },
         "name": "asia_lingam",
         "offsetgroup": "asia_lingam",
         "orientation": "v",
         "showlegend": true,
         "type": "histogram",
         "x": [
          0,
          0,
          0,
          0,
          0,
          0,
          0,
          0
         ],
         "xaxis": "x",
         "yaxis": "y"
        },
        {
         "alignmentgroup": "True",
         "bingroup": "x",
         "hovertemplate": "Model_name=asia_notears<br>Edge Lengths=%{x}<br>count=%{y}<extra></extra>",
         "legendgroup": "asia_notears",
         "marker": {
          "color": "#ab63fa",
          "pattern": {
           "shape": ""
          }
         },
         "name": "asia_notears",
         "offsetgroup": "asia_notears",
         "orientation": "v",
         "showlegend": true,
         "type": "histogram",
         "x": [
          0,
          0,
          0,
          0,
          0,
          2,
          0,
          0,
          0,
          2,
          0,
          0,
          0,
          0,
          0,
          0,
          0,
          0,
          0,
          0,
          0,
          2,
          0,
          0,
          0,
          0,
          0,
          0,
          0,
          0,
          0
         ],
         "xaxis": "x",
         "yaxis": "y"
        }
       ],
       "layout": {
        "barmode": "group",
        "legend": {
         "title": {
          "text": "Model_name"
         },
         "tracegroupgap": 0
        },
        "margin": {
         "t": 60
        },
        "template": {
         "data": {
          "bar": [
           {
            "error_x": {
             "color": "#2a3f5f"
            },
            "error_y": {
             "color": "#2a3f5f"
            },
            "marker": {
             "line": {
              "color": "#E5ECF6",
              "width": 0.5
             },
             "pattern": {
              "fillmode": "overlay",
              "size": 10,
              "solidity": 0.2
             }
            },
            "type": "bar"
           }
          ],
          "barpolar": [
           {
            "marker": {
             "line": {
              "color": "#E5ECF6",
              "width": 0.5
             },
             "pattern": {
              "fillmode": "overlay",
              "size": 10,
              "solidity": 0.2
             }
            },
            "type": "barpolar"
           }
          ],
          "carpet": [
           {
            "aaxis": {
             "endlinecolor": "#2a3f5f",
             "gridcolor": "white",
             "linecolor": "white",
             "minorgridcolor": "white",
             "startlinecolor": "#2a3f5f"
            },
            "baxis": {
             "endlinecolor": "#2a3f5f",
             "gridcolor": "white",
             "linecolor": "white",
             "minorgridcolor": "white",
             "startlinecolor": "#2a3f5f"
            },
            "type": "carpet"
           }
          ],
          "choropleth": [
           {
            "colorbar": {
             "outlinewidth": 0,
             "ticks": ""
            },
            "type": "choropleth"
           }
          ],
          "contour": [
           {
            "colorbar": {
             "outlinewidth": 0,
             "ticks": ""
            },
            "colorscale": [
             [
              0,
              "#0d0887"
             ],
             [
              0.1111111111111111,
              "#46039f"
             ],
             [
              0.2222222222222222,
              "#7201a8"
             ],
             [
              0.3333333333333333,
              "#9c179e"
             ],
             [
              0.4444444444444444,
              "#bd3786"
             ],
             [
              0.5555555555555556,
              "#d8576b"
             ],
             [
              0.6666666666666666,
              "#ed7953"
             ],
             [
              0.7777777777777778,
              "#fb9f3a"
             ],
             [
              0.8888888888888888,
              "#fdca26"
             ],
             [
              1,
              "#f0f921"
             ]
            ],
            "type": "contour"
           }
          ],
          "contourcarpet": [
           {
            "colorbar": {
             "outlinewidth": 0,
             "ticks": ""
            },
            "type": "contourcarpet"
           }
          ],
          "heatmap": [
           {
            "colorbar": {
             "outlinewidth": 0,
             "ticks": ""
            },
            "colorscale": [
             [
              0,
              "#0d0887"
             ],
             [
              0.1111111111111111,
              "#46039f"
             ],
             [
              0.2222222222222222,
              "#7201a8"
             ],
             [
              0.3333333333333333,
              "#9c179e"
             ],
             [
              0.4444444444444444,
              "#bd3786"
             ],
             [
              0.5555555555555556,
              "#d8576b"
             ],
             [
              0.6666666666666666,
              "#ed7953"
             ],
             [
              0.7777777777777778,
              "#fb9f3a"
             ],
             [
              0.8888888888888888,
              "#fdca26"
             ],
             [
              1,
              "#f0f921"
             ]
            ],
            "type": "heatmap"
           }
          ],
          "heatmapgl": [
           {
            "colorbar": {
             "outlinewidth": 0,
             "ticks": ""
            },
            "colorscale": [
             [
              0,
              "#0d0887"
             ],
             [
              0.1111111111111111,
              "#46039f"
             ],
             [
              0.2222222222222222,
              "#7201a8"
             ],
             [
              0.3333333333333333,
              "#9c179e"
             ],
             [
              0.4444444444444444,
              "#bd3786"
             ],
             [
              0.5555555555555556,
              "#d8576b"
             ],
             [
              0.6666666666666666,
              "#ed7953"
             ],
             [
              0.7777777777777778,
              "#fb9f3a"
             ],
             [
              0.8888888888888888,
              "#fdca26"
             ],
             [
              1,
              "#f0f921"
             ]
            ],
            "type": "heatmapgl"
           }
          ],
          "histogram": [
           {
            "marker": {
             "pattern": {
              "fillmode": "overlay",
              "size": 10,
              "solidity": 0.2
             }
            },
            "type": "histogram"
           }
          ],
          "histogram2d": [
           {
            "colorbar": {
             "outlinewidth": 0,
             "ticks": ""
            },
            "colorscale": [
             [
              0,
              "#0d0887"
             ],
             [
              0.1111111111111111,
              "#46039f"
             ],
             [
              0.2222222222222222,
              "#7201a8"
             ],
             [
              0.3333333333333333,
              "#9c179e"
             ],
             [
              0.4444444444444444,
              "#bd3786"
             ],
             [
              0.5555555555555556,
              "#d8576b"
             ],
             [
              0.6666666666666666,
              "#ed7953"
             ],
             [
              0.7777777777777778,
              "#fb9f3a"
             ],
             [
              0.8888888888888888,
              "#fdca26"
             ],
             [
              1,
              "#f0f921"
             ]
            ],
            "type": "histogram2d"
           }
          ],
          "histogram2dcontour": [
           {
            "colorbar": {
             "outlinewidth": 0,
             "ticks": ""
            },
            "colorscale": [
             [
              0,
              "#0d0887"
             ],
             [
              0.1111111111111111,
              "#46039f"
             ],
             [
              0.2222222222222222,
              "#7201a8"
             ],
             [
              0.3333333333333333,
              "#9c179e"
             ],
             [
              0.4444444444444444,
              "#bd3786"
             ],
             [
              0.5555555555555556,
              "#d8576b"
             ],
             [
              0.6666666666666666,
              "#ed7953"
             ],
             [
              0.7777777777777778,
              "#fb9f3a"
             ],
             [
              0.8888888888888888,
              "#fdca26"
             ],
             [
              1,
              "#f0f921"
             ]
            ],
            "type": "histogram2dcontour"
           }
          ],
          "mesh3d": [
           {
            "colorbar": {
             "outlinewidth": 0,
             "ticks": ""
            },
            "type": "mesh3d"
           }
          ],
          "parcoords": [
           {
            "line": {
             "colorbar": {
              "outlinewidth": 0,
              "ticks": ""
             }
            },
            "type": "parcoords"
           }
          ],
          "pie": [
           {
            "automargin": true,
            "type": "pie"
           }
          ],
          "scatter": [
           {
            "marker": {
             "colorbar": {
              "outlinewidth": 0,
              "ticks": ""
             }
            },
            "type": "scatter"
           }
          ],
          "scatter3d": [
           {
            "line": {
             "colorbar": {
              "outlinewidth": 0,
              "ticks": ""
             }
            },
            "marker": {
             "colorbar": {
              "outlinewidth": 0,
              "ticks": ""
             }
            },
            "type": "scatter3d"
           }
          ],
          "scattercarpet": [
           {
            "marker": {
             "colorbar": {
              "outlinewidth": 0,
              "ticks": ""
             }
            },
            "type": "scattercarpet"
           }
          ],
          "scattergeo": [
           {
            "marker": {
             "colorbar": {
              "outlinewidth": 0,
              "ticks": ""
             }
            },
            "type": "scattergeo"
           }
          ],
          "scattergl": [
           {
            "marker": {
             "colorbar": {
              "outlinewidth": 0,
              "ticks": ""
             }
            },
            "type": "scattergl"
           }
          ],
          "scattermapbox": [
           {
            "marker": {
             "colorbar": {
              "outlinewidth": 0,
              "ticks": ""
             }
            },
            "type": "scattermapbox"
           }
          ],
          "scatterpolar": [
           {
            "marker": {
             "colorbar": {
              "outlinewidth": 0,
              "ticks": ""
             }
            },
            "type": "scatterpolar"
           }
          ],
          "scatterpolargl": [
           {
            "marker": {
             "colorbar": {
              "outlinewidth": 0,
              "ticks": ""
             }
            },
            "type": "scatterpolargl"
           }
          ],
          "scatterternary": [
           {
            "marker": {
             "colorbar": {
              "outlinewidth": 0,
              "ticks": ""
             }
            },
            "type": "scatterternary"
           }
          ],
          "surface": [
           {
            "colorbar": {
             "outlinewidth": 0,
             "ticks": ""
            },
            "colorscale": [
             [
              0,
              "#0d0887"
             ],
             [
              0.1111111111111111,
              "#46039f"
             ],
             [
              0.2222222222222222,
              "#7201a8"
             ],
             [
              0.3333333333333333,
              "#9c179e"
             ],
             [
              0.4444444444444444,
              "#bd3786"
             ],
             [
              0.5555555555555556,
              "#d8576b"
             ],
             [
              0.6666666666666666,
              "#ed7953"
             ],
             [
              0.7777777777777778,
              "#fb9f3a"
             ],
             [
              0.8888888888888888,
              "#fdca26"
             ],
             [
              1,
              "#f0f921"
             ]
            ],
            "type": "surface"
           }
          ],
          "table": [
           {
            "cells": {
             "fill": {
              "color": "#EBF0F8"
             },
             "line": {
              "color": "white"
             }
            },
            "header": {
             "fill": {
              "color": "#C8D4E3"
             },
             "line": {
              "color": "white"
             }
            },
            "type": "table"
           }
          ]
         },
         "layout": {
          "annotationdefaults": {
           "arrowcolor": "#2a3f5f",
           "arrowhead": 0,
           "arrowwidth": 1
          },
          "autotypenumbers": "strict",
          "coloraxis": {
           "colorbar": {
            "outlinewidth": 0,
            "ticks": ""
           }
          },
          "colorscale": {
           "diverging": [
            [
             0,
             "#8e0152"
            ],
            [
             0.1,
             "#c51b7d"
            ],
            [
             0.2,
             "#de77ae"
            ],
            [
             0.3,
             "#f1b6da"
            ],
            [
             0.4,
             "#fde0ef"
            ],
            [
             0.5,
             "#f7f7f7"
            ],
            [
             0.6,
             "#e6f5d0"
            ],
            [
             0.7,
             "#b8e186"
            ],
            [
             0.8,
             "#7fbc41"
            ],
            [
             0.9,
             "#4d9221"
            ],
            [
             1,
             "#276419"
            ]
           ],
           "sequential": [
            [
             0,
             "#0d0887"
            ],
            [
             0.1111111111111111,
             "#46039f"
            ],
            [
             0.2222222222222222,
             "#7201a8"
            ],
            [
             0.3333333333333333,
             "#9c179e"
            ],
            [
             0.4444444444444444,
             "#bd3786"
            ],
            [
             0.5555555555555556,
             "#d8576b"
            ],
            [
             0.6666666666666666,
             "#ed7953"
            ],
            [
             0.7777777777777778,
             "#fb9f3a"
            ],
            [
             0.8888888888888888,
             "#fdca26"
            ],
            [
             1,
             "#f0f921"
            ]
           ],
           "sequentialminus": [
            [
             0,
             "#0d0887"
            ],
            [
             0.1111111111111111,
             "#46039f"
            ],
            [
             0.2222222222222222,
             "#7201a8"
            ],
            [
             0.3333333333333333,
             "#9c179e"
            ],
            [
             0.4444444444444444,
             "#bd3786"
            ],
            [
             0.5555555555555556,
             "#d8576b"
            ],
            [
             0.6666666666666666,
             "#ed7953"
            ],
            [
             0.7777777777777778,
             "#fb9f3a"
            ],
            [
             0.8888888888888888,
             "#fdca26"
            ],
            [
             1,
             "#f0f921"
            ]
           ]
          },
          "colorway": [
           "#636efa",
           "#EF553B",
           "#00cc96",
           "#ab63fa",
           "#FFA15A",
           "#19d3f3",
           "#FF6692",
           "#B6E880",
           "#FF97FF",
           "#FECB52"
          ],
          "font": {
           "color": "#2a3f5f"
          },
          "geo": {
           "bgcolor": "white",
           "lakecolor": "white",
           "landcolor": "#E5ECF6",
           "showlakes": true,
           "showland": true,
           "subunitcolor": "white"
          },
          "hoverlabel": {
           "align": "left"
          },
          "hovermode": "closest",
          "mapbox": {
           "style": "light"
          },
          "paper_bgcolor": "white",
          "plot_bgcolor": "#E5ECF6",
          "polar": {
           "angularaxis": {
            "gridcolor": "white",
            "linecolor": "white",
            "ticks": ""
           },
           "bgcolor": "#E5ECF6",
           "radialaxis": {
            "gridcolor": "white",
            "linecolor": "white",
            "ticks": ""
           }
          },
          "scene": {
           "xaxis": {
            "backgroundcolor": "#E5ECF6",
            "gridcolor": "white",
            "gridwidth": 2,
            "linecolor": "white",
            "showbackground": true,
            "ticks": "",
            "zerolinecolor": "white"
           },
           "yaxis": {
            "backgroundcolor": "#E5ECF6",
            "gridcolor": "white",
            "gridwidth": 2,
            "linecolor": "white",
            "showbackground": true,
            "ticks": "",
            "zerolinecolor": "white"
           },
           "zaxis": {
            "backgroundcolor": "#E5ECF6",
            "gridcolor": "white",
            "gridwidth": 2,
            "linecolor": "white",
            "showbackground": true,
            "ticks": "",
            "zerolinecolor": "white"
           }
          },
          "shapedefaults": {
           "line": {
            "color": "#2a3f5f"
           }
          },
          "ternary": {
           "aaxis": {
            "gridcolor": "white",
            "linecolor": "white",
            "ticks": ""
           },
           "baxis": {
            "gridcolor": "white",
            "linecolor": "white",
            "ticks": ""
           },
           "bgcolor": "#E5ECF6",
           "caxis": {
            "gridcolor": "white",
            "linecolor": "white",
            "ticks": ""
           }
          },
          "title": {
           "x": 0.05
          },
          "xaxis": {
           "automargin": true,
           "gridcolor": "white",
           "linecolor": "white",
           "ticks": "",
           "title": {
            "standoff": 15
           },
           "zerolinecolor": "white",
           "zerolinewidth": 2
          },
          "yaxis": {
           "automargin": true,
           "gridcolor": "white",
           "linecolor": "white",
           "ticks": "",
           "title": {
            "standoff": 15
           },
           "zerolinecolor": "white",
           "zerolinewidth": 2
          }
         }
        },
        "title": {
         "text": "Histogram for Edge Lengths: asia"
        },
        "xaxis": {
         "anchor": "y",
         "domain": [
          0,
          1
         ],
         "title": {
          "text": "Edge Lengths"
         }
        },
        "yaxis": {
         "anchor": "x",
         "domain": [
          0,
          1
         ],
         "title": {
          "text": "Count"
         }
        }
       }
      },
      "text/html": [
       "<div>                            <div id=\"9e82396f-2173-4abf-88e4-02d97d1abdfe\" class=\"plotly-graph-div\" style=\"height:525px; width:100%;\"></div>            <script type=\"text/javascript\">                require([\"plotly\"], function(Plotly) {                    window.PLOTLYENV=window.PLOTLYENV || {};                                    if (document.getElementById(\"9e82396f-2173-4abf-88e4-02d97d1abdfe\")) {                    Plotly.newPlot(                        \"9e82396f-2173-4abf-88e4-02d97d1abdfe\",                        [{\"alignmentgroup\":\"True\",\"bingroup\":\"x\",\"hovertemplate\":\"Model_name=asia_ccdr<br>Edge Lengths=%{x}<br>count=%{y}<extra></extra>\",\"legendgroup\":\"asia_ccdr\",\"marker\":{\"color\":\"#636efa\",\"pattern\":{\"shape\":\"\"}},\"name\":\"asia_ccdr\",\"offsetgroup\":\"asia_ccdr\",\"orientation\":\"v\",\"showlegend\":true,\"x\":[2.0,0.0,2.0,0.0,0.0,0.0,2.0,0.0,0.0,0.0,1.0,0.0,0.0,0.0,0.0,1.0,1.0,0.0,0.0,1.0,2.0,0.0,0.0,0.0,0.0,0.0,0.0,0.0,0.0,0.0,1.0,0.0,0.0,0.0,0.0,0.0,0.0,1.0,0.0,0.0,0.0,1.0,2.0,0.0,1.0,0.0,0.0,0.0,1.0,0.0,0.0,0.0,1.0,0.0,1.0,0.0,2.0,2.0,0.0,0.0,0.0,2.0,0.0,1.0,0.0,0.0,1.0,0.0,0.0,1.0,0.0,0.0,0.0,0.0,2.0,1.0,2.0,0.0,0.0,0.0,0.0,0.0,0.0,0.0,0.0,0.0,0.0,0.0,0.0,0.0,0.0,0.0,0.0,0.0,0.0,0.0,0.0,0.0,1.0,0.0,0.0,1.0,0.0,0.0,0.0,0.0,0.0,0.0,0.0,0.0,0.0,0.0,0.0,0.0,0.0,2.0,0.0,0.0,0.0,0.0,1.0,0.0,0.0,0.0,0.0,0.0,0.0,1.0,0.0,0.0],\"xaxis\":\"x\",\"yaxis\":\"y\",\"type\":\"histogram\"},{\"alignmentgroup\":\"True\",\"bingroup\":\"x\",\"hovertemplate\":\"Model_name=asia_nobears<br>Edge Lengths=%{x}<br>count=%{y}<extra></extra>\",\"legendgroup\":\"asia_nobears\",\"marker\":{\"color\":\"#EF553B\",\"pattern\":{\"shape\":\"\"}},\"name\":\"asia_nobears\",\"offsetgroup\":\"asia_nobears\",\"orientation\":\"v\",\"showlegend\":true,\"x\":[0.0,0.0,0.0,0.0,0.0,0.0,0.0,0.0,0.0,0.0,0.0,0.0,0.0,0.0,0.0,0.0,0.0,1.0,0.0,0.0,0.0,0.0,0.0,0.0,0.0,0.0,0.0,0.0,0.0,0.0,0.0,0.0,0.0,0.0,0.0,0.0,0.0,0.0,0.0,0.0,0.0,0.0,0.0,0.0,0.0,0.0,0.0,0.0,0.0,0.0,0.0,0.0,0.0,0.0,0.0,0.0,0.0,0.0,0.0,0.0,0.0,0.0,0.0,0.0,0.0,0.0,0.0,0.0,0.0,1.0,0.0,1.0,0.0,0.0,0.0,0.0,0.0,0.0,0.0,0.0,0.0,0.0,0.0,0.0,0.0,0.0,0.0,0.0,0.0,0.0,0.0,0.0,0.0,0.0,0.0,0.0,0.0,0.0,0.0,0.0,0.0,0.0,0.0,0.0,0.0,0.0,1.0,0.0,0.0,0.0,0.0,0.0,0.0,0.0,0.0,0.0,0.0,0.0,0.0,0.0,0.0,0.0,0.0,0.0,0.0,0.0,0.0,0.0,1.0,0.0,0.0,0.0,0.0,0.0,0.0,0.0,0.0,0.0,0.0,0.0,0.0,0.0,0.0,0.0,0.0,0.0,0.0,0.0,0.0,1.0,0.0,0.0,0.0,0.0,0.0,0.0,0.0,0.0,0.0,0.0,0.0,0.0,0.0,0.0,0.0,0.0,0.0,0.0,0.0,0.0,0.0,0.0,0.0,0.0,0.0,0.0,0.0,0.0,0.0,0.0,0.0,0.0],\"xaxis\":\"x\",\"yaxis\":\"y\",\"type\":\"histogram\"},{\"alignmentgroup\":\"True\",\"bingroup\":\"x\",\"hovertemplate\":\"Model_name=asia_lingam<br>Edge Lengths=%{x}<br>count=%{y}<extra></extra>\",\"legendgroup\":\"asia_lingam\",\"marker\":{\"color\":\"#00cc96\",\"pattern\":{\"shape\":\"\"}},\"name\":\"asia_lingam\",\"offsetgroup\":\"asia_lingam\",\"orientation\":\"v\",\"showlegend\":true,\"x\":[0.0,0.0,0.0,0.0,0.0,0.0,0.0,0.0],\"xaxis\":\"x\",\"yaxis\":\"y\",\"type\":\"histogram\"},{\"alignmentgroup\":\"True\",\"bingroup\":\"x\",\"hovertemplate\":\"Model_name=asia_notears<br>Edge Lengths=%{x}<br>count=%{y}<extra></extra>\",\"legendgroup\":\"asia_notears\",\"marker\":{\"color\":\"#ab63fa\",\"pattern\":{\"shape\":\"\"}},\"name\":\"asia_notears\",\"offsetgroup\":\"asia_notears\",\"orientation\":\"v\",\"showlegend\":true,\"x\":[0.0,0.0,0.0,0.0,0.0,2.0,0.0,0.0,0.0,2.0,0.0,0.0,0.0,0.0,0.0,0.0,0.0,0.0,0.0,0.0,0.0,2.0,0.0,0.0,0.0,0.0,0.0,0.0,0.0,0.0,0.0],\"xaxis\":\"x\",\"yaxis\":\"y\",\"type\":\"histogram\"}],                        {\"template\":{\"data\":{\"bar\":[{\"error_x\":{\"color\":\"#2a3f5f\"},\"error_y\":{\"color\":\"#2a3f5f\"},\"marker\":{\"line\":{\"color\":\"#E5ECF6\",\"width\":0.5},\"pattern\":{\"fillmode\":\"overlay\",\"size\":10,\"solidity\":0.2}},\"type\":\"bar\"}],\"barpolar\":[{\"marker\":{\"line\":{\"color\":\"#E5ECF6\",\"width\":0.5},\"pattern\":{\"fillmode\":\"overlay\",\"size\":10,\"solidity\":0.2}},\"type\":\"barpolar\"}],\"carpet\":[{\"aaxis\":{\"endlinecolor\":\"#2a3f5f\",\"gridcolor\":\"white\",\"linecolor\":\"white\",\"minorgridcolor\":\"white\",\"startlinecolor\":\"#2a3f5f\"},\"baxis\":{\"endlinecolor\":\"#2a3f5f\",\"gridcolor\":\"white\",\"linecolor\":\"white\",\"minorgridcolor\":\"white\",\"startlinecolor\":\"#2a3f5f\"},\"type\":\"carpet\"}],\"choropleth\":[{\"colorbar\":{\"outlinewidth\":0,\"ticks\":\"\"},\"type\":\"choropleth\"}],\"contour\":[{\"colorbar\":{\"outlinewidth\":0,\"ticks\":\"\"},\"colorscale\":[[0.0,\"#0d0887\"],[0.1111111111111111,\"#46039f\"],[0.2222222222222222,\"#7201a8\"],[0.3333333333333333,\"#9c179e\"],[0.4444444444444444,\"#bd3786\"],[0.5555555555555556,\"#d8576b\"],[0.6666666666666666,\"#ed7953\"],[0.7777777777777778,\"#fb9f3a\"],[0.8888888888888888,\"#fdca26\"],[1.0,\"#f0f921\"]],\"type\":\"contour\"}],\"contourcarpet\":[{\"colorbar\":{\"outlinewidth\":0,\"ticks\":\"\"},\"type\":\"contourcarpet\"}],\"heatmap\":[{\"colorbar\":{\"outlinewidth\":0,\"ticks\":\"\"},\"colorscale\":[[0.0,\"#0d0887\"],[0.1111111111111111,\"#46039f\"],[0.2222222222222222,\"#7201a8\"],[0.3333333333333333,\"#9c179e\"],[0.4444444444444444,\"#bd3786\"],[0.5555555555555556,\"#d8576b\"],[0.6666666666666666,\"#ed7953\"],[0.7777777777777778,\"#fb9f3a\"],[0.8888888888888888,\"#fdca26\"],[1.0,\"#f0f921\"]],\"type\":\"heatmap\"}],\"heatmapgl\":[{\"colorbar\":{\"outlinewidth\":0,\"ticks\":\"\"},\"colorscale\":[[0.0,\"#0d0887\"],[0.1111111111111111,\"#46039f\"],[0.2222222222222222,\"#7201a8\"],[0.3333333333333333,\"#9c179e\"],[0.4444444444444444,\"#bd3786\"],[0.5555555555555556,\"#d8576b\"],[0.6666666666666666,\"#ed7953\"],[0.7777777777777778,\"#fb9f3a\"],[0.8888888888888888,\"#fdca26\"],[1.0,\"#f0f921\"]],\"type\":\"heatmapgl\"}],\"histogram\":[{\"marker\":{\"pattern\":{\"fillmode\":\"overlay\",\"size\":10,\"solidity\":0.2}},\"type\":\"histogram\"}],\"histogram2d\":[{\"colorbar\":{\"outlinewidth\":0,\"ticks\":\"\"},\"colorscale\":[[0.0,\"#0d0887\"],[0.1111111111111111,\"#46039f\"],[0.2222222222222222,\"#7201a8\"],[0.3333333333333333,\"#9c179e\"],[0.4444444444444444,\"#bd3786\"],[0.5555555555555556,\"#d8576b\"],[0.6666666666666666,\"#ed7953\"],[0.7777777777777778,\"#fb9f3a\"],[0.8888888888888888,\"#fdca26\"],[1.0,\"#f0f921\"]],\"type\":\"histogram2d\"}],\"histogram2dcontour\":[{\"colorbar\":{\"outlinewidth\":0,\"ticks\":\"\"},\"colorscale\":[[0.0,\"#0d0887\"],[0.1111111111111111,\"#46039f\"],[0.2222222222222222,\"#7201a8\"],[0.3333333333333333,\"#9c179e\"],[0.4444444444444444,\"#bd3786\"],[0.5555555555555556,\"#d8576b\"],[0.6666666666666666,\"#ed7953\"],[0.7777777777777778,\"#fb9f3a\"],[0.8888888888888888,\"#fdca26\"],[1.0,\"#f0f921\"]],\"type\":\"histogram2dcontour\"}],\"mesh3d\":[{\"colorbar\":{\"outlinewidth\":0,\"ticks\":\"\"},\"type\":\"mesh3d\"}],\"parcoords\":[{\"line\":{\"colorbar\":{\"outlinewidth\":0,\"ticks\":\"\"}},\"type\":\"parcoords\"}],\"pie\":[{\"automargin\":true,\"type\":\"pie\"}],\"scatter\":[{\"marker\":{\"colorbar\":{\"outlinewidth\":0,\"ticks\":\"\"}},\"type\":\"scatter\"}],\"scatter3d\":[{\"line\":{\"colorbar\":{\"outlinewidth\":0,\"ticks\":\"\"}},\"marker\":{\"colorbar\":{\"outlinewidth\":0,\"ticks\":\"\"}},\"type\":\"scatter3d\"}],\"scattercarpet\":[{\"marker\":{\"colorbar\":{\"outlinewidth\":0,\"ticks\":\"\"}},\"type\":\"scattercarpet\"}],\"scattergeo\":[{\"marker\":{\"colorbar\":{\"outlinewidth\":0,\"ticks\":\"\"}},\"type\":\"scattergeo\"}],\"scattergl\":[{\"marker\":{\"colorbar\":{\"outlinewidth\":0,\"ticks\":\"\"}},\"type\":\"scattergl\"}],\"scattermapbox\":[{\"marker\":{\"colorbar\":{\"outlinewidth\":0,\"ticks\":\"\"}},\"type\":\"scattermapbox\"}],\"scatterpolar\":[{\"marker\":{\"colorbar\":{\"outlinewidth\":0,\"ticks\":\"\"}},\"type\":\"scatterpolar\"}],\"scatterpolargl\":[{\"marker\":{\"colorbar\":{\"outlinewidth\":0,\"ticks\":\"\"}},\"type\":\"scatterpolargl\"}],\"scatterternary\":[{\"marker\":{\"colorbar\":{\"outlinewidth\":0,\"ticks\":\"\"}},\"type\":\"scatterternary\"}],\"surface\":[{\"colorbar\":{\"outlinewidth\":0,\"ticks\":\"\"},\"colorscale\":[[0.0,\"#0d0887\"],[0.1111111111111111,\"#46039f\"],[0.2222222222222222,\"#7201a8\"],[0.3333333333333333,\"#9c179e\"],[0.4444444444444444,\"#bd3786\"],[0.5555555555555556,\"#d8576b\"],[0.6666666666666666,\"#ed7953\"],[0.7777777777777778,\"#fb9f3a\"],[0.8888888888888888,\"#fdca26\"],[1.0,\"#f0f921\"]],\"type\":\"surface\"}],\"table\":[{\"cells\":{\"fill\":{\"color\":\"#EBF0F8\"},\"line\":{\"color\":\"white\"}},\"header\":{\"fill\":{\"color\":\"#C8D4E3\"},\"line\":{\"color\":\"white\"}},\"type\":\"table\"}]},\"layout\":{\"annotationdefaults\":{\"arrowcolor\":\"#2a3f5f\",\"arrowhead\":0,\"arrowwidth\":1},\"autotypenumbers\":\"strict\",\"coloraxis\":{\"colorbar\":{\"outlinewidth\":0,\"ticks\":\"\"}},\"colorscale\":{\"diverging\":[[0,\"#8e0152\"],[0.1,\"#c51b7d\"],[0.2,\"#de77ae\"],[0.3,\"#f1b6da\"],[0.4,\"#fde0ef\"],[0.5,\"#f7f7f7\"],[0.6,\"#e6f5d0\"],[0.7,\"#b8e186\"],[0.8,\"#7fbc41\"],[0.9,\"#4d9221\"],[1,\"#276419\"]],\"sequential\":[[0.0,\"#0d0887\"],[0.1111111111111111,\"#46039f\"],[0.2222222222222222,\"#7201a8\"],[0.3333333333333333,\"#9c179e\"],[0.4444444444444444,\"#bd3786\"],[0.5555555555555556,\"#d8576b\"],[0.6666666666666666,\"#ed7953\"],[0.7777777777777778,\"#fb9f3a\"],[0.8888888888888888,\"#fdca26\"],[1.0,\"#f0f921\"]],\"sequentialminus\":[[0.0,\"#0d0887\"],[0.1111111111111111,\"#46039f\"],[0.2222222222222222,\"#7201a8\"],[0.3333333333333333,\"#9c179e\"],[0.4444444444444444,\"#bd3786\"],[0.5555555555555556,\"#d8576b\"],[0.6666666666666666,\"#ed7953\"],[0.7777777777777778,\"#fb9f3a\"],[0.8888888888888888,\"#fdca26\"],[1.0,\"#f0f921\"]]},\"colorway\":[\"#636efa\",\"#EF553B\",\"#00cc96\",\"#ab63fa\",\"#FFA15A\",\"#19d3f3\",\"#FF6692\",\"#B6E880\",\"#FF97FF\",\"#FECB52\"],\"font\":{\"color\":\"#2a3f5f\"},\"geo\":{\"bgcolor\":\"white\",\"lakecolor\":\"white\",\"landcolor\":\"#E5ECF6\",\"showlakes\":true,\"showland\":true,\"subunitcolor\":\"white\"},\"hoverlabel\":{\"align\":\"left\"},\"hovermode\":\"closest\",\"mapbox\":{\"style\":\"light\"},\"paper_bgcolor\":\"white\",\"plot_bgcolor\":\"#E5ECF6\",\"polar\":{\"angularaxis\":{\"gridcolor\":\"white\",\"linecolor\":\"white\",\"ticks\":\"\"},\"bgcolor\":\"#E5ECF6\",\"radialaxis\":{\"gridcolor\":\"white\",\"linecolor\":\"white\",\"ticks\":\"\"}},\"scene\":{\"xaxis\":{\"backgroundcolor\":\"#E5ECF6\",\"gridcolor\":\"white\",\"gridwidth\":2,\"linecolor\":\"white\",\"showbackground\":true,\"ticks\":\"\",\"zerolinecolor\":\"white\"},\"yaxis\":{\"backgroundcolor\":\"#E5ECF6\",\"gridcolor\":\"white\",\"gridwidth\":2,\"linecolor\":\"white\",\"showbackground\":true,\"ticks\":\"\",\"zerolinecolor\":\"white\"},\"zaxis\":{\"backgroundcolor\":\"#E5ECF6\",\"gridcolor\":\"white\",\"gridwidth\":2,\"linecolor\":\"white\",\"showbackground\":true,\"ticks\":\"\",\"zerolinecolor\":\"white\"}},\"shapedefaults\":{\"line\":{\"color\":\"#2a3f5f\"}},\"ternary\":{\"aaxis\":{\"gridcolor\":\"white\",\"linecolor\":\"white\",\"ticks\":\"\"},\"baxis\":{\"gridcolor\":\"white\",\"linecolor\":\"white\",\"ticks\":\"\"},\"bgcolor\":\"#E5ECF6\",\"caxis\":{\"gridcolor\":\"white\",\"linecolor\":\"white\",\"ticks\":\"\"}},\"title\":{\"x\":0.05},\"xaxis\":{\"automargin\":true,\"gridcolor\":\"white\",\"linecolor\":\"white\",\"ticks\":\"\",\"title\":{\"standoff\":15},\"zerolinecolor\":\"white\",\"zerolinewidth\":2},\"yaxis\":{\"automargin\":true,\"gridcolor\":\"white\",\"linecolor\":\"white\",\"ticks\":\"\",\"title\":{\"standoff\":15},\"zerolinecolor\":\"white\",\"zerolinewidth\":2}}},\"xaxis\":{\"anchor\":\"y\",\"domain\":[0.0,1.0],\"title\":{\"text\":\"Edge Lengths\"}},\"yaxis\":{\"anchor\":\"x\",\"domain\":[0.0,1.0],\"title\":{\"text\":\"Count\"}},\"legend\":{\"title\":{\"text\":\"Model_name\"},\"tracegroupgap\":0},\"margin\":{\"t\":60},\"barmode\":\"group\",\"title\":{\"text\":\"Histogram for Edge Lengths: asia\"}},                        {\"responsive\": true}                    ).then(function(){\n",
       "                            \n",
       "var gd = document.getElementById('9e82396f-2173-4abf-88e4-02d97d1abdfe');\n",
       "var x = new MutationObserver(function (mutations, observer) {{\n",
       "        var display = window.getComputedStyle(gd).display;\n",
       "        if (!display || display === 'none') {{\n",
       "            console.log([gd, 'removed!']);\n",
       "            Plotly.purge(gd);\n",
       "            observer.disconnect();\n",
       "        }}\n",
       "}});\n",
       "\n",
       "// Listen for the removal of the full notebook cells\n",
       "var notebookContainer = gd.closest('#notebook-container');\n",
       "if (notebookContainer) {{\n",
       "    x.observe(notebookContainer, {childList: true});\n",
       "}}\n",
       "\n",
       "// Listen for the clearing of the current output cell\n",
       "var outputEl = gd.closest('.output');\n",
       "if (outputEl) {{\n",
       "    x.observe(outputEl, {childList: true});\n",
       "}}\n",
       "\n",
       "                        })                };                });            </script>        </div>"
      ]
     },
     "metadata": {},
     "output_type": "display_data"
    }
   ],
   "source": [
    "fig = px.histogram(df, x=\"Edge Lengths\", color='Model_name', barmode='group')\n",
    "fig.update_layout(\n",
    "    title_text=f'Histogram for Edge Lengths: {dataset_name}', # title of plot\n",
    "    xaxis_title_text='Edge Lengths', # xaxis label\n",
    "    yaxis_title_text='Count', # yaxis label\n",
    ")\n",
    "fig.show()\n"
   ]
  },
  {
   "cell_type": "code",
   "execution_count": 143,
   "id": "2212a296",
   "metadata": {},
   "outputs": [
    {
     "data": {
      "application/vnd.plotly.v1+json": {
       "config": {
        "plotlyServerURL": "https://plot.ly"
       },
       "data": [
        {
         "alignmentgroup": "True",
         "bingroup": "x",
         "histnorm": "percent",
         "hovertemplate": "Model_name=asia_ccdr<br>degree_centrality_target=%{x}<br>percent=%{y}<extra></extra>",
         "legendgroup": "asia_ccdr",
         "marker": {
          "color": "#636efa",
          "pattern": {
           "shape": ""
          }
         },
         "name": "asia_ccdr",
         "offsetgroup": "asia_ccdr",
         "orientation": "v",
         "showlegend": true,
         "type": "histogram",
         "x": [
          0.14285714285714285,
          0.14285714285714285,
          0.14285714285714285,
          0,
          0,
          0.14285714285714285,
          0.14285714285714285,
          0,
          0.14285714285714285,
          0,
          0.42857142857142855,
          0,
          0.14285714285714285,
          0,
          0.14285714285714285,
          0.14285714285714285,
          0.42857142857142855,
          0,
          0,
          0.42857142857142855,
          0.14285714285714285,
          0.14285714285714285,
          0,
          0.14285714285714285,
          0,
          0.14285714285714285,
          0.42857142857142855,
          0.14285714285714285,
          0,
          0.14285714285714285,
          0.42857142857142855,
          0.14285714285714285,
          0.14285714285714285,
          0,
          0,
          0.14285714285714285,
          0.14285714285714285,
          0.42857142857142855,
          0,
          0,
          0.14285714285714285,
          0.42857142857142855,
          0.14285714285714285,
          0,
          0.42857142857142855,
          0.14285714285714285,
          0,
          0.14285714285714285,
          0.14285714285714285,
          0.14285714285714285,
          0,
          0.14285714285714285,
          0.14285714285714285,
          0,
          0.42857142857142855,
          0.14285714285714285,
          0.14285714285714285,
          0.14285714285714285,
          0,
          0.14285714285714285,
          0.14285714285714285,
          0.14285714285714285,
          0,
          0.14285714285714285,
          0.14285714285714285,
          0,
          0.42857142857142855,
          0,
          0,
          0.42857142857142855,
          0,
          0.14285714285714285,
          0,
          0,
          0.14285714285714285,
          0.42857142857142855,
          0.14285714285714285,
          0,
          0,
          0.14285714285714285,
          0.14285714285714285,
          0.14285714285714285,
          0,
          0.14285714285714285,
          0,
          0.14285714285714285,
          0.14285714285714285,
          0.14285714285714285,
          0,
          0,
          0,
          0.14285714285714285,
          0.14285714285714285,
          0.14285714285714285,
          0,
          0.14285714285714285,
          0,
          0.14285714285714285,
          0.42857142857142855,
          0,
          0.14285714285714285,
          0.42857142857142855,
          0.14285714285714285,
          0,
          0.14285714285714285,
          0.14285714285714285,
          0.14285714285714285,
          0.14285714285714285,
          0.14285714285714285,
          0,
          0.14285714285714285,
          0.14285714285714285,
          0,
          0,
          0.14285714285714285,
          0.14285714285714285,
          0.14285714285714285,
          0.42857142857142855,
          0.42857142857142855,
          0.14285714285714285,
          0.14285714285714285,
          0.14285714285714285,
          0.14285714285714285,
          0.14285714285714285,
          0.14285714285714285,
          0.14285714285714285,
          0.14285714285714285,
          0.42857142857142855,
          0,
          0.14285714285714285
         ],
         "xaxis": "x",
         "yaxis": "y"
        },
        {
         "alignmentgroup": "True",
         "bingroup": "x",
         "histnorm": "percent",
         "hovertemplate": "Model_name=asia_nobears<br>degree_centrality_target=%{x}<br>percent=%{y}<extra></extra>",
         "legendgroup": "asia_nobears",
         "marker": {
          "color": "#EF553B",
          "pattern": {
           "shape": ""
          }
         },
         "name": "asia_nobears",
         "offsetgroup": "asia_nobears",
         "orientation": "v",
         "showlegend": true,
         "type": "histogram",
         "x": [
          0.14285714285714285,
          0.14285714285714285,
          0.14285714285714285,
          0,
          0.14285714285714285,
          0,
          0,
          0.14285714285714285,
          0.42857142857142855,
          0.14285714285714285,
          0.14285714285714285,
          0.14285714285714285,
          0.14285714285714285,
          0.14285714285714285,
          0.42857142857142855,
          0,
          0,
          0.14285714285714285,
          0.14285714285714285,
          0.14285714285714285,
          0.14285714285714285,
          0.14285714285714285,
          0.14285714285714285,
          0.14285714285714285,
          0.14285714285714285,
          0.14285714285714285,
          0.14285714285714285,
          0.42857142857142855,
          0,
          0,
          0.42857142857142855,
          0.14285714285714285,
          0.14285714285714285,
          0.14285714285714285,
          0,
          0,
          0.14285714285714285,
          0.14285714285714285,
          0,
          0.14285714285714285,
          0,
          0,
          0,
          0.14285714285714285,
          0.42857142857142855,
          0,
          0,
          0.42857142857142855,
          0,
          0,
          0.14285714285714285,
          0.14285714285714285,
          0.14285714285714285,
          0,
          0.14285714285714285,
          0.14285714285714285,
          0,
          0,
          0,
          0,
          0,
          0,
          0.14285714285714285,
          0.14285714285714285,
          0,
          0,
          0.14285714285714285,
          0.14285714285714285,
          0.14285714285714285,
          0.14285714285714285,
          0.14285714285714285,
          0.14285714285714285,
          0.42857142857142855,
          0.14285714285714285,
          0.14285714285714285,
          0.14285714285714285,
          0,
          0.42857142857142855,
          0.14285714285714285,
          0.14285714285714285,
          0,
          0.14285714285714285,
          0.14285714285714285,
          0.14285714285714285,
          0.14285714285714285,
          0.14285714285714285,
          0,
          0.14285714285714285,
          0.14285714285714285,
          0,
          0.14285714285714285,
          0.14285714285714285,
          0.42857142857142855,
          0.14285714285714285,
          0,
          0.14285714285714285,
          0.14285714285714285,
          0.14285714285714285,
          0.14285714285714285,
          0.14285714285714285,
          0,
          0.14285714285714285,
          0.14285714285714285,
          0,
          0.14285714285714285,
          0.14285714285714285,
          0.14285714285714285,
          0.14285714285714285,
          0.14285714285714285,
          0.14285714285714285,
          0.14285714285714285,
          0.14285714285714285,
          0.14285714285714285,
          0.14285714285714285,
          0,
          0.14285714285714285,
          0.14285714285714285,
          0.14285714285714285,
          0.14285714285714285,
          0.14285714285714285,
          0.14285714285714285,
          0.14285714285714285,
          0.14285714285714285,
          0.14285714285714285,
          0,
          0.14285714285714285,
          0.14285714285714285,
          0.14285714285714285,
          0.14285714285714285,
          0.14285714285714285,
          0.14285714285714285,
          0,
          0.14285714285714285,
          0,
          0.14285714285714285,
          0.14285714285714285,
          0,
          0.14285714285714285,
          0.14285714285714285,
          0.14285714285714285,
          0,
          0,
          0.14285714285714285,
          0.14285714285714285,
          0.42857142857142855,
          0.14285714285714285,
          0.14285714285714285,
          0.14285714285714285,
          0.14285714285714285,
          0.14285714285714285,
          0,
          0.14285714285714285,
          0,
          0.14285714285714285,
          0.14285714285714285,
          0.14285714285714285,
          0,
          0,
          0,
          0.14285714285714285,
          0,
          0.42857142857142855,
          0.14285714285714285,
          0.42857142857142855,
          0.14285714285714285,
          0,
          0.42857142857142855,
          0.14285714285714285,
          0,
          0.14285714285714285,
          0.14285714285714285,
          0.14285714285714285,
          0.42857142857142855,
          0,
          0.14285714285714285,
          0,
          0.42857142857142855,
          0.14285714285714285,
          0.14285714285714285,
          0.14285714285714285,
          0,
          0
         ],
         "xaxis": "x",
         "yaxis": "y"
        },
        {
         "alignmentgroup": "True",
         "bingroup": "x",
         "histnorm": "percent",
         "hovertemplate": "Model_name=asia_lingam<br>degree_centrality_target=%{x}<br>percent=%{y}<extra></extra>",
         "legendgroup": "asia_lingam",
         "marker": {
          "color": "#00cc96",
          "pattern": {
           "shape": ""
          }
         },
         "name": "asia_lingam",
         "offsetgroup": "asia_lingam",
         "orientation": "v",
         "showlegend": true,
         "type": "histogram",
         "x": [
          0,
          0.14285714285714285,
          0,
          0,
          0.14285714285714285,
          0.14285714285714285,
          0.14285714285714285,
          0.14285714285714285
         ],
         "xaxis": "x",
         "yaxis": "y"
        },
        {
         "alignmentgroup": "True",
         "bingroup": "x",
         "histnorm": "percent",
         "hovertemplate": "Model_name=asia_notears<br>degree_centrality_target=%{x}<br>percent=%{y}<extra></extra>",
         "legendgroup": "asia_notears",
         "marker": {
          "color": "#ab63fa",
          "pattern": {
           "shape": ""
          }
         },
         "name": "asia_notears",
         "offsetgroup": "asia_notears",
         "orientation": "v",
         "showlegend": true,
         "type": "histogram",
         "x": [
          0.14285714285714285,
          0.42857142857142855,
          0.42857142857142855,
          0.14285714285714285,
          0.14285714285714285,
          0.14285714285714285,
          0.42857142857142855,
          0.14285714285714285,
          0.42857142857142855,
          0.14285714285714285,
          0.14285714285714285,
          0.14285714285714285,
          0.42857142857142855,
          0.42857142857142855,
          0.14285714285714285,
          0.14285714285714285,
          0.14285714285714285,
          0.42857142857142855,
          0.42857142857142855,
          0.14285714285714285,
          0.42857142857142855,
          0.14285714285714285,
          0.14285714285714285,
          0.42857142857142855,
          0.42857142857142855,
          0.14285714285714285,
          0.14285714285714285,
          0.14285714285714285,
          0.42857142857142855,
          0.14285714285714285,
          0.14285714285714285
         ],
         "xaxis": "x",
         "yaxis": "y"
        }
       ],
       "layout": {
        "barmode": "group",
        "legend": {
         "title": {
          "text": "Model_name"
         },
         "tracegroupgap": 0
        },
        "margin": {
         "t": 60
        },
        "template": {
         "data": {
          "bar": [
           {
            "error_x": {
             "color": "#2a3f5f"
            },
            "error_y": {
             "color": "#2a3f5f"
            },
            "marker": {
             "line": {
              "color": "#E5ECF6",
              "width": 0.5
             },
             "pattern": {
              "fillmode": "overlay",
              "size": 10,
              "solidity": 0.2
             }
            },
            "type": "bar"
           }
          ],
          "barpolar": [
           {
            "marker": {
             "line": {
              "color": "#E5ECF6",
              "width": 0.5
             },
             "pattern": {
              "fillmode": "overlay",
              "size": 10,
              "solidity": 0.2
             }
            },
            "type": "barpolar"
           }
          ],
          "carpet": [
           {
            "aaxis": {
             "endlinecolor": "#2a3f5f",
             "gridcolor": "white",
             "linecolor": "white",
             "minorgridcolor": "white",
             "startlinecolor": "#2a3f5f"
            },
            "baxis": {
             "endlinecolor": "#2a3f5f",
             "gridcolor": "white",
             "linecolor": "white",
             "minorgridcolor": "white",
             "startlinecolor": "#2a3f5f"
            },
            "type": "carpet"
           }
          ],
          "choropleth": [
           {
            "colorbar": {
             "outlinewidth": 0,
             "ticks": ""
            },
            "type": "choropleth"
           }
          ],
          "contour": [
           {
            "colorbar": {
             "outlinewidth": 0,
             "ticks": ""
            },
            "colorscale": [
             [
              0,
              "#0d0887"
             ],
             [
              0.1111111111111111,
              "#46039f"
             ],
             [
              0.2222222222222222,
              "#7201a8"
             ],
             [
              0.3333333333333333,
              "#9c179e"
             ],
             [
              0.4444444444444444,
              "#bd3786"
             ],
             [
              0.5555555555555556,
              "#d8576b"
             ],
             [
              0.6666666666666666,
              "#ed7953"
             ],
             [
              0.7777777777777778,
              "#fb9f3a"
             ],
             [
              0.8888888888888888,
              "#fdca26"
             ],
             [
              1,
              "#f0f921"
             ]
            ],
            "type": "contour"
           }
          ],
          "contourcarpet": [
           {
            "colorbar": {
             "outlinewidth": 0,
             "ticks": ""
            },
            "type": "contourcarpet"
           }
          ],
          "heatmap": [
           {
            "colorbar": {
             "outlinewidth": 0,
             "ticks": ""
            },
            "colorscale": [
             [
              0,
              "#0d0887"
             ],
             [
              0.1111111111111111,
              "#46039f"
             ],
             [
              0.2222222222222222,
              "#7201a8"
             ],
             [
              0.3333333333333333,
              "#9c179e"
             ],
             [
              0.4444444444444444,
              "#bd3786"
             ],
             [
              0.5555555555555556,
              "#d8576b"
             ],
             [
              0.6666666666666666,
              "#ed7953"
             ],
             [
              0.7777777777777778,
              "#fb9f3a"
             ],
             [
              0.8888888888888888,
              "#fdca26"
             ],
             [
              1,
              "#f0f921"
             ]
            ],
            "type": "heatmap"
           }
          ],
          "heatmapgl": [
           {
            "colorbar": {
             "outlinewidth": 0,
             "ticks": ""
            },
            "colorscale": [
             [
              0,
              "#0d0887"
             ],
             [
              0.1111111111111111,
              "#46039f"
             ],
             [
              0.2222222222222222,
              "#7201a8"
             ],
             [
              0.3333333333333333,
              "#9c179e"
             ],
             [
              0.4444444444444444,
              "#bd3786"
             ],
             [
              0.5555555555555556,
              "#d8576b"
             ],
             [
              0.6666666666666666,
              "#ed7953"
             ],
             [
              0.7777777777777778,
              "#fb9f3a"
             ],
             [
              0.8888888888888888,
              "#fdca26"
             ],
             [
              1,
              "#f0f921"
             ]
            ],
            "type": "heatmapgl"
           }
          ],
          "histogram": [
           {
            "marker": {
             "pattern": {
              "fillmode": "overlay",
              "size": 10,
              "solidity": 0.2
             }
            },
            "type": "histogram"
           }
          ],
          "histogram2d": [
           {
            "colorbar": {
             "outlinewidth": 0,
             "ticks": ""
            },
            "colorscale": [
             [
              0,
              "#0d0887"
             ],
             [
              0.1111111111111111,
              "#46039f"
             ],
             [
              0.2222222222222222,
              "#7201a8"
             ],
             [
              0.3333333333333333,
              "#9c179e"
             ],
             [
              0.4444444444444444,
              "#bd3786"
             ],
             [
              0.5555555555555556,
              "#d8576b"
             ],
             [
              0.6666666666666666,
              "#ed7953"
             ],
             [
              0.7777777777777778,
              "#fb9f3a"
             ],
             [
              0.8888888888888888,
              "#fdca26"
             ],
             [
              1,
              "#f0f921"
             ]
            ],
            "type": "histogram2d"
           }
          ],
          "histogram2dcontour": [
           {
            "colorbar": {
             "outlinewidth": 0,
             "ticks": ""
            },
            "colorscale": [
             [
              0,
              "#0d0887"
             ],
             [
              0.1111111111111111,
              "#46039f"
             ],
             [
              0.2222222222222222,
              "#7201a8"
             ],
             [
              0.3333333333333333,
              "#9c179e"
             ],
             [
              0.4444444444444444,
              "#bd3786"
             ],
             [
              0.5555555555555556,
              "#d8576b"
             ],
             [
              0.6666666666666666,
              "#ed7953"
             ],
             [
              0.7777777777777778,
              "#fb9f3a"
             ],
             [
              0.8888888888888888,
              "#fdca26"
             ],
             [
              1,
              "#f0f921"
             ]
            ],
            "type": "histogram2dcontour"
           }
          ],
          "mesh3d": [
           {
            "colorbar": {
             "outlinewidth": 0,
             "ticks": ""
            },
            "type": "mesh3d"
           }
          ],
          "parcoords": [
           {
            "line": {
             "colorbar": {
              "outlinewidth": 0,
              "ticks": ""
             }
            },
            "type": "parcoords"
           }
          ],
          "pie": [
           {
            "automargin": true,
            "type": "pie"
           }
          ],
          "scatter": [
           {
            "marker": {
             "colorbar": {
              "outlinewidth": 0,
              "ticks": ""
             }
            },
            "type": "scatter"
           }
          ],
          "scatter3d": [
           {
            "line": {
             "colorbar": {
              "outlinewidth": 0,
              "ticks": ""
             }
            },
            "marker": {
             "colorbar": {
              "outlinewidth": 0,
              "ticks": ""
             }
            },
            "type": "scatter3d"
           }
          ],
          "scattercarpet": [
           {
            "marker": {
             "colorbar": {
              "outlinewidth": 0,
              "ticks": ""
             }
            },
            "type": "scattercarpet"
           }
          ],
          "scattergeo": [
           {
            "marker": {
             "colorbar": {
              "outlinewidth": 0,
              "ticks": ""
             }
            },
            "type": "scattergeo"
           }
          ],
          "scattergl": [
           {
            "marker": {
             "colorbar": {
              "outlinewidth": 0,
              "ticks": ""
             }
            },
            "type": "scattergl"
           }
          ],
          "scattermapbox": [
           {
            "marker": {
             "colorbar": {
              "outlinewidth": 0,
              "ticks": ""
             }
            },
            "type": "scattermapbox"
           }
          ],
          "scatterpolar": [
           {
            "marker": {
             "colorbar": {
              "outlinewidth": 0,
              "ticks": ""
             }
            },
            "type": "scatterpolar"
           }
          ],
          "scatterpolargl": [
           {
            "marker": {
             "colorbar": {
              "outlinewidth": 0,
              "ticks": ""
             }
            },
            "type": "scatterpolargl"
           }
          ],
          "scatterternary": [
           {
            "marker": {
             "colorbar": {
              "outlinewidth": 0,
              "ticks": ""
             }
            },
            "type": "scatterternary"
           }
          ],
          "surface": [
           {
            "colorbar": {
             "outlinewidth": 0,
             "ticks": ""
            },
            "colorscale": [
             [
              0,
              "#0d0887"
             ],
             [
              0.1111111111111111,
              "#46039f"
             ],
             [
              0.2222222222222222,
              "#7201a8"
             ],
             [
              0.3333333333333333,
              "#9c179e"
             ],
             [
              0.4444444444444444,
              "#bd3786"
             ],
             [
              0.5555555555555556,
              "#d8576b"
             ],
             [
              0.6666666666666666,
              "#ed7953"
             ],
             [
              0.7777777777777778,
              "#fb9f3a"
             ],
             [
              0.8888888888888888,
              "#fdca26"
             ],
             [
              1,
              "#f0f921"
             ]
            ],
            "type": "surface"
           }
          ],
          "table": [
           {
            "cells": {
             "fill": {
              "color": "#EBF0F8"
             },
             "line": {
              "color": "white"
             }
            },
            "header": {
             "fill": {
              "color": "#C8D4E3"
             },
             "line": {
              "color": "white"
             }
            },
            "type": "table"
           }
          ]
         },
         "layout": {
          "annotationdefaults": {
           "arrowcolor": "#2a3f5f",
           "arrowhead": 0,
           "arrowwidth": 1
          },
          "autotypenumbers": "strict",
          "coloraxis": {
           "colorbar": {
            "outlinewidth": 0,
            "ticks": ""
           }
          },
          "colorscale": {
           "diverging": [
            [
             0,
             "#8e0152"
            ],
            [
             0.1,
             "#c51b7d"
            ],
            [
             0.2,
             "#de77ae"
            ],
            [
             0.3,
             "#f1b6da"
            ],
            [
             0.4,
             "#fde0ef"
            ],
            [
             0.5,
             "#f7f7f7"
            ],
            [
             0.6,
             "#e6f5d0"
            ],
            [
             0.7,
             "#b8e186"
            ],
            [
             0.8,
             "#7fbc41"
            ],
            [
             0.9,
             "#4d9221"
            ],
            [
             1,
             "#276419"
            ]
           ],
           "sequential": [
            [
             0,
             "#0d0887"
            ],
            [
             0.1111111111111111,
             "#46039f"
            ],
            [
             0.2222222222222222,
             "#7201a8"
            ],
            [
             0.3333333333333333,
             "#9c179e"
            ],
            [
             0.4444444444444444,
             "#bd3786"
            ],
            [
             0.5555555555555556,
             "#d8576b"
            ],
            [
             0.6666666666666666,
             "#ed7953"
            ],
            [
             0.7777777777777778,
             "#fb9f3a"
            ],
            [
             0.8888888888888888,
             "#fdca26"
            ],
            [
             1,
             "#f0f921"
            ]
           ],
           "sequentialminus": [
            [
             0,
             "#0d0887"
            ],
            [
             0.1111111111111111,
             "#46039f"
            ],
            [
             0.2222222222222222,
             "#7201a8"
            ],
            [
             0.3333333333333333,
             "#9c179e"
            ],
            [
             0.4444444444444444,
             "#bd3786"
            ],
            [
             0.5555555555555556,
             "#d8576b"
            ],
            [
             0.6666666666666666,
             "#ed7953"
            ],
            [
             0.7777777777777778,
             "#fb9f3a"
            ],
            [
             0.8888888888888888,
             "#fdca26"
            ],
            [
             1,
             "#f0f921"
            ]
           ]
          },
          "colorway": [
           "#636efa",
           "#EF553B",
           "#00cc96",
           "#ab63fa",
           "#FFA15A",
           "#19d3f3",
           "#FF6692",
           "#B6E880",
           "#FF97FF",
           "#FECB52"
          ],
          "font": {
           "color": "#2a3f5f"
          },
          "geo": {
           "bgcolor": "white",
           "lakecolor": "white",
           "landcolor": "#E5ECF6",
           "showlakes": true,
           "showland": true,
           "subunitcolor": "white"
          },
          "hoverlabel": {
           "align": "left"
          },
          "hovermode": "closest",
          "mapbox": {
           "style": "light"
          },
          "paper_bgcolor": "white",
          "plot_bgcolor": "#E5ECF6",
          "polar": {
           "angularaxis": {
            "gridcolor": "white",
            "linecolor": "white",
            "ticks": ""
           },
           "bgcolor": "#E5ECF6",
           "radialaxis": {
            "gridcolor": "white",
            "linecolor": "white",
            "ticks": ""
           }
          },
          "scene": {
           "xaxis": {
            "backgroundcolor": "#E5ECF6",
            "gridcolor": "white",
            "gridwidth": 2,
            "linecolor": "white",
            "showbackground": true,
            "ticks": "",
            "zerolinecolor": "white"
           },
           "yaxis": {
            "backgroundcolor": "#E5ECF6",
            "gridcolor": "white",
            "gridwidth": 2,
            "linecolor": "white",
            "showbackground": true,
            "ticks": "",
            "zerolinecolor": "white"
           },
           "zaxis": {
            "backgroundcolor": "#E5ECF6",
            "gridcolor": "white",
            "gridwidth": 2,
            "linecolor": "white",
            "showbackground": true,
            "ticks": "",
            "zerolinecolor": "white"
           }
          },
          "shapedefaults": {
           "line": {
            "color": "#2a3f5f"
           }
          },
          "ternary": {
           "aaxis": {
            "gridcolor": "white",
            "linecolor": "white",
            "ticks": ""
           },
           "baxis": {
            "gridcolor": "white",
            "linecolor": "white",
            "ticks": ""
           },
           "bgcolor": "#E5ECF6",
           "caxis": {
            "gridcolor": "white",
            "linecolor": "white",
            "ticks": ""
           }
          },
          "title": {
           "x": 0.05
          },
          "xaxis": {
           "automargin": true,
           "gridcolor": "white",
           "linecolor": "white",
           "ticks": "",
           "title": {
            "standoff": 15
           },
           "zerolinecolor": "white",
           "zerolinewidth": 2
          },
          "yaxis": {
           "automargin": true,
           "gridcolor": "white",
           "linecolor": "white",
           "ticks": "",
           "title": {
            "standoff": 15
           },
           "zerolinecolor": "white",
           "zerolinewidth": 2
          }
         }
        },
        "title": {
         "text": "Histogram for Target Variable Degree Centrality: asia %age"
        },
        "xaxis": {
         "anchor": "y",
         "domain": [
          0,
          1
         ],
         "title": {
          "text": "Degree Centrality"
         }
        },
        "yaxis": {
         "anchor": "x",
         "domain": [
          0,
          1
         ],
         "title": {
          "text": "Count"
         }
        }
       }
      },
      "text/html": [
       "<div>                            <div id=\"8c97e689-5bac-4c22-af6d-60140f3b3729\" class=\"plotly-graph-div\" style=\"height:525px; width:100%;\"></div>            <script type=\"text/javascript\">                require([\"plotly\"], function(Plotly) {                    window.PLOTLYENV=window.PLOTLYENV || {};                                    if (document.getElementById(\"8c97e689-5bac-4c22-af6d-60140f3b3729\")) {                    Plotly.newPlot(                        \"8c97e689-5bac-4c22-af6d-60140f3b3729\",                        [{\"alignmentgroup\":\"True\",\"bingroup\":\"x\",\"histnorm\":\"percent\",\"hovertemplate\":\"Model_name=asia_ccdr<br>degree_centrality_target=%{x}<br>percent=%{y}<extra></extra>\",\"legendgroup\":\"asia_ccdr\",\"marker\":{\"color\":\"#636efa\",\"pattern\":{\"shape\":\"\"}},\"name\":\"asia_ccdr\",\"offsetgroup\":\"asia_ccdr\",\"orientation\":\"v\",\"showlegend\":true,\"x\":[0.14285714285714285,0.14285714285714285,0.14285714285714285,0.0,0.0,0.14285714285714285,0.14285714285714285,0.0,0.14285714285714285,0.0,0.42857142857142855,0.0,0.14285714285714285,0.0,0.14285714285714285,0.14285714285714285,0.42857142857142855,0.0,0.0,0.42857142857142855,0.14285714285714285,0.14285714285714285,0.0,0.14285714285714285,0.0,0.14285714285714285,0.42857142857142855,0.14285714285714285,0.0,0.14285714285714285,0.42857142857142855,0.14285714285714285,0.14285714285714285,0.0,0.0,0.14285714285714285,0.14285714285714285,0.42857142857142855,0.0,0.0,0.14285714285714285,0.42857142857142855,0.14285714285714285,0.0,0.42857142857142855,0.14285714285714285,0.0,0.14285714285714285,0.14285714285714285,0.14285714285714285,0.0,0.14285714285714285,0.14285714285714285,0.0,0.42857142857142855,0.14285714285714285,0.14285714285714285,0.14285714285714285,0.0,0.14285714285714285,0.14285714285714285,0.14285714285714285,0.0,0.14285714285714285,0.14285714285714285,0.0,0.42857142857142855,0.0,0.0,0.42857142857142855,0.0,0.14285714285714285,0.0,0.0,0.14285714285714285,0.42857142857142855,0.14285714285714285,0.0,0.0,0.14285714285714285,0.14285714285714285,0.14285714285714285,0.0,0.14285714285714285,0.0,0.14285714285714285,0.14285714285714285,0.14285714285714285,0.0,0.0,0.0,0.14285714285714285,0.14285714285714285,0.14285714285714285,0.0,0.14285714285714285,0.0,0.14285714285714285,0.42857142857142855,0.0,0.14285714285714285,0.42857142857142855,0.14285714285714285,0.0,0.14285714285714285,0.14285714285714285,0.14285714285714285,0.14285714285714285,0.14285714285714285,0.0,0.14285714285714285,0.14285714285714285,0.0,0.0,0.14285714285714285,0.14285714285714285,0.14285714285714285,0.42857142857142855,0.42857142857142855,0.14285714285714285,0.14285714285714285,0.14285714285714285,0.14285714285714285,0.14285714285714285,0.14285714285714285,0.14285714285714285,0.14285714285714285,0.42857142857142855,0.0,0.14285714285714285],\"xaxis\":\"x\",\"yaxis\":\"y\",\"type\":\"histogram\"},{\"alignmentgroup\":\"True\",\"bingroup\":\"x\",\"histnorm\":\"percent\",\"hovertemplate\":\"Model_name=asia_nobears<br>degree_centrality_target=%{x}<br>percent=%{y}<extra></extra>\",\"legendgroup\":\"asia_nobears\",\"marker\":{\"color\":\"#EF553B\",\"pattern\":{\"shape\":\"\"}},\"name\":\"asia_nobears\",\"offsetgroup\":\"asia_nobears\",\"orientation\":\"v\",\"showlegend\":true,\"x\":[0.14285714285714285,0.14285714285714285,0.14285714285714285,0.0,0.14285714285714285,0.0,0.0,0.14285714285714285,0.42857142857142855,0.14285714285714285,0.14285714285714285,0.14285714285714285,0.14285714285714285,0.14285714285714285,0.42857142857142855,0.0,0.0,0.14285714285714285,0.14285714285714285,0.14285714285714285,0.14285714285714285,0.14285714285714285,0.14285714285714285,0.14285714285714285,0.14285714285714285,0.14285714285714285,0.14285714285714285,0.42857142857142855,0.0,0.0,0.42857142857142855,0.14285714285714285,0.14285714285714285,0.14285714285714285,0.0,0.0,0.14285714285714285,0.14285714285714285,0.0,0.14285714285714285,0.0,0.0,0.0,0.14285714285714285,0.42857142857142855,0.0,0.0,0.42857142857142855,0.0,0.0,0.14285714285714285,0.14285714285714285,0.14285714285714285,0.0,0.14285714285714285,0.14285714285714285,0.0,0.0,0.0,0.0,0.0,0.0,0.14285714285714285,0.14285714285714285,0.0,0.0,0.14285714285714285,0.14285714285714285,0.14285714285714285,0.14285714285714285,0.14285714285714285,0.14285714285714285,0.42857142857142855,0.14285714285714285,0.14285714285714285,0.14285714285714285,0.0,0.42857142857142855,0.14285714285714285,0.14285714285714285,0.0,0.14285714285714285,0.14285714285714285,0.14285714285714285,0.14285714285714285,0.14285714285714285,0.0,0.14285714285714285,0.14285714285714285,0.0,0.14285714285714285,0.14285714285714285,0.42857142857142855,0.14285714285714285,0.0,0.14285714285714285,0.14285714285714285,0.14285714285714285,0.14285714285714285,0.14285714285714285,0.0,0.14285714285714285,0.14285714285714285,0.0,0.14285714285714285,0.14285714285714285,0.14285714285714285,0.14285714285714285,0.14285714285714285,0.14285714285714285,0.14285714285714285,0.14285714285714285,0.14285714285714285,0.14285714285714285,0.0,0.14285714285714285,0.14285714285714285,0.14285714285714285,0.14285714285714285,0.14285714285714285,0.14285714285714285,0.14285714285714285,0.14285714285714285,0.14285714285714285,0.0,0.14285714285714285,0.14285714285714285,0.14285714285714285,0.14285714285714285,0.14285714285714285,0.14285714285714285,0.0,0.14285714285714285,0.0,0.14285714285714285,0.14285714285714285,0.0,0.14285714285714285,0.14285714285714285,0.14285714285714285,0.0,0.0,0.14285714285714285,0.14285714285714285,0.42857142857142855,0.14285714285714285,0.14285714285714285,0.14285714285714285,0.14285714285714285,0.14285714285714285,0.0,0.14285714285714285,0.0,0.14285714285714285,0.14285714285714285,0.14285714285714285,0.0,0.0,0.0,0.14285714285714285,0.0,0.42857142857142855,0.14285714285714285,0.42857142857142855,0.14285714285714285,0.0,0.42857142857142855,0.14285714285714285,0.0,0.14285714285714285,0.14285714285714285,0.14285714285714285,0.42857142857142855,0.0,0.14285714285714285,0.0,0.42857142857142855,0.14285714285714285,0.14285714285714285,0.14285714285714285,0.0,0.0],\"xaxis\":\"x\",\"yaxis\":\"y\",\"type\":\"histogram\"},{\"alignmentgroup\":\"True\",\"bingroup\":\"x\",\"histnorm\":\"percent\",\"hovertemplate\":\"Model_name=asia_lingam<br>degree_centrality_target=%{x}<br>percent=%{y}<extra></extra>\",\"legendgroup\":\"asia_lingam\",\"marker\":{\"color\":\"#00cc96\",\"pattern\":{\"shape\":\"\"}},\"name\":\"asia_lingam\",\"offsetgroup\":\"asia_lingam\",\"orientation\":\"v\",\"showlegend\":true,\"x\":[0.0,0.14285714285714285,0.0,0.0,0.14285714285714285,0.14285714285714285,0.14285714285714285,0.14285714285714285],\"xaxis\":\"x\",\"yaxis\":\"y\",\"type\":\"histogram\"},{\"alignmentgroup\":\"True\",\"bingroup\":\"x\",\"histnorm\":\"percent\",\"hovertemplate\":\"Model_name=asia_notears<br>degree_centrality_target=%{x}<br>percent=%{y}<extra></extra>\",\"legendgroup\":\"asia_notears\",\"marker\":{\"color\":\"#ab63fa\",\"pattern\":{\"shape\":\"\"}},\"name\":\"asia_notears\",\"offsetgroup\":\"asia_notears\",\"orientation\":\"v\",\"showlegend\":true,\"x\":[0.14285714285714285,0.42857142857142855,0.42857142857142855,0.14285714285714285,0.14285714285714285,0.14285714285714285,0.42857142857142855,0.14285714285714285,0.42857142857142855,0.14285714285714285,0.14285714285714285,0.14285714285714285,0.42857142857142855,0.42857142857142855,0.14285714285714285,0.14285714285714285,0.14285714285714285,0.42857142857142855,0.42857142857142855,0.14285714285714285,0.42857142857142855,0.14285714285714285,0.14285714285714285,0.42857142857142855,0.42857142857142855,0.14285714285714285,0.14285714285714285,0.14285714285714285,0.42857142857142855,0.14285714285714285,0.14285714285714285],\"xaxis\":\"x\",\"yaxis\":\"y\",\"type\":\"histogram\"}],                        {\"template\":{\"data\":{\"bar\":[{\"error_x\":{\"color\":\"#2a3f5f\"},\"error_y\":{\"color\":\"#2a3f5f\"},\"marker\":{\"line\":{\"color\":\"#E5ECF6\",\"width\":0.5},\"pattern\":{\"fillmode\":\"overlay\",\"size\":10,\"solidity\":0.2}},\"type\":\"bar\"}],\"barpolar\":[{\"marker\":{\"line\":{\"color\":\"#E5ECF6\",\"width\":0.5},\"pattern\":{\"fillmode\":\"overlay\",\"size\":10,\"solidity\":0.2}},\"type\":\"barpolar\"}],\"carpet\":[{\"aaxis\":{\"endlinecolor\":\"#2a3f5f\",\"gridcolor\":\"white\",\"linecolor\":\"white\",\"minorgridcolor\":\"white\",\"startlinecolor\":\"#2a3f5f\"},\"baxis\":{\"endlinecolor\":\"#2a3f5f\",\"gridcolor\":\"white\",\"linecolor\":\"white\",\"minorgridcolor\":\"white\",\"startlinecolor\":\"#2a3f5f\"},\"type\":\"carpet\"}],\"choropleth\":[{\"colorbar\":{\"outlinewidth\":0,\"ticks\":\"\"},\"type\":\"choropleth\"}],\"contour\":[{\"colorbar\":{\"outlinewidth\":0,\"ticks\":\"\"},\"colorscale\":[[0.0,\"#0d0887\"],[0.1111111111111111,\"#46039f\"],[0.2222222222222222,\"#7201a8\"],[0.3333333333333333,\"#9c179e\"],[0.4444444444444444,\"#bd3786\"],[0.5555555555555556,\"#d8576b\"],[0.6666666666666666,\"#ed7953\"],[0.7777777777777778,\"#fb9f3a\"],[0.8888888888888888,\"#fdca26\"],[1.0,\"#f0f921\"]],\"type\":\"contour\"}],\"contourcarpet\":[{\"colorbar\":{\"outlinewidth\":0,\"ticks\":\"\"},\"type\":\"contourcarpet\"}],\"heatmap\":[{\"colorbar\":{\"outlinewidth\":0,\"ticks\":\"\"},\"colorscale\":[[0.0,\"#0d0887\"],[0.1111111111111111,\"#46039f\"],[0.2222222222222222,\"#7201a8\"],[0.3333333333333333,\"#9c179e\"],[0.4444444444444444,\"#bd3786\"],[0.5555555555555556,\"#d8576b\"],[0.6666666666666666,\"#ed7953\"],[0.7777777777777778,\"#fb9f3a\"],[0.8888888888888888,\"#fdca26\"],[1.0,\"#f0f921\"]],\"type\":\"heatmap\"}],\"heatmapgl\":[{\"colorbar\":{\"outlinewidth\":0,\"ticks\":\"\"},\"colorscale\":[[0.0,\"#0d0887\"],[0.1111111111111111,\"#46039f\"],[0.2222222222222222,\"#7201a8\"],[0.3333333333333333,\"#9c179e\"],[0.4444444444444444,\"#bd3786\"],[0.5555555555555556,\"#d8576b\"],[0.6666666666666666,\"#ed7953\"],[0.7777777777777778,\"#fb9f3a\"],[0.8888888888888888,\"#fdca26\"],[1.0,\"#f0f921\"]],\"type\":\"heatmapgl\"}],\"histogram\":[{\"marker\":{\"pattern\":{\"fillmode\":\"overlay\",\"size\":10,\"solidity\":0.2}},\"type\":\"histogram\"}],\"histogram2d\":[{\"colorbar\":{\"outlinewidth\":0,\"ticks\":\"\"},\"colorscale\":[[0.0,\"#0d0887\"],[0.1111111111111111,\"#46039f\"],[0.2222222222222222,\"#7201a8\"],[0.3333333333333333,\"#9c179e\"],[0.4444444444444444,\"#bd3786\"],[0.5555555555555556,\"#d8576b\"],[0.6666666666666666,\"#ed7953\"],[0.7777777777777778,\"#fb9f3a\"],[0.8888888888888888,\"#fdca26\"],[1.0,\"#f0f921\"]],\"type\":\"histogram2d\"}],\"histogram2dcontour\":[{\"colorbar\":{\"outlinewidth\":0,\"ticks\":\"\"},\"colorscale\":[[0.0,\"#0d0887\"],[0.1111111111111111,\"#46039f\"],[0.2222222222222222,\"#7201a8\"],[0.3333333333333333,\"#9c179e\"],[0.4444444444444444,\"#bd3786\"],[0.5555555555555556,\"#d8576b\"],[0.6666666666666666,\"#ed7953\"],[0.7777777777777778,\"#fb9f3a\"],[0.8888888888888888,\"#fdca26\"],[1.0,\"#f0f921\"]],\"type\":\"histogram2dcontour\"}],\"mesh3d\":[{\"colorbar\":{\"outlinewidth\":0,\"ticks\":\"\"},\"type\":\"mesh3d\"}],\"parcoords\":[{\"line\":{\"colorbar\":{\"outlinewidth\":0,\"ticks\":\"\"}},\"type\":\"parcoords\"}],\"pie\":[{\"automargin\":true,\"type\":\"pie\"}],\"scatter\":[{\"marker\":{\"colorbar\":{\"outlinewidth\":0,\"ticks\":\"\"}},\"type\":\"scatter\"}],\"scatter3d\":[{\"line\":{\"colorbar\":{\"outlinewidth\":0,\"ticks\":\"\"}},\"marker\":{\"colorbar\":{\"outlinewidth\":0,\"ticks\":\"\"}},\"type\":\"scatter3d\"}],\"scattercarpet\":[{\"marker\":{\"colorbar\":{\"outlinewidth\":0,\"ticks\":\"\"}},\"type\":\"scattercarpet\"}],\"scattergeo\":[{\"marker\":{\"colorbar\":{\"outlinewidth\":0,\"ticks\":\"\"}},\"type\":\"scattergeo\"}],\"scattergl\":[{\"marker\":{\"colorbar\":{\"outlinewidth\":0,\"ticks\":\"\"}},\"type\":\"scattergl\"}],\"scattermapbox\":[{\"marker\":{\"colorbar\":{\"outlinewidth\":0,\"ticks\":\"\"}},\"type\":\"scattermapbox\"}],\"scatterpolar\":[{\"marker\":{\"colorbar\":{\"outlinewidth\":0,\"ticks\":\"\"}},\"type\":\"scatterpolar\"}],\"scatterpolargl\":[{\"marker\":{\"colorbar\":{\"outlinewidth\":0,\"ticks\":\"\"}},\"type\":\"scatterpolargl\"}],\"scatterternary\":[{\"marker\":{\"colorbar\":{\"outlinewidth\":0,\"ticks\":\"\"}},\"type\":\"scatterternary\"}],\"surface\":[{\"colorbar\":{\"outlinewidth\":0,\"ticks\":\"\"},\"colorscale\":[[0.0,\"#0d0887\"],[0.1111111111111111,\"#46039f\"],[0.2222222222222222,\"#7201a8\"],[0.3333333333333333,\"#9c179e\"],[0.4444444444444444,\"#bd3786\"],[0.5555555555555556,\"#d8576b\"],[0.6666666666666666,\"#ed7953\"],[0.7777777777777778,\"#fb9f3a\"],[0.8888888888888888,\"#fdca26\"],[1.0,\"#f0f921\"]],\"type\":\"surface\"}],\"table\":[{\"cells\":{\"fill\":{\"color\":\"#EBF0F8\"},\"line\":{\"color\":\"white\"}},\"header\":{\"fill\":{\"color\":\"#C8D4E3\"},\"line\":{\"color\":\"white\"}},\"type\":\"table\"}]},\"layout\":{\"annotationdefaults\":{\"arrowcolor\":\"#2a3f5f\",\"arrowhead\":0,\"arrowwidth\":1},\"autotypenumbers\":\"strict\",\"coloraxis\":{\"colorbar\":{\"outlinewidth\":0,\"ticks\":\"\"}},\"colorscale\":{\"diverging\":[[0,\"#8e0152\"],[0.1,\"#c51b7d\"],[0.2,\"#de77ae\"],[0.3,\"#f1b6da\"],[0.4,\"#fde0ef\"],[0.5,\"#f7f7f7\"],[0.6,\"#e6f5d0\"],[0.7,\"#b8e186\"],[0.8,\"#7fbc41\"],[0.9,\"#4d9221\"],[1,\"#276419\"]],\"sequential\":[[0.0,\"#0d0887\"],[0.1111111111111111,\"#46039f\"],[0.2222222222222222,\"#7201a8\"],[0.3333333333333333,\"#9c179e\"],[0.4444444444444444,\"#bd3786\"],[0.5555555555555556,\"#d8576b\"],[0.6666666666666666,\"#ed7953\"],[0.7777777777777778,\"#fb9f3a\"],[0.8888888888888888,\"#fdca26\"],[1.0,\"#f0f921\"]],\"sequentialminus\":[[0.0,\"#0d0887\"],[0.1111111111111111,\"#46039f\"],[0.2222222222222222,\"#7201a8\"],[0.3333333333333333,\"#9c179e\"],[0.4444444444444444,\"#bd3786\"],[0.5555555555555556,\"#d8576b\"],[0.6666666666666666,\"#ed7953\"],[0.7777777777777778,\"#fb9f3a\"],[0.8888888888888888,\"#fdca26\"],[1.0,\"#f0f921\"]]},\"colorway\":[\"#636efa\",\"#EF553B\",\"#00cc96\",\"#ab63fa\",\"#FFA15A\",\"#19d3f3\",\"#FF6692\",\"#B6E880\",\"#FF97FF\",\"#FECB52\"],\"font\":{\"color\":\"#2a3f5f\"},\"geo\":{\"bgcolor\":\"white\",\"lakecolor\":\"white\",\"landcolor\":\"#E5ECF6\",\"showlakes\":true,\"showland\":true,\"subunitcolor\":\"white\"},\"hoverlabel\":{\"align\":\"left\"},\"hovermode\":\"closest\",\"mapbox\":{\"style\":\"light\"},\"paper_bgcolor\":\"white\",\"plot_bgcolor\":\"#E5ECF6\",\"polar\":{\"angularaxis\":{\"gridcolor\":\"white\",\"linecolor\":\"white\",\"ticks\":\"\"},\"bgcolor\":\"#E5ECF6\",\"radialaxis\":{\"gridcolor\":\"white\",\"linecolor\":\"white\",\"ticks\":\"\"}},\"scene\":{\"xaxis\":{\"backgroundcolor\":\"#E5ECF6\",\"gridcolor\":\"white\",\"gridwidth\":2,\"linecolor\":\"white\",\"showbackground\":true,\"ticks\":\"\",\"zerolinecolor\":\"white\"},\"yaxis\":{\"backgroundcolor\":\"#E5ECF6\",\"gridcolor\":\"white\",\"gridwidth\":2,\"linecolor\":\"white\",\"showbackground\":true,\"ticks\":\"\",\"zerolinecolor\":\"white\"},\"zaxis\":{\"backgroundcolor\":\"#E5ECF6\",\"gridcolor\":\"white\",\"gridwidth\":2,\"linecolor\":\"white\",\"showbackground\":true,\"ticks\":\"\",\"zerolinecolor\":\"white\"}},\"shapedefaults\":{\"line\":{\"color\":\"#2a3f5f\"}},\"ternary\":{\"aaxis\":{\"gridcolor\":\"white\",\"linecolor\":\"white\",\"ticks\":\"\"},\"baxis\":{\"gridcolor\":\"white\",\"linecolor\":\"white\",\"ticks\":\"\"},\"bgcolor\":\"#E5ECF6\",\"caxis\":{\"gridcolor\":\"white\",\"linecolor\":\"white\",\"ticks\":\"\"}},\"title\":{\"x\":0.05},\"xaxis\":{\"automargin\":true,\"gridcolor\":\"white\",\"linecolor\":\"white\",\"ticks\":\"\",\"title\":{\"standoff\":15},\"zerolinecolor\":\"white\",\"zerolinewidth\":2},\"yaxis\":{\"automargin\":true,\"gridcolor\":\"white\",\"linecolor\":\"white\",\"ticks\":\"\",\"title\":{\"standoff\":15},\"zerolinecolor\":\"white\",\"zerolinewidth\":2}}},\"xaxis\":{\"anchor\":\"y\",\"domain\":[0.0,1.0],\"title\":{\"text\":\"Degree Centrality\"}},\"yaxis\":{\"anchor\":\"x\",\"domain\":[0.0,1.0],\"title\":{\"text\":\"Count\"}},\"legend\":{\"title\":{\"text\":\"Model_name\"},\"tracegroupgap\":0},\"margin\":{\"t\":60},\"barmode\":\"group\",\"title\":{\"text\":\"Histogram for Target Variable Degree Centrality: asia %age\"}},                        {\"responsive\": true}                    ).then(function(){\n",
       "                            \n",
       "var gd = document.getElementById('8c97e689-5bac-4c22-af6d-60140f3b3729');\n",
       "var x = new MutationObserver(function (mutations, observer) {{\n",
       "        var display = window.getComputedStyle(gd).display;\n",
       "        if (!display || display === 'none') {{\n",
       "            console.log([gd, 'removed!']);\n",
       "            Plotly.purge(gd);\n",
       "            observer.disconnect();\n",
       "        }}\n",
       "}});\n",
       "\n",
       "// Listen for the removal of the full notebook cells\n",
       "var notebookContainer = gd.closest('#notebook-container');\n",
       "if (notebookContainer) {{\n",
       "    x.observe(notebookContainer, {childList: true});\n",
       "}}\n",
       "\n",
       "// Listen for the clearing of the current output cell\n",
       "var outputEl = gd.closest('.output');\n",
       "if (outputEl) {{\n",
       "    x.observe(outputEl, {childList: true});\n",
       "}}\n",
       "\n",
       "                        })                };                });            </script>        </div>"
      ]
     },
     "metadata": {},
     "output_type": "display_data"
    }
   ],
   "source": [
    "fig = px.histogram(df, x=\"degree_centrality_target\", color='Model_name', barmode='group',  histnorm=\"percent\")\n",
    "fig.update_layout(\n",
    "    title_text=f'Histogram for Target Variable Degree Centrality: {dataset_name}', # title of plot\n",
    "    xaxis_title_text='Degree Centrality', # xaxis label\n",
    "    yaxis_title_text='Count', # yaxis label\n",
    ")\n",
    "fig.show()"
   ]
  },
  {
   "cell_type": "code",
   "execution_count": 89,
   "id": "9929b157",
   "metadata": {},
   "outputs": [
    {
     "data": {
      "application/vnd.plotly.v1+json": {
       "config": {
        "plotlyServerURL": "https://plot.ly"
       },
       "data": [
        {
         "alignmentgroup": "True",
         "bingroup": "x",
         "hovertemplate": "Model_name=sachs_lingam<br>degree_centrality_evs=%{x}<br>count=%{y}<extra></extra>",
         "legendgroup": "sachs_lingam",
         "marker": {
          "color": "#636efa",
          "pattern": {
           "shape": ""
          }
         },
         "name": "sachs_lingam",
         "offsetgroup": "sachs_lingam",
         "orientation": "v",
         "showlegend": true,
         "type": "histogram",
         "x": [
          0,
          0.1,
          0.30000000000000004,
          0,
          0.1,
          0.30000000000000004,
          0.1,
          0.2,
          0.30000000000000004,
          0.1,
          0.1,
          0.2,
          0.2,
          0,
          0,
          0.2,
          0,
          0,
          0.1,
          0.1,
          0.1,
          0.1,
          0,
          0.1,
          0.1,
          0,
          0,
          0.30000000000000004,
          0,
          0,
          0.2,
          0,
          0,
          0.2,
          0,
          0.2,
          0,
          0.1,
          0,
          0,
          0.2,
          0.1,
          0,
          0,
          0.1,
          0.1,
          0,
          0,
          0,
          0.30000000000000004,
          0,
          0.1,
          0,
          0,
          0,
          0.1,
          0,
          0.1,
          0.1,
          0.1,
          0.2,
          0.1,
          0,
          0.30000000000000004,
          0,
          0.1,
          0.1,
          0.1,
          0,
          0.2,
          0.1,
          0,
          0.30000000000000004,
          0.2,
          0.1
         ],
         "xaxis": "x",
         "yaxis": "y"
        },
        {
         "alignmentgroup": "True",
         "bingroup": "x",
         "hovertemplate": "Model_name=sachs_ccdr<br>degree_centrality_evs=%{x}<br>count=%{y}<extra></extra>",
         "legendgroup": "sachs_ccdr",
         "marker": {
          "color": "#EF553B",
          "pattern": {
           "shape": ""
          }
         },
         "name": "sachs_ccdr",
         "offsetgroup": "sachs_ccdr",
         "orientation": "v",
         "showlegend": true,
         "type": "histogram",
         "x": [
          0.1,
          0.1,
          0,
          0,
          0.1,
          0,
          0,
          0,
          0,
          0,
          0.2,
          0,
          0.1,
          0.1,
          0.1,
          0,
          0.1,
          0,
          0.2,
          0,
          0,
          0.1,
          0.1,
          0,
          0.1,
          0.1,
          0.1,
          0,
          0.1,
          0,
          0.1,
          0,
          0,
          0.1,
          0.1,
          0.30000000000000004,
          0.1,
          0,
          0.1,
          0,
          0.1,
          0.1,
          0,
          0.1,
          0,
          0.1,
          0.1,
          0,
          0.1,
          0.1,
          0.30000000000000004,
          0,
          0,
          0,
          0.1,
          0.1,
          0.1,
          0,
          0.2,
          0.1,
          0.1,
          0,
          0.1,
          0.1,
          0,
          0.1,
          0.2,
          0.30000000000000004,
          0.1,
          0.1,
          0,
          0.1,
          0,
          0.1,
          0.1,
          0.1,
          0.1,
          0,
          0,
          0.2,
          0,
          0.1,
          0.1,
          0,
          0,
          0.1,
          0,
          0,
          0.2,
          0.1,
          0,
          0,
          0.1,
          0.30000000000000004,
          0.1,
          0.30000000000000004,
          0,
          0,
          0,
          0.30000000000000004,
          0,
          0.1,
          0.1,
          0.2,
          0.1,
          0,
          0,
          0,
          0,
          0.30000000000000004,
          0,
          0,
          0.1,
          0,
          0,
          0,
          0.1,
          0.1,
          0,
          0.1,
          0.2,
          0.1,
          0.2,
          0,
          0.1,
          0.1,
          0.30000000000000004,
          0.1,
          0,
          0.2,
          0.1,
          0,
          0.1,
          0.1,
          0,
          0.1,
          0.30000000000000004,
          0.1,
          0.1,
          0,
          0,
          0,
          0,
          0,
          0.2,
          0.1,
          0.1,
          0,
          0,
          0.1,
          0,
          0.30000000000000004,
          0.2,
          0,
          0.1,
          0.1,
          0.1,
          0.1,
          0.30000000000000004,
          0.2,
          0.30000000000000004,
          0,
          0.1,
          0.1,
          0.30000000000000004,
          0,
          0.30000000000000004,
          0,
          0.1,
          0.2,
          0.1,
          0.1,
          0.1,
          0.1,
          0.2,
          0.1,
          0,
          0.1,
          0.1,
          0,
          0.1,
          0,
          0.1,
          0.1,
          0,
          0.1,
          0.1,
          0,
          0,
          0,
          0.30000000000000004,
          0.1,
          0.2,
          0,
          0,
          0.1,
          0.1,
          0.1,
          0,
          0.1,
          0.1,
          0,
          0,
          0,
          0.2,
          0.1,
          0,
          0.1,
          0,
          0.1,
          0,
          0.1,
          0.1,
          0.2,
          0.1,
          0.1,
          0.2,
          0.1,
          0.1,
          0.2,
          0.1,
          0,
          0.1,
          0.1,
          0.1,
          0.1,
          0.1,
          0,
          0.30000000000000004,
          0.1,
          0,
          0,
          0,
          0,
          0.1,
          0.1,
          0.1,
          0.1,
          0,
          0.1,
          0.2,
          0,
          0,
          0.30000000000000004,
          0.1,
          0,
          0.30000000000000004,
          0.1,
          0.2
         ],
         "xaxis": "x",
         "yaxis": "y"
        },
        {
         "alignmentgroup": "True",
         "bingroup": "x",
         "hovertemplate": "Model_name=sachs_notears<br>degree_centrality_evs=%{x}<br>count=%{y}<extra></extra>",
         "legendgroup": "sachs_notears",
         "marker": {
          "color": "#00cc96",
          "pattern": {
           "shape": ""
          }
         },
         "name": "sachs_notears",
         "offsetgroup": "sachs_notears",
         "orientation": "v",
         "showlegend": true,
         "type": "histogram",
         "x": [
          0.1,
          0,
          0,
          0,
          0,
          0.1,
          0,
          0.1,
          0,
          0.1,
          0.2,
          0.1,
          0,
          0,
          0,
          0,
          0.30000000000000004,
          0.1,
          0,
          0.30000000000000004,
          0,
          0,
          0.1,
          0.2,
          0.1,
          0.1,
          0.1,
          0.1,
          0.1,
          0,
          0.1,
          0.2,
          0.1,
          0.30000000000000004,
          0.1,
          0.30000000000000004,
          0,
          0.1,
          0,
          0.1,
          0,
          0,
          0.1,
          0,
          0.1,
          0.2,
          0.30000000000000004,
          0,
          0.30000000000000004,
          0.2,
          0.2,
          0.1,
          0.1,
          0,
          0.30000000000000004,
          0.1,
          0,
          0.1,
          0.1,
          0.1,
          0,
          0.30000000000000004,
          0.1,
          0,
          0.1,
          0.1,
          0.30000000000000004,
          0,
          0.1,
          0.1,
          0.2,
          0.1,
          0,
          0.1,
          0.1,
          0.30000000000000004,
          0,
          0.1,
          0,
          0.1,
          0.1,
          0,
          0.2,
          0.1,
          0.1,
          0.1
         ],
         "xaxis": "x",
         "yaxis": "y"
        },
        {
         "alignmentgroup": "True",
         "bingroup": "x",
         "hovertemplate": "Model_name=sachs_dagGNN<br>degree_centrality_evs=%{x}<br>count=%{y}<extra></extra>",
         "legendgroup": "sachs_dagGNN",
         "marker": {
          "color": "#ab63fa",
          "pattern": {
           "shape": ""
          }
         },
         "name": "sachs_dagGNN",
         "offsetgroup": "sachs_dagGNN",
         "orientation": "v",
         "showlegend": true,
         "type": "histogram",
         "x": [
          0.1,
          0,
          0.1,
          0.30000000000000004,
          0.30000000000000004,
          0.30000000000000004,
          0.1,
          0,
          0.1,
          0.1,
          0.1,
          0.1,
          0,
          0.30000000000000004,
          0.1,
          0.1,
          0.1,
          0.1,
          0.1,
          0.1,
          0,
          0.1,
          0.1,
          0.30000000000000004,
          0.30000000000000004,
          0.1,
          0.30000000000000004,
          0.2,
          0.1,
          0.2,
          0.2,
          0.1,
          0.1,
          0.2,
          0,
          0.2,
          0.30000000000000004,
          0.1,
          0.30000000000000004,
          0.1,
          0.2,
          0.1,
          0,
          0.1,
          0,
          0,
          0,
          0.1,
          0.30000000000000004,
          0.1,
          0,
          0,
          0.30000000000000004,
          0,
          0.30000000000000004,
          0,
          0.1,
          0.1,
          0,
          0.1,
          0
         ],
         "xaxis": "x",
         "yaxis": "y"
        }
       ],
       "layout": {
        "barmode": "group",
        "legend": {
         "title": {
          "text": "Model_name"
         },
         "tracegroupgap": 0
        },
        "margin": {
         "t": 60
        },
        "template": {
         "data": {
          "bar": [
           {
            "error_x": {
             "color": "#2a3f5f"
            },
            "error_y": {
             "color": "#2a3f5f"
            },
            "marker": {
             "line": {
              "color": "#E5ECF6",
              "width": 0.5
             },
             "pattern": {
              "fillmode": "overlay",
              "size": 10,
              "solidity": 0.2
             }
            },
            "type": "bar"
           }
          ],
          "barpolar": [
           {
            "marker": {
             "line": {
              "color": "#E5ECF6",
              "width": 0.5
             },
             "pattern": {
              "fillmode": "overlay",
              "size": 10,
              "solidity": 0.2
             }
            },
            "type": "barpolar"
           }
          ],
          "carpet": [
           {
            "aaxis": {
             "endlinecolor": "#2a3f5f",
             "gridcolor": "white",
             "linecolor": "white",
             "minorgridcolor": "white",
             "startlinecolor": "#2a3f5f"
            },
            "baxis": {
             "endlinecolor": "#2a3f5f",
             "gridcolor": "white",
             "linecolor": "white",
             "minorgridcolor": "white",
             "startlinecolor": "#2a3f5f"
            },
            "type": "carpet"
           }
          ],
          "choropleth": [
           {
            "colorbar": {
             "outlinewidth": 0,
             "ticks": ""
            },
            "type": "choropleth"
           }
          ],
          "contour": [
           {
            "colorbar": {
             "outlinewidth": 0,
             "ticks": ""
            },
            "colorscale": [
             [
              0,
              "#0d0887"
             ],
             [
              0.1111111111111111,
              "#46039f"
             ],
             [
              0.2222222222222222,
              "#7201a8"
             ],
             [
              0.3333333333333333,
              "#9c179e"
             ],
             [
              0.4444444444444444,
              "#bd3786"
             ],
             [
              0.5555555555555556,
              "#d8576b"
             ],
             [
              0.6666666666666666,
              "#ed7953"
             ],
             [
              0.7777777777777778,
              "#fb9f3a"
             ],
             [
              0.8888888888888888,
              "#fdca26"
             ],
             [
              1,
              "#f0f921"
             ]
            ],
            "type": "contour"
           }
          ],
          "contourcarpet": [
           {
            "colorbar": {
             "outlinewidth": 0,
             "ticks": ""
            },
            "type": "contourcarpet"
           }
          ],
          "heatmap": [
           {
            "colorbar": {
             "outlinewidth": 0,
             "ticks": ""
            },
            "colorscale": [
             [
              0,
              "#0d0887"
             ],
             [
              0.1111111111111111,
              "#46039f"
             ],
             [
              0.2222222222222222,
              "#7201a8"
             ],
             [
              0.3333333333333333,
              "#9c179e"
             ],
             [
              0.4444444444444444,
              "#bd3786"
             ],
             [
              0.5555555555555556,
              "#d8576b"
             ],
             [
              0.6666666666666666,
              "#ed7953"
             ],
             [
              0.7777777777777778,
              "#fb9f3a"
             ],
             [
              0.8888888888888888,
              "#fdca26"
             ],
             [
              1,
              "#f0f921"
             ]
            ],
            "type": "heatmap"
           }
          ],
          "heatmapgl": [
           {
            "colorbar": {
             "outlinewidth": 0,
             "ticks": ""
            },
            "colorscale": [
             [
              0,
              "#0d0887"
             ],
             [
              0.1111111111111111,
              "#46039f"
             ],
             [
              0.2222222222222222,
              "#7201a8"
             ],
             [
              0.3333333333333333,
              "#9c179e"
             ],
             [
              0.4444444444444444,
              "#bd3786"
             ],
             [
              0.5555555555555556,
              "#d8576b"
             ],
             [
              0.6666666666666666,
              "#ed7953"
             ],
             [
              0.7777777777777778,
              "#fb9f3a"
             ],
             [
              0.8888888888888888,
              "#fdca26"
             ],
             [
              1,
              "#f0f921"
             ]
            ],
            "type": "heatmapgl"
           }
          ],
          "histogram": [
           {
            "marker": {
             "pattern": {
              "fillmode": "overlay",
              "size": 10,
              "solidity": 0.2
             }
            },
            "type": "histogram"
           }
          ],
          "histogram2d": [
           {
            "colorbar": {
             "outlinewidth": 0,
             "ticks": ""
            },
            "colorscale": [
             [
              0,
              "#0d0887"
             ],
             [
              0.1111111111111111,
              "#46039f"
             ],
             [
              0.2222222222222222,
              "#7201a8"
             ],
             [
              0.3333333333333333,
              "#9c179e"
             ],
             [
              0.4444444444444444,
              "#bd3786"
             ],
             [
              0.5555555555555556,
              "#d8576b"
             ],
             [
              0.6666666666666666,
              "#ed7953"
             ],
             [
              0.7777777777777778,
              "#fb9f3a"
             ],
             [
              0.8888888888888888,
              "#fdca26"
             ],
             [
              1,
              "#f0f921"
             ]
            ],
            "type": "histogram2d"
           }
          ],
          "histogram2dcontour": [
           {
            "colorbar": {
             "outlinewidth": 0,
             "ticks": ""
            },
            "colorscale": [
             [
              0,
              "#0d0887"
             ],
             [
              0.1111111111111111,
              "#46039f"
             ],
             [
              0.2222222222222222,
              "#7201a8"
             ],
             [
              0.3333333333333333,
              "#9c179e"
             ],
             [
              0.4444444444444444,
              "#bd3786"
             ],
             [
              0.5555555555555556,
              "#d8576b"
             ],
             [
              0.6666666666666666,
              "#ed7953"
             ],
             [
              0.7777777777777778,
              "#fb9f3a"
             ],
             [
              0.8888888888888888,
              "#fdca26"
             ],
             [
              1,
              "#f0f921"
             ]
            ],
            "type": "histogram2dcontour"
           }
          ],
          "mesh3d": [
           {
            "colorbar": {
             "outlinewidth": 0,
             "ticks": ""
            },
            "type": "mesh3d"
           }
          ],
          "parcoords": [
           {
            "line": {
             "colorbar": {
              "outlinewidth": 0,
              "ticks": ""
             }
            },
            "type": "parcoords"
           }
          ],
          "pie": [
           {
            "automargin": true,
            "type": "pie"
           }
          ],
          "scatter": [
           {
            "marker": {
             "colorbar": {
              "outlinewidth": 0,
              "ticks": ""
             }
            },
            "type": "scatter"
           }
          ],
          "scatter3d": [
           {
            "line": {
             "colorbar": {
              "outlinewidth": 0,
              "ticks": ""
             }
            },
            "marker": {
             "colorbar": {
              "outlinewidth": 0,
              "ticks": ""
             }
            },
            "type": "scatter3d"
           }
          ],
          "scattercarpet": [
           {
            "marker": {
             "colorbar": {
              "outlinewidth": 0,
              "ticks": ""
             }
            },
            "type": "scattercarpet"
           }
          ],
          "scattergeo": [
           {
            "marker": {
             "colorbar": {
              "outlinewidth": 0,
              "ticks": ""
             }
            },
            "type": "scattergeo"
           }
          ],
          "scattergl": [
           {
            "marker": {
             "colorbar": {
              "outlinewidth": 0,
              "ticks": ""
             }
            },
            "type": "scattergl"
           }
          ],
          "scattermapbox": [
           {
            "marker": {
             "colorbar": {
              "outlinewidth": 0,
              "ticks": ""
             }
            },
            "type": "scattermapbox"
           }
          ],
          "scatterpolar": [
           {
            "marker": {
             "colorbar": {
              "outlinewidth": 0,
              "ticks": ""
             }
            },
            "type": "scatterpolar"
           }
          ],
          "scatterpolargl": [
           {
            "marker": {
             "colorbar": {
              "outlinewidth": 0,
              "ticks": ""
             }
            },
            "type": "scatterpolargl"
           }
          ],
          "scatterternary": [
           {
            "marker": {
             "colorbar": {
              "outlinewidth": 0,
              "ticks": ""
             }
            },
            "type": "scatterternary"
           }
          ],
          "surface": [
           {
            "colorbar": {
             "outlinewidth": 0,
             "ticks": ""
            },
            "colorscale": [
             [
              0,
              "#0d0887"
             ],
             [
              0.1111111111111111,
              "#46039f"
             ],
             [
              0.2222222222222222,
              "#7201a8"
             ],
             [
              0.3333333333333333,
              "#9c179e"
             ],
             [
              0.4444444444444444,
              "#bd3786"
             ],
             [
              0.5555555555555556,
              "#d8576b"
             ],
             [
              0.6666666666666666,
              "#ed7953"
             ],
             [
              0.7777777777777778,
              "#fb9f3a"
             ],
             [
              0.8888888888888888,
              "#fdca26"
             ],
             [
              1,
              "#f0f921"
             ]
            ],
            "type": "surface"
           }
          ],
          "table": [
           {
            "cells": {
             "fill": {
              "color": "#EBF0F8"
             },
             "line": {
              "color": "white"
             }
            },
            "header": {
             "fill": {
              "color": "#C8D4E3"
             },
             "line": {
              "color": "white"
             }
            },
            "type": "table"
           }
          ]
         },
         "layout": {
          "annotationdefaults": {
           "arrowcolor": "#2a3f5f",
           "arrowhead": 0,
           "arrowwidth": 1
          },
          "autotypenumbers": "strict",
          "coloraxis": {
           "colorbar": {
            "outlinewidth": 0,
            "ticks": ""
           }
          },
          "colorscale": {
           "diverging": [
            [
             0,
             "#8e0152"
            ],
            [
             0.1,
             "#c51b7d"
            ],
            [
             0.2,
             "#de77ae"
            ],
            [
             0.3,
             "#f1b6da"
            ],
            [
             0.4,
             "#fde0ef"
            ],
            [
             0.5,
             "#f7f7f7"
            ],
            [
             0.6,
             "#e6f5d0"
            ],
            [
             0.7,
             "#b8e186"
            ],
            [
             0.8,
             "#7fbc41"
            ],
            [
             0.9,
             "#4d9221"
            ],
            [
             1,
             "#276419"
            ]
           ],
           "sequential": [
            [
             0,
             "#0d0887"
            ],
            [
             0.1111111111111111,
             "#46039f"
            ],
            [
             0.2222222222222222,
             "#7201a8"
            ],
            [
             0.3333333333333333,
             "#9c179e"
            ],
            [
             0.4444444444444444,
             "#bd3786"
            ],
            [
             0.5555555555555556,
             "#d8576b"
            ],
            [
             0.6666666666666666,
             "#ed7953"
            ],
            [
             0.7777777777777778,
             "#fb9f3a"
            ],
            [
             0.8888888888888888,
             "#fdca26"
            ],
            [
             1,
             "#f0f921"
            ]
           ],
           "sequentialminus": [
            [
             0,
             "#0d0887"
            ],
            [
             0.1111111111111111,
             "#46039f"
            ],
            [
             0.2222222222222222,
             "#7201a8"
            ],
            [
             0.3333333333333333,
             "#9c179e"
            ],
            [
             0.4444444444444444,
             "#bd3786"
            ],
            [
             0.5555555555555556,
             "#d8576b"
            ],
            [
             0.6666666666666666,
             "#ed7953"
            ],
            [
             0.7777777777777778,
             "#fb9f3a"
            ],
            [
             0.8888888888888888,
             "#fdca26"
            ],
            [
             1,
             "#f0f921"
            ]
           ]
          },
          "colorway": [
           "#636efa",
           "#EF553B",
           "#00cc96",
           "#ab63fa",
           "#FFA15A",
           "#19d3f3",
           "#FF6692",
           "#B6E880",
           "#FF97FF",
           "#FECB52"
          ],
          "font": {
           "color": "#2a3f5f"
          },
          "geo": {
           "bgcolor": "white",
           "lakecolor": "white",
           "landcolor": "#E5ECF6",
           "showlakes": true,
           "showland": true,
           "subunitcolor": "white"
          },
          "hoverlabel": {
           "align": "left"
          },
          "hovermode": "closest",
          "mapbox": {
           "style": "light"
          },
          "paper_bgcolor": "white",
          "plot_bgcolor": "#E5ECF6",
          "polar": {
           "angularaxis": {
            "gridcolor": "white",
            "linecolor": "white",
            "ticks": ""
           },
           "bgcolor": "#E5ECF6",
           "radialaxis": {
            "gridcolor": "white",
            "linecolor": "white",
            "ticks": ""
           }
          },
          "scene": {
           "xaxis": {
            "backgroundcolor": "#E5ECF6",
            "gridcolor": "white",
            "gridwidth": 2,
            "linecolor": "white",
            "showbackground": true,
            "ticks": "",
            "zerolinecolor": "white"
           },
           "yaxis": {
            "backgroundcolor": "#E5ECF6",
            "gridcolor": "white",
            "gridwidth": 2,
            "linecolor": "white",
            "showbackground": true,
            "ticks": "",
            "zerolinecolor": "white"
           },
           "zaxis": {
            "backgroundcolor": "#E5ECF6",
            "gridcolor": "white",
            "gridwidth": 2,
            "linecolor": "white",
            "showbackground": true,
            "ticks": "",
            "zerolinecolor": "white"
           }
          },
          "shapedefaults": {
           "line": {
            "color": "#2a3f5f"
           }
          },
          "ternary": {
           "aaxis": {
            "gridcolor": "white",
            "linecolor": "white",
            "ticks": ""
           },
           "baxis": {
            "gridcolor": "white",
            "linecolor": "white",
            "ticks": ""
           },
           "bgcolor": "#E5ECF6",
           "caxis": {
            "gridcolor": "white",
            "linecolor": "white",
            "ticks": ""
           }
          },
          "title": {
           "x": 0.05
          },
          "xaxis": {
           "automargin": true,
           "gridcolor": "white",
           "linecolor": "white",
           "ticks": "",
           "title": {
            "standoff": 15
           },
           "zerolinecolor": "white",
           "zerolinewidth": 2
          },
          "yaxis": {
           "automargin": true,
           "gridcolor": "white",
           "linecolor": "white",
           "ticks": "",
           "title": {
            "standoff": 15
           },
           "zerolinecolor": "white",
           "zerolinewidth": 2
          }
         }
        },
        "title": {
         "text": "Histogram for Evidence Variable Degree Centrality: sachs"
        },
        "xaxis": {
         "anchor": "y",
         "domain": [
          0,
          1
         ],
         "title": {
          "text": "Evidence Variable Degree Centrality"
         }
        },
        "yaxis": {
         "anchor": "x",
         "domain": [
          0,
          1
         ],
         "title": {
          "text": "Count"
         }
        }
       }
      },
      "text/html": [
       "<div>                            <div id=\"9140155b-8cbe-49dd-ae76-5c7d6a81e1d9\" class=\"plotly-graph-div\" style=\"height:525px; width:100%;\"></div>            <script type=\"text/javascript\">                require([\"plotly\"], function(Plotly) {                    window.PLOTLYENV=window.PLOTLYENV || {};                                    if (document.getElementById(\"9140155b-8cbe-49dd-ae76-5c7d6a81e1d9\")) {                    Plotly.newPlot(                        \"9140155b-8cbe-49dd-ae76-5c7d6a81e1d9\",                        [{\"alignmentgroup\":\"True\",\"bingroup\":\"x\",\"hovertemplate\":\"Model_name=sachs_lingam<br>degree_centrality_evs=%{x}<br>count=%{y}<extra></extra>\",\"legendgroup\":\"sachs_lingam\",\"marker\":{\"color\":\"#636efa\",\"pattern\":{\"shape\":\"\"}},\"name\":\"sachs_lingam\",\"offsetgroup\":\"sachs_lingam\",\"orientation\":\"v\",\"showlegend\":true,\"x\":[0.0,0.1,0.30000000000000004,0.0,0.1,0.30000000000000004,0.1,0.2,0.30000000000000004,0.1,0.1,0.2,0.2,0.0,0.0,0.2,0.0,0.0,0.1,0.1,0.1,0.1,0.0,0.1,0.1,0.0,0.0,0.30000000000000004,0.0,0.0,0.2,0.0,0.0,0.2,0.0,0.2,0.0,0.1,0.0,0.0,0.2,0.1,0.0,0.0,0.1,0.1,0.0,0.0,0.0,0.30000000000000004,0.0,0.1,0.0,0.0,0.0,0.1,0.0,0.1,0.1,0.1,0.2,0.1,0.0,0.30000000000000004,0.0,0.1,0.1,0.1,0.0,0.2,0.1,0.0,0.30000000000000004,0.2,0.1],\"xaxis\":\"x\",\"yaxis\":\"y\",\"type\":\"histogram\"},{\"alignmentgroup\":\"True\",\"bingroup\":\"x\",\"hovertemplate\":\"Model_name=sachs_ccdr<br>degree_centrality_evs=%{x}<br>count=%{y}<extra></extra>\",\"legendgroup\":\"sachs_ccdr\",\"marker\":{\"color\":\"#EF553B\",\"pattern\":{\"shape\":\"\"}},\"name\":\"sachs_ccdr\",\"offsetgroup\":\"sachs_ccdr\",\"orientation\":\"v\",\"showlegend\":true,\"x\":[0.1,0.1,0.0,0.0,0.1,0.0,0.0,0.0,0.0,0.0,0.2,0.0,0.1,0.1,0.1,0.0,0.1,0.0,0.2,0.0,0.0,0.1,0.1,0.0,0.1,0.1,0.1,0.0,0.1,0.0,0.1,0.0,0.0,0.1,0.1,0.30000000000000004,0.1,0.0,0.1,0.0,0.1,0.1,0.0,0.1,0.0,0.1,0.1,0.0,0.1,0.1,0.30000000000000004,0.0,0.0,0.0,0.1,0.1,0.1,0.0,0.2,0.1,0.1,0.0,0.1,0.1,0.0,0.1,0.2,0.30000000000000004,0.1,0.1,0.0,0.1,0.0,0.1,0.1,0.1,0.1,0.0,0.0,0.2,0.0,0.1,0.1,0.0,0.0,0.1,0.0,0.0,0.2,0.1,0.0,0.0,0.1,0.30000000000000004,0.1,0.30000000000000004,0.0,0.0,0.0,0.30000000000000004,0.0,0.1,0.1,0.2,0.1,0.0,0.0,0.0,0.0,0.30000000000000004,0.0,0.0,0.1,0.0,0.0,0.0,0.1,0.1,0.0,0.1,0.2,0.1,0.2,0.0,0.1,0.1,0.30000000000000004,0.1,0.0,0.2,0.1,0.0,0.1,0.1,0.0,0.1,0.30000000000000004,0.1,0.1,0.0,0.0,0.0,0.0,0.0,0.2,0.1,0.1,0.0,0.0,0.1,0.0,0.30000000000000004,0.2,0.0,0.1,0.1,0.1,0.1,0.30000000000000004,0.2,0.30000000000000004,0.0,0.1,0.1,0.30000000000000004,0.0,0.30000000000000004,0.0,0.1,0.2,0.1,0.1,0.1,0.1,0.2,0.1,0.0,0.1,0.1,0.0,0.1,0.0,0.1,0.1,0.0,0.1,0.1,0.0,0.0,0.0,0.30000000000000004,0.1,0.2,0.0,0.0,0.1,0.1,0.1,0.0,0.1,0.1,0.0,0.0,0.0,0.2,0.1,0.0,0.1,0.0,0.1,0.0,0.1,0.1,0.2,0.1,0.1,0.2,0.1,0.1,0.2,0.1,0.0,0.1,0.1,0.1,0.1,0.1,0.0,0.30000000000000004,0.1,0.0,0.0,0.0,0.0,0.1,0.1,0.1,0.1,0.0,0.1,0.2,0.0,0.0,0.30000000000000004,0.1,0.0,0.30000000000000004,0.1,0.2],\"xaxis\":\"x\",\"yaxis\":\"y\",\"type\":\"histogram\"},{\"alignmentgroup\":\"True\",\"bingroup\":\"x\",\"hovertemplate\":\"Model_name=sachs_notears<br>degree_centrality_evs=%{x}<br>count=%{y}<extra></extra>\",\"legendgroup\":\"sachs_notears\",\"marker\":{\"color\":\"#00cc96\",\"pattern\":{\"shape\":\"\"}},\"name\":\"sachs_notears\",\"offsetgroup\":\"sachs_notears\",\"orientation\":\"v\",\"showlegend\":true,\"x\":[0.1,0.0,0.0,0.0,0.0,0.1,0.0,0.1,0.0,0.1,0.2,0.1,0.0,0.0,0.0,0.0,0.30000000000000004,0.1,0.0,0.30000000000000004,0.0,0.0,0.1,0.2,0.1,0.1,0.1,0.1,0.1,0.0,0.1,0.2,0.1,0.30000000000000004,0.1,0.30000000000000004,0.0,0.1,0.0,0.1,0.0,0.0,0.1,0.0,0.1,0.2,0.30000000000000004,0.0,0.30000000000000004,0.2,0.2,0.1,0.1,0.0,0.30000000000000004,0.1,0.0,0.1,0.1,0.1,0.0,0.30000000000000004,0.1,0.0,0.1,0.1,0.30000000000000004,0.0,0.1,0.1,0.2,0.1,0.0,0.1,0.1,0.30000000000000004,0.0,0.1,0.0,0.1,0.1,0.0,0.2,0.1,0.1,0.1],\"xaxis\":\"x\",\"yaxis\":\"y\",\"type\":\"histogram\"},{\"alignmentgroup\":\"True\",\"bingroup\":\"x\",\"hovertemplate\":\"Model_name=sachs_dagGNN<br>degree_centrality_evs=%{x}<br>count=%{y}<extra></extra>\",\"legendgroup\":\"sachs_dagGNN\",\"marker\":{\"color\":\"#ab63fa\",\"pattern\":{\"shape\":\"\"}},\"name\":\"sachs_dagGNN\",\"offsetgroup\":\"sachs_dagGNN\",\"orientation\":\"v\",\"showlegend\":true,\"x\":[0.1,0.0,0.1,0.30000000000000004,0.30000000000000004,0.30000000000000004,0.1,0.0,0.1,0.1,0.1,0.1,0.0,0.30000000000000004,0.1,0.1,0.1,0.1,0.1,0.1,0.0,0.1,0.1,0.30000000000000004,0.30000000000000004,0.1,0.30000000000000004,0.2,0.1,0.2,0.2,0.1,0.1,0.2,0.0,0.2,0.30000000000000004,0.1,0.30000000000000004,0.1,0.2,0.1,0.0,0.1,0.0,0.0,0.0,0.1,0.30000000000000004,0.1,0.0,0.0,0.30000000000000004,0.0,0.30000000000000004,0.0,0.1,0.1,0.0,0.1,0.0],\"xaxis\":\"x\",\"yaxis\":\"y\",\"type\":\"histogram\"}],                        {\"template\":{\"data\":{\"bar\":[{\"error_x\":{\"color\":\"#2a3f5f\"},\"error_y\":{\"color\":\"#2a3f5f\"},\"marker\":{\"line\":{\"color\":\"#E5ECF6\",\"width\":0.5},\"pattern\":{\"fillmode\":\"overlay\",\"size\":10,\"solidity\":0.2}},\"type\":\"bar\"}],\"barpolar\":[{\"marker\":{\"line\":{\"color\":\"#E5ECF6\",\"width\":0.5},\"pattern\":{\"fillmode\":\"overlay\",\"size\":10,\"solidity\":0.2}},\"type\":\"barpolar\"}],\"carpet\":[{\"aaxis\":{\"endlinecolor\":\"#2a3f5f\",\"gridcolor\":\"white\",\"linecolor\":\"white\",\"minorgridcolor\":\"white\",\"startlinecolor\":\"#2a3f5f\"},\"baxis\":{\"endlinecolor\":\"#2a3f5f\",\"gridcolor\":\"white\",\"linecolor\":\"white\",\"minorgridcolor\":\"white\",\"startlinecolor\":\"#2a3f5f\"},\"type\":\"carpet\"}],\"choropleth\":[{\"colorbar\":{\"outlinewidth\":0,\"ticks\":\"\"},\"type\":\"choropleth\"}],\"contour\":[{\"colorbar\":{\"outlinewidth\":0,\"ticks\":\"\"},\"colorscale\":[[0.0,\"#0d0887\"],[0.1111111111111111,\"#46039f\"],[0.2222222222222222,\"#7201a8\"],[0.3333333333333333,\"#9c179e\"],[0.4444444444444444,\"#bd3786\"],[0.5555555555555556,\"#d8576b\"],[0.6666666666666666,\"#ed7953\"],[0.7777777777777778,\"#fb9f3a\"],[0.8888888888888888,\"#fdca26\"],[1.0,\"#f0f921\"]],\"type\":\"contour\"}],\"contourcarpet\":[{\"colorbar\":{\"outlinewidth\":0,\"ticks\":\"\"},\"type\":\"contourcarpet\"}],\"heatmap\":[{\"colorbar\":{\"outlinewidth\":0,\"ticks\":\"\"},\"colorscale\":[[0.0,\"#0d0887\"],[0.1111111111111111,\"#46039f\"],[0.2222222222222222,\"#7201a8\"],[0.3333333333333333,\"#9c179e\"],[0.4444444444444444,\"#bd3786\"],[0.5555555555555556,\"#d8576b\"],[0.6666666666666666,\"#ed7953\"],[0.7777777777777778,\"#fb9f3a\"],[0.8888888888888888,\"#fdca26\"],[1.0,\"#f0f921\"]],\"type\":\"heatmap\"}],\"heatmapgl\":[{\"colorbar\":{\"outlinewidth\":0,\"ticks\":\"\"},\"colorscale\":[[0.0,\"#0d0887\"],[0.1111111111111111,\"#46039f\"],[0.2222222222222222,\"#7201a8\"],[0.3333333333333333,\"#9c179e\"],[0.4444444444444444,\"#bd3786\"],[0.5555555555555556,\"#d8576b\"],[0.6666666666666666,\"#ed7953\"],[0.7777777777777778,\"#fb9f3a\"],[0.8888888888888888,\"#fdca26\"],[1.0,\"#f0f921\"]],\"type\":\"heatmapgl\"}],\"histogram\":[{\"marker\":{\"pattern\":{\"fillmode\":\"overlay\",\"size\":10,\"solidity\":0.2}},\"type\":\"histogram\"}],\"histogram2d\":[{\"colorbar\":{\"outlinewidth\":0,\"ticks\":\"\"},\"colorscale\":[[0.0,\"#0d0887\"],[0.1111111111111111,\"#46039f\"],[0.2222222222222222,\"#7201a8\"],[0.3333333333333333,\"#9c179e\"],[0.4444444444444444,\"#bd3786\"],[0.5555555555555556,\"#d8576b\"],[0.6666666666666666,\"#ed7953\"],[0.7777777777777778,\"#fb9f3a\"],[0.8888888888888888,\"#fdca26\"],[1.0,\"#f0f921\"]],\"type\":\"histogram2d\"}],\"histogram2dcontour\":[{\"colorbar\":{\"outlinewidth\":0,\"ticks\":\"\"},\"colorscale\":[[0.0,\"#0d0887\"],[0.1111111111111111,\"#46039f\"],[0.2222222222222222,\"#7201a8\"],[0.3333333333333333,\"#9c179e\"],[0.4444444444444444,\"#bd3786\"],[0.5555555555555556,\"#d8576b\"],[0.6666666666666666,\"#ed7953\"],[0.7777777777777778,\"#fb9f3a\"],[0.8888888888888888,\"#fdca26\"],[1.0,\"#f0f921\"]],\"type\":\"histogram2dcontour\"}],\"mesh3d\":[{\"colorbar\":{\"outlinewidth\":0,\"ticks\":\"\"},\"type\":\"mesh3d\"}],\"parcoords\":[{\"line\":{\"colorbar\":{\"outlinewidth\":0,\"ticks\":\"\"}},\"type\":\"parcoords\"}],\"pie\":[{\"automargin\":true,\"type\":\"pie\"}],\"scatter\":[{\"marker\":{\"colorbar\":{\"outlinewidth\":0,\"ticks\":\"\"}},\"type\":\"scatter\"}],\"scatter3d\":[{\"line\":{\"colorbar\":{\"outlinewidth\":0,\"ticks\":\"\"}},\"marker\":{\"colorbar\":{\"outlinewidth\":0,\"ticks\":\"\"}},\"type\":\"scatter3d\"}],\"scattercarpet\":[{\"marker\":{\"colorbar\":{\"outlinewidth\":0,\"ticks\":\"\"}},\"type\":\"scattercarpet\"}],\"scattergeo\":[{\"marker\":{\"colorbar\":{\"outlinewidth\":0,\"ticks\":\"\"}},\"type\":\"scattergeo\"}],\"scattergl\":[{\"marker\":{\"colorbar\":{\"outlinewidth\":0,\"ticks\":\"\"}},\"type\":\"scattergl\"}],\"scattermapbox\":[{\"marker\":{\"colorbar\":{\"outlinewidth\":0,\"ticks\":\"\"}},\"type\":\"scattermapbox\"}],\"scatterpolar\":[{\"marker\":{\"colorbar\":{\"outlinewidth\":0,\"ticks\":\"\"}},\"type\":\"scatterpolar\"}],\"scatterpolargl\":[{\"marker\":{\"colorbar\":{\"outlinewidth\":0,\"ticks\":\"\"}},\"type\":\"scatterpolargl\"}],\"scatterternary\":[{\"marker\":{\"colorbar\":{\"outlinewidth\":0,\"ticks\":\"\"}},\"type\":\"scatterternary\"}],\"surface\":[{\"colorbar\":{\"outlinewidth\":0,\"ticks\":\"\"},\"colorscale\":[[0.0,\"#0d0887\"],[0.1111111111111111,\"#46039f\"],[0.2222222222222222,\"#7201a8\"],[0.3333333333333333,\"#9c179e\"],[0.4444444444444444,\"#bd3786\"],[0.5555555555555556,\"#d8576b\"],[0.6666666666666666,\"#ed7953\"],[0.7777777777777778,\"#fb9f3a\"],[0.8888888888888888,\"#fdca26\"],[1.0,\"#f0f921\"]],\"type\":\"surface\"}],\"table\":[{\"cells\":{\"fill\":{\"color\":\"#EBF0F8\"},\"line\":{\"color\":\"white\"}},\"header\":{\"fill\":{\"color\":\"#C8D4E3\"},\"line\":{\"color\":\"white\"}},\"type\":\"table\"}]},\"layout\":{\"annotationdefaults\":{\"arrowcolor\":\"#2a3f5f\",\"arrowhead\":0,\"arrowwidth\":1},\"autotypenumbers\":\"strict\",\"coloraxis\":{\"colorbar\":{\"outlinewidth\":0,\"ticks\":\"\"}},\"colorscale\":{\"diverging\":[[0,\"#8e0152\"],[0.1,\"#c51b7d\"],[0.2,\"#de77ae\"],[0.3,\"#f1b6da\"],[0.4,\"#fde0ef\"],[0.5,\"#f7f7f7\"],[0.6,\"#e6f5d0\"],[0.7,\"#b8e186\"],[0.8,\"#7fbc41\"],[0.9,\"#4d9221\"],[1,\"#276419\"]],\"sequential\":[[0.0,\"#0d0887\"],[0.1111111111111111,\"#46039f\"],[0.2222222222222222,\"#7201a8\"],[0.3333333333333333,\"#9c179e\"],[0.4444444444444444,\"#bd3786\"],[0.5555555555555556,\"#d8576b\"],[0.6666666666666666,\"#ed7953\"],[0.7777777777777778,\"#fb9f3a\"],[0.8888888888888888,\"#fdca26\"],[1.0,\"#f0f921\"]],\"sequentialminus\":[[0.0,\"#0d0887\"],[0.1111111111111111,\"#46039f\"],[0.2222222222222222,\"#7201a8\"],[0.3333333333333333,\"#9c179e\"],[0.4444444444444444,\"#bd3786\"],[0.5555555555555556,\"#d8576b\"],[0.6666666666666666,\"#ed7953\"],[0.7777777777777778,\"#fb9f3a\"],[0.8888888888888888,\"#fdca26\"],[1.0,\"#f0f921\"]]},\"colorway\":[\"#636efa\",\"#EF553B\",\"#00cc96\",\"#ab63fa\",\"#FFA15A\",\"#19d3f3\",\"#FF6692\",\"#B6E880\",\"#FF97FF\",\"#FECB52\"],\"font\":{\"color\":\"#2a3f5f\"},\"geo\":{\"bgcolor\":\"white\",\"lakecolor\":\"white\",\"landcolor\":\"#E5ECF6\",\"showlakes\":true,\"showland\":true,\"subunitcolor\":\"white\"},\"hoverlabel\":{\"align\":\"left\"},\"hovermode\":\"closest\",\"mapbox\":{\"style\":\"light\"},\"paper_bgcolor\":\"white\",\"plot_bgcolor\":\"#E5ECF6\",\"polar\":{\"angularaxis\":{\"gridcolor\":\"white\",\"linecolor\":\"white\",\"ticks\":\"\"},\"bgcolor\":\"#E5ECF6\",\"radialaxis\":{\"gridcolor\":\"white\",\"linecolor\":\"white\",\"ticks\":\"\"}},\"scene\":{\"xaxis\":{\"backgroundcolor\":\"#E5ECF6\",\"gridcolor\":\"white\",\"gridwidth\":2,\"linecolor\":\"white\",\"showbackground\":true,\"ticks\":\"\",\"zerolinecolor\":\"white\"},\"yaxis\":{\"backgroundcolor\":\"#E5ECF6\",\"gridcolor\":\"white\",\"gridwidth\":2,\"linecolor\":\"white\",\"showbackground\":true,\"ticks\":\"\",\"zerolinecolor\":\"white\"},\"zaxis\":{\"backgroundcolor\":\"#E5ECF6\",\"gridcolor\":\"white\",\"gridwidth\":2,\"linecolor\":\"white\",\"showbackground\":true,\"ticks\":\"\",\"zerolinecolor\":\"white\"}},\"shapedefaults\":{\"line\":{\"color\":\"#2a3f5f\"}},\"ternary\":{\"aaxis\":{\"gridcolor\":\"white\",\"linecolor\":\"white\",\"ticks\":\"\"},\"baxis\":{\"gridcolor\":\"white\",\"linecolor\":\"white\",\"ticks\":\"\"},\"bgcolor\":\"#E5ECF6\",\"caxis\":{\"gridcolor\":\"white\",\"linecolor\":\"white\",\"ticks\":\"\"}},\"title\":{\"x\":0.05},\"xaxis\":{\"automargin\":true,\"gridcolor\":\"white\",\"linecolor\":\"white\",\"ticks\":\"\",\"title\":{\"standoff\":15},\"zerolinecolor\":\"white\",\"zerolinewidth\":2},\"yaxis\":{\"automargin\":true,\"gridcolor\":\"white\",\"linecolor\":\"white\",\"ticks\":\"\",\"title\":{\"standoff\":15},\"zerolinecolor\":\"white\",\"zerolinewidth\":2}}},\"xaxis\":{\"anchor\":\"y\",\"domain\":[0.0,1.0],\"title\":{\"text\":\"Evidence Variable Degree Centrality\"}},\"yaxis\":{\"anchor\":\"x\",\"domain\":[0.0,1.0],\"title\":{\"text\":\"Count\"}},\"legend\":{\"title\":{\"text\":\"Model_name\"},\"tracegroupgap\":0},\"margin\":{\"t\":60},\"barmode\":\"group\",\"title\":{\"text\":\"Histogram for Evidence Variable Degree Centrality: sachs\"}},                        {\"responsive\": true}                    ).then(function(){\n",
       "                            \n",
       "var gd = document.getElementById('9140155b-8cbe-49dd-ae76-5c7d6a81e1d9');\n",
       "var x = new MutationObserver(function (mutations, observer) {{\n",
       "        var display = window.getComputedStyle(gd).display;\n",
       "        if (!display || display === 'none') {{\n",
       "            console.log([gd, 'removed!']);\n",
       "            Plotly.purge(gd);\n",
       "            observer.disconnect();\n",
       "        }}\n",
       "}});\n",
       "\n",
       "// Listen for the removal of the full notebook cells\n",
       "var notebookContainer = gd.closest('#notebook-container');\n",
       "if (notebookContainer) {{\n",
       "    x.observe(notebookContainer, {childList: true});\n",
       "}}\n",
       "\n",
       "// Listen for the clearing of the current output cell\n",
       "var outputEl = gd.closest('.output');\n",
       "if (outputEl) {{\n",
       "    x.observe(outputEl, {childList: true});\n",
       "}}\n",
       "\n",
       "                        })                };                });            </script>        </div>"
      ]
     },
     "metadata": {},
     "output_type": "display_data"
    }
   ],
   "source": [
    "fig = px.histogram(df, x=\"degree_centrality_evs\", color='Model_name', barmode='group')\n",
    "fig.update_layout(\n",
    "    title_text=f'Histogram for Evidence Variable Degree Centrality: {dataset_name}', # title of plot\n",
    "    xaxis_title_text='Evidence Variable Degree Centrality', # xaxis label\n",
    "    yaxis_title_text='Count', # yaxis label\n",
    ")\n",
    "fig.show()"
   ]
  },
  {
   "cell_type": "code",
   "execution_count": 145,
   "id": "9110d468",
   "metadata": {},
   "outputs": [
    {
     "data": {
      "application/vnd.plotly.v1+json": {
       "config": {
        "plotlyServerURL": "https://plot.ly"
       },
       "data": [
        {
         "alignmentgroup": "True",
         "bingroup": "x",
         "histnorm": "percent",
         "hovertemplate": "confidence_score=%{x}<br>percent=%{y}<extra></extra>",
         "legendgroup": "",
         "marker": {
          "color": "#636efa",
          "pattern": {
           "shape": ""
          }
         },
         "name": "",
         "nbinsx": 50,
         "offsetgroup": "",
         "orientation": "v",
         "showlegend": false,
         "type": "histogram",
         "x": [
          0.0014635847512491917,
          0,
          0.030258468079597645,
          0.02363348220842698,
          0,
          0,
          0.01872153177010305,
          0.028317667762105203,
          0,
          0,
          0,
          0.030258468079597645,
          0.03772953966477699,
          0.07887560307870356,
          0.007308682309120518,
          0,
          0,
          0,
          0.13031080394889116,
          0.02979195986075933,
          0.009293601526690565,
          0.01695263997886487,
          0.005274206845627627,
          0,
          0.009657056612481951,
          0.014938756120246643,
          0.13031080394889116,
          0.010711849833752396,
          0.040399118835105385,
          0.003375905163926274,
          0.03582181892163394,
          0.0876323572757145,
          0.022169639068336244,
          0.014938756120246643,
          0,
          0.002468369873470211,
          0,
          0,
          0.12914354975325704,
          0.009293601526690565,
          0,
          0.008015090184087525,
          0.05743254723312197,
          0.024571146107832176,
          0.007861807818535738,
          0.13031080394889116,
          0.007672564849011243,
          0.012925189762020395,
          0.13031080394889116,
          0.01624846478705333,
          0.006316045735465403,
          0.022654854788571543,
          0,
          0.024571146107832176,
          0.014938756120246643,
          0.0014635847512491917,
          0,
          0,
          0,
          0.009293601526690565,
          0.02979195986075933,
          0.00032045470327901615,
          0,
          0,
          0,
          0,
          0.01172257572169455,
          0.011884436808931143,
          0.00047563830919039596,
          0.009430121273117376,
          0.12861132366385086,
          0,
          0.006350983970863755,
          0,
          0.016852749810210566,
          0.007308682309120518,
          0.002520632438069992,
          0.009430121273117376,
          0.016852749810210566,
          0,
          0.02289700232683689,
          0.024571146107832176,
          0,
          0,
          0,
          0.0876323572757145,
          0.009470973094204305,
          0.13031080394889116,
          0.012703588136247168,
          0,
          0.026897304719336157,
          0.0015253097513393543,
          0,
          0.005175312843441082,
          0.009657056612481951,
          0,
          0,
          0,
          0,
          0.007644188802639396,
          0.028735264964582452,
          0.13031080394889116,
          0,
          0.013141476077052294,
          0.01695263997886487,
          0,
          0.003186229476482838,
          0,
          0.020488448741096787,
          0.026081839114017846,
          0,
          0,
          0,
          0.009293601526690565,
          0.003375905163926163,
          0.02289700232683689,
          0.006129437645608804,
          0,
          0.019897414452144324,
          0.014715372566784457,
          0.011735864043540656,
          0.007308682309120518,
          0.0014941719361534211,
          0,
          0.12914354975325704,
          0,
          0,
          0.007306439523162456,
          0,
          0.009430121273117376,
          0,
          0.05743254723312197,
          0,
          0,
          0,
          0.00032045470327901615,
          0.007997750428421435,
          0.0014941719361534211,
          0,
          0,
          0.05743254723312197,
          0.007308682309120518,
          0.01872153177010305,
          0.009657056612481951,
          0.02979195986075933,
          0.12861132366385086,
          0,
          0,
          0.03485622594003701,
          0.024571146107832176,
          0,
          0.01695263997886487,
          0.0876323572757145,
          0.0013394939707846998,
          0.05137305584325702,
          0.008015090184087525,
          0.030258468079597645,
          0,
          0.01695263997886487,
          0.0014635847512491917,
          0.03485622594003701,
          0.02289700232683689,
          0,
          0.009430121273117376,
          0,
          0.028317667762105203,
          0.00421291030764015,
          0,
          0.0014635847512491917,
          0,
          0.02364461180855648,
          0.05743254723312197,
          0,
          0.009430121273117376,
          0,
          0,
          0,
          0.011735864043540656,
          0,
          0.040399118835105385,
          0.007672564849011243,
          0,
          0.001962236069108503,
          0.003283791627344268,
          0,
          0,
          0.024571146107832176,
          0.03269612115532172,
          0.06223248564101336,
          0.006431113563754254,
          0,
          0.13031080394889116,
          0,
          0.039554198032122345,
          0.019897414452144324,
          0,
          0,
          0.006771361264925391,
          0.024571146107832176,
          0.07887560307870356,
          0.009293601526690565,
          0.006702004404129824,
          0,
          0.03485622594003701,
          0,
          0.014938756120246643,
          0.016257835095073503,
          0.012925189762020395,
          0.039554198032122345,
          0.13031080394889116,
          0.13031080394889116,
          0.017962805668801263,
          0.030394044483989302,
          0.030258468079597645,
          0.024571146107832176,
          0,
          0.0014635847512491917,
          0,
          0.07887560307870356,
          0,
          0,
          0,
          0,
          0.00032045470327901615,
          0,
          0.00472086606619293,
          0.06223248564101336,
          0.02583014102473291,
          0.009430121273117376,
          0.07887560307870356,
          0.03269612115532172,
          0,
          0.039554198032122345,
          0.006702004404129824,
          0,
          0,
          0,
          0,
          0,
          0.007308682309120518,
          0,
          0.03676394668318006,
          0,
          0,
          0,
          0.006129437645608804,
          0,
          0.0012168518577944099,
          0.01624846478705333,
          0.009430121273117376,
          0.009430121273117376,
          0,
          0,
          0.004022963400581725,
          0.00032045470327901615,
          0,
          0.026897304719336157,
          0,
          0.05137305584325702,
          0.014938756120246643,
          0.07689751766489461,
          0,
          0,
          0.05137305584325702,
          0.007997750428421435,
          0.007644188802639396,
          0,
          0.015786488426617784,
          0.03485622594003701,
          0.07887560307870356,
          0.00421291030764015,
          0,
          0.007728297045260679,
          0.007131667473704306,
          0,
          0.009430121273117376,
          0,
          0.013141476077052294,
          0,
          0,
          0.0876323572757145,
          0.03772953966477699,
          0.019897414452144324,
          0.013141476077052294,
          0.00926249449183536,
          0,
          0.01919802295210926,
          0.13031080394889116,
          0.040399118835105385,
          0,
          0.01750959807085295,
          0.014389587300562057,
          0.016257835095073503,
          0,
          0,
          0,
          0.012925189762020395,
          0,
          0.022405520286223113,
          0.032043472314446264,
          0,
          0,
          0,
          0.0013394939707846998,
          0.0014941719361534211,
          0,
          0.009430121273117376,
          0.014389587300562057,
          0,
          0.03676394668318006,
          0,
          0.015405541593663807,
          0.006702004404129824,
          0.030258468079597645,
          0,
          0.020488448741096676,
          0.019022834144421297,
          0.036973889520457326,
          0,
          0.014938756120246643,
          0.022169639068336244,
          0.028317667762105203,
          0.005579528619865992,
          0,
          0.009657056612481951,
          0.020802738632691664,
          0,
          0.009033113179939378,
          0.013678294262307045,
          0.05743254723312197,
          0.040399118835105385,
          0.036316130285059534,
          0.0876323572757145,
          0,
          0.03772953966477699,
          0,
          0,
          0.009430121273117376,
          0,
          0,
          0.036316130285059534,
          0.009470973094204305,
          0,
          0.02731217762596594,
          0,
          0.00032045470327901615,
          0,
          0.0013394939707846998,
          0,
          0,
          0
         ],
         "xaxis": "x",
         "yaxis": "y"
        }
       ],
       "layout": {
        "bargap": 0.001,
        "barmode": "relative",
        "legend": {
         "tracegroupgap": 0
        },
        "margin": {
         "t": 60
        },
        "template": {
         "data": {
          "bar": [
           {
            "error_x": {
             "color": "#2a3f5f"
            },
            "error_y": {
             "color": "#2a3f5f"
            },
            "marker": {
             "line": {
              "color": "#E5ECF6",
              "width": 0.5
             },
             "pattern": {
              "fillmode": "overlay",
              "size": 10,
              "solidity": 0.2
             }
            },
            "type": "bar"
           }
          ],
          "barpolar": [
           {
            "marker": {
             "line": {
              "color": "#E5ECF6",
              "width": 0.5
             },
             "pattern": {
              "fillmode": "overlay",
              "size": 10,
              "solidity": 0.2
             }
            },
            "type": "barpolar"
           }
          ],
          "carpet": [
           {
            "aaxis": {
             "endlinecolor": "#2a3f5f",
             "gridcolor": "white",
             "linecolor": "white",
             "minorgridcolor": "white",
             "startlinecolor": "#2a3f5f"
            },
            "baxis": {
             "endlinecolor": "#2a3f5f",
             "gridcolor": "white",
             "linecolor": "white",
             "minorgridcolor": "white",
             "startlinecolor": "#2a3f5f"
            },
            "type": "carpet"
           }
          ],
          "choropleth": [
           {
            "colorbar": {
             "outlinewidth": 0,
             "ticks": ""
            },
            "type": "choropleth"
           }
          ],
          "contour": [
           {
            "colorbar": {
             "outlinewidth": 0,
             "ticks": ""
            },
            "colorscale": [
             [
              0,
              "#0d0887"
             ],
             [
              0.1111111111111111,
              "#46039f"
             ],
             [
              0.2222222222222222,
              "#7201a8"
             ],
             [
              0.3333333333333333,
              "#9c179e"
             ],
             [
              0.4444444444444444,
              "#bd3786"
             ],
             [
              0.5555555555555556,
              "#d8576b"
             ],
             [
              0.6666666666666666,
              "#ed7953"
             ],
             [
              0.7777777777777778,
              "#fb9f3a"
             ],
             [
              0.8888888888888888,
              "#fdca26"
             ],
             [
              1,
              "#f0f921"
             ]
            ],
            "type": "contour"
           }
          ],
          "contourcarpet": [
           {
            "colorbar": {
             "outlinewidth": 0,
             "ticks": ""
            },
            "type": "contourcarpet"
           }
          ],
          "heatmap": [
           {
            "colorbar": {
             "outlinewidth": 0,
             "ticks": ""
            },
            "colorscale": [
             [
              0,
              "#0d0887"
             ],
             [
              0.1111111111111111,
              "#46039f"
             ],
             [
              0.2222222222222222,
              "#7201a8"
             ],
             [
              0.3333333333333333,
              "#9c179e"
             ],
             [
              0.4444444444444444,
              "#bd3786"
             ],
             [
              0.5555555555555556,
              "#d8576b"
             ],
             [
              0.6666666666666666,
              "#ed7953"
             ],
             [
              0.7777777777777778,
              "#fb9f3a"
             ],
             [
              0.8888888888888888,
              "#fdca26"
             ],
             [
              1,
              "#f0f921"
             ]
            ],
            "type": "heatmap"
           }
          ],
          "heatmapgl": [
           {
            "colorbar": {
             "outlinewidth": 0,
             "ticks": ""
            },
            "colorscale": [
             [
              0,
              "#0d0887"
             ],
             [
              0.1111111111111111,
              "#46039f"
             ],
             [
              0.2222222222222222,
              "#7201a8"
             ],
             [
              0.3333333333333333,
              "#9c179e"
             ],
             [
              0.4444444444444444,
              "#bd3786"
             ],
             [
              0.5555555555555556,
              "#d8576b"
             ],
             [
              0.6666666666666666,
              "#ed7953"
             ],
             [
              0.7777777777777778,
              "#fb9f3a"
             ],
             [
              0.8888888888888888,
              "#fdca26"
             ],
             [
              1,
              "#f0f921"
             ]
            ],
            "type": "heatmapgl"
           }
          ],
          "histogram": [
           {
            "marker": {
             "pattern": {
              "fillmode": "overlay",
              "size": 10,
              "solidity": 0.2
             }
            },
            "type": "histogram"
           }
          ],
          "histogram2d": [
           {
            "colorbar": {
             "outlinewidth": 0,
             "ticks": ""
            },
            "colorscale": [
             [
              0,
              "#0d0887"
             ],
             [
              0.1111111111111111,
              "#46039f"
             ],
             [
              0.2222222222222222,
              "#7201a8"
             ],
             [
              0.3333333333333333,
              "#9c179e"
             ],
             [
              0.4444444444444444,
              "#bd3786"
             ],
             [
              0.5555555555555556,
              "#d8576b"
             ],
             [
              0.6666666666666666,
              "#ed7953"
             ],
             [
              0.7777777777777778,
              "#fb9f3a"
             ],
             [
              0.8888888888888888,
              "#fdca26"
             ],
             [
              1,
              "#f0f921"
             ]
            ],
            "type": "histogram2d"
           }
          ],
          "histogram2dcontour": [
           {
            "colorbar": {
             "outlinewidth": 0,
             "ticks": ""
            },
            "colorscale": [
             [
              0,
              "#0d0887"
             ],
             [
              0.1111111111111111,
              "#46039f"
             ],
             [
              0.2222222222222222,
              "#7201a8"
             ],
             [
              0.3333333333333333,
              "#9c179e"
             ],
             [
              0.4444444444444444,
              "#bd3786"
             ],
             [
              0.5555555555555556,
              "#d8576b"
             ],
             [
              0.6666666666666666,
              "#ed7953"
             ],
             [
              0.7777777777777778,
              "#fb9f3a"
             ],
             [
              0.8888888888888888,
              "#fdca26"
             ],
             [
              1,
              "#f0f921"
             ]
            ],
            "type": "histogram2dcontour"
           }
          ],
          "mesh3d": [
           {
            "colorbar": {
             "outlinewidth": 0,
             "ticks": ""
            },
            "type": "mesh3d"
           }
          ],
          "parcoords": [
           {
            "line": {
             "colorbar": {
              "outlinewidth": 0,
              "ticks": ""
             }
            },
            "type": "parcoords"
           }
          ],
          "pie": [
           {
            "automargin": true,
            "type": "pie"
           }
          ],
          "scatter": [
           {
            "marker": {
             "colorbar": {
              "outlinewidth": 0,
              "ticks": ""
             }
            },
            "type": "scatter"
           }
          ],
          "scatter3d": [
           {
            "line": {
             "colorbar": {
              "outlinewidth": 0,
              "ticks": ""
             }
            },
            "marker": {
             "colorbar": {
              "outlinewidth": 0,
              "ticks": ""
             }
            },
            "type": "scatter3d"
           }
          ],
          "scattercarpet": [
           {
            "marker": {
             "colorbar": {
              "outlinewidth": 0,
              "ticks": ""
             }
            },
            "type": "scattercarpet"
           }
          ],
          "scattergeo": [
           {
            "marker": {
             "colorbar": {
              "outlinewidth": 0,
              "ticks": ""
             }
            },
            "type": "scattergeo"
           }
          ],
          "scattergl": [
           {
            "marker": {
             "colorbar": {
              "outlinewidth": 0,
              "ticks": ""
             }
            },
            "type": "scattergl"
           }
          ],
          "scattermapbox": [
           {
            "marker": {
             "colorbar": {
              "outlinewidth": 0,
              "ticks": ""
             }
            },
            "type": "scattermapbox"
           }
          ],
          "scatterpolar": [
           {
            "marker": {
             "colorbar": {
              "outlinewidth": 0,
              "ticks": ""
             }
            },
            "type": "scatterpolar"
           }
          ],
          "scatterpolargl": [
           {
            "marker": {
             "colorbar": {
              "outlinewidth": 0,
              "ticks": ""
             }
            },
            "type": "scatterpolargl"
           }
          ],
          "scatterternary": [
           {
            "marker": {
             "colorbar": {
              "outlinewidth": 0,
              "ticks": ""
             }
            },
            "type": "scatterternary"
           }
          ],
          "surface": [
           {
            "colorbar": {
             "outlinewidth": 0,
             "ticks": ""
            },
            "colorscale": [
             [
              0,
              "#0d0887"
             ],
             [
              0.1111111111111111,
              "#46039f"
             ],
             [
              0.2222222222222222,
              "#7201a8"
             ],
             [
              0.3333333333333333,
              "#9c179e"
             ],
             [
              0.4444444444444444,
              "#bd3786"
             ],
             [
              0.5555555555555556,
              "#d8576b"
             ],
             [
              0.6666666666666666,
              "#ed7953"
             ],
             [
              0.7777777777777778,
              "#fb9f3a"
             ],
             [
              0.8888888888888888,
              "#fdca26"
             ],
             [
              1,
              "#f0f921"
             ]
            ],
            "type": "surface"
           }
          ],
          "table": [
           {
            "cells": {
             "fill": {
              "color": "#EBF0F8"
             },
             "line": {
              "color": "white"
             }
            },
            "header": {
             "fill": {
              "color": "#C8D4E3"
             },
             "line": {
              "color": "white"
             }
            },
            "type": "table"
           }
          ]
         },
         "layout": {
          "annotationdefaults": {
           "arrowcolor": "#2a3f5f",
           "arrowhead": 0,
           "arrowwidth": 1
          },
          "autotypenumbers": "strict",
          "coloraxis": {
           "colorbar": {
            "outlinewidth": 0,
            "ticks": ""
           }
          },
          "colorscale": {
           "diverging": [
            [
             0,
             "#8e0152"
            ],
            [
             0.1,
             "#c51b7d"
            ],
            [
             0.2,
             "#de77ae"
            ],
            [
             0.3,
             "#f1b6da"
            ],
            [
             0.4,
             "#fde0ef"
            ],
            [
             0.5,
             "#f7f7f7"
            ],
            [
             0.6,
             "#e6f5d0"
            ],
            [
             0.7,
             "#b8e186"
            ],
            [
             0.8,
             "#7fbc41"
            ],
            [
             0.9,
             "#4d9221"
            ],
            [
             1,
             "#276419"
            ]
           ],
           "sequential": [
            [
             0,
             "#0d0887"
            ],
            [
             0.1111111111111111,
             "#46039f"
            ],
            [
             0.2222222222222222,
             "#7201a8"
            ],
            [
             0.3333333333333333,
             "#9c179e"
            ],
            [
             0.4444444444444444,
             "#bd3786"
            ],
            [
             0.5555555555555556,
             "#d8576b"
            ],
            [
             0.6666666666666666,
             "#ed7953"
            ],
            [
             0.7777777777777778,
             "#fb9f3a"
            ],
            [
             0.8888888888888888,
             "#fdca26"
            ],
            [
             1,
             "#f0f921"
            ]
           ],
           "sequentialminus": [
            [
             0,
             "#0d0887"
            ],
            [
             0.1111111111111111,
             "#46039f"
            ],
            [
             0.2222222222222222,
             "#7201a8"
            ],
            [
             0.3333333333333333,
             "#9c179e"
            ],
            [
             0.4444444444444444,
             "#bd3786"
            ],
            [
             0.5555555555555556,
             "#d8576b"
            ],
            [
             0.6666666666666666,
             "#ed7953"
            ],
            [
             0.7777777777777778,
             "#fb9f3a"
            ],
            [
             0.8888888888888888,
             "#fdca26"
            ],
            [
             1,
             "#f0f921"
            ]
           ]
          },
          "colorway": [
           "#636efa",
           "#EF553B",
           "#00cc96",
           "#ab63fa",
           "#FFA15A",
           "#19d3f3",
           "#FF6692",
           "#B6E880",
           "#FF97FF",
           "#FECB52"
          ],
          "font": {
           "color": "#2a3f5f"
          },
          "geo": {
           "bgcolor": "white",
           "lakecolor": "white",
           "landcolor": "#E5ECF6",
           "showlakes": true,
           "showland": true,
           "subunitcolor": "white"
          },
          "hoverlabel": {
           "align": "left"
          },
          "hovermode": "closest",
          "mapbox": {
           "style": "light"
          },
          "paper_bgcolor": "white",
          "plot_bgcolor": "#E5ECF6",
          "polar": {
           "angularaxis": {
            "gridcolor": "white",
            "linecolor": "white",
            "ticks": ""
           },
           "bgcolor": "#E5ECF6",
           "radialaxis": {
            "gridcolor": "white",
            "linecolor": "white",
            "ticks": ""
           }
          },
          "scene": {
           "xaxis": {
            "backgroundcolor": "#E5ECF6",
            "gridcolor": "white",
            "gridwidth": 2,
            "linecolor": "white",
            "showbackground": true,
            "ticks": "",
            "zerolinecolor": "white"
           },
           "yaxis": {
            "backgroundcolor": "#E5ECF6",
            "gridcolor": "white",
            "gridwidth": 2,
            "linecolor": "white",
            "showbackground": true,
            "ticks": "",
            "zerolinecolor": "white"
           },
           "zaxis": {
            "backgroundcolor": "#E5ECF6",
            "gridcolor": "white",
            "gridwidth": 2,
            "linecolor": "white",
            "showbackground": true,
            "ticks": "",
            "zerolinecolor": "white"
           }
          },
          "shapedefaults": {
           "line": {
            "color": "#2a3f5f"
           }
          },
          "ternary": {
           "aaxis": {
            "gridcolor": "white",
            "linecolor": "white",
            "ticks": ""
           },
           "baxis": {
            "gridcolor": "white",
            "linecolor": "white",
            "ticks": ""
           },
           "bgcolor": "#E5ECF6",
           "caxis": {
            "gridcolor": "white",
            "linecolor": "white",
            "ticks": ""
           }
          },
          "title": {
           "x": 0.05
          },
          "xaxis": {
           "automargin": true,
           "gridcolor": "white",
           "linecolor": "white",
           "ticks": "",
           "title": {
            "standoff": 15
           },
           "zerolinecolor": "white",
           "zerolinewidth": 2
          },
          "yaxis": {
           "automargin": true,
           "gridcolor": "white",
           "linecolor": "white",
           "ticks": "",
           "title": {
            "standoff": 15
           },
           "zerolinecolor": "white",
           "zerolinewidth": 2
          }
         }
        },
        "title": {
         "text": "Histogram for confidence: asia %age"
        },
        "xaxis": {
         "anchor": "y",
         "domain": [
          0,
          1
         ],
         "nticks": 30,
         "title": {
          "text": "confidence_score"
         }
        },
        "yaxis": {
         "anchor": "x",
         "domain": [
          0,
          1
         ],
         "title": {
          "text": "percent"
         }
        }
       }
      },
      "text/html": [
       "<div>                            <div id=\"e678982f-3d7d-48a1-b717-810fcd908c01\" class=\"plotly-graph-div\" style=\"height:525px; width:100%;\"></div>            <script type=\"text/javascript\">                require([\"plotly\"], function(Plotly) {                    window.PLOTLYENV=window.PLOTLYENV || {};                                    if (document.getElementById(\"e678982f-3d7d-48a1-b717-810fcd908c01\")) {                    Plotly.newPlot(                        \"e678982f-3d7d-48a1-b717-810fcd908c01\",                        [{\"alignmentgroup\":\"True\",\"bingroup\":\"x\",\"histnorm\":\"percent\",\"hovertemplate\":\"confidence_score=%{x}<br>percent=%{y}<extra></extra>\",\"legendgroup\":\"\",\"marker\":{\"color\":\"#636efa\",\"pattern\":{\"shape\":\"\"}},\"name\":\"\",\"nbinsx\":50,\"offsetgroup\":\"\",\"orientation\":\"v\",\"showlegend\":false,\"x\":[0.0014635847512491917,0.0,0.030258468079597645,0.02363348220842698,0.0,0.0,0.01872153177010305,0.028317667762105203,0.0,0.0,0.0,0.030258468079597645,0.03772953966477699,0.07887560307870356,0.007308682309120518,0.0,0.0,0.0,0.13031080394889116,0.02979195986075933,0.009293601526690565,0.01695263997886487,0.005274206845627627,0.0,0.009657056612481951,0.014938756120246643,0.13031080394889116,0.010711849833752396,0.040399118835105385,0.003375905163926274,0.03582181892163394,0.0876323572757145,0.022169639068336244,0.014938756120246643,0.0,0.002468369873470211,0.0,0.0,0.12914354975325704,0.009293601526690565,0.0,0.008015090184087525,0.05743254723312197,0.024571146107832176,0.007861807818535738,0.13031080394889116,0.007672564849011243,0.012925189762020395,0.13031080394889116,0.01624846478705333,0.006316045735465403,0.022654854788571543,0.0,0.024571146107832176,0.014938756120246643,0.0014635847512491917,0.0,0.0,0.0,0.009293601526690565,0.02979195986075933,0.00032045470327901615,0.0,0.0,0.0,0.0,0.01172257572169455,0.011884436808931143,0.00047563830919039596,0.009430121273117376,0.12861132366385086,0.0,0.006350983970863755,0.0,0.016852749810210566,0.007308682309120518,0.002520632438069992,0.009430121273117376,0.016852749810210566,0.0,0.02289700232683689,0.024571146107832176,0.0,0.0,0.0,0.0876323572757145,0.009470973094204305,0.13031080394889116,0.012703588136247168,0.0,0.026897304719336157,0.0015253097513393543,0.0,0.005175312843441082,0.009657056612481951,0.0,0.0,0.0,0.0,0.007644188802639396,0.028735264964582452,0.13031080394889116,0.0,0.013141476077052294,0.01695263997886487,0.0,0.003186229476482838,0.0,0.020488448741096787,0.026081839114017846,0.0,0.0,0.0,0.009293601526690565,0.003375905163926163,0.02289700232683689,0.006129437645608804,0.0,0.019897414452144324,0.014715372566784457,0.011735864043540656,0.007308682309120518,0.0014941719361534211,0.0,0.12914354975325704,0.0,0.0,0.007306439523162456,0.0,0.009430121273117376,0.0,0.05743254723312197,0.0,0.0,0.0,0.00032045470327901615,0.007997750428421435,0.0014941719361534211,0.0,0.0,0.05743254723312197,0.007308682309120518,0.01872153177010305,0.009657056612481951,0.02979195986075933,0.12861132366385086,0.0,0.0,0.03485622594003701,0.024571146107832176,0.0,0.01695263997886487,0.0876323572757145,0.0013394939707846998,0.05137305584325702,0.008015090184087525,0.030258468079597645,0.0,0.01695263997886487,0.0014635847512491917,0.03485622594003701,0.02289700232683689,0.0,0.009430121273117376,0.0,0.028317667762105203,0.00421291030764015,0.0,0.0014635847512491917,0.0,0.02364461180855648,0.05743254723312197,0.0,0.009430121273117376,0.0,0.0,0.0,0.011735864043540656,0.0,0.040399118835105385,0.007672564849011243,0.0,0.001962236069108503,0.003283791627344268,0.0,0.0,0.024571146107832176,0.03269612115532172,0.06223248564101336,0.006431113563754254,0.0,0.13031080394889116,0.0,0.039554198032122345,0.019897414452144324,0.0,0.0,0.006771361264925391,0.024571146107832176,0.07887560307870356,0.009293601526690565,0.006702004404129824,0.0,0.03485622594003701,0.0,0.014938756120246643,0.016257835095073503,0.012925189762020395,0.039554198032122345,0.13031080394889116,0.13031080394889116,0.017962805668801263,0.030394044483989302,0.030258468079597645,0.024571146107832176,0.0,0.0014635847512491917,0.0,0.07887560307870356,0.0,0.0,0.0,0.0,0.00032045470327901615,0.0,0.00472086606619293,0.06223248564101336,0.02583014102473291,0.009430121273117376,0.07887560307870356,0.03269612115532172,0.0,0.039554198032122345,0.006702004404129824,0.0,0.0,0.0,0.0,0.0,0.007308682309120518,0.0,0.03676394668318006,0.0,0.0,0.0,0.006129437645608804,0.0,0.0012168518577944099,0.01624846478705333,0.009430121273117376,0.009430121273117376,0.0,0.0,0.004022963400581725,0.00032045470327901615,0.0,0.026897304719336157,0.0,0.05137305584325702,0.014938756120246643,0.07689751766489461,0.0,0.0,0.05137305584325702,0.007997750428421435,0.007644188802639396,0.0,0.015786488426617784,0.03485622594003701,0.07887560307870356,0.00421291030764015,0.0,0.007728297045260679,0.007131667473704306,0.0,0.009430121273117376,0.0,0.013141476077052294,0.0,0.0,0.0876323572757145,0.03772953966477699,0.019897414452144324,0.013141476077052294,0.00926249449183536,0.0,0.01919802295210926,0.13031080394889116,0.040399118835105385,0.0,0.01750959807085295,0.014389587300562057,0.016257835095073503,0.0,0.0,0.0,0.012925189762020395,0.0,0.022405520286223113,0.032043472314446264,0.0,0.0,0.0,0.0013394939707846998,0.0014941719361534211,0.0,0.009430121273117376,0.014389587300562057,0.0,0.03676394668318006,0.0,0.015405541593663807,0.006702004404129824,0.030258468079597645,0.0,0.020488448741096676,0.019022834144421297,0.036973889520457326,0.0,0.014938756120246643,0.022169639068336244,0.028317667762105203,0.005579528619865992,0.0,0.009657056612481951,0.020802738632691664,0.0,0.009033113179939378,0.013678294262307045,0.05743254723312197,0.040399118835105385,0.036316130285059534,0.0876323572757145,0.0,0.03772953966477699,0.0,0.0,0.009430121273117376,0.0,0.0,0.036316130285059534,0.009470973094204305,0.0,0.02731217762596594,0.0,0.00032045470327901615,0.0,0.0013394939707846998,0.0,0.0,0.0],\"xaxis\":\"x\",\"yaxis\":\"y\",\"type\":\"histogram\"}],                        {\"template\":{\"data\":{\"bar\":[{\"error_x\":{\"color\":\"#2a3f5f\"},\"error_y\":{\"color\":\"#2a3f5f\"},\"marker\":{\"line\":{\"color\":\"#E5ECF6\",\"width\":0.5},\"pattern\":{\"fillmode\":\"overlay\",\"size\":10,\"solidity\":0.2}},\"type\":\"bar\"}],\"barpolar\":[{\"marker\":{\"line\":{\"color\":\"#E5ECF6\",\"width\":0.5},\"pattern\":{\"fillmode\":\"overlay\",\"size\":10,\"solidity\":0.2}},\"type\":\"barpolar\"}],\"carpet\":[{\"aaxis\":{\"endlinecolor\":\"#2a3f5f\",\"gridcolor\":\"white\",\"linecolor\":\"white\",\"minorgridcolor\":\"white\",\"startlinecolor\":\"#2a3f5f\"},\"baxis\":{\"endlinecolor\":\"#2a3f5f\",\"gridcolor\":\"white\",\"linecolor\":\"white\",\"minorgridcolor\":\"white\",\"startlinecolor\":\"#2a3f5f\"},\"type\":\"carpet\"}],\"choropleth\":[{\"colorbar\":{\"outlinewidth\":0,\"ticks\":\"\"},\"type\":\"choropleth\"}],\"contour\":[{\"colorbar\":{\"outlinewidth\":0,\"ticks\":\"\"},\"colorscale\":[[0.0,\"#0d0887\"],[0.1111111111111111,\"#46039f\"],[0.2222222222222222,\"#7201a8\"],[0.3333333333333333,\"#9c179e\"],[0.4444444444444444,\"#bd3786\"],[0.5555555555555556,\"#d8576b\"],[0.6666666666666666,\"#ed7953\"],[0.7777777777777778,\"#fb9f3a\"],[0.8888888888888888,\"#fdca26\"],[1.0,\"#f0f921\"]],\"type\":\"contour\"}],\"contourcarpet\":[{\"colorbar\":{\"outlinewidth\":0,\"ticks\":\"\"},\"type\":\"contourcarpet\"}],\"heatmap\":[{\"colorbar\":{\"outlinewidth\":0,\"ticks\":\"\"},\"colorscale\":[[0.0,\"#0d0887\"],[0.1111111111111111,\"#46039f\"],[0.2222222222222222,\"#7201a8\"],[0.3333333333333333,\"#9c179e\"],[0.4444444444444444,\"#bd3786\"],[0.5555555555555556,\"#d8576b\"],[0.6666666666666666,\"#ed7953\"],[0.7777777777777778,\"#fb9f3a\"],[0.8888888888888888,\"#fdca26\"],[1.0,\"#f0f921\"]],\"type\":\"heatmap\"}],\"heatmapgl\":[{\"colorbar\":{\"outlinewidth\":0,\"ticks\":\"\"},\"colorscale\":[[0.0,\"#0d0887\"],[0.1111111111111111,\"#46039f\"],[0.2222222222222222,\"#7201a8\"],[0.3333333333333333,\"#9c179e\"],[0.4444444444444444,\"#bd3786\"],[0.5555555555555556,\"#d8576b\"],[0.6666666666666666,\"#ed7953\"],[0.7777777777777778,\"#fb9f3a\"],[0.8888888888888888,\"#fdca26\"],[1.0,\"#f0f921\"]],\"type\":\"heatmapgl\"}],\"histogram\":[{\"marker\":{\"pattern\":{\"fillmode\":\"overlay\",\"size\":10,\"solidity\":0.2}},\"type\":\"histogram\"}],\"histogram2d\":[{\"colorbar\":{\"outlinewidth\":0,\"ticks\":\"\"},\"colorscale\":[[0.0,\"#0d0887\"],[0.1111111111111111,\"#46039f\"],[0.2222222222222222,\"#7201a8\"],[0.3333333333333333,\"#9c179e\"],[0.4444444444444444,\"#bd3786\"],[0.5555555555555556,\"#d8576b\"],[0.6666666666666666,\"#ed7953\"],[0.7777777777777778,\"#fb9f3a\"],[0.8888888888888888,\"#fdca26\"],[1.0,\"#f0f921\"]],\"type\":\"histogram2d\"}],\"histogram2dcontour\":[{\"colorbar\":{\"outlinewidth\":0,\"ticks\":\"\"},\"colorscale\":[[0.0,\"#0d0887\"],[0.1111111111111111,\"#46039f\"],[0.2222222222222222,\"#7201a8\"],[0.3333333333333333,\"#9c179e\"],[0.4444444444444444,\"#bd3786\"],[0.5555555555555556,\"#d8576b\"],[0.6666666666666666,\"#ed7953\"],[0.7777777777777778,\"#fb9f3a\"],[0.8888888888888888,\"#fdca26\"],[1.0,\"#f0f921\"]],\"type\":\"histogram2dcontour\"}],\"mesh3d\":[{\"colorbar\":{\"outlinewidth\":0,\"ticks\":\"\"},\"type\":\"mesh3d\"}],\"parcoords\":[{\"line\":{\"colorbar\":{\"outlinewidth\":0,\"ticks\":\"\"}},\"type\":\"parcoords\"}],\"pie\":[{\"automargin\":true,\"type\":\"pie\"}],\"scatter\":[{\"marker\":{\"colorbar\":{\"outlinewidth\":0,\"ticks\":\"\"}},\"type\":\"scatter\"}],\"scatter3d\":[{\"line\":{\"colorbar\":{\"outlinewidth\":0,\"ticks\":\"\"}},\"marker\":{\"colorbar\":{\"outlinewidth\":0,\"ticks\":\"\"}},\"type\":\"scatter3d\"}],\"scattercarpet\":[{\"marker\":{\"colorbar\":{\"outlinewidth\":0,\"ticks\":\"\"}},\"type\":\"scattercarpet\"}],\"scattergeo\":[{\"marker\":{\"colorbar\":{\"outlinewidth\":0,\"ticks\":\"\"}},\"type\":\"scattergeo\"}],\"scattergl\":[{\"marker\":{\"colorbar\":{\"outlinewidth\":0,\"ticks\":\"\"}},\"type\":\"scattergl\"}],\"scattermapbox\":[{\"marker\":{\"colorbar\":{\"outlinewidth\":0,\"ticks\":\"\"}},\"type\":\"scattermapbox\"}],\"scatterpolar\":[{\"marker\":{\"colorbar\":{\"outlinewidth\":0,\"ticks\":\"\"}},\"type\":\"scatterpolar\"}],\"scatterpolargl\":[{\"marker\":{\"colorbar\":{\"outlinewidth\":0,\"ticks\":\"\"}},\"type\":\"scatterpolargl\"}],\"scatterternary\":[{\"marker\":{\"colorbar\":{\"outlinewidth\":0,\"ticks\":\"\"}},\"type\":\"scatterternary\"}],\"surface\":[{\"colorbar\":{\"outlinewidth\":0,\"ticks\":\"\"},\"colorscale\":[[0.0,\"#0d0887\"],[0.1111111111111111,\"#46039f\"],[0.2222222222222222,\"#7201a8\"],[0.3333333333333333,\"#9c179e\"],[0.4444444444444444,\"#bd3786\"],[0.5555555555555556,\"#d8576b\"],[0.6666666666666666,\"#ed7953\"],[0.7777777777777778,\"#fb9f3a\"],[0.8888888888888888,\"#fdca26\"],[1.0,\"#f0f921\"]],\"type\":\"surface\"}],\"table\":[{\"cells\":{\"fill\":{\"color\":\"#EBF0F8\"},\"line\":{\"color\":\"white\"}},\"header\":{\"fill\":{\"color\":\"#C8D4E3\"},\"line\":{\"color\":\"white\"}},\"type\":\"table\"}]},\"layout\":{\"annotationdefaults\":{\"arrowcolor\":\"#2a3f5f\",\"arrowhead\":0,\"arrowwidth\":1},\"autotypenumbers\":\"strict\",\"coloraxis\":{\"colorbar\":{\"outlinewidth\":0,\"ticks\":\"\"}},\"colorscale\":{\"diverging\":[[0,\"#8e0152\"],[0.1,\"#c51b7d\"],[0.2,\"#de77ae\"],[0.3,\"#f1b6da\"],[0.4,\"#fde0ef\"],[0.5,\"#f7f7f7\"],[0.6,\"#e6f5d0\"],[0.7,\"#b8e186\"],[0.8,\"#7fbc41\"],[0.9,\"#4d9221\"],[1,\"#276419\"]],\"sequential\":[[0.0,\"#0d0887\"],[0.1111111111111111,\"#46039f\"],[0.2222222222222222,\"#7201a8\"],[0.3333333333333333,\"#9c179e\"],[0.4444444444444444,\"#bd3786\"],[0.5555555555555556,\"#d8576b\"],[0.6666666666666666,\"#ed7953\"],[0.7777777777777778,\"#fb9f3a\"],[0.8888888888888888,\"#fdca26\"],[1.0,\"#f0f921\"]],\"sequentialminus\":[[0.0,\"#0d0887\"],[0.1111111111111111,\"#46039f\"],[0.2222222222222222,\"#7201a8\"],[0.3333333333333333,\"#9c179e\"],[0.4444444444444444,\"#bd3786\"],[0.5555555555555556,\"#d8576b\"],[0.6666666666666666,\"#ed7953\"],[0.7777777777777778,\"#fb9f3a\"],[0.8888888888888888,\"#fdca26\"],[1.0,\"#f0f921\"]]},\"colorway\":[\"#636efa\",\"#EF553B\",\"#00cc96\",\"#ab63fa\",\"#FFA15A\",\"#19d3f3\",\"#FF6692\",\"#B6E880\",\"#FF97FF\",\"#FECB52\"],\"font\":{\"color\":\"#2a3f5f\"},\"geo\":{\"bgcolor\":\"white\",\"lakecolor\":\"white\",\"landcolor\":\"#E5ECF6\",\"showlakes\":true,\"showland\":true,\"subunitcolor\":\"white\"},\"hoverlabel\":{\"align\":\"left\"},\"hovermode\":\"closest\",\"mapbox\":{\"style\":\"light\"},\"paper_bgcolor\":\"white\",\"plot_bgcolor\":\"#E5ECF6\",\"polar\":{\"angularaxis\":{\"gridcolor\":\"white\",\"linecolor\":\"white\",\"ticks\":\"\"},\"bgcolor\":\"#E5ECF6\",\"radialaxis\":{\"gridcolor\":\"white\",\"linecolor\":\"white\",\"ticks\":\"\"}},\"scene\":{\"xaxis\":{\"backgroundcolor\":\"#E5ECF6\",\"gridcolor\":\"white\",\"gridwidth\":2,\"linecolor\":\"white\",\"showbackground\":true,\"ticks\":\"\",\"zerolinecolor\":\"white\"},\"yaxis\":{\"backgroundcolor\":\"#E5ECF6\",\"gridcolor\":\"white\",\"gridwidth\":2,\"linecolor\":\"white\",\"showbackground\":true,\"ticks\":\"\",\"zerolinecolor\":\"white\"},\"zaxis\":{\"backgroundcolor\":\"#E5ECF6\",\"gridcolor\":\"white\",\"gridwidth\":2,\"linecolor\":\"white\",\"showbackground\":true,\"ticks\":\"\",\"zerolinecolor\":\"white\"}},\"shapedefaults\":{\"line\":{\"color\":\"#2a3f5f\"}},\"ternary\":{\"aaxis\":{\"gridcolor\":\"white\",\"linecolor\":\"white\",\"ticks\":\"\"},\"baxis\":{\"gridcolor\":\"white\",\"linecolor\":\"white\",\"ticks\":\"\"},\"bgcolor\":\"#E5ECF6\",\"caxis\":{\"gridcolor\":\"white\",\"linecolor\":\"white\",\"ticks\":\"\"}},\"title\":{\"x\":0.05},\"xaxis\":{\"automargin\":true,\"gridcolor\":\"white\",\"linecolor\":\"white\",\"ticks\":\"\",\"title\":{\"standoff\":15},\"zerolinecolor\":\"white\",\"zerolinewidth\":2},\"yaxis\":{\"automargin\":true,\"gridcolor\":\"white\",\"linecolor\":\"white\",\"ticks\":\"\",\"title\":{\"standoff\":15},\"zerolinecolor\":\"white\",\"zerolinewidth\":2}}},\"xaxis\":{\"anchor\":\"y\",\"domain\":[0.0,1.0],\"title\":{\"text\":\"confidence_score\"},\"nticks\":30},\"yaxis\":{\"anchor\":\"x\",\"domain\":[0.0,1.0],\"title\":{\"text\":\"percent\"}},\"legend\":{\"tracegroupgap\":0},\"margin\":{\"t\":60},\"barmode\":\"relative\",\"title\":{\"text\":\"Histogram for confidence: asia %age\"},\"bargap\":0.001},                        {\"responsive\": true}                    ).then(function(){\n",
       "                            \n",
       "var gd = document.getElementById('e678982f-3d7d-48a1-b717-810fcd908c01');\n",
       "var x = new MutationObserver(function (mutations, observer) {{\n",
       "        var display = window.getComputedStyle(gd).display;\n",
       "        if (!display || display === 'none') {{\n",
       "            console.log([gd, 'removed!']);\n",
       "            Plotly.purge(gd);\n",
       "            observer.disconnect();\n",
       "        }}\n",
       "}});\n",
       "\n",
       "// Listen for the removal of the full notebook cells\n",
       "var notebookContainer = gd.closest('#notebook-container');\n",
       "if (notebookContainer) {{\n",
       "    x.observe(notebookContainer, {childList: true});\n",
       "}}\n",
       "\n",
       "// Listen for the clearing of the current output cell\n",
       "var outputEl = gd.closest('.output');\n",
       "if (outputEl) {{\n",
       "    x.observe(outputEl, {childList: true});\n",
       "}}\n",
       "\n",
       "                        })                };                });            </script>        </div>"
      ]
     },
     "metadata": {},
     "output_type": "display_data"
    }
   ],
   "source": [
    "# mod_0=df[\"Model_0\"]\n",
    "# mod_1=df[\"Model_1\"]\n",
    "# mod_2=df[\"Model_2\"]\n",
    "# com_list=[]\n",
    "\n",
    "# for i in range(len(mod_0)):\n",
    "#     com_mod=[mod_0[i],mod_1[i],mod_2[i]]\n",
    "#     com_mod.sort()\n",
    "#     com_list.append(com_mod[1]-com_mod[0])\n",
    "\n",
    "# df[\"diff\"]=com_list\n",
    "# # df[\"diff\"].hist()\n",
    "\n",
    "c_scores = []\n",
    "for ind, row in df.iterrows():\n",
    "    model_conf = []\n",
    "    for i in range(len(df['Label'].unique())):\n",
    "        model_conf.append(row[f\"Model_{i}\"])\n",
    "    model_conf = sorted(model_conf)\n",
    "    confidence_score = model_conf[1] - model_conf[0]\n",
    "    c_scores.append(confidence_score)\n",
    "df['confidence_score'] = c_scores\n",
    "    \n",
    "fig = px.histogram(df, x=\"confidence_score\",nbins=50, histnorm=\"percent\")\n",
    "fig.update_layout(\n",
    "    title_text=f'Histogram for confidence: {dataset_name} %age', # title of plot,\n",
    "    bargap = 0.001\n",
    ")\n",
    "fig.update_xaxes(nticks=30)\n",
    "\n",
    "fig.show()"
   ]
  },
  {
   "cell_type": "code",
   "execution_count": 147,
   "id": "e3314543",
   "metadata": {},
   "outputs": [
    {
     "data": {
      "application/vnd.plotly.v1+json": {
       "config": {
        "plotlyServerURL": "https://plot.ly"
       },
       "data": [
        {
         "alignmentgroup": "True",
         "bingroup": "x",
         "histnorm": "percent",
         "hovertemplate": "Model_name=asia_ccdr<br>betweeness_centrality_target=%{x}<br>percent=%{y}<extra></extra>",
         "legendgroup": "asia_ccdr",
         "marker": {
          "color": "#636efa",
          "pattern": {
           "shape": ""
          }
         },
         "name": "asia_ccdr",
         "offsetgroup": "asia_ccdr",
         "orientation": "v",
         "showlegend": true,
         "type": "histogram",
         "x": [
          0,
          0,
          0,
          0,
          0,
          0,
          0,
          0,
          0,
          0,
          0.047619047619047616,
          0,
          0,
          0,
          0,
          0,
          0.047619047619047616,
          0,
          0,
          0.047619047619047616,
          0,
          0,
          0,
          0,
          0,
          0,
          0.047619047619047616,
          0,
          0,
          0,
          0.047619047619047616,
          0,
          0,
          0,
          0,
          0,
          0,
          0.047619047619047616,
          0,
          0,
          0,
          0.047619047619047616,
          0,
          0,
          0.047619047619047616,
          0,
          0,
          0,
          0,
          0,
          0,
          0,
          0,
          0,
          0.047619047619047616,
          0,
          0,
          0,
          0,
          0,
          0,
          0,
          0,
          0,
          0,
          0,
          0.047619047619047616,
          0,
          0,
          0.047619047619047616,
          0,
          0,
          0,
          0,
          0,
          0.047619047619047616,
          0,
          0,
          0,
          0,
          0,
          0,
          0,
          0,
          0,
          0,
          0,
          0,
          0,
          0,
          0,
          0,
          0,
          0,
          0,
          0,
          0,
          0,
          0.047619047619047616,
          0,
          0,
          0.047619047619047616,
          0,
          0,
          0,
          0,
          0,
          0,
          0,
          0,
          0,
          0,
          0,
          0,
          0,
          0,
          0,
          0.047619047619047616,
          0.047619047619047616,
          0,
          0,
          0,
          0,
          0,
          0,
          0,
          0,
          0.047619047619047616,
          0,
          0
         ],
         "xaxis": "x",
         "yaxis": "y"
        },
        {
         "alignmentgroup": "True",
         "bingroup": "x",
         "histnorm": "percent",
         "hovertemplate": "Model_name=asia_nobears<br>betweeness_centrality_target=%{x}<br>percent=%{y}<extra></extra>",
         "legendgroup": "asia_nobears",
         "marker": {
          "color": "#EF553B",
          "pattern": {
           "shape": ""
          }
         },
         "name": "asia_nobears",
         "offsetgroup": "asia_nobears",
         "orientation": "v",
         "showlegend": true,
         "type": "histogram",
         "x": [
          0,
          0,
          0,
          0,
          0,
          0,
          0,
          0,
          0.047619047619047616,
          0,
          0,
          0,
          0,
          0,
          0.047619047619047616,
          0,
          0,
          0,
          0,
          0,
          0,
          0,
          0,
          0,
          0,
          0,
          0,
          0.047619047619047616,
          0,
          0,
          0.047619047619047616,
          0,
          0,
          0,
          0,
          0,
          0,
          0,
          0,
          0,
          0,
          0,
          0,
          0,
          0.047619047619047616,
          0,
          0,
          0.047619047619047616,
          0,
          0,
          0,
          0,
          0,
          0,
          0,
          0,
          0,
          0,
          0,
          0,
          0,
          0,
          0,
          0,
          0,
          0,
          0,
          0,
          0,
          0,
          0,
          0,
          0.047619047619047616,
          0,
          0,
          0,
          0,
          0.047619047619047616,
          0,
          0,
          0,
          0,
          0,
          0,
          0,
          0,
          0,
          0,
          0,
          0,
          0,
          0,
          0.047619047619047616,
          0,
          0,
          0,
          0,
          0,
          0,
          0,
          0,
          0,
          0,
          0,
          0,
          0,
          0,
          0,
          0,
          0,
          0,
          0,
          0,
          0,
          0,
          0,
          0,
          0,
          0,
          0,
          0,
          0,
          0,
          0,
          0,
          0,
          0,
          0,
          0,
          0,
          0,
          0,
          0,
          0,
          0,
          0,
          0,
          0,
          0,
          0,
          0,
          0,
          0,
          0,
          0.047619047619047616,
          0,
          0,
          0,
          0,
          0,
          0,
          0,
          0,
          0,
          0,
          0,
          0,
          0,
          0,
          0,
          0,
          0.047619047619047616,
          0,
          0.047619047619047616,
          0,
          0,
          0.047619047619047616,
          0,
          0,
          0,
          0,
          0,
          0.047619047619047616,
          0,
          0,
          0,
          0.047619047619047616,
          0,
          0,
          0,
          0,
          0
         ],
         "xaxis": "x",
         "yaxis": "y"
        },
        {
         "alignmentgroup": "True",
         "bingroup": "x",
         "histnorm": "percent",
         "hovertemplate": "Model_name=asia_lingam<br>betweeness_centrality_target=%{x}<br>percent=%{y}<extra></extra>",
         "legendgroup": "asia_lingam",
         "marker": {
          "color": "#00cc96",
          "pattern": {
           "shape": ""
          }
         },
         "name": "asia_lingam",
         "offsetgroup": "asia_lingam",
         "orientation": "v",
         "showlegend": true,
         "type": "histogram",
         "x": [
          0,
          0,
          0,
          0,
          0,
          0,
          0,
          0
         ],
         "xaxis": "x",
         "yaxis": "y"
        },
        {
         "alignmentgroup": "True",
         "bingroup": "x",
         "histnorm": "percent",
         "hovertemplate": "Model_name=asia_notears<br>betweeness_centrality_target=%{x}<br>percent=%{y}<extra></extra>",
         "legendgroup": "asia_notears",
         "marker": {
          "color": "#ab63fa",
          "pattern": {
           "shape": ""
          }
         },
         "name": "asia_notears",
         "offsetgroup": "asia_notears",
         "orientation": "v",
         "showlegend": true,
         "type": "histogram",
         "x": [
          0,
          0.047619047619047616,
          0.047619047619047616,
          0,
          0,
          0,
          0.047619047619047616,
          0,
          0.047619047619047616,
          0,
          0,
          0,
          0.047619047619047616,
          0.047619047619047616,
          0,
          0,
          0,
          0.047619047619047616,
          0.047619047619047616,
          0,
          0.047619047619047616,
          0,
          0,
          0.047619047619047616,
          0.047619047619047616,
          0,
          0,
          0,
          0.047619047619047616,
          0,
          0
         ],
         "xaxis": "x",
         "yaxis": "y"
        }
       ],
       "layout": {
        "barmode": "group",
        "legend": {
         "title": {
          "text": "Model_name"
         },
         "tracegroupgap": 0
        },
        "margin": {
         "t": 60
        },
        "template": {
         "data": {
          "bar": [
           {
            "error_x": {
             "color": "#2a3f5f"
            },
            "error_y": {
             "color": "#2a3f5f"
            },
            "marker": {
             "line": {
              "color": "#E5ECF6",
              "width": 0.5
             },
             "pattern": {
              "fillmode": "overlay",
              "size": 10,
              "solidity": 0.2
             }
            },
            "type": "bar"
           }
          ],
          "barpolar": [
           {
            "marker": {
             "line": {
              "color": "#E5ECF6",
              "width": 0.5
             },
             "pattern": {
              "fillmode": "overlay",
              "size": 10,
              "solidity": 0.2
             }
            },
            "type": "barpolar"
           }
          ],
          "carpet": [
           {
            "aaxis": {
             "endlinecolor": "#2a3f5f",
             "gridcolor": "white",
             "linecolor": "white",
             "minorgridcolor": "white",
             "startlinecolor": "#2a3f5f"
            },
            "baxis": {
             "endlinecolor": "#2a3f5f",
             "gridcolor": "white",
             "linecolor": "white",
             "minorgridcolor": "white",
             "startlinecolor": "#2a3f5f"
            },
            "type": "carpet"
           }
          ],
          "choropleth": [
           {
            "colorbar": {
             "outlinewidth": 0,
             "ticks": ""
            },
            "type": "choropleth"
           }
          ],
          "contour": [
           {
            "colorbar": {
             "outlinewidth": 0,
             "ticks": ""
            },
            "colorscale": [
             [
              0,
              "#0d0887"
             ],
             [
              0.1111111111111111,
              "#46039f"
             ],
             [
              0.2222222222222222,
              "#7201a8"
             ],
             [
              0.3333333333333333,
              "#9c179e"
             ],
             [
              0.4444444444444444,
              "#bd3786"
             ],
             [
              0.5555555555555556,
              "#d8576b"
             ],
             [
              0.6666666666666666,
              "#ed7953"
             ],
             [
              0.7777777777777778,
              "#fb9f3a"
             ],
             [
              0.8888888888888888,
              "#fdca26"
             ],
             [
              1,
              "#f0f921"
             ]
            ],
            "type": "contour"
           }
          ],
          "contourcarpet": [
           {
            "colorbar": {
             "outlinewidth": 0,
             "ticks": ""
            },
            "type": "contourcarpet"
           }
          ],
          "heatmap": [
           {
            "colorbar": {
             "outlinewidth": 0,
             "ticks": ""
            },
            "colorscale": [
             [
              0,
              "#0d0887"
             ],
             [
              0.1111111111111111,
              "#46039f"
             ],
             [
              0.2222222222222222,
              "#7201a8"
             ],
             [
              0.3333333333333333,
              "#9c179e"
             ],
             [
              0.4444444444444444,
              "#bd3786"
             ],
             [
              0.5555555555555556,
              "#d8576b"
             ],
             [
              0.6666666666666666,
              "#ed7953"
             ],
             [
              0.7777777777777778,
              "#fb9f3a"
             ],
             [
              0.8888888888888888,
              "#fdca26"
             ],
             [
              1,
              "#f0f921"
             ]
            ],
            "type": "heatmap"
           }
          ],
          "heatmapgl": [
           {
            "colorbar": {
             "outlinewidth": 0,
             "ticks": ""
            },
            "colorscale": [
             [
              0,
              "#0d0887"
             ],
             [
              0.1111111111111111,
              "#46039f"
             ],
             [
              0.2222222222222222,
              "#7201a8"
             ],
             [
              0.3333333333333333,
              "#9c179e"
             ],
             [
              0.4444444444444444,
              "#bd3786"
             ],
             [
              0.5555555555555556,
              "#d8576b"
             ],
             [
              0.6666666666666666,
              "#ed7953"
             ],
             [
              0.7777777777777778,
              "#fb9f3a"
             ],
             [
              0.8888888888888888,
              "#fdca26"
             ],
             [
              1,
              "#f0f921"
             ]
            ],
            "type": "heatmapgl"
           }
          ],
          "histogram": [
           {
            "marker": {
             "pattern": {
              "fillmode": "overlay",
              "size": 10,
              "solidity": 0.2
             }
            },
            "type": "histogram"
           }
          ],
          "histogram2d": [
           {
            "colorbar": {
             "outlinewidth": 0,
             "ticks": ""
            },
            "colorscale": [
             [
              0,
              "#0d0887"
             ],
             [
              0.1111111111111111,
              "#46039f"
             ],
             [
              0.2222222222222222,
              "#7201a8"
             ],
             [
              0.3333333333333333,
              "#9c179e"
             ],
             [
              0.4444444444444444,
              "#bd3786"
             ],
             [
              0.5555555555555556,
              "#d8576b"
             ],
             [
              0.6666666666666666,
              "#ed7953"
             ],
             [
              0.7777777777777778,
              "#fb9f3a"
             ],
             [
              0.8888888888888888,
              "#fdca26"
             ],
             [
              1,
              "#f0f921"
             ]
            ],
            "type": "histogram2d"
           }
          ],
          "histogram2dcontour": [
           {
            "colorbar": {
             "outlinewidth": 0,
             "ticks": ""
            },
            "colorscale": [
             [
              0,
              "#0d0887"
             ],
             [
              0.1111111111111111,
              "#46039f"
             ],
             [
              0.2222222222222222,
              "#7201a8"
             ],
             [
              0.3333333333333333,
              "#9c179e"
             ],
             [
              0.4444444444444444,
              "#bd3786"
             ],
             [
              0.5555555555555556,
              "#d8576b"
             ],
             [
              0.6666666666666666,
              "#ed7953"
             ],
             [
              0.7777777777777778,
              "#fb9f3a"
             ],
             [
              0.8888888888888888,
              "#fdca26"
             ],
             [
              1,
              "#f0f921"
             ]
            ],
            "type": "histogram2dcontour"
           }
          ],
          "mesh3d": [
           {
            "colorbar": {
             "outlinewidth": 0,
             "ticks": ""
            },
            "type": "mesh3d"
           }
          ],
          "parcoords": [
           {
            "line": {
             "colorbar": {
              "outlinewidth": 0,
              "ticks": ""
             }
            },
            "type": "parcoords"
           }
          ],
          "pie": [
           {
            "automargin": true,
            "type": "pie"
           }
          ],
          "scatter": [
           {
            "marker": {
             "colorbar": {
              "outlinewidth": 0,
              "ticks": ""
             }
            },
            "type": "scatter"
           }
          ],
          "scatter3d": [
           {
            "line": {
             "colorbar": {
              "outlinewidth": 0,
              "ticks": ""
             }
            },
            "marker": {
             "colorbar": {
              "outlinewidth": 0,
              "ticks": ""
             }
            },
            "type": "scatter3d"
           }
          ],
          "scattercarpet": [
           {
            "marker": {
             "colorbar": {
              "outlinewidth": 0,
              "ticks": ""
             }
            },
            "type": "scattercarpet"
           }
          ],
          "scattergeo": [
           {
            "marker": {
             "colorbar": {
              "outlinewidth": 0,
              "ticks": ""
             }
            },
            "type": "scattergeo"
           }
          ],
          "scattergl": [
           {
            "marker": {
             "colorbar": {
              "outlinewidth": 0,
              "ticks": ""
             }
            },
            "type": "scattergl"
           }
          ],
          "scattermapbox": [
           {
            "marker": {
             "colorbar": {
              "outlinewidth": 0,
              "ticks": ""
             }
            },
            "type": "scattermapbox"
           }
          ],
          "scatterpolar": [
           {
            "marker": {
             "colorbar": {
              "outlinewidth": 0,
              "ticks": ""
             }
            },
            "type": "scatterpolar"
           }
          ],
          "scatterpolargl": [
           {
            "marker": {
             "colorbar": {
              "outlinewidth": 0,
              "ticks": ""
             }
            },
            "type": "scatterpolargl"
           }
          ],
          "scatterternary": [
           {
            "marker": {
             "colorbar": {
              "outlinewidth": 0,
              "ticks": ""
             }
            },
            "type": "scatterternary"
           }
          ],
          "surface": [
           {
            "colorbar": {
             "outlinewidth": 0,
             "ticks": ""
            },
            "colorscale": [
             [
              0,
              "#0d0887"
             ],
             [
              0.1111111111111111,
              "#46039f"
             ],
             [
              0.2222222222222222,
              "#7201a8"
             ],
             [
              0.3333333333333333,
              "#9c179e"
             ],
             [
              0.4444444444444444,
              "#bd3786"
             ],
             [
              0.5555555555555556,
              "#d8576b"
             ],
             [
              0.6666666666666666,
              "#ed7953"
             ],
             [
              0.7777777777777778,
              "#fb9f3a"
             ],
             [
              0.8888888888888888,
              "#fdca26"
             ],
             [
              1,
              "#f0f921"
             ]
            ],
            "type": "surface"
           }
          ],
          "table": [
           {
            "cells": {
             "fill": {
              "color": "#EBF0F8"
             },
             "line": {
              "color": "white"
             }
            },
            "header": {
             "fill": {
              "color": "#C8D4E3"
             },
             "line": {
              "color": "white"
             }
            },
            "type": "table"
           }
          ]
         },
         "layout": {
          "annotationdefaults": {
           "arrowcolor": "#2a3f5f",
           "arrowhead": 0,
           "arrowwidth": 1
          },
          "autotypenumbers": "strict",
          "coloraxis": {
           "colorbar": {
            "outlinewidth": 0,
            "ticks": ""
           }
          },
          "colorscale": {
           "diverging": [
            [
             0,
             "#8e0152"
            ],
            [
             0.1,
             "#c51b7d"
            ],
            [
             0.2,
             "#de77ae"
            ],
            [
             0.3,
             "#f1b6da"
            ],
            [
             0.4,
             "#fde0ef"
            ],
            [
             0.5,
             "#f7f7f7"
            ],
            [
             0.6,
             "#e6f5d0"
            ],
            [
             0.7,
             "#b8e186"
            ],
            [
             0.8,
             "#7fbc41"
            ],
            [
             0.9,
             "#4d9221"
            ],
            [
             1,
             "#276419"
            ]
           ],
           "sequential": [
            [
             0,
             "#0d0887"
            ],
            [
             0.1111111111111111,
             "#46039f"
            ],
            [
             0.2222222222222222,
             "#7201a8"
            ],
            [
             0.3333333333333333,
             "#9c179e"
            ],
            [
             0.4444444444444444,
             "#bd3786"
            ],
            [
             0.5555555555555556,
             "#d8576b"
            ],
            [
             0.6666666666666666,
             "#ed7953"
            ],
            [
             0.7777777777777778,
             "#fb9f3a"
            ],
            [
             0.8888888888888888,
             "#fdca26"
            ],
            [
             1,
             "#f0f921"
            ]
           ],
           "sequentialminus": [
            [
             0,
             "#0d0887"
            ],
            [
             0.1111111111111111,
             "#46039f"
            ],
            [
             0.2222222222222222,
             "#7201a8"
            ],
            [
             0.3333333333333333,
             "#9c179e"
            ],
            [
             0.4444444444444444,
             "#bd3786"
            ],
            [
             0.5555555555555556,
             "#d8576b"
            ],
            [
             0.6666666666666666,
             "#ed7953"
            ],
            [
             0.7777777777777778,
             "#fb9f3a"
            ],
            [
             0.8888888888888888,
             "#fdca26"
            ],
            [
             1,
             "#f0f921"
            ]
           ]
          },
          "colorway": [
           "#636efa",
           "#EF553B",
           "#00cc96",
           "#ab63fa",
           "#FFA15A",
           "#19d3f3",
           "#FF6692",
           "#B6E880",
           "#FF97FF",
           "#FECB52"
          ],
          "font": {
           "color": "#2a3f5f"
          },
          "geo": {
           "bgcolor": "white",
           "lakecolor": "white",
           "landcolor": "#E5ECF6",
           "showlakes": true,
           "showland": true,
           "subunitcolor": "white"
          },
          "hoverlabel": {
           "align": "left"
          },
          "hovermode": "closest",
          "mapbox": {
           "style": "light"
          },
          "paper_bgcolor": "white",
          "plot_bgcolor": "#E5ECF6",
          "polar": {
           "angularaxis": {
            "gridcolor": "white",
            "linecolor": "white",
            "ticks": ""
           },
           "bgcolor": "#E5ECF6",
           "radialaxis": {
            "gridcolor": "white",
            "linecolor": "white",
            "ticks": ""
           }
          },
          "scene": {
           "xaxis": {
            "backgroundcolor": "#E5ECF6",
            "gridcolor": "white",
            "gridwidth": 2,
            "linecolor": "white",
            "showbackground": true,
            "ticks": "",
            "zerolinecolor": "white"
           },
           "yaxis": {
            "backgroundcolor": "#E5ECF6",
            "gridcolor": "white",
            "gridwidth": 2,
            "linecolor": "white",
            "showbackground": true,
            "ticks": "",
            "zerolinecolor": "white"
           },
           "zaxis": {
            "backgroundcolor": "#E5ECF6",
            "gridcolor": "white",
            "gridwidth": 2,
            "linecolor": "white",
            "showbackground": true,
            "ticks": "",
            "zerolinecolor": "white"
           }
          },
          "shapedefaults": {
           "line": {
            "color": "#2a3f5f"
           }
          },
          "ternary": {
           "aaxis": {
            "gridcolor": "white",
            "linecolor": "white",
            "ticks": ""
           },
           "baxis": {
            "gridcolor": "white",
            "linecolor": "white",
            "ticks": ""
           },
           "bgcolor": "#E5ECF6",
           "caxis": {
            "gridcolor": "white",
            "linecolor": "white",
            "ticks": ""
           }
          },
          "title": {
           "x": 0.05
          },
          "xaxis": {
           "automargin": true,
           "gridcolor": "white",
           "linecolor": "white",
           "ticks": "",
           "title": {
            "standoff": 15
           },
           "zerolinecolor": "white",
           "zerolinewidth": 2
          },
          "yaxis": {
           "automargin": true,
           "gridcolor": "white",
           "linecolor": "white",
           "ticks": "",
           "title": {
            "standoff": 15
           },
           "zerolinecolor": "white",
           "zerolinewidth": 2
          }
         }
        },
        "title": {
         "text": "Histogram for Target Variable Betweeness Centrality: asia, %age"
        },
        "xaxis": {
         "anchor": "y",
         "domain": [
          0,
          1
         ],
         "title": {
          "text": "betweeness_centrality_target"
         }
        },
        "yaxis": {
         "anchor": "x",
         "domain": [
          0,
          1
         ],
         "title": {
          "text": "percent"
         }
        }
       }
      },
      "text/html": [
       "<div>                            <div id=\"d5cd8e49-0359-4592-8170-3654762f3045\" class=\"plotly-graph-div\" style=\"height:525px; width:100%;\"></div>            <script type=\"text/javascript\">                require([\"plotly\"], function(Plotly) {                    window.PLOTLYENV=window.PLOTLYENV || {};                                    if (document.getElementById(\"d5cd8e49-0359-4592-8170-3654762f3045\")) {                    Plotly.newPlot(                        \"d5cd8e49-0359-4592-8170-3654762f3045\",                        [{\"alignmentgroup\":\"True\",\"bingroup\":\"x\",\"histnorm\":\"percent\",\"hovertemplate\":\"Model_name=asia_ccdr<br>betweeness_centrality_target=%{x}<br>percent=%{y}<extra></extra>\",\"legendgroup\":\"asia_ccdr\",\"marker\":{\"color\":\"#636efa\",\"pattern\":{\"shape\":\"\"}},\"name\":\"asia_ccdr\",\"offsetgroup\":\"asia_ccdr\",\"orientation\":\"v\",\"showlegend\":true,\"x\":[0.0,0.0,0.0,0.0,0.0,0.0,0.0,0.0,0.0,0.0,0.047619047619047616,0.0,0.0,0.0,0.0,0.0,0.047619047619047616,0.0,0.0,0.047619047619047616,0.0,0.0,0.0,0.0,0.0,0.0,0.047619047619047616,0.0,0.0,0.0,0.047619047619047616,0.0,0.0,0.0,0.0,0.0,0.0,0.047619047619047616,0.0,0.0,0.0,0.047619047619047616,0.0,0.0,0.047619047619047616,0.0,0.0,0.0,0.0,0.0,0.0,0.0,0.0,0.0,0.047619047619047616,0.0,0.0,0.0,0.0,0.0,0.0,0.0,0.0,0.0,0.0,0.0,0.047619047619047616,0.0,0.0,0.047619047619047616,0.0,0.0,0.0,0.0,0.0,0.047619047619047616,0.0,0.0,0.0,0.0,0.0,0.0,0.0,0.0,0.0,0.0,0.0,0.0,0.0,0.0,0.0,0.0,0.0,0.0,0.0,0.0,0.0,0.0,0.047619047619047616,0.0,0.0,0.047619047619047616,0.0,0.0,0.0,0.0,0.0,0.0,0.0,0.0,0.0,0.0,0.0,0.0,0.0,0.0,0.0,0.047619047619047616,0.047619047619047616,0.0,0.0,0.0,0.0,0.0,0.0,0.0,0.0,0.047619047619047616,0.0,0.0],\"xaxis\":\"x\",\"yaxis\":\"y\",\"type\":\"histogram\"},{\"alignmentgroup\":\"True\",\"bingroup\":\"x\",\"histnorm\":\"percent\",\"hovertemplate\":\"Model_name=asia_nobears<br>betweeness_centrality_target=%{x}<br>percent=%{y}<extra></extra>\",\"legendgroup\":\"asia_nobears\",\"marker\":{\"color\":\"#EF553B\",\"pattern\":{\"shape\":\"\"}},\"name\":\"asia_nobears\",\"offsetgroup\":\"asia_nobears\",\"orientation\":\"v\",\"showlegend\":true,\"x\":[0.0,0.0,0.0,0.0,0.0,0.0,0.0,0.0,0.047619047619047616,0.0,0.0,0.0,0.0,0.0,0.047619047619047616,0.0,0.0,0.0,0.0,0.0,0.0,0.0,0.0,0.0,0.0,0.0,0.0,0.047619047619047616,0.0,0.0,0.047619047619047616,0.0,0.0,0.0,0.0,0.0,0.0,0.0,0.0,0.0,0.0,0.0,0.0,0.0,0.047619047619047616,0.0,0.0,0.047619047619047616,0.0,0.0,0.0,0.0,0.0,0.0,0.0,0.0,0.0,0.0,0.0,0.0,0.0,0.0,0.0,0.0,0.0,0.0,0.0,0.0,0.0,0.0,0.0,0.0,0.047619047619047616,0.0,0.0,0.0,0.0,0.047619047619047616,0.0,0.0,0.0,0.0,0.0,0.0,0.0,0.0,0.0,0.0,0.0,0.0,0.0,0.0,0.047619047619047616,0.0,0.0,0.0,0.0,0.0,0.0,0.0,0.0,0.0,0.0,0.0,0.0,0.0,0.0,0.0,0.0,0.0,0.0,0.0,0.0,0.0,0.0,0.0,0.0,0.0,0.0,0.0,0.0,0.0,0.0,0.0,0.0,0.0,0.0,0.0,0.0,0.0,0.0,0.0,0.0,0.0,0.0,0.0,0.0,0.0,0.0,0.0,0.0,0.0,0.0,0.0,0.047619047619047616,0.0,0.0,0.0,0.0,0.0,0.0,0.0,0.0,0.0,0.0,0.0,0.0,0.0,0.0,0.0,0.0,0.047619047619047616,0.0,0.047619047619047616,0.0,0.0,0.047619047619047616,0.0,0.0,0.0,0.0,0.0,0.047619047619047616,0.0,0.0,0.0,0.047619047619047616,0.0,0.0,0.0,0.0,0.0],\"xaxis\":\"x\",\"yaxis\":\"y\",\"type\":\"histogram\"},{\"alignmentgroup\":\"True\",\"bingroup\":\"x\",\"histnorm\":\"percent\",\"hovertemplate\":\"Model_name=asia_lingam<br>betweeness_centrality_target=%{x}<br>percent=%{y}<extra></extra>\",\"legendgroup\":\"asia_lingam\",\"marker\":{\"color\":\"#00cc96\",\"pattern\":{\"shape\":\"\"}},\"name\":\"asia_lingam\",\"offsetgroup\":\"asia_lingam\",\"orientation\":\"v\",\"showlegend\":true,\"x\":[0.0,0.0,0.0,0.0,0.0,0.0,0.0,0.0],\"xaxis\":\"x\",\"yaxis\":\"y\",\"type\":\"histogram\"},{\"alignmentgroup\":\"True\",\"bingroup\":\"x\",\"histnorm\":\"percent\",\"hovertemplate\":\"Model_name=asia_notears<br>betweeness_centrality_target=%{x}<br>percent=%{y}<extra></extra>\",\"legendgroup\":\"asia_notears\",\"marker\":{\"color\":\"#ab63fa\",\"pattern\":{\"shape\":\"\"}},\"name\":\"asia_notears\",\"offsetgroup\":\"asia_notears\",\"orientation\":\"v\",\"showlegend\":true,\"x\":[0.0,0.047619047619047616,0.047619047619047616,0.0,0.0,0.0,0.047619047619047616,0.0,0.047619047619047616,0.0,0.0,0.0,0.047619047619047616,0.047619047619047616,0.0,0.0,0.0,0.047619047619047616,0.047619047619047616,0.0,0.047619047619047616,0.0,0.0,0.047619047619047616,0.047619047619047616,0.0,0.0,0.0,0.047619047619047616,0.0,0.0],\"xaxis\":\"x\",\"yaxis\":\"y\",\"type\":\"histogram\"}],                        {\"template\":{\"data\":{\"bar\":[{\"error_x\":{\"color\":\"#2a3f5f\"},\"error_y\":{\"color\":\"#2a3f5f\"},\"marker\":{\"line\":{\"color\":\"#E5ECF6\",\"width\":0.5},\"pattern\":{\"fillmode\":\"overlay\",\"size\":10,\"solidity\":0.2}},\"type\":\"bar\"}],\"barpolar\":[{\"marker\":{\"line\":{\"color\":\"#E5ECF6\",\"width\":0.5},\"pattern\":{\"fillmode\":\"overlay\",\"size\":10,\"solidity\":0.2}},\"type\":\"barpolar\"}],\"carpet\":[{\"aaxis\":{\"endlinecolor\":\"#2a3f5f\",\"gridcolor\":\"white\",\"linecolor\":\"white\",\"minorgridcolor\":\"white\",\"startlinecolor\":\"#2a3f5f\"},\"baxis\":{\"endlinecolor\":\"#2a3f5f\",\"gridcolor\":\"white\",\"linecolor\":\"white\",\"minorgridcolor\":\"white\",\"startlinecolor\":\"#2a3f5f\"},\"type\":\"carpet\"}],\"choropleth\":[{\"colorbar\":{\"outlinewidth\":0,\"ticks\":\"\"},\"type\":\"choropleth\"}],\"contour\":[{\"colorbar\":{\"outlinewidth\":0,\"ticks\":\"\"},\"colorscale\":[[0.0,\"#0d0887\"],[0.1111111111111111,\"#46039f\"],[0.2222222222222222,\"#7201a8\"],[0.3333333333333333,\"#9c179e\"],[0.4444444444444444,\"#bd3786\"],[0.5555555555555556,\"#d8576b\"],[0.6666666666666666,\"#ed7953\"],[0.7777777777777778,\"#fb9f3a\"],[0.8888888888888888,\"#fdca26\"],[1.0,\"#f0f921\"]],\"type\":\"contour\"}],\"contourcarpet\":[{\"colorbar\":{\"outlinewidth\":0,\"ticks\":\"\"},\"type\":\"contourcarpet\"}],\"heatmap\":[{\"colorbar\":{\"outlinewidth\":0,\"ticks\":\"\"},\"colorscale\":[[0.0,\"#0d0887\"],[0.1111111111111111,\"#46039f\"],[0.2222222222222222,\"#7201a8\"],[0.3333333333333333,\"#9c179e\"],[0.4444444444444444,\"#bd3786\"],[0.5555555555555556,\"#d8576b\"],[0.6666666666666666,\"#ed7953\"],[0.7777777777777778,\"#fb9f3a\"],[0.8888888888888888,\"#fdca26\"],[1.0,\"#f0f921\"]],\"type\":\"heatmap\"}],\"heatmapgl\":[{\"colorbar\":{\"outlinewidth\":0,\"ticks\":\"\"},\"colorscale\":[[0.0,\"#0d0887\"],[0.1111111111111111,\"#46039f\"],[0.2222222222222222,\"#7201a8\"],[0.3333333333333333,\"#9c179e\"],[0.4444444444444444,\"#bd3786\"],[0.5555555555555556,\"#d8576b\"],[0.6666666666666666,\"#ed7953\"],[0.7777777777777778,\"#fb9f3a\"],[0.8888888888888888,\"#fdca26\"],[1.0,\"#f0f921\"]],\"type\":\"heatmapgl\"}],\"histogram\":[{\"marker\":{\"pattern\":{\"fillmode\":\"overlay\",\"size\":10,\"solidity\":0.2}},\"type\":\"histogram\"}],\"histogram2d\":[{\"colorbar\":{\"outlinewidth\":0,\"ticks\":\"\"},\"colorscale\":[[0.0,\"#0d0887\"],[0.1111111111111111,\"#46039f\"],[0.2222222222222222,\"#7201a8\"],[0.3333333333333333,\"#9c179e\"],[0.4444444444444444,\"#bd3786\"],[0.5555555555555556,\"#d8576b\"],[0.6666666666666666,\"#ed7953\"],[0.7777777777777778,\"#fb9f3a\"],[0.8888888888888888,\"#fdca26\"],[1.0,\"#f0f921\"]],\"type\":\"histogram2d\"}],\"histogram2dcontour\":[{\"colorbar\":{\"outlinewidth\":0,\"ticks\":\"\"},\"colorscale\":[[0.0,\"#0d0887\"],[0.1111111111111111,\"#46039f\"],[0.2222222222222222,\"#7201a8\"],[0.3333333333333333,\"#9c179e\"],[0.4444444444444444,\"#bd3786\"],[0.5555555555555556,\"#d8576b\"],[0.6666666666666666,\"#ed7953\"],[0.7777777777777778,\"#fb9f3a\"],[0.8888888888888888,\"#fdca26\"],[1.0,\"#f0f921\"]],\"type\":\"histogram2dcontour\"}],\"mesh3d\":[{\"colorbar\":{\"outlinewidth\":0,\"ticks\":\"\"},\"type\":\"mesh3d\"}],\"parcoords\":[{\"line\":{\"colorbar\":{\"outlinewidth\":0,\"ticks\":\"\"}},\"type\":\"parcoords\"}],\"pie\":[{\"automargin\":true,\"type\":\"pie\"}],\"scatter\":[{\"marker\":{\"colorbar\":{\"outlinewidth\":0,\"ticks\":\"\"}},\"type\":\"scatter\"}],\"scatter3d\":[{\"line\":{\"colorbar\":{\"outlinewidth\":0,\"ticks\":\"\"}},\"marker\":{\"colorbar\":{\"outlinewidth\":0,\"ticks\":\"\"}},\"type\":\"scatter3d\"}],\"scattercarpet\":[{\"marker\":{\"colorbar\":{\"outlinewidth\":0,\"ticks\":\"\"}},\"type\":\"scattercarpet\"}],\"scattergeo\":[{\"marker\":{\"colorbar\":{\"outlinewidth\":0,\"ticks\":\"\"}},\"type\":\"scattergeo\"}],\"scattergl\":[{\"marker\":{\"colorbar\":{\"outlinewidth\":0,\"ticks\":\"\"}},\"type\":\"scattergl\"}],\"scattermapbox\":[{\"marker\":{\"colorbar\":{\"outlinewidth\":0,\"ticks\":\"\"}},\"type\":\"scattermapbox\"}],\"scatterpolar\":[{\"marker\":{\"colorbar\":{\"outlinewidth\":0,\"ticks\":\"\"}},\"type\":\"scatterpolar\"}],\"scatterpolargl\":[{\"marker\":{\"colorbar\":{\"outlinewidth\":0,\"ticks\":\"\"}},\"type\":\"scatterpolargl\"}],\"scatterternary\":[{\"marker\":{\"colorbar\":{\"outlinewidth\":0,\"ticks\":\"\"}},\"type\":\"scatterternary\"}],\"surface\":[{\"colorbar\":{\"outlinewidth\":0,\"ticks\":\"\"},\"colorscale\":[[0.0,\"#0d0887\"],[0.1111111111111111,\"#46039f\"],[0.2222222222222222,\"#7201a8\"],[0.3333333333333333,\"#9c179e\"],[0.4444444444444444,\"#bd3786\"],[0.5555555555555556,\"#d8576b\"],[0.6666666666666666,\"#ed7953\"],[0.7777777777777778,\"#fb9f3a\"],[0.8888888888888888,\"#fdca26\"],[1.0,\"#f0f921\"]],\"type\":\"surface\"}],\"table\":[{\"cells\":{\"fill\":{\"color\":\"#EBF0F8\"},\"line\":{\"color\":\"white\"}},\"header\":{\"fill\":{\"color\":\"#C8D4E3\"},\"line\":{\"color\":\"white\"}},\"type\":\"table\"}]},\"layout\":{\"annotationdefaults\":{\"arrowcolor\":\"#2a3f5f\",\"arrowhead\":0,\"arrowwidth\":1},\"autotypenumbers\":\"strict\",\"coloraxis\":{\"colorbar\":{\"outlinewidth\":0,\"ticks\":\"\"}},\"colorscale\":{\"diverging\":[[0,\"#8e0152\"],[0.1,\"#c51b7d\"],[0.2,\"#de77ae\"],[0.3,\"#f1b6da\"],[0.4,\"#fde0ef\"],[0.5,\"#f7f7f7\"],[0.6,\"#e6f5d0\"],[0.7,\"#b8e186\"],[0.8,\"#7fbc41\"],[0.9,\"#4d9221\"],[1,\"#276419\"]],\"sequential\":[[0.0,\"#0d0887\"],[0.1111111111111111,\"#46039f\"],[0.2222222222222222,\"#7201a8\"],[0.3333333333333333,\"#9c179e\"],[0.4444444444444444,\"#bd3786\"],[0.5555555555555556,\"#d8576b\"],[0.6666666666666666,\"#ed7953\"],[0.7777777777777778,\"#fb9f3a\"],[0.8888888888888888,\"#fdca26\"],[1.0,\"#f0f921\"]],\"sequentialminus\":[[0.0,\"#0d0887\"],[0.1111111111111111,\"#46039f\"],[0.2222222222222222,\"#7201a8\"],[0.3333333333333333,\"#9c179e\"],[0.4444444444444444,\"#bd3786\"],[0.5555555555555556,\"#d8576b\"],[0.6666666666666666,\"#ed7953\"],[0.7777777777777778,\"#fb9f3a\"],[0.8888888888888888,\"#fdca26\"],[1.0,\"#f0f921\"]]},\"colorway\":[\"#636efa\",\"#EF553B\",\"#00cc96\",\"#ab63fa\",\"#FFA15A\",\"#19d3f3\",\"#FF6692\",\"#B6E880\",\"#FF97FF\",\"#FECB52\"],\"font\":{\"color\":\"#2a3f5f\"},\"geo\":{\"bgcolor\":\"white\",\"lakecolor\":\"white\",\"landcolor\":\"#E5ECF6\",\"showlakes\":true,\"showland\":true,\"subunitcolor\":\"white\"},\"hoverlabel\":{\"align\":\"left\"},\"hovermode\":\"closest\",\"mapbox\":{\"style\":\"light\"},\"paper_bgcolor\":\"white\",\"plot_bgcolor\":\"#E5ECF6\",\"polar\":{\"angularaxis\":{\"gridcolor\":\"white\",\"linecolor\":\"white\",\"ticks\":\"\"},\"bgcolor\":\"#E5ECF6\",\"radialaxis\":{\"gridcolor\":\"white\",\"linecolor\":\"white\",\"ticks\":\"\"}},\"scene\":{\"xaxis\":{\"backgroundcolor\":\"#E5ECF6\",\"gridcolor\":\"white\",\"gridwidth\":2,\"linecolor\":\"white\",\"showbackground\":true,\"ticks\":\"\",\"zerolinecolor\":\"white\"},\"yaxis\":{\"backgroundcolor\":\"#E5ECF6\",\"gridcolor\":\"white\",\"gridwidth\":2,\"linecolor\":\"white\",\"showbackground\":true,\"ticks\":\"\",\"zerolinecolor\":\"white\"},\"zaxis\":{\"backgroundcolor\":\"#E5ECF6\",\"gridcolor\":\"white\",\"gridwidth\":2,\"linecolor\":\"white\",\"showbackground\":true,\"ticks\":\"\",\"zerolinecolor\":\"white\"}},\"shapedefaults\":{\"line\":{\"color\":\"#2a3f5f\"}},\"ternary\":{\"aaxis\":{\"gridcolor\":\"white\",\"linecolor\":\"white\",\"ticks\":\"\"},\"baxis\":{\"gridcolor\":\"white\",\"linecolor\":\"white\",\"ticks\":\"\"},\"bgcolor\":\"#E5ECF6\",\"caxis\":{\"gridcolor\":\"white\",\"linecolor\":\"white\",\"ticks\":\"\"}},\"title\":{\"x\":0.05},\"xaxis\":{\"automargin\":true,\"gridcolor\":\"white\",\"linecolor\":\"white\",\"ticks\":\"\",\"title\":{\"standoff\":15},\"zerolinecolor\":\"white\",\"zerolinewidth\":2},\"yaxis\":{\"automargin\":true,\"gridcolor\":\"white\",\"linecolor\":\"white\",\"ticks\":\"\",\"title\":{\"standoff\":15},\"zerolinecolor\":\"white\",\"zerolinewidth\":2}}},\"xaxis\":{\"anchor\":\"y\",\"domain\":[0.0,1.0],\"title\":{\"text\":\"betweeness_centrality_target\"}},\"yaxis\":{\"anchor\":\"x\",\"domain\":[0.0,1.0],\"title\":{\"text\":\"percent\"}},\"legend\":{\"title\":{\"text\":\"Model_name\"},\"tracegroupgap\":0},\"margin\":{\"t\":60},\"barmode\":\"group\",\"title\":{\"text\":\"Histogram for Target Variable Betweeness Centrality: asia, %age\"}},                        {\"responsive\": true}                    ).then(function(){\n",
       "                            \n",
       "var gd = document.getElementById('d5cd8e49-0359-4592-8170-3654762f3045');\n",
       "var x = new MutationObserver(function (mutations, observer) {{\n",
       "        var display = window.getComputedStyle(gd).display;\n",
       "        if (!display || display === 'none') {{\n",
       "            console.log([gd, 'removed!']);\n",
       "            Plotly.purge(gd);\n",
       "            observer.disconnect();\n",
       "        }}\n",
       "}});\n",
       "\n",
       "// Listen for the removal of the full notebook cells\n",
       "var notebookContainer = gd.closest('#notebook-container');\n",
       "if (notebookContainer) {{\n",
       "    x.observe(notebookContainer, {childList: true});\n",
       "}}\n",
       "\n",
       "// Listen for the clearing of the current output cell\n",
       "var outputEl = gd.closest('.output');\n",
       "if (outputEl) {{\n",
       "    x.observe(outputEl, {childList: true});\n",
       "}}\n",
       "\n",
       "                        })                };                });            </script>        </div>"
      ]
     },
     "metadata": {},
     "output_type": "display_data"
    }
   ],
   "source": [
    "fig = px.histogram(df, x=\"betweeness_centrality_target\", color='Model_name', barmode='group', histnorm=\"percent\")\n",
    "fig.update_layout(\n",
    "    title_text=f'Histogram for Target Variable Betweeness Centrality: {dataset_name}, %age', # title of plot\n",
    "#     xaxis_title_text='Betweeness Centrality', # xaxis label\n",
    "#     yaxis_title_text='Count', # yaxis label\n",
    ")\n",
    "fig.show()"
   ]
  },
  {
   "cell_type": "code",
   "execution_count": null,
   "id": "57dd7a80",
   "metadata": {},
   "outputs": [],
   "source": [
    "fig = px.histogram(df, x=\"betweeness_centrality_evs\", color='Model_name', barmode='group')\n",
    "fig.update_layout(\n",
    "    title_text=f'Histogram for Evidence Variable Betweeness Centrality: {dataset_name}', # title of plot\n",
    "#     xaxis_title_text='Betweeness Centrality', # xaxis label\n",
    "#     yaxis_title_text='Count', # yaxis label\n",
    ")\n",
    "fig.show()"
   ]
  },
  {
   "cell_type": "markdown",
   "id": "d1cfe85b",
   "metadata": {},
   "source": [
    "## NoTears Analysis"
   ]
  },
  {
   "cell_type": "code",
   "execution_count": null,
   "id": "923fd73b",
   "metadata": {},
   "outputs": [],
   "source": [
    "df[df['Label']==3]"
   ]
  },
  {
   "cell_type": "code",
   "execution_count": null,
   "id": "00c668f5",
   "metadata": {},
   "outputs": [],
   "source": [
    "fig = px.histogram(df[df['Model_name']=='sachs_notears'], x=\"confidence_score\")\n",
    "fig.update_layout(\n",
    "    title_text=f'Histogram for confidence: {dataset_name}', # title of plot\n",
    ")\n",
    "fig.show()"
   ]
  },
  {
   "cell_type": "markdown",
   "id": "a6661abc",
   "metadata": {},
   "source": [
    "## Dropping Nodes"
   ]
  },
  {
   "cell_type": "code",
   "execution_count": null,
   "id": "d7245ace",
   "metadata": {},
   "outputs": [],
   "source": [
    "from cdt_causality import run_algos\n",
    "\n",
    "dataset_name = 'sachs'\n",
    "dropped = True\n",
    "replace, vals, num_disc = replace_vals(dataset_name)\n",
    "save_bool(dataset_name, replace, vals)\n",
    "\n",
    "fnames = get_adjmats(dataset_name)\n",
    "nod_names = get_nodnames(dataset_name)\n",
    "nod_accs = {}\n",
    "queries = generate_queries(dataset_name)\n",
    "y_true = true_probs(dataset_name)\n",
    "algo_names = [i.split('_')[-1] for i in fnames]\n",
    "algo_names = ['notears', 'ccdr', 'lingam']\n",
    "# algo_names = ['ccdr']"
   ]
  },
  {
   "cell_type": "code",
   "execution_count": null,
   "id": "a10c473f",
   "metadata": {},
   "outputs": [],
   "source": [
    "from cdt_causality import run_algos\n",
    "algo_names = ['notears', 'ccdr', 'lingam']\n",
    "for d in ['asia', 'sachs', 'andes']:\n",
    "    nod_names = get_nodnames(d)\n",
    "\n",
    "    for i in range(len(nod_names)):\n",
    "#     try :\n",
    "        drop_nodes = [i]\n",
    "        print(i)\n",
    "        run_algos([d], algo_names, True, drop_nodes)"
   ]
  },
  {
   "cell_type": "code",
   "execution_count": null,
   "id": "69dfc2ef",
   "metadata": {},
   "outputs": [],
   "source": [
    "# from cdt_causality import run_algos\n",
    "\n",
    "# dataset_name = 'sachs'\n",
    "# algo_names = ['ccdr']\n",
    "# drop_nodes = [0]\n",
    "# run_algos([dataset_name], algo_names, True, drop_nodes)"
   ]
  },
  {
   "cell_type": "code",
   "execution_count": null,
   "id": "5d9adb60",
   "metadata": {},
   "outputs": [],
   "source": [
    "\n",
    "for i in range(len(nod_names)):\n",
    "#     try :\n",
    "        drop_nodes = [i]\n",
    "        print(i)\n",
    "        run_algos([dataset_name], algo_names, True, drop_nodes)\n",
    "\n",
    "#         try:\n",
    "        learned_bns, Graphs = build_bns(fnames, nod_names, num_disc, drop_nodes, dropped)\n",
    "        print(learned_bns)\n",
    "        print\n",
    "        files = list(learned_bns.keys())\n",
    "        print(files)\n",
    "        y_models = get_prob_models(files, drop_nodes)\n",
    "        adjs = fix_adjmats(learned_bns, files, dropped)\n",
    "        df, clf, acc = multiclass(nod_names, files, queries, adjs, y_true, Graphs, drop_nodes)\n",
    "        nod_accs[i] = acc\n",
    "    except:\n",
    "        continue"
   ]
  },
  {
   "cell_type": "code",
   "execution_count": null,
   "id": "1014965c",
   "metadata": {},
   "outputs": [],
   "source": []
  },
  {
   "cell_type": "code",
   "execution_count": null,
   "id": "7c938b6d",
   "metadata": {},
   "outputs": [],
   "source": [
    "learned_bns"
   ]
  },
  {
   "cell_type": "code",
   "execution_count": null,
   "id": "d9db2715",
   "metadata": {},
   "outputs": [],
   "source": [
    "#         run_algos([dataset_name], algo_names)\n",
    " y_models[list(y_models.keys())[0]][0]"
   ]
  },
  {
   "cell_type": "code",
   "execution_count": null,
   "id": "e2c49c9c",
   "metadata": {},
   "outputs": [],
   "source": [
    "y_models"
   ]
  },
  {
   "cell_type": "code",
   "execution_count": null,
   "id": "383f18d1",
   "metadata": {},
   "outputs": [],
   "source": [
    "files"
   ]
  },
  {
   "cell_type": "code",
   "execution_count": null,
   "id": "102c1eb5",
   "metadata": {},
   "outputs": [],
   "source": [
    "drop_nodes = []    \n",
    "learned_bns, Graphs = build_bns(['sachs_ccdr', 'sachs_lingam', 'sachs_notears'], nod_names, num_disc, [], False)\n",
    "files = list(learned_bns.keys())\n",
    "y_models = get_prob_models(files, drop_nodes)\n",
    "print(y_models)\n",
    "adjs = fix_adjmats(learned_bns, files)\n",
    "df, clf, acc = multiclass(nod_names, files, queries, adjs, y_true, Graphs)\n",
    "nod_accs['None'] = acc"
   ]
  },
  {
   "cell_type": "code",
   "execution_count": null,
   "id": "42ede6eb",
   "metadata": {},
   "outputs": [],
   "source": [
    "nod_accs"
   ]
  },
  {
   "cell_type": "code",
   "execution_count": null,
   "id": "6584368a",
   "metadata": {},
   "outputs": [],
   "source": [
    "nod_names"
   ]
  },
  {
   "cell_type": "code",
   "execution_count": null,
   "id": "9bbde4fe",
   "metadata": {
    "scrolled": true
   },
   "outputs": [],
   "source": [
    "nod_accs"
   ]
  },
  {
   "cell_type": "markdown",
   "id": "311a5d76",
   "metadata": {},
   "source": [
    "# Noisy Data"
   ]
  },
  {
   "cell_type": "code",
   "execution_count": null,
   "id": "d34897d2",
   "metadata": {},
   "outputs": [],
   "source": [
    "# dataset_name = 'sachs'\n",
    "# replace, vals, num_disc = replace_vals(dataset_name)\n",
    "# save_bool(dataset_name, replace, vals)\n",
    "# fnames = get_adjmats(dataset_name)\n",
    "# nod_names = get_nodnames(dataset_name)\n",
    "# learned_bns, Graphs = build_bns(fnames, nod_names, num_disc)\n",
    "# files = list(learned_bns.keys())\n",
    "# queries = generate_queries(dataset_name)\n",
    "# y_true = true_probs(dataset_name)\n",
    "# y_models = get_prob_models(files)\n",
    "# adjs = fix_adjmats(learned_bns, files)\n"
   ]
  },
  {
   "cell_type": "code",
   "execution_count": null,
   "id": "bf5df1ad",
   "metadata": {},
   "outputs": [],
   "source": [
    "dataset_name = 'sachs'\n",
    "replace, vals, num_disc = replace_vals(dataset_name)\n",
    "noisy_dataset=add_noise(dataset_name,num_disc,0.1,0.3)\n",
    "# replace, vals, num_disc = replace_vals(dataset_name)\n",
    "save_bool(dataset_name, replace, vals,noisy=True)\n",
    "\n",
    "fnames = get_adjmats(dataset_name)\n",
    "nod_names = get_nodnames(dataset_name)\n",
    "learned_bns, Graphs = build_bns(fnames, nod_names, num_disc,noisy=True)\n",
    "files = list(learned_bns.keys())\n",
    "queries = generate_queries(dataset_name)\n",
    "y_true = true_probs(dataset_name)\n",
    "y_models = get_prob_models(files)\n",
    "adjs = fix_adjmats(learned_bns, files)\n",
    "df, clf, acc = multiclass(nod_names, files, queries, adjs, y_true, Graphs)"
   ]
  },
  {
   "cell_type": "markdown",
   "id": "295cb04a",
   "metadata": {},
   "source": [
    "#Noise Analysis"
   ]
  },
  {
   "cell_type": "markdown",
   "id": "e0709b91",
   "metadata": {},
   "source": [
    "1st experiment graph: fixing random 2 and changing random 1"
   ]
  },
  {
   "cell_type": "code",
   "execution_count": null,
   "id": "91f33f61",
   "metadata": {},
   "outputs": [],
   "source": [
    "exp_1_acc=[]\n",
    "for i in range(1,21):\n",
    "    plot_value=i/20\n",
    "    dataset_name = 'sachs'\n",
    "    replace, vals, num_disc = replace_vals(dataset_name)\n",
    "    noisy_dataset=add_noise(dataset_name,num_disc,plot_value,0.8)\n",
    "    # replace, vals, num_disc = replace_vals(dataset_name)\n",
    "    save_bool(dataset_name, replace, vals,noisy=True)\n",
    "\n",
    "    fnames = get_adjmats(dataset_name)\n",
    "    nod_names = get_nodnames(dataset_name)\n",
    "    learned_bns, Graphs = build_bns(fnames, nod_names, num_disc,noisy=True)\n",
    "    files = list(learned_bns.keys())\n",
    "    queries = generate_queries(dataset_name)\n",
    "    y_true = true_probs(dataset_name)\n",
    "    y_models = get_prob_models(files)\n",
    "    adjs = fix_adjmats(learned_bns, files)\n",
    "    df, clf, acc = multiclass(nod_names, files, queries, adjs, y_true, Graphs)\n",
    "    exp_1_acc.append(acc)\n",
    "\n",
    "print(exp_1_acc)"
   ]
  },
  {
   "cell_type": "code",
   "execution_count": null,
   "id": "bcb067a4",
   "metadata": {},
   "outputs": [],
   "source": [
    "plt.plot(exp_1_acc)\n",
    "# plt.hist(exp_1_acc,bins=20)\n",
    "# plt.xlim(0,1)"
   ]
  },
  {
   "cell_type": "code",
   "execution_count": null,
   "id": "070ecd88",
   "metadata": {},
   "outputs": [],
   "source": [
    "exp_1_acc\n",
    "fig = px.histogram(df, x=\"Model_name\")\n",
    "fig.update_layout(\n",
    "    title_text=f'Frequency Count for Model Preference: {dataset_name}', # title of plot\n",
    "    xaxis_title_text='Model', # xaxis label\n",
    "    yaxis_title_text='Frequency', # yaxis label\n",
    "    bargap=0.5\n",
    ")\n",
    "fig.show()"
   ]
  },
  {
   "cell_type": "markdown",
   "id": "4197e676",
   "metadata": {},
   "source": [
    "## Evaluating Algorithms"
   ]
  },
  {
   "cell_type": "code",
   "execution_count": 163,
   "id": "dc9aa7c7",
   "metadata": {},
   "outputs": [],
   "source": [
    "# !pip install cdt\n",
    "from cdt.metrics import SHD\n",
    "from cdt.metrics import SID\n",
    "from pgmpy.readwrite import BIFReader\n",
    "## https://fentechsolutions.github.io/CausalDiscoveryToolbox/html/metrics.html\n",
    "\n",
    "\n",
    "def get_trueg(dataset_name, nod_names):\n",
    "    reader = BIFReader(f\"Datasets/{dataset_name}.bif\")      \n",
    "    G = nx.DiGraph()\n",
    "    for i in reader.get_variables():\n",
    "            G.add_node(i)\n",
    "    for edge in reader.get_edges():\n",
    "        G.add_edge(edge[0], edge[1])\n",
    "    nx.draw(G, with_labels=True)\n",
    "    plt.savefig(f\"networkx/{dataset_name}_true.png\", dpi=300, bbox_inches='tight')\n",
    "    plt.show()\n",
    "    nx.write_gexf(G,f\"networkx/{dataset_name}_true.gexf\")\n",
    "    return G\n",
    "\n",
    "def eval_algos(dataset_name, Graphs, true_g):\n",
    "    print('SHD')\n",
    "    for file in Graphs:\n",
    "        print(file, SHD(true_g, Graphs[file]))\n",
    "    print('SID')\n",
    "#     for file in Graphs:\n",
    "#         print(file, SID(true_g, Graphs[file]))"
   ]
  },
  {
   "cell_type": "code",
   "execution_count": 159,
   "id": "2d3a1b90",
   "metadata": {},
   "outputs": [
    {
     "data": {
      "image/svg+xml": [
       "<?xml version=\"1.0\" encoding=\"utf-8\" standalone=\"no\"?>\n",
       "<!DOCTYPE svg PUBLIC \"-//W3C//DTD SVG 1.1//EN\"\n",
       "  \"http://www.w3.org/Graphics/SVG/1.1/DTD/svg11.dtd\">\n",
       "<svg xmlns:xlink=\"http://www.w3.org/1999/xlink\" width=\"446.4pt\" height=\"302.4pt\" viewBox=\"0 0 446.4 302.4\" xmlns=\"http://www.w3.org/2000/svg\" version=\"1.1\">\n",
       " <metadata>\n",
       "  <rdf:RDF xmlns:dc=\"http://purl.org/dc/elements/1.1/\" xmlns:cc=\"http://creativecommons.org/ns#\" xmlns:rdf=\"http://www.w3.org/1999/02/22-rdf-syntax-ns#\">\n",
       "   <cc:Work>\n",
       "    <dc:type rdf:resource=\"http://purl.org/dc/dcmitype/StillImage\"/>\n",
       "    <dc:date>2022-01-31T03:32:42.694862</dc:date>\n",
       "    <dc:format>image/svg+xml</dc:format>\n",
       "    <dc:creator>\n",
       "     <cc:Agent>\n",
       "      <dc:title>Matplotlib v3.5.1, https://matplotlib.org/</dc:title>\n",
       "     </cc:Agent>\n",
       "    </dc:creator>\n",
       "   </cc:Work>\n",
       "  </rdf:RDF>\n",
       " </metadata>\n",
       " <defs>\n",
       "  <style type=\"text/css\">*{stroke-linejoin: round; stroke-linecap: butt}</style>\n",
       " </defs>\n",
       " <g id=\"figure_1\">\n",
       "  <g id=\"patch_1\">\n",
       "   <path d=\"M 0 302.4 \n",
       "L 446.4 302.4 \n",
       "L 446.4 0 \n",
       "L 0 0 \n",
       "z\n",
       "\" style=\"fill: #ffffff\"/>\n",
       "  </g>\n",
       "  <g id=\"axes_1\">\n",
       "   <g id=\"patch_2\">\n",
       "    <path d=\"M 250.746635 206.415062 \n",
       "Q 247.346503 205.171918 244.996422 204.312691 \n",
       "\" clip-path=\"url(#p3432db487b)\" style=\"fill: none; stroke: #000000; stroke-linecap: round\"/>\n",
       "    <path d=\"M 248.066431 207.56462 \n",
       "L 244.996422 204.312691 \n",
       "L 249.439971 203.807841 \n",
       "L 248.066431 207.56462 \n",
       "z\n",
       "\" clip-path=\"url(#p3432db487b)\" style=\"stroke: #000000; stroke-linecap: round\"/>\n",
       "   </g>\n",
       "   <g id=\"patch_3\">\n",
       "    <path d=\"M 250.578379 211.843135 \n",
       "Q 238.703258 215.351146 227.900365 218.542412 \n",
       "\" clip-path=\"url(#p3432db487b)\" style=\"fill: none; stroke: #000000; stroke-linecap: round\"/>\n",
       "    <path d=\"M 232.303095 219.32725 \n",
       "L 227.900365 218.542412 \n",
       "L 231.169873 215.491131 \n",
       "L 232.303095 219.32725 \n",
       "z\n",
       "\" clip-path=\"url(#p3432db487b)\" style=\"stroke: #000000; stroke-linecap: round\"/>\n",
       "   </g>\n",
       "   <g id=\"patch_4\">\n",
       "    <path d=\"M 250.549294 207.026162 \n",
       "Q 230.014732 201.201937 210.555777 195.682788 \n",
       "\" clip-path=\"url(#p3432db487b)\" style=\"fill: none; stroke: #000000; stroke-linecap: round\"/>\n",
       "    <path d=\"M 213.85825 198.69836 \n",
       "L 210.555777 195.682788 \n",
       "L 214.949718 194.850153 \n",
       "L 213.85825 198.69836 \n",
       "z\n",
       "\" clip-path=\"url(#p3432db487b)\" style=\"stroke: #000000; stroke-linecap: round\"/>\n",
       "   </g>\n",
       "   <g id=\"patch_5\">\n",
       "    <path d=\"M 250.938747 205.938732 \n",
       "Q 241.527589 201.85037 233.141884 198.207482 \n",
       "\" clip-path=\"url(#p3432db487b)\" style=\"fill: none; stroke: #000000; stroke-linecap: round\"/>\n",
       "    <path d=\"M 236.013768 201.635642 \n",
       "L 233.141884 198.207482 \n",
       "L 237.607543 197.966871 \n",
       "L 236.013768 201.635642 \n",
       "z\n",
       "\" clip-path=\"url(#p3432db487b)\" style=\"stroke: #000000; stroke-linecap: round\"/>\n",
       "   </g>\n",
       "   <g id=\"patch_6\">\n",
       "    <path d=\"M 246.305654 51.278021 \n",
       "Q 247.721574 49.390569 248.466573 48.397468 \n",
       "\" clip-path=\"url(#p3432db487b)\" style=\"fill: none; stroke: #000000; stroke-linecap: round\"/>\n",
       "    <path d=\"M 244.466349 50.39702 \n",
       "L 248.466573 48.397468 \n",
       "L 247.66608 52.797379 \n",
       "L 244.466349 50.39702 \n",
       "z\n",
       "\" clip-path=\"url(#p3432db487b)\" style=\"stroke: #000000; stroke-linecap: round\"/>\n",
       "   </g>\n",
       "   <g id=\"patch_7\">\n",
       "    <path d=\"M 249.432741 55.801353 \n",
       "Q 286.159147 45.197992 321.811392 34.904754 \n",
       "\" clip-path=\"url(#p3432db487b)\" style=\"fill: none; stroke: #000000; stroke-linecap: round\"/>\n",
       "    <path d=\"M 317.413588 34.092767 \n",
       "L 321.811392 34.904754 \n",
       "L 318.52312 37.935805 \n",
       "L 317.413588 34.092767 \n",
       "z\n",
       "\" clip-path=\"url(#p3432db487b)\" style=\"stroke: #000000; stroke-linecap: round\"/>\n",
       "   </g>\n",
       "   <g id=\"patch_8\">\n",
       "    <path d=\"M 262.942817 39.638449 \n",
       "Q 292.769409 36.384829 321.48456 33.252451 \n",
       "\" clip-path=\"url(#p3432db487b)\" style=\"fill: none; stroke: #000000; stroke-linecap: round\"/>\n",
       "    <path d=\"M 317.291266 31.698011 \n",
       "L 321.48456 33.252451 \n",
       "L 317.725031 35.674422 \n",
       "L 317.291266 31.698011 \n",
       "z\n",
       "\" clip-path=\"url(#p3432db487b)\" style=\"stroke: #000000; stroke-linecap: round\"/>\n",
       "   </g>\n",
       "   <g id=\"patch_9\">\n",
       "    <path d=\"M 227.672127 203.903889 \n",
       "Q 140.252175 235.580476 53.883379 266.876179 \n",
       "\" clip-path=\"url(#p3432db487b)\" style=\"fill: none; stroke: #000000; stroke-linecap: round\"/>\n",
       "    <path d=\"M 58.325453 267.393844 \n",
       "L 53.883379 266.876179 \n",
       "L 56.962755 263.633118 \n",
       "L 58.325453 267.393844 \n",
       "z\n",
       "\" clip-path=\"url(#p3432db487b)\" style=\"stroke: #000000; stroke-linecap: round\"/>\n",
       "   </g>\n",
       "   <g id=\"patch_10\">\n",
       "    <path d=\"M 230.20323 207.557776 \n",
       "Q 227.164063 211.136061 224.848662 213.862193 \n",
       "\" clip-path=\"url(#p3432db487b)\" style=\"fill: none; stroke: #000000; stroke-linecap: round\"/>\n",
       "    <path d=\"M 228.962458 212.108146 \n",
       "L 224.848662 213.862193 \n",
       "L 225.913702 209.518728 \n",
       "L 228.962458 212.108146 \n",
       "z\n",
       "\" clip-path=\"url(#p3432db487b)\" style=\"stroke: #000000; stroke-linecap: round\"/>\n",
       "   </g>\n",
       "   <g id=\"patch_11\">\n",
       "    <path d=\"M 227.370277 199.021 \n",
       "Q 218.480067 196.98461 210.679666 195.197852 \n",
       "\" clip-path=\"url(#p3432db487b)\" style=\"fill: none; stroke: #000000; stroke-linecap: round\"/>\n",
       "    <path d=\"M 214.132132 198.040471 \n",
       "L 210.679666 195.197852 \n",
       "L 215.02524 194.141451 \n",
       "L 214.132132 198.040471 \n",
       "z\n",
       "\" clip-path=\"url(#p3432db487b)\" style=\"stroke: #000000; stroke-linecap: round\"/>\n",
       "   </g>\n",
       "   <g id=\"patch_12\">\n",
       "    <path d=\"M 227.154527 200.796029 \n",
       "Q 224.918555 200.755083 223.80043 200.734607 \n",
       "\" clip-path=\"url(#p3432db487b)\" style=\"fill: none; stroke: #000000; stroke-linecap: round\"/>\n",
       "    <path d=\"M 227.76314 202.80751 \n",
       "L 223.80043 200.734607 \n",
       "L 227.836378 198.80818 \n",
       "L 227.76314 202.80751 \n",
       "z\n",
       "\" clip-path=\"url(#p3432db487b)\" style=\"stroke: #000000; stroke-linecap: round\"/>\n",
       "   </g>\n",
       "   <g id=\"patch_13\">\n",
       "    <path d=\"M 243.691967 197.366112 \n",
       "Q 318.761075 163.182308 392.812676 129.46184 \n",
       "\" clip-path=\"url(#p3432db487b)\" style=\"fill: none; stroke: #000000; stroke-linecap: round\"/>\n",
       "    <path d=\"M 388.343493 129.299352 \n",
       "L 392.812676 129.46184 \n",
       "L 390.001175 132.939694 \n",
       "L 388.343493 129.299352 \n",
       "z\n",
       "\" clip-path=\"url(#p3432db487b)\" style=\"stroke: #000000; stroke-linecap: round\"/>\n",
       "   </g>\n",
       "   <g id=\"patch_14\">\n",
       "    <path d=\"M 213.988659 213.931345 \n",
       "Q 209.834537 207.163866 206.265303 201.349227 \n",
       "\" clip-path=\"url(#p3432db487b)\" style=\"fill: none; stroke: #000000; stroke-linecap: round\"/>\n",
       "    <path d=\"M 206.653369 205.804495 \n",
       "L 206.265303 201.349227 \n",
       "L 210.062356 203.711935 \n",
       "L 206.653369 205.804495 \n",
       "z\n",
       "\" clip-path=\"url(#p3432db487b)\" style=\"stroke: #000000; stroke-linecap: round\"/>\n",
       "   </g>\n",
       "   <g id=\"patch_15\">\n",
       "    <path d=\"M 193.383091 196.84648 \n",
       "Q 122.918592 231.611499 53.456738 265.881843 \n",
       "\" clip-path=\"url(#p3432db487b)\" style=\"fill: none; stroke: #000000; stroke-linecap: round\"/>\n",
       "    <path d=\"M 57.928811 265.905628 \n",
       "L 53.456738 265.881843 \n",
       "L 56.15901 262.318456 \n",
       "L 57.928811 265.905628 \n",
       "z\n",
       "\" clip-path=\"url(#p3432db487b)\" style=\"stroke: #000000; stroke-linecap: round\"/>\n",
       "   </g>\n",
       "   <g id=\"patch_16\">\n",
       "    <path d=\"M 209.354154 190.249177 \n",
       "Q 301.431398 159.211858 392.449178 128.531662 \n",
       "\" clip-path=\"url(#p3432db487b)\" style=\"fill: none; stroke: #000000; stroke-linecap: round\"/>\n",
       "    <path d=\"M 388.019885 127.914118 \n",
       "L 392.449178 128.531662 \n",
       "L 389.297567 131.70457 \n",
       "L 388.019885 127.914118 \n",
       "z\n",
       "\" clip-path=\"url(#p3432db487b)\" style=\"stroke: #000000; stroke-linecap: round\"/>\n",
       "   </g>\n",
       "   <g id=\"patch_17\">\n",
       "    <path d=\"M 216.19592 197.68515 \n",
       "Q 134.428775 232.26078 53.691385 266.400972 \n",
       "\" clip-path=\"url(#p3432db487b)\" style=\"fill: none; stroke: #000000; stroke-linecap: round\"/>\n",
       "    <path d=\"M 58.154481 266.685188 \n",
       "L 53.691385 266.400972 \n",
       "L 56.596615 263.001025 \n",
       "L 58.154481 266.685188 \n",
       "z\n",
       "\" clip-path=\"url(#p3432db487b)\" style=\"stroke: #000000; stroke-linecap: round\"/>\n",
       "   </g>\n",
       "   <g id=\"patch_18\">\n",
       "    <path d=\"M 231.694628 198.60456 \n",
       "Q 233.753102 199.779561 234.840594 200.400313 \n",
       "\" clip-path=\"url(#p3432db487b)\" style=\"fill: none; stroke: #000000; stroke-linecap: round\"/>\n",
       "    <path d=\"M 232.358167 196.680426 \n",
       "L 234.840594 200.400313 \n",
       "L 230.375228 200.154322 \n",
       "L 232.358167 196.680426 \n",
       "z\n",
       "\" clip-path=\"url(#p3432db487b)\" style=\"stroke: #000000; stroke-linecap: round\"/>\n",
       "   </g>\n",
       "   <g id=\"patch_19\">\n",
       "    <path d=\"M 215.52563 193.824545 \n",
       "Q 212.659852 193.663138 210.910339 193.564602 \n",
       "\" clip-path=\"url(#p3432db487b)\" style=\"fill: none; stroke: #000000; stroke-linecap: round\"/>\n",
       "    <path d=\"M 214.791544 195.786369 \n",
       "L 210.910339 193.564602 \n",
       "L 215.016476 191.792698 \n",
       "L 214.791544 195.786369 \n",
       "z\n",
       "\" clip-path=\"url(#p3432db487b)\" style=\"stroke: #000000; stroke-linecap: round\"/>\n",
       "   </g>\n",
       "   <g id=\"patch_20\">\n",
       "    <path d=\"M 216.796881 198.849772 \n",
       "Q 215.410442 199.702674 214.976275 199.969763 \n",
       "\" clip-path=\"url(#p3432db487b)\" style=\"fill: none; stroke: #000000; stroke-linecap: round\"/>\n",
       "    <path d=\"M 219.431163 199.577369 \n",
       "L 214.976275 199.969763 \n",
       "L 217.335292 196.170416 \n",
       "L 219.431163 199.577369 \n",
       "z\n",
       "\" clip-path=\"url(#p3432db487b)\" style=\"stroke: #000000; stroke-linecap: round\"/>\n",
       "   </g>\n",
       "   <g id=\"patch_21\">\n",
       "    <path d=\"M 232.249476 191.177506 \n",
       "Q 312.943211 159.8604 392.594656 128.947804 \n",
       "\" clip-path=\"url(#p3432db487b)\" style=\"fill: none; stroke: #000000; stroke-linecap: round\"/>\n",
       "    <path d=\"M 388.14203 128.530522 \n",
       "L 392.594656 128.947804 \n",
       "L 389.589254 132.259535 \n",
       "L 388.14203 128.530522 \n",
       "z\n",
       "\" clip-path=\"url(#p3432db487b)\" style=\"stroke: #000000; stroke-linecap: round\"/>\n",
       "   </g>\n",
       "   <g id=\"patch_22\">\n",
       "    <path d=\"M 206.016594 203.849242 \n",
       "Q 129.356029 235.381827 53.729445 266.489108 \n",
       "\" clip-path=\"url(#p3432db487b)\" style=\"fill: none; stroke: #000000; stroke-linecap: round\"/>\n",
       "    <path d=\"M 58.189535 266.817133 \n",
       "L 53.729445 266.489108 \n",
       "L 56.667919 263.117851 \n",
       "L 58.189535 266.817133 \n",
       "z\n",
       "\" clip-path=\"url(#p3432db487b)\" style=\"stroke: #000000; stroke-linecap: round\"/>\n",
       "   </g>\n",
       "   <g id=\"patch_23\">\n",
       "    <path d=\"M 215.857658 209.021398 \n",
       "Q 216.272032 210.934526 216.449733 211.754958 \n",
       "\" clip-path=\"url(#p3432db487b)\" style=\"fill: none; stroke: #000000; stroke-linecap: round\"/>\n",
       "    <path d=\"M 217.557662 207.422235 \n",
       "L 216.449733 211.754958 \n",
       "L 213.648312 208.268981 \n",
       "L 217.557662 207.422235 \n",
       "z\n",
       "\" clip-path=\"url(#p3432db487b)\" style=\"stroke: #000000; stroke-linecap: round\"/>\n",
       "   </g>\n",
       "   <g id=\"patch_24\">\n",
       "    <path d=\"M 206.55256 196.179521 \n",
       "Q 203.850959 194.597182 202.114095 193.579893 \n",
       "\" clip-path=\"url(#p3432db487b)\" style=\"fill: none; stroke: #000000; stroke-linecap: round\"/>\n",
       "    <path d=\"M 204.554851 197.327254 \n",
       "L 202.114095 193.579893 \n",
       "L 206.576437 193.875706 \n",
       "L 204.554851 197.327254 \n",
       "z\n",
       "\" clip-path=\"url(#p3432db487b)\" style=\"stroke: #000000; stroke-linecap: round\"/>\n",
       "   </g>\n",
       "   <g id=\"patch_25\">\n",
       "    <path d=\"M 222.062963 197.336951 \n",
       "Q 307.867662 162.982615 392.634428 129.043845 \n",
       "\" clip-path=\"url(#p3432db487b)\" style=\"fill: none; stroke: #000000; stroke-linecap: round\"/>\n",
       "    <path d=\"M 388.177619 128.673908 \n",
       "L 392.634428 129.043845 \n",
       "L 389.664392 132.38733 \n",
       "L 388.177619 128.673908 \n",
       "z\n",
       "\" clip-path=\"url(#p3432db487b)\" style=\"stroke: #000000; stroke-linecap: round\"/>\n",
       "   </g>\n",
       "   <g id=\"PathCollection_1\">\n",
       "    <defs>\n",
       "     <path id=\"mf8b8059368\" d=\"M 0 8.660254 \n",
       "C 2.296726 8.660254 4.499694 7.747755 6.123724 6.123724 \n",
       "C 7.747755 4.499694 8.660254 2.296726 8.660254 0 \n",
       "C 8.660254 -2.296726 7.747755 -4.499694 6.123724 -6.123724 \n",
       "C 4.499694 -7.747755 2.296726 -8.660254 0 -8.660254 \n",
       "C -2.296726 -8.660254 -4.499694 -7.747755 -6.123724 -6.123724 \n",
       "C -7.747755 -4.499694 -8.660254 -2.296726 -8.660254 0 \n",
       "C -8.660254 2.296726 -7.747755 4.499694 -6.123724 6.123724 \n",
       "C -4.499694 7.747755 -2.296726 8.660254 0 8.660254 \n",
       "z\n",
       "\" style=\"stroke: #1f78b4\"/>\n",
       "    </defs>\n",
       "    <g clip-path=\"url(#p3432db487b)\">\n",
       "     <use xlink:href=\"#mf8b8059368\" x=\"44.687603\" y=\"270.208264\" style=\"fill: #1f78b4; stroke: #1f78b4\"/>\n",
       "     <use xlink:href=\"#mf8b8059368\" x=\"258.883045\" y=\"209.389866\" style=\"fill: #1f78b4; stroke: #1f78b4\"/>\n",
       "     <use xlink:href=\"#mf8b8059368\" x=\"241.109725\" y=\"58.204309\" style=\"fill: #1f78b4; stroke: #1f78b4\"/>\n",
       "     <use xlink:href=\"#mf8b8059368\" x=\"254.332791\" y=\"40.577669\" style=\"fill: #1f78b4; stroke: #1f78b4\"/>\n",
       "     <use xlink:href=\"#mf8b8059368\" x=\"235.811577\" y=\"200.954562\" style=\"fill: #1f78b4; stroke: #1f78b4\"/>\n",
       "     <use xlink:href=\"#mf8b8059368\" x=\"218.520053\" y=\"221.313436\" style=\"fill: #1f78b4; stroke: #1f78b4\"/>\n",
       "     <use xlink:href=\"#mf8b8059368\" x=\"201.149358\" y=\"193.014843\" style=\"fill: #1f78b4; stroke: #1f78b4\"/>\n",
       "     <use xlink:href=\"#mf8b8059368\" x=\"224.173879\" y=\"194.311632\" style=\"fill: #1f78b4; stroke: #1f78b4\"/>\n",
       "     <use xlink:href=\"#mf8b8059368\" x=\"214.024002\" y=\"200.555576\" style=\"fill: #1f78b4; stroke: #1f78b4\"/>\n",
       "     <use xlink:href=\"#mf8b8059368\" x=\"401.712397\" y=\"125.409224\" style=\"fill: #1f78b4; stroke: #1f78b4\"/>\n",
       "     <use xlink:href=\"#mf8b8059368\" x=\"331.208359\" y=\"32.191736\" style=\"fill: #1f78b4; stroke: #1f78b4\"/>\n",
       "    </g>\n",
       "   </g>\n",
       "   <g id=\"text_1\">\n",
       "    <g clip-path=\"url(#p3432db487b)\">\n",
       "     <!-- Akt -->\n",
       "     <g transform=\"translate(34.756666 273.519514)scale(0.12 -0.12)\">\n",
       "      <defs>\n",
       "       <path id=\"DejaVuSans-41\" d=\"M 2188 4044 \n",
       "L 1331 1722 \n",
       "L 3047 1722 \n",
       "L 2188 4044 \n",
       "z\n",
       "M 1831 4666 \n",
       "L 2547 4666 \n",
       "L 4325 0 \n",
       "L 3669 0 \n",
       "L 3244 1197 \n",
       "L 1141 1197 \n",
       "L 716 0 \n",
       "L 50 0 \n",
       "L 1831 4666 \n",
       "z\n",
       "\" transform=\"scale(0.015625)\"/>\n",
       "       <path id=\"DejaVuSans-6b\" d=\"M 581 4863 \n",
       "L 1159 4863 \n",
       "L 1159 1991 \n",
       "L 2875 3500 \n",
       "L 3609 3500 \n",
       "L 1753 1863 \n",
       "L 3688 0 \n",
       "L 2938 0 \n",
       "L 1159 1709 \n",
       "L 1159 0 \n",
       "L 581 0 \n",
       "L 581 4863 \n",
       "z\n",
       "\" transform=\"scale(0.015625)\"/>\n",
       "       <path id=\"DejaVuSans-74\" d=\"M 1172 4494 \n",
       "L 1172 3500 \n",
       "L 2356 3500 \n",
       "L 2356 3053 \n",
       "L 1172 3053 \n",
       "L 1172 1153 \n",
       "Q 1172 725 1289 603 \n",
       "Q 1406 481 1766 481 \n",
       "L 2356 481 \n",
       "L 2356 0 \n",
       "L 1766 0 \n",
       "Q 1100 0 847 248 \n",
       "Q 594 497 594 1153 \n",
       "L 594 3053 \n",
       "L 172 3053 \n",
       "L 172 3500 \n",
       "L 594 3500 \n",
       "L 594 4494 \n",
       "L 1172 4494 \n",
       "z\n",
       "\" transform=\"scale(0.015625)\"/>\n",
       "      </defs>\n",
       "      <use xlink:href=\"#DejaVuSans-41\"/>\n",
       "      <use xlink:href=\"#DejaVuSans-6b\" x=\"68.408203\"/>\n",
       "      <use xlink:href=\"#DejaVuSans-74\" x=\"126.318359\"/>\n",
       "     </g>\n",
       "    </g>\n",
       "   </g>\n",
       "   <g id=\"text_2\">\n",
       "    <g clip-path=\"url(#p3432db487b)\">\n",
       "     <!-- P38 -->\n",
       "     <g transform=\"translate(247.630232 212.701116)scale(0.12 -0.12)\">\n",
       "      <defs>\n",
       "       <path id=\"DejaVuSans-50\" d=\"M 1259 4147 \n",
       "L 1259 2394 \n",
       "L 2053 2394 \n",
       "Q 2494 2394 2734 2622 \n",
       "Q 2975 2850 2975 3272 \n",
       "Q 2975 3691 2734 3919 \n",
       "Q 2494 4147 2053 4147 \n",
       "L 1259 4147 \n",
       "z\n",
       "M 628 4666 \n",
       "L 2053 4666 \n",
       "Q 2838 4666 3239 4311 \n",
       "Q 3641 3956 3641 3272 \n",
       "Q 3641 2581 3239 2228 \n",
       "Q 2838 1875 2053 1875 \n",
       "L 1259 1875 \n",
       "L 1259 0 \n",
       "L 628 0 \n",
       "L 628 4666 \n",
       "z\n",
       "\" transform=\"scale(0.015625)\"/>\n",
       "       <path id=\"DejaVuSans-33\" d=\"M 2597 2516 \n",
       "Q 3050 2419 3304 2112 \n",
       "Q 3559 1806 3559 1356 \n",
       "Q 3559 666 3084 287 \n",
       "Q 2609 -91 1734 -91 \n",
       "Q 1441 -91 1130 -33 \n",
       "Q 819 25 488 141 \n",
       "L 488 750 \n",
       "Q 750 597 1062 519 \n",
       "Q 1375 441 1716 441 \n",
       "Q 2309 441 2620 675 \n",
       "Q 2931 909 2931 1356 \n",
       "Q 2931 1769 2642 2001 \n",
       "Q 2353 2234 1838 2234 \n",
       "L 1294 2234 \n",
       "L 1294 2753 \n",
       "L 1863 2753 \n",
       "Q 2328 2753 2575 2939 \n",
       "Q 2822 3125 2822 3475 \n",
       "Q 2822 3834 2567 4026 \n",
       "Q 2313 4219 1838 4219 \n",
       "Q 1578 4219 1281 4162 \n",
       "Q 984 4106 628 3988 \n",
       "L 628 4550 \n",
       "Q 988 4650 1302 4700 \n",
       "Q 1616 4750 1894 4750 \n",
       "Q 2613 4750 3031 4423 \n",
       "Q 3450 4097 3450 3541 \n",
       "Q 3450 3153 3228 2886 \n",
       "Q 3006 2619 2597 2516 \n",
       "z\n",
       "\" transform=\"scale(0.015625)\"/>\n",
       "       <path id=\"DejaVuSans-38\" d=\"M 2034 2216 \n",
       "Q 1584 2216 1326 1975 \n",
       "Q 1069 1734 1069 1313 \n",
       "Q 1069 891 1326 650 \n",
       "Q 1584 409 2034 409 \n",
       "Q 2484 409 2743 651 \n",
       "Q 3003 894 3003 1313 \n",
       "Q 3003 1734 2745 1975 \n",
       "Q 2488 2216 2034 2216 \n",
       "z\n",
       "M 1403 2484 \n",
       "Q 997 2584 770 2862 \n",
       "Q 544 3141 544 3541 \n",
       "Q 544 4100 942 4425 \n",
       "Q 1341 4750 2034 4750 \n",
       "Q 2731 4750 3128 4425 \n",
       "Q 3525 4100 3525 3541 \n",
       "Q 3525 3141 3298 2862 \n",
       "Q 3072 2584 2669 2484 \n",
       "Q 3125 2378 3379 2068 \n",
       "Q 3634 1759 3634 1313 \n",
       "Q 3634 634 3220 271 \n",
       "Q 2806 -91 2034 -91 \n",
       "Q 1263 -91 848 271 \n",
       "Q 434 634 434 1313 \n",
       "Q 434 1759 690 2068 \n",
       "Q 947 2378 1403 2484 \n",
       "z\n",
       "M 1172 3481 \n",
       "Q 1172 3119 1398 2916 \n",
       "Q 1625 2713 2034 2713 \n",
       "Q 2441 2713 2670 2916 \n",
       "Q 2900 3119 2900 3481 \n",
       "Q 2900 3844 2670 4047 \n",
       "Q 2441 4250 2034 4250 \n",
       "Q 1625 4250 1398 4047 \n",
       "Q 1172 3844 1172 3481 \n",
       "z\n",
       "\" transform=\"scale(0.015625)\"/>\n",
       "      </defs>\n",
       "      <use xlink:href=\"#DejaVuSans-50\"/>\n",
       "      <use xlink:href=\"#DejaVuSans-33\" x=\"60.302734\"/>\n",
       "      <use xlink:href=\"#DejaVuSans-38\" x=\"123.925781\"/>\n",
       "     </g>\n",
       "    </g>\n",
       "   </g>\n",
       "   <g id=\"text_3\">\n",
       "    <g clip-path=\"url(#p3432db487b)\">\n",
       "     <!-- PIP3 -->\n",
       "     <g transform=\"translate(228.2866 61.515559)scale(0.12 -0.12)\">\n",
       "      <defs>\n",
       "       <path id=\"DejaVuSans-49\" d=\"M 628 4666 \n",
       "L 1259 4666 \n",
       "L 1259 0 \n",
       "L 628 0 \n",
       "L 628 4666 \n",
       "z\n",
       "\" transform=\"scale(0.015625)\"/>\n",
       "      </defs>\n",
       "      <use xlink:href=\"#DejaVuSans-50\"/>\n",
       "      <use xlink:href=\"#DejaVuSans-49\" x=\"60.302734\"/>\n",
       "      <use xlink:href=\"#DejaVuSans-50\" x=\"89.794922\"/>\n",
       "      <use xlink:href=\"#DejaVuSans-33\" x=\"150.097656\"/>\n",
       "     </g>\n",
       "    </g>\n",
       "   </g>\n",
       "   <g id=\"text_4\">\n",
       "    <g clip-path=\"url(#p3432db487b)\">\n",
       "     <!-- PIP2 -->\n",
       "     <g transform=\"translate(241.509666 43.888919)scale(0.12 -0.12)\">\n",
       "      <defs>\n",
       "       <path id=\"DejaVuSans-32\" d=\"M 1228 531 \n",
       "L 3431 531 \n",
       "L 3431 0 \n",
       "L 469 0 \n",
       "L 469 531 \n",
       "Q 828 903 1448 1529 \n",
       "Q 2069 2156 2228 2338 \n",
       "Q 2531 2678 2651 2914 \n",
       "Q 2772 3150 2772 3378 \n",
       "Q 2772 3750 2511 3984 \n",
       "Q 2250 4219 1831 4219 \n",
       "Q 1534 4219 1204 4116 \n",
       "Q 875 4013 500 3803 \n",
       "L 500 4441 \n",
       "Q 881 4594 1212 4672 \n",
       "Q 1544 4750 1819 4750 \n",
       "Q 2544 4750 2975 4387 \n",
       "Q 3406 4025 3406 3419 \n",
       "Q 3406 3131 3298 2873 \n",
       "Q 3191 2616 2906 2266 \n",
       "Q 2828 2175 2409 1742 \n",
       "Q 1991 1309 1228 531 \n",
       "z\n",
       "\" transform=\"scale(0.015625)\"/>\n",
       "      </defs>\n",
       "      <use xlink:href=\"#DejaVuSans-50\"/>\n",
       "      <use xlink:href=\"#DejaVuSans-49\" x=\"60.302734\"/>\n",
       "      <use xlink:href=\"#DejaVuSans-50\" x=\"89.794922\"/>\n",
       "      <use xlink:href=\"#DejaVuSans-32\" x=\"150.097656\"/>\n",
       "     </g>\n",
       "    </g>\n",
       "   </g>\n",
       "   <g id=\"text_5\">\n",
       "    <g clip-path=\"url(#p3432db487b)\">\n",
       "     <!-- PKA -->\n",
       "     <g transform=\"translate(224.259702 204.265812)scale(0.12 -0.12)\">\n",
       "      <defs>\n",
       "       <path id=\"DejaVuSans-4b\" d=\"M 628 4666 \n",
       "L 1259 4666 \n",
       "L 1259 2694 \n",
       "L 3353 4666 \n",
       "L 4166 4666 \n",
       "L 1850 2491 \n",
       "L 4331 0 \n",
       "L 3500 0 \n",
       "L 1259 2247 \n",
       "L 1259 0 \n",
       "L 628 0 \n",
       "L 628 4666 \n",
       "z\n",
       "\" transform=\"scale(0.015625)\"/>\n",
       "      </defs>\n",
       "      <use xlink:href=\"#DejaVuSans-50\"/>\n",
       "      <use xlink:href=\"#DejaVuSans-4b\" x=\"60.302734\"/>\n",
       "      <use xlink:href=\"#DejaVuSans-41\" x=\"124.128906\"/>\n",
       "     </g>\n",
       "    </g>\n",
       "   </g>\n",
       "   <g id=\"text_6\">\n",
       "    <g clip-path=\"url(#p3432db487b)\">\n",
       "     <!-- PKC -->\n",
       "     <g transform=\"translate(207.107865 224.624686)scale(0.12 -0.12)\">\n",
       "      <defs>\n",
       "       <path id=\"DejaVuSans-43\" d=\"M 4122 4306 \n",
       "L 4122 3641 \n",
       "Q 3803 3938 3442 4084 \n",
       "Q 3081 4231 2675 4231 \n",
       "Q 1875 4231 1450 3742 \n",
       "Q 1025 3253 1025 2328 \n",
       "Q 1025 1406 1450 917 \n",
       "Q 1875 428 2675 428 \n",
       "Q 3081 428 3442 575 \n",
       "Q 3803 722 4122 1019 \n",
       "L 4122 359 \n",
       "Q 3791 134 3420 21 \n",
       "Q 3050 -91 2638 -91 \n",
       "Q 1578 -91 968 557 \n",
       "Q 359 1206 359 2328 \n",
       "Q 359 3453 968 4101 \n",
       "Q 1578 4750 2638 4750 \n",
       "Q 3056 4750 3426 4639 \n",
       "Q 3797 4528 4122 4306 \n",
       "z\n",
       "\" transform=\"scale(0.015625)\"/>\n",
       "      </defs>\n",
       "      <use xlink:href=\"#DejaVuSans-50\"/>\n",
       "      <use xlink:href=\"#DejaVuSans-4b\" x=\"60.302734\"/>\n",
       "      <use xlink:href=\"#DejaVuSans-43\" x=\"120.378906\"/>\n",
       "     </g>\n",
       "    </g>\n",
       "   </g>\n",
       "   <g id=\"text_7\">\n",
       "    <g clip-path=\"url(#p3432db487b)\">\n",
       "     <!-- Mek -->\n",
       "     <g transform=\"translate(188.806233 196.326093)scale(0.12 -0.12)\">\n",
       "      <defs>\n",
       "       <path id=\"DejaVuSans-4d\" d=\"M 628 4666 \n",
       "L 1569 4666 \n",
       "L 2759 1491 \n",
       "L 3956 4666 \n",
       "L 4897 4666 \n",
       "L 4897 0 \n",
       "L 4281 0 \n",
       "L 4281 4097 \n",
       "L 3078 897 \n",
       "L 2444 897 \n",
       "L 1241 4097 \n",
       "L 1241 0 \n",
       "L 628 0 \n",
       "L 628 4666 \n",
       "z\n",
       "\" transform=\"scale(0.015625)\"/>\n",
       "       <path id=\"DejaVuSans-65\" d=\"M 3597 1894 \n",
       "L 3597 1613 \n",
       "L 953 1613 \n",
       "Q 991 1019 1311 708 \n",
       "Q 1631 397 2203 397 \n",
       "Q 2534 397 2845 478 \n",
       "Q 3156 559 3463 722 \n",
       "L 3463 178 \n",
       "Q 3153 47 2828 -22 \n",
       "Q 2503 -91 2169 -91 \n",
       "Q 1331 -91 842 396 \n",
       "Q 353 884 353 1716 \n",
       "Q 353 2575 817 3079 \n",
       "Q 1281 3584 2069 3584 \n",
       "Q 2775 3584 3186 3129 \n",
       "Q 3597 2675 3597 1894 \n",
       "z\n",
       "M 3022 2063 \n",
       "Q 3016 2534 2758 2815 \n",
       "Q 2500 3097 2075 3097 \n",
       "Q 1594 3097 1305 2825 \n",
       "Q 1016 2553 972 2059 \n",
       "L 3022 2063 \n",
       "z\n",
       "\" transform=\"scale(0.015625)\"/>\n",
       "      </defs>\n",
       "      <use xlink:href=\"#DejaVuSans-4d\"/>\n",
       "      <use xlink:href=\"#DejaVuSans-65\" x=\"86.279297\"/>\n",
       "      <use xlink:href=\"#DejaVuSans-6b\" x=\"147.802734\"/>\n",
       "     </g>\n",
       "    </g>\n",
       "   </g>\n",
       "   <g id=\"text_8\">\n",
       "    <g clip-path=\"url(#p3432db487b)\">\n",
       "     <!-- Jnk -->\n",
       "     <g transform=\"translate(215.127004 197.622882)scale(0.12 -0.12)\">\n",
       "      <defs>\n",
       "       <path id=\"DejaVuSans-4a\" d=\"M 628 4666 \n",
       "L 1259 4666 \n",
       "L 1259 325 \n",
       "Q 1259 -519 939 -900 \n",
       "Q 619 -1281 -91 -1281 \n",
       "L -331 -1281 \n",
       "L -331 -750 \n",
       "L -134 -750 \n",
       "Q 284 -750 456 -515 \n",
       "Q 628 -281 628 325 \n",
       "L 628 4666 \n",
       "z\n",
       "\" transform=\"scale(0.015625)\"/>\n",
       "       <path id=\"DejaVuSans-6e\" d=\"M 3513 2113 \n",
       "L 3513 0 \n",
       "L 2938 0 \n",
       "L 2938 2094 \n",
       "Q 2938 2591 2744 2837 \n",
       "Q 2550 3084 2163 3084 \n",
       "Q 1697 3084 1428 2787 \n",
       "Q 1159 2491 1159 1978 \n",
       "L 1159 0 \n",
       "L 581 0 \n",
       "L 581 3500 \n",
       "L 1159 3500 \n",
       "L 1159 2956 \n",
       "Q 1366 3272 1645 3428 \n",
       "Q 1925 3584 2291 3584 \n",
       "Q 2894 3584 3203 3211 \n",
       "Q 3513 2838 3513 2113 \n",
       "z\n",
       "\" transform=\"scale(0.015625)\"/>\n",
       "      </defs>\n",
       "      <use xlink:href=\"#DejaVuSans-4a\"/>\n",
       "      <use xlink:href=\"#DejaVuSans-6e\" x=\"29.492188\"/>\n",
       "      <use xlink:href=\"#DejaVuSans-6b\" x=\"92.871094\"/>\n",
       "     </g>\n",
       "    </g>\n",
       "   </g>\n",
       "   <g id=\"text_9\">\n",
       "    <g clip-path=\"url(#p3432db487b)\">\n",
       "     <!-- Erk -->\n",
       "     <g transform=\"translate(204.291815 203.866826)scale(0.12 -0.12)\">\n",
       "      <defs>\n",
       "       <path id=\"DejaVuSans-45\" d=\"M 628 4666 \n",
       "L 3578 4666 \n",
       "L 3578 4134 \n",
       "L 1259 4134 \n",
       "L 1259 2753 \n",
       "L 3481 2753 \n",
       "L 3481 2222 \n",
       "L 1259 2222 \n",
       "L 1259 531 \n",
       "L 3634 531 \n",
       "L 3634 0 \n",
       "L 628 0 \n",
       "L 628 4666 \n",
       "z\n",
       "\" transform=\"scale(0.015625)\"/>\n",
       "       <path id=\"DejaVuSans-72\" d=\"M 2631 2963 \n",
       "Q 2534 3019 2420 3045 \n",
       "Q 2306 3072 2169 3072 \n",
       "Q 1681 3072 1420 2755 \n",
       "Q 1159 2438 1159 1844 \n",
       "L 1159 0 \n",
       "L 581 0 \n",
       "L 581 3500 \n",
       "L 1159 3500 \n",
       "L 1159 2956 \n",
       "Q 1341 3275 1631 3429 \n",
       "Q 1922 3584 2338 3584 \n",
       "Q 2397 3584 2469 3576 \n",
       "Q 2541 3569 2628 3553 \n",
       "L 2631 2963 \n",
       "z\n",
       "\" transform=\"scale(0.015625)\"/>\n",
       "      </defs>\n",
       "      <use xlink:href=\"#DejaVuSans-45\"/>\n",
       "      <use xlink:href=\"#DejaVuSans-72\" x=\"63.183594\"/>\n",
       "      <use xlink:href=\"#DejaVuSans-6b\" x=\"104.296875\"/>\n",
       "     </g>\n",
       "    </g>\n",
       "   </g>\n",
       "   <g id=\"text_10\">\n",
       "    <g clip-path=\"url(#p3432db487b)\">\n",
       "     <!-- Raf -->\n",
       "     <g transform=\"translate(391.889272 128.720474)scale(0.12 -0.12)\">\n",
       "      <defs>\n",
       "       <path id=\"DejaVuSans-52\" d=\"M 2841 2188 \n",
       "Q 3044 2119 3236 1894 \n",
       "Q 3428 1669 3622 1275 \n",
       "L 4263 0 \n",
       "L 3584 0 \n",
       "L 2988 1197 \n",
       "Q 2756 1666 2539 1819 \n",
       "Q 2322 1972 1947 1972 \n",
       "L 1259 1972 \n",
       "L 1259 0 \n",
       "L 628 0 \n",
       "L 628 4666 \n",
       "L 2053 4666 \n",
       "Q 2853 4666 3247 4331 \n",
       "Q 3641 3997 3641 3322 \n",
       "Q 3641 2881 3436 2590 \n",
       "Q 3231 2300 2841 2188 \n",
       "z\n",
       "M 1259 4147 \n",
       "L 1259 2491 \n",
       "L 2053 2491 \n",
       "Q 2509 2491 2742 2702 \n",
       "Q 2975 2913 2975 3322 \n",
       "Q 2975 3731 2742 3939 \n",
       "Q 2509 4147 2053 4147 \n",
       "L 1259 4147 \n",
       "z\n",
       "\" transform=\"scale(0.015625)\"/>\n",
       "       <path id=\"DejaVuSans-61\" d=\"M 2194 1759 \n",
       "Q 1497 1759 1228 1600 \n",
       "Q 959 1441 959 1056 \n",
       "Q 959 750 1161 570 \n",
       "Q 1363 391 1709 391 \n",
       "Q 2188 391 2477 730 \n",
       "Q 2766 1069 2766 1631 \n",
       "L 2766 1759 \n",
       "L 2194 1759 \n",
       "z\n",
       "M 3341 1997 \n",
       "L 3341 0 \n",
       "L 2766 0 \n",
       "L 2766 531 \n",
       "Q 2569 213 2275 61 \n",
       "Q 1981 -91 1556 -91 \n",
       "Q 1019 -91 701 211 \n",
       "Q 384 513 384 1019 \n",
       "Q 384 1609 779 1909 \n",
       "Q 1175 2209 1959 2209 \n",
       "L 2766 2209 \n",
       "L 2766 2266 \n",
       "Q 2766 2663 2505 2880 \n",
       "Q 2244 3097 1772 3097 \n",
       "Q 1472 3097 1187 3025 \n",
       "Q 903 2953 641 2809 \n",
       "L 641 3341 \n",
       "Q 956 3463 1253 3523 \n",
       "Q 1550 3584 1831 3584 \n",
       "Q 2591 3584 2966 3190 \n",
       "Q 3341 2797 3341 1997 \n",
       "z\n",
       "\" transform=\"scale(0.015625)\"/>\n",
       "       <path id=\"DejaVuSans-66\" d=\"M 2375 4863 \n",
       "L 2375 4384 \n",
       "L 1825 4384 \n",
       "Q 1516 4384 1395 4259 \n",
       "Q 1275 4134 1275 3809 \n",
       "L 1275 3500 \n",
       "L 2222 3500 \n",
       "L 2222 3053 \n",
       "L 1275 3053 \n",
       "L 1275 0 \n",
       "L 697 0 \n",
       "L 697 3053 \n",
       "L 147 3053 \n",
       "L 147 3500 \n",
       "L 697 3500 \n",
       "L 697 3744 \n",
       "Q 697 4328 969 4595 \n",
       "Q 1241 4863 1831 4863 \n",
       "L 2375 4863 \n",
       "z\n",
       "\" transform=\"scale(0.015625)\"/>\n",
       "      </defs>\n",
       "      <use xlink:href=\"#DejaVuSans-52\"/>\n",
       "      <use xlink:href=\"#DejaVuSans-61\" x=\"67.232422\"/>\n",
       "      <use xlink:href=\"#DejaVuSans-66\" x=\"128.511719\"/>\n",
       "     </g>\n",
       "    </g>\n",
       "   </g>\n",
       "   <g id=\"text_11\">\n",
       "    <g clip-path=\"url(#p3432db487b)\">\n",
       "     <!-- Plcg -->\n",
       "     <g transform=\"translate(318.815547 35.502986)scale(0.12 -0.12)\">\n",
       "      <defs>\n",
       "       <path id=\"DejaVuSans-6c\" d=\"M 603 4863 \n",
       "L 1178 4863 \n",
       "L 1178 0 \n",
       "L 603 0 \n",
       "L 603 4863 \n",
       "z\n",
       "\" transform=\"scale(0.015625)\"/>\n",
       "       <path id=\"DejaVuSans-63\" d=\"M 3122 3366 \n",
       "L 3122 2828 \n",
       "Q 2878 2963 2633 3030 \n",
       "Q 2388 3097 2138 3097 \n",
       "Q 1578 3097 1268 2742 \n",
       "Q 959 2388 959 1747 \n",
       "Q 959 1106 1268 751 \n",
       "Q 1578 397 2138 397 \n",
       "Q 2388 397 2633 464 \n",
       "Q 2878 531 3122 666 \n",
       "L 3122 134 \n",
       "Q 2881 22 2623 -34 \n",
       "Q 2366 -91 2075 -91 \n",
       "Q 1284 -91 818 406 \n",
       "Q 353 903 353 1747 \n",
       "Q 353 2603 823 3093 \n",
       "Q 1294 3584 2113 3584 \n",
       "Q 2378 3584 2631 3529 \n",
       "Q 2884 3475 3122 3366 \n",
       "z\n",
       "\" transform=\"scale(0.015625)\"/>\n",
       "       <path id=\"DejaVuSans-67\" d=\"M 2906 1791 \n",
       "Q 2906 2416 2648 2759 \n",
       "Q 2391 3103 1925 3103 \n",
       "Q 1463 3103 1205 2759 \n",
       "Q 947 2416 947 1791 \n",
       "Q 947 1169 1205 825 \n",
       "Q 1463 481 1925 481 \n",
       "Q 2391 481 2648 825 \n",
       "Q 2906 1169 2906 1791 \n",
       "z\n",
       "M 3481 434 \n",
       "Q 3481 -459 3084 -895 \n",
       "Q 2688 -1331 1869 -1331 \n",
       "Q 1566 -1331 1297 -1286 \n",
       "Q 1028 -1241 775 -1147 \n",
       "L 775 -588 \n",
       "Q 1028 -725 1275 -790 \n",
       "Q 1522 -856 1778 -856 \n",
       "Q 2344 -856 2625 -561 \n",
       "Q 2906 -266 2906 331 \n",
       "L 2906 616 \n",
       "Q 2728 306 2450 153 \n",
       "Q 2172 0 1784 0 \n",
       "Q 1141 0 747 490 \n",
       "Q 353 981 353 1791 \n",
       "Q 353 2603 747 3093 \n",
       "Q 1141 3584 1784 3584 \n",
       "Q 2172 3584 2450 3431 \n",
       "Q 2728 3278 2906 2969 \n",
       "L 2906 3500 \n",
       "L 3481 3500 \n",
       "L 3481 434 \n",
       "z\n",
       "\" transform=\"scale(0.015625)\"/>\n",
       "      </defs>\n",
       "      <use xlink:href=\"#DejaVuSans-50\"/>\n",
       "      <use xlink:href=\"#DejaVuSans-6c\" x=\"60.302734\"/>\n",
       "      <use xlink:href=\"#DejaVuSans-63\" x=\"88.085938\"/>\n",
       "      <use xlink:href=\"#DejaVuSans-67\" x=\"143.066406\"/>\n",
       "     </g>\n",
       "    </g>\n",
       "   </g>\n",
       "  </g>\n",
       " </g>\n",
       " <defs>\n",
       "  <clipPath id=\"p3432db487b\">\n",
       "   <rect x=\"7.2\" y=\"7.2\" width=\"432\" height=\"288\"/>\n",
       "  </clipPath>\n",
       " </defs>\n",
       "</svg>\n"
      ],
      "text/plain": [
       "<Figure size 432x288 with 1 Axes>"
      ]
     },
     "metadata": {},
     "output_type": "display_data"
    },
    {
     "data": {
      "image/svg+xml": [
       "<?xml version=\"1.0\" encoding=\"utf-8\" standalone=\"no\"?>\n",
       "<!DOCTYPE svg PUBLIC \"-//W3C//DTD SVG 1.1//EN\"\n",
       "  \"http://www.w3.org/Graphics/SVG/1.1/DTD/svg11.dtd\">\n",
       "<svg xmlns:xlink=\"http://www.w3.org/1999/xlink\" width=\"446.4pt\" height=\"302.4pt\" viewBox=\"0 0 446.4 302.4\" xmlns=\"http://www.w3.org/2000/svg\" version=\"1.1\">\n",
       " <metadata>\n",
       "  <rdf:RDF xmlns:dc=\"http://purl.org/dc/elements/1.1/\" xmlns:cc=\"http://creativecommons.org/ns#\" xmlns:rdf=\"http://www.w3.org/1999/02/22-rdf-syntax-ns#\">\n",
       "   <cc:Work>\n",
       "    <dc:type rdf:resource=\"http://purl.org/dc/dcmitype/StillImage\"/>\n",
       "    <dc:date>2022-01-31T03:32:44.904205</dc:date>\n",
       "    <dc:format>image/svg+xml</dc:format>\n",
       "    <dc:creator>\n",
       "     <cc:Agent>\n",
       "      <dc:title>Matplotlib v3.5.1, https://matplotlib.org/</dc:title>\n",
       "     </cc:Agent>\n",
       "    </dc:creator>\n",
       "   </cc:Work>\n",
       "  </rdf:RDF>\n",
       " </metadata>\n",
       " <defs>\n",
       "  <style type=\"text/css\">*{stroke-linejoin: round; stroke-linecap: butt}</style>\n",
       " </defs>\n",
       " <g id=\"figure_1\">\n",
       "  <g id=\"patch_1\">\n",
       "   <path d=\"M 0 302.4 \n",
       "L 446.4 302.4 \n",
       "L 446.4 0 \n",
       "L 0 0 \n",
       "z\n",
       "\" style=\"fill: #ffffff\"/>\n",
       "  </g>\n",
       "  <g id=\"axes_1\">\n",
       "   <g id=\"patch_2\">\n",
       "    <path d=\"M 357.154964 194.689619 \n",
       "Q 382.481087 201.191459 406.724292 207.415288 \n",
       "\" clip-path=\"url(#pf1da051923)\" style=\"fill: none; stroke: #000000; stroke-linecap: round\"/>\n",
       "    <path d=\"M 403.347252 204.483463 \n",
       "L 406.724292 207.415288 \n",
       "L 402.352607 208.357825 \n",
       "L 403.347252 204.483463 \n",
       "z\n",
       "\" clip-path=\"url(#pf1da051923)\" style=\"stroke: #000000; stroke-linecap: round\"/>\n",
       "   </g>\n",
       "   <g id=\"PathCollection_1\">\n",
       "    <defs>\n",
       "     <path id=\"m0aeefe4a7d\" d=\"M 0 8.660254 \n",
       "C 2.296726 8.660254 4.499694 7.747755 6.123724 6.123724 \n",
       "C 7.747755 4.499694 8.660254 2.296726 8.660254 0 \n",
       "C 8.660254 -2.296726 7.747755 -4.499694 6.123724 -6.123724 \n",
       "C 4.499694 -7.747755 2.296726 -8.660254 0 -8.660254 \n",
       "C -2.296726 -8.660254 -4.499694 -7.747755 -6.123724 -6.123724 \n",
       "C -7.747755 -4.499694 -8.660254 -2.296726 -8.660254 0 \n",
       "C -8.660254 2.296726 -7.747755 4.499694 -6.123724 6.123724 \n",
       "C -4.499694 7.747755 -2.296726 8.660254 0 8.660254 \n",
       "z\n",
       "\" style=\"stroke: #1f78b4\"/>\n",
       "    </defs>\n",
       "    <g clip-path=\"url(#pf1da051923)\">\n",
       "     <use xlink:href=\"#m0aeefe4a7d\" x=\"347.840119\" y=\"282.109091\" style=\"fill: #1f78b4; stroke: #1f78b4\"/>\n",
       "     <use xlink:href=\"#m0aeefe4a7d\" x=\"121.733355\" y=\"33.392635\" style=\"fill: #1f78b4; stroke: #1f78b4\"/>\n",
       "     <use xlink:href=\"#m0aeefe4a7d\" x=\"37.855115\" y=\"105.295184\" style=\"fill: #1f78b4; stroke: #1f78b4\"/>\n",
       "     <use xlink:href=\"#m0aeefe4a7d\" x=\"104.851387\" y=\"257.572872\" style=\"fill: #1f78b4; stroke: #1f78b4\"/>\n",
       "     <use xlink:href=\"#m0aeefe4a7d\" x=\"416.192197\" y=\"209.845933\" style=\"fill: #1f78b4; stroke: #1f78b4\"/>\n",
       "     <use xlink:href=\"#m0aeefe4a7d\" x=\"348.763405\" y=\"192.535299\" style=\"fill: #1f78b4; stroke: #1f78b4\"/>\n",
       "     <use xlink:href=\"#m0aeefe4a7d\" x=\"218.144144\" y=\"279.989475\" style=\"fill: #1f78b4; stroke: #1f78b4\"/>\n",
       "     <use xlink:href=\"#m0aeefe4a7d\" x=\"26.836364\" y=\"190.293103\" style=\"fill: #1f78b4; stroke: #1f78b4\"/>\n",
       "     <use xlink:href=\"#m0aeefe4a7d\" x=\"384.023347\" y=\"46.713773\" style=\"fill: #1f78b4; stroke: #1f78b4\"/>\n",
       "     <use xlink:href=\"#m0aeefe4a7d\" x=\"257.831561\" y=\"20.290909\" style=\"fill: #1f78b4; stroke: #1f78b4\"/>\n",
       "     <use xlink:href=\"#m0aeefe4a7d\" x=\"413.004545\" y=\"117.761485\" style=\"fill: #1f78b4; stroke: #1f78b4\"/>\n",
       "    </g>\n",
       "   </g>\n",
       "   <g id=\"text_1\">\n",
       "    <g clip-path=\"url(#pf1da051923)\">\n",
       "     <!-- Akt -->\n",
       "     <g transform=\"translate(337.909182 285.420341)scale(0.12 -0.12)\">\n",
       "      <defs>\n",
       "       <path id=\"DejaVuSans-41\" d=\"M 2188 4044 \n",
       "L 1331 1722 \n",
       "L 3047 1722 \n",
       "L 2188 4044 \n",
       "z\n",
       "M 1831 4666 \n",
       "L 2547 4666 \n",
       "L 4325 0 \n",
       "L 3669 0 \n",
       "L 3244 1197 \n",
       "L 1141 1197 \n",
       "L 716 0 \n",
       "L 50 0 \n",
       "L 1831 4666 \n",
       "z\n",
       "\" transform=\"scale(0.015625)\"/>\n",
       "       <path id=\"DejaVuSans-6b\" d=\"M 581 4863 \n",
       "L 1159 4863 \n",
       "L 1159 1991 \n",
       "L 2875 3500 \n",
       "L 3609 3500 \n",
       "L 1753 1863 \n",
       "L 3688 0 \n",
       "L 2938 0 \n",
       "L 1159 1709 \n",
       "L 1159 0 \n",
       "L 581 0 \n",
       "L 581 4863 \n",
       "z\n",
       "\" transform=\"scale(0.015625)\"/>\n",
       "       <path id=\"DejaVuSans-74\" d=\"M 1172 4494 \n",
       "L 1172 3500 \n",
       "L 2356 3500 \n",
       "L 2356 3053 \n",
       "L 1172 3053 \n",
       "L 1172 1153 \n",
       "Q 1172 725 1289 603 \n",
       "Q 1406 481 1766 481 \n",
       "L 2356 481 \n",
       "L 2356 0 \n",
       "L 1766 0 \n",
       "Q 1100 0 847 248 \n",
       "Q 594 497 594 1153 \n",
       "L 594 3053 \n",
       "L 172 3053 \n",
       "L 172 3500 \n",
       "L 594 3500 \n",
       "L 594 4494 \n",
       "L 1172 4494 \n",
       "z\n",
       "\" transform=\"scale(0.015625)\"/>\n",
       "      </defs>\n",
       "      <use xlink:href=\"#DejaVuSans-41\"/>\n",
       "      <use xlink:href=\"#DejaVuSans-6b\" x=\"68.408203\"/>\n",
       "      <use xlink:href=\"#DejaVuSans-74\" x=\"126.318359\"/>\n",
       "     </g>\n",
       "    </g>\n",
       "   </g>\n",
       "   <g id=\"text_2\">\n",
       "    <g clip-path=\"url(#pf1da051923)\">\n",
       "     <!-- P38 -->\n",
       "     <g transform=\"translate(110.480543 36.703885)scale(0.12 -0.12)\">\n",
       "      <defs>\n",
       "       <path id=\"DejaVuSans-50\" d=\"M 1259 4147 \n",
       "L 1259 2394 \n",
       "L 2053 2394 \n",
       "Q 2494 2394 2734 2622 \n",
       "Q 2975 2850 2975 3272 \n",
       "Q 2975 3691 2734 3919 \n",
       "Q 2494 4147 2053 4147 \n",
       "L 1259 4147 \n",
       "z\n",
       "M 628 4666 \n",
       "L 2053 4666 \n",
       "Q 2838 4666 3239 4311 \n",
       "Q 3641 3956 3641 3272 \n",
       "Q 3641 2581 3239 2228 \n",
       "Q 2838 1875 2053 1875 \n",
       "L 1259 1875 \n",
       "L 1259 0 \n",
       "L 628 0 \n",
       "L 628 4666 \n",
       "z\n",
       "\" transform=\"scale(0.015625)\"/>\n",
       "       <path id=\"DejaVuSans-33\" d=\"M 2597 2516 \n",
       "Q 3050 2419 3304 2112 \n",
       "Q 3559 1806 3559 1356 \n",
       "Q 3559 666 3084 287 \n",
       "Q 2609 -91 1734 -91 \n",
       "Q 1441 -91 1130 -33 \n",
       "Q 819 25 488 141 \n",
       "L 488 750 \n",
       "Q 750 597 1062 519 \n",
       "Q 1375 441 1716 441 \n",
       "Q 2309 441 2620 675 \n",
       "Q 2931 909 2931 1356 \n",
       "Q 2931 1769 2642 2001 \n",
       "Q 2353 2234 1838 2234 \n",
       "L 1294 2234 \n",
       "L 1294 2753 \n",
       "L 1863 2753 \n",
       "Q 2328 2753 2575 2939 \n",
       "Q 2822 3125 2822 3475 \n",
       "Q 2822 3834 2567 4026 \n",
       "Q 2313 4219 1838 4219 \n",
       "Q 1578 4219 1281 4162 \n",
       "Q 984 4106 628 3988 \n",
       "L 628 4550 \n",
       "Q 988 4650 1302 4700 \n",
       "Q 1616 4750 1894 4750 \n",
       "Q 2613 4750 3031 4423 \n",
       "Q 3450 4097 3450 3541 \n",
       "Q 3450 3153 3228 2886 \n",
       "Q 3006 2619 2597 2516 \n",
       "z\n",
       "\" transform=\"scale(0.015625)\"/>\n",
       "       <path id=\"DejaVuSans-38\" d=\"M 2034 2216 \n",
       "Q 1584 2216 1326 1975 \n",
       "Q 1069 1734 1069 1313 \n",
       "Q 1069 891 1326 650 \n",
       "Q 1584 409 2034 409 \n",
       "Q 2484 409 2743 651 \n",
       "Q 3003 894 3003 1313 \n",
       "Q 3003 1734 2745 1975 \n",
       "Q 2488 2216 2034 2216 \n",
       "z\n",
       "M 1403 2484 \n",
       "Q 997 2584 770 2862 \n",
       "Q 544 3141 544 3541 \n",
       "Q 544 4100 942 4425 \n",
       "Q 1341 4750 2034 4750 \n",
       "Q 2731 4750 3128 4425 \n",
       "Q 3525 4100 3525 3541 \n",
       "Q 3525 3141 3298 2862 \n",
       "Q 3072 2584 2669 2484 \n",
       "Q 3125 2378 3379 2068 \n",
       "Q 3634 1759 3634 1313 \n",
       "Q 3634 634 3220 271 \n",
       "Q 2806 -91 2034 -91 \n",
       "Q 1263 -91 848 271 \n",
       "Q 434 634 434 1313 \n",
       "Q 434 1759 690 2068 \n",
       "Q 947 2378 1403 2484 \n",
       "z\n",
       "M 1172 3481 \n",
       "Q 1172 3119 1398 2916 \n",
       "Q 1625 2713 2034 2713 \n",
       "Q 2441 2713 2670 2916 \n",
       "Q 2900 3119 2900 3481 \n",
       "Q 2900 3844 2670 4047 \n",
       "Q 2441 4250 2034 4250 \n",
       "Q 1625 4250 1398 4047 \n",
       "Q 1172 3844 1172 3481 \n",
       "z\n",
       "\" transform=\"scale(0.015625)\"/>\n",
       "      </defs>\n",
       "      <use xlink:href=\"#DejaVuSans-50\"/>\n",
       "      <use xlink:href=\"#DejaVuSans-33\" x=\"60.302734\"/>\n",
       "      <use xlink:href=\"#DejaVuSans-38\" x=\"123.925781\"/>\n",
       "     </g>\n",
       "    </g>\n",
       "   </g>\n",
       "   <g id=\"text_3\">\n",
       "    <g clip-path=\"url(#pf1da051923)\">\n",
       "     <!-- PIP3 -->\n",
       "     <g transform=\"translate(25.03199 108.606434)scale(0.12 -0.12)\">\n",
       "      <defs>\n",
       "       <path id=\"DejaVuSans-49\" d=\"M 628 4666 \n",
       "L 1259 4666 \n",
       "L 1259 0 \n",
       "L 628 0 \n",
       "L 628 4666 \n",
       "z\n",
       "\" transform=\"scale(0.015625)\"/>\n",
       "      </defs>\n",
       "      <use xlink:href=\"#DejaVuSans-50\"/>\n",
       "      <use xlink:href=\"#DejaVuSans-49\" x=\"60.302734\"/>\n",
       "      <use xlink:href=\"#DejaVuSans-50\" x=\"89.794922\"/>\n",
       "      <use xlink:href=\"#DejaVuSans-33\" x=\"150.097656\"/>\n",
       "     </g>\n",
       "    </g>\n",
       "   </g>\n",
       "   <g id=\"text_4\">\n",
       "    <g clip-path=\"url(#pf1da051923)\">\n",
       "     <!-- PIP2 -->\n",
       "     <g transform=\"translate(92.028262 260.884122)scale(0.12 -0.12)\">\n",
       "      <defs>\n",
       "       <path id=\"DejaVuSans-32\" d=\"M 1228 531 \n",
       "L 3431 531 \n",
       "L 3431 0 \n",
       "L 469 0 \n",
       "L 469 531 \n",
       "Q 828 903 1448 1529 \n",
       "Q 2069 2156 2228 2338 \n",
       "Q 2531 2678 2651 2914 \n",
       "Q 2772 3150 2772 3378 \n",
       "Q 2772 3750 2511 3984 \n",
       "Q 2250 4219 1831 4219 \n",
       "Q 1534 4219 1204 4116 \n",
       "Q 875 4013 500 3803 \n",
       "L 500 4441 \n",
       "Q 881 4594 1212 4672 \n",
       "Q 1544 4750 1819 4750 \n",
       "Q 2544 4750 2975 4387 \n",
       "Q 3406 4025 3406 3419 \n",
       "Q 3406 3131 3298 2873 \n",
       "Q 3191 2616 2906 2266 \n",
       "Q 2828 2175 2409 1742 \n",
       "Q 1991 1309 1228 531 \n",
       "z\n",
       "\" transform=\"scale(0.015625)\"/>\n",
       "      </defs>\n",
       "      <use xlink:href=\"#DejaVuSans-50\"/>\n",
       "      <use xlink:href=\"#DejaVuSans-49\" x=\"60.302734\"/>\n",
       "      <use xlink:href=\"#DejaVuSans-50\" x=\"89.794922\"/>\n",
       "      <use xlink:href=\"#DejaVuSans-32\" x=\"150.097656\"/>\n",
       "     </g>\n",
       "    </g>\n",
       "   </g>\n",
       "   <g id=\"text_5\">\n",
       "    <g clip-path=\"url(#pf1da051923)\">\n",
       "     <!-- PKA -->\n",
       "     <g transform=\"translate(404.640322 213.157183)scale(0.12 -0.12)\">\n",
       "      <defs>\n",
       "       <path id=\"DejaVuSans-4b\" d=\"M 628 4666 \n",
       "L 1259 4666 \n",
       "L 1259 2694 \n",
       "L 3353 4666 \n",
       "L 4166 4666 \n",
       "L 1850 2491 \n",
       "L 4331 0 \n",
       "L 3500 0 \n",
       "L 1259 2247 \n",
       "L 1259 0 \n",
       "L 628 0 \n",
       "L 628 4666 \n",
       "z\n",
       "\" transform=\"scale(0.015625)\"/>\n",
       "      </defs>\n",
       "      <use xlink:href=\"#DejaVuSans-50\"/>\n",
       "      <use xlink:href=\"#DejaVuSans-4b\" x=\"60.302734\"/>\n",
       "      <use xlink:href=\"#DejaVuSans-41\" x=\"124.128906\"/>\n",
       "     </g>\n",
       "    </g>\n",
       "   </g>\n",
       "   <g id=\"text_6\">\n",
       "    <g clip-path=\"url(#pf1da051923)\">\n",
       "     <!-- PKC -->\n",
       "     <g transform=\"translate(337.351217 195.846549)scale(0.12 -0.12)\">\n",
       "      <defs>\n",
       "       <path id=\"DejaVuSans-43\" d=\"M 4122 4306 \n",
       "L 4122 3641 \n",
       "Q 3803 3938 3442 4084 \n",
       "Q 3081 4231 2675 4231 \n",
       "Q 1875 4231 1450 3742 \n",
       "Q 1025 3253 1025 2328 \n",
       "Q 1025 1406 1450 917 \n",
       "Q 1875 428 2675 428 \n",
       "Q 3081 428 3442 575 \n",
       "Q 3803 722 4122 1019 \n",
       "L 4122 359 \n",
       "Q 3791 134 3420 21 \n",
       "Q 3050 -91 2638 -91 \n",
       "Q 1578 -91 968 557 \n",
       "Q 359 1206 359 2328 \n",
       "Q 359 3453 968 4101 \n",
       "Q 1578 4750 2638 4750 \n",
       "Q 3056 4750 3426 4639 \n",
       "Q 3797 4528 4122 4306 \n",
       "z\n",
       "\" transform=\"scale(0.015625)\"/>\n",
       "      </defs>\n",
       "      <use xlink:href=\"#DejaVuSans-50\"/>\n",
       "      <use xlink:href=\"#DejaVuSans-4b\" x=\"60.302734\"/>\n",
       "      <use xlink:href=\"#DejaVuSans-43\" x=\"120.378906\"/>\n",
       "     </g>\n",
       "    </g>\n",
       "   </g>\n",
       "   <g id=\"text_7\">\n",
       "    <g clip-path=\"url(#pf1da051923)\">\n",
       "     <!-- Mek -->\n",
       "     <g transform=\"translate(205.801019 283.300725)scale(0.12 -0.12)\">\n",
       "      <defs>\n",
       "       <path id=\"DejaVuSans-4d\" d=\"M 628 4666 \n",
       "L 1569 4666 \n",
       "L 2759 1491 \n",
       "L 3956 4666 \n",
       "L 4897 4666 \n",
       "L 4897 0 \n",
       "L 4281 0 \n",
       "L 4281 4097 \n",
       "L 3078 897 \n",
       "L 2444 897 \n",
       "L 1241 4097 \n",
       "L 1241 0 \n",
       "L 628 0 \n",
       "L 628 4666 \n",
       "z\n",
       "\" transform=\"scale(0.015625)\"/>\n",
       "       <path id=\"DejaVuSans-65\" d=\"M 3597 1894 \n",
       "L 3597 1613 \n",
       "L 953 1613 \n",
       "Q 991 1019 1311 708 \n",
       "Q 1631 397 2203 397 \n",
       "Q 2534 397 2845 478 \n",
       "Q 3156 559 3463 722 \n",
       "L 3463 178 \n",
       "Q 3153 47 2828 -22 \n",
       "Q 2503 -91 2169 -91 \n",
       "Q 1331 -91 842 396 \n",
       "Q 353 884 353 1716 \n",
       "Q 353 2575 817 3079 \n",
       "Q 1281 3584 2069 3584 \n",
       "Q 2775 3584 3186 3129 \n",
       "Q 3597 2675 3597 1894 \n",
       "z\n",
       "M 3022 2063 \n",
       "Q 3016 2534 2758 2815 \n",
       "Q 2500 3097 2075 3097 \n",
       "Q 1594 3097 1305 2825 \n",
       "Q 1016 2553 972 2059 \n",
       "L 3022 2063 \n",
       "z\n",
       "\" transform=\"scale(0.015625)\"/>\n",
       "      </defs>\n",
       "      <use xlink:href=\"#DejaVuSans-4d\"/>\n",
       "      <use xlink:href=\"#DejaVuSans-65\" x=\"86.279297\"/>\n",
       "      <use xlink:href=\"#DejaVuSans-6b\" x=\"147.802734\"/>\n",
       "     </g>\n",
       "    </g>\n",
       "   </g>\n",
       "   <g id=\"text_8\">\n",
       "    <g clip-path=\"url(#pf1da051923)\">\n",
       "     <!-- Jnk -->\n",
       "     <g transform=\"translate(17.789489 193.604353)scale(0.12 -0.12)\">\n",
       "      <defs>\n",
       "       <path id=\"DejaVuSans-4a\" d=\"M 628 4666 \n",
       "L 1259 4666 \n",
       "L 1259 325 \n",
       "Q 1259 -519 939 -900 \n",
       "Q 619 -1281 -91 -1281 \n",
       "L -331 -1281 \n",
       "L -331 -750 \n",
       "L -134 -750 \n",
       "Q 284 -750 456 -515 \n",
       "Q 628 -281 628 325 \n",
       "L 628 4666 \n",
       "z\n",
       "\" transform=\"scale(0.015625)\"/>\n",
       "       <path id=\"DejaVuSans-6e\" d=\"M 3513 2113 \n",
       "L 3513 0 \n",
       "L 2938 0 \n",
       "L 2938 2094 \n",
       "Q 2938 2591 2744 2837 \n",
       "Q 2550 3084 2163 3084 \n",
       "Q 1697 3084 1428 2787 \n",
       "Q 1159 2491 1159 1978 \n",
       "L 1159 0 \n",
       "L 581 0 \n",
       "L 581 3500 \n",
       "L 1159 3500 \n",
       "L 1159 2956 \n",
       "Q 1366 3272 1645 3428 \n",
       "Q 1925 3584 2291 3584 \n",
       "Q 2894 3584 3203 3211 \n",
       "Q 3513 2838 3513 2113 \n",
       "z\n",
       "\" transform=\"scale(0.015625)\"/>\n",
       "      </defs>\n",
       "      <use xlink:href=\"#DejaVuSans-4a\"/>\n",
       "      <use xlink:href=\"#DejaVuSans-6e\" x=\"29.492188\"/>\n",
       "      <use xlink:href=\"#DejaVuSans-6b\" x=\"92.871094\"/>\n",
       "     </g>\n",
       "    </g>\n",
       "   </g>\n",
       "   <g id=\"text_9\">\n",
       "    <g clip-path=\"url(#pf1da051923)\">\n",
       "     <!-- Erk -->\n",
       "     <g transform=\"translate(374.29116 50.025023)scale(0.12 -0.12)\">\n",
       "      <defs>\n",
       "       <path id=\"DejaVuSans-45\" d=\"M 628 4666 \n",
       "L 3578 4666 \n",
       "L 3578 4134 \n",
       "L 1259 4134 \n",
       "L 1259 2753 \n",
       "L 3481 2753 \n",
       "L 3481 2222 \n",
       "L 1259 2222 \n",
       "L 1259 531 \n",
       "L 3634 531 \n",
       "L 3634 0 \n",
       "L 628 0 \n",
       "L 628 4666 \n",
       "z\n",
       "\" transform=\"scale(0.015625)\"/>\n",
       "       <path id=\"DejaVuSans-72\" d=\"M 2631 2963 \n",
       "Q 2534 3019 2420 3045 \n",
       "Q 2306 3072 2169 3072 \n",
       "Q 1681 3072 1420 2755 \n",
       "Q 1159 2438 1159 1844 \n",
       "L 1159 0 \n",
       "L 581 0 \n",
       "L 581 3500 \n",
       "L 1159 3500 \n",
       "L 1159 2956 \n",
       "Q 1341 3275 1631 3429 \n",
       "Q 1922 3584 2338 3584 \n",
       "Q 2397 3584 2469 3576 \n",
       "Q 2541 3569 2628 3553 \n",
       "L 2631 2963 \n",
       "z\n",
       "\" transform=\"scale(0.015625)\"/>\n",
       "      </defs>\n",
       "      <use xlink:href=\"#DejaVuSans-45\"/>\n",
       "      <use xlink:href=\"#DejaVuSans-72\" x=\"63.183594\"/>\n",
       "      <use xlink:href=\"#DejaVuSans-6b\" x=\"104.296875\"/>\n",
       "     </g>\n",
       "    </g>\n",
       "   </g>\n",
       "   <g id=\"text_10\">\n",
       "    <g clip-path=\"url(#pf1da051923)\">\n",
       "     <!-- Raf -->\n",
       "     <g transform=\"translate(248.008436 23.602159)scale(0.12 -0.12)\">\n",
       "      <defs>\n",
       "       <path id=\"DejaVuSans-52\" d=\"M 2841 2188 \n",
       "Q 3044 2119 3236 1894 \n",
       "Q 3428 1669 3622 1275 \n",
       "L 4263 0 \n",
       "L 3584 0 \n",
       "L 2988 1197 \n",
       "Q 2756 1666 2539 1819 \n",
       "Q 2322 1972 1947 1972 \n",
       "L 1259 1972 \n",
       "L 1259 0 \n",
       "L 628 0 \n",
       "L 628 4666 \n",
       "L 2053 4666 \n",
       "Q 2853 4666 3247 4331 \n",
       "Q 3641 3997 3641 3322 \n",
       "Q 3641 2881 3436 2590 \n",
       "Q 3231 2300 2841 2188 \n",
       "z\n",
       "M 1259 4147 \n",
       "L 1259 2491 \n",
       "L 2053 2491 \n",
       "Q 2509 2491 2742 2702 \n",
       "Q 2975 2913 2975 3322 \n",
       "Q 2975 3731 2742 3939 \n",
       "Q 2509 4147 2053 4147 \n",
       "L 1259 4147 \n",
       "z\n",
       "\" transform=\"scale(0.015625)\"/>\n",
       "       <path id=\"DejaVuSans-61\" d=\"M 2194 1759 \n",
       "Q 1497 1759 1228 1600 \n",
       "Q 959 1441 959 1056 \n",
       "Q 959 750 1161 570 \n",
       "Q 1363 391 1709 391 \n",
       "Q 2188 391 2477 730 \n",
       "Q 2766 1069 2766 1631 \n",
       "L 2766 1759 \n",
       "L 2194 1759 \n",
       "z\n",
       "M 3341 1997 \n",
       "L 3341 0 \n",
       "L 2766 0 \n",
       "L 2766 531 \n",
       "Q 2569 213 2275 61 \n",
       "Q 1981 -91 1556 -91 \n",
       "Q 1019 -91 701 211 \n",
       "Q 384 513 384 1019 \n",
       "Q 384 1609 779 1909 \n",
       "Q 1175 2209 1959 2209 \n",
       "L 2766 2209 \n",
       "L 2766 2266 \n",
       "Q 2766 2663 2505 2880 \n",
       "Q 2244 3097 1772 3097 \n",
       "Q 1472 3097 1187 3025 \n",
       "Q 903 2953 641 2809 \n",
       "L 641 3341 \n",
       "Q 956 3463 1253 3523 \n",
       "Q 1550 3584 1831 3584 \n",
       "Q 2591 3584 2966 3190 \n",
       "Q 3341 2797 3341 1997 \n",
       "z\n",
       "\" transform=\"scale(0.015625)\"/>\n",
       "       <path id=\"DejaVuSans-66\" d=\"M 2375 4863 \n",
       "L 2375 4384 \n",
       "L 1825 4384 \n",
       "Q 1516 4384 1395 4259 \n",
       "Q 1275 4134 1275 3809 \n",
       "L 1275 3500 \n",
       "L 2222 3500 \n",
       "L 2222 3053 \n",
       "L 1275 3053 \n",
       "L 1275 0 \n",
       "L 697 0 \n",
       "L 697 3053 \n",
       "L 147 3053 \n",
       "L 147 3500 \n",
       "L 697 3500 \n",
       "L 697 3744 \n",
       "Q 697 4328 969 4595 \n",
       "Q 1241 4863 1831 4863 \n",
       "L 2375 4863 \n",
       "z\n",
       "\" transform=\"scale(0.015625)\"/>\n",
       "      </defs>\n",
       "      <use xlink:href=\"#DejaVuSans-52\"/>\n",
       "      <use xlink:href=\"#DejaVuSans-61\" x=\"67.232422\"/>\n",
       "      <use xlink:href=\"#DejaVuSans-66\" x=\"128.511719\"/>\n",
       "     </g>\n",
       "    </g>\n",
       "   </g>\n",
       "   <g id=\"text_11\">\n",
       "    <g clip-path=\"url(#pf1da051923)\">\n",
       "     <!-- Plcg -->\n",
       "     <g transform=\"translate(400.611732 121.072735)scale(0.12 -0.12)\">\n",
       "      <defs>\n",
       "       <path id=\"DejaVuSans-6c\" d=\"M 603 4863 \n",
       "L 1178 4863 \n",
       "L 1178 0 \n",
       "L 603 0 \n",
       "L 603 4863 \n",
       "z\n",
       "\" transform=\"scale(0.015625)\"/>\n",
       "       <path id=\"DejaVuSans-63\" d=\"M 3122 3366 \n",
       "L 3122 2828 \n",
       "Q 2878 2963 2633 3030 \n",
       "Q 2388 3097 2138 3097 \n",
       "Q 1578 3097 1268 2742 \n",
       "Q 959 2388 959 1747 \n",
       "Q 959 1106 1268 751 \n",
       "Q 1578 397 2138 397 \n",
       "Q 2388 397 2633 464 \n",
       "Q 2878 531 3122 666 \n",
       "L 3122 134 \n",
       "Q 2881 22 2623 -34 \n",
       "Q 2366 -91 2075 -91 \n",
       "Q 1284 -91 818 406 \n",
       "Q 353 903 353 1747 \n",
       "Q 353 2603 823 3093 \n",
       "Q 1294 3584 2113 3584 \n",
       "Q 2378 3584 2631 3529 \n",
       "Q 2884 3475 3122 3366 \n",
       "z\n",
       "\" transform=\"scale(0.015625)\"/>\n",
       "       <path id=\"DejaVuSans-67\" d=\"M 2906 1791 \n",
       "Q 2906 2416 2648 2759 \n",
       "Q 2391 3103 1925 3103 \n",
       "Q 1463 3103 1205 2759 \n",
       "Q 947 2416 947 1791 \n",
       "Q 947 1169 1205 825 \n",
       "Q 1463 481 1925 481 \n",
       "Q 2391 481 2648 825 \n",
       "Q 2906 1169 2906 1791 \n",
       "z\n",
       "M 3481 434 \n",
       "Q 3481 -459 3084 -895 \n",
       "Q 2688 -1331 1869 -1331 \n",
       "Q 1566 -1331 1297 -1286 \n",
       "Q 1028 -1241 775 -1147 \n",
       "L 775 -588 \n",
       "Q 1028 -725 1275 -790 \n",
       "Q 1522 -856 1778 -856 \n",
       "Q 2344 -856 2625 -561 \n",
       "Q 2906 -266 2906 331 \n",
       "L 2906 616 \n",
       "Q 2728 306 2450 153 \n",
       "Q 2172 0 1784 0 \n",
       "Q 1141 0 747 490 \n",
       "Q 353 981 353 1791 \n",
       "Q 353 2603 747 3093 \n",
       "Q 1141 3584 1784 3584 \n",
       "Q 2172 3584 2450 3431 \n",
       "Q 2728 3278 2906 2969 \n",
       "L 2906 3500 \n",
       "L 3481 3500 \n",
       "L 3481 434 \n",
       "z\n",
       "\" transform=\"scale(0.015625)\"/>\n",
       "      </defs>\n",
       "      <use xlink:href=\"#DejaVuSans-50\"/>\n",
       "      <use xlink:href=\"#DejaVuSans-6c\" x=\"60.302734\"/>\n",
       "      <use xlink:href=\"#DejaVuSans-63\" x=\"88.085938\"/>\n",
       "      <use xlink:href=\"#DejaVuSans-67\" x=\"143.066406\"/>\n",
       "     </g>\n",
       "    </g>\n",
       "   </g>\n",
       "  </g>\n",
       " </g>\n",
       " <defs>\n",
       "  <clipPath id=\"pf1da051923\">\n",
       "   <rect x=\"7.2\" y=\"7.2\" width=\"432\" height=\"288\"/>\n",
       "  </clipPath>\n",
       " </defs>\n",
       "</svg>\n"
      ],
      "text/plain": [
       "<Figure size 432x288 with 1 Axes>"
      ]
     },
     "metadata": {},
     "output_type": "display_data"
    },
    {
     "data": {
      "image/svg+xml": [
       "<?xml version=\"1.0\" encoding=\"utf-8\" standalone=\"no\"?>\n",
       "<!DOCTYPE svg PUBLIC \"-//W3C//DTD SVG 1.1//EN\"\n",
       "  \"http://www.w3.org/Graphics/SVG/1.1/DTD/svg11.dtd\">\n",
       "<svg xmlns:xlink=\"http://www.w3.org/1999/xlink\" width=\"446.4pt\" height=\"302.4pt\" viewBox=\"0 0 446.4 302.4\" xmlns=\"http://www.w3.org/2000/svg\" version=\"1.1\">\n",
       " <metadata>\n",
       "  <rdf:RDF xmlns:dc=\"http://purl.org/dc/elements/1.1/\" xmlns:cc=\"http://creativecommons.org/ns#\" xmlns:rdf=\"http://www.w3.org/1999/02/22-rdf-syntax-ns#\">\n",
       "   <cc:Work>\n",
       "    <dc:type rdf:resource=\"http://purl.org/dc/dcmitype/StillImage\"/>\n",
       "    <dc:date>2022-01-31T03:32:47.153295</dc:date>\n",
       "    <dc:format>image/svg+xml</dc:format>\n",
       "    <dc:creator>\n",
       "     <cc:Agent>\n",
       "      <dc:title>Matplotlib v3.5.1, https://matplotlib.org/</dc:title>\n",
       "     </cc:Agent>\n",
       "    </dc:creator>\n",
       "   </cc:Work>\n",
       "  </rdf:RDF>\n",
       " </metadata>\n",
       " <defs>\n",
       "  <style type=\"text/css\">*{stroke-linejoin: round; stroke-linecap: butt}</style>\n",
       " </defs>\n",
       " <g id=\"figure_1\">\n",
       "  <g id=\"patch_1\">\n",
       "   <path d=\"M 0 302.4 \n",
       "L 446.4 302.4 \n",
       "L 446.4 0 \n",
       "L 0 0 \n",
       "z\n",
       "\" style=\"fill: #ffffff\"/>\n",
       "  </g>\n",
       "  <g id=\"axes_1\">\n",
       "   <g id=\"patch_2\">\n",
       "    <path d=\"M 291.810467 216.338174 \n",
       "Q 306.345833 225.040957 319.921956 233.169411 \n",
       "\" clip-path=\"url(#p021d6f6df1)\" style=\"fill: none; stroke: #000000; stroke-linecap: round\"/>\n",
       "    <path d=\"M 317.517456 229.398684 \n",
       "L 319.921956 233.169411 \n",
       "L 315.462674 232.830575 \n",
       "L 317.517456 229.398684 \n",
       "z\n",
       "\" clip-path=\"url(#p021d6f6df1)\" style=\"stroke: #000000; stroke-linecap: round\"/>\n",
       "   </g>\n",
       "   <g id=\"patch_3\">\n",
       "    <path d=\"M 47.539513 257.625883 \n",
       "Q 48.651831 259.995831 49.289127 261.353676 \n",
       "\" clip-path=\"url(#p021d6f6df1)\" style=\"fill: none; stroke: #000000; stroke-linecap: round\"/>\n",
       "    <path d=\"M 49.400136 256.882918 \n",
       "L 49.289127 261.353676 \n",
       "L 45.779126 258.582414 \n",
       "L 49.400136 256.882918 \n",
       "z\n",
       "\" clip-path=\"url(#p021d6f6df1)\" style=\"stroke: #000000; stroke-linecap: round\"/>\n",
       "   </g>\n",
       "   <g id=\"patch_4\">\n",
       "    <path d=\"M 98.210309 222.481778 \n",
       "Q 78.790773 243.18588 60.136105 263.07452 \n",
       "\" clip-path=\"url(#p021d6f6df1)\" style=\"fill: none; stroke: #000000; stroke-linecap: round\"/>\n",
       "    <path d=\"M 64.33132 261.525271 \n",
       "L 60.136105 263.07452 \n",
       "L 61.413835 258.788798 \n",
       "L 64.33132 261.525271 \n",
       "z\n",
       "\" clip-path=\"url(#p021d6f6df1)\" style=\"stroke: #000000; stroke-linecap: round\"/>\n",
       "   </g>\n",
       "   <g id=\"patch_5\">\n",
       "    <path d=\"M 63.038968 219.637487 \n",
       "Q 55.772946 231.058829 49.107045 241.53685 \n",
       "\" clip-path=\"url(#p021d6f6df1)\" style=\"fill: none; stroke: #000000; stroke-linecap: round\"/>\n",
       "    <path d=\"M 52.941569 239.235452 \n",
       "L 49.107045 241.53685 \n",
       "L 49.566641 237.088393 \n",
       "L 52.941569 239.235452 \n",
       "z\n",
       "\" clip-path=\"url(#p021d6f6df1)\" style=\"stroke: #000000; stroke-linecap: round\"/>\n",
       "   </g>\n",
       "   <g id=\"patch_6\">\n",
       "    <path d=\"M 352.7262 45.573847 \n",
       "Q 364.538644 40.571074 375.321579 36.004316 \n",
       "\" clip-path=\"url(#p021d6f6df1)\" style=\"fill: none; stroke: #000000; stroke-linecap: round\"/>\n",
       "    <path d=\"M 370.858325 35.722608 \n",
       "L 375.321579 36.004316 \n",
       "L 372.41826 39.405895 \n",
       "L 370.858325 35.722608 \n",
       "z\n",
       "\" clip-path=\"url(#p021d6f6df1)\" style=\"stroke: #000000; stroke-linecap: round\"/>\n",
       "   </g>\n",
       "   <g id=\"PathCollection_1\">\n",
       "    <defs>\n",
       "     <path id=\"m10eb8918ec\" d=\"M 0 8.660254 \n",
       "C 2.296726 8.660254 4.499694 7.747755 6.123724 6.123724 \n",
       "C 7.747755 4.499694 8.660254 2.296726 8.660254 0 \n",
       "C 8.660254 -2.296726 7.747755 -4.499694 6.123724 -6.123724 \n",
       "C 4.499694 -7.747755 2.296726 -8.660254 0 -8.660254 \n",
       "C -2.296726 -8.660254 -4.499694 -7.747755 -6.123724 -6.123724 \n",
       "C -7.747755 -4.499694 -8.660254 -2.296726 -8.660254 0 \n",
       "C -8.660254 2.296726 -7.747755 4.499694 -6.123724 6.123724 \n",
       "C -4.499694 7.747755 -2.296726 8.660254 0 8.660254 \n",
       "z\n",
       "\" style=\"stroke: #1f78b4\"/>\n",
       "    </defs>\n",
       "    <g clip-path=\"url(#p021d6f6df1)\">\n",
       "     <use xlink:href=\"#m10eb8918ec\" x=\"284.380595\" y=\"211.889674\" style=\"fill: #1f78b4; stroke: #1f78b4\"/>\n",
       "     <use xlink:href=\"#m10eb8918ec\" x=\"328.310955\" y=\"238.192169\" style=\"fill: #1f78b4; stroke: #1f78b4\"/>\n",
       "     <use xlink:href=\"#m10eb8918ec\" x=\"53.444967\" y=\"270.208264\" style=\"fill: #1f78b4; stroke: #1f78b4\"/>\n",
       "     <use xlink:href=\"#m10eb8918ec\" x=\"43.859573\" y=\"249.785267\" style=\"fill: #1f78b4; stroke: #1f78b4\"/>\n",
       "     <use xlink:href=\"#m10eb8918ec\" x=\"104.135088\" y=\"216.165086\" style=\"fill: #1f78b4; stroke: #1f78b4\"/>\n",
       "     <use xlink:href=\"#m10eb8918ec\" x=\"186.396575\" y=\"278.336558\" style=\"fill: #1f78b4; stroke: #1f78b4\"/>\n",
       "     <use xlink:href=\"#m10eb8918ec\" x=\"67.688739\" y=\"212.328587\" style=\"fill: #1f78b4; stroke: #1f78b4\"/>\n",
       "     <use xlink:href=\"#m10eb8918ec\" x=\"419.563636\" y=\"153.131843\" style=\"fill: #1f78b4; stroke: #1f78b4\"/>\n",
       "     <use xlink:href=\"#m10eb8918ec\" x=\"377.991248\" y=\"93.042603\" style=\"fill: #1f78b4; stroke: #1f78b4\"/>\n",
       "     <use xlink:href=\"#m10eb8918ec\" x=\"384.323766\" y=\"32.191736\" style=\"fill: #1f78b4; stroke: #1f78b4\"/>\n",
       "     <use xlink:href=\"#m10eb8918ec\" x=\"344.753749\" y=\"48.950316\" style=\"fill: #1f78b4; stroke: #1f78b4\"/>\n",
       "    </g>\n",
       "   </g>\n",
       "   <g id=\"text_1\">\n",
       "    <g clip-path=\"url(#p021d6f6df1)\">\n",
       "     <!-- Erk -->\n",
       "     <g transform=\"translate(274.648407 215.200924)scale(0.12 -0.12)\">\n",
       "      <defs>\n",
       "       <path id=\"DejaVuSans-45\" d=\"M 628 4666 \n",
       "L 3578 4666 \n",
       "L 3578 4134 \n",
       "L 1259 4134 \n",
       "L 1259 2753 \n",
       "L 3481 2753 \n",
       "L 3481 2222 \n",
       "L 1259 2222 \n",
       "L 1259 531 \n",
       "L 3634 531 \n",
       "L 3634 0 \n",
       "L 628 0 \n",
       "L 628 4666 \n",
       "z\n",
       "\" transform=\"scale(0.015625)\"/>\n",
       "       <path id=\"DejaVuSans-72\" d=\"M 2631 2963 \n",
       "Q 2534 3019 2420 3045 \n",
       "Q 2306 3072 2169 3072 \n",
       "Q 1681 3072 1420 2755 \n",
       "Q 1159 2438 1159 1844 \n",
       "L 1159 0 \n",
       "L 581 0 \n",
       "L 581 3500 \n",
       "L 1159 3500 \n",
       "L 1159 2956 \n",
       "Q 1341 3275 1631 3429 \n",
       "Q 1922 3584 2338 3584 \n",
       "Q 2397 3584 2469 3576 \n",
       "Q 2541 3569 2628 3553 \n",
       "L 2631 2963 \n",
       "z\n",
       "\" transform=\"scale(0.015625)\"/>\n",
       "       <path id=\"DejaVuSans-6b\" d=\"M 581 4863 \n",
       "L 1159 4863 \n",
       "L 1159 1991 \n",
       "L 2875 3500 \n",
       "L 3609 3500 \n",
       "L 1753 1863 \n",
       "L 3688 0 \n",
       "L 2938 0 \n",
       "L 1159 1709 \n",
       "L 1159 0 \n",
       "L 581 0 \n",
       "L 581 4863 \n",
       "z\n",
       "\" transform=\"scale(0.015625)\"/>\n",
       "      </defs>\n",
       "      <use xlink:href=\"#DejaVuSans-45\"/>\n",
       "      <use xlink:href=\"#DejaVuSans-72\" x=\"63.183594\"/>\n",
       "      <use xlink:href=\"#DejaVuSans-6b\" x=\"104.296875\"/>\n",
       "     </g>\n",
       "    </g>\n",
       "   </g>\n",
       "   <g id=\"text_2\">\n",
       "    <g clip-path=\"url(#p021d6f6df1)\">\n",
       "     <!-- Akt -->\n",
       "     <g transform=\"translate(318.380017 241.503419)scale(0.12 -0.12)\">\n",
       "      <defs>\n",
       "       <path id=\"DejaVuSans-41\" d=\"M 2188 4044 \n",
       "L 1331 1722 \n",
       "L 3047 1722 \n",
       "L 2188 4044 \n",
       "z\n",
       "M 1831 4666 \n",
       "L 2547 4666 \n",
       "L 4325 0 \n",
       "L 3669 0 \n",
       "L 3244 1197 \n",
       "L 1141 1197 \n",
       "L 716 0 \n",
       "L 50 0 \n",
       "L 1831 4666 \n",
       "z\n",
       "\" transform=\"scale(0.015625)\"/>\n",
       "       <path id=\"DejaVuSans-74\" d=\"M 1172 4494 \n",
       "L 1172 3500 \n",
       "L 2356 3500 \n",
       "L 2356 3053 \n",
       "L 1172 3053 \n",
       "L 1172 1153 \n",
       "Q 1172 725 1289 603 \n",
       "Q 1406 481 1766 481 \n",
       "L 2356 481 \n",
       "L 2356 0 \n",
       "L 1766 0 \n",
       "Q 1100 0 847 248 \n",
       "Q 594 497 594 1153 \n",
       "L 594 3053 \n",
       "L 172 3053 \n",
       "L 172 3500 \n",
       "L 594 3500 \n",
       "L 594 4494 \n",
       "L 1172 4494 \n",
       "z\n",
       "\" transform=\"scale(0.015625)\"/>\n",
       "      </defs>\n",
       "      <use xlink:href=\"#DejaVuSans-41\"/>\n",
       "      <use xlink:href=\"#DejaVuSans-6b\" x=\"68.408203\"/>\n",
       "      <use xlink:href=\"#DejaVuSans-74\" x=\"126.318359\"/>\n",
       "     </g>\n",
       "    </g>\n",
       "   </g>\n",
       "   <g id=\"text_3\">\n",
       "    <g clip-path=\"url(#p021d6f6df1)\">\n",
       "     <!-- PKA -->\n",
       "     <g transform=\"translate(41.893092 273.519514)scale(0.12 -0.12)\">\n",
       "      <defs>\n",
       "       <path id=\"DejaVuSans-50\" d=\"M 1259 4147 \n",
       "L 1259 2394 \n",
       "L 2053 2394 \n",
       "Q 2494 2394 2734 2622 \n",
       "Q 2975 2850 2975 3272 \n",
       "Q 2975 3691 2734 3919 \n",
       "Q 2494 4147 2053 4147 \n",
       "L 1259 4147 \n",
       "z\n",
       "M 628 4666 \n",
       "L 2053 4666 \n",
       "Q 2838 4666 3239 4311 \n",
       "Q 3641 3956 3641 3272 \n",
       "Q 3641 2581 3239 2228 \n",
       "Q 2838 1875 2053 1875 \n",
       "L 1259 1875 \n",
       "L 1259 0 \n",
       "L 628 0 \n",
       "L 628 4666 \n",
       "z\n",
       "\" transform=\"scale(0.015625)\"/>\n",
       "       <path id=\"DejaVuSans-4b\" d=\"M 628 4666 \n",
       "L 1259 4666 \n",
       "L 1259 2694 \n",
       "L 3353 4666 \n",
       "L 4166 4666 \n",
       "L 1850 2491 \n",
       "L 4331 0 \n",
       "L 3500 0 \n",
       "L 1259 2247 \n",
       "L 1259 0 \n",
       "L 628 0 \n",
       "L 628 4666 \n",
       "z\n",
       "\" transform=\"scale(0.015625)\"/>\n",
       "      </defs>\n",
       "      <use xlink:href=\"#DejaVuSans-50\"/>\n",
       "      <use xlink:href=\"#DejaVuSans-4b\" x=\"60.302734\"/>\n",
       "      <use xlink:href=\"#DejaVuSans-41\" x=\"124.128906\"/>\n",
       "     </g>\n",
       "    </g>\n",
       "   </g>\n",
       "   <g id=\"text_4\">\n",
       "    <g clip-path=\"url(#p021d6f6df1)\">\n",
       "     <!-- Mek -->\n",
       "     <g transform=\"translate(31.516448 253.096517)scale(0.12 -0.12)\">\n",
       "      <defs>\n",
       "       <path id=\"DejaVuSans-4d\" d=\"M 628 4666 \n",
       "L 1569 4666 \n",
       "L 2759 1491 \n",
       "L 3956 4666 \n",
       "L 4897 4666 \n",
       "L 4897 0 \n",
       "L 4281 0 \n",
       "L 4281 4097 \n",
       "L 3078 897 \n",
       "L 2444 897 \n",
       "L 1241 4097 \n",
       "L 1241 0 \n",
       "L 628 0 \n",
       "L 628 4666 \n",
       "z\n",
       "\" transform=\"scale(0.015625)\"/>\n",
       "       <path id=\"DejaVuSans-65\" d=\"M 3597 1894 \n",
       "L 3597 1613 \n",
       "L 953 1613 \n",
       "Q 991 1019 1311 708 \n",
       "Q 1631 397 2203 397 \n",
       "Q 2534 397 2845 478 \n",
       "Q 3156 559 3463 722 \n",
       "L 3463 178 \n",
       "Q 3153 47 2828 -22 \n",
       "Q 2503 -91 2169 -91 \n",
       "Q 1331 -91 842 396 \n",
       "Q 353 884 353 1716 \n",
       "Q 353 2575 817 3079 \n",
       "Q 1281 3584 2069 3584 \n",
       "Q 2775 3584 3186 3129 \n",
       "Q 3597 2675 3597 1894 \n",
       "z\n",
       "M 3022 2063 \n",
       "Q 3016 2534 2758 2815 \n",
       "Q 2500 3097 2075 3097 \n",
       "Q 1594 3097 1305 2825 \n",
       "Q 1016 2553 972 2059 \n",
       "L 3022 2063 \n",
       "z\n",
       "\" transform=\"scale(0.015625)\"/>\n",
       "      </defs>\n",
       "      <use xlink:href=\"#DejaVuSans-4d\"/>\n",
       "      <use xlink:href=\"#DejaVuSans-65\" x=\"86.279297\"/>\n",
       "      <use xlink:href=\"#DejaVuSans-6b\" x=\"147.802734\"/>\n",
       "     </g>\n",
       "    </g>\n",
       "   </g>\n",
       "   <g id=\"text_5\">\n",
       "    <g clip-path=\"url(#p021d6f6df1)\">\n",
       "     <!-- Jnk -->\n",
       "     <g transform=\"translate(95.088213 219.476336)scale(0.12 -0.12)\">\n",
       "      <defs>\n",
       "       <path id=\"DejaVuSans-4a\" d=\"M 628 4666 \n",
       "L 1259 4666 \n",
       "L 1259 325 \n",
       "Q 1259 -519 939 -900 \n",
       "Q 619 -1281 -91 -1281 \n",
       "L -331 -1281 \n",
       "L -331 -750 \n",
       "L -134 -750 \n",
       "Q 284 -750 456 -515 \n",
       "Q 628 -281 628 325 \n",
       "L 628 4666 \n",
       "z\n",
       "\" transform=\"scale(0.015625)\"/>\n",
       "       <path id=\"DejaVuSans-6e\" d=\"M 3513 2113 \n",
       "L 3513 0 \n",
       "L 2938 0 \n",
       "L 2938 2094 \n",
       "Q 2938 2591 2744 2837 \n",
       "Q 2550 3084 2163 3084 \n",
       "Q 1697 3084 1428 2787 \n",
       "Q 1159 2491 1159 1978 \n",
       "L 1159 0 \n",
       "L 581 0 \n",
       "L 581 3500 \n",
       "L 1159 3500 \n",
       "L 1159 2956 \n",
       "Q 1366 3272 1645 3428 \n",
       "Q 1925 3584 2291 3584 \n",
       "Q 2894 3584 3203 3211 \n",
       "Q 3513 2838 3513 2113 \n",
       "z\n",
       "\" transform=\"scale(0.015625)\"/>\n",
       "      </defs>\n",
       "      <use xlink:href=\"#DejaVuSans-4a\"/>\n",
       "      <use xlink:href=\"#DejaVuSans-6e\" x=\"29.492188\"/>\n",
       "      <use xlink:href=\"#DejaVuSans-6b\" x=\"92.871094\"/>\n",
       "     </g>\n",
       "    </g>\n",
       "   </g>\n",
       "   <g id=\"text_6\">\n",
       "    <g clip-path=\"url(#p021d6f6df1)\">\n",
       "     <!-- PKC -->\n",
       "     <g transform=\"translate(174.984387 281.647808)scale(0.12 -0.12)\">\n",
       "      <defs>\n",
       "       <path id=\"DejaVuSans-43\" d=\"M 4122 4306 \n",
       "L 4122 3641 \n",
       "Q 3803 3938 3442 4084 \n",
       "Q 3081 4231 2675 4231 \n",
       "Q 1875 4231 1450 3742 \n",
       "Q 1025 3253 1025 2328 \n",
       "Q 1025 1406 1450 917 \n",
       "Q 1875 428 2675 428 \n",
       "Q 3081 428 3442 575 \n",
       "Q 3803 722 4122 1019 \n",
       "L 4122 359 \n",
       "Q 3791 134 3420 21 \n",
       "Q 3050 -91 2638 -91 \n",
       "Q 1578 -91 968 557 \n",
       "Q 359 1206 359 2328 \n",
       "Q 359 3453 968 4101 \n",
       "Q 1578 4750 2638 4750 \n",
       "Q 3056 4750 3426 4639 \n",
       "Q 3797 4528 4122 4306 \n",
       "z\n",
       "\" transform=\"scale(0.015625)\"/>\n",
       "      </defs>\n",
       "      <use xlink:href=\"#DejaVuSans-50\"/>\n",
       "      <use xlink:href=\"#DejaVuSans-4b\" x=\"60.302734\"/>\n",
       "      <use xlink:href=\"#DejaVuSans-43\" x=\"120.378906\"/>\n",
       "     </g>\n",
       "    </g>\n",
       "   </g>\n",
       "   <g id=\"text_7\">\n",
       "    <g clip-path=\"url(#p021d6f6df1)\">\n",
       "     <!-- Raf -->\n",
       "     <g transform=\"translate(57.865614 215.639837)scale(0.12 -0.12)\">\n",
       "      <defs>\n",
       "       <path id=\"DejaVuSans-52\" d=\"M 2841 2188 \n",
       "Q 3044 2119 3236 1894 \n",
       "Q 3428 1669 3622 1275 \n",
       "L 4263 0 \n",
       "L 3584 0 \n",
       "L 2988 1197 \n",
       "Q 2756 1666 2539 1819 \n",
       "Q 2322 1972 1947 1972 \n",
       "L 1259 1972 \n",
       "L 1259 0 \n",
       "L 628 0 \n",
       "L 628 4666 \n",
       "L 2053 4666 \n",
       "Q 2853 4666 3247 4331 \n",
       "Q 3641 3997 3641 3322 \n",
       "Q 3641 2881 3436 2590 \n",
       "Q 3231 2300 2841 2188 \n",
       "z\n",
       "M 1259 4147 \n",
       "L 1259 2491 \n",
       "L 2053 2491 \n",
       "Q 2509 2491 2742 2702 \n",
       "Q 2975 2913 2975 3322 \n",
       "Q 2975 3731 2742 3939 \n",
       "Q 2509 4147 2053 4147 \n",
       "L 1259 4147 \n",
       "z\n",
       "\" transform=\"scale(0.015625)\"/>\n",
       "       <path id=\"DejaVuSans-61\" d=\"M 2194 1759 \n",
       "Q 1497 1759 1228 1600 \n",
       "Q 959 1441 959 1056 \n",
       "Q 959 750 1161 570 \n",
       "Q 1363 391 1709 391 \n",
       "Q 2188 391 2477 730 \n",
       "Q 2766 1069 2766 1631 \n",
       "L 2766 1759 \n",
       "L 2194 1759 \n",
       "z\n",
       "M 3341 1997 \n",
       "L 3341 0 \n",
       "L 2766 0 \n",
       "L 2766 531 \n",
       "Q 2569 213 2275 61 \n",
       "Q 1981 -91 1556 -91 \n",
       "Q 1019 -91 701 211 \n",
       "Q 384 513 384 1019 \n",
       "Q 384 1609 779 1909 \n",
       "Q 1175 2209 1959 2209 \n",
       "L 2766 2209 \n",
       "L 2766 2266 \n",
       "Q 2766 2663 2505 2880 \n",
       "Q 2244 3097 1772 3097 \n",
       "Q 1472 3097 1187 3025 \n",
       "Q 903 2953 641 2809 \n",
       "L 641 3341 \n",
       "Q 956 3463 1253 3523 \n",
       "Q 1550 3584 1831 3584 \n",
       "Q 2591 3584 2966 3190 \n",
       "Q 3341 2797 3341 1997 \n",
       "z\n",
       "\" transform=\"scale(0.015625)\"/>\n",
       "       <path id=\"DejaVuSans-66\" d=\"M 2375 4863 \n",
       "L 2375 4384 \n",
       "L 1825 4384 \n",
       "Q 1516 4384 1395 4259 \n",
       "Q 1275 4134 1275 3809 \n",
       "L 1275 3500 \n",
       "L 2222 3500 \n",
       "L 2222 3053 \n",
       "L 1275 3053 \n",
       "L 1275 0 \n",
       "L 697 0 \n",
       "L 697 3053 \n",
       "L 147 3053 \n",
       "L 147 3500 \n",
       "L 697 3500 \n",
       "L 697 3744 \n",
       "Q 697 4328 969 4595 \n",
       "Q 1241 4863 1831 4863 \n",
       "L 2375 4863 \n",
       "z\n",
       "\" transform=\"scale(0.015625)\"/>\n",
       "      </defs>\n",
       "      <use xlink:href=\"#DejaVuSans-52\"/>\n",
       "      <use xlink:href=\"#DejaVuSans-61\" x=\"67.232422\"/>\n",
       "      <use xlink:href=\"#DejaVuSans-66\" x=\"128.511719\"/>\n",
       "     </g>\n",
       "    </g>\n",
       "   </g>\n",
       "   <g id=\"text_8\">\n",
       "    <g clip-path=\"url(#p021d6f6df1)\">\n",
       "     <!-- P38 -->\n",
       "     <g transform=\"translate(408.310824 156.443093)scale(0.12 -0.12)\">\n",
       "      <defs>\n",
       "       <path id=\"DejaVuSans-33\" d=\"M 2597 2516 \n",
       "Q 3050 2419 3304 2112 \n",
       "Q 3559 1806 3559 1356 \n",
       "Q 3559 666 3084 287 \n",
       "Q 2609 -91 1734 -91 \n",
       "Q 1441 -91 1130 -33 \n",
       "Q 819 25 488 141 \n",
       "L 488 750 \n",
       "Q 750 597 1062 519 \n",
       "Q 1375 441 1716 441 \n",
       "Q 2309 441 2620 675 \n",
       "Q 2931 909 2931 1356 \n",
       "Q 2931 1769 2642 2001 \n",
       "Q 2353 2234 1838 2234 \n",
       "L 1294 2234 \n",
       "L 1294 2753 \n",
       "L 1863 2753 \n",
       "Q 2328 2753 2575 2939 \n",
       "Q 2822 3125 2822 3475 \n",
       "Q 2822 3834 2567 4026 \n",
       "Q 2313 4219 1838 4219 \n",
       "Q 1578 4219 1281 4162 \n",
       "Q 984 4106 628 3988 \n",
       "L 628 4550 \n",
       "Q 988 4650 1302 4700 \n",
       "Q 1616 4750 1894 4750 \n",
       "Q 2613 4750 3031 4423 \n",
       "Q 3450 4097 3450 3541 \n",
       "Q 3450 3153 3228 2886 \n",
       "Q 3006 2619 2597 2516 \n",
       "z\n",
       "\" transform=\"scale(0.015625)\"/>\n",
       "       <path id=\"DejaVuSans-38\" d=\"M 2034 2216 \n",
       "Q 1584 2216 1326 1975 \n",
       "Q 1069 1734 1069 1313 \n",
       "Q 1069 891 1326 650 \n",
       "Q 1584 409 2034 409 \n",
       "Q 2484 409 2743 651 \n",
       "Q 3003 894 3003 1313 \n",
       "Q 3003 1734 2745 1975 \n",
       "Q 2488 2216 2034 2216 \n",
       "z\n",
       "M 1403 2484 \n",
       "Q 997 2584 770 2862 \n",
       "Q 544 3141 544 3541 \n",
       "Q 544 4100 942 4425 \n",
       "Q 1341 4750 2034 4750 \n",
       "Q 2731 4750 3128 4425 \n",
       "Q 3525 4100 3525 3541 \n",
       "Q 3525 3141 3298 2862 \n",
       "Q 3072 2584 2669 2484 \n",
       "Q 3125 2378 3379 2068 \n",
       "Q 3634 1759 3634 1313 \n",
       "Q 3634 634 3220 271 \n",
       "Q 2806 -91 2034 -91 \n",
       "Q 1263 -91 848 271 \n",
       "Q 434 634 434 1313 \n",
       "Q 434 1759 690 2068 \n",
       "Q 947 2378 1403 2484 \n",
       "z\n",
       "M 1172 3481 \n",
       "Q 1172 3119 1398 2916 \n",
       "Q 1625 2713 2034 2713 \n",
       "Q 2441 2713 2670 2916 \n",
       "Q 2900 3119 2900 3481 \n",
       "Q 2900 3844 2670 4047 \n",
       "Q 2441 4250 2034 4250 \n",
       "Q 1625 4250 1398 4047 \n",
       "Q 1172 3844 1172 3481 \n",
       "z\n",
       "\" transform=\"scale(0.015625)\"/>\n",
       "      </defs>\n",
       "      <use xlink:href=\"#DejaVuSans-50\"/>\n",
       "      <use xlink:href=\"#DejaVuSans-33\" x=\"60.302734\"/>\n",
       "      <use xlink:href=\"#DejaVuSans-38\" x=\"123.925781\"/>\n",
       "     </g>\n",
       "    </g>\n",
       "   </g>\n",
       "   <g id=\"text_9\">\n",
       "    <g clip-path=\"url(#p021d6f6df1)\">\n",
       "     <!-- PIP3 -->\n",
       "     <g transform=\"translate(365.168123 96.353853)scale(0.12 -0.12)\">\n",
       "      <defs>\n",
       "       <path id=\"DejaVuSans-49\" d=\"M 628 4666 \n",
       "L 1259 4666 \n",
       "L 1259 0 \n",
       "L 628 0 \n",
       "L 628 4666 \n",
       "z\n",
       "\" transform=\"scale(0.015625)\"/>\n",
       "      </defs>\n",
       "      <use xlink:href=\"#DejaVuSans-50\"/>\n",
       "      <use xlink:href=\"#DejaVuSans-49\" x=\"60.302734\"/>\n",
       "      <use xlink:href=\"#DejaVuSans-50\" x=\"89.794922\"/>\n",
       "      <use xlink:href=\"#DejaVuSans-33\" x=\"150.097656\"/>\n",
       "     </g>\n",
       "    </g>\n",
       "   </g>\n",
       "   <g id=\"text_10\">\n",
       "    <g clip-path=\"url(#p021d6f6df1)\">\n",
       "     <!-- PIP2 -->\n",
       "     <g transform=\"translate(371.500641 35.502986)scale(0.12 -0.12)\">\n",
       "      <defs>\n",
       "       <path id=\"DejaVuSans-32\" d=\"M 1228 531 \n",
       "L 3431 531 \n",
       "L 3431 0 \n",
       "L 469 0 \n",
       "L 469 531 \n",
       "Q 828 903 1448 1529 \n",
       "Q 2069 2156 2228 2338 \n",
       "Q 2531 2678 2651 2914 \n",
       "Q 2772 3150 2772 3378 \n",
       "Q 2772 3750 2511 3984 \n",
       "Q 2250 4219 1831 4219 \n",
       "Q 1534 4219 1204 4116 \n",
       "Q 875 4013 500 3803 \n",
       "L 500 4441 \n",
       "Q 881 4594 1212 4672 \n",
       "Q 1544 4750 1819 4750 \n",
       "Q 2544 4750 2975 4387 \n",
       "Q 3406 4025 3406 3419 \n",
       "Q 3406 3131 3298 2873 \n",
       "Q 3191 2616 2906 2266 \n",
       "Q 2828 2175 2409 1742 \n",
       "Q 1991 1309 1228 531 \n",
       "z\n",
       "\" transform=\"scale(0.015625)\"/>\n",
       "      </defs>\n",
       "      <use xlink:href=\"#DejaVuSans-50\"/>\n",
       "      <use xlink:href=\"#DejaVuSans-49\" x=\"60.302734\"/>\n",
       "      <use xlink:href=\"#DejaVuSans-50\" x=\"89.794922\"/>\n",
       "      <use xlink:href=\"#DejaVuSans-32\" x=\"150.097656\"/>\n",
       "     </g>\n",
       "    </g>\n",
       "   </g>\n",
       "   <g id=\"text_11\">\n",
       "    <g clip-path=\"url(#p021d6f6df1)\">\n",
       "     <!-- Plcg -->\n",
       "     <g transform=\"translate(332.360937 52.261566)scale(0.12 -0.12)\">\n",
       "      <defs>\n",
       "       <path id=\"DejaVuSans-6c\" d=\"M 603 4863 \n",
       "L 1178 4863 \n",
       "L 1178 0 \n",
       "L 603 0 \n",
       "L 603 4863 \n",
       "z\n",
       "\" transform=\"scale(0.015625)\"/>\n",
       "       <path id=\"DejaVuSans-63\" d=\"M 3122 3366 \n",
       "L 3122 2828 \n",
       "Q 2878 2963 2633 3030 \n",
       "Q 2388 3097 2138 3097 \n",
       "Q 1578 3097 1268 2742 \n",
       "Q 959 2388 959 1747 \n",
       "Q 959 1106 1268 751 \n",
       "Q 1578 397 2138 397 \n",
       "Q 2388 397 2633 464 \n",
       "Q 2878 531 3122 666 \n",
       "L 3122 134 \n",
       "Q 2881 22 2623 -34 \n",
       "Q 2366 -91 2075 -91 \n",
       "Q 1284 -91 818 406 \n",
       "Q 353 903 353 1747 \n",
       "Q 353 2603 823 3093 \n",
       "Q 1294 3584 2113 3584 \n",
       "Q 2378 3584 2631 3529 \n",
       "Q 2884 3475 3122 3366 \n",
       "z\n",
       "\" transform=\"scale(0.015625)\"/>\n",
       "       <path id=\"DejaVuSans-67\" d=\"M 2906 1791 \n",
       "Q 2906 2416 2648 2759 \n",
       "Q 2391 3103 1925 3103 \n",
       "Q 1463 3103 1205 2759 \n",
       "Q 947 2416 947 1791 \n",
       "Q 947 1169 1205 825 \n",
       "Q 1463 481 1925 481 \n",
       "Q 2391 481 2648 825 \n",
       "Q 2906 1169 2906 1791 \n",
       "z\n",
       "M 3481 434 \n",
       "Q 3481 -459 3084 -895 \n",
       "Q 2688 -1331 1869 -1331 \n",
       "Q 1566 -1331 1297 -1286 \n",
       "Q 1028 -1241 775 -1147 \n",
       "L 775 -588 \n",
       "Q 1028 -725 1275 -790 \n",
       "Q 1522 -856 1778 -856 \n",
       "Q 2344 -856 2625 -561 \n",
       "Q 2906 -266 2906 331 \n",
       "L 2906 616 \n",
       "Q 2728 306 2450 153 \n",
       "Q 2172 0 1784 0 \n",
       "Q 1141 0 747 490 \n",
       "Q 353 981 353 1791 \n",
       "Q 353 2603 747 3093 \n",
       "Q 1141 3584 1784 3584 \n",
       "Q 2172 3584 2450 3431 \n",
       "Q 2728 3278 2906 2969 \n",
       "L 2906 3500 \n",
       "L 3481 3500 \n",
       "L 3481 434 \n",
       "z\n",
       "\" transform=\"scale(0.015625)\"/>\n",
       "      </defs>\n",
       "      <use xlink:href=\"#DejaVuSans-50\"/>\n",
       "      <use xlink:href=\"#DejaVuSans-6c\" x=\"60.302734\"/>\n",
       "      <use xlink:href=\"#DejaVuSans-63\" x=\"88.085938\"/>\n",
       "      <use xlink:href=\"#DejaVuSans-67\" x=\"143.066406\"/>\n",
       "     </g>\n",
       "    </g>\n",
       "   </g>\n",
       "  </g>\n",
       " </g>\n",
       " <defs>\n",
       "  <clipPath id=\"p021d6f6df1\">\n",
       "   <rect x=\"7.2\" y=\"7.2\" width=\"432\" height=\"288\"/>\n",
       "  </clipPath>\n",
       " </defs>\n",
       "</svg>\n"
      ],
      "text/plain": [
       "<Figure size 432x288 with 1 Axes>"
      ]
     },
     "metadata": {},
     "output_type": "display_data"
    },
    {
     "data": {
      "image/svg+xml": [
       "<?xml version=\"1.0\" encoding=\"utf-8\" standalone=\"no\"?>\n",
       "<!DOCTYPE svg PUBLIC \"-//W3C//DTD SVG 1.1//EN\"\n",
       "  \"http://www.w3.org/Graphics/SVG/1.1/DTD/svg11.dtd\">\n",
       "<svg xmlns:xlink=\"http://www.w3.org/1999/xlink\" width=\"446.4pt\" height=\"302.4pt\" viewBox=\"0 0 446.4 302.4\" xmlns=\"http://www.w3.org/2000/svg\" version=\"1.1\">\n",
       " <metadata>\n",
       "  <rdf:RDF xmlns:dc=\"http://purl.org/dc/elements/1.1/\" xmlns:cc=\"http://creativecommons.org/ns#\" xmlns:rdf=\"http://www.w3.org/1999/02/22-rdf-syntax-ns#\">\n",
       "   <cc:Work>\n",
       "    <dc:type rdf:resource=\"http://purl.org/dc/dcmitype/StillImage\"/>\n",
       "    <dc:date>2022-01-31T03:32:49.591385</dc:date>\n",
       "    <dc:format>image/svg+xml</dc:format>\n",
       "    <dc:creator>\n",
       "     <cc:Agent>\n",
       "      <dc:title>Matplotlib v3.5.1, https://matplotlib.org/</dc:title>\n",
       "     </cc:Agent>\n",
       "    </dc:creator>\n",
       "   </cc:Work>\n",
       "  </rdf:RDF>\n",
       " </metadata>\n",
       " <defs>\n",
       "  <style type=\"text/css\">*{stroke-linejoin: round; stroke-linecap: butt}</style>\n",
       " </defs>\n",
       " <g id=\"figure_1\">\n",
       "  <g id=\"patch_1\">\n",
       "   <path d=\"M 0 302.4 \n",
       "L 446.4 302.4 \n",
       "L 446.4 0 \n",
       "L 0 0 \n",
       "z\n",
       "\" style=\"fill: #ffffff\"/>\n",
       "  </g>\n",
       "  <g id=\"axes_1\">\n",
       "   <g id=\"patch_2\">\n",
       "    <path d=\"M 389.694171 151.784505 \n",
       "Q 397.152537 153.547974 403.522869 155.054187 \n",
       "\" clip-path=\"url(#p5a659fc075)\" style=\"fill: none; stroke: #000000; stroke-linecap: round\"/>\n",
       "    <path d=\"M 400.090393 152.187462 \n",
       "L 403.522869 155.054187 \n",
       "L 399.170003 156.080132 \n",
       "L 400.090393 152.187462 \n",
       "z\n",
       "\" clip-path=\"url(#p5a659fc075)\" style=\"stroke: #000000; stroke-linecap: round\"/>\n",
       "   </g>\n",
       "   <g id=\"patch_3\">\n",
       "    <path d=\"M 324.923555 94.584378 \n",
       "Q 332.092108 93.950333 338.146975 93.414791 \n",
       "\" clip-path=\"url(#p5a659fc075)\" style=\"fill: none; stroke: #000000; stroke-linecap: round\"/>\n",
       "    <path d=\"M 333.986322 91.774985 \n",
       "L 338.146975 93.414791 \n",
       "L 334.338738 95.759431 \n",
       "L 333.986322 91.774985 \n",
       "z\n",
       "\" clip-path=\"url(#p5a659fc075)\" style=\"stroke: #000000; stroke-linecap: round\"/>\n",
       "   </g>\n",
       "   <g id=\"patch_4\">\n",
       "    <path d=\"M 289.482819 259.711499 \n",
       "Q 293.146539 262.398476 295.908701 264.424249 \n",
       "\" clip-path=\"url(#p5a659fc075)\" style=\"fill: none; stroke: #000000; stroke-linecap: round\"/>\n",
       "    <path d=\"M 293.865984 260.445894 \n",
       "L 295.908701 264.424249 \n",
       "L 291.500387 263.67141 \n",
       "L 293.865984 260.445894 \n",
       "z\n",
       "\" clip-path=\"url(#p5a659fc075)\" style=\"stroke: #000000; stroke-linecap: round\"/>\n",
       "   </g>\n",
       "   <g id=\"patch_5\">\n",
       "    <path d=\"M 352.247537 100.033166 \n",
       "Q 364.576022 121.172456 376.341257 141.345957 \n",
       "\" clip-path=\"url(#p5a659fc075)\" style=\"fill: none; stroke: #000000; stroke-linecap: round\"/>\n",
       "    <path d=\"M 376.053766 136.883071 \n",
       "L 376.341257 141.345957 \n",
       "L 372.598454 138.898218 \n",
       "L 376.053766 136.883071 \n",
       "z\n",
       "\" clip-path=\"url(#p5a659fc075)\" style=\"stroke: #000000; stroke-linecap: round\"/>\n",
       "   </g>\n",
       "   <g id=\"patch_6\">\n",
       "    <path d=\"M 344.932324 84.415082 \n",
       "Q 336.935173 62.375389 329.319375 41.386682 \n",
       "\" clip-path=\"url(#p5a659fc075)\" style=\"fill: none; stroke: #000000; stroke-linecap: round\"/>\n",
       "    <path d=\"M 328.803683 45.828985 \n",
       "L 329.319375 41.386682 \n",
       "L 332.563803 44.464618 \n",
       "L 328.803683 45.828985 \n",
       "z\n",
       "\" clip-path=\"url(#p5a659fc075)\" style=\"stroke: #000000; stroke-linecap: round\"/>\n",
       "   </g>\n",
       "   <g id=\"PathCollection_1\">\n",
       "    <defs>\n",
       "     <path id=\"ma941292f40\" d=\"M 0 8.660254 \n",
       "C 2.296726 8.660254 4.499694 7.747755 6.123724 6.123724 \n",
       "C 7.747755 4.499694 8.660254 2.296726 8.660254 0 \n",
       "C 8.660254 -2.296726 7.747755 -4.499694 6.123724 -6.123724 \n",
       "C 4.499694 -7.747755 2.296726 -8.660254 0 -8.660254 \n",
       "C -2.296726 -8.660254 -4.499694 -7.747755 -6.123724 -6.123724 \n",
       "C -7.747755 -4.499694 -8.660254 -2.296726 -8.660254 0 \n",
       "C -8.660254 2.296726 -7.747755 4.499694 -6.123724 6.123724 \n",
       "C -4.499694 7.747755 -2.296726 8.660254 0 8.660254 \n",
       "z\n",
       "\" style=\"stroke: #1f78b4\"/>\n",
       "    </defs>\n",
       "    <g clip-path=\"url(#p5a659fc075)\">\n",
       "     <use xlink:href=\"#ma941292f40\" x=\"381.266989\" y=\"149.791966\" style=\"fill: #1f78b4; stroke: #1f78b4\"/>\n",
       "     <use xlink:href=\"#ma941292f40\" x=\"318.116649\" y=\"214.361497\" style=\"fill: #1f78b4; stroke: #1f78b4\"/>\n",
       "     <use xlink:href=\"#ma941292f40\" x=\"413.036648\" y=\"157.303643\" style=\"fill: #1f78b4; stroke: #1f78b4\"/>\n",
       "     <use xlink:href=\"#ma941292f40\" x=\"316.297941\" y=\"95.347297\" style=\"fill: #1f78b4; stroke: #1f78b4\"/>\n",
       "     <use xlink:href=\"#ma941292f40\" x=\"303.795264\" y=\"270.208264\" style=\"fill: #1f78b4; stroke: #1f78b4\"/>\n",
       "     <use xlink:href=\"#ma941292f40\" x=\"282.49689\" y=\"254.58801\" style=\"fill: #1f78b4; stroke: #1f78b4\"/>\n",
       "     <use xlink:href=\"#ma941292f40\" x=\"107.457356\" y=\"254.584027\" style=\"fill: #1f78b4; stroke: #1f78b4\"/>\n",
       "     <use xlink:href=\"#ma941292f40\" x=\"131.165318\" y=\"35.012129\" style=\"fill: #1f78b4; stroke: #1f78b4\"/>\n",
       "     <use xlink:href=\"#ma941292f40\" x=\"325.982969\" y=\"32.191736\" style=\"fill: #1f78b4; stroke: #1f78b4\"/>\n",
       "     <use xlink:href=\"#ma941292f40\" x=\"26.836364\" y=\"121.541658\" style=\"fill: #1f78b4; stroke: #1f78b4\"/>\n",
       "     <use xlink:href=\"#ma941292f40\" x=\"347.885349\" y=\"92.55345\" style=\"fill: #1f78b4; stroke: #1f78b4\"/>\n",
       "    </g>\n",
       "   </g>\n",
       "   <g id=\"text_1\">\n",
       "    <g clip-path=\"url(#p5a659fc075)\">\n",
       "     <!-- Akt -->\n",
       "     <g transform=\"translate(371.336052 153.103216)scale(0.12 -0.12)\">\n",
       "      <defs>\n",
       "       <path id=\"DejaVuSans-41\" d=\"M 2188 4044 \n",
       "L 1331 1722 \n",
       "L 3047 1722 \n",
       "L 2188 4044 \n",
       "z\n",
       "M 1831 4666 \n",
       "L 2547 4666 \n",
       "L 4325 0 \n",
       "L 3669 0 \n",
       "L 3244 1197 \n",
       "L 1141 1197 \n",
       "L 716 0 \n",
       "L 50 0 \n",
       "L 1831 4666 \n",
       "z\n",
       "\" transform=\"scale(0.015625)\"/>\n",
       "       <path id=\"DejaVuSans-6b\" d=\"M 581 4863 \n",
       "L 1159 4863 \n",
       "L 1159 1991 \n",
       "L 2875 3500 \n",
       "L 3609 3500 \n",
       "L 1753 1863 \n",
       "L 3688 0 \n",
       "L 2938 0 \n",
       "L 1159 1709 \n",
       "L 1159 0 \n",
       "L 581 0 \n",
       "L 581 4863 \n",
       "z\n",
       "\" transform=\"scale(0.015625)\"/>\n",
       "       <path id=\"DejaVuSans-74\" d=\"M 1172 4494 \n",
       "L 1172 3500 \n",
       "L 2356 3500 \n",
       "L 2356 3053 \n",
       "L 1172 3053 \n",
       "L 1172 1153 \n",
       "Q 1172 725 1289 603 \n",
       "Q 1406 481 1766 481 \n",
       "L 2356 481 \n",
       "L 2356 0 \n",
       "L 1766 0 \n",
       "Q 1100 0 847 248 \n",
       "Q 594 497 594 1153 \n",
       "L 594 3053 \n",
       "L 172 3053 \n",
       "L 172 3500 \n",
       "L 594 3500 \n",
       "L 594 4494 \n",
       "L 1172 4494 \n",
       "z\n",
       "\" transform=\"scale(0.015625)\"/>\n",
       "      </defs>\n",
       "      <use xlink:href=\"#DejaVuSans-41\"/>\n",
       "      <use xlink:href=\"#DejaVuSans-6b\" x=\"68.408203\"/>\n",
       "      <use xlink:href=\"#DejaVuSans-74\" x=\"126.318359\"/>\n",
       "     </g>\n",
       "    </g>\n",
       "   </g>\n",
       "   <g id=\"text_2\">\n",
       "    <g clip-path=\"url(#p5a659fc075)\">\n",
       "     <!-- P38 -->\n",
       "     <g transform=\"translate(306.863836 217.672747)scale(0.12 -0.12)\">\n",
       "      <defs>\n",
       "       <path id=\"DejaVuSans-50\" d=\"M 1259 4147 \n",
       "L 1259 2394 \n",
       "L 2053 2394 \n",
       "Q 2494 2394 2734 2622 \n",
       "Q 2975 2850 2975 3272 \n",
       "Q 2975 3691 2734 3919 \n",
       "Q 2494 4147 2053 4147 \n",
       "L 1259 4147 \n",
       "z\n",
       "M 628 4666 \n",
       "L 2053 4666 \n",
       "Q 2838 4666 3239 4311 \n",
       "Q 3641 3956 3641 3272 \n",
       "Q 3641 2581 3239 2228 \n",
       "Q 2838 1875 2053 1875 \n",
       "L 1259 1875 \n",
       "L 1259 0 \n",
       "L 628 0 \n",
       "L 628 4666 \n",
       "z\n",
       "\" transform=\"scale(0.015625)\"/>\n",
       "       <path id=\"DejaVuSans-33\" d=\"M 2597 2516 \n",
       "Q 3050 2419 3304 2112 \n",
       "Q 3559 1806 3559 1356 \n",
       "Q 3559 666 3084 287 \n",
       "Q 2609 -91 1734 -91 \n",
       "Q 1441 -91 1130 -33 \n",
       "Q 819 25 488 141 \n",
       "L 488 750 \n",
       "Q 750 597 1062 519 \n",
       "Q 1375 441 1716 441 \n",
       "Q 2309 441 2620 675 \n",
       "Q 2931 909 2931 1356 \n",
       "Q 2931 1769 2642 2001 \n",
       "Q 2353 2234 1838 2234 \n",
       "L 1294 2234 \n",
       "L 1294 2753 \n",
       "L 1863 2753 \n",
       "Q 2328 2753 2575 2939 \n",
       "Q 2822 3125 2822 3475 \n",
       "Q 2822 3834 2567 4026 \n",
       "Q 2313 4219 1838 4219 \n",
       "Q 1578 4219 1281 4162 \n",
       "Q 984 4106 628 3988 \n",
       "L 628 4550 \n",
       "Q 988 4650 1302 4700 \n",
       "Q 1616 4750 1894 4750 \n",
       "Q 2613 4750 3031 4423 \n",
       "Q 3450 4097 3450 3541 \n",
       "Q 3450 3153 3228 2886 \n",
       "Q 3006 2619 2597 2516 \n",
       "z\n",
       "\" transform=\"scale(0.015625)\"/>\n",
       "       <path id=\"DejaVuSans-38\" d=\"M 2034 2216 \n",
       "Q 1584 2216 1326 1975 \n",
       "Q 1069 1734 1069 1313 \n",
       "Q 1069 891 1326 650 \n",
       "Q 1584 409 2034 409 \n",
       "Q 2484 409 2743 651 \n",
       "Q 3003 894 3003 1313 \n",
       "Q 3003 1734 2745 1975 \n",
       "Q 2488 2216 2034 2216 \n",
       "z\n",
       "M 1403 2484 \n",
       "Q 997 2584 770 2862 \n",
       "Q 544 3141 544 3541 \n",
       "Q 544 4100 942 4425 \n",
       "Q 1341 4750 2034 4750 \n",
       "Q 2731 4750 3128 4425 \n",
       "Q 3525 4100 3525 3541 \n",
       "Q 3525 3141 3298 2862 \n",
       "Q 3072 2584 2669 2484 \n",
       "Q 3125 2378 3379 2068 \n",
       "Q 3634 1759 3634 1313 \n",
       "Q 3634 634 3220 271 \n",
       "Q 2806 -91 2034 -91 \n",
       "Q 1263 -91 848 271 \n",
       "Q 434 634 434 1313 \n",
       "Q 434 1759 690 2068 \n",
       "Q 947 2378 1403 2484 \n",
       "z\n",
       "M 1172 3481 \n",
       "Q 1172 3119 1398 2916 \n",
       "Q 1625 2713 2034 2713 \n",
       "Q 2441 2713 2670 2916 \n",
       "Q 2900 3119 2900 3481 \n",
       "Q 2900 3844 2670 4047 \n",
       "Q 2441 4250 2034 4250 \n",
       "Q 1625 4250 1398 4047 \n",
       "Q 1172 3844 1172 3481 \n",
       "z\n",
       "\" transform=\"scale(0.015625)\"/>\n",
       "      </defs>\n",
       "      <use xlink:href=\"#DejaVuSans-50\"/>\n",
       "      <use xlink:href=\"#DejaVuSans-33\" x=\"60.302734\"/>\n",
       "      <use xlink:href=\"#DejaVuSans-38\" x=\"123.925781\"/>\n",
       "     </g>\n",
       "    </g>\n",
       "   </g>\n",
       "   <g id=\"text_3\">\n",
       "    <g clip-path=\"url(#p5a659fc075)\">\n",
       "     <!-- PIP3 -->\n",
       "     <g transform=\"translate(400.213523 160.614893)scale(0.12 -0.12)\">\n",
       "      <defs>\n",
       "       <path id=\"DejaVuSans-49\" d=\"M 628 4666 \n",
       "L 1259 4666 \n",
       "L 1259 0 \n",
       "L 628 0 \n",
       "L 628 4666 \n",
       "z\n",
       "\" transform=\"scale(0.015625)\"/>\n",
       "      </defs>\n",
       "      <use xlink:href=\"#DejaVuSans-50\"/>\n",
       "      <use xlink:href=\"#DejaVuSans-49\" x=\"60.302734\"/>\n",
       "      <use xlink:href=\"#DejaVuSans-50\" x=\"89.794922\"/>\n",
       "      <use xlink:href=\"#DejaVuSans-33\" x=\"150.097656\"/>\n",
       "     </g>\n",
       "    </g>\n",
       "   </g>\n",
       "   <g id=\"text_4\">\n",
       "    <g clip-path=\"url(#p5a659fc075)\">\n",
       "     <!-- PIP2 -->\n",
       "     <g transform=\"translate(303.474816 98.658547)scale(0.12 -0.12)\">\n",
       "      <defs>\n",
       "       <path id=\"DejaVuSans-32\" d=\"M 1228 531 \n",
       "L 3431 531 \n",
       "L 3431 0 \n",
       "L 469 0 \n",
       "L 469 531 \n",
       "Q 828 903 1448 1529 \n",
       "Q 2069 2156 2228 2338 \n",
       "Q 2531 2678 2651 2914 \n",
       "Q 2772 3150 2772 3378 \n",
       "Q 2772 3750 2511 3984 \n",
       "Q 2250 4219 1831 4219 \n",
       "Q 1534 4219 1204 4116 \n",
       "Q 875 4013 500 3803 \n",
       "L 500 4441 \n",
       "Q 881 4594 1212 4672 \n",
       "Q 1544 4750 1819 4750 \n",
       "Q 2544 4750 2975 4387 \n",
       "Q 3406 4025 3406 3419 \n",
       "Q 3406 3131 3298 2873 \n",
       "Q 3191 2616 2906 2266 \n",
       "Q 2828 2175 2409 1742 \n",
       "Q 1991 1309 1228 531 \n",
       "z\n",
       "\" transform=\"scale(0.015625)\"/>\n",
       "      </defs>\n",
       "      <use xlink:href=\"#DejaVuSans-50\"/>\n",
       "      <use xlink:href=\"#DejaVuSans-49\" x=\"60.302734\"/>\n",
       "      <use xlink:href=\"#DejaVuSans-50\" x=\"89.794922\"/>\n",
       "      <use xlink:href=\"#DejaVuSans-32\" x=\"150.097656\"/>\n",
       "     </g>\n",
       "    </g>\n",
       "   </g>\n",
       "   <g id=\"text_5\">\n",
       "    <g clip-path=\"url(#p5a659fc075)\">\n",
       "     <!-- PKA -->\n",
       "     <g transform=\"translate(292.243389 273.519514)scale(0.12 -0.12)\">\n",
       "      <defs>\n",
       "       <path id=\"DejaVuSans-4b\" d=\"M 628 4666 \n",
       "L 1259 4666 \n",
       "L 1259 2694 \n",
       "L 3353 4666 \n",
       "L 4166 4666 \n",
       "L 1850 2491 \n",
       "L 4331 0 \n",
       "L 3500 0 \n",
       "L 1259 2247 \n",
       "L 1259 0 \n",
       "L 628 0 \n",
       "L 628 4666 \n",
       "z\n",
       "\" transform=\"scale(0.015625)\"/>\n",
       "      </defs>\n",
       "      <use xlink:href=\"#DejaVuSans-50\"/>\n",
       "      <use xlink:href=\"#DejaVuSans-4b\" x=\"60.302734\"/>\n",
       "      <use xlink:href=\"#DejaVuSans-41\" x=\"124.128906\"/>\n",
       "     </g>\n",
       "    </g>\n",
       "   </g>\n",
       "   <g id=\"text_6\">\n",
       "    <g clip-path=\"url(#p5a659fc075)\">\n",
       "     <!-- PKC -->\n",
       "     <g transform=\"translate(271.084702 257.89926)scale(0.12 -0.12)\">\n",
       "      <defs>\n",
       "       <path id=\"DejaVuSans-43\" d=\"M 4122 4306 \n",
       "L 4122 3641 \n",
       "Q 3803 3938 3442 4084 \n",
       "Q 3081 4231 2675 4231 \n",
       "Q 1875 4231 1450 3742 \n",
       "Q 1025 3253 1025 2328 \n",
       "Q 1025 1406 1450 917 \n",
       "Q 1875 428 2675 428 \n",
       "Q 3081 428 3442 575 \n",
       "Q 3803 722 4122 1019 \n",
       "L 4122 359 \n",
       "Q 3791 134 3420 21 \n",
       "Q 3050 -91 2638 -91 \n",
       "Q 1578 -91 968 557 \n",
       "Q 359 1206 359 2328 \n",
       "Q 359 3453 968 4101 \n",
       "Q 1578 4750 2638 4750 \n",
       "Q 3056 4750 3426 4639 \n",
       "Q 3797 4528 4122 4306 \n",
       "z\n",
       "\" transform=\"scale(0.015625)\"/>\n",
       "      </defs>\n",
       "      <use xlink:href=\"#DejaVuSans-50\"/>\n",
       "      <use xlink:href=\"#DejaVuSans-4b\" x=\"60.302734\"/>\n",
       "      <use xlink:href=\"#DejaVuSans-43\" x=\"120.378906\"/>\n",
       "     </g>\n",
       "    </g>\n",
       "   </g>\n",
       "   <g id=\"text_7\">\n",
       "    <g clip-path=\"url(#p5a659fc075)\">\n",
       "     <!-- Mek -->\n",
       "     <g transform=\"translate(95.114231 257.895277)scale(0.12 -0.12)\">\n",
       "      <defs>\n",
       "       <path id=\"DejaVuSans-4d\" d=\"M 628 4666 \n",
       "L 1569 4666 \n",
       "L 2759 1491 \n",
       "L 3956 4666 \n",
       "L 4897 4666 \n",
       "L 4897 0 \n",
       "L 4281 0 \n",
       "L 4281 4097 \n",
       "L 3078 897 \n",
       "L 2444 897 \n",
       "L 1241 4097 \n",
       "L 1241 0 \n",
       "L 628 0 \n",
       "L 628 4666 \n",
       "z\n",
       "\" transform=\"scale(0.015625)\"/>\n",
       "       <path id=\"DejaVuSans-65\" d=\"M 3597 1894 \n",
       "L 3597 1613 \n",
       "L 953 1613 \n",
       "Q 991 1019 1311 708 \n",
       "Q 1631 397 2203 397 \n",
       "Q 2534 397 2845 478 \n",
       "Q 3156 559 3463 722 \n",
       "L 3463 178 \n",
       "Q 3153 47 2828 -22 \n",
       "Q 2503 -91 2169 -91 \n",
       "Q 1331 -91 842 396 \n",
       "Q 353 884 353 1716 \n",
       "Q 353 2575 817 3079 \n",
       "Q 1281 3584 2069 3584 \n",
       "Q 2775 3584 3186 3129 \n",
       "Q 3597 2675 3597 1894 \n",
       "z\n",
       "M 3022 2063 \n",
       "Q 3016 2534 2758 2815 \n",
       "Q 2500 3097 2075 3097 \n",
       "Q 1594 3097 1305 2825 \n",
       "Q 1016 2553 972 2059 \n",
       "L 3022 2063 \n",
       "z\n",
       "\" transform=\"scale(0.015625)\"/>\n",
       "      </defs>\n",
       "      <use xlink:href=\"#DejaVuSans-4d\"/>\n",
       "      <use xlink:href=\"#DejaVuSans-65\" x=\"86.279297\"/>\n",
       "      <use xlink:href=\"#DejaVuSans-6b\" x=\"147.802734\"/>\n",
       "     </g>\n",
       "    </g>\n",
       "   </g>\n",
       "   <g id=\"text_8\">\n",
       "    <g clip-path=\"url(#p5a659fc075)\">\n",
       "     <!-- Jnk -->\n",
       "     <g transform=\"translate(122.118443 38.323379)scale(0.12 -0.12)\">\n",
       "      <defs>\n",
       "       <path id=\"DejaVuSans-4a\" d=\"M 628 4666 \n",
       "L 1259 4666 \n",
       "L 1259 325 \n",
       "Q 1259 -519 939 -900 \n",
       "Q 619 -1281 -91 -1281 \n",
       "L -331 -1281 \n",
       "L -331 -750 \n",
       "L -134 -750 \n",
       "Q 284 -750 456 -515 \n",
       "Q 628 -281 628 325 \n",
       "L 628 4666 \n",
       "z\n",
       "\" transform=\"scale(0.015625)\"/>\n",
       "       <path id=\"DejaVuSans-6e\" d=\"M 3513 2113 \n",
       "L 3513 0 \n",
       "L 2938 0 \n",
       "L 2938 2094 \n",
       "Q 2938 2591 2744 2837 \n",
       "Q 2550 3084 2163 3084 \n",
       "Q 1697 3084 1428 2787 \n",
       "Q 1159 2491 1159 1978 \n",
       "L 1159 0 \n",
       "L 581 0 \n",
       "L 581 3500 \n",
       "L 1159 3500 \n",
       "L 1159 2956 \n",
       "Q 1366 3272 1645 3428 \n",
       "Q 1925 3584 2291 3584 \n",
       "Q 2894 3584 3203 3211 \n",
       "Q 3513 2838 3513 2113 \n",
       "z\n",
       "\" transform=\"scale(0.015625)\"/>\n",
       "      </defs>\n",
       "      <use xlink:href=\"#DejaVuSans-4a\"/>\n",
       "      <use xlink:href=\"#DejaVuSans-6e\" x=\"29.492188\"/>\n",
       "      <use xlink:href=\"#DejaVuSans-6b\" x=\"92.871094\"/>\n",
       "     </g>\n",
       "    </g>\n",
       "   </g>\n",
       "   <g id=\"text_9\">\n",
       "    <g clip-path=\"url(#p5a659fc075)\">\n",
       "     <!-- Erk -->\n",
       "     <g transform=\"translate(316.250781 35.502986)scale(0.12 -0.12)\">\n",
       "      <defs>\n",
       "       <path id=\"DejaVuSans-45\" d=\"M 628 4666 \n",
       "L 3578 4666 \n",
       "L 3578 4134 \n",
       "L 1259 4134 \n",
       "L 1259 2753 \n",
       "L 3481 2753 \n",
       "L 3481 2222 \n",
       "L 1259 2222 \n",
       "L 1259 531 \n",
       "L 3634 531 \n",
       "L 3634 0 \n",
       "L 628 0 \n",
       "L 628 4666 \n",
       "z\n",
       "\" transform=\"scale(0.015625)\"/>\n",
       "       <path id=\"DejaVuSans-72\" d=\"M 2631 2963 \n",
       "Q 2534 3019 2420 3045 \n",
       "Q 2306 3072 2169 3072 \n",
       "Q 1681 3072 1420 2755 \n",
       "Q 1159 2438 1159 1844 \n",
       "L 1159 0 \n",
       "L 581 0 \n",
       "L 581 3500 \n",
       "L 1159 3500 \n",
       "L 1159 2956 \n",
       "Q 1341 3275 1631 3429 \n",
       "Q 1922 3584 2338 3584 \n",
       "Q 2397 3584 2469 3576 \n",
       "Q 2541 3569 2628 3553 \n",
       "L 2631 2963 \n",
       "z\n",
       "\" transform=\"scale(0.015625)\"/>\n",
       "      </defs>\n",
       "      <use xlink:href=\"#DejaVuSans-45\"/>\n",
       "      <use xlink:href=\"#DejaVuSans-72\" x=\"63.183594\"/>\n",
       "      <use xlink:href=\"#DejaVuSans-6b\" x=\"104.296875\"/>\n",
       "     </g>\n",
       "    </g>\n",
       "   </g>\n",
       "   <g id=\"text_10\">\n",
       "    <g clip-path=\"url(#p5a659fc075)\">\n",
       "     <!-- Raf -->\n",
       "     <g transform=\"translate(17.013239 124.852908)scale(0.12 -0.12)\">\n",
       "      <defs>\n",
       "       <path id=\"DejaVuSans-52\" d=\"M 2841 2188 \n",
       "Q 3044 2119 3236 1894 \n",
       "Q 3428 1669 3622 1275 \n",
       "L 4263 0 \n",
       "L 3584 0 \n",
       "L 2988 1197 \n",
       "Q 2756 1666 2539 1819 \n",
       "Q 2322 1972 1947 1972 \n",
       "L 1259 1972 \n",
       "L 1259 0 \n",
       "L 628 0 \n",
       "L 628 4666 \n",
       "L 2053 4666 \n",
       "Q 2853 4666 3247 4331 \n",
       "Q 3641 3997 3641 3322 \n",
       "Q 3641 2881 3436 2590 \n",
       "Q 3231 2300 2841 2188 \n",
       "z\n",
       "M 1259 4147 \n",
       "L 1259 2491 \n",
       "L 2053 2491 \n",
       "Q 2509 2491 2742 2702 \n",
       "Q 2975 2913 2975 3322 \n",
       "Q 2975 3731 2742 3939 \n",
       "Q 2509 4147 2053 4147 \n",
       "L 1259 4147 \n",
       "z\n",
       "\" transform=\"scale(0.015625)\"/>\n",
       "       <path id=\"DejaVuSans-61\" d=\"M 2194 1759 \n",
       "Q 1497 1759 1228 1600 \n",
       "Q 959 1441 959 1056 \n",
       "Q 959 750 1161 570 \n",
       "Q 1363 391 1709 391 \n",
       "Q 2188 391 2477 730 \n",
       "Q 2766 1069 2766 1631 \n",
       "L 2766 1759 \n",
       "L 2194 1759 \n",
       "z\n",
       "M 3341 1997 \n",
       "L 3341 0 \n",
       "L 2766 0 \n",
       "L 2766 531 \n",
       "Q 2569 213 2275 61 \n",
       "Q 1981 -91 1556 -91 \n",
       "Q 1019 -91 701 211 \n",
       "Q 384 513 384 1019 \n",
       "Q 384 1609 779 1909 \n",
       "Q 1175 2209 1959 2209 \n",
       "L 2766 2209 \n",
       "L 2766 2266 \n",
       "Q 2766 2663 2505 2880 \n",
       "Q 2244 3097 1772 3097 \n",
       "Q 1472 3097 1187 3025 \n",
       "Q 903 2953 641 2809 \n",
       "L 641 3341 \n",
       "Q 956 3463 1253 3523 \n",
       "Q 1550 3584 1831 3584 \n",
       "Q 2591 3584 2966 3190 \n",
       "Q 3341 2797 3341 1997 \n",
       "z\n",
       "\" transform=\"scale(0.015625)\"/>\n",
       "       <path id=\"DejaVuSans-66\" d=\"M 2375 4863 \n",
       "L 2375 4384 \n",
       "L 1825 4384 \n",
       "Q 1516 4384 1395 4259 \n",
       "Q 1275 4134 1275 3809 \n",
       "L 1275 3500 \n",
       "L 2222 3500 \n",
       "L 2222 3053 \n",
       "L 1275 3053 \n",
       "L 1275 0 \n",
       "L 697 0 \n",
       "L 697 3053 \n",
       "L 147 3053 \n",
       "L 147 3500 \n",
       "L 697 3500 \n",
       "L 697 3744 \n",
       "Q 697 4328 969 4595 \n",
       "Q 1241 4863 1831 4863 \n",
       "L 2375 4863 \n",
       "z\n",
       "\" transform=\"scale(0.015625)\"/>\n",
       "      </defs>\n",
       "      <use xlink:href=\"#DejaVuSans-52\"/>\n",
       "      <use xlink:href=\"#DejaVuSans-61\" x=\"67.232422\"/>\n",
       "      <use xlink:href=\"#DejaVuSans-66\" x=\"128.511719\"/>\n",
       "     </g>\n",
       "    </g>\n",
       "   </g>\n",
       "   <g id=\"text_11\">\n",
       "    <g clip-path=\"url(#p5a659fc075)\">\n",
       "     <!-- Plcg -->\n",
       "     <g transform=\"translate(335.492536 95.8647)scale(0.12 -0.12)\">\n",
       "      <defs>\n",
       "       <path id=\"DejaVuSans-6c\" d=\"M 603 4863 \n",
       "L 1178 4863 \n",
       "L 1178 0 \n",
       "L 603 0 \n",
       "L 603 4863 \n",
       "z\n",
       "\" transform=\"scale(0.015625)\"/>\n",
       "       <path id=\"DejaVuSans-63\" d=\"M 3122 3366 \n",
       "L 3122 2828 \n",
       "Q 2878 2963 2633 3030 \n",
       "Q 2388 3097 2138 3097 \n",
       "Q 1578 3097 1268 2742 \n",
       "Q 959 2388 959 1747 \n",
       "Q 959 1106 1268 751 \n",
       "Q 1578 397 2138 397 \n",
       "Q 2388 397 2633 464 \n",
       "Q 2878 531 3122 666 \n",
       "L 3122 134 \n",
       "Q 2881 22 2623 -34 \n",
       "Q 2366 -91 2075 -91 \n",
       "Q 1284 -91 818 406 \n",
       "Q 353 903 353 1747 \n",
       "Q 353 2603 823 3093 \n",
       "Q 1294 3584 2113 3584 \n",
       "Q 2378 3584 2631 3529 \n",
       "Q 2884 3475 3122 3366 \n",
       "z\n",
       "\" transform=\"scale(0.015625)\"/>\n",
       "       <path id=\"DejaVuSans-67\" d=\"M 2906 1791 \n",
       "Q 2906 2416 2648 2759 \n",
       "Q 2391 3103 1925 3103 \n",
       "Q 1463 3103 1205 2759 \n",
       "Q 947 2416 947 1791 \n",
       "Q 947 1169 1205 825 \n",
       "Q 1463 481 1925 481 \n",
       "Q 2391 481 2648 825 \n",
       "Q 2906 1169 2906 1791 \n",
       "z\n",
       "M 3481 434 \n",
       "Q 3481 -459 3084 -895 \n",
       "Q 2688 -1331 1869 -1331 \n",
       "Q 1566 -1331 1297 -1286 \n",
       "Q 1028 -1241 775 -1147 \n",
       "L 775 -588 \n",
       "Q 1028 -725 1275 -790 \n",
       "Q 1522 -856 1778 -856 \n",
       "Q 2344 -856 2625 -561 \n",
       "Q 2906 -266 2906 331 \n",
       "L 2906 616 \n",
       "Q 2728 306 2450 153 \n",
       "Q 2172 0 1784 0 \n",
       "Q 1141 0 747 490 \n",
       "Q 353 981 353 1791 \n",
       "Q 353 2603 747 3093 \n",
       "Q 1141 3584 1784 3584 \n",
       "Q 2172 3584 2450 3431 \n",
       "Q 2728 3278 2906 2969 \n",
       "L 2906 3500 \n",
       "L 3481 3500 \n",
       "L 3481 434 \n",
       "z\n",
       "\" transform=\"scale(0.015625)\"/>\n",
       "      </defs>\n",
       "      <use xlink:href=\"#DejaVuSans-50\"/>\n",
       "      <use xlink:href=\"#DejaVuSans-6c\" x=\"60.302734\"/>\n",
       "      <use xlink:href=\"#DejaVuSans-63\" x=\"88.085938\"/>\n",
       "      <use xlink:href=\"#DejaVuSans-67\" x=\"143.066406\"/>\n",
       "     </g>\n",
       "    </g>\n",
       "   </g>\n",
       "  </g>\n",
       " </g>\n",
       " <defs>\n",
       "  <clipPath id=\"p5a659fc075\">\n",
       "   <rect x=\"7.2\" y=\"7.2\" width=\"432\" height=\"288\"/>\n",
       "  </clipPath>\n",
       " </defs>\n",
       "</svg>\n"
      ],
      "text/plain": [
       "<Figure size 432x288 with 1 Axes>"
      ]
     },
     "metadata": {},
     "output_type": "display_data"
    },
    {
     "name": "stderr",
     "output_type": "stream",
     "text": [
      "100%|█████████████████████████████████████████| 500/500 [00:05<00:00, 94.15it/s]\n",
      "100%|█████████████████████████████████████████████| 4/4 [00:37<00:00,  9.35s/it]\n"
     ]
    },
    {
     "name": "stdout",
     "output_type": "stream",
     "text": [
      "{'sachs_ccdr': 0, 'sachs_lingam': 1, 'sachs_dagGNN': 2, 'sachs_notears': 3}\n",
      "[0, 0, 0, 0, 3, 0, 0, 3, 0, 2, 0, 0, 3, 0, 1, 0, 3, 0, 1, 0, 0, 1, 1, 2, 0, 0, 1, 0, 0, 0, 1, 0, 3, 3, 2, 0, 0, 3, 0, 0, 1, 2, 0, 0, 1, 0, 0, 3, 2, 1, 2, 2, 3, 1, 0, 0, 0, 0, 0, 0, 0, 1, 1, 1, 1, 0, 0, 2, 3, 0, 3, 2, 0, 0, 1, 0, 0, 2, 0, 2, 3, 0, 0, 3, 0, 0, 1, 0, 0, 1, 2, 0, 0, 0, 0, 0, 2, 3, 0, 0, 0, 0, 3, 3, 1, 0, 0, 0, 2, 0, 0, 0, 3, 0, 1, 0, 3, 0, 0, 1, 1, 1, 1, 3, 3, 0, 0, 2, 0, 1, 0, 1, 0, 0, 0, 0, 0, 0, 1, 0, 0, 0, 0, 0, 0, 0, 0, 3, 0, 0, 0, 0, 0, 3, 0, 2, 1, 1, 0, 1, 0, 0, 3, 1, 1, 0, 3, 1, 0, 2, 1, 0, 2, 3, 0, 0, 0, 0, 2, 3, 0, 0, 3, 3, 3, 3, 3, 2, 2, 3, 0, 1, 0, 0, 0, 0, 3, 2, 1, 0, 0, 0, 0, 0, 0, 0, 0, 0, 0, 0, 0, 0, 0, 1, 0, 2, 1, 1, 3, 0, 0, 1, 2, 0, 2, 0, 0, 2, 3, 0, 0, 0, 2, 1, 0, 3, 0, 2, 2, 3, 3, 0, 0, 0, 0, 0, 0, 3, 3, 3, 3, 1, 1, 1, 0, 1, 0, 2, 3, 0, 3, 0, 2, 3, 0, 3, 0, 0, 0, 0, 3, 3, 0, 0, 2, 0, 0, 3, 3, 1, 1, 0, 0, 0, 0, 3, 3, 1, 0, 1, 2, 0, 1, 0, 0, 0, 1, 0, 0, 0, 1, 0, 2, 0, 3, 1, 3, 3, 1, 0, 1, 0, 1, 0, 0, 3, 3, 2, 0, 0, 0, 0, 0, 0, 0, 0, 0, 0, 0, 0, 0, 3, 3, 3, 1, 0, 1, 0, 3, 1, 0, 0, 0, 0, 3, 0, 0, 0, 3, 1, 0, 0, 0, 0, 0, 3, 0, 0, 0, 3, 1, 2, 0, 0, 0, 0, 0, 2, 0, 3, 0, 1, 0, 3, 0, 0, 2, 0, 0, 0, 0, 0, 0, 3, 0, 0, 0, 1, 0, 0, 0, 1, 3, 3, 0, 2, 0, 3, 1, 3, 3, 1, 1, 1, 0, 1, 2, 3, 0, 0, 0, 0, 0, 1, 0, 0, 0, 0, 0, 0, 3, 0, 3, 0, 0, 0, 3, 0, 0, 0, 1, 0, 1, 0, 0, 0, 0, 0, 0, 2, 3, 0, 1, 0, 0, 0, 0, 2, 3, 1, 0, 2, 0, 0, 0, 3, 0, 2, 0, 3, 2, 0, 0, 1, 0, 0, 3, 3, 3, 3, 3, 0, 0, 2]\n",
      "0.6041666666666666\n"
     ]
    },
    {
     "data": {
      "text/plain": [
       "<Figure size 432x288 with 0 Axes>"
      ]
     },
     "metadata": {},
     "output_type": "display_data"
    }
   ],
   "source": [
    "dataset_name = 'sachs'\n",
    "# replace, vals, num_disc = replace_vals(dataset_name)\n",
    "# save_bool(dataset_name, replace, vals)\n",
    "\n",
    "fnames = get_adjmats(dataset_name)\n",
    "nod_names = get_nodnames(dataset_name)\n",
    "\n",
    "learned_bns, Graphs = build_bns(fnames, nod_names, 3, [], False)\n",
    "\n",
    "files = list(learned_bns.keys())\n",
    "queries = generate_queries(dataset_name, [])\n",
    "y_true = true_probs(dataset_name, queries)\n",
    "y_models = get_prob_models(files, queries)\n",
    "adjs = fix_adjmats(learned_bns, files)\n",
    "df, clf, acc = multiclass(nod_names, files, queries, adjs, y_true, Graphs)"
   ]
  },
  {
   "cell_type": "code",
   "execution_count": 164,
   "id": "f4b97db7",
   "metadata": {},
   "outputs": [
    {
     "data": {
      "image/svg+xml": [
       "<?xml version=\"1.0\" encoding=\"utf-8\" standalone=\"no\"?>\n",
       "<!DOCTYPE svg PUBLIC \"-//W3C//DTD SVG 1.1//EN\"\n",
       "  \"http://www.w3.org/Graphics/SVG/1.1/DTD/svg11.dtd\">\n",
       "<svg xmlns:xlink=\"http://www.w3.org/1999/xlink\" width=\"446.4pt\" height=\"302.4pt\" viewBox=\"0 0 446.4 302.4\" xmlns=\"http://www.w3.org/2000/svg\" version=\"1.1\">\n",
       " <metadata>\n",
       "  <rdf:RDF xmlns:dc=\"http://purl.org/dc/elements/1.1/\" xmlns:cc=\"http://creativecommons.org/ns#\" xmlns:rdf=\"http://www.w3.org/1999/02/22-rdf-syntax-ns#\">\n",
       "   <cc:Work>\n",
       "    <dc:type rdf:resource=\"http://purl.org/dc/dcmitype/StillImage\"/>\n",
       "    <dc:date>2022-01-31T03:35:24.183836</dc:date>\n",
       "    <dc:format>image/svg+xml</dc:format>\n",
       "    <dc:creator>\n",
       "     <cc:Agent>\n",
       "      <dc:title>Matplotlib v3.5.1, https://matplotlib.org/</dc:title>\n",
       "     </cc:Agent>\n",
       "    </dc:creator>\n",
       "   </cc:Work>\n",
       "  </rdf:RDF>\n",
       " </metadata>\n",
       " <defs>\n",
       "  <style type=\"text/css\">*{stroke-linejoin: round; stroke-linecap: butt}</style>\n",
       " </defs>\n",
       " <g id=\"figure_1\">\n",
       "  <g id=\"patch_1\">\n",
       "   <path d=\"M 0 302.4 \n",
       "L 446.4 302.4 \n",
       "L 446.4 0 \n",
       "L 0 0 \n",
       "z\n",
       "\" style=\"fill: #ffffff\"/>\n",
       "  </g>\n",
       "  <g id=\"axes_1\">\n",
       "   <g id=\"patch_2\">\n",
       "    <path d=\"M 386.56703 243.653295 \n",
       "Q 388.878081 252.074775 390.893257 259.418083 \n",
       "\" clip-path=\"url(#p88da902ce0)\" style=\"fill: none; stroke: #000000; stroke-linecap: round\"/>\n",
       "    <path d=\"M 391.763393 255.031414 \n",
       "L 390.893257 259.418083 \n",
       "L 387.906004 256.089972 \n",
       "L 391.763393 255.031414 \n",
       "z\n",
       "\" clip-path=\"url(#p88da902ce0)\" style=\"stroke: #000000; stroke-linecap: round\"/>\n",
       "   </g>\n",
       "   <g id=\"patch_3\">\n",
       "    <path d=\"M 387.158528 215.295718 \n",
       "Q 386.334818 221.013713 385.670522 225.625096 \n",
       "\" clip-path=\"url(#p88da902ce0)\" style=\"fill: none; stroke: #000000; stroke-linecap: round\"/>\n",
       "    <path d=\"M 388.220423 221.951133 \n",
       "L 385.670522 225.625096 \n",
       "L 384.261292 221.380798 \n",
       "L 388.220423 221.951133 \n",
       "z\n",
       "\" clip-path=\"url(#p88da902ce0)\" style=\"stroke: #000000; stroke-linecap: round\"/>\n",
       "   </g>\n",
       "   <g id=\"patch_4\">\n",
       "    <path d=\"M 237.116634 267.02855 \n",
       "Q 246.312201 263.399526 254.467792 260.180928 \n",
       "\" clip-path=\"url(#p88da902ce0)\" style=\"fill: none; stroke: #000000; stroke-linecap: round\"/>\n",
       "    <path d=\"M 250.012868 259.788946 \n",
       "L 254.467792 260.180928 \n",
       "L 251.481252 263.509679 \n",
       "L 250.012868 259.788946 \n",
       "z\n",
       "\" clip-path=\"url(#p88da902ce0)\" style=\"stroke: #000000; stroke-linecap: round\"/>\n",
       "   </g>\n",
       "   <g id=\"patch_5\">\n",
       "    <path d=\"M 282.707075 176.234392 \n",
       "Q 334.772341 219.763124 385.979853 262.574739 \n",
       "\" clip-path=\"url(#p88da902ce0)\" style=\"fill: none; stroke: #000000; stroke-linecap: round\"/>\n",
       "    <path d=\"M 384.193879 258.474703 \n",
       "L 385.979853 262.574739 \n",
       "L 381.628239 261.543496 \n",
       "L 384.193879 258.474703 \n",
       "z\n",
       "\" clip-path=\"url(#p88da902ce0)\" style=\"stroke: #000000; stroke-linecap: round\"/>\n",
       "   </g>\n",
       "   <g id=\"patch_6\">\n",
       "    <path d=\"M 283.493808 175.116691 \n",
       "Q 330.16804 202.991087 375.882387 230.292228 \n",
       "\" clip-path=\"url(#p88da902ce0)\" style=\"fill: none; stroke: #000000; stroke-linecap: round\"/>\n",
       "    <path d=\"M 373.473667 226.524196 \n",
       "L 375.882387 230.292228 \n",
       "L 371.422729 229.958385 \n",
       "L 373.473667 226.524196 \n",
       "z\n",
       "\" clip-path=\"url(#p88da902ce0)\" style=\"stroke: #000000; stroke-linecap: round\"/>\n",
       "   </g>\n",
       "   <g id=\"patch_7\">\n",
       "    <path d=\"M 268.62827 166.228954 \n",
       "Q 160.373993 101.434549 53.07904 37.214338 \n",
       "\" clip-path=\"url(#p88da902ce0)\" style=\"fill: none; stroke: #000000; stroke-linecap: round\"/>\n",
       "    <path d=\"M 55.484075 40.984723 \n",
       "L 53.07904 37.214338 \n",
       "L 57.53837 37.552541 \n",
       "L 55.484075 40.984723 \n",
       "z\n",
       "\" clip-path=\"url(#p88da902ce0)\" style=\"stroke: #000000; stroke-linecap: round\"/>\n",
       "   </g>\n",
       "   <g id=\"patch_8\">\n",
       "    <path d=\"M 284.304585 173.322672 \n",
       "Q 332.22745 188.700431 379.085746 203.736584 \n",
       "\" clip-path=\"url(#p88da902ce0)\" style=\"fill: none; stroke: #000000; stroke-linecap: round\"/>\n",
       "    <path d=\"M 375.888111 200.610064 \n",
       "L 379.085746 203.736584 \n",
       "L 374.665949 204.41878 \n",
       "L 375.888111 200.610064 \n",
       "z\n",
       "\" clip-path=\"url(#p88da902ce0)\" style=\"stroke: #000000; stroke-linecap: round\"/>\n",
       "   </g>\n",
       "   <g id=\"patch_9\">\n",
       "    <path d=\"M 280.991956 177.796527 \n",
       "Q 301.115663 206.845183 320.602693 234.974794 \n",
       "\" clip-path=\"url(#p88da902ce0)\" style=\"fill: none; stroke: #000000; stroke-linecap: round\"/>\n",
       "    <path d=\"M 319.968888 230.547799 \n",
       "L 320.602693 234.974794 \n",
       "L 316.680813 232.825641 \n",
       "L 319.968888 230.547799 \n",
       "z\n",
       "\" clip-path=\"url(#p88da902ce0)\" style=\"stroke: #000000; stroke-linecap: round\"/>\n",
       "   </g>\n",
       "   <g id=\"patch_10\">\n",
       "    <path d=\"M 284.699267 171.273212 \n",
       "Q 338.886759 175.012316 391.958869 178.674455 \n",
       "\" clip-path=\"url(#p88da902ce0)\" style=\"fill: none; stroke: #000000; stroke-linecap: round\"/>\n",
       "    <path d=\"M 388.106037 176.403842 \n",
       "L 391.958869 178.674455 \n",
       "L 387.830679 180.394353 \n",
       "L 388.106037 176.403842 \n",
       "z\n",
       "\" clip-path=\"url(#p88da902ce0)\" style=\"stroke: #000000; stroke-linecap: round\"/>\n",
       "   </g>\n",
       "   <g id=\"patch_11\">\n",
       "    <path d=\"M 244.848709 143.370019 \n",
       "Q 148.553857 89.883622 53.236389 36.940107 \n",
       "\" clip-path=\"url(#p88da902ce0)\" style=\"fill: none; stroke: #000000; stroke-linecap: round\"/>\n",
       "    <path d=\"M 55.762047 40.630778 \n",
       "L 53.236389 36.940107 \n",
       "L 57.70432 37.133983 \n",
       "L 55.762047 40.630778 \n",
       "z\n",
       "\" clip-path=\"url(#p88da902ce0)\" style=\"stroke: #000000; stroke-linecap: round\"/>\n",
       "   </g>\n",
       "   <g id=\"patch_12\">\n",
       "    <path d=\"M 260.359348 151.029173 \n",
       "Q 320.404631 177.148537 379.424678 202.821928 \n",
       "\" clip-path=\"url(#p88da902ce0)\" style=\"fill: none; stroke: #000000; stroke-linecap: round\"/>\n",
       "    <path d=\"M 376.554461 199.392373 \n",
       "L 379.424678 202.821928 \n",
       "L 374.958903 203.060369 \n",
       "L 376.554461 199.392373 \n",
       "z\n",
       "\" clip-path=\"url(#p88da902ce0)\" style=\"stroke: #000000; stroke-linecap: round\"/>\n",
       "   </g>\n",
       "   <g id=\"patch_13\">\n",
       "    <path d=\"M 257.717211 154.429428 \n",
       "Q 289.297047 195.29572 320.193247 235.277342 \n",
       "\" clip-path=\"url(#p88da902ce0)\" style=\"fill: none; stroke: #000000; stroke-linecap: round\"/>\n",
       "    <path d=\"M 319.329937 230.889325 \n",
       "L 320.193247 235.277342 \n",
       "L 316.164847 233.33518 \n",
       "L 319.329937 230.889325 \n",
       "z\n",
       "\" clip-path=\"url(#p88da902ce0)\" style=\"stroke: #000000; stroke-linecap: round\"/>\n",
       "   </g>\n",
       "   <g id=\"patch_14\">\n",
       "    <path d=\"M 258.616601 153.630557 \n",
       "Q 264.241167 159.127183 269.066122 163.842386 \n",
       "\" clip-path=\"url(#p88da902ce0)\" style=\"fill: none; stroke: #000000; stroke-linecap: round\"/>\n",
       "    <path d=\"M 267.603197 159.616294 \n",
       "L 269.066122 163.842386 \n",
       "L 264.807494 162.477071 \n",
       "L 267.603197 159.616294 \n",
       "z\n",
       "\" clip-path=\"url(#p88da902ce0)\" style=\"stroke: #000000; stroke-linecap: round\"/>\n",
       "   </g>\n",
       "   <g id=\"patch_15\">\n",
       "    <path d=\"M 260.890886 149.378612 \n",
       "Q 327.066424 163.461729 392.148417 177.312124 \n",
       "\" clip-path=\"url(#p88da902ce0)\" style=\"fill: none; stroke: #000000; stroke-linecap: round\"/>\n",
       "    <path d=\"M 388.652339 174.523319 \n",
       "L 392.148417 177.312124 \n",
       "L 387.819726 178.435704 \n",
       "L 388.652339 174.523319 \n",
       "z\n",
       "\" clip-path=\"url(#p88da902ce0)\" style=\"stroke: #000000; stroke-linecap: round\"/>\n",
       "   </g>\n",
       "   <g id=\"patch_16\">\n",
       "    <path d=\"M 232.720207 248.011933 \n",
       "Q 243.967807 251.140898 254.138275 253.970215 \n",
       "\" clip-path=\"url(#p88da902ce0)\" style=\"fill: none; stroke: #000000; stroke-linecap: round\"/>\n",
       "    <path d=\"M 250.820637 250.971336 \n",
       "L 254.138275 253.970215 \n",
       "L 249.748589 254.824998 \n",
       "L 250.820637 250.971336 \n",
       "z\n",
       "\" clip-path=\"url(#p88da902ce0)\" style=\"stroke: #000000; stroke-linecap: round\"/>\n",
       "   </g>\n",
       "   <g id=\"patch_17\">\n",
       "    <path d=\"M 225.998973 254.198717 \n",
       "Q 226.715927 257.949 227.222945 260.601137 \n",
       "\" clip-path=\"url(#p88da902ce0)\" style=\"fill: none; stroke: #000000; stroke-linecap: round\"/>\n",
       "    <path d=\"M 228.436278 256.296741 \n",
       "L 227.222945 260.601137 \n",
       "L 224.507429 257.047833 \n",
       "L 228.436278 256.296741 \n",
       "z\n",
       "\" clip-path=\"url(#p88da902ce0)\" style=\"stroke: #000000; stroke-linecap: round\"/>\n",
       "   </g>\n",
       "   <g id=\"patch_18\">\n",
       "    <path d=\"M 397.922541 187.137152 \n",
       "Q 395.052293 193.036663 392.671177 197.930812 \n",
       "\" clip-path=\"url(#p88da902ce0)\" style=\"fill: none; stroke: #000000; stroke-linecap: round\"/>\n",
       "    <path d=\"M 396.21959 195.208908 \n",
       "L 392.671177 197.930812 \n",
       "L 392.622702 193.458939 \n",
       "L 396.21959 195.208908 \n",
       "z\n",
       "\" clip-path=\"url(#p88da902ce0)\" style=\"stroke: #000000; stroke-linecap: round\"/>\n",
       "   </g>\n",
       "   <g id=\"PathCollection_1\">\n",
       "    <defs>\n",
       "     <path id=\"mbbb3c94848\" d=\"M 0 8.660254 \n",
       "C 2.296726 8.660254 4.499694 7.747755 6.123724 6.123724 \n",
       "C 7.747755 4.499694 8.660254 2.296726 8.660254 0 \n",
       "C 8.660254 -2.296726 7.747755 -4.499694 6.123724 -6.123724 \n",
       "C 4.499694 -7.747755 2.296726 -8.660254 0 -8.660254 \n",
       "C -2.296726 -8.660254 -4.499694 -7.747755 -6.123724 -6.123724 \n",
       "C -7.747755 -4.499694 -8.660254 -2.296726 -8.660254 0 \n",
       "C -8.660254 2.296726 -7.747755 4.499694 -6.123724 6.123724 \n",
       "C -4.499694 7.747755 -2.296726 8.660254 0 8.660254 \n",
       "z\n",
       "\" style=\"stroke: #1f78b4\"/>\n",
       "    </defs>\n",
       "    <g clip-path=\"url(#p88da902ce0)\">\n",
       "     <use xlink:href=\"#mbbb3c94848\" x=\"393.480352\" y=\"268.845469\" style=\"fill: #1f78b4; stroke: #1f78b4\"/>\n",
       "     <use xlink:href=\"#mbbb3c94848\" x=\"384.276072\" y=\"235.305035\" style=\"fill: #1f78b4; stroke: #1f78b4\"/>\n",
       "     <use xlink:href=\"#mbbb3c94848\" x=\"44.687603\" y=\"32.191736\" style=\"fill: #1f78b4; stroke: #1f78b4\"/>\n",
       "     <use xlink:href=\"#mbbb3c94848\" x=\"388.393435\" y=\"206.723288\" style=\"fill: #1f78b4; stroke: #1f78b4\"/>\n",
       "     <use xlink:href=\"#mbbb3c94848\" x=\"326.172745\" y=\"243.015188\" style=\"fill: #1f78b4; stroke: #1f78b4\"/>\n",
       "     <use xlink:href=\"#mbbb3c94848\" x=\"263.562161\" y=\"256.591841\" style=\"fill: #1f78b4; stroke: #1f78b4\"/>\n",
       "     <use xlink:href=\"#mbbb3c94848\" x=\"229.059572\" y=\"270.208264\" style=\"fill: #1f78b4; stroke: #1f78b4\"/>\n",
       "     <use xlink:href=\"#mbbb3c94848\" x=\"276.05989\" y=\"170.677068\" style=\"fill: #1f78b4; stroke: #1f78b4\"/>\n",
       "     <use xlink:href=\"#mbbb3c94848\" x=\"252.421276\" y=\"147.576156\" style=\"fill: #1f78b4; stroke: #1f78b4\"/>\n",
       "     <use xlink:href=\"#mbbb3c94848\" x=\"224.37226\" y=\"245.689622\" style=\"fill: #1f78b4; stroke: #1f78b4\"/>\n",
       "     <use xlink:href=\"#mbbb3c94848\" x=\"401.712397\" y=\"179.347478\" style=\"fill: #1f78b4; stroke: #1f78b4\"/>\n",
       "    </g>\n",
       "   </g>\n",
       "   <g id=\"text_1\">\n",
       "    <g clip-path=\"url(#p88da902ce0)\">\n",
       "     <!-- Akt -->\n",
       "     <g transform=\"translate(383.549415 272.156719)scale(0.12 -0.12)\">\n",
       "      <defs>\n",
       "       <path id=\"DejaVuSans-41\" d=\"M 2188 4044 \n",
       "L 1331 1722 \n",
       "L 3047 1722 \n",
       "L 2188 4044 \n",
       "z\n",
       "M 1831 4666 \n",
       "L 2547 4666 \n",
       "L 4325 0 \n",
       "L 3669 0 \n",
       "L 3244 1197 \n",
       "L 1141 1197 \n",
       "L 716 0 \n",
       "L 50 0 \n",
       "L 1831 4666 \n",
       "z\n",
       "\" transform=\"scale(0.015625)\"/>\n",
       "       <path id=\"DejaVuSans-6b\" d=\"M 581 4863 \n",
       "L 1159 4863 \n",
       "L 1159 1991 \n",
       "L 2875 3500 \n",
       "L 3609 3500 \n",
       "L 1753 1863 \n",
       "L 3688 0 \n",
       "L 2938 0 \n",
       "L 1159 1709 \n",
       "L 1159 0 \n",
       "L 581 0 \n",
       "L 581 4863 \n",
       "z\n",
       "\" transform=\"scale(0.015625)\"/>\n",
       "       <path id=\"DejaVuSans-74\" d=\"M 1172 4494 \n",
       "L 1172 3500 \n",
       "L 2356 3500 \n",
       "L 2356 3053 \n",
       "L 1172 3053 \n",
       "L 1172 1153 \n",
       "Q 1172 725 1289 603 \n",
       "Q 1406 481 1766 481 \n",
       "L 2356 481 \n",
       "L 2356 0 \n",
       "L 1766 0 \n",
       "Q 1100 0 847 248 \n",
       "Q 594 497 594 1153 \n",
       "L 594 3053 \n",
       "L 172 3053 \n",
       "L 172 3500 \n",
       "L 594 3500 \n",
       "L 594 4494 \n",
       "L 1172 4494 \n",
       "z\n",
       "\" transform=\"scale(0.015625)\"/>\n",
       "      </defs>\n",
       "      <use xlink:href=\"#DejaVuSans-41\"/>\n",
       "      <use xlink:href=\"#DejaVuSans-6b\" x=\"68.408203\"/>\n",
       "      <use xlink:href=\"#DejaVuSans-74\" x=\"126.318359\"/>\n",
       "     </g>\n",
       "    </g>\n",
       "   </g>\n",
       "   <g id=\"text_2\">\n",
       "    <g clip-path=\"url(#p88da902ce0)\">\n",
       "     <!-- Erk -->\n",
       "     <g transform=\"translate(374.543884 238.616285)scale(0.12 -0.12)\">\n",
       "      <defs>\n",
       "       <path id=\"DejaVuSans-45\" d=\"M 628 4666 \n",
       "L 3578 4666 \n",
       "L 3578 4134 \n",
       "L 1259 4134 \n",
       "L 1259 2753 \n",
       "L 3481 2753 \n",
       "L 3481 2222 \n",
       "L 1259 2222 \n",
       "L 1259 531 \n",
       "L 3634 531 \n",
       "L 3634 0 \n",
       "L 628 0 \n",
       "L 628 4666 \n",
       "z\n",
       "\" transform=\"scale(0.015625)\"/>\n",
       "       <path id=\"DejaVuSans-72\" d=\"M 2631 2963 \n",
       "Q 2534 3019 2420 3045 \n",
       "Q 2306 3072 2169 3072 \n",
       "Q 1681 3072 1420 2755 \n",
       "Q 1159 2438 1159 1844 \n",
       "L 1159 0 \n",
       "L 581 0 \n",
       "L 581 3500 \n",
       "L 1159 3500 \n",
       "L 1159 2956 \n",
       "Q 1341 3275 1631 3429 \n",
       "Q 1922 3584 2338 3584 \n",
       "Q 2397 3584 2469 3576 \n",
       "Q 2541 3569 2628 3553 \n",
       "L 2631 2963 \n",
       "z\n",
       "\" transform=\"scale(0.015625)\"/>\n",
       "      </defs>\n",
       "      <use xlink:href=\"#DejaVuSans-45\"/>\n",
       "      <use xlink:href=\"#DejaVuSans-72\" x=\"63.183594\"/>\n",
       "      <use xlink:href=\"#DejaVuSans-6b\" x=\"104.296875\"/>\n",
       "     </g>\n",
       "    </g>\n",
       "   </g>\n",
       "   <g id=\"text_3\">\n",
       "    <g clip-path=\"url(#p88da902ce0)\">\n",
       "     <!-- Jnk -->\n",
       "     <g transform=\"translate(35.640728 35.502986)scale(0.12 -0.12)\">\n",
       "      <defs>\n",
       "       <path id=\"DejaVuSans-4a\" d=\"M 628 4666 \n",
       "L 1259 4666 \n",
       "L 1259 325 \n",
       "Q 1259 -519 939 -900 \n",
       "Q 619 -1281 -91 -1281 \n",
       "L -331 -1281 \n",
       "L -331 -750 \n",
       "L -134 -750 \n",
       "Q 284 -750 456 -515 \n",
       "Q 628 -281 628 325 \n",
       "L 628 4666 \n",
       "z\n",
       "\" transform=\"scale(0.015625)\"/>\n",
       "       <path id=\"DejaVuSans-6e\" d=\"M 3513 2113 \n",
       "L 3513 0 \n",
       "L 2938 0 \n",
       "L 2938 2094 \n",
       "Q 2938 2591 2744 2837 \n",
       "Q 2550 3084 2163 3084 \n",
       "Q 1697 3084 1428 2787 \n",
       "Q 1159 2491 1159 1978 \n",
       "L 1159 0 \n",
       "L 581 0 \n",
       "L 581 3500 \n",
       "L 1159 3500 \n",
       "L 1159 2956 \n",
       "Q 1366 3272 1645 3428 \n",
       "Q 1925 3584 2291 3584 \n",
       "Q 2894 3584 3203 3211 \n",
       "Q 3513 2838 3513 2113 \n",
       "z\n",
       "\" transform=\"scale(0.015625)\"/>\n",
       "      </defs>\n",
       "      <use xlink:href=\"#DejaVuSans-4a\"/>\n",
       "      <use xlink:href=\"#DejaVuSans-6e\" x=\"29.492188\"/>\n",
       "      <use xlink:href=\"#DejaVuSans-6b\" x=\"92.871094\"/>\n",
       "     </g>\n",
       "    </g>\n",
       "   </g>\n",
       "   <g id=\"text_4\">\n",
       "    <g clip-path=\"url(#p88da902ce0)\">\n",
       "     <!-- Mek -->\n",
       "     <g transform=\"translate(376.05031 210.034538)scale(0.12 -0.12)\">\n",
       "      <defs>\n",
       "       <path id=\"DejaVuSans-4d\" d=\"M 628 4666 \n",
       "L 1569 4666 \n",
       "L 2759 1491 \n",
       "L 3956 4666 \n",
       "L 4897 4666 \n",
       "L 4897 0 \n",
       "L 4281 0 \n",
       "L 4281 4097 \n",
       "L 3078 897 \n",
       "L 2444 897 \n",
       "L 1241 4097 \n",
       "L 1241 0 \n",
       "L 628 0 \n",
       "L 628 4666 \n",
       "z\n",
       "\" transform=\"scale(0.015625)\"/>\n",
       "       <path id=\"DejaVuSans-65\" d=\"M 3597 1894 \n",
       "L 3597 1613 \n",
       "L 953 1613 \n",
       "Q 991 1019 1311 708 \n",
       "Q 1631 397 2203 397 \n",
       "Q 2534 397 2845 478 \n",
       "Q 3156 559 3463 722 \n",
       "L 3463 178 \n",
       "Q 3153 47 2828 -22 \n",
       "Q 2503 -91 2169 -91 \n",
       "Q 1331 -91 842 396 \n",
       "Q 353 884 353 1716 \n",
       "Q 353 2575 817 3079 \n",
       "Q 1281 3584 2069 3584 \n",
       "Q 2775 3584 3186 3129 \n",
       "Q 3597 2675 3597 1894 \n",
       "z\n",
       "M 3022 2063 \n",
       "Q 3016 2534 2758 2815 \n",
       "Q 2500 3097 2075 3097 \n",
       "Q 1594 3097 1305 2825 \n",
       "Q 1016 2553 972 2059 \n",
       "L 3022 2063 \n",
       "z\n",
       "\" transform=\"scale(0.015625)\"/>\n",
       "      </defs>\n",
       "      <use xlink:href=\"#DejaVuSans-4d\"/>\n",
       "      <use xlink:href=\"#DejaVuSans-65\" x=\"86.279297\"/>\n",
       "      <use xlink:href=\"#DejaVuSans-6b\" x=\"147.802734\"/>\n",
       "     </g>\n",
       "    </g>\n",
       "   </g>\n",
       "   <g id=\"text_5\">\n",
       "    <g clip-path=\"url(#p88da902ce0)\">\n",
       "     <!-- P38 -->\n",
       "     <g transform=\"translate(314.919932 246.326438)scale(0.12 -0.12)\">\n",
       "      <defs>\n",
       "       <path id=\"DejaVuSans-50\" d=\"M 1259 4147 \n",
       "L 1259 2394 \n",
       "L 2053 2394 \n",
       "Q 2494 2394 2734 2622 \n",
       "Q 2975 2850 2975 3272 \n",
       "Q 2975 3691 2734 3919 \n",
       "Q 2494 4147 2053 4147 \n",
       "L 1259 4147 \n",
       "z\n",
       "M 628 4666 \n",
       "L 2053 4666 \n",
       "Q 2838 4666 3239 4311 \n",
       "Q 3641 3956 3641 3272 \n",
       "Q 3641 2581 3239 2228 \n",
       "Q 2838 1875 2053 1875 \n",
       "L 1259 1875 \n",
       "L 1259 0 \n",
       "L 628 0 \n",
       "L 628 4666 \n",
       "z\n",
       "\" transform=\"scale(0.015625)\"/>\n",
       "       <path id=\"DejaVuSans-33\" d=\"M 2597 2516 \n",
       "Q 3050 2419 3304 2112 \n",
       "Q 3559 1806 3559 1356 \n",
       "Q 3559 666 3084 287 \n",
       "Q 2609 -91 1734 -91 \n",
       "Q 1441 -91 1130 -33 \n",
       "Q 819 25 488 141 \n",
       "L 488 750 \n",
       "Q 750 597 1062 519 \n",
       "Q 1375 441 1716 441 \n",
       "Q 2309 441 2620 675 \n",
       "Q 2931 909 2931 1356 \n",
       "Q 2931 1769 2642 2001 \n",
       "Q 2353 2234 1838 2234 \n",
       "L 1294 2234 \n",
       "L 1294 2753 \n",
       "L 1863 2753 \n",
       "Q 2328 2753 2575 2939 \n",
       "Q 2822 3125 2822 3475 \n",
       "Q 2822 3834 2567 4026 \n",
       "Q 2313 4219 1838 4219 \n",
       "Q 1578 4219 1281 4162 \n",
       "Q 984 4106 628 3988 \n",
       "L 628 4550 \n",
       "Q 988 4650 1302 4700 \n",
       "Q 1616 4750 1894 4750 \n",
       "Q 2613 4750 3031 4423 \n",
       "Q 3450 4097 3450 3541 \n",
       "Q 3450 3153 3228 2886 \n",
       "Q 3006 2619 2597 2516 \n",
       "z\n",
       "\" transform=\"scale(0.015625)\"/>\n",
       "       <path id=\"DejaVuSans-38\" d=\"M 2034 2216 \n",
       "Q 1584 2216 1326 1975 \n",
       "Q 1069 1734 1069 1313 \n",
       "Q 1069 891 1326 650 \n",
       "Q 1584 409 2034 409 \n",
       "Q 2484 409 2743 651 \n",
       "Q 3003 894 3003 1313 \n",
       "Q 3003 1734 2745 1975 \n",
       "Q 2488 2216 2034 2216 \n",
       "z\n",
       "M 1403 2484 \n",
       "Q 997 2584 770 2862 \n",
       "Q 544 3141 544 3541 \n",
       "Q 544 4100 942 4425 \n",
       "Q 1341 4750 2034 4750 \n",
       "Q 2731 4750 3128 4425 \n",
       "Q 3525 4100 3525 3541 \n",
       "Q 3525 3141 3298 2862 \n",
       "Q 3072 2584 2669 2484 \n",
       "Q 3125 2378 3379 2068 \n",
       "Q 3634 1759 3634 1313 \n",
       "Q 3634 634 3220 271 \n",
       "Q 2806 -91 2034 -91 \n",
       "Q 1263 -91 848 271 \n",
       "Q 434 634 434 1313 \n",
       "Q 434 1759 690 2068 \n",
       "Q 947 2378 1403 2484 \n",
       "z\n",
       "M 1172 3481 \n",
       "Q 1172 3119 1398 2916 \n",
       "Q 1625 2713 2034 2713 \n",
       "Q 2441 2713 2670 2916 \n",
       "Q 2900 3119 2900 3481 \n",
       "Q 2900 3844 2670 4047 \n",
       "Q 2441 4250 2034 4250 \n",
       "Q 1625 4250 1398 4047 \n",
       "Q 1172 3844 1172 3481 \n",
       "z\n",
       "\" transform=\"scale(0.015625)\"/>\n",
       "      </defs>\n",
       "      <use xlink:href=\"#DejaVuSans-50\"/>\n",
       "      <use xlink:href=\"#DejaVuSans-33\" x=\"60.302734\"/>\n",
       "      <use xlink:href=\"#DejaVuSans-38\" x=\"123.925781\"/>\n",
       "     </g>\n",
       "    </g>\n",
       "   </g>\n",
       "   <g id=\"text_6\">\n",
       "    <g clip-path=\"url(#p88da902ce0)\">\n",
       "     <!-- PIP2 -->\n",
       "     <g transform=\"translate(250.739036 259.903091)scale(0.12 -0.12)\">\n",
       "      <defs>\n",
       "       <path id=\"DejaVuSans-49\" d=\"M 628 4666 \n",
       "L 1259 4666 \n",
       "L 1259 0 \n",
       "L 628 0 \n",
       "L 628 4666 \n",
       "z\n",
       "\" transform=\"scale(0.015625)\"/>\n",
       "       <path id=\"DejaVuSans-32\" d=\"M 1228 531 \n",
       "L 3431 531 \n",
       "L 3431 0 \n",
       "L 469 0 \n",
       "L 469 531 \n",
       "Q 828 903 1448 1529 \n",
       "Q 2069 2156 2228 2338 \n",
       "Q 2531 2678 2651 2914 \n",
       "Q 2772 3150 2772 3378 \n",
       "Q 2772 3750 2511 3984 \n",
       "Q 2250 4219 1831 4219 \n",
       "Q 1534 4219 1204 4116 \n",
       "Q 875 4013 500 3803 \n",
       "L 500 4441 \n",
       "Q 881 4594 1212 4672 \n",
       "Q 1544 4750 1819 4750 \n",
       "Q 2544 4750 2975 4387 \n",
       "Q 3406 4025 3406 3419 \n",
       "Q 3406 3131 3298 2873 \n",
       "Q 3191 2616 2906 2266 \n",
       "Q 2828 2175 2409 1742 \n",
       "Q 1991 1309 1228 531 \n",
       "z\n",
       "\" transform=\"scale(0.015625)\"/>\n",
       "      </defs>\n",
       "      <use xlink:href=\"#DejaVuSans-50\"/>\n",
       "      <use xlink:href=\"#DejaVuSans-49\" x=\"60.302734\"/>\n",
       "      <use xlink:href=\"#DejaVuSans-50\" x=\"89.794922\"/>\n",
       "      <use xlink:href=\"#DejaVuSans-32\" x=\"150.097656\"/>\n",
       "     </g>\n",
       "    </g>\n",
       "   </g>\n",
       "   <g id=\"text_7\">\n",
       "    <g clip-path=\"url(#p88da902ce0)\">\n",
       "     <!-- PIP3 -->\n",
       "     <g transform=\"translate(216.236447 273.519514)scale(0.12 -0.12)\">\n",
       "      <use xlink:href=\"#DejaVuSans-50\"/>\n",
       "      <use xlink:href=\"#DejaVuSans-49\" x=\"60.302734\"/>\n",
       "      <use xlink:href=\"#DejaVuSans-50\" x=\"89.794922\"/>\n",
       "      <use xlink:href=\"#DejaVuSans-33\" x=\"150.097656\"/>\n",
       "     </g>\n",
       "    </g>\n",
       "   </g>\n",
       "   <g id=\"text_8\">\n",
       "    <g clip-path=\"url(#p88da902ce0)\">\n",
       "     <!-- PKA -->\n",
       "     <g transform=\"translate(264.508015 173.988318)scale(0.12 -0.12)\">\n",
       "      <defs>\n",
       "       <path id=\"DejaVuSans-4b\" d=\"M 628 4666 \n",
       "L 1259 4666 \n",
       "L 1259 2694 \n",
       "L 3353 4666 \n",
       "L 4166 4666 \n",
       "L 1850 2491 \n",
       "L 4331 0 \n",
       "L 3500 0 \n",
       "L 1259 2247 \n",
       "L 1259 0 \n",
       "L 628 0 \n",
       "L 628 4666 \n",
       "z\n",
       "\" transform=\"scale(0.015625)\"/>\n",
       "      </defs>\n",
       "      <use xlink:href=\"#DejaVuSans-50\"/>\n",
       "      <use xlink:href=\"#DejaVuSans-4b\" x=\"60.302734\"/>\n",
       "      <use xlink:href=\"#DejaVuSans-41\" x=\"124.128906\"/>\n",
       "     </g>\n",
       "    </g>\n",
       "   </g>\n",
       "   <g id=\"text_9\">\n",
       "    <g clip-path=\"url(#p88da902ce0)\">\n",
       "     <!-- PKC -->\n",
       "     <g transform=\"translate(241.009088 150.887406)scale(0.12 -0.12)\">\n",
       "      <defs>\n",
       "       <path id=\"DejaVuSans-43\" d=\"M 4122 4306 \n",
       "L 4122 3641 \n",
       "Q 3803 3938 3442 4084 \n",
       "Q 3081 4231 2675 4231 \n",
       "Q 1875 4231 1450 3742 \n",
       "Q 1025 3253 1025 2328 \n",
       "Q 1025 1406 1450 917 \n",
       "Q 1875 428 2675 428 \n",
       "Q 3081 428 3442 575 \n",
       "Q 3803 722 4122 1019 \n",
       "L 4122 359 \n",
       "Q 3791 134 3420 21 \n",
       "Q 3050 -91 2638 -91 \n",
       "Q 1578 -91 968 557 \n",
       "Q 359 1206 359 2328 \n",
       "Q 359 3453 968 4101 \n",
       "Q 1578 4750 2638 4750 \n",
       "Q 3056 4750 3426 4639 \n",
       "Q 3797 4528 4122 4306 \n",
       "z\n",
       "\" transform=\"scale(0.015625)\"/>\n",
       "      </defs>\n",
       "      <use xlink:href=\"#DejaVuSans-50\"/>\n",
       "      <use xlink:href=\"#DejaVuSans-4b\" x=\"60.302734\"/>\n",
       "      <use xlink:href=\"#DejaVuSans-43\" x=\"120.378906\"/>\n",
       "     </g>\n",
       "    </g>\n",
       "   </g>\n",
       "   <g id=\"text_10\">\n",
       "    <g clip-path=\"url(#p88da902ce0)\">\n",
       "     <!-- Plcg -->\n",
       "     <g transform=\"translate(211.979448 249.000872)scale(0.12 -0.12)\">\n",
       "      <defs>\n",
       "       <path id=\"DejaVuSans-6c\" d=\"M 603 4863 \n",
       "L 1178 4863 \n",
       "L 1178 0 \n",
       "L 603 0 \n",
       "L 603 4863 \n",
       "z\n",
       "\" transform=\"scale(0.015625)\"/>\n",
       "       <path id=\"DejaVuSans-63\" d=\"M 3122 3366 \n",
       "L 3122 2828 \n",
       "Q 2878 2963 2633 3030 \n",
       "Q 2388 3097 2138 3097 \n",
       "Q 1578 3097 1268 2742 \n",
       "Q 959 2388 959 1747 \n",
       "Q 959 1106 1268 751 \n",
       "Q 1578 397 2138 397 \n",
       "Q 2388 397 2633 464 \n",
       "Q 2878 531 3122 666 \n",
       "L 3122 134 \n",
       "Q 2881 22 2623 -34 \n",
       "Q 2366 -91 2075 -91 \n",
       "Q 1284 -91 818 406 \n",
       "Q 353 903 353 1747 \n",
       "Q 353 2603 823 3093 \n",
       "Q 1294 3584 2113 3584 \n",
       "Q 2378 3584 2631 3529 \n",
       "Q 2884 3475 3122 3366 \n",
       "z\n",
       "\" transform=\"scale(0.015625)\"/>\n",
       "       <path id=\"DejaVuSans-67\" d=\"M 2906 1791 \n",
       "Q 2906 2416 2648 2759 \n",
       "Q 2391 3103 1925 3103 \n",
       "Q 1463 3103 1205 2759 \n",
       "Q 947 2416 947 1791 \n",
       "Q 947 1169 1205 825 \n",
       "Q 1463 481 1925 481 \n",
       "Q 2391 481 2648 825 \n",
       "Q 2906 1169 2906 1791 \n",
       "z\n",
       "M 3481 434 \n",
       "Q 3481 -459 3084 -895 \n",
       "Q 2688 -1331 1869 -1331 \n",
       "Q 1566 -1331 1297 -1286 \n",
       "Q 1028 -1241 775 -1147 \n",
       "L 775 -588 \n",
       "Q 1028 -725 1275 -790 \n",
       "Q 1522 -856 1778 -856 \n",
       "Q 2344 -856 2625 -561 \n",
       "Q 2906 -266 2906 331 \n",
       "L 2906 616 \n",
       "Q 2728 306 2450 153 \n",
       "Q 2172 0 1784 0 \n",
       "Q 1141 0 747 490 \n",
       "Q 353 981 353 1791 \n",
       "Q 353 2603 747 3093 \n",
       "Q 1141 3584 1784 3584 \n",
       "Q 2172 3584 2450 3431 \n",
       "Q 2728 3278 2906 2969 \n",
       "L 2906 3500 \n",
       "L 3481 3500 \n",
       "L 3481 434 \n",
       "z\n",
       "\" transform=\"scale(0.015625)\"/>\n",
       "      </defs>\n",
       "      <use xlink:href=\"#DejaVuSans-50\"/>\n",
       "      <use xlink:href=\"#DejaVuSans-6c\" x=\"60.302734\"/>\n",
       "      <use xlink:href=\"#DejaVuSans-63\" x=\"88.085938\"/>\n",
       "      <use xlink:href=\"#DejaVuSans-67\" x=\"143.066406\"/>\n",
       "     </g>\n",
       "    </g>\n",
       "   </g>\n",
       "   <g id=\"text_11\">\n",
       "    <g clip-path=\"url(#p88da902ce0)\">\n",
       "     <!-- Raf -->\n",
       "     <g transform=\"translate(391.889272 182.658728)scale(0.12 -0.12)\">\n",
       "      <defs>\n",
       "       <path id=\"DejaVuSans-52\" d=\"M 2841 2188 \n",
       "Q 3044 2119 3236 1894 \n",
       "Q 3428 1669 3622 1275 \n",
       "L 4263 0 \n",
       "L 3584 0 \n",
       "L 2988 1197 \n",
       "Q 2756 1666 2539 1819 \n",
       "Q 2322 1972 1947 1972 \n",
       "L 1259 1972 \n",
       "L 1259 0 \n",
       "L 628 0 \n",
       "L 628 4666 \n",
       "L 2053 4666 \n",
       "Q 2853 4666 3247 4331 \n",
       "Q 3641 3997 3641 3322 \n",
       "Q 3641 2881 3436 2590 \n",
       "Q 3231 2300 2841 2188 \n",
       "z\n",
       "M 1259 4147 \n",
       "L 1259 2491 \n",
       "L 2053 2491 \n",
       "Q 2509 2491 2742 2702 \n",
       "Q 2975 2913 2975 3322 \n",
       "Q 2975 3731 2742 3939 \n",
       "Q 2509 4147 2053 4147 \n",
       "L 1259 4147 \n",
       "z\n",
       "\" transform=\"scale(0.015625)\"/>\n",
       "       <path id=\"DejaVuSans-61\" d=\"M 2194 1759 \n",
       "Q 1497 1759 1228 1600 \n",
       "Q 959 1441 959 1056 \n",
       "Q 959 750 1161 570 \n",
       "Q 1363 391 1709 391 \n",
       "Q 2188 391 2477 730 \n",
       "Q 2766 1069 2766 1631 \n",
       "L 2766 1759 \n",
       "L 2194 1759 \n",
       "z\n",
       "M 3341 1997 \n",
       "L 3341 0 \n",
       "L 2766 0 \n",
       "L 2766 531 \n",
       "Q 2569 213 2275 61 \n",
       "Q 1981 -91 1556 -91 \n",
       "Q 1019 -91 701 211 \n",
       "Q 384 513 384 1019 \n",
       "Q 384 1609 779 1909 \n",
       "Q 1175 2209 1959 2209 \n",
       "L 2766 2209 \n",
       "L 2766 2266 \n",
       "Q 2766 2663 2505 2880 \n",
       "Q 2244 3097 1772 3097 \n",
       "Q 1472 3097 1187 3025 \n",
       "Q 903 2953 641 2809 \n",
       "L 641 3341 \n",
       "Q 956 3463 1253 3523 \n",
       "Q 1550 3584 1831 3584 \n",
       "Q 2591 3584 2966 3190 \n",
       "Q 3341 2797 3341 1997 \n",
       "z\n",
       "\" transform=\"scale(0.015625)\"/>\n",
       "       <path id=\"DejaVuSans-66\" d=\"M 2375 4863 \n",
       "L 2375 4384 \n",
       "L 1825 4384 \n",
       "Q 1516 4384 1395 4259 \n",
       "Q 1275 4134 1275 3809 \n",
       "L 1275 3500 \n",
       "L 2222 3500 \n",
       "L 2222 3053 \n",
       "L 1275 3053 \n",
       "L 1275 0 \n",
       "L 697 0 \n",
       "L 697 3053 \n",
       "L 147 3053 \n",
       "L 147 3500 \n",
       "L 697 3500 \n",
       "L 697 3744 \n",
       "Q 697 4328 969 4595 \n",
       "Q 1241 4863 1831 4863 \n",
       "L 2375 4863 \n",
       "z\n",
       "\" transform=\"scale(0.015625)\"/>\n",
       "      </defs>\n",
       "      <use xlink:href=\"#DejaVuSans-52\"/>\n",
       "      <use xlink:href=\"#DejaVuSans-61\" x=\"67.232422\"/>\n",
       "      <use xlink:href=\"#DejaVuSans-66\" x=\"128.511719\"/>\n",
       "     </g>\n",
       "    </g>\n",
       "   </g>\n",
       "  </g>\n",
       " </g>\n",
       " <defs>\n",
       "  <clipPath id=\"p88da902ce0\">\n",
       "   <rect x=\"7.2\" y=\"7.2\" width=\"432\" height=\"288\"/>\n",
       "  </clipPath>\n",
       " </defs>\n",
       "</svg>\n"
      ],
      "text/plain": [
       "<Figure size 432x288 with 1 Axes>"
      ]
     },
     "metadata": {},
     "output_type": "display_data"
    },
    {
     "name": "stdout",
     "output_type": "stream",
     "text": [
      "SHD\n",
      "sachs_ccdr 27\n",
      "sachs_lingam 16\n",
      "sachs_dagGNN 16\n",
      "sachs_notears 20\n",
      "SID\n"
     ]
    }
   ],
   "source": [
    "true_g = get_trueg(dataset_name, nod_names)\n",
    "eval_algos(dataset_name, Graphs, true_g)"
   ]
  },
  {
   "cell_type": "code",
   "execution_count": null,
   "id": "fe1239db",
   "metadata": {},
   "outputs": [],
   "source": []
  }
 ],
 "metadata": {
  "kernelspec": {
   "display_name": "Python 3 (ipykernel)",
   "language": "python",
   "name": "python3"
  },
  "language_info": {
   "codemirror_mode": {
    "name": "ipython",
    "version": 3
   },
   "file_extension": ".py",
   "mimetype": "text/x-python",
   "name": "python",
   "nbconvert_exporter": "python",
   "pygments_lexer": "ipython3",
   "version": "3.9.9"
  }
 },
 "nbformat": 4,
 "nbformat_minor": 5
}
